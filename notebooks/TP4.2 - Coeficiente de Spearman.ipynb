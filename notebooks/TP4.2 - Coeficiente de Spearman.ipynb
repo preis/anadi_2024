{
 "cells": [
  {
   "cell_type": "markdown",
   "source": [
    "# Coeficiente de Spearman\n",
    "\n"
   ],
   "metadata": {
    "collapsed": false
   },
   "id": "2d64e386bbe3a027"
  },
  {
   "cell_type": "code",
   "execution_count": 17,
   "id": "initial_id",
   "metadata": {
    "collapsed": true,
    "ExecuteTime": {
     "end_time": "2024-03-26T17:35:21.155241Z",
     "start_time": "2024-03-26T17:35:20.652Z"
    }
   },
   "outputs": [],
   "source": [
    "import pandas as pd\n",
    "from scipy.stats import spearmanr"
   ]
  },
  {
   "cell_type": "code",
   "outputs": [],
   "source": [
    "notas = pd.read_csv(\"../ficheiros/Notas.txt\", sep=\"\\t\", on_bad_lines=\"warn\")"
   ],
   "metadata": {
    "collapsed": false,
    "ExecuteTime": {
     "end_time": "2024-03-26T17:34:21.472516Z",
     "start_time": "2024-03-26T17:34:21.468288Z"
    }
   },
   "id": "653c2c684c3f1d8e",
   "execution_count": 11
  },
  {
   "cell_type": "code",
   "outputs": [],
   "source": [
    "ordem_est=notas['Estatística'].unique()\n",
    "#\n",
    "ordem_cal=['A','B','C','D','E','F']"
   ],
   "metadata": {
    "collapsed": false,
    "ExecuteTime": {
     "end_time": "2024-03-26T17:34:27.729672Z",
     "start_time": "2024-03-26T17:34:27.726988Z"
    }
   },
   "id": "7b06ae6f8e68b5d4",
   "execution_count": 12
  },
  {
   "cell_type": "code",
   "outputs": [],
   "source": [
    "notas['Estatística']=pd.Categorical(\n",
    "notas['Estatística'],categories=ordem_est, ordered=True)\n",
    "#\n",
    "notas['Cálculo']=pd.Categorical(\n",
    "notas['Cálculo'],categories=ordem_cal, ordered=True)"
   ],
   "metadata": {
    "collapsed": false,
    "ExecuteTime": {
     "end_time": "2024-03-26T17:34:42.804420Z",
     "start_time": "2024-03-26T17:34:42.800750Z"
    }
   },
   "id": "44cbd53e06f3f1d2",
   "execution_count": 14
  },
  {
   "cell_type": "code",
   "outputs": [
    {
     "data": {
      "text/plain": "     Estatística Cálculo  Estat_Code  Calc_Code\n0      Excelente       A           0          0\n1      Excelente       A           0          0\n2      Excelente       C           0          2\n3      Muito Bom       C           1          2\n4      Muito Bom       C           1          2\n5      Muito Bom       D           1          3\n6      Muito Bom       E           1          4\n7            Bom       A           2          0\n8            Bom       B           2          1\n9            Bom       C           2          2\n10           Bom       C           2          2\n11           Bom       D           2          3\n12           Bom       D           2          3\n13    Suficiente       B           3          1\n14    Suficiente       B           3          1\n15    Suficiente       B           3          1\n16  Insuficiente       C           4          2\n17  Insuficiente       C           4          2\n18  Insuficiente       E           4          4\n19  Insuficiente       F           4          5",
      "text/html": "<div>\n<style scoped>\n    .dataframe tbody tr th:only-of-type {\n        vertical-align: middle;\n    }\n\n    .dataframe tbody tr th {\n        vertical-align: top;\n    }\n\n    .dataframe thead th {\n        text-align: right;\n    }\n</style>\n<table border=\"1\" class=\"dataframe\">\n  <thead>\n    <tr style=\"text-align: right;\">\n      <th></th>\n      <th>Estatística</th>\n      <th>Cálculo</th>\n      <th>Estat_Code</th>\n      <th>Calc_Code</th>\n    </tr>\n  </thead>\n  <tbody>\n    <tr>\n      <th>0</th>\n      <td>Excelente</td>\n      <td>A</td>\n      <td>0</td>\n      <td>0</td>\n    </tr>\n    <tr>\n      <th>1</th>\n      <td>Excelente</td>\n      <td>A</td>\n      <td>0</td>\n      <td>0</td>\n    </tr>\n    <tr>\n      <th>2</th>\n      <td>Excelente</td>\n      <td>C</td>\n      <td>0</td>\n      <td>2</td>\n    </tr>\n    <tr>\n      <th>3</th>\n      <td>Muito Bom</td>\n      <td>C</td>\n      <td>1</td>\n      <td>2</td>\n    </tr>\n    <tr>\n      <th>4</th>\n      <td>Muito Bom</td>\n      <td>C</td>\n      <td>1</td>\n      <td>2</td>\n    </tr>\n    <tr>\n      <th>5</th>\n      <td>Muito Bom</td>\n      <td>D</td>\n      <td>1</td>\n      <td>3</td>\n    </tr>\n    <tr>\n      <th>6</th>\n      <td>Muito Bom</td>\n      <td>E</td>\n      <td>1</td>\n      <td>4</td>\n    </tr>\n    <tr>\n      <th>7</th>\n      <td>Bom</td>\n      <td>A</td>\n      <td>2</td>\n      <td>0</td>\n    </tr>\n    <tr>\n      <th>8</th>\n      <td>Bom</td>\n      <td>B</td>\n      <td>2</td>\n      <td>1</td>\n    </tr>\n    <tr>\n      <th>9</th>\n      <td>Bom</td>\n      <td>C</td>\n      <td>2</td>\n      <td>2</td>\n    </tr>\n    <tr>\n      <th>10</th>\n      <td>Bom</td>\n      <td>C</td>\n      <td>2</td>\n      <td>2</td>\n    </tr>\n    <tr>\n      <th>11</th>\n      <td>Bom</td>\n      <td>D</td>\n      <td>2</td>\n      <td>3</td>\n    </tr>\n    <tr>\n      <th>12</th>\n      <td>Bom</td>\n      <td>D</td>\n      <td>2</td>\n      <td>3</td>\n    </tr>\n    <tr>\n      <th>13</th>\n      <td>Suficiente</td>\n      <td>B</td>\n      <td>3</td>\n      <td>1</td>\n    </tr>\n    <tr>\n      <th>14</th>\n      <td>Suficiente</td>\n      <td>B</td>\n      <td>3</td>\n      <td>1</td>\n    </tr>\n    <tr>\n      <th>15</th>\n      <td>Suficiente</td>\n      <td>B</td>\n      <td>3</td>\n      <td>1</td>\n    </tr>\n    <tr>\n      <th>16</th>\n      <td>Insuficiente</td>\n      <td>C</td>\n      <td>4</td>\n      <td>2</td>\n    </tr>\n    <tr>\n      <th>17</th>\n      <td>Insuficiente</td>\n      <td>C</td>\n      <td>4</td>\n      <td>2</td>\n    </tr>\n    <tr>\n      <th>18</th>\n      <td>Insuficiente</td>\n      <td>E</td>\n      <td>4</td>\n      <td>4</td>\n    </tr>\n    <tr>\n      <th>19</th>\n      <td>Insuficiente</td>\n      <td>F</td>\n      <td>4</td>\n      <td>5</td>\n    </tr>\n  </tbody>\n</table>\n</div>"
     },
     "execution_count": 16,
     "metadata": {},
     "output_type": "execute_result"
    }
   ],
   "source": [
    "notas['Estat_Code'] = notas['Estatística'].cat.codes\n",
    "#\n",
    "notas['Calc_Code'] = notas['Cálculo'].cat.codes\n",
    "notas.head(20)"
   ],
   "metadata": {
    "collapsed": false,
    "ExecuteTime": {
     "end_time": "2024-03-26T17:35:00.645297Z",
     "start_time": "2024-03-26T17:35:00.598788Z"
    }
   },
   "id": "56bc0c11ca3f1b92",
   "execution_count": 16
  },
  {
   "cell_type": "code",
   "outputs": [],
   "source": [
    "rho, p_value = spearmanr(notas['Estat_Code'], notas['Calc_Code'],alternative='greater')"
   ],
   "metadata": {
    "collapsed": false,
    "ExecuteTime": {
     "end_time": "2024-03-26T17:35:47.932783Z",
     "start_time": "2024-03-26T17:35:47.911255Z"
    }
   },
   "id": "6a242c584294a272",
   "execution_count": 18
  },
  {
   "cell_type": "code",
   "outputs": [
    {
     "name": "stdout",
     "output_type": "stream",
     "text": [
      "Coeficiente de correlacao de Spearman: 0.4546021025901462\n",
      "P-value do teste de Spearman: 0.011213002898764875\n"
     ]
    }
   ],
   "source": [
    "print('Coeficiente de correlacao de Spearman:',rho)\n",
    "print('P-value do teste de Spearman:',p_value)"
   ],
   "metadata": {
    "collapsed": false,
    "ExecuteTime": {
     "end_time": "2024-03-26T17:35:48.554209Z",
     "start_time": "2024-03-26T17:35:48.550197Z"
    }
   },
   "id": "b70fc833d26461df",
   "execution_count": 19
  },
  {
   "cell_type": "markdown",
   "source": [
    "## Conclusão\n",
    "Dado que o valor de prova é inferior a α = 0.05 Rejeita-se a hipótese nula. Ou seja, com um nível de significância de 5%, há evidência que há uma correlação positiva entre as classificações de cálculo e as classificações de estatística, com um coeficiente de correlação de Spearman de $\\rho$ = 0.4"
   ],
   "metadata": {
    "collapsed": false
   },
   "id": "a5033f1cbae7a6"
  },
  {
   "cell_type": "code",
   "outputs": [],
   "source": [],
   "metadata": {
    "collapsed": false
   },
   "id": "77bebb6412cf8dbe"
  }
 ],
 "metadata": {
  "kernelspec": {
   "display_name": "Python 3",
   "language": "python",
   "name": "python3"
  },
  "language_info": {
   "codemirror_mode": {
    "name": "ipython",
    "version": 2
   },
   "file_extension": ".py",
   "mimetype": "text/x-python",
   "name": "python",
   "nbconvert_exporter": "python",
   "pygments_lexer": "ipython2",
   "version": "2.7.6"
  }
 },
 "nbformat": 4,
 "nbformat_minor": 5
}
