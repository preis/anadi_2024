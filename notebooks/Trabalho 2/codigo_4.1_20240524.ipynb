{
 "cells": [
  {
   "cell_type": "markdown",
   "id": "3c07b9d890a4cfe",
   "metadata": {},
   "source": [
    "# Trabalho 2\n",
    "\n",
    "## 4.1\n",
    "\n",
    "### Imports"
   ]
  },
  {
   "cell_type": "code",
   "id": "1caca8c293aff04f",
   "metadata": {
    "ExecuteTime": {
     "end_time": "2024-05-26T15:24:42.442943Z",
     "start_time": "2024-05-26T15:24:42.384741Z"
    }
   },
   "source": [
    "import warnings\n",
    "\n",
    "import matplotlib.pyplot as plt\n",
    "import numpy as np\n",
    "import pandas as pd\n",
    "import seaborn as sns\n",
    "from sklearn.linear_model import LinearRegression\n",
    "from sklearn.model_selection import train_test_split\n",
    "from sklearn.preprocessing import LabelEncoder, MinMaxScaler\n",
    "from sklearn.tree import DecisionTreeRegressor\n",
    "from sklearn.neural_network import MLPRegressor"
   ],
   "outputs": [],
   "execution_count": 47
  },
  {
   "cell_type": "markdown",
   "id": "1d67d849ccbd21d0",
   "metadata": {},
   "source": [
    "### Variáveis"
   ]
  },
  {
   "cell_type": "code",
   "id": "999249d88bf8fd19",
   "metadata": {},
   "source": [
    "ficheiro = \"../../ficheiros/Trabalho 2/Dados_Trabalho_TP2.csv\"\n",
    "colunas_classes_binarias = ['Genero', 'Historico_obesidade_familiar', 'FCCAC', 'Fumador', 'MCC']  # Colunas de valores binários\n",
    "colunas_classes_dummies = ['CCER', 'CBA', 'TRANS']\n"
   ],
   "outputs": [],
   "execution_count": null
  },
  {
   "cell_type": "markdown",
   "id": "99f397086026cebf",
   "metadata": {},
   "source": [
    "# Funções auxiliares"
   ]
  },
  {
   "cell_type": "code",
   "id": "1cd2207c25f33cc8",
   "metadata": {},
   "source": [
    "def titulo(texto: str):\n",
    "    print(f\"\\033[21;30;44m{texto}\\033[0m\")\n",
    "\n",
    "\n",
    "def etiqueta_e_valor(etiqueta: str, valor: str = \"\"):\n",
    "    print(f\"\\033[0;94m{etiqueta}: \\033[1;94m{valor}\\033[0m\")\n",
    "\n",
    "\n",
    "def texto(texto: str, cor=\"94\"):\n",
    "    print(f\"\\033[0;{cor}m{texto}\\033[0m\")\n",
    "\n",
    "\n",
    "def undersplit(texto):\n",
    "    return \" \".join(texto.split(\"_\"))\n",
    "\n",
    "\n",
    "def histograma(\n",
    "        dados: pd.Series,\n",
    "        grupos: int = 20,\n",
    "        kde: bool = True,\n",
    "        size_x: int = 4,\n",
    "        size_y: int = 4,\n",
    "        titulo: str = \"\",\n",
    "        etiqueta_x: str = \"\",\n",
    "        etiqueta_y: str = \"\",\n",
    "        color: str = \"skyblue\",\n",
    "        edgecolor: str = \"black\",\n",
    "):\n",
    "    \"\"\"Gera um histograma de forma isolada.\n",
    "    \n",
    "    A dimensão final do gráfico é controlada pela relação entre os valores size_x e size_y.\n",
    "    \"\"\"\n",
    "    hist_fig, hist_axes = plt.subplots(figsize=(size_x, size_y))\n",
    "    sns.histplot(dados, bins=grupos, kde=kde, color=color, edgecolor=edgecolor)\n",
    "    hist_axes.set_title(titulo)\n",
    "    hist_axes.set_xlabel(etiqueta_x)\n",
    "    hist_axes.set_ylabel(etiqueta_y)\n",
    "    plt.tight_layout()\n",
    "\n",
    "\n",
    "def tarte(\n",
    "        dados: pd.Series,\n",
    "        size_x: int = 4,\n",
    "        size_y: int = 4,\n",
    "        autopct=\"%.2f%%\",\n",
    "        titulo: str = \"\",\n",
    "        **kwargs,\n",
    "):\n",
    "    pie_fig, pie_axes = plt.subplots(figsize=(size_x, size_y))\n",
    "    pie_axes.pie(\n",
    "        dados,\n",
    "        autopct=autopct,\n",
    "        **kwargs\n",
    "    )\n",
    "    pie_fig.suptitle(titulo)\n",
    "    return pie_fig, pie_axes\n",
    "\n"
   ],
   "outputs": [],
   "execution_count": null
  },
  {
   "cell_type": "markdown",
   "id": "bfcdc4e231373833",
   "metadata": {},
   "source": [
    "### Inicializações"
   ]
  },
  {
   "cell_type": "code",
   "id": "347c3de631644810",
   "metadata": {},
   "source": [
    "warnings.filterwarnings(\"ignore\")  # Desabilitar warnbings.\n",
    "plt.style.use(\n",
    "    \"style/estilo.mplstyle\")  # Garantir que se utiliza um estilo definido centralmente e comum a todos os gráficos.\n",
    "label_encoder = LabelEncoder()"
   ],
   "outputs": [],
   "execution_count": null
  },
  {
   "cell_type": "markdown",
   "id": "dac229ac7f944a7f",
   "metadata": {},
   "source": [
    "### 4.1.1\n",
    "\n",
    "#### Leitura de dados\n",
    "\n",
    "Como os dados lidos não são em grande quantidade, vamos criar uma cópia do **dataset** para trabalharmos nesta, para poder ter acesso aos \"originais\" sem ter de os ler novamente do ficheiro.\n",
    "Por exemplo em alguns dos gráficos, a utilização das *classes* (valores originais) como *etiqueta* é mais elucidativa que usar os valores codificados.  \n",
    "\n",
    "Na análise ao **dataset** verifica-se que a primeira coluna, identificada como \"Unnamed\" tem o indíce de cada registo de dados, algo que nos é fornecido pelo **pandas**, e portanto podemos eliminar esta coluna. \n",
    "Esta operação estaria incluída nas tarefas do ponto **4.1.4**, mas realizar neste ponto facilita a criação dos gráficos no próximo ponto."
   ]
  },
  {
   "cell_type": "code",
   "id": "initial_id",
   "metadata": {},
   "source": [
    "dados_lidos = pd.read_csv(ficheiro)\n",
    "dados_trabalho = dados_lidos.copy()\n",
    "dados_trabalho = dados_trabalho.drop(columns=dados_lidos.columns[0], axis=1)"
   ],
   "outputs": [],
   "execution_count": null
  },
  {
   "cell_type": "markdown",
   "id": "ae36c31929db9ea4",
   "metadata": {},
   "source": [
    "### Dimensão dos dados"
   ]
  },
  {
   "cell_type": "code",
   "id": "5ec154d388bf68f4",
   "metadata": {},
   "source": [
    "nr_linhas, nr_colunas = dados_trabalho.shape\n",
    "titulo(\"Dimensão dos dados\")\n",
    "etiqueta_e_valor(\"Número de linhas:\", nr_linhas)\n",
    "etiqueta_e_valor(\"Número de colunas:\", nr_colunas)"
   ],
   "outputs": [],
   "execution_count": null
  },
  {
   "cell_type": "markdown",
   "id": "34891a0d48957781",
   "metadata": {},
   "source": [
    "### Análise do dataset\n",
    "\n",
    "#### Atributos\n",
    "\n",
    "Descrição dos atributos, segundo a documentação. \n",
    "\n",
    "| Sigla | Descrição                                                         |\n",
    "|-------|-------------------------------------------------------------------|\n",
    "| FCCAC | Frequência de Consumo de Comida Altamente Calórica                | \n",
    "| FCV   | Frequência de Consumo de Vegetais                                 | \n",
    "| NRP   | Número de Refeições Principais                                    |\n",
    "| CCER  | Consumo de Comida Entre Refeições                                 |\n",
    "| CA    | Consumo de Água                                                   |\n",
    "| CBA   | Consumo de Bebidas Alcoólicas                                     |\n",
    "| MCC   | Monitorização do Consumo Calorias Histórico de Obesidade Familiar | "
   ]
  },
  {
   "cell_type": "markdown",
   "id": "ee9eca7af78b4d41",
   "metadata": {},
   "source": [
    "#### Informação sobre o dataset\n",
    "\n",
    "A função ``info()`` apresenta a informação das colunas (atríbutos): Index da coluna, nome (se tiver, quantidade de registos *não nulos* e o tipo de dados de cada um deles."
   ]
  },
  {
   "cell_type": "code",
   "id": "6f50201dead196b0",
   "metadata": {},
   "source": "dados_trabalho.info()",
   "outputs": [],
   "execution_count": null
  },
  {
   "cell_type": "markdown",
   "id": "181b27ac6367cc5a",
   "metadata": {},
   "source": [
    "#### Amostra do dataset\n",
    "\n",
    "Para uma rápida visualização dos dados, temos as funções ``head(n)`` e ``tail(n)`` que nos dão *n* linhas, por defeito 5, respetivamente do início ou fim do **dataset**."
   ]
  },
  {
   "cell_type": "code",
   "id": "4e985ac6dc30350",
   "metadata": {},
   "source": "dados_trabalho.head()",
   "outputs": [],
   "execution_count": null
  },
  {
   "cell_type": "code",
   "id": "65792ee2fd06444",
   "metadata": {},
   "source": "dados_trabalho.tail()",
   "outputs": [],
   "execution_count": null
  },
  {
   "cell_type": "markdown",
   "id": "6ad8558ec92b8c9a",
   "metadata": {},
   "source": [
    "#### Descrição do dados do dateset\n",
    "\n",
    "A função ``describe()`` analisa os dados do **dataset** e retorna um conjunto de estatísticas descritivas."
   ]
  },
  {
   "cell_type": "code",
   "id": "d0a067b469ad2167",
   "metadata": {},
   "source": "dados_trabalho.describe(include=\"all\")",
   "outputs": [],
   "execution_count": null
  },
  {
   "cell_type": "markdown",
   "id": "dcf3001cf5723fc5",
   "metadata": {},
   "source": [
    "#### Identificar as classes da coluna Label"
   ]
  },
  {
   "cell_type": "code",
   "id": "159d5cafd996152b",
   "metadata": {},
   "source": [
    "titulo(\"Classes da coluna \\033[1mLabel\\033[0m\")\n",
    "for classe in dados_trabalho['Label'].unique():\n",
    "    texto(classe)"
   ],
   "outputs": [],
   "execution_count": null
  },
  {
   "cell_type": "markdown",
   "id": "6834fcc94e86962b",
   "metadata": {},
   "source": [
    "### Identificar as classes da coluna CCER"
   ]
  },
  {
   "cell_type": "code",
   "id": "ee8c88de7bbd8c2a",
   "metadata": {},
   "source": [
    "titulo(\"Classes da coluna \\033[1mCCER\\033[0m\")\n",
    "for classe in dados_trabalho['CCER'].unique():\n",
    "    texto(classe)"
   ],
   "outputs": [],
   "execution_count": null
  },
  {
   "cell_type": "markdown",
   "id": "ba20456b7024012a",
   "metadata": {},
   "source": [
    "#### identificar classes da coluna TRANS"
   ]
  },
  {
   "cell_type": "code",
   "id": "21d988f474c0243a",
   "metadata": {},
   "source": [
    "titulo(\"Classes da coluna \\033[1mTRANS\\033[0m\")\n",
    "for classe in dados_trabalho['TRANS'].unique():\n",
    "    texto(classe)\n"
   ],
   "outputs": [],
   "execution_count": null
  },
  {
   "cell_type": "markdown",
   "id": "c000d0ede303db64",
   "metadata": {},
   "source": [
    "### 4.1.2\n",
    "\n"
   ]
  },
  {
   "cell_type": "markdown",
   "id": "78295df5c28c48f6",
   "metadata": {},
   "source": [
    "#### Derivar atributo (IMC)\n",
    "\n",
    "Depois de criar o novo atributo, podemos usar qualquer uma das funções que foram utilizadas para analisar o **dataset**, neste caso tratando-se de valores numéricos consideramos que a que a mais útil é a ``describe()``.\n",
    "\n",
    "Podemos também remover as colunas utilizadas para este cálculo uma vez que não vão ser necessárias.\n",
    "\n",
    "Faz sentido alguma limpeza do **Dataset** neste momento, pois vai facilitar o nosso trabalho. "
   ]
  },
  {
   "cell_type": "code",
   "id": "d0b5810c02679cf8",
   "metadata": {},
   "source": [
    "dados_trabalho['IMC'] = dados_trabalho['Peso'] / (dados_trabalho['Altura'] * dados_trabalho['Altura'])\n",
    "dados_trabalho.drop(columns=['Peso', 'Altura'], inplace=True)\n"
   ],
   "outputs": [],
   "execution_count": null
  },
  {
   "metadata": {},
   "cell_type": "markdown",
   "source": "#### Rever o **dataset** após as alterações",
   "id": "2e45e938b4e68000"
  },
  {
   "cell_type": "code",
   "id": "60e72b1b7849649b",
   "metadata": {},
   "source": "dados_trabalho.describe(include=\"all\")",
   "outputs": [],
   "execution_count": null
  },
  {
   "cell_type": "markdown",
   "id": "689e5b8d4bddcab9",
   "metadata": {},
   "source": [
    "Finalmente, usamos novamente a função ``info()`` para confirmar as *series* com que vamos trabalhar de seguida. "
   ]
  },
  {
   "cell_type": "code",
   "id": "7e6688980181c909",
   "metadata": {},
   "source": [
    "dados_trabalho.info()"
   ],
   "outputs": [],
   "execution_count": null
  },
  {
   "cell_type": "markdown",
   "id": "8a62b70cf6fa96c7",
   "metadata": {},
   "source": [
    "### 4.1.3 Analisar os atributos do conjunto de dados mais significativos, usando gráficos, ...\n"
   ]
  },
  {
   "cell_type": "markdown",
   "id": "b8abba5672aaa85c",
   "metadata": {},
   "source": [
    "#### Histogramas\n",
    "\n",
    "Com estes gráficos podemos ver a distribuição dos valores por \"segmentos\" de valores."
   ]
  },
  {
   "cell_type": "code",
   "id": "1719e0618ab6f006",
   "metadata": {},
   "source": [
    "sns.set(style=\"whitegrid\")\n",
    "hist_columns_plot = ['FCV', 'NRP', 'CA', 'FAF', 'TUDE', 'IMC']\n",
    "\n",
    "for idx, etiqueta_serie in enumerate(hist_columns_plot):\n",
    "    histograma(\n",
    "        dados=dados_trabalho[etiqueta_serie],\n",
    "        grupos=20,\n",
    "        kde=True,\n",
    "        size_x=10,\n",
    "        size_y=4,\n",
    "        titulo=f\"Distribuição de {etiqueta_serie}\",\n",
    "        etiqueta_x=etiqueta_serie,\n",
    "        etiqueta_y=\"Frequência\",\n",
    "        color=\"skyblue\",\n",
    "        edgecolor=\"black\",\n",
    "    )\n"
   ],
   "outputs": [],
   "execution_count": null
  },
  {
   "cell_type": "markdown",
   "id": "79f70a26a6b761be",
   "metadata": {},
   "source": [
    "#### Pie Charts\n",
    "\n",
    "A função ``tarte()`` retorna a ``Fig`` e o ``Axes`` para se poder personalizar mais o gráfico.\n",
    "É também possível passar parâmetros adicionais (*kwargs*), os quais serão usados na invocação de ``pie()``. "
   ]
  },
  {
   "cell_type": "code",
   "id": "871e3250e76c5cc3",
   "metadata": {},
   "source": [
    "tarte(\n",
    "    dados=dados_trabalho[\"Historico_obesidade_familiar\"].value_counts(),\n",
    "    size_x=4,\n",
    "    size_y=4,\n",
    "    titulo=\"Histórico obesidade familiar\",\n",
    "    labels=dados_lidos[\"Historico_obesidade_familiar\"].unique(),\n",
    ")\n",
    "\n",
    "tarte(\n",
    "    dados=dados_trabalho[\"FCCAC\"].value_counts(),\n",
    "    size_x=5,\n",
    "    size_y=5,\n",
    "    titulo=\"Frequência de Consumo de Comida Altamente Calórica\",\n",
    "    labels=dados_lidos[\"FCCAC\"].unique(),\n",
    ")\n",
    "\n",
    "tarte(\n",
    "    dados=dados_trabalho[\"Fumador\"].value_counts(),\n",
    "    size_x=5,\n",
    "    size_y=5,\n",
    "    titulo=\"Fumador\",\n",
    "    labels=dados_lidos[\"Fumador\"].unique(),\n",
    ")\n",
    "\n",
    "tarte(\n",
    "    dados=dados_trabalho[\"MCC\"].value_counts(),\n",
    "    size_x=5,\n",
    "    size_y=5,\n",
    "    titulo=\"Monitorização do Consumo Calorias\",\n",
    "    labels=dados_lidos[\"MCC\"].unique(),\n",
    ")\n",
    "\n",
    "tarte(\n",
    "    dados=dados_trabalho[\"CBA\"].value_counts(),\n",
    "    size_x=5,\n",
    "    size_y=5,\n",
    "    titulo=\"Consumo de Bebidas Alcoólicas\",\n",
    "    labels=dados_lidos[\"CBA\"].unique(),\n",
    ")\n",
    "\n",
    "tarte(\n",
    "    dados=dados_trabalho[\"TRANS\"].value_counts(),\n",
    "    size_x=5,\n",
    "    size_y=5,\n",
    "    titulo=\"Transporte\",\n",
    "    labels=[undersplit(texto) for texto in dados_lidos[\"TRANS\"].unique()],\n",
    ")\n",
    "\n",
    "tarte(\n",
    "    dados=dados_trabalho[\"Label\"].value_counts(),\n",
    "    size_x=5,\n",
    "    size_y=5,\n",
    "    titulo=\"Classificação do peso\",\n",
    "    labels=[undersplit(texto) for texto in dados_lidos[\"Label\"].unique()],\n",
    ")"
   ],
   "outputs": [],
   "execution_count": null
  },
  {
   "cell_type": "markdown",
   "id": "43a0d1115b5d3f1",
   "metadata": {},
   "source": [
    "#### visualização de outliers"
   ]
  },
  {
   "cell_type": "code",
   "id": "60faff2f5ad64df1",
   "metadata": {},
   "source": [
    "boxplots_colunas = [\"IMC\", \"Idade\"]\n",
    "\n",
    "for coluna in boxplots_colunas:\n",
    "    if (dados_trabalho[coluna].dtype != 'object'):\n",
    "        dados_trabalho.boxplot(\n",
    "            column=[coluna],\n",
    "            by=\"Label\",\n",
    "            grid=False,\n",
    "            figsize=(8, 6),\n",
    "            return_type=\"dict\",\n",
    "            rot=90,\n",
    "        )\n",
    "        plt.title(coluna)\n",
    "\n",
    "plt.show()"
   ],
   "outputs": [],
   "execution_count": null
  },
  {
   "cell_type": "markdown",
   "id": "1196a0a1e322149c",
   "metadata": {},
   "source": [
    "### 4.1.4\n",
    "\n",
    "#### a) Identificação de NAN e \"limpar\" o dataset."
   ]
  },
  {
   "metadata": {},
   "cell_type": "markdown",
   "source": "Verificar se existem valores nulos.",
   "id": "4f6480a8e737dfd1"
  },
  {
   "cell_type": "code",
   "id": "fd4d8a24c0e9ef29",
   "metadata": {},
   "source": "dados_trabalho[dados_trabalho.isnull().any(axis=1)]",
   "outputs": [],
   "execution_count": null
  },
  {
   "metadata": {},
   "cell_type": "markdown",
   "source": "Verificar se existem valores NaN",
   "id": "4a0140b227ebd89b"
  },
  {
   "metadata": {},
   "cell_type": "code",
   "source": "dados_trabalho[dados_trabalho.isna().any(axis=1)]",
   "id": "3513128921632150",
   "outputs": [],
   "execution_count": null
  },
  {
   "cell_type": "markdown",
   "id": "42169292519023c8",
   "metadata": {},
   "source": [
    "#### Transformar classes em valores\n",
    "\n",
    "No mesmo passo em que fazemos a conversão, mostramos os valores finais.\n",
    "Vamos fazer esta operação para as colunas em que apenas temos 2 classes, para as restantes usamos o ``get_dummies``:\n",
    "\n",
    "genero, historico_obesidade_familiar, FCCAC, "
   ]
  },
  {
   "cell_type": "code",
   "id": "d51d70cb6376e1b",
   "metadata": {},
   "source": [
    "for coluna in colunas_classes_binarias:\n",
    "    dados_trabalho[coluna] = label_encoder.fit_transform(dados_trabalho[coluna].values)\n",
    "    etiqueta_e_valor(coluna, dados_trabalho[coluna].unique())"
   ],
   "outputs": [],
   "execution_count": null
  },
  {
   "metadata": {},
   "cell_type": "markdown",
   "source": [
    "#### Notas sobre o pré-processamento dos dados\n",
    "\n",
    "Não foram encontrados valores nulos, nem valor **NaN**, não sendo por isso necessário fazer tratamento adicionais ao dados neste contexto. \n",
    "\n",
    "Algum do trabalho de limpeza foi realizado do ponto 4.1.2. \n",
    "\n",
    "TODO: Comentário sobre dados inconsistentes e outliers\n",
    "TODO: Selecionar atributos (?)\n",
    "TODO: Normalização "
   ],
   "id": "b605ad322e8d4d3d"
  },
  {
   "metadata": {},
   "cell_type": "markdown",
   "source": [
    "#### Normalização\n",
    "\n",
    "A normalização consiste em transformar o intervalo de valores de um atributo em valores compreendidos entre 0 e 1, para eliminar os efeitos da escala utilizada.\n",
    "\n",
    "Podemos utilizar o ``MinMaxScaler``. Apenas as colunas de valores numéricos devem ser normalizadas:\n",
    "\n",
    "Idade, FCV, NRP, CA, FAF, TUDE, IMC\n",
    " "
   ],
   "id": "6bd3b88b922718fd"
  },
  {
   "metadata": {},
   "cell_type": "code",
   "source": [
    "colunas_numericas = [\"Idade\", \"FCV\", \"NRP\", \"CA\", \"FAF\", \"TUDE\", \"IMC\"]\n",
    "scaler = MinMaxScaler()\n",
    "dados_trabalho.loc[:, colunas_numericas] = scaler.fit_transform(dados_trabalho.loc[:, colunas_numericas])\n",
    "dados_trabalho"
   ],
   "id": "fe904bbb35a863d4",
   "outputs": [],
   "execution_count": null
  },
  {
   "metadata": {},
   "cell_type": "markdown",
   "source": [
    "#### Gerar Dummies para as colunas de classes\n",
    "\n",
    "\n",
    "\n",
    "CCER, CBA e TRANS"
   ],
   "id": "39db1f0aa93595b4"
  },
  {
   "metadata": {
    "ExecuteTime": {
     "end_time": "2024-05-26T15:05:58.482557Z",
     "start_time": "2024-05-26T15:05:58.464219Z"
    }
   },
   "cell_type": "code",
   "source": [
    "dados_trabalho = pd.get_dummies(dados_trabalho, dtype=float)\n",
    "dados_trabalho"
   ],
   "id": "90c201858b08757e",
   "outputs": [
    {
     "data": {
      "text/plain": [
       "      Genero     Idade  Historico_obesidade_familiar  FCCAC  FCV       NRP  \\\n",
       "0          0  0.148936                             1      0  0.5  0.666667   \n",
       "1          0  0.148936                             1      0  1.0  0.666667   \n",
       "2          1  0.191489                             1      0  0.5  0.666667   \n",
       "3          1  0.276596                             0      0  1.0  0.666667   \n",
       "4          1  0.170213                             0      0  0.5  0.000000   \n",
       "...      ...       ...                           ...    ...  ...       ...   \n",
       "2106       0  0.148443                             1      1  1.0  0.666667   \n",
       "2107       0  0.169850                             1      1  1.0  0.666667   \n",
       "2108       0  0.181362                             1      1  1.0  0.666667   \n",
       "2109       0  0.220467                             1      1  1.0  0.666667   \n",
       "2110       0  0.205632                             1      1  1.0  0.666667   \n",
       "\n",
       "      CCER  Fumador        CA  MCC  ...       IMC  Label_Excesso_Peso_Grau_I  \\\n",
       "0        2        0  0.500000    0  ...  0.301162                        0.0   \n",
       "1        2        1  1.000000    1  ...  0.297240                        0.0   \n",
       "2        2        0  0.500000    0  ...  0.284736                        0.0   \n",
       "3        2        0  0.500000    0  ...  0.366359                        1.0   \n",
       "4        2        0  0.500000    0  ...  0.405778                        0.0   \n",
       "...    ...      ...       ...  ...  ...       ...                        ...   \n",
       "2106     2        0  0.364070    0  ...  0.843697                        0.0   \n",
       "2107     2        0  0.502565    0  ...  0.813032                        0.0   \n",
       "2108     2        0  0.527097    0  ...  0.807793                        0.0   \n",
       "2109     2        0  0.926170    0  ...  0.821749                        0.0   \n",
       "2110     2        0  0.931757    0  ...  0.823674                        0.0   \n",
       "\n",
       "      Label_Excesso_Peso_Grau_II  Label_Magreza_Grau_I  Label_Magreza_Grau_II  \\\n",
       "0                            0.0                   0.0                    0.0   \n",
       "1                            0.0                   0.0                    0.0   \n",
       "2                            0.0                   0.0                    0.0   \n",
       "3                            0.0                   0.0                    0.0   \n",
       "4                            1.0                   0.0                    0.0   \n",
       "...                          ...                   ...                    ...   \n",
       "2106                         0.0                   0.0                    0.0   \n",
       "2107                         0.0                   0.0                    0.0   \n",
       "2108                         0.0                   0.0                    0.0   \n",
       "2109                         0.0                   0.0                    0.0   \n",
       "2110                         0.0                   0.0                    0.0   \n",
       "\n",
       "      Label_Magreza_Grau_III  Label_Obesidade_Moderada  \\\n",
       "0                        0.0                       0.0   \n",
       "1                        0.0                       0.0   \n",
       "2                        0.0                       0.0   \n",
       "3                        0.0                       0.0   \n",
       "4                        0.0                       0.0   \n",
       "...                      ...                       ...   \n",
       "2106                     0.0                       0.0   \n",
       "2107                     0.0                       0.0   \n",
       "2108                     0.0                       0.0   \n",
       "2109                     0.0                       0.0   \n",
       "2110                     0.0                       0.0   \n",
       "\n",
       "      Label_Obesidade_Mórbida  Label_Obesidade_Severa  Label_Peso_Normal  \n",
       "0                         0.0                     0.0                1.0  \n",
       "1                         0.0                     0.0                1.0  \n",
       "2                         0.0                     0.0                1.0  \n",
       "3                         0.0                     0.0                0.0  \n",
       "4                         0.0                     0.0                0.0  \n",
       "...                       ...                     ...                ...  \n",
       "2106                      1.0                     0.0                0.0  \n",
       "2107                      1.0                     0.0                0.0  \n",
       "2108                      1.0                     0.0                0.0  \n",
       "2109                      1.0                     0.0                0.0  \n",
       "2110                      1.0                     0.0                0.0  \n",
       "\n",
       "[2111 rows x 24 columns]"
      ],
      "text/html": [
       "<div>\n",
       "<style scoped>\n",
       "    .dataframe tbody tr th:only-of-type {\n",
       "        vertical-align: middle;\n",
       "    }\n",
       "\n",
       "    .dataframe tbody tr th {\n",
       "        vertical-align: top;\n",
       "    }\n",
       "\n",
       "    .dataframe thead th {\n",
       "        text-align: right;\n",
       "    }\n",
       "</style>\n",
       "<table border=\"1\" class=\"dataframe\">\n",
       "  <thead>\n",
       "    <tr style=\"text-align: right;\">\n",
       "      <th></th>\n",
       "      <th>Genero</th>\n",
       "      <th>Idade</th>\n",
       "      <th>Historico_obesidade_familiar</th>\n",
       "      <th>FCCAC</th>\n",
       "      <th>FCV</th>\n",
       "      <th>NRP</th>\n",
       "      <th>CCER</th>\n",
       "      <th>Fumador</th>\n",
       "      <th>CA</th>\n",
       "      <th>MCC</th>\n",
       "      <th>...</th>\n",
       "      <th>IMC</th>\n",
       "      <th>Label_Excesso_Peso_Grau_I</th>\n",
       "      <th>Label_Excesso_Peso_Grau_II</th>\n",
       "      <th>Label_Magreza_Grau_I</th>\n",
       "      <th>Label_Magreza_Grau_II</th>\n",
       "      <th>Label_Magreza_Grau_III</th>\n",
       "      <th>Label_Obesidade_Moderada</th>\n",
       "      <th>Label_Obesidade_Mórbida</th>\n",
       "      <th>Label_Obesidade_Severa</th>\n",
       "      <th>Label_Peso_Normal</th>\n",
       "    </tr>\n",
       "  </thead>\n",
       "  <tbody>\n",
       "    <tr>\n",
       "      <th>0</th>\n",
       "      <td>0</td>\n",
       "      <td>0.148936</td>\n",
       "      <td>1</td>\n",
       "      <td>0</td>\n",
       "      <td>0.5</td>\n",
       "      <td>0.666667</td>\n",
       "      <td>2</td>\n",
       "      <td>0</td>\n",
       "      <td>0.500000</td>\n",
       "      <td>0</td>\n",
       "      <td>...</td>\n",
       "      <td>0.301162</td>\n",
       "      <td>0.0</td>\n",
       "      <td>0.0</td>\n",
       "      <td>0.0</td>\n",
       "      <td>0.0</td>\n",
       "      <td>0.0</td>\n",
       "      <td>0.0</td>\n",
       "      <td>0.0</td>\n",
       "      <td>0.0</td>\n",
       "      <td>1.0</td>\n",
       "    </tr>\n",
       "    <tr>\n",
       "      <th>1</th>\n",
       "      <td>0</td>\n",
       "      <td>0.148936</td>\n",
       "      <td>1</td>\n",
       "      <td>0</td>\n",
       "      <td>1.0</td>\n",
       "      <td>0.666667</td>\n",
       "      <td>2</td>\n",
       "      <td>1</td>\n",
       "      <td>1.000000</td>\n",
       "      <td>1</td>\n",
       "      <td>...</td>\n",
       "      <td>0.297240</td>\n",
       "      <td>0.0</td>\n",
       "      <td>0.0</td>\n",
       "      <td>0.0</td>\n",
       "      <td>0.0</td>\n",
       "      <td>0.0</td>\n",
       "      <td>0.0</td>\n",
       "      <td>0.0</td>\n",
       "      <td>0.0</td>\n",
       "      <td>1.0</td>\n",
       "    </tr>\n",
       "    <tr>\n",
       "      <th>2</th>\n",
       "      <td>1</td>\n",
       "      <td>0.191489</td>\n",
       "      <td>1</td>\n",
       "      <td>0</td>\n",
       "      <td>0.5</td>\n",
       "      <td>0.666667</td>\n",
       "      <td>2</td>\n",
       "      <td>0</td>\n",
       "      <td>0.500000</td>\n",
       "      <td>0</td>\n",
       "      <td>...</td>\n",
       "      <td>0.284736</td>\n",
       "      <td>0.0</td>\n",
       "      <td>0.0</td>\n",
       "      <td>0.0</td>\n",
       "      <td>0.0</td>\n",
       "      <td>0.0</td>\n",
       "      <td>0.0</td>\n",
       "      <td>0.0</td>\n",
       "      <td>0.0</td>\n",
       "      <td>1.0</td>\n",
       "    </tr>\n",
       "    <tr>\n",
       "      <th>3</th>\n",
       "      <td>1</td>\n",
       "      <td>0.276596</td>\n",
       "      <td>0</td>\n",
       "      <td>0</td>\n",
       "      <td>1.0</td>\n",
       "      <td>0.666667</td>\n",
       "      <td>2</td>\n",
       "      <td>0</td>\n",
       "      <td>0.500000</td>\n",
       "      <td>0</td>\n",
       "      <td>...</td>\n",
       "      <td>0.366359</td>\n",
       "      <td>1.0</td>\n",
       "      <td>0.0</td>\n",
       "      <td>0.0</td>\n",
       "      <td>0.0</td>\n",
       "      <td>0.0</td>\n",
       "      <td>0.0</td>\n",
       "      <td>0.0</td>\n",
       "      <td>0.0</td>\n",
       "      <td>0.0</td>\n",
       "    </tr>\n",
       "    <tr>\n",
       "      <th>4</th>\n",
       "      <td>1</td>\n",
       "      <td>0.170213</td>\n",
       "      <td>0</td>\n",
       "      <td>0</td>\n",
       "      <td>0.5</td>\n",
       "      <td>0.000000</td>\n",
       "      <td>2</td>\n",
       "      <td>0</td>\n",
       "      <td>0.500000</td>\n",
       "      <td>0</td>\n",
       "      <td>...</td>\n",
       "      <td>0.405778</td>\n",
       "      <td>0.0</td>\n",
       "      <td>1.0</td>\n",
       "      <td>0.0</td>\n",
       "      <td>0.0</td>\n",
       "      <td>0.0</td>\n",
       "      <td>0.0</td>\n",
       "      <td>0.0</td>\n",
       "      <td>0.0</td>\n",
       "      <td>0.0</td>\n",
       "    </tr>\n",
       "    <tr>\n",
       "      <th>...</th>\n",
       "      <td>...</td>\n",
       "      <td>...</td>\n",
       "      <td>...</td>\n",
       "      <td>...</td>\n",
       "      <td>...</td>\n",
       "      <td>...</td>\n",
       "      <td>...</td>\n",
       "      <td>...</td>\n",
       "      <td>...</td>\n",
       "      <td>...</td>\n",
       "      <td>...</td>\n",
       "      <td>...</td>\n",
       "      <td>...</td>\n",
       "      <td>...</td>\n",
       "      <td>...</td>\n",
       "      <td>...</td>\n",
       "      <td>...</td>\n",
       "      <td>...</td>\n",
       "      <td>...</td>\n",
       "      <td>...</td>\n",
       "      <td>...</td>\n",
       "    </tr>\n",
       "    <tr>\n",
       "      <th>2106</th>\n",
       "      <td>0</td>\n",
       "      <td>0.148443</td>\n",
       "      <td>1</td>\n",
       "      <td>1</td>\n",
       "      <td>1.0</td>\n",
       "      <td>0.666667</td>\n",
       "      <td>2</td>\n",
       "      <td>0</td>\n",
       "      <td>0.364070</td>\n",
       "      <td>0</td>\n",
       "      <td>...</td>\n",
       "      <td>0.843697</td>\n",
       "      <td>0.0</td>\n",
       "      <td>0.0</td>\n",
       "      <td>0.0</td>\n",
       "      <td>0.0</td>\n",
       "      <td>0.0</td>\n",
       "      <td>0.0</td>\n",
       "      <td>1.0</td>\n",
       "      <td>0.0</td>\n",
       "      <td>0.0</td>\n",
       "    </tr>\n",
       "    <tr>\n",
       "      <th>2107</th>\n",
       "      <td>0</td>\n",
       "      <td>0.169850</td>\n",
       "      <td>1</td>\n",
       "      <td>1</td>\n",
       "      <td>1.0</td>\n",
       "      <td>0.666667</td>\n",
       "      <td>2</td>\n",
       "      <td>0</td>\n",
       "      <td>0.502565</td>\n",
       "      <td>0</td>\n",
       "      <td>...</td>\n",
       "      <td>0.813032</td>\n",
       "      <td>0.0</td>\n",
       "      <td>0.0</td>\n",
       "      <td>0.0</td>\n",
       "      <td>0.0</td>\n",
       "      <td>0.0</td>\n",
       "      <td>0.0</td>\n",
       "      <td>1.0</td>\n",
       "      <td>0.0</td>\n",
       "      <td>0.0</td>\n",
       "    </tr>\n",
       "    <tr>\n",
       "      <th>2108</th>\n",
       "      <td>0</td>\n",
       "      <td>0.181362</td>\n",
       "      <td>1</td>\n",
       "      <td>1</td>\n",
       "      <td>1.0</td>\n",
       "      <td>0.666667</td>\n",
       "      <td>2</td>\n",
       "      <td>0</td>\n",
       "      <td>0.527097</td>\n",
       "      <td>0</td>\n",
       "      <td>...</td>\n",
       "      <td>0.807793</td>\n",
       "      <td>0.0</td>\n",
       "      <td>0.0</td>\n",
       "      <td>0.0</td>\n",
       "      <td>0.0</td>\n",
       "      <td>0.0</td>\n",
       "      <td>0.0</td>\n",
       "      <td>1.0</td>\n",
       "      <td>0.0</td>\n",
       "      <td>0.0</td>\n",
       "    </tr>\n",
       "    <tr>\n",
       "      <th>2109</th>\n",
       "      <td>0</td>\n",
       "      <td>0.220467</td>\n",
       "      <td>1</td>\n",
       "      <td>1</td>\n",
       "      <td>1.0</td>\n",
       "      <td>0.666667</td>\n",
       "      <td>2</td>\n",
       "      <td>0</td>\n",
       "      <td>0.926170</td>\n",
       "      <td>0</td>\n",
       "      <td>...</td>\n",
       "      <td>0.821749</td>\n",
       "      <td>0.0</td>\n",
       "      <td>0.0</td>\n",
       "      <td>0.0</td>\n",
       "      <td>0.0</td>\n",
       "      <td>0.0</td>\n",
       "      <td>0.0</td>\n",
       "      <td>1.0</td>\n",
       "      <td>0.0</td>\n",
       "      <td>0.0</td>\n",
       "    </tr>\n",
       "    <tr>\n",
       "      <th>2110</th>\n",
       "      <td>0</td>\n",
       "      <td>0.205632</td>\n",
       "      <td>1</td>\n",
       "      <td>1</td>\n",
       "      <td>1.0</td>\n",
       "      <td>0.666667</td>\n",
       "      <td>2</td>\n",
       "      <td>0</td>\n",
       "      <td>0.931757</td>\n",
       "      <td>0</td>\n",
       "      <td>...</td>\n",
       "      <td>0.823674</td>\n",
       "      <td>0.0</td>\n",
       "      <td>0.0</td>\n",
       "      <td>0.0</td>\n",
       "      <td>0.0</td>\n",
       "      <td>0.0</td>\n",
       "      <td>0.0</td>\n",
       "      <td>1.0</td>\n",
       "      <td>0.0</td>\n",
       "      <td>0.0</td>\n",
       "    </tr>\n",
       "  </tbody>\n",
       "</table>\n",
       "<p>2111 rows × 24 columns</p>\n",
       "</div>"
      ]
     },
     "execution_count": 37,
     "metadata": {},
     "output_type": "execute_result"
    }
   ],
   "execution_count": 37
  },
  {
   "metadata": {},
   "cell_type": "markdown",
   "source": "### 4.1.5 Matriz de Correlação",
   "id": "ca6f8f24a421f7c6"
  },
  {
   "metadata": {},
   "cell_type": "code",
   "source": [
    "dados_corr = dados_trabalho.copy()\n",
    "fig_corr = plt.figure(figsize=(12, 8))\n",
    "etiquetas_corr = [undersplit(texto) for texto in dados_corr.columns]\n",
    "\n",
    "for coluna in dados_trabalho.columns:\n",
    "    dados_corr[coluna] = label_encoder.fit_transform(dados_corr[coluna].values)\n",
    "\n",
    "sns.heatmap(dados_corr.corr(method=\"spearman\").abs(), cmap='coolwarm', annot=True, fmt='.2f', mask=False)\n",
    "\n",
    "plt.xticks(ticks=[i + 0.5 for i in range(len(dados_corr.columns))], labels=etiquetas_corr, rotation=45, ha='right')\n",
    "plt.yticks(ticks=[i + 0.5 for i in range(len(dados_corr.columns))], labels=etiquetas_corr)\n",
    "plt.title('Matriz de Correlação')\n",
    "plt.tight_layout()\n",
    "\n",
    "# plt.show()"
   ],
   "id": "ba4856fdb49c46d2",
   "outputs": [],
   "execution_count": null
  },
  {
   "metadata": {},
   "cell_type": "markdown",
   "source": "Por este diagrama podemos ver que não existe uma forte correlação entre nenhum dos atributos. ",
   "id": "9ab0c5a227579610"
  },
  {
   "metadata": {},
   "cell_type": "markdown",
   "source": [
    "### 4.1.6\n",
    "\n",
    "#### Hold-out\n",
    "\n",
    "**Hold-out** é o processo de dividir um conjunto de dados em 2 sub-conjuntos de forma aleatória, um de maior dimensão que será utilizado para treinar um algoritmo de Machine Learning e o outra para o testar. \n",
    "\n",
    "Predictor: Idade\n",
    "Target: IMC\n",
    "\n",
    "\n",
    "TODO: Utilizar os dados que o Pedro enviou e Trabalho 1 como suporte. Mas fazer o modelo sobre 80% dos valores e usar os outros 20% para o cálculo ddo MAE e RMSE\n",
    "\n",
    "Para o ponto d)\n",
    "\n"
   ],
   "id": "4b79803135bae8b1"
  },
  {
   "cell_type": "code",
   "id": "ade8d43b5fe33803",
   "metadata": {},
   "source": [
    "y = dados_trabalho.IMC\n",
    "X = dados_trabalho[[\"Idade\"]].to_numpy()\n",
    "\n",
    "X_train, X_test, y_train, y_test = train_test_split(X, y, train_size=0.8, test_size=0.2, random_state=100)\n"
   ],
   "outputs": [],
   "execution_count": null
  },
  {
   "metadata": {},
   "cell_type": "markdown",
   "source": "#### Apresentar informação sobre os datasets de treino e aprendizagem",
   "id": "3c18022d957afeae"
  },
  {
   "metadata": {},
   "cell_type": "code",
   "source": [
    "titulo(\"|\\t\\t\\tDimensão\\t\\t\\t|\")\n",
    "titulo(\"|\\tTreino\\t\\t|\\tTeste\\t\\t|\")\n",
    "texto(f\"|\\t{X_train.shape}\\t|\\t{X_test.shape}\\t|\")\n",
    "texto(f\"|\\t{y_train.shape}\\t\\t|\\t{y_test.shape}\\t\\t|\")\n"
   ],
   "id": "729fa3a4c71b904e",
   "outputs": [],
   "execution_count": null
  },
  {
   "metadata": {},
   "cell_type": "markdown",
   "source": "#### Inicialização do algoritmo",
   "id": "b5e773e45cb02168"
  },
  {
   "metadata": {},
   "cell_type": "code",
   "source": "regr_lin = LinearRegression()",
   "id": "4e6ad4607a320601",
   "outputs": [],
   "execution_count": null
  },
  {
   "metadata": {},
   "cell_type": "markdown",
   "source": "#### Ajustar os dados",
   "id": "b72102325dcb91ef"
  },
  {
   "metadata": {},
   "cell_type": "code",
   "source": "regr_lin.fit(X_train, y_train)",
   "id": "5a59e7012d57c7bf",
   "outputs": [],
   "execution_count": null
  },
  {
   "metadata": {},
   "cell_type": "markdown",
   "source": "#### 4.1.6 a)",
   "id": "cc5486c1e8a7c6d"
  },
  {
   "metadata": {},
   "cell_type": "code",
   "source": "etiqueta_e_valor(\"Equação da reta:\", f\" y = {regr_lin.intercept_:.3f} + {regr_lin.coef_[0]:.3f} x\")",
   "id": "ed858a8fd9594e66",
   "outputs": [],
   "execution_count": null
  },
  {
   "metadata": {},
   "cell_type": "markdown",
   "source": "#### 4.1.6 b)",
   "id": "65eee0a340a05df4"
  },
  {
   "metadata": {},
   "cell_type": "code",
   "source": [
    "sns.regplot(x=\"Idade\", y=\"IMC\", data=dados_trabalho, order=1, ci=None, scatter_kws={'color': 'r', 's': 9})\n",
    "plt.xlim(10, 65)\n",
    "plt.ylim(ymin=0);"
   ],
   "id": "ef97209ce3494257",
   "outputs": [],
   "execution_count": null
  },
  {
   "metadata": {},
   "cell_type": "markdown",
   "source": "Aplicar o modelo sobre o conjunto de teste.",
   "id": "7adb512f714f3f09"
  },
  {
   "metadata": {},
   "cell_type": "code",
   "source": "y_pred = regr_lin.predict(X_test)\n",
   "id": "906daa9b4cd577f",
   "outputs": [],
   "execution_count": null
  },
  {
   "metadata": {},
   "cell_type": "markdown",
   "source": [
    "#### MAE\n",
    "\n",
    "$$MAE = \\sum_{i=1}^{D}|x_i-y_i|$$"
   ],
   "id": "525409c6247a4782"
  },
  {
   "metadata": {},
   "cell_type": "code",
   "source": [
    "MAE = np.mean(abs(y_test - y_pred))\n",
    "etiqueta_e_valor(\"MAE no conjunto de dados de teste:\", f\"{MAE:.3f}\")"
   ],
   "id": "60e6c8811cc30a3e",
   "outputs": [],
   "execution_count": null
  },
  {
   "metadata": {},
   "cell_type": "markdown",
   "source": [
    "#### RMSE\n",
    "\n",
    "$$RMSE = \\sqrt{\\frac{\\sum_{i=0}^{N - 1} (y_i - \\hat{y}_i)^2}{N}}$$"
   ],
   "id": "803a0c8c69b52332"
  },
  {
   "metadata": {},
   "cell_type": "code",
   "source": [
    "RMSE = np.sqrt(np.mean((y_test - y_pred) ** 2))\n",
    "etiqueta_e_valor(\"RMSE no conjunto de dados de teste:\", f\"{RMSE:.3f}\")"
   ],
   "id": "8a0f52b13bf0e144",
   "outputs": [],
   "execution_count": null
  },
  {
   "metadata": {},
   "cell_type": "markdown",
   "source": [
    "#### Repetir o cálculo mas com outros previsores\n",
    "\n",
    "O preditor vai mudando, podemos ter uma lista com o nome das colunas e fazer um ciclo que realiza os cálculos e guardamos o resultado num dicionário"
   ],
   "id": "47d3da661930b0a2"
  },
  {
   "metadata": {
    "ExecuteTime": {
     "end_time": "2024-05-26T15:15:44.227473Z",
     "start_time": "2024-05-26T15:15:43.995658Z"
    }
   },
   "cell_type": "code",
   "source": [
    "# O target não vai mudar.\n",
    "y = dados_trabalho.IMC\n",
    "\n",
    "# O preditor vai mudando, podemos ter uma lista com o nome das colunas\n",
    "lista_preditores = ['Genero', 'Historico_obesidade_familiar', 'FCCAC', 'FCV', 'NRP', 'CCER', 'Fumador', 'CA',\n",
    "                    'MCC', 'FAF', 'TUDE', 'CBA', 'TRANS']\n",
    "# Falta o Label\n",
    "\n",
    "\n",
    "# Resultados\n",
    "resultados = {}\n",
    "\n",
    "for preditor in lista_preditores:\n",
    "    X_preditor = dados_trabalho[[preditor]].to_numpy()\n",
    "    X_train_1, X_test_1, y_train, y_test = train_test_split(X_preditor, y, train_size=0.8, test_size=0.2,\n",
    "                                                            random_state=100)\n",
    "    line_regr = LinearRegression()\n",
    "    modelo = line_regr.fit(X_train_1, y_train)\n",
    "\n",
    "    y_pred_1 = line_regr.predict(X_test_1)\n",
    "\n",
    "    resultados[preditor] = {\n",
    "        # \"X_train\": X_train_1,\n",
    "        # \"X_test\": X_test_1,\n",
    "        # \"y_train\": y_train,\n",
    "        # \"y_test\": y_test,\n",
    "        \"modelo\": modelo,\n",
    "        \"y_pred\": y_pred_1,\n",
    "        \"MAE\": np.mean(abs(y_test - y_pred_1)),\n",
    "        \"RMSE\": np.sqrt(np.mean((y_test - y_pred_1) ** 2))\n",
    "    }\n"
   ],
   "id": "c2c87e6b49b2b826",
   "outputs": [],
   "execution_count": 39
  },
  {
   "metadata": {},
   "cell_type": "markdown",
   "source": [
    "#### Tabela com os resultados\n",
    "\n",
    "Uma vez que temos o pandas, podemos utilizar este para apresentar a informação em formato de tabela.\n",
    "\n",
    "\n",
    "TODO: Agora é preciso analisar os resultados e talvez produzir algum gráfico ou análise estatistica."
   ],
   "id": "445cb6ae3533cc5c"
  },
  {
   "metadata": {
    "ExecuteTime": {
     "end_time": "2024-05-26T15:15:48.860114Z",
     "start_time": "2024-05-26T15:15:48.820483Z"
    }
   },
   "cell_type": "code",
   "source": [
    "resultado = pd.DataFrame(resultados)\n",
    "\n",
    "resultado.loc[[\"MAE\", \"RMSE\"]]\n"
   ],
   "id": "dac58d4e5c15b3f4",
   "outputs": [
    {
     "data": {
      "text/plain": [
       "        Genero Historico_obesidade_familiar     FCCAC       FCV       NRP  \\\n",
       "MAE   0.174157                     0.151583  0.169636  0.169275  0.174196   \n",
       "RMSE  0.211202                     0.187125  0.204626  0.204894  0.211575   \n",
       "\n",
       "          CCER   Fumador        CA       MCC       FAF      TUDE       CBA  \\\n",
       "MAE   0.159079  0.174732  0.173374  0.169078  0.171724  0.173562  0.172866   \n",
       "RMSE  0.195568  0.211966  0.210912  0.206537  0.208206  0.210597  0.205701   \n",
       "\n",
       "         TRANS  \n",
       "MAE   0.174713  \n",
       "RMSE  0.211299  "
      ],
      "text/html": [
       "<div>\n",
       "<style scoped>\n",
       "    .dataframe tbody tr th:only-of-type {\n",
       "        vertical-align: middle;\n",
       "    }\n",
       "\n",
       "    .dataframe tbody tr th {\n",
       "        vertical-align: top;\n",
       "    }\n",
       "\n",
       "    .dataframe thead th {\n",
       "        text-align: right;\n",
       "    }\n",
       "</style>\n",
       "<table border=\"1\" class=\"dataframe\">\n",
       "  <thead>\n",
       "    <tr style=\"text-align: right;\">\n",
       "      <th></th>\n",
       "      <th>Genero</th>\n",
       "      <th>Historico_obesidade_familiar</th>\n",
       "      <th>FCCAC</th>\n",
       "      <th>FCV</th>\n",
       "      <th>NRP</th>\n",
       "      <th>CCER</th>\n",
       "      <th>Fumador</th>\n",
       "      <th>CA</th>\n",
       "      <th>MCC</th>\n",
       "      <th>FAF</th>\n",
       "      <th>TUDE</th>\n",
       "      <th>CBA</th>\n",
       "      <th>TRANS</th>\n",
       "    </tr>\n",
       "  </thead>\n",
       "  <tbody>\n",
       "    <tr>\n",
       "      <th>MAE</th>\n",
       "      <td>0.174157</td>\n",
       "      <td>0.151583</td>\n",
       "      <td>0.169636</td>\n",
       "      <td>0.169275</td>\n",
       "      <td>0.174196</td>\n",
       "      <td>0.159079</td>\n",
       "      <td>0.174732</td>\n",
       "      <td>0.173374</td>\n",
       "      <td>0.169078</td>\n",
       "      <td>0.171724</td>\n",
       "      <td>0.173562</td>\n",
       "      <td>0.172866</td>\n",
       "      <td>0.174713</td>\n",
       "    </tr>\n",
       "    <tr>\n",
       "      <th>RMSE</th>\n",
       "      <td>0.211202</td>\n",
       "      <td>0.187125</td>\n",
       "      <td>0.204626</td>\n",
       "      <td>0.204894</td>\n",
       "      <td>0.211575</td>\n",
       "      <td>0.195568</td>\n",
       "      <td>0.211966</td>\n",
       "      <td>0.210912</td>\n",
       "      <td>0.206537</td>\n",
       "      <td>0.208206</td>\n",
       "      <td>0.210597</td>\n",
       "      <td>0.205701</td>\n",
       "      <td>0.211299</td>\n",
       "    </tr>\n",
       "  </tbody>\n",
       "</table>\n",
       "</div>"
      ]
     },
     "execution_count": 40,
     "metadata": {},
     "output_type": "execute_result"
    }
   ],
   "execution_count": 40
  },
  {
   "metadata": {},
   "cell_type": "markdown",
   "source": [
    "### 4.1.7\n",
    "\n",
    "#### a) Utilizar Regressão Linear Múltipla\n",
    "\n",
    "Target = IMC\n",
    "Preditores = ?\n",
    "\n",
    "Ver TP5\n",
    "\n",
    "\n",
    "Holdout\n",
    "\n"
   ],
   "id": "fd778f35ad6598a4"
  },
  {
   "metadata": {
    "ExecuteTime": {
     "end_time": "2024-05-26T15:16:13.989154Z",
     "start_time": "2024-05-26T15:16:13.984881Z"
    }
   },
   "cell_type": "code",
   "source": [
    "y = dados_trabalho.IMC\n",
    "X = dados_trabalho[lista_preditores].to_numpy() \n",
    "\n",
    "\n",
    "X_train, X_test, y_train, y_test = train_test_split(X, y, train_size = 0.8, test_size = 0.2, \n",
    "                                                    random_state = 100)"
   ],
   "id": "a43b833390546771",
   "outputs": [],
   "execution_count": 41
  },
  {
   "metadata": {},
   "cell_type": "markdown",
   "source": [
    "TODO: Imprimir a equação corretamente\n",
    "TODO: Rever o código é cópia do TP5 "
   ],
   "id": "fe26c5e9004a8a28"
  },
  {
   "metadata": {
    "ExecuteTime": {
     "end_time": "2024-05-26T15:18:20.299201Z",
     "start_time": "2024-05-26T15:18:20.294154Z"
    }
   },
   "cell_type": "code",
   "source": [
    "## Initialize algorithm\n",
    "mlr = LinearRegression()\n",
    "\n",
    "## Fit the data\n",
    "mlr.fit(X_train,y_train)\n",
    "\n",
    "print(\"Eq. da reta: y=\", mlr.intercept_, \"+\", mlr.coef_, \"x\")"
   ],
   "id": "1d83d9536bae825d",
   "outputs": [
    {
     "name": "stdout",
     "output_type": "stream",
     "text": [
      "Eq. da reta: y= -0.11544856729411695 + [-0.00906778  0.20667286  0.06552097  0.17919736  0.00125902  0.07085282\n",
      "  0.03465172  0.04235113 -0.067962   -0.09216686 -0.07044286  0.0479142\n",
      "  0.0120811 ] x\n"
     ]
    }
   ],
   "execution_count": 43
  },
  {
   "metadata": {
    "ExecuteTime": {
     "end_time": "2024-05-26T15:18:21.443176Z",
     "start_time": "2024-05-26T15:18:21.422125Z"
    }
   },
   "cell_type": "code",
   "source": [
    "#Prediction of test set\n",
    "y_pred_mlr= mlr.predict(X_test)\n",
    "#Predicted values\n",
    "#print(\"Prediction for test set: {}\".format(y_pred_mlr))"
   ],
   "id": "55123db6eb2a31b9",
   "outputs": [],
   "execution_count": 44
  },
  {
   "metadata": {
    "ExecuteTime": {
     "end_time": "2024-05-26T15:18:32.659221Z",
     "start_time": "2024-05-26T15:18:32.653044Z"
    }
   },
   "cell_type": "code",
   "source": [
    "#Actual value and the predicted value\n",
    "mlr_diff = pd.DataFrame({'Actual value': y_test, 'Predicted value': y_pred_mlr})\n",
    "mlr_diff.head()"
   ],
   "id": "f0f2ade31f13ceff",
   "outputs": [
    {
     "data": {
      "text/plain": [
       "      Actual value  Predicted value\n",
       "785       0.324503         0.475563\n",
       "1838      0.918202         0.603163\n",
       "2083      0.737101         0.638463\n",
       "1105      0.427048         0.398271\n",
       "361       0.525597         0.444019"
      ],
      "text/html": [
       "<div>\n",
       "<style scoped>\n",
       "    .dataframe tbody tr th:only-of-type {\n",
       "        vertical-align: middle;\n",
       "    }\n",
       "\n",
       "    .dataframe tbody tr th {\n",
       "        vertical-align: top;\n",
       "    }\n",
       "\n",
       "    .dataframe thead th {\n",
       "        text-align: right;\n",
       "    }\n",
       "</style>\n",
       "<table border=\"1\" class=\"dataframe\">\n",
       "  <thead>\n",
       "    <tr style=\"text-align: right;\">\n",
       "      <th></th>\n",
       "      <th>Actual value</th>\n",
       "      <th>Predicted value</th>\n",
       "    </tr>\n",
       "  </thead>\n",
       "  <tbody>\n",
       "    <tr>\n",
       "      <th>785</th>\n",
       "      <td>0.324503</td>\n",
       "      <td>0.475563</td>\n",
       "    </tr>\n",
       "    <tr>\n",
       "      <th>1838</th>\n",
       "      <td>0.918202</td>\n",
       "      <td>0.603163</td>\n",
       "    </tr>\n",
       "    <tr>\n",
       "      <th>2083</th>\n",
       "      <td>0.737101</td>\n",
       "      <td>0.638463</td>\n",
       "    </tr>\n",
       "    <tr>\n",
       "      <th>1105</th>\n",
       "      <td>0.427048</td>\n",
       "      <td>0.398271</td>\n",
       "    </tr>\n",
       "    <tr>\n",
       "      <th>361</th>\n",
       "      <td>0.525597</td>\n",
       "      <td>0.444019</td>\n",
       "    </tr>\n",
       "  </tbody>\n",
       "</table>\n",
       "</div>"
      ]
     },
     "execution_count": 45,
     "metadata": {},
     "output_type": "execute_result"
    }
   ],
   "execution_count": 45
  },
  {
   "metadata": {
    "ExecuteTime": {
     "end_time": "2024-05-26T15:18:47.605597Z",
     "start_time": "2024-05-26T15:18:47.591398Z"
    }
   },
   "cell_type": "code",
   "source": [
    "#Model Evaluation\n",
    "from sklearn import metrics\n",
    "\n",
    "meanAbErr = metrics.mean_absolute_error(y_test, y_pred_mlr)\n",
    "meanSqErr = metrics.mean_squared_error(y_test, y_pred_mlr)\n",
    "\n",
    "rootMeanSqErr = np.sqrt(metrics.mean_squared_error(y_test, y_pred_mlr))\n",
    "\n",
    "print('R squared: {:.2f}'.format(mlr.score(X,y)*100))\n",
    "print('Mean Absolute Error:', meanAbErr)\n",
    "print('Mean Square Error:', meanSqErr)\n",
    "print('Root Mean Square Error:', rootMeanSqErr)"
   ],
   "id": "dbedd1efe6a867ad",
   "outputs": [
    {
     "name": "stdout",
     "output_type": "stream",
     "text": [
      "R squared: 44.17\n",
      "Mean Absolute Error: 0.126191413705803\n",
      "Mean Square Error: 0.024166375606053066\n",
      "Root Mean Square Error: 0.1554553813994648\n"
     ]
    }
   ],
   "execution_count": 46
  },
  {
   "metadata": {},
   "cell_type": "code",
   "outputs": [],
   "execution_count": null,
   "source": "",
   "id": "c857b2c592c6cf71"
  },
  {
   "metadata": {},
   "cell_type": "markdown",
   "source": [
    "#### b) DecisionTreeRegressor\n",
    "\n",
    "Vamos usar os mesmos sets de treino e de teste.\n",
    "\n",
    "TODO: Rever o código é cópia do TP5, ver TP7 tem uns testes que talvez sejam necessários."
   ],
   "id": "1c52cb814e257f3e"
  },
  {
   "metadata": {},
   "cell_type": "code",
   "source": [
    "#tree = DecisionTreeRegressor(random_state=42)\n",
    "tree = DecisionTreeRegressor(random_state=42, max_depth=6, min_samples_split=3)# Restrição de alguns parâmetros da árvore\n",
    "model = tree.fit(X_train, y_train)\n",
    "\n",
    "y_pred = tree.predict(X_train)\n",
    "y_pred1 = tree.predict(X_test)\n",
    "\n"
   ],
   "id": "8a38c6a0365b3908",
   "outputs": [],
   "execution_count": null
  },
  {
   "metadata": {},
   "cell_type": "code",
   "outputs": [],
   "execution_count": null,
   "source": [
    "MAE1 = metrics.mean_absolute_error(y_train, y_pred)\n",
    "MAE2 = metrics.mean_absolute_error(y_test, y_pred1)\n",
    "MAE3 = np.mean(abs(y_test-y_pred1)) #efetuando os cálculos\n",
    "\n",
    "print(\"MAE on training set: {:.3f}\".format(MAE1))\n",
    "print(\"MAE on test set: {:.3f}\".format(MAE2))\n",
    "print(\"MAE on test set: {:.3f}\".format(MAE3)) #efetuando os cálculos\n",
    "\n",
    "RMSE = np.sqrt(np.mean((y_test-y_pred1)**2))\n",
    "print(\"RMSE: {:.4f}\".format(RMSE))"
   ],
   "id": "4183f611a86db6fa"
  },
  {
   "metadata": {},
   "cell_type": "markdown",
   "source": "Visualização da Regression Tree",
   "id": "a2db9c12dcb86b27"
  },
  {
   "metadata": {},
   "cell_type": "code",
   "outputs": [],
   "execution_count": null,
   "source": [
    "# plot tree\n",
    "from sklearn import tree\n",
    "\n",
    "tree.plot_tree(model, \n",
    "          feature_names = list(df.columns), \n",
    "          class_names = list(df['sales']),  \n",
    "          filled=True,                    \n",
    "          fontsize=6);"
   ],
   "id": "9c5a12ff0169f9"
  },
  {
   "metadata": {},
   "cell_type": "code",
   "outputs": [],
   "execution_count": null,
   "source": [
    "## the model:\n",
    "from sklearn.tree import export_text\n",
    "print(export_text(model,\n",
    "                  show_weights=True))"
   ],
   "id": "b21c57b811490d3f"
  },
  {
   "metadata": {},
   "cell_type": "markdown",
   "source": [
    "#### c) MLPRegressor\n",
    "\n",
    "TODO: Rever código é cópia do TP7"
   ],
   "id": "37a2eb1fb4937d55"
  },
  {
   "metadata": {},
   "cell_type": "code",
   "outputs": [],
   "execution_count": null,
   "source": [
    "from sklearn.neural_network import MLPRegressor\n",
    "\n",
    "nn = MLPRegressor(hidden_layer_sizes=Nhidden,\n",
    "                                          activation='tanh',\n",
    "                                          solver='lbfgs', max_iter=1000, learning_rate_init=0.001)"
   ],
   "id": "af0afb55cfd48c09"
  },
  {
   "metadata": {},
   "cell_type": "code",
   "outputs": [],
   "execution_count": null,
   "source": "nn.fit(x_train, y_train)",
   "id": "b722555617600987"
  },
  {
   "metadata": {},
   "cell_type": "code",
   "outputs": [],
   "execution_count": null,
   "source": [
    "# Make prediction\n",
    "pred = nn.predict(x_test)\n",
    "#\n",
    "# Calculate accuracy and error metrics\n",
    "#\n",
    "test_set_rsquared = nn.score(x_test, y_test)\n",
    "test_set_rmse = np.sqrt(mean_squared_error(y_test, pred))\n",
    "#\n",
    "# Print R_squared and RMSE value\n",
    "#\n",
    "print('R_squared value: ', test_set_rsquared)\n",
    "print('RMSE: ', test_set_rmse)"
   ],
   "id": "24afe60509acfefe"
  },
  {
   "metadata": {},
   "cell_type": "code",
   "outputs": [],
   "execution_count": null,
   "source": [
    "print(\"weights between input and first hidden layer:\")\n",
    "print(nn.coefs_[0])\n",
    "print(\"\\nweights between first hidden and second hidden layer:\")\n",
    "print(nn.coefs_[1])"
   ],
   "id": "a2751674df64fede"
  },
  {
   "metadata": {},
   "cell_type": "markdown",
   "source": [
    "### 4.1.8\n",
    "\n",
    "TODO Realizar os cálculos do MAE e RMSE do 4.1.7 colunas num DataFrame e imprimir"
   ],
   "id": "59d2110fbfe3ad9f"
  },
  {
   "metadata": {},
   "cell_type": "code",
   "outputs": [],
   "execution_count": null,
   "source": [
    "comparar_417 = pd.DataFrame()\n",
    "comparar_417"
   ],
   "id": "ad735301625b75c8"
  },
  {
   "metadata": {},
   "cell_type": "markdown",
   "source": [
    "### 4.1.9\n",
    "\n",
    "TODO: Estudo estatistico (ttest_ind) ? para os 2 modelos que apresentem melhores resultados."
   ],
   "id": "807f585eb8b5dfce"
  },
  {
   "metadata": {},
   "cell_type": "code",
   "outputs": [],
   "execution_count": null,
   "source": "",
   "id": "c74699d3be1b4a7a"
  }
 ],
 "metadata": {
  "kernelspec": {
   "display_name": "Python 3 (ipykernel)",
   "language": "python",
   "name": "python3"
  },
  "language_info": {
   "codemirror_mode": {
    "name": "ipython",
    "version": 3
   },
   "file_extension": ".py",
   "mimetype": "text/x-python",
   "name": "python",
   "nbconvert_exporter": "python",
   "pygments_lexer": "ipython3",
   "version": "3.11.1"
  }
 },
 "nbformat": 4,
 "nbformat_minor": 5
}
