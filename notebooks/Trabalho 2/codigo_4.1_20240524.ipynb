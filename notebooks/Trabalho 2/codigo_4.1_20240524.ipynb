{
 "cells": [
  {
   "metadata": {},
   "cell_type": "markdown",
   "source": "",
   "id": "403642cfb64b17e9"
  },
  {
   "cell_type": "markdown",
   "id": "3c07b9d890a4cfe",
   "metadata": {},
   "source": [
    "# Trabalho 2\n",
    "\n",
    "## 4.1\n",
    "\n",
    "### Imports"
   ]
  },
  {
   "cell_type": "code",
   "id": "1caca8c293aff04f",
   "metadata": {},
   "source": [
    "import warnings\n",
    "\n",
    "import matplotlib.pyplot as plt\n",
    "import numpy as np\n",
    "import pandas as pd\n",
    "import seaborn as sns\n",
    "from sklearn import tree\n",
    "from sklearn.linear_model import LinearRegression\n",
    "from sklearn.metrics import mean_squared_error\n",
    "from sklearn.model_selection import train_test_split\n",
    "from sklearn.neural_network import MLPRegressor\n",
    "from sklearn.preprocessing import LabelEncoder, MinMaxScaler\n",
    "from sklearn.tree import DecisionTreeRegressor, export_text"
   ],
   "outputs": [],
   "execution_count": null
  },
  {
   "cell_type": "markdown",
   "id": "1d67d849ccbd21d0",
   "metadata": {},
   "source": [
    "### Variáveis"
   ]
  },
  {
   "cell_type": "code",
   "id": "999249d88bf8fd19",
   "metadata": {},
   "source": [
    "ficheiro = \"../../ficheiros/Trabalho 2/Dados_Trabalho_TP2.csv\"\n",
    "ficheiro_dummies = \"../../ficheiros/Trabalho 2/Dados_Trabalho_dummies_TP2.csv\"\n",
    "colunas_classes_binarias = ['Genero', 'Historico_obesidade_familiar', 'FCCAC', 'Fumador',\n",
    "                            'MCC']  # Colunas de valores binários, ver 4.1.1.\n",
    "colunas_numericas = [\"Idade\", \"FCV\", \"NRP\", \"CA\", \"FAF\", \"TUDE\", \"IMC\"]\n",
    "colunas_classes = ['Genero', 'Historico_obesidade_familiar', 'FCCAC', 'Fumador', 'MCC']\n",
    "colunas_classes_multiplos = [\"CCER\", \"CBA\", \"TRANS\"]\n",
    "\n",
    "%matplotlib inline\n",
    "\n",
    "skip_graficos = True"
   ],
   "outputs": [],
   "execution_count": null
  },
  {
   "cell_type": "markdown",
   "id": "99f397086026cebf",
   "metadata": {},
   "source": [
    "# Funções auxiliares"
   ]
  },
  {
   "cell_type": "code",
   "id": "1cd2207c25f33cc8",
   "metadata": {},
   "source": [
    "def titulo(texto: str):\n",
    "    print(f\"\\033[21;30;44m{texto}\\033[0m\")\n",
    "\n",
    "\n",
    "def etiqueta_e_valor(etiqueta: str, valor: str = \"\"):\n",
    "    print(f\"\\033[0;94m{etiqueta}: \\033[1;94m{valor}\\033[0m\")\n",
    "\n",
    "\n",
    "def texto(texto: str, cor=\"94\"):\n",
    "    print(f\"\\033[0;{cor}m{texto}\\033[0m\")\n",
    "\n",
    "\n",
    "def undersplit(texto):\n",
    "    return \" \".join(texto.split(\"_\"))\n",
    "\n",
    "\n",
    "def histograma(\n",
    "        dados: pd.Series,\n",
    "        grupos: int = 20,\n",
    "        kde: bool = True,\n",
    "        size_x: int = 4,\n",
    "        size_y: int = 4,\n",
    "        titulo: str = \"\",\n",
    "        etiqueta_x: str = \"\",\n",
    "        etiqueta_y: str = \"\",\n",
    "        color: str = \"skyblue\",\n",
    "        edgecolor: str = \"black\",\n",
    "):\n",
    "    \"\"\"Gera um histograma de forma isolada.\n",
    "    \n",
    "    A dimensão final do gráfico é controlada pela relação entre os valores size_x e size_y.\n",
    "    \"\"\"\n",
    "    hist_fig, hist_axes = plt.subplots(figsize=(size_x, size_y))\n",
    "    sns.histplot(dados, bins=grupos, kde=kde, color=color, edgecolor=edgecolor)\n",
    "    hist_axes.set_title(titulo)\n",
    "    hist_axes.set_xlabel(etiqueta_x)\n",
    "    hist_axes.set_ylabel(etiqueta_y)\n",
    "    plt.tight_layout()\n",
    "\n",
    "\n",
    "def tarte(\n",
    "        dados: pd.Series,\n",
    "        size_x: int = 4,\n",
    "        size_y: int = 4,\n",
    "        autopct=\"%.2f%%\",\n",
    "        titulo: str = \"\",\n",
    "        **kwargs,\n",
    "):\n",
    "    pie_fig, pie_axes = plt.subplots(figsize=(size_x, size_y))\n",
    "    pie_axes.pie(\n",
    "        dados,\n",
    "        autopct=autopct,\n",
    "        **kwargs\n",
    "    )\n",
    "    pie_fig.suptitle(titulo)\n",
    "    return pie_fig, pie_axes\n"
   ],
   "outputs": [],
   "execution_count": null
  },
  {
   "cell_type": "markdown",
   "id": "bfcdc4e231373833",
   "metadata": {},
   "source": [
    "### Inicializações"
   ]
  },
  {
   "cell_type": "code",
   "id": "347c3de631644810",
   "metadata": {},
   "source": [
    "warnings.filterwarnings(\"ignore\")  # Desabilitar warnbings.\n",
    "plt.style.use(\n",
    "    \"style/estilo.mplstyle\")  # Garantir que se utiliza um estilo definido centralmente e comum a todos os gráficos.\n",
    "label_encoder = LabelEncoder()"
   ],
   "outputs": [],
   "execution_count": null
  },
  {
   "cell_type": "markdown",
   "id": "dac229ac7f944a7f",
   "metadata": {},
   "source": [
    "### 4.1.1\n",
    "\n",
    "#### Leitura de dados\n",
    "\n",
    "Como os dados lidos não são em grande quantidade, vamos criar uma cópia do **dataset** para trabalharmos nesta, para poder ter acesso aos \"originais\" sem ter de os ler novamente do ficheiro.\n",
    "Por exemplo em alguns dos gráficos, a utilização das *classes* (valores originais) como *etiqueta* é mais elucidativa que usar os valores codificados.  \n",
    "\n",
    "Na análise ao **dataset** verifica-se que a primeira coluna, identificada como \"Unnamed\" tem o indíce de cada registo de dados, algo que nos é fornecido pelo **pandas**, e portanto podemos eliminar esta coluna. \n",
    "Esta operação estaria incluída nas tarefas do ponto *4.1.4*, mas realizar neste ponto facilita a criação dos gráficos no próximo ponto."
   ]
  },
  {
   "cell_type": "code",
   "id": "initial_id",
   "metadata": {},
   "source": [
    "dados_lidos = pd.read_csv(ficheiro)\n",
    "dados_analise = dados_lidos.copy()\n",
    "dados_analise.drop(columns=dados_lidos.columns[0], axis=1, inplace=True)"
   ],
   "outputs": [],
   "execution_count": null
  },
  {
   "cell_type": "markdown",
   "id": "ae36c31929db9ea4",
   "metadata": {},
   "source": [
    "### Dimensão dos dados (lidos)\n",
    "\n",
    "Os dados lidos incluem 1 coluna com o valor dos indices das linhas, que é removida de imediato."
   ]
  },
  {
   "cell_type": "code",
   "id": "5ec154d388bf68f4",
   "metadata": {},
   "source": [
    "nr_linhas, nr_colunas = dados_lidos.shape\n",
    "titulo(\"Dimensão dos dados\")\n",
    "etiqueta_e_valor(\"Número de linhas:\", nr_linhas)\n",
    "etiqueta_e_valor(\"Número de colunas:\", nr_colunas)"
   ],
   "outputs": [],
   "execution_count": null
  },
  {
   "cell_type": "markdown",
   "id": "34891a0d48957781",
   "metadata": {},
   "source": [
    "### Análise do dataset\n",
    "\n",
    "#### Atributos\n",
    "\n",
    "Descrição dos atributos, segundo a documentação. \n",
    "\n",
    "| Sigla | Descrição                                                         |\n",
    "|-------|-------------------------------------------------------------------|\n",
    "| FCCAC | Frequência de Consumo de Comida Altamente Calórica                | \n",
    "| FCV   | Frequência de Consumo de Vegetais                                 | \n",
    "| NRP   | Número de Refeições Principais                                    |\n",
    "| CCER  | Consumo de Comida Entre Refeições                                 |\n",
    "| CA    | Consumo de Água                                                   |\n",
    "| CBA   | Consumo de Bebidas Alcoólicas                                     |\n",
    "| MCC   | Monitorização do Consumo Calorias Histórico de Obesidade Familiar | "
   ]
  },
  {
   "cell_type": "markdown",
   "id": "ee9eca7af78b4d41",
   "metadata": {},
   "source": [
    "#### Informação sobre o dataset\n",
    "\n",
    "A função ``info()`` apresenta a informação das colunas (atríbutos): Index da coluna, nome (se tiver, quantidade de registos *não nulos* e o tipo de dados de cada um deles."
   ]
  },
  {
   "cell_type": "code",
   "id": "6f50201dead196b0",
   "metadata": {},
   "source": "dados_analise.info()",
   "outputs": [],
   "execution_count": null
  },
  {
   "cell_type": "markdown",
   "id": "181b27ac6367cc5a",
   "metadata": {},
   "source": [
    "#### Amostra do dataset\n",
    "\n",
    "Para uma rápida visualização dos dados, temos as funções ``head(n)`` e ``tail(n)`` que nos dão *n* linhas, por defeito **5**, respetivamente do início ou fim do **dataset**."
   ]
  },
  {
   "cell_type": "code",
   "id": "4e985ac6dc30350",
   "metadata": {},
   "source": "dados_analise.head()",
   "outputs": [],
   "execution_count": null
  },
  {
   "cell_type": "code",
   "id": "65792ee2fd06444",
   "metadata": {},
   "source": "dados_analise.tail()",
   "outputs": [],
   "execution_count": null
  },
  {
   "cell_type": "markdown",
   "id": "6ad8558ec92b8c9a",
   "metadata": {},
   "source": [
    "#### Descrição do dados do dateset\n",
    "\n",
    "A função ``describe()`` analisa os dados do **dataset** e retorna um conjunto de estatísticas descritivas."
   ]
  },
  {
   "cell_type": "code",
   "id": "d0a067b469ad2167",
   "metadata": {},
   "source": "dados_analise.describe(include=\"all\")",
   "outputs": [],
   "execution_count": null
  },
  {
   "metadata": {},
   "cell_type": "markdown",
   "source": [
    "### Identificar as classes dos atributos\n",
    "\n",
    "Os atributos numéricos serão trabalhados mais adiante, quando fizermos a sua **normalização**. Para já vamos verificar as classes existentes para decidir qual a melhor estratégia para os preparar para a utilização nos vários métodos que vamos utilizar."
   ],
   "id": "d27c5cb0b59a9291"
  },
  {
   "metadata": {},
   "cell_type": "markdown",
   "source": "#### Genero",
   "id": "b529c6459bd48f58"
  },
  {
   "metadata": {},
   "cell_type": "code",
   "source": [
    "titulo(\"Classes da coluna \\033[1mGenero\\033[0m\")\n",
    "for classe in dados_analise['Genero'].unique():\n",
    "    texto(classe)"
   ],
   "id": "d7308977866163a",
   "outputs": [],
   "execution_count": null
  },
  {
   "metadata": {},
   "cell_type": "markdown",
   "source": "#### Historico_obesidade_familiar",
   "id": "c908ef52a9fd3c46"
  },
  {
   "metadata": {},
   "cell_type": "code",
   "source": [
    "titulo(\"Classes da coluna \\033[1mHistorico_obesidade_familiar\\033[0m\")\n",
    "for classe in dados_analise['Historico_obesidade_familiar'].unique():\n",
    "    texto(classe)"
   ],
   "id": "357743efc0effcda",
   "outputs": [],
   "execution_count": null
  },
  {
   "metadata": {},
   "cell_type": "markdown",
   "source": "#### FCCAC",
   "id": "ff894e1132c3b7a5"
  },
  {
   "metadata": {},
   "cell_type": "code",
   "source": [
    "titulo(\"Classes da coluna \\033[1mFCCAC\\033[0m\")\n",
    "for classe in dados_analise['FCCAC'].unique():\n",
    "    texto(classe)"
   ],
   "id": "9dad8db0b8230acc",
   "outputs": [],
   "execution_count": null
  },
  {
   "metadata": {},
   "cell_type": "markdown",
   "source": "#### CCER",
   "id": "263d635ed32831b1"
  },
  {
   "metadata": {},
   "cell_type": "code",
   "source": [
    "titulo(\"Classes da coluna \\033[1mCCER\\033[0m\")\n",
    "for classe in dados_analise['CCER'].unique():\n",
    "    texto(classe)"
   ],
   "id": "d48e9196dcd49f97",
   "outputs": [],
   "execution_count": null
  },
  {
   "metadata": {},
   "cell_type": "markdown",
   "source": "#### Fumador",
   "id": "21e93773cb512576"
  },
  {
   "metadata": {},
   "cell_type": "code",
   "source": [
    "titulo(\"Classes da coluna \\033[1mFumador\\033[0m\")\n",
    "for classe in dados_analise['Fumador'].unique():\n",
    "    texto(classe)"
   ],
   "id": "67ae61f644369e9c",
   "outputs": [],
   "execution_count": null
  },
  {
   "metadata": {},
   "cell_type": "markdown",
   "source": "### MCC",
   "id": "d047663dca0fc6d8"
  },
  {
   "metadata": {},
   "cell_type": "code",
   "source": [
    "titulo(\"Classes da coluna \\033[1mMCC\\033[0m\")\n",
    "for classe in dados_analise['MCC'].unique():\n",
    "    texto(classe)"
   ],
   "id": "d50bff67226979eb",
   "outputs": [],
   "execution_count": null
  },
  {
   "metadata": {},
   "cell_type": "markdown",
   "source": "#### CBA",
   "id": "db8e84340795269b"
  },
  {
   "metadata": {},
   "cell_type": "code",
   "source": [
    "titulo(\"Classes da coluna \\033[1mCBA\\033[0m\")\n",
    "for classe in dados_analise['CBA'].unique():\n",
    "    texto(classe)"
   ],
   "id": "271f5c0db74d89e2",
   "outputs": [],
   "execution_count": null
  },
  {
   "metadata": {},
   "cell_type": "markdown",
   "source": "#### TRANS",
   "id": "d12fc112360b0e5a"
  },
  {
   "metadata": {},
   "cell_type": "code",
   "source": [
    "titulo(\"Classes da coluna \\033[1mTRANS\\033[0m\")\n",
    "for classe in dados_analise['TRANS'].unique():\n",
    "    texto(classe)"
   ],
   "id": "98773a03e67fc7d",
   "outputs": [],
   "execution_count": null
  },
  {
   "cell_type": "markdown",
   "id": "dcf3001cf5723fc5",
   "metadata": {},
   "source": "#### Label"
  },
  {
   "cell_type": "code",
   "id": "159d5cafd996152b",
   "metadata": {},
   "source": [
    "titulo(\"Classes da coluna \\033[1mLabel\\033[0m\")\n",
    "for classe in dados_analise['Label'].unique():\n",
    "    texto(classe)"
   ],
   "outputs": [],
   "execution_count": null
  },
  {
   "cell_type": "markdown",
   "id": "c000d0ede303db64",
   "metadata": {},
   "source": [
    "### 4.1.2\n",
    "\n"
   ]
  },
  {
   "cell_type": "markdown",
   "id": "78295df5c28c48f6",
   "metadata": {},
   "source": [
    "#### Derivar atributo (IMC)\n",
    "\n",
    "Depois de criar o novo atributo, podemos usar qualquer uma das funções que foram utilizadas para analisar o **dataset**, neste caso tratando-se de valores numéricos consideramos que a que a mais útil é a ``describe()``.\n",
    "\n",
    "Podemos também remover as colunas utilizadas para este cálculo uma vez que não vão ser necessárias.\n",
    "\n",
    "Faz sentido alguma limpeza do **Dataset** neste momento, pois vai facilitar o nosso trabalho."
   ]
  },
  {
   "cell_type": "code",
   "id": "d0b5810c02679cf8",
   "metadata": {},
   "source": [
    "dados_analise['IMC'] = dados_analise['Peso'] / (dados_analise['Altura'] * dados_analise['Altura'])\n",
    "dados_analise.drop(columns=['Peso', 'Altura'], inplace=True)"
   ],
   "outputs": [],
   "execution_count": null
  },
  {
   "metadata": {},
   "cell_type": "markdown",
   "source": "#### Rever o **dataset** após as alterações",
   "id": "2e45e938b4e68000"
  },
  {
   "cell_type": "code",
   "id": "60e72b1b7849649b",
   "metadata": {},
   "source": "dados_analise.describe(include=\"all\")",
   "outputs": [],
   "execution_count": null
  },
  {
   "cell_type": "markdown",
   "id": "689e5b8d4bddcab9",
   "metadata": {},
   "source": [
    "Finalmente, usamos novamente a função ``info()`` para confirmar as *series* com que vamos trabalhar de seguida. "
   ]
  },
  {
   "cell_type": "code",
   "id": "7e6688980181c909",
   "metadata": {},
   "source": "dados_analise.info()",
   "outputs": [],
   "execution_count": null
  },
  {
   "cell_type": "markdown",
   "id": "8a62b70cf6fa96c7",
   "metadata": {},
   "source": [
    "### 4.1.3 Analisar os atributos do conjunto de dados mais significativos, usando gráficos, ...\n"
   ]
  },
  {
   "cell_type": "markdown",
   "id": "b8abba5672aaa85c",
   "metadata": {},
   "source": [
    "#### Histogramas\n",
    "\n",
    "Com estes gráficos podemos ver a distribuição dos valores por \"segmentos\" de valores."
   ]
  },
  {
   "cell_type": "code",
   "id": "1719e0618ab6f006",
   "metadata": {},
   "source": [
    "if not skip_graficos:\n",
    "    sns.set(style=\"whitegrid\")\n",
    "    hist_columns_plot = ['FCV', 'NRP', 'CA', 'FAF', 'TUDE', 'IMC']\n",
    "\n",
    "    for idx, etiqueta_serie in enumerate(hist_columns_plot):\n",
    "        histograma(\n",
    "            dados=dados_analise[etiqueta_serie],\n",
    "            grupos=20,\n",
    "            kde=True,\n",
    "            size_x=10,\n",
    "            size_y=4,\n",
    "            titulo=f\"Distribuição de {etiqueta_serie}\",\n",
    "            etiqueta_x=etiqueta_serie,\n",
    "            etiqueta_y=\"Frequência\",\n",
    "            color=\"skyblue\",\n",
    "            edgecolor=\"black\",\n",
    "        )"
   ],
   "outputs": [],
   "execution_count": null
  },
  {
   "cell_type": "markdown",
   "id": "79f70a26a6b761be",
   "metadata": {},
   "source": [
    "#### Pie Charts\n",
    "\n",
    "A função ``tarte()`` retorna a ``Fig`` e o ``Axes`` para se poder personalizar mais o gráfico.\n",
    "É também possível passar parâmetros adicionais (*kwargs*), os quais serão usados na invocação de ``pie()``. "
   ]
  },
  {
   "cell_type": "code",
   "id": "871e3250e76c5cc3",
   "metadata": {},
   "source": [
    "if not skip_graficos:\n",
    "    tarte(\n",
    "        dados=dados_analise[\"Historico_obesidade_familiar\"].value_counts(),\n",
    "        size_x=4,\n",
    "        size_y=4,\n",
    "        titulo=\"Histórico obesidade familiar\",\n",
    "        labels=dados_lidos[\"Historico_obesidade_familiar\"].unique(),\n",
    "    )\n",
    "\n",
    "    tarte(\n",
    "        dados=dados_analise[\"FCCAC\"].value_counts(),\n",
    "        size_x=5,\n",
    "        size_y=5,\n",
    "        titulo=\"Frequência de Consumo de Comida Altamente Calórica\",\n",
    "        labels=dados_lidos[\"FCCAC\"].unique(),\n",
    "    )\n",
    "\n",
    "    tarte(\n",
    "        dados=dados_analise[\"Fumador\"].value_counts(),\n",
    "        size_x=5,\n",
    "        size_y=5,\n",
    "        titulo=\"Fumador\",\n",
    "        labels=dados_lidos[\"Fumador\"].unique(),\n",
    "    )\n",
    "\n",
    "    tarte(\n",
    "        dados=dados_analise[\"MCC\"].value_counts(),\n",
    "        size_x=5,\n",
    "        size_y=5,\n",
    "        titulo=\"Monitorização do Consumo Calorias\",\n",
    "        labels=dados_lidos[\"MCC\"].unique(),\n",
    "    )\n",
    "\n",
    "    tarte(\n",
    "        dados=dados_analise[\"CBA\"].value_counts(),\n",
    "        size_x=5,\n",
    "        size_y=5,\n",
    "        titulo=\"Consumo de Bebidas Alcoólicas\",\n",
    "        labels=dados_lidos[\"CBA\"].unique(),\n",
    "    )\n",
    "\n",
    "    tarte(\n",
    "        dados=dados_analise[\"TRANS\"].value_counts(),\n",
    "        size_x=5,\n",
    "        size_y=5,\n",
    "        titulo=\"Transporte\",\n",
    "        labels=[undersplit(texto) for texto in dados_lidos[\"TRANS\"].unique()],\n",
    "    )\n",
    "\n",
    "    tarte(\n",
    "        dados=dados_analise[\"Label\"].value_counts(),\n",
    "        size_x=5,\n",
    "        size_y=5,\n",
    "        titulo=\"Classificação do peso\",\n",
    "        labels=[undersplit(texto) for texto in dados_lidos[\"Label\"].unique()],\n",
    "    )"
   ],
   "outputs": [],
   "execution_count": null
  },
  {
   "cell_type": "markdown",
   "id": "43a0d1115b5d3f1",
   "metadata": {},
   "source": [
    "#### visualização de outliers"
   ]
  },
  {
   "cell_type": "code",
   "id": "60faff2f5ad64df1",
   "metadata": {},
   "source": [
    "if not skip_graficos:\n",
    "    boxplots_colunas = [\"IMC\", \"Idade\"]\n",
    "\n",
    "    for coluna in boxplots_colunas:\n",
    "        if (dados_analise[coluna].dtype != 'object'):\n",
    "            dados_analise.boxplot(\n",
    "                column=[coluna],\n",
    "                by=\"Label\",\n",
    "                grid=False,\n",
    "                figsize=(8, 6),\n",
    "                return_type=\"dict\",\n",
    "                rot=90,\n",
    "            )\n",
    "            plt.title(coluna)\n",
    "\n",
    "    plt.show()"
   ],
   "outputs": [],
   "execution_count": null
  },
  {
   "metadata": {},
   "cell_type": "code",
   "source": [
    "if not skip_graficos:\n",
    "    sns.pairplot(data=dados_analise, x_vars=colunas_numericas, y_vars=\"IMC\")"
   ],
   "id": "8c5fcd7cd1fde80",
   "outputs": [],
   "execution_count": null
  },
  {
   "cell_type": "markdown",
   "id": "1196a0a1e322149c",
   "metadata": {},
   "source": [
    "### 4.1.4\n",
    "\n",
    "#### a) Identificação de NAN e \"limpar\" o dataset."
   ]
  },
  {
   "metadata": {},
   "cell_type": "markdown",
   "source": "Verificar se existem valores nulos.",
   "id": "4f6480a8e737dfd1"
  },
  {
   "cell_type": "code",
   "id": "fd4d8a24c0e9ef29",
   "metadata": {},
   "source": "dados_analise[dados_analise.isnull().any(axis=1)]",
   "outputs": [],
   "execution_count": null
  },
  {
   "metadata": {},
   "cell_type": "markdown",
   "source": "Verificar se existem valores NaN",
   "id": "4a0140b227ebd89b"
  },
  {
   "metadata": {},
   "cell_type": "code",
   "source": "dados_analise[dados_analise.isna().any(axis=1)]",
   "id": "3513128921632150",
   "outputs": [],
   "execution_count": null
  },
  {
   "metadata": {},
   "cell_type": "markdown",
   "source": [
    "#### Notas sobre o pré-processamento dos dados\n",
    "\n",
    "Não foram encontrados valores nulos, nem valor **NaN**, não sendo por isso necessário fazer tratamento adicionais ao dados neste contexto. \n",
    "\n",
    "Algum do trabalho de limpeza foi realizado do ponto *4.1.2*. \n",
    "\n",
    "TODO: Comentário sobre dados inconsistentes e outliers\n",
    "TODO: Selecionar atributos (?)\n"
   ],
   "id": "b605ad322e8d4d3d"
  },
  {
   "metadata": {},
   "cell_type": "markdown",
   "source": [
    "#### Normalização\n",
    "\n",
    "A normalização consiste em transformar o intervalo de valores de um atributo em valores compreendidos entre **0** e **1**, para eliminar os efeitos da escala utilizada.\n",
    "\n",
    "Podemos utilizar o ``MinMaxScaler``. Apenas as colunas de valores numéricos devem ser normalizadas:\n",
    "\n",
    "Idade, FCV, NRP, CA, FAF, TUDE, IMC\n",
    " "
   ],
   "id": "6bd3b88b922718fd"
  },
  {
   "metadata": {},
   "cell_type": "code",
   "source": [
    "scaler = MinMaxScaler()\n",
    "dados_analise.loc[:, colunas_numericas] = scaler.fit_transform(dados_analise.loc[:, colunas_numericas])\n",
    "dados_analise"
   ],
   "id": "ef7c46c96b2ecf54",
   "outputs": [],
   "execution_count": null
  },
  {
   "metadata": {},
   "cell_type": "markdown",
   "source": [
    "#### Transformar classes em valores\n",
    "\n",
    "Vamos fazer esta operação para as colunas em que apenas temos 2 classes:\n",
    "\n",
    "* genero\n",
    "* historico_obesidade_familiar\n",
    "* FCCAC\n",
    "* Fumador\n",
    "* MCC\n",
    "\n",
    "NOTA: No mesmo passo em que fazemos a conversão, mostramos os valores finais."
   ],
   "id": "42169292519023c8"
  },
  {
   "metadata": {},
   "cell_type": "code",
   "source": [
    "for coluna in colunas_classes_binarias:\n",
    "    dados_analise[coluna] = label_encoder.fit_transform(dados_analise[coluna].values)\n",
    "    etiqueta_e_valor(coluna, dados_analise[coluna].unique())"
   ],
   "id": "d51d70cb6376e1b",
   "outputs": [],
   "execution_count": null
  },
  {
   "metadata": {},
   "cell_type": "markdown",
   "source": [
    "Para as colunas de classes com mais de 2 valores, vamos precisar de 2 abordagens, em algumas das operaçoes que vamos realizar precisamos de codificar os dados em valores numéricos, mas numa única coluna, enquanto que para outros precisamos de criar colunas \"dummy\" unado a função ``get_dummies`` do **pandas**.\n",
    "\n",
    "Começamos por fazer um duplicado dos dados e tratar cada conjunto de uma forma diferente."
   ],
   "id": "2f78236c020ea11e"
  },
  {
   "metadata": {},
   "cell_type": "code",
   "source": [
    "dados_com_dummies = dados_analise.copy()\n",
    "dados_trabalho = dados_analise.copy()"
   ],
   "id": "fe2e8a25cadd77be",
   "outputs": [],
   "execution_count": null
  },
  {
   "metadata": {},
   "cell_type": "markdown",
   "source": "#### Encoding das colunas com múltiplos valores",
   "id": "7a6d9a65f1df0aa2"
  },
  {
   "metadata": {},
   "cell_type": "code",
   "source": [
    "for coluna in colunas_classes_multiplos:\n",
    "    dados_trabalho[coluna] = label_encoder.fit_transform(dados_trabalho[coluna].values)\n",
    "    etiqueta_e_valor(coluna, dados_trabalho[coluna].unique())"
   ],
   "id": "f5127d0d9ba2c051",
   "outputs": [],
   "execution_count": null
  },
  {
   "metadata": {},
   "cell_type": "markdown",
   "source": [
    "#### Gerar Dummies para as colunas de classes\n",
    "\n",
    "\n",
    "\n",
    "CCER, CBA e TRANS"
   ],
   "id": "39db1f0aa93595b4"
  },
  {
   "metadata": {},
   "cell_type": "code",
   "source": "dados_com_dummies = pd.get_dummies(dados_com_dummies, dtype=float)",
   "id": "90c201858b08757e",
   "outputs": [],
   "execution_count": null
  },
  {
   "metadata": {},
   "cell_type": "markdown",
   "source": "O **DataFrame** *dados_com_dummies* vai ser preciso para o ponto *4.2*, vamos guardar num ficheiro, que será depois aberto no outro notebook.",
   "id": "8aa655236bb7892a"
  },
  {
   "metadata": {},
   "cell_type": "code",
   "source": "dados_com_dummies.to_csv(ficheiro_dummies)",
   "id": "22a9ee585050ae76",
   "outputs": [],
   "execution_count": null
  },
  {
   "metadata": {},
   "cell_type": "markdown",
   "source": [
    "### 4.1.5 Matriz de Correlação\n",
    "\n",
    "Para esta matriz vamos utilizar os dados previamente guardados (**dados_trabalho**) antes da preparação dos atributos para utilização nas várias metodologias que se seguem.  "
   ],
   "id": "ca6f8f24a421f7c6"
  },
  {
   "metadata": {},
   "cell_type": "code",
   "source": [
    "fig_corr = plt.figure(figsize=(12, 8))\n",
    "etiquetas_corr = [undersplit(texto) for texto in dados_trabalho.columns]\n",
    "\n",
    "for coluna in dados_trabalho.columns:\n",
    "    dados_trabalho[coluna] = label_encoder.fit_transform(dados_trabalho[coluna].values)\n",
    "\n",
    "sns.heatmap(dados_trabalho.corr(method=\"spearman\").abs(), cmap='coolwarm', annot=True, fmt='.2f', mask=False)\n",
    "\n",
    "plt.xticks(ticks=[i + 0.5 for i in range(len(dados_trabalho.columns))], labels=etiquetas_corr, rotation=45, ha='right')\n",
    "plt.yticks(ticks=[i + 0.5 for i in range(len(dados_trabalho.columns))], labels=etiquetas_corr)\n",
    "plt.title('Matriz de Correlação')\n",
    "plt.tight_layout()\n",
    "\n",
    "# plt.show()"
   ],
   "id": "ba4856fdb49c46d2",
   "outputs": [],
   "execution_count": null
  },
  {
   "metadata": {},
   "cell_type": "markdown",
   "source": "Por este diagrama podemos ver que não existe uma forte correlação entre nenhum dos atributos. ",
   "id": "9ab0c5a227579610"
  },
  {
   "metadata": {},
   "cell_type": "markdown",
   "source": [
    "### 4.1.6\n",
    "\n",
    "#### Hold-out\n",
    "\n",
    "**Hold-out** é o processo de dividir um conjunto de dados em 2 sub-conjuntos de forma aleatória, um de maior dimensão que será utilizado para treinar um algoritmo de Machine Learning e o outra para o testar.\n",
    "\n",
    "\n",
    "| Predictor | Target  |\n",
    "|-----------|---------|\n",
    "| Idade     | IMC     |"
   ],
   "id": "4b79803135bae8b1"
  },
  {
   "cell_type": "code",
   "id": "ade8d43b5fe33803",
   "metadata": {},
   "source": [
    "y = dados_trabalho.IMC\n",
    "X = dados_trabalho[[\"Idade\"]].to_numpy()\n",
    "\n",
    "X_train, X_test, y_train, y_test = train_test_split(X, y, train_size=0.8, test_size=0.2, random_state=100)"
   ],
   "outputs": [],
   "execution_count": null
  },
  {
   "metadata": {},
   "cell_type": "markdown",
   "source": "#### Apresentar informação sobre os datasets de treino e aprendizagem",
   "id": "3c18022d957afeae"
  },
  {
   "metadata": {},
   "cell_type": "code",
   "source": [
    "titulo(\"|\\t\\t\\t\\tDimensão\\t\\t\\t|\")\n",
    "titulo(\"|   |\\tTreino\\t\\t|\\tTeste\\t\\t|\")\n",
    "texto(f\"| X |\\t{X_train.shape}\\t|\\t{X_test.shape}\\t|\")\n",
    "texto(f\"| y |\\t{y_train.shape}\\t\\t|\\t{y_test.shape}\\t\\t|\")"
   ],
   "id": "729fa3a4c71b904e",
   "outputs": [],
   "execution_count": null
  },
  {
   "metadata": {},
   "cell_type": "markdown",
   "source": "#### Inicialização do algoritmo",
   "id": "b5e773e45cb02168"
  },
  {
   "metadata": {},
   "cell_type": "code",
   "source": "regr_lin = LinearRegression()",
   "id": "4e6ad4607a320601",
   "outputs": [],
   "execution_count": null
  },
  {
   "metadata": {},
   "cell_type": "markdown",
   "source": [
    "#### Treinar o algoritmo\n",
    "\n",
    "Para o treino utilizamos a função ``fit()``."
   ],
   "id": "b72102325dcb91ef"
  },
  {
   "metadata": {},
   "cell_type": "code",
   "source": "regr_lin.fit(X_train, y_train)",
   "id": "5a59e7012d57c7bf",
   "outputs": [],
   "execution_count": null
  },
  {
   "metadata": {},
   "cell_type": "markdown",
   "source": "#### 4.1.6 a)",
   "id": "cc5486c1e8a7c6d"
  },
  {
   "metadata": {},
   "cell_type": "code",
   "source": "etiqueta_e_valor(\"Equação da reta:\", f\" y = {regr_lin.intercept_:.3f} + {regr_lin.coef_[0]:.3f} x\")",
   "id": "ed858a8fd9594e66",
   "outputs": [],
   "execution_count": null
  },
  {
   "metadata": {},
   "cell_type": "markdown",
   "source": "$$y = 0,355 + 0,381x$$",
   "id": "5cf99ac0a2df1b0b"
  },
  {
   "metadata": {},
   "cell_type": "markdown",
   "source": "#### 4.1.6 b)",
   "id": "65eee0a340a05df4"
  },
  {
   "metadata": {},
   "cell_type": "code",
   "source": [
    "sns.regplot(x=\"Idade\", y=\"IMC\", data=dados_trabalho, order=1, ci=None, scatter_kws={\"color\": \"b\", \"s\": 0.1})\n",
    "plt.xlim(10, 65)\n",
    "plt.ylim(ymin=10);"
   ],
   "id": "ef97209ce3494257",
   "outputs": [],
   "execution_count": null
  },
  {
   "metadata": {},
   "cell_type": "markdown",
   "source": "Aplicar o modelo sobre o conjunto de teste.",
   "id": "7adb512f714f3f09"
  },
  {
   "metadata": {},
   "cell_type": "code",
   "source": "y_pred = regr_lin.predict(X_test)",
   "id": "906daa9b4cd577f",
   "outputs": [],
   "execution_count": null
  },
  {
   "metadata": {},
   "cell_type": "markdown",
   "source": [
    "#### MAE\n",
    "\n",
    "$$MAE = \\sum_{i=1}^{D}|x_i-y_i|$$"
   ],
   "id": "525409c6247a4782"
  },
  {
   "metadata": {},
   "cell_type": "code",
   "source": [
    "MAE = np.mean(abs(y_test - y_pred))\n",
    "etiqueta_e_valor(\"MAE no conjunto de dados de teste:\", f\"{MAE:.3f}\")"
   ],
   "id": "60e6c8811cc30a3e",
   "outputs": [],
   "execution_count": null
  },
  {
   "metadata": {},
   "cell_type": "markdown",
   "source": [
    "#### RMSE\n",
    "\n",
    "$$RMSE = \\sqrt{\\frac{\\sum_{i=0}^{N - 1} (y_i - \\hat{y}_i)^2}{N}}$$"
   ],
   "id": "803a0c8c69b52332"
  },
  {
   "metadata": {},
   "cell_type": "code",
   "source": [
    "RMSE = np.sqrt(np.mean((y_test - y_pred) ** 2))\n",
    "etiqueta_e_valor(\"RMSE no conjunto de dados de teste:\", f\"{RMSE:.3f}\")"
   ],
   "id": "8a0f52b13bf0e144",
   "outputs": [],
   "execution_count": null
  },
  {
   "metadata": {},
   "cell_type": "markdown",
   "source": [
    "#### Repetir o cálculo mas com outros previsores (preditors)\n",
    "\n",
    "O preditor vai mudando, podemos ter uma lista com o nome das colunas e fazer um ciclo que realiza os cálculos e guardamos o resultado num dicionário.\n",
    "\n",
    "TODO: Utilizam-se os atributos base ou os antes do tratamento de dados.   "
   ],
   "id": "47d3da661930b0a2"
  },
  {
   "metadata": {},
   "cell_type": "code",
   "source": [
    "dados_slr = dados_trabalho.copy()\n",
    "\n",
    "for coluna in dados_slr.columns:\n",
    "    dados_slr[coluna] = label_encoder.fit_transform(dados_slr[coluna].values)\n"
   ],
   "id": "46884f5d48e74a00",
   "outputs": [],
   "execution_count": null
  },
  {
   "metadata": {},
   "cell_type": "code",
   "source": [
    "# O target não vai mudar.\n",
    "y = dados_trabalho.IMC\n",
    "\n",
    "# O preditor vai mudando, podemos ter uma lista com o nome das colunas\n",
    "# lista_preditores = ['Genero', 'Historico_obesidade_familiar', 'FCCAC', 'FCV', 'NRP', 'CCER', 'Fumador', 'CA', 'MCC', 'FAF', 'TUDE', 'CBA', 'TRANS']\n",
    "\n",
    "lista_preditores = dados_trabalho.columns\n",
    "\n",
    "# Resultados\n",
    "resultados = {}\n",
    "\n",
    "for preditor in lista_preditores:\n",
    "    X_preditor = dados_trabalho[[preditor]].to_numpy()\n",
    "    X_train_1, X_test_1, y_train, y_test = train_test_split(X_preditor, y, train_size=0.8, test_size=0.2,\n",
    "                                                            random_state=100)\n",
    "    line_regr = LinearRegression()\n",
    "    modelo = line_regr.fit(X_train_1, y_train)\n",
    "\n",
    "    y_pred_1 = line_regr.predict(X_test_1)\n",
    "\n",
    "    resultados[preditor] = {\n",
    "        # \"X_train\": X_train_1,\n",
    "        # \"X_test\": X_test_1,\n",
    "        # \"y_train\": y_train,\n",
    "        # \"y_test\": y_test,\n",
    "        \"modelo\": modelo,\n",
    "        \"y_pred\": y_pred_1,\n",
    "        \"MAE\": np.mean(abs(y_test - y_pred_1)),\n",
    "        \"RMSE\": np.sqrt(np.mean((y_test - y_pred_1) ** 2))\n",
    "    }\n"
   ],
   "id": "c2c87e6b49b2b826",
   "outputs": [],
   "execution_count": null
  },
  {
   "metadata": {},
   "cell_type": "markdown",
   "source": [
    "#### Tabela com os resultados\n",
    "\n",
    "Uma vez que temos o pandas, podemos utilizar este para apresentar a informação em formato de tabela.\n",
    "\n",
    "\n",
    "TODO: Agora é preciso analisar os resultados e talvez produzir algum gráfico ou análise estatistica."
   ],
   "id": "445cb6ae3533cc5c"
  },
  {
   "metadata": {},
   "cell_type": "code",
   "source": [
    "resultado = pd.DataFrame(resultados)\n",
    "\n",
    "resultado.loc[[\"MAE\", \"RMSE\"]]\n"
   ],
   "id": "dac58d4e5c15b3f4",
   "outputs": [],
   "execution_count": null
  },
  {
   "metadata": {},
   "cell_type": "markdown",
   "source": [
    "### 4.1.7\n",
    "\n",
    "#### a) Utilizar Regressão Linear Múltipla\n",
    "\n",
    "| Target | Preditores |\n",
    "|--------|------------|\n",
    "| IMC    | ??         |\n",
    "\n",
    "Ver TP5\n",
    "\n",
    "\n",
    "Holdout\n",
    "\n"
   ],
   "id": "fd778f35ad6598a4"
  },
  {
   "metadata": {},
   "cell_type": "code",
   "source": [
    "y = dados_trabalho.IMC\n",
    "X = dados_trabalho[lista_preditores].to_numpy()\n",
    "\n",
    "X_train, X_test, y_train, y_test = train_test_split(X, y, train_size=0.8, test_size=0.2,\n",
    "                                                    random_state=100)"
   ],
   "id": "a43b833390546771",
   "outputs": [],
   "execution_count": null
  },
  {
   "metadata": {},
   "cell_type": "markdown",
   "source": [
    "TODO: Imprimir a equação corretamente\n",
    "TODO: Rever o código é cópia do TP5 "
   ],
   "id": "fe26c5e9004a8a28"
  },
  {
   "metadata": {},
   "cell_type": "code",
   "source": [
    "## Initialize algorithm\n",
    "mlr = LinearRegression()\n",
    "\n",
    "## Fit the data\n",
    "mlr.fit(X_train, y_train)\n",
    "\n",
    "print(\"Eq. da reta: y=\", mlr.intercept_, \"+\", mlr.coef_, \"x\")"
   ],
   "id": "1d83d9536bae825d",
   "outputs": [],
   "execution_count": null
  },
  {
   "metadata": {},
   "cell_type": "code",
   "source": [
    "#Prediction of test set\n",
    "y_pred_mlr = mlr.predict(X_test)\n",
    "#Predicted values\n",
    "#print(\"Prediction for test set: {}\".format(y_pred_mlr))"
   ],
   "id": "55123db6eb2a31b9",
   "outputs": [],
   "execution_count": null
  },
  {
   "metadata": {},
   "cell_type": "code",
   "source": [
    "#Actual value and the predicted value\n",
    "mlr_diff = pd.DataFrame({'Actual value': y_test, 'Predicted value': y_pred_mlr})\n",
    "mlr_diff.head()"
   ],
   "id": "f0f2ade31f13ceff",
   "outputs": [],
   "execution_count": null
  },
  {
   "metadata": {},
   "cell_type": "code",
   "source": [
    "#Model Evaluation\n",
    "from sklearn import metrics\n",
    "\n",
    "meanAbErr = metrics.mean_absolute_error(y_test, y_pred_mlr)\n",
    "meanSqErr = metrics.mean_squared_error(y_test, y_pred_mlr)\n",
    "\n",
    "rootMeanSqErr = np.sqrt(metrics.mean_squared_error(y_test, y_pred_mlr))\n",
    "\n",
    "print('R squared: {:.2f}'.format(mlr.score(X, y) * 100))\n",
    "print('Mean Absolute Error:', meanAbErr)\n",
    "print('Mean Square Error:', meanSqErr)\n",
    "print('Root Mean Square Error:', rootMeanSqErr)"
   ],
   "id": "dbedd1efe6a867ad",
   "outputs": [],
   "execution_count": null
  },
  {
   "metadata": {},
   "cell_type": "code",
   "source": "",
   "id": "c857b2c592c6cf71",
   "outputs": [],
   "execution_count": null
  },
  {
   "metadata": {},
   "cell_type": "markdown",
   "source": [
    "#### b) DecisionTreeRegressor\n",
    "\n",
    "Vamos usar os mesmos sets de treino e de teste.\n",
    "\n",
    "TODO: Rever o código é cópia do TP5, ver TP7 tem uns testes que talvez sejam necessários."
   ],
   "id": "1c52cb814e257f3e"
  },
  {
   "metadata": {},
   "cell_type": "code",
   "source": [
    "arvore_decisao = DecisionTreeRegressor(\n",
    "    random_state=42,\n",
    "    max_depth=6,\n",
    "    min_samples_split=3\n",
    ")  # Restrição de alguns parâmetros da árvore\n",
    "modelo_regressao = arvore_decisao.fit(X_train, y_train)\n",
    "\n",
    "y_pred = arvore_decisao.predict(X_train)\n",
    "y_pred1 = arvore_decisao.predict(X_test)"
   ],
   "id": "8a38c6a0365b3908",
   "outputs": [],
   "execution_count": null
  },
  {
   "metadata": {},
   "cell_type": "code",
   "source": [
    "MAE1 = metrics.mean_absolute_error(y_train, y_pred)\n",
    "MAE2 = metrics.mean_absolute_error(y_test, y_pred1)\n",
    "MAE3 = np.mean(abs(y_test - y_pred1))  #efetuando os cálculos\n",
    "\n",
    "print(\"MAE on training set: {:.3f}\".format(MAE1))\n",
    "print(\"MAE on test set: {:.3f}\".format(MAE2))\n",
    "print(\"MAE on test set: {:.3f}\".format(MAE3))  #efetuando os cálculos\n",
    "\n",
    "RMSE = np.sqrt(np.mean((y_test - y_pred1) ** 2))\n",
    "print(\"RMSE: {:.4f}\".format(RMSE))"
   ],
   "id": "4183f611a86db6fa",
   "outputs": [],
   "execution_count": null
  },
  {
   "metadata": {},
   "cell_type": "markdown",
   "source": [
    "Visualização da Regression Tree\n",
    "\n",
    "TODO: QUe valores utilizar?"
   ],
   "id": "a2db9c12dcb86b27"
  },
  {
   "metadata": {},
   "cell_type": "code",
   "source": [
    "tree.plot_tree(\n",
    "    modelo_regressao,\n",
    "    feature_names=list(dados_trabalho.columns),\n",
    "    class_names=list(dados_trabalho['IMC']),\n",
    "    filled=True,\n",
    "    fontsize=6\n",
    ");"
   ],
   "id": "9c5a12ff0169f9",
   "outputs": [],
   "execution_count": null
  },
  {
   "metadata": {},
   "cell_type": "markdown",
   "source": "#### Modelo de regressão",
   "id": "5535dca4fcb87d7a"
  },
  {
   "metadata": {},
   "cell_type": "markdown",
   "source": "",
   "id": "765997fe236b7eff"
  },
  {
   "metadata": {},
   "cell_type": "code",
   "source": "print(export_text(modelo_regressao, show_weights=True))",
   "id": "b21c57b811490d3f",
   "outputs": [],
   "execution_count": null
  },
  {
   "metadata": {},
   "cell_type": "markdown",
   "source": [
    "#### c) MLPRegressor\n",
    "\n",
    "TODO: Rever código é cópia do TP7"
   ],
   "id": "37a2eb1fb4937d55"
  },
  {
   "metadata": {},
   "cell_type": "code",
   "source": [
    "Nhidden = 1  # (?)\n",
    "\n",
    "nn = MLPRegressor(hidden_layer_sizes=Nhidden,\n",
    "                  activation='tanh',\n",
    "                  solver='lbfgs', max_iter=1000, learning_rate_init=0.001)"
   ],
   "id": "af0afb55cfd48c09",
   "outputs": [],
   "execution_count": null
  },
  {
   "metadata": {},
   "cell_type": "code",
   "source": "nn.fit(X_train, y_train)",
   "id": "b722555617600987",
   "outputs": [],
   "execution_count": null
  },
  {
   "metadata": {},
   "cell_type": "code",
   "source": [
    "# Make prediction\n",
    "pred = nn.predict(X_test)\n",
    "#\n",
    "# Calculate accuracy and error metrics\n",
    "#\n",
    "test_set_rsquared = nn.score(X_test, y_test)\n",
    "test_set_rmse = np.sqrt(mean_squared_error(y_test, pred))\n",
    "#\n",
    "# Print R_squared and RMSE value\n",
    "#\n",
    "print('R_squared value: ', test_set_rsquared)\n",
    "print('RMSE: ', test_set_rmse)"
   ],
   "id": "24afe60509acfefe",
   "outputs": [],
   "execution_count": null
  },
  {
   "metadata": {},
   "cell_type": "code",
   "source": [
    "print(\"weights between input and first hidden layer:\")\n",
    "print(nn.coefs_[0])\n",
    "print(\"\\nweights between first hidden and second hidden layer:\")\n",
    "print(nn.coefs_[1])"
   ],
   "id": "a2751674df64fede",
   "outputs": [],
   "execution_count": null
  },
  {
   "metadata": {},
   "cell_type": "markdown",
   "source": [
    "### 4.1.8\n",
    "\n",
    "TODO Realizar os cálculos do MAE e RMSE do 4.1.7 colunas num DataFrame e imprimir"
   ],
   "id": "59d2110fbfe3ad9f"
  },
  {
   "metadata": {},
   "cell_type": "code",
   "source": [
    "comparar_417 = pd.DataFrame()\n",
    "comparar_417"
   ],
   "id": "ad735301625b75c8",
   "outputs": [],
   "execution_count": null
  },
  {
   "metadata": {},
   "cell_type": "markdown",
   "source": [
    "### 4.1.9\n",
    "\n",
    "TODO: Estudo estatistico (ttest_ind) ? para os 2 modelos que apresentem melhores resultados."
   ],
   "id": "807f585eb8b5dfce"
  },
  {
   "metadata": {},
   "cell_type": "code",
   "source": "",
   "id": "c74699d3be1b4a7a",
   "outputs": [],
   "execution_count": null
  }
 ],
 "metadata": {
  "kernelspec": {
   "display_name": "Python 3 (ipykernel)",
   "language": "python",
   "name": "python3"
  },
  "language_info": {
   "codemirror_mode": {
    "name": "ipython",
    "version": 3
   },
   "file_extension": ".py",
   "mimetype": "text/x-python",
   "name": "python",
   "nbconvert_exporter": "python",
   "pygments_lexer": "ipython3",
   "version": "3.11.1"
  }
 },
 "nbformat": 4,
 "nbformat_minor": 5
}
