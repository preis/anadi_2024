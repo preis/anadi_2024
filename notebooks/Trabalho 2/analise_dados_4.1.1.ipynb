{
 "cells": [
  {
   "metadata": {},
   "cell_type": "markdown",
   "source": [
    "# Trabalho 2\n",
    "\n",
    "## 4.1\n",
    "\n",
    "### Imports"
   ],
   "id": "85a7ea6a695c05da"
  },
  {
   "metadata": {},
   "cell_type": "code",
   "outputs": [],
   "execution_count": null,
   "source": [
    "import warnings\n",
    "\n",
    "import matplotlib.pyplot as plt\n",
    "import numpy as np\n",
    "import pandas as pd\n",
    "import seaborn as sns\n",
    "from sklearn import tree\n",
    "from sklearn.linear_model import LinearRegression\n",
    "from sklearn.metrics import mean_squared_error\n",
    "from sklearn.model_selection import train_test_split\n",
    "from sklearn.neural_network import MLPRegressor\n",
    "from sklearn.preprocessing import LabelEncoder, MinMaxScaler\n",
    "from sklearn.tree import DecisionTreeRegressor, export_text"
   ],
   "id": "80c0c066dced2d2c"
  },
  {
   "metadata": {},
   "cell_type": "markdown",
   "source": "### Variáveis",
   "id": "b65720eb15975a5d"
  },
  {
   "metadata": {},
   "cell_type": "code",
   "outputs": [],
   "execution_count": null,
   "source": [
    "ficheiro = \"../../ficheiros/Trabalho 2/Dados_Trabalho_TP2.csv\"\n",
    "ficheiro_dummies = \"../../ficheiros/Trabalho 2/Dados_Trabalho_dummies_TP2.csv\"\n",
    "colunas_classes_binarias = ['Genero', 'Historico_obesidade_familiar', 'FCCAC', 'Fumador',\n",
    "                            'MCC']  # Colunas de valores binários, ver 4.1.1.\n",
    "colunas_numericas = [\"Idade\", \"FCV\", \"NRP\", \"CA\", \"FAF\", \"TUDE\", \"IMC\"]\n",
    "colunas_classes = ['Genero', 'Historico_obesidade_familiar', 'FCCAC', 'Fumador', 'MCC']\n",
    "colunas_classes_multiplos = [\"CCER\", \"CBA\", \"TRANS\"]\n",
    "\n",
    "%matplotlib inline\n",
    "\n",
    "skip_graficos = False"
   ],
   "id": "88d0265077162ef2"
  },
  {
   "metadata": {},
   "cell_type": "markdown",
   "source": "## Funções auxiliares",
   "id": "71b63707ae4106e0"
  },
  {
   "metadata": {},
   "cell_type": "code",
   "outputs": [],
   "execution_count": null,
   "source": [
    "def titulo(texto: str):\n",
    "    print(f\"\\033[21;30;44m{texto}\\033[0m\")\n",
    "\n",
    "\n",
    "def etiqueta_e_valor(etiqueta: str, valor: str = \"\"):\n",
    "    print(f\"\\033[0;94m{etiqueta}: \\033[1;94m{valor}\\033[0m\")\n",
    "\n",
    "\n",
    "def texto(texto: str, cor=\"94\"):\n",
    "    print(f\"\\033[0;{cor}m{texto}\\033[0m\")\n",
    "\n",
    "\n",
    "def undersplit(texto):\n",
    "    return \" \".join(texto.split(\"_\"))\n",
    "\n",
    "\n",
    "def histograma(\n",
    "        dados: pd.Series,\n",
    "        grupos: int = 20,\n",
    "        kde: bool = True,\n",
    "        size_x: int = 4,\n",
    "        size_y: int = 4,\n",
    "        titulo: str = \"\",\n",
    "        etiqueta_x: str = \"\",\n",
    "        etiqueta_y: str = \"\",\n",
    "        color: str = \"skyblue\",\n",
    "        edgecolor: str = \"black\",\n",
    "):\n",
    "    \"\"\"Gera um histograma de forma isolada.\n",
    "    \n",
    "    A dimensão final do gráfico é controlada pela relação entre os valores size_x e size_y.\n",
    "    \"\"\"\n",
    "    hist_fig, hist_axes = plt.subplots(figsize=(size_x, size_y))\n",
    "    sns.histplot(dados, bins=grupos, kde=kde, color=color, edgecolor=edgecolor)\n",
    "    hist_axes.set_title(titulo)\n",
    "    hist_axes.set_xlabel(etiqueta_x)\n",
    "    hist_axes.set_ylabel(etiqueta_y)\n",
    "    plt.tight_layout()\n",
    "\n",
    "\n",
    "def tarte(\n",
    "        dados: pd.Series,\n",
    "        size_x: int = 4,\n",
    "        size_y: int = 4,\n",
    "        autopct=\"%.2f%%\",\n",
    "        titulo: str = \"\",\n",
    "        **kwargs,\n",
    "):\n",
    "    pie_fig, pie_axes = plt.subplots(figsize=(size_x, size_y))\n",
    "    pie_axes.pie(\n",
    "        dados,\n",
    "        autopct=autopct,\n",
    "        **kwargs\n",
    "    )\n",
    "    pie_fig.suptitle(titulo)\n",
    "    return pie_fig, pie_axes\n"
   ],
   "id": "9bd7ba087ee2de82"
  },
  {
   "metadata": {},
   "cell_type": "markdown",
   "source": "## Inicializações",
   "id": "d5bc1709b3c2bfa5"
  },
  {
   "metadata": {},
   "cell_type": "code",
   "outputs": [],
   "execution_count": null,
   "source": [
    "warnings.filterwarnings(\"ignore\")  # Desabilitar warnbings.\n",
    "plt.style.use(\n",
    "    \"style/estilo.mplstyle\")  # Garantir que se utiliza um estilo definido centralmente e comum a todos os gráficos.\n",
    "label_encoder = LabelEncoder()"
   ],
   "id": "1bf7256a3805e586"
  },
  {
   "metadata": {},
   "cell_type": "markdown",
   "source": [
    "## 4.1.1\n",
    "\n",
    "### Leitura de dados\n",
    "\n",
    "Como os dados lidos não são em grande quantidade, vamos criar uma cópia do **dataset** para trabalharmos nesta, para poder ter acesso aos \"originais\" sem ter de os ler novamente do ficheiro.\n",
    "Por exemplo em alguns dos gráficos, a utilização das *classes* (valores originais) como *etiqueta* é mais elucidativa que usar os valores codificados.  \n",
    "\n",
    "Na análise ao **dataset** verifica-se que a primeira coluna, identificada como \"Unnamed\" tem o indíce de cada registo de dados, algo que nos é fornecido pelo **pandas**, e portanto podemos eliminar esta coluna. \n",
    "Esta operação estaria incluída nas tarefas do ponto *4.1.4*, mas realizar neste ponto facilita a criação dos gráficos no próximo ponto."
   ],
   "id": "7d8837c3352fe244"
  },
  {
   "metadata": {},
   "cell_type": "code",
   "outputs": [],
   "execution_count": null,
   "source": [
    "dados_lidos = pd.read_csv(ficheiro)\n",
    "dados_analise = dados_lidos.copy()\n",
    "dados_analise.drop(columns=dados_lidos.columns[0], axis=1, inplace=True)"
   ],
   "id": "bff9668cf13ec8fa"
  },
  {
   "metadata": {},
   "cell_type": "markdown",
   "source": [
    "### Dimensão dos dados (lidos)\n",
    "\n",
    "Os dados lidos incluem 1 coluna com o valor dos indices das linhas, que é removida de imediato."
   ],
   "id": "b696b8355386aa45"
  },
  {
   "metadata": {},
   "cell_type": "code",
   "outputs": [],
   "execution_count": null,
   "source": [
    "nr_linhas, nr_colunas = dados_lidos.shape\n",
    "titulo(\"Dimensão dos dados\")\n",
    "etiqueta_e_valor(\"Número de linhas:\", nr_linhas)\n",
    "etiqueta_e_valor(\"Número de colunas:\", nr_colunas)"
   ],
   "id": "55505a39d38845b"
  },
  {
   "metadata": {},
   "cell_type": "markdown",
   "source": [
    "### Análise do dataset\n",
    "\n",
    "#### Atributos\n",
    "\n",
    "Descrição dos atributos, segundo a documentação. \n",
    "\n",
    "| Sigla | Descrição                                                         |\n",
    "|-------|-------------------------------------------------------------------|\n",
    "| FCCAC | Frequência de Consumo de Comida Altamente Calórica                | \n",
    "| FCV   | Frequência de Consumo de Vegetais                                 | \n",
    "| NRP   | Número de Refeições Principais                                    |\n",
    "| CCER  | Consumo de Comida Entre Refeições                                 |\n",
    "| CA    | Consumo de Água                                                   |\n",
    "| CBA   | Consumo de Bebidas Alcoólicas                                     |\n",
    "| MCC   | Monitorização do Consumo Calorias Histórico de Obesidade Familiar | "
   ],
   "id": "7997e020a84c0098"
  },
  {
   "metadata": {},
   "cell_type": "markdown",
   "source": [
    "### Informação sobre o dataset\n",
    "\n",
    "A função ``info()`` apresenta a informação das colunas (atríbutos): Index da coluna, nome (se tiver, quantidade de registos *não nulos* e o tipo de dados de cada um deles."
   ],
   "id": "1696a7ed02dca7c7"
  },
  {
   "metadata": {},
   "cell_type": "code",
   "outputs": [],
   "execution_count": null,
   "source": "dados_analise.info()",
   "id": "eb56da3d29357aaa"
  },
  {
   "metadata": {},
   "cell_type": "markdown",
   "source": [
    "### Amostra do dataset\n",
    "\n",
    "Para uma rápida visualização dos dados, temos as funções ``head(n)`` e ``tail(n)`` que nos dão *n* linhas, por defeito **5**, respetivamente do início ou fim do **dataset**."
   ],
   "id": "1f46083277a98f92"
  },
  {
   "metadata": {},
   "cell_type": "code",
   "outputs": [],
   "execution_count": null,
   "source": "dados_analise.head()",
   "id": "1b868456d849c246"
  },
  {
   "metadata": {},
   "cell_type": "code",
   "outputs": [],
   "execution_count": null,
   "source": "dados_analise.tail()",
   "id": "3ec936e1a30c1053"
  },
  {
   "metadata": {},
   "cell_type": "markdown",
   "source": [
    "#### Descrição do dados do dateset\n",
    "\n",
    "A função ``describe()`` analisa os dados do **dataset** e retorna um conjunto de estatísticas descritivas."
   ],
   "id": "49526edaa48495f4"
  },
  {
   "metadata": {},
   "cell_type": "code",
   "outputs": [],
   "execution_count": null,
   "source": "dados_analise.describe(include=\"all\")",
   "id": "fc84159304bf2496"
  },
  {
   "metadata": {},
   "cell_type": "markdown",
   "source": [
    "### Identificar as classes dos atributos\n",
    "\n",
    "Os atributos numéricos serão trabalhados mais adiante, quando fizermos a sua **normalização**. Para já vamos verificar as classes existentes para decidir qual a melhor estratégia para os preparar para a utilização nos vários métodos que vamos utilizar."
   ],
   "id": "5562d983629f532f"
  },
  {
   "metadata": {},
   "cell_type": "markdown",
   "source": "#### Genero",
   "id": "940950b561f8831c"
  },
  {
   "metadata": {},
   "cell_type": "code",
   "outputs": [],
   "execution_count": null,
   "source": [
    "titulo(\"Classes da coluna \\033[1mGenero\\033[0m\")\n",
    "for classe in dados_analise['Genero'].unique():\n",
    "    texto(classe)"
   ],
   "id": "cef012615e68b67e"
  },
  {
   "metadata": {},
   "cell_type": "markdown",
   "source": "#### Historico_obesidade_familiar",
   "id": "5c455e554eea02"
  },
  {
   "metadata": {},
   "cell_type": "code",
   "outputs": [],
   "execution_count": null,
   "source": "",
   "id": "402cb3391d202217"
  },
  {
   "metadata": {},
   "cell_type": "code",
   "outputs": [],
   "execution_count": null,
   "source": "",
   "id": "fc12be3bc969448b"
  },
  {
   "metadata": {},
   "cell_type": "code",
   "outputs": [],
   "execution_count": null,
   "source": "",
   "id": "cfbc5f72c1c3df83"
  }
 ],
 "metadata": {
  "kernelspec": {
   "display_name": "Python 3",
   "language": "python",
   "name": "python3"
  },
  "language_info": {
   "codemirror_mode": {
    "name": "ipython",
    "version": 2
   },
   "file_extension": ".py",
   "mimetype": "text/x-python",
   "name": "python",
   "nbconvert_exporter": "python",
   "pygments_lexer": "ipython2",
   "version": "2.7.6"
  }
 },
 "nbformat": 4,
 "nbformat_minor": 5
}
