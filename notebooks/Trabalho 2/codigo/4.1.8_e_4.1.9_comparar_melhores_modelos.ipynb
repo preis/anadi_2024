{
 "cells": [
  {
   "metadata": {},
   "cell_type": "markdown",
   "source": [
    "# Trabalho 2\n",
    "\n",
    "## 4\n",
    "\n",
    "Neste notebook estão os códigos os códigos dos 3 algoritmos num modo que permite fazer ciclo nas múltiplas divisões Treino-Teste dos dados e aplicar os 3 algoritmos par assim recolher amostras emparelhadas das métricas de cada um dos modelos.\n",
    "O pedido é para os 2 melhores resultados, no entanto na altura em que esta parte do código foi realizada ainda não tinhamos a certeza de quais iam ser. Pelo que para prevenir fez-se dos 3.\n",
    "\n",
    "### Imports"
   ],
   "id": "6088aada86d4442b"
  },
  {
   "metadata": {
    "ExecuteTime": {
     "end_time": "2024-06-08T22:51:11.473301Z",
     "start_time": "2024-06-08T22:51:11.469302Z"
    }
   },
   "cell_type": "code",
   "source": [
    "import warnings\n",
    "\n",
    "import matplotlib.pyplot as plt\n",
    "import numpy as np\n",
    "import pandas as pd\n",
    "from scipy.stats import stats\n",
    "from sklearn.linear_model import LinearRegression\n",
    "from sklearn.metrics import mean_squared_error, mean_absolute_error\n",
    "from sklearn.model_selection import train_test_split\n",
    "from sklearn.preprocessing import LabelEncoder\n",
    "from sklearn.tree import DecisionTreeRegressor\n",
    "from sklearn.neural_network import MLPRegressor\n",
    "import statistics\n",
    "import utilidades as ut"
   ],
   "id": "c14b967b812d083b",
   "outputs": [],
   "execution_count": 34
  },
  {
   "metadata": {},
   "cell_type": "markdown",
   "source": "### Inicializações e variáveis",
   "id": "ff02a40a70bf478d"
  },
  {
   "metadata": {
    "ExecuteTime": {
     "end_time": "2024-06-08T21:51:01.687646Z",
     "start_time": "2024-06-08T21:51:01.673181Z"
    }
   },
   "cell_type": "code",
   "source": [
    "warnings.filterwarnings(\"ignore\")  # Desabilitar warnings.\n",
    "plt.style.use(\n",
    "    \"style/estilo.mplstyle\")  # Garantir que se utiliza um estilo definido centralmente e comum a todos os gráficos.\n",
    "%matplotlib inline\n",
    "\n",
    "label_encoder = LabelEncoder()\n",
    "\n",
    "ficheiro = \"dados_preparados.csv\"\n",
    "colunas_numericas = [\"Idade\", \"FCV\", \"NRP\", \"CA\", \"FAF\", \"TUDE\", \"IMC\"]\n",
    "colunas_classes = [\"Genero\", \"Historico_obesidade_familiar\", \"FCCAC\", \"Fumador\", \"MCC\", \"CCER\", \"CBA\", \"TRANS\"]\n",
    "colunas_classes_binarias = ['Genero', 'Historico_obesidade_familiar', 'FCCAC', 'Fumador', 'MCC']\n",
    "colunas_classes_multiplos = [\"CCER\", \"CBA\", \"TRANS\", \"Label\"]"
   ],
   "id": "bff4210b269d953e",
   "outputs": [],
   "execution_count": 2
  },
  {
   "metadata": {},
   "cell_type": "markdown",
   "source": "## Leitura dos dados preparados",
   "id": "dfa043fc61ddba02"
  },
  {
   "metadata": {
    "ExecuteTime": {
     "end_time": "2024-06-08T21:51:01.699Z",
     "start_time": "2024-06-08T21:51:01.688651Z"
    }
   },
   "cell_type": "code",
   "source": "dados_trabalho = pd.read_csv(ficheiro)",
   "id": "15f9fff826ebd90c",
   "outputs": [],
   "execution_count": 3
  },
  {
   "metadata": {
    "ExecuteTime": {
     "end_time": "2024-06-08T21:51:01.712539Z",
     "start_time": "2024-06-08T21:51:01.699Z"
    }
   },
   "cell_type": "code",
   "source": "dados_trabalho",
   "id": "23f741d3f20d3773",
   "outputs": [
    {
     "data": {
      "text/plain": [
       "         Genero      Idade Historico_obesidade_familiar FCCAC  FCV  NRP  \\\n",
       "0      Feminino  21.000000                          Sim   Nao  2.0  3.0   \n",
       "1      Feminino  21.000000                          Sim   Nao  3.0  3.0   \n",
       "2     Masculino  23.000000                          Sim   Nao  2.0  3.0   \n",
       "3     Masculino  27.000000                          Nao   Nao  3.0  3.0   \n",
       "4     Masculino  22.000000                          Nao   Nao  2.0  1.0   \n",
       "...         ...        ...                          ...   ...  ...  ...   \n",
       "2106   Feminino  20.976842                          Sim   Sim  3.0  3.0   \n",
       "2107   Feminino  21.982942                          Sim   Sim  3.0  3.0   \n",
       "2108   Feminino  22.524036                          Sim   Sim  3.0  3.0   \n",
       "2109   Feminino  24.361936                          Sim   Sim  3.0  3.0   \n",
       "2110   Feminino  23.664709                          Sim   Sim  3.0  3.0   \n",
       "\n",
       "                CCER Fumador        CA  MCC       FAF      TUDE  \\\n",
       "0     Ocasionalmente     Nao  2.000000  Nao  0.000000  1.000000   \n",
       "1     Ocasionalmente     Sim  3.000000  Sim  3.000000  0.000000   \n",
       "2     Ocasionalmente     Nao  2.000000  Nao  2.000000  1.000000   \n",
       "3     Ocasionalmente     Nao  2.000000  Nao  2.000000  0.000000   \n",
       "4     Ocasionalmente     Nao  2.000000  Nao  0.000000  0.000000   \n",
       "...              ...     ...       ...  ...       ...       ...   \n",
       "2106  Ocasionalmente     Nao  1.728139  Nao  1.676269  0.906247   \n",
       "2107  Ocasionalmente     Nao  2.005130  Nao  1.341390  0.599270   \n",
       "2108  Ocasionalmente     Nao  2.054193  Nao  1.414209  0.646288   \n",
       "2109  Ocasionalmente     Nao  2.852339  Nao  1.139107  0.586035   \n",
       "2110  Ocasionalmente     Nao  2.863513  Nao  1.026452  0.714137   \n",
       "\n",
       "                 CBA                 TRANS                 Label        IMC  \n",
       "0                Nao  Transportes_Publicos           Peso_Normal  24.386526  \n",
       "1     Ocasionalmente  Transportes_Publicos           Peso_Normal  24.238227  \n",
       "2     Frequentemente  Transportes_Publicos           Peso_Normal  23.765432  \n",
       "3     Frequentemente             Caminhada   Excesso_Peso_Grau_I  26.851852  \n",
       "4     Ocasionalmente  Transportes_Publicos  Excesso_Peso_Grau_II  28.342381  \n",
       "...              ...                   ...                   ...        ...  \n",
       "2106  Ocasionalmente  Transportes_Publicos     Obesidade_Mórbida  44.901475  \n",
       "2107  Ocasionalmente  Transportes_Publicos     Obesidade_Mórbida  43.741923  \n",
       "2108  Ocasionalmente  Transportes_Publicos     Obesidade_Mórbida  43.543817  \n",
       "2109  Ocasionalmente  Transportes_Publicos     Obesidade_Mórbida  44.071535  \n",
       "2110  Ocasionalmente  Transportes_Publicos     Obesidade_Mórbida  44.144338  \n",
       "\n",
       "[2111 rows x 16 columns]"
      ],
      "text/html": [
       "<div>\n",
       "<style scoped>\n",
       "    .dataframe tbody tr th:only-of-type {\n",
       "        vertical-align: middle;\n",
       "    }\n",
       "\n",
       "    .dataframe tbody tr th {\n",
       "        vertical-align: top;\n",
       "    }\n",
       "\n",
       "    .dataframe thead th {\n",
       "        text-align: right;\n",
       "    }\n",
       "</style>\n",
       "<table border=\"1\" class=\"dataframe\">\n",
       "  <thead>\n",
       "    <tr style=\"text-align: right;\">\n",
       "      <th></th>\n",
       "      <th>Genero</th>\n",
       "      <th>Idade</th>\n",
       "      <th>Historico_obesidade_familiar</th>\n",
       "      <th>FCCAC</th>\n",
       "      <th>FCV</th>\n",
       "      <th>NRP</th>\n",
       "      <th>CCER</th>\n",
       "      <th>Fumador</th>\n",
       "      <th>CA</th>\n",
       "      <th>MCC</th>\n",
       "      <th>FAF</th>\n",
       "      <th>TUDE</th>\n",
       "      <th>CBA</th>\n",
       "      <th>TRANS</th>\n",
       "      <th>Label</th>\n",
       "      <th>IMC</th>\n",
       "    </tr>\n",
       "  </thead>\n",
       "  <tbody>\n",
       "    <tr>\n",
       "      <th>0</th>\n",
       "      <td>Feminino</td>\n",
       "      <td>21.000000</td>\n",
       "      <td>Sim</td>\n",
       "      <td>Nao</td>\n",
       "      <td>2.0</td>\n",
       "      <td>3.0</td>\n",
       "      <td>Ocasionalmente</td>\n",
       "      <td>Nao</td>\n",
       "      <td>2.000000</td>\n",
       "      <td>Nao</td>\n",
       "      <td>0.000000</td>\n",
       "      <td>1.000000</td>\n",
       "      <td>Nao</td>\n",
       "      <td>Transportes_Publicos</td>\n",
       "      <td>Peso_Normal</td>\n",
       "      <td>24.386526</td>\n",
       "    </tr>\n",
       "    <tr>\n",
       "      <th>1</th>\n",
       "      <td>Feminino</td>\n",
       "      <td>21.000000</td>\n",
       "      <td>Sim</td>\n",
       "      <td>Nao</td>\n",
       "      <td>3.0</td>\n",
       "      <td>3.0</td>\n",
       "      <td>Ocasionalmente</td>\n",
       "      <td>Sim</td>\n",
       "      <td>3.000000</td>\n",
       "      <td>Sim</td>\n",
       "      <td>3.000000</td>\n",
       "      <td>0.000000</td>\n",
       "      <td>Ocasionalmente</td>\n",
       "      <td>Transportes_Publicos</td>\n",
       "      <td>Peso_Normal</td>\n",
       "      <td>24.238227</td>\n",
       "    </tr>\n",
       "    <tr>\n",
       "      <th>2</th>\n",
       "      <td>Masculino</td>\n",
       "      <td>23.000000</td>\n",
       "      <td>Sim</td>\n",
       "      <td>Nao</td>\n",
       "      <td>2.0</td>\n",
       "      <td>3.0</td>\n",
       "      <td>Ocasionalmente</td>\n",
       "      <td>Nao</td>\n",
       "      <td>2.000000</td>\n",
       "      <td>Nao</td>\n",
       "      <td>2.000000</td>\n",
       "      <td>1.000000</td>\n",
       "      <td>Frequentemente</td>\n",
       "      <td>Transportes_Publicos</td>\n",
       "      <td>Peso_Normal</td>\n",
       "      <td>23.765432</td>\n",
       "    </tr>\n",
       "    <tr>\n",
       "      <th>3</th>\n",
       "      <td>Masculino</td>\n",
       "      <td>27.000000</td>\n",
       "      <td>Nao</td>\n",
       "      <td>Nao</td>\n",
       "      <td>3.0</td>\n",
       "      <td>3.0</td>\n",
       "      <td>Ocasionalmente</td>\n",
       "      <td>Nao</td>\n",
       "      <td>2.000000</td>\n",
       "      <td>Nao</td>\n",
       "      <td>2.000000</td>\n",
       "      <td>0.000000</td>\n",
       "      <td>Frequentemente</td>\n",
       "      <td>Caminhada</td>\n",
       "      <td>Excesso_Peso_Grau_I</td>\n",
       "      <td>26.851852</td>\n",
       "    </tr>\n",
       "    <tr>\n",
       "      <th>4</th>\n",
       "      <td>Masculino</td>\n",
       "      <td>22.000000</td>\n",
       "      <td>Nao</td>\n",
       "      <td>Nao</td>\n",
       "      <td>2.0</td>\n",
       "      <td>1.0</td>\n",
       "      <td>Ocasionalmente</td>\n",
       "      <td>Nao</td>\n",
       "      <td>2.000000</td>\n",
       "      <td>Nao</td>\n",
       "      <td>0.000000</td>\n",
       "      <td>0.000000</td>\n",
       "      <td>Ocasionalmente</td>\n",
       "      <td>Transportes_Publicos</td>\n",
       "      <td>Excesso_Peso_Grau_II</td>\n",
       "      <td>28.342381</td>\n",
       "    </tr>\n",
       "    <tr>\n",
       "      <th>...</th>\n",
       "      <td>...</td>\n",
       "      <td>...</td>\n",
       "      <td>...</td>\n",
       "      <td>...</td>\n",
       "      <td>...</td>\n",
       "      <td>...</td>\n",
       "      <td>...</td>\n",
       "      <td>...</td>\n",
       "      <td>...</td>\n",
       "      <td>...</td>\n",
       "      <td>...</td>\n",
       "      <td>...</td>\n",
       "      <td>...</td>\n",
       "      <td>...</td>\n",
       "      <td>...</td>\n",
       "      <td>...</td>\n",
       "    </tr>\n",
       "    <tr>\n",
       "      <th>2106</th>\n",
       "      <td>Feminino</td>\n",
       "      <td>20.976842</td>\n",
       "      <td>Sim</td>\n",
       "      <td>Sim</td>\n",
       "      <td>3.0</td>\n",
       "      <td>3.0</td>\n",
       "      <td>Ocasionalmente</td>\n",
       "      <td>Nao</td>\n",
       "      <td>1.728139</td>\n",
       "      <td>Nao</td>\n",
       "      <td>1.676269</td>\n",
       "      <td>0.906247</td>\n",
       "      <td>Ocasionalmente</td>\n",
       "      <td>Transportes_Publicos</td>\n",
       "      <td>Obesidade_Mórbida</td>\n",
       "      <td>44.901475</td>\n",
       "    </tr>\n",
       "    <tr>\n",
       "      <th>2107</th>\n",
       "      <td>Feminino</td>\n",
       "      <td>21.982942</td>\n",
       "      <td>Sim</td>\n",
       "      <td>Sim</td>\n",
       "      <td>3.0</td>\n",
       "      <td>3.0</td>\n",
       "      <td>Ocasionalmente</td>\n",
       "      <td>Nao</td>\n",
       "      <td>2.005130</td>\n",
       "      <td>Nao</td>\n",
       "      <td>1.341390</td>\n",
       "      <td>0.599270</td>\n",
       "      <td>Ocasionalmente</td>\n",
       "      <td>Transportes_Publicos</td>\n",
       "      <td>Obesidade_Mórbida</td>\n",
       "      <td>43.741923</td>\n",
       "    </tr>\n",
       "    <tr>\n",
       "      <th>2108</th>\n",
       "      <td>Feminino</td>\n",
       "      <td>22.524036</td>\n",
       "      <td>Sim</td>\n",
       "      <td>Sim</td>\n",
       "      <td>3.0</td>\n",
       "      <td>3.0</td>\n",
       "      <td>Ocasionalmente</td>\n",
       "      <td>Nao</td>\n",
       "      <td>2.054193</td>\n",
       "      <td>Nao</td>\n",
       "      <td>1.414209</td>\n",
       "      <td>0.646288</td>\n",
       "      <td>Ocasionalmente</td>\n",
       "      <td>Transportes_Publicos</td>\n",
       "      <td>Obesidade_Mórbida</td>\n",
       "      <td>43.543817</td>\n",
       "    </tr>\n",
       "    <tr>\n",
       "      <th>2109</th>\n",
       "      <td>Feminino</td>\n",
       "      <td>24.361936</td>\n",
       "      <td>Sim</td>\n",
       "      <td>Sim</td>\n",
       "      <td>3.0</td>\n",
       "      <td>3.0</td>\n",
       "      <td>Ocasionalmente</td>\n",
       "      <td>Nao</td>\n",
       "      <td>2.852339</td>\n",
       "      <td>Nao</td>\n",
       "      <td>1.139107</td>\n",
       "      <td>0.586035</td>\n",
       "      <td>Ocasionalmente</td>\n",
       "      <td>Transportes_Publicos</td>\n",
       "      <td>Obesidade_Mórbida</td>\n",
       "      <td>44.071535</td>\n",
       "    </tr>\n",
       "    <tr>\n",
       "      <th>2110</th>\n",
       "      <td>Feminino</td>\n",
       "      <td>23.664709</td>\n",
       "      <td>Sim</td>\n",
       "      <td>Sim</td>\n",
       "      <td>3.0</td>\n",
       "      <td>3.0</td>\n",
       "      <td>Ocasionalmente</td>\n",
       "      <td>Nao</td>\n",
       "      <td>2.863513</td>\n",
       "      <td>Nao</td>\n",
       "      <td>1.026452</td>\n",
       "      <td>0.714137</td>\n",
       "      <td>Ocasionalmente</td>\n",
       "      <td>Transportes_Publicos</td>\n",
       "      <td>Obesidade_Mórbida</td>\n",
       "      <td>44.144338</td>\n",
       "    </tr>\n",
       "  </tbody>\n",
       "</table>\n",
       "<p>2111 rows × 16 columns</p>\n",
       "</div>"
      ]
     },
     "execution_count": 4,
     "metadata": {},
     "output_type": "execute_result"
    }
   ],
   "execution_count": 4
  },
  {
   "metadata": {},
   "cell_type": "markdown",
   "source": "Temos no entanto de realizar primeiro o encoding das classes para valores numéricos, esta operação é realizada usando o ``sklearn.preprocessing.LabelEncoder`` em todas as colunas com apenas 2 classes.",
   "id": "e1c7142f110b0028"
  },
  {
   "metadata": {
    "ExecuteTime": {
     "end_time": "2024-06-08T21:51:01.722559Z",
     "start_time": "2024-06-08T21:51:01.713544Z"
    }
   },
   "cell_type": "code",
   "source": [
    "ut.titulo(\"Valores codificados por atributo\")\n",
    "\n",
    "for coluna in colunas_classes:\n",
    "    if dados_trabalho[coluna].dtype == 'object':\n",
    "        dados_trabalho[coluna] = label_encoder.fit_transform(dados_trabalho[coluna].values)\n",
    "        ut.etiqueta_e_valor(coluna, str(sorted(dados_trabalho[coluna].unique())))"
   ],
   "id": "8c3bba6242ebfd4f",
   "outputs": [
    {
     "name": "stdout",
     "output_type": "stream",
     "text": [
      "\u001B[21;30;44mValores codificados por atributo\u001B[0m\n",
      "\u001B[0;94mGenero: \u001B[1;94m[0, 1]\u001B[0m\n",
      "\u001B[0;94mHistorico_obesidade_familiar: \u001B[1;94m[0, 1]\u001B[0m\n",
      "\u001B[0;94mFCCAC: \u001B[1;94m[0, 1]\u001B[0m\n",
      "\u001B[0;94mFumador: \u001B[1;94m[0, 1]\u001B[0m\n",
      "\u001B[0;94mMCC: \u001B[1;94m[0, 1]\u001B[0m\n",
      "\u001B[0;94mCCER: \u001B[1;94m[0, 1, 2, 3]\u001B[0m\n",
      "\u001B[0;94mCBA: \u001B[1;94m[0, 1, 2, 3]\u001B[0m\n",
      "\u001B[0;94mTRANS: \u001B[1;94m[0, 1, 2, 3, 4]\u001B[0m\n"
     ]
    }
   ],
   "execution_count": 5
  },
  {
   "metadata": {},
   "cell_type": "markdown",
   "source": "A coluna *Label* é uma \"classificação\", não um preditor. Tem de ser removida.",
   "id": "5a415825a54ddf09"
  },
  {
   "metadata": {
    "ExecuteTime": {
     "end_time": "2024-06-08T21:51:01.726751Z",
     "start_time": "2024-06-08T21:51:01.723565Z"
    }
   },
   "cell_type": "code",
   "source": "dados_trabalho.drop(\"Label\", axis=1, inplace=True)",
   "id": "2fd81a67ed77365a",
   "outputs": [],
   "execution_count": 6
  },
  {
   "metadata": {},
   "cell_type": "markdown",
   "source": [
    "| Target | Preditores                   |\n",
    "|--------|------------------------------|\n",
    "| IMC    | Ver lista abaixo (X.columns) |\n",
    "\n",
    "O target não muda"
   ],
   "id": "5b5fb126751c39de"
  },
  {
   "metadata": {
    "ExecuteTime": {
     "end_time": "2024-06-08T21:51:01.730160Z",
     "start_time": "2024-06-08T21:51:01.727758Z"
    }
   },
   "cell_type": "code",
   "source": "y = dados_trabalho.IMC",
   "id": "7948a1c9a7cc46dc",
   "outputs": [],
   "execution_count": 7
  },
  {
   "metadata": {},
   "cell_type": "markdown",
   "source": [
    "## Preditores\n",
    "\n",
    "Colunas originais, antes do get_dummies:\n",
    "lista_preditores = [\"Idade\", \"Genero\", \"Historico_obesidade_familiar\", \"FCCAC\", \"FCV\", \"NRP\", \"CCER\", \"Fumador\", \"CA\", \"MCC\", \"FAF\", \"TUDE\", \"CBA\", \"TRANS\"]\n",
    "\n",
    "Obter a lista de todos os atributos (preditores) do dataset, é preciso remover a coluna \"IMC\""
   ],
   "id": "9c36723cce95b65e"
  },
  {
   "metadata": {
    "ExecuteTime": {
     "end_time": "2024-06-08T21:51:01.735120Z",
     "start_time": "2024-06-08T21:51:01.731165Z"
    }
   },
   "cell_type": "code",
   "source": [
    "X = dados_trabalho.drop(\"IMC\", axis=1)\n",
    "X.columns"
   ],
   "id": "60201b8f5e026951",
   "outputs": [
    {
     "data": {
      "text/plain": [
       "Index(['Genero', 'Idade', 'Historico_obesidade_familiar', 'FCCAC', 'FCV',\n",
       "       'NRP', 'CCER', 'Fumador', 'CA', 'MCC', 'FAF', 'TUDE', 'CBA', 'TRANS'],\n",
       "      dtype='object')"
      ]
     },
     "execution_count": 8,
     "metadata": {},
     "output_type": "execute_result"
    }
   ],
   "execution_count": 8
  },
  {
   "metadata": {},
   "cell_type": "markdown",
   "source": [
    "##  Cálculo\n",
    "\n",
    "A comparação tem de ser feita num ciclo em que cada algoritmo irá operar sobre o mesmo conjunto de treino e teste, que muda a cada ciclo. "
   ],
   "id": "bba7e844bd8eab0"
  },
  {
   "metadata": {},
   "cell_type": "markdown",
   "source": "### Função de cálculo para 1 execução do LinearRegression",
   "id": "96925055887d126b"
  },
  {
   "metadata": {
    "ExecuteTime": {
     "end_time": "2024-06-08T21:51:01.739909Z",
     "start_time": "2024-06-08T21:51:01.735120Z"
    }
   },
   "cell_type": "code",
   "source": [
    "def linear_regression(X_treino, X_teste, y_treino, y_teste):\n",
    "    mlr = LinearRegression()\n",
    "    mlr.fit(X_treino, y_treino)\n",
    "    y_pred_teste = mlr.predict(X_teste)\n",
    "    # Previsão\n",
    "    y_pred_treino = mlr.predict(X_treino)  # Teste\n",
    "    y_pred_teste = mlr.predict(X_teste)  # Teste\n",
    "    # Métricas\n",
    "    mae_treino = round(mean_absolute_error(y_treino, y_pred_treino), 4)\n",
    "    mse_treino = round(mean_squared_error(y_treino, y_pred_treino), 4)\n",
    "    rmse_treino = round(np.sqrt(mean_squared_error(y_treino, y_pred_treino)), 4)\n",
    "    mae_teste = round(mean_absolute_error(y_teste, y_pred_teste), 4)\n",
    "    mse_teste = round(mean_squared_error(y_teste, y_pred_teste), 4)\n",
    "    rmse_teste = round(np.sqrt(mean_squared_error(y_teste, y_pred_teste)), 4)\n",
    "    r_squared = mlr.score(X, y) * 100\n",
    "    ut.etiqueta_e_valor(\n",
    "        f\"LinearRegression random_state={idx}\",\n",
    "        f\"TREINO(MAE={mae_treino} / MSE={mse_treino} / RMSE={rmse_treino}) / \"\n",
    "        f\"TESTE(MAE={mae_teste} / MSE={mse_teste} / RMSE={rmse_teste}) / \"\n",
    "        f\"R_squared={r_squared:.5}\"\n",
    "    )\n",
    "    return \"MLPRegressor\", idx, mae_treino, mse_treino, rmse_treino, mae_teste, mse_teste, rmse_teste, r_squared    "
   ],
   "id": "1de624df66b03a08",
   "outputs": [],
   "execution_count": 9
  },
  {
   "metadata": {},
   "cell_type": "markdown",
   "source": "### Função para cálculo de 1 execução de DecisionTreeRegression",
   "id": "23179d6d5ffd9947"
  },
  {
   "metadata": {
    "ExecuteTime": {
     "end_time": "2024-06-08T21:51:01.744714Z",
     "start_time": "2024-06-08T21:51:01.740918Z"
    }
   },
   "cell_type": "code",
   "source": [
    "def decision_tree_regressor(X_treino, X_teste, y_treino, y_teste):\n",
    "    arvore_decisao = DecisionTreeRegressor(\n",
    "        # random_state=42,\n",
    "        max_depth=6,\n",
    "        min_samples_split=3\n",
    "    )\n",
    "    _ = arvore_decisao.fit(X_treino, y_treino)\n",
    "    y_pred_treino = arvore_decisao.predict(X_treino)\n",
    "    y_pred_teste = arvore_decisao.predict(X_teste)\n",
    "    # Métricas\n",
    "    mae_treino = round(mean_absolute_error(y_treino, y_pred_treino), 4)\n",
    "    mse_treino = round(mean_squared_error(y_treino, y_pred_treino), 4)\n",
    "    rmse_treino = round(np.sqrt(mean_squared_error(y_treino, y_pred_treino)), 4)\n",
    "    mae_teste = round(mean_absolute_error(y_teste, y_pred_teste), 4)\n",
    "    mse_teste = round(mean_squared_error(y_teste, y_pred_teste), 4)\n",
    "    rmse_teste = round(np.sqrt(mean_squared_error(y_teste, y_pred_teste)), 4)\n",
    "    r_squared = arvore_decisao.score(X, y) * 100\n",
    "    ut.etiqueta_e_valor(\n",
    "        f\"LinearRegression random_state={idx}\",\n",
    "        f\"TREINO(MAE={mae_treino} / MSE={mse_treino} / RMSE={rmse_treino}) / \"\n",
    "        f\"TESTE(MAE={mae_teste} / MSE={mse_teste} / RMSE={rmse_teste}) / \"\n",
    "        f\"R_squared={r_squared:.5}\"\n",
    "    )\n",
    "    return \"DecisionTreeRegressor\", idx, mae_treino, mse_treino, rmse_treino, mae_teste, mse_teste, rmse_teste, r_squared"
   ],
   "id": "dc38ae8a09acadf6",
   "outputs": [],
   "execution_count": 10
  },
  {
   "metadata": {},
   "cell_type": "markdown",
   "source": "### Função para cálculo de 1 execução do MLPRegressor",
   "id": "71b926eb95f01215"
  },
  {
   "metadata": {
    "ExecuteTime": {
     "end_time": "2024-06-08T21:51:01.749488Z",
     "start_time": "2024-06-08T21:51:01.744714Z"
    }
   },
   "cell_type": "code",
   "source": [
    "def mlpregressor(X_treino, X_teste, y_treino, y_teste, layers, activation, solver):\n",
    "    modelo_nn = MLPRegressor(\n",
    "        hidden_layer_sizes=layers,\n",
    "        activation=activation,\n",
    "        solver=solver,\n",
    "        max_iter=1000,\n",
    "        learning_rate_init=0.001\n",
    "    )\n",
    "    modelo_nn.fit(X_treino, y_treino)  # Treino\n",
    "    # Previsão\n",
    "    y_pred_treino = modelo_nn.predict(X_treino)  # Teste\n",
    "    y_pred_teste = modelo_nn.predict(X_teste)  # Teste\n",
    "    # Métricas\n",
    "    mae_treino = round(mean_absolute_error(y_treino, y_pred_treino), 4)\n",
    "    mse_treino = round(mean_squared_error(y_treino, y_pred_treino), 4)\n",
    "    rmse_treino = round(np.sqrt(mean_squared_error(y_treino, y_pred_treino)), 4)\n",
    "    mae_teste = round(mean_absolute_error(y_teste, y_pred_teste), 4)\n",
    "    mse_teste = round(mean_squared_error(y_teste, y_pred_teste), 4)\n",
    "    rmse_teste = round(np.sqrt(mean_squared_error(y_teste, y_pred_teste)), 4)\n",
    "    r_squared = modelo_nn.score(X, y) * 100\n",
    "    ut.etiqueta_e_valor(\n",
    "        f\"LinearRegression random_state={idx}\",\n",
    "        f\"TREINO(MAE={mae_treino} / MSE={mse_treino} / RMSE={rmse_treino}) / \"\n",
    "        f\"TESTE(MAE={mae_teste} / MSE={mse_teste} / RMSE={rmse_teste}) / \"\n",
    "        f\"R_squared={r_squared:.5}\"\n",
    "    )\n",
    "    return \"MLPRegressor\", idx, mae_treino, mse_treino, rmse_treino, mae_teste, mse_teste, rmse_teste, r_squared    "
   ],
   "id": "ad10c2b95d861104",
   "outputs": [],
   "execution_count": 11
  },
  {
   "metadata": {},
   "cell_type": "markdown",
   "source": "### Ciclo para obter os vários valores",
   "id": "560d5d542d747678"
  },
  {
   "metadata": {
    "ExecuteTime": {
     "end_time": "2024-06-08T21:51:16.187131Z",
     "start_time": "2024-06-08T21:51:01.750494Z"
    }
   },
   "cell_type": "code",
   "source": [
    "resultados_mlr = []\n",
    "resultados_dtr = []\n",
    "resultados_mlpr = []\n",
    "\n",
    "for idx in range(0, 100, 2):\n",
    "    # Criação de novos grupos de treino e de teste. \n",
    "    X_train, X_test, y_train, y_test = train_test_split(X, y, train_size=0.8, test_size=0.2, random_state=idx)\n",
    "    # Invocação dos algoritmos\n",
    "    resultados_mlr.append(linear_regression(X_train, X_test, y_train, y_test))\n",
    "    resultados_dtr.append(decision_tree_regressor(X_train, X_test, y_train, y_test))\n",
    "    resultados_mlpr.append(mlpregressor(X_train, X_test, y_train, y_test, [5, 6, 5], \"tanh\", \"lbfgs\"))"
   ],
   "id": "19a715d59d4ca7b0",
   "outputs": [
    {
     "name": "stdout",
     "output_type": "stream",
     "text": [
      "\u001B[0;94mLinearRegression random_state=0: \u001B[1;94mTREINO(MAE=4.5642 / MSE=32.7556 / RMSE=5.7233) / TESTE(MAE=4.9737 / MSE=36.2051 / RMSE=6.0171) / R_squared=47.862\u001B[0m\n",
      "\u001B[0;94mLinearRegression random_state=0: \u001B[1;94mTREINO(MAE=2.4819 / MSE=11.4803 / RMSE=3.3883) / TESTE(MAE=2.8046 / MSE=15.4927 / RMSE=3.9361) / R_squared=80.851\u001B[0m\n",
      "\u001B[0;94mLinearRegression random_state=0: \u001B[1;94mTREINO(MAE=6.5922 / MSE=62.6148 / RMSE=7.913) / TESTE(MAE=7.0904 / MSE=70.2956 / RMSE=8.3842) / R_squared=-0.0043222\u001B[0m\n",
      "\u001B[0;94mLinearRegression random_state=2: \u001B[1;94mTREINO(MAE=4.6847 / MSE=33.5782 / RMSE=5.7947) / TESTE(MAE=4.5025 / MSE=32.9875 / RMSE=5.7435) / R_squared=47.842\u001B[0m\n",
      "\u001B[0;94mLinearRegression random_state=2: \u001B[1;94mTREINO(MAE=2.3855 / MSE=11.0174 / RMSE=3.3192) / TESTE(MAE=3.0292 / MSE=18.5503 / RMSE=4.307) / R_squared=80.473\u001B[0m\n",
      "\u001B[0;94mLinearRegression random_state=2: \u001B[1;94mTREINO(MAE=5.7513 / MSE=49.8662 / RMSE=7.0616) / TESTE(MAE=5.8753 / MSE=52.7342 / RMSE=7.2618) / R_squared=21.372\u001B[0m\n",
      "\u001B[0;94mLinearRegression random_state=4: \u001B[1;94mTREINO(MAE=4.6012 / MSE=32.9281 / RMSE=5.7383) / TESTE(MAE=4.7287 / MSE=35.6855 / RMSE=5.9737) / R_squared=47.81\u001B[0m\n",
      "\u001B[0;94mLinearRegression random_state=4: \u001B[1;94mTREINO(MAE=2.4512 / MSE=12.1622 / RMSE=3.4874) / TESTE(MAE=2.8599 / MSE=17.3525 / RMSE=4.1656) / R_squared=79.42\u001B[0m\n",
      "\u001B[0;94mLinearRegression random_state=4: \u001B[1;94mTREINO(MAE=4.6558 / MSE=31.6285 / RMSE=5.6239) / TESTE(MAE=4.8132 / MSE=33.1915 / RMSE=5.7612) / R_squared=50.209\u001B[0m\n",
      "\u001B[0;94mLinearRegression random_state=6: \u001B[1;94mTREINO(MAE=4.622 / MSE=33.4188 / RMSE=5.7809) / TESTE(MAE=4.6974 / MSE=33.5353 / RMSE=5.791) / R_squared=47.87\u001B[0m\n",
      "\u001B[0;94mLinearRegression random_state=6: \u001B[1;94mTREINO(MAE=2.4375 / MSE=11.5391 / RMSE=3.3969) / TESTE(MAE=2.884 / MSE=16.1315 / RMSE=4.0164) / R_squared=80.578\u001B[0m\n",
      "\u001B[0;94mLinearRegression random_state=6: \u001B[1;94mTREINO(MAE=6.716 / MSE=64.7056 / RMSE=8.044) / TESTE(MAE=6.5976 / MSE=61.9536 / RMSE=7.8711) / R_squared=-0.0047635\u001B[0m\n",
      "\u001B[0;94mLinearRegression random_state=8: \u001B[1;94mTREINO(MAE=4.6178 / MSE=33.1402 / RMSE=5.7568) / TESTE(MAE=4.7395 / MSE=34.6799 / RMSE=5.889) / R_squared=47.859\u001B[0m\n",
      "\u001B[0;94mLinearRegression random_state=8: \u001B[1;94mTREINO(MAE=2.4106 / MSE=11.9495 / RMSE=3.4568) / TESTE(MAE=2.9406 / MSE=17.8771 / RMSE=4.2281) / R_squared=79.521\u001B[0m\n",
      "\u001B[0;94mLinearRegression random_state=8: \u001B[1;94mTREINO(MAE=6.6831 / MSE=64.4328 / RMSE=8.027) / TESTE(MAE=6.6928 / MSE=63.038 / RMSE=7.9396) / R_squared=-0.0034011\u001B[0m\n",
      "\u001B[0;94mLinearRegression random_state=10: \u001B[1;94mTREINO(MAE=4.5877 / MSE=32.7787 / RMSE=5.7253) / TESTE(MAE=4.8033 / MSE=36.091 / RMSE=6.0076) / R_squared=47.869\u001B[0m\n",
      "\u001B[0;94mLinearRegression random_state=10: \u001B[1;94mTREINO(MAE=2.6932 / MSE=13.5004 / RMSE=3.6743) / TESTE(MAE=3.1545 / MSE=21.0733 / RMSE=4.5906) / R_squared=76.59\u001B[0m\n",
      "\u001B[0;94mLinearRegression random_state=10: \u001B[1;94mTREINO(MAE=6.6575 / MSE=63.6243 / RMSE=7.9765) / TESTE(MAE=6.8006 / MSE=66.2582 / RMSE=8.1399) / R_squared=-0.0014937\u001B[0m\n",
      "\u001B[0;94mLinearRegression random_state=12: \u001B[1;94mTREINO(MAE=4.6907 / MSE=34.0382 / RMSE=5.8342) / TESTE(MAE=4.4037 / MSE=31.0402 / RMSE=5.5714) / R_squared=47.877\u001B[0m\n",
      "\u001B[0;94mLinearRegression random_state=12: \u001B[1;94mTREINO(MAE=2.4734 / MSE=11.9232 / RMSE=3.453) / TESTE(MAE=2.7592 / MSE=14.8738 / RMSE=3.8567) / R_squared=80.492\u001B[0m\n",
      "\u001B[0;94mLinearRegression random_state=12: \u001B[1;94mTREINO(MAE=6.7251 / MSE=64.7787 / RMSE=8.0485) / TESTE(MAE=6.5559 / MSE=61.6549 / RMSE=7.8521) / R_squared=-0.0025498\u001B[0m\n",
      "\u001B[0;94mLinearRegression random_state=14: \u001B[1;94mTREINO(MAE=4.6556 / MSE=33.6097 / RMSE=5.7974) / TESTE(MAE=4.6427 / MSE=33.0198 / RMSE=5.7463) / R_squared=47.793\u001B[0m\n",
      "\u001B[0;94mLinearRegression random_state=14: \u001B[1;94mTREINO(MAE=2.6029 / MSE=13.3916 / RMSE=3.6595) / TESTE(MAE=2.9088 / MSE=19.1037 / RMSE=4.3708) / R_squared=77.341\u001B[0m\n",
      "\u001B[0;94mLinearRegression random_state=14: \u001B[1;94mTREINO(MAE=6.5402 / MSE=62.0292 / RMSE=7.8759) / TESTE(MAE=7.2402 / MSE=72.6822 / RMSE=8.5254) / R_squared=-0.019841\u001B[0m\n",
      "\u001B[0;94mLinearRegression random_state=16: \u001B[1;94mTREINO(MAE=4.7129 / MSE=34.2723 / RMSE=5.8543) / TESTE(MAE=4.3654 / MSE=30.1597 / RMSE=5.4918) / R_squared=47.86\u001B[0m\n",
      "\u001B[0;94mLinearRegression random_state=16: \u001B[1;94mTREINO(MAE=2.634 / MSE=12.8702 / RMSE=3.5875) / TESTE(MAE=2.8832 / MSE=16.4011 / RMSE=4.0498) / R_squared=78.835\u001B[0m\n",
      "\u001B[0;94mLinearRegression random_state=16: \u001B[1;94mTREINO(MAE=6.7085 / MSE=64.9053 / RMSE=8.0564) / TESTE(MAE=6.582 / MSE=61.1689 / RMSE=7.8211) / R_squared=-0.0085415\u001B[0m\n",
      "\u001B[0;94mLinearRegression random_state=18: \u001B[1;94mTREINO(MAE=4.6582 / MSE=33.8152 / RMSE=5.8151) / TESTE(MAE=4.5458 / MSE=32.1174 / RMSE=5.6672) / R_squared=47.819\u001B[0m\n",
      "\u001B[0;94mLinearRegression random_state=18: \u001B[1;94mTREINO(MAE=2.4533 / MSE=12.3983 / RMSE=3.5211) / TESTE(MAE=2.8074 / MSE=15.9593 / RMSE=3.9949) / R_squared=79.561\u001B[0m\n",
      "\u001B[0;94mLinearRegression random_state=18: \u001B[1;94mTREINO(MAE=4.5878 / MSE=30.9722 / RMSE=5.5653) / TESTE(MAE=4.813 / MSE=33.3223 / RMSE=5.7726) / R_squared=50.986\u001B[0m\n",
      "\u001B[0;94mLinearRegression random_state=20: \u001B[1;94mTREINO(MAE=4.5604 / MSE=32.4077 / RMSE=5.6928) / TESTE(MAE=4.9576 / MSE=37.9082 / RMSE=6.157) / R_squared=47.764\u001B[0m\n",
      "\u001B[0;94mLinearRegression random_state=20: \u001B[1;94mTREINO(MAE=2.4829 / MSE=12.3864 / RMSE=3.5194) / TESTE(MAE=3.026 / MSE=18.0864 / RMSE=4.2528) / R_squared=78.911\u001B[0m\n",
      "\u001B[0;94mLinearRegression random_state=20: \u001B[1;94mTREINO(MAE=6.6472 / MSE=63.5992 / RMSE=7.9749) / TESTE(MAE=6.88 / MSE=66.3832 / RMSE=8.1476) / R_squared=-0.009289\u001B[0m\n",
      "\u001B[0;94mLinearRegression random_state=22: \u001B[1;94mTREINO(MAE=4.6272 / MSE=33.2381 / RMSE=5.7653) / TESTE(MAE=4.6768 / MSE=34.3146 / RMSE=5.8579) / R_squared=47.852\u001B[0m\n",
      "\u001B[0;94mLinearRegression random_state=22: \u001B[1;94mTREINO(MAE=2.4509 / MSE=12.4885 / RMSE=3.5339) / TESTE(MAE=2.9471 / MSE=16.9822 / RMSE=4.1209) / R_squared=79.129\u001B[0m\n",
      "\u001B[0;94mLinearRegression random_state=22: \u001B[1;94mTREINO(MAE=4.721 / MSE=33.2561 / RMSE=5.7668) / TESTE(MAE=4.9351 / MSE=34.8871 / RMSE=5.9065) / R_squared=47.65\u001B[0m\n",
      "\u001B[0;94mLinearRegression random_state=24: \u001B[1;94mTREINO(MAE=4.626 / MSE=33.4907 / RMSE=5.7871) / TESTE(MAE=4.65 / MSE=33.3165 / RMSE=5.772) / R_squared=47.848\u001B[0m\n",
      "\u001B[0;94mLinearRegression random_state=24: \u001B[1;94mTREINO(MAE=2.4505 / MSE=11.2428 / RMSE=3.353) / TESTE(MAE=3.1114 / MSE=20.9263 / RMSE=4.5745) / R_squared=79.45\u001B[0m\n",
      "\u001B[0;94mLinearRegression random_state=24: \u001B[1;94mTREINO(MAE=6.7607 / MSE=65.5003 / RMSE=8.0932) / TESTE(MAE=6.3858 / MSE=58.7745 / RMSE=7.6665) / R_squared=-0.0023238\u001B[0m\n",
      "\u001B[0;94mLinearRegression random_state=26: \u001B[1;94mTREINO(MAE=4.6888 / MSE=34.0371 / RMSE=5.8341) / TESTE(MAE=4.4752 / MSE=31.1739 / RMSE=5.5834) / R_squared=47.837\u001B[0m\n",
      "\u001B[0;94mLinearRegression random_state=26: \u001B[1;94mTREINO(MAE=2.5635 / MSE=12.1804 / RMSE=3.49) / TESTE(MAE=2.804 / MSE=15.3992 / RMSE=3.9242) / R_squared=80.008\u001B[0m\n",
      "\u001B[0;94mLinearRegression random_state=26: \u001B[1;94mTREINO(MAE=4.1818 / MSE=26.3425 / RMSE=5.1325) / TESTE(MAE=3.8403 / MSE=22.9455 / RMSE=4.7901) / R_squared=59.998\u001B[0m\n",
      "\u001B[0;94mLinearRegression random_state=28: \u001B[1;94mTREINO(MAE=4.6655 / MSE=33.6537 / RMSE=5.8012) / TESTE(MAE=4.5695 / MSE=32.7129 / RMSE=5.7195) / R_squared=47.834\u001B[0m\n",
      "\u001B[0;94mLinearRegression random_state=28: \u001B[1;94mTREINO(MAE=2.4656 / MSE=11.8795 / RMSE=3.4467) / TESTE(MAE=2.7779 / MSE=15.0802 / RMSE=3.8833) / R_squared=80.482\u001B[0m\n",
      "\u001B[0;94mLinearRegression random_state=28: \u001B[1;94mTREINO(MAE=6.7446 / MSE=65.2096 / RMSE=8.0752) / TESTE(MAE=6.4461 / MSE=59.9396 / RMSE=7.7421) / R_squared=-0.0039234\u001B[0m\n",
      "\u001B[0;94mLinearRegression random_state=30: \u001B[1;94mTREINO(MAE=4.57 / MSE=32.6596 / RMSE=5.7149) / TESTE(MAE=4.8586 / MSE=37.0216 / RMSE=6.0845) / R_squared=47.727\u001B[0m\n",
      "\u001B[0;94mLinearRegression random_state=30: \u001B[1;94mTREINO(MAE=2.4844 / MSE=12.2482 / RMSE=3.4997) / TESTE(MAE=3.0439 / MSE=17.3529 / RMSE=4.1657) / R_squared=79.313\u001B[0m\n",
      "\u001B[0;94mLinearRegression random_state=30: \u001B[1;94mTREINO(MAE=4.5632 / MSE=30.6444 / RMSE=5.5357) / TESTE(MAE=4.7102 / MSE=31.8073 / RMSE=5.6398) / R_squared=51.868\u001B[0m\n",
      "\u001B[0;94mLinearRegression random_state=32: \u001B[1;94mTREINO(MAE=4.6339 / MSE=33.4054 / RMSE=5.7797) / TESTE(MAE=4.606 / MSE=33.6776 / RMSE=5.8032) / R_squared=47.842\u001B[0m\n",
      "\u001B[0;94mLinearRegression random_state=32: \u001B[1;94mTREINO(MAE=2.4776 / MSE=12.0137 / RMSE=3.4661) / TESTE(MAE=2.816 / MSE=15.9013 / RMSE=3.9876) / R_squared=80.058\u001B[0m\n",
      "\u001B[0;94mLinearRegression random_state=32: \u001B[1;94mTREINO(MAE=6.736 / MSE=64.9353 / RMSE=8.0582) / TESTE(MAE=6.512 / MSE=61.0296 / RMSE=7.8121) / R_squared=-0.0024703\u001B[0m\n",
      "\u001B[0;94mLinearRegression random_state=34: \u001B[1;94mTREINO(MAE=4.6921 / MSE=34.2773 / RMSE=5.8547) / TESTE(MAE=4.4331 / MSE=30.1888 / RMSE=5.4944) / R_squared=47.845\u001B[0m\n",
      "\u001B[0;94mLinearRegression random_state=34: \u001B[1;94mTREINO(MAE=2.2923 / MSE=11.2404 / RMSE=3.3527) / TESTE(MAE=3.0391 / MSE=22.5455 / RMSE=4.7482) / R_squared=78.947\u001B[0m\n",
      "\u001B[0;94mLinearRegression random_state=34: \u001B[1;94mTREINO(MAE=6.8157 / MSE=65.9426 / RMSE=8.1205) / TESTE(MAE=6.2529 / MSE=57.2068 / RMSE=7.5635) / R_squared=-0.063893\u001B[0m\n",
      "\u001B[0;94mLinearRegression random_state=36: \u001B[1;94mTREINO(MAE=4.6174 / MSE=33.0586 / RMSE=5.7497) / TESTE(MAE=4.7706 / MSE=35.3126 / RMSE=5.9424) / R_squared=47.764\u001B[0m\n",
      "\u001B[0;94mLinearRegression random_state=36: \u001B[1;94mTREINO(MAE=2.4113 / MSE=11.3293 / RMSE=3.3659) / TESTE(MAE=3.049 / MSE=18.2413 / RMSE=4.271) / R_squared=80.181\u001B[0m\n",
      "\u001B[0;94mLinearRegression random_state=36: \u001B[1;94mTREINO(MAE=4.3653 / MSE=29.7658 / RMSE=5.4558) / TESTE(MAE=4.6756 / MSE=33.8839 / RMSE=5.821) / R_squared=52.314\u001B[0m\n",
      "\u001B[0;94mLinearRegression random_state=38: \u001B[1;94mTREINO(MAE=4.6954 / MSE=34.276 / RMSE=5.8546) / TESTE(MAE=4.4612 / MSE=30.3753 / RMSE=5.5114) / R_squared=47.788\u001B[0m\n",
      "\u001B[0;94mLinearRegression random_state=38: \u001B[1;94mTREINO(MAE=2.4433 / MSE=11.5477 / RMSE=3.3982) / TESTE(MAE=2.6908 / MSE=14.1921 / RMSE=3.7672) / R_squared=81.173\u001B[0m\n",
      "\u001B[0;94mLinearRegression random_state=38: \u001B[1;94mTREINO(MAE=6.7622 / MSE=65.2461 / RMSE=8.0775) / TESTE(MAE=6.3657 / MSE=59.813 / RMSE=7.7339) / R_squared=-0.0098011\u001B[0m\n",
      "\u001B[0;94mLinearRegression random_state=40: \u001B[1;94mTREINO(MAE=4.6259 / MSE=33.2642 / RMSE=5.7675) / TESTE(MAE=4.6435 / MSE=34.1232 / RMSE=5.8415) / R_squared=47.879\u001B[0m\n",
      "\u001B[0;94mLinearRegression random_state=40: \u001B[1;94mTREINO(MAE=2.5193 / MSE=11.9594 / RMSE=3.4582) / TESTE(MAE=3.0645 / MSE=20.0776 / RMSE=4.4808) / R_squared=78.822\u001B[0m\n",
      "\u001B[0;94mLinearRegression random_state=40: \u001B[1;94mTREINO(MAE=6.6864 / MSE=64.0324 / RMSE=8.002) / TESTE(MAE=6.7088 / MSE=64.6315 / RMSE=8.0394) / R_squared=-0.0020783\u001B[0m\n",
      "\u001B[0;94mLinearRegression random_state=42: \u001B[1;94mTREINO(MAE=4.6276 / MSE=33.5395 / RMSE=5.7913) / TESTE(MAE=4.7322 / MSE=33.1895 / RMSE=5.761) / R_squared=47.827\u001B[0m\n",
      "\u001B[0;94mLinearRegression random_state=42: \u001B[1;94mTREINO(MAE=2.4987 / MSE=12.4139 / RMSE=3.5233) / TESTE(MAE=2.9217 / MSE=16.1693 / RMSE=4.0211) / R_squared=79.476\u001B[0m\n",
      "\u001B[0;94mLinearRegression random_state=42: \u001B[1;94mTREINO(MAE=6.6487 / MSE=63.6734 / RMSE=7.9796) / TESTE(MAE=6.8491 / MSE=66.0578 / RMSE=8.1276) / R_squared=-0.0001015\u001B[0m\n",
      "\u001B[0;94mLinearRegression random_state=44: \u001B[1;94mTREINO(MAE=4.6378 / MSE=33.5128 / RMSE=5.789) / TESTE(MAE=4.6555 / MSE=33.3947 / RMSE=5.7788) / R_squared=47.796\u001B[0m\n",
      "\u001B[0;94mLinearRegression random_state=44: \u001B[1;94mTREINO(MAE=2.693 / MSE=13.7011 / RMSE=3.7015) / TESTE(MAE=3.287 / MSE=21.491 / RMSE=4.6358) / R_squared=76.209\u001B[0m\n",
      "\u001B[0;94mLinearRegression random_state=44: \u001B[1;94mTREINO(MAE=6.6875 / MSE=64.3059 / RMSE=8.0191) / TESTE(MAE=6.6828 / MSE=63.5368 / RMSE=7.971) / R_squared=-0.0010193\u001B[0m\n",
      "\u001B[0;94mLinearRegression random_state=46: \u001B[1;94mTREINO(MAE=4.5802 / MSE=32.7464 / RMSE=5.7224) / TESTE(MAE=4.8613 / MSE=36.2988 / RMSE=6.0248) / R_squared=47.845\u001B[0m\n",
      "\u001B[0;94mLinearRegression random_state=46: \u001B[1;94mTREINO(MAE=2.4526 / MSE=11.9753 / RMSE=3.4605) / TESTE(MAE=2.9681 / MSE=17.1298 / RMSE=4.1388) / R_squared=79.723\u001B[0m\n",
      "\u001B[0;94mLinearRegression random_state=46: \u001B[1;94mTREINO(MAE=6.6488 / MSE=63.5543 / RMSE=7.9721) / TESTE(MAE=6.8334 / MSE=66.5391 / RMSE=8.1572) / R_squared=-0.0020032\u001B[0m\n",
      "\u001B[0;94mLinearRegression random_state=48: \u001B[1;94mTREINO(MAE=4.6703 / MSE=33.8397 / RMSE=5.8172) / TESTE(MAE=4.4836 / MSE=31.9193 / RMSE=5.6497) / R_squared=47.85\u001B[0m\n",
      "\u001B[0;94mLinearRegression random_state=48: \u001B[1;94mTREINO(MAE=2.4857 / MSE=12.2442 / RMSE=3.4992) / TESTE(MAE=2.9515 / MSE=17.8712 / RMSE=4.2274) / R_squared=79.156\u001B[0m\n",
      "\u001B[0;94mLinearRegression random_state=48: \u001B[1;94mTREINO(MAE=6.7006 / MSE=64.2513 / RMSE=8.0157) / TESTE(MAE=6.6058 / MSE=63.7975 / RMSE=7.9873) / R_squared=-0.014421\u001B[0m\n",
      "\u001B[0;94mLinearRegression random_state=50: \u001B[1;94mTREINO(MAE=4.6312 / MSE=33.7335 / RMSE=5.8081) / TESTE(MAE=4.7278 / MSE=32.3436 / RMSE=5.6871) / R_squared=47.85\u001B[0m\n",
      "\u001B[0;94mLinearRegression random_state=50: \u001B[1;94mTREINO(MAE=2.4311 / MSE=11.7826 / RMSE=3.4326) / TESTE(MAE=2.8738 / MSE=14.7336 / RMSE=3.8384) / R_squared=80.711\u001B[0m\n",
      "\u001B[0;94mLinearRegression random_state=50: \u001B[1;94mTREINO(MAE=6.6474 / MSE=63.8203 / RMSE=7.9888) / TESTE(MAE=6.793 / MSE=65.6163 / RMSE=8.1004) / R_squared=-0.045358\u001B[0m\n",
      "\u001B[0;94mLinearRegression random_state=52: \u001B[1;94mTREINO(MAE=4.579 / MSE=32.8159 / RMSE=5.7285) / TESTE(MAE=4.8111 / MSE=36.0485 / RMSE=6.004) / R_squared=47.836\u001B[0m\n",
      "\u001B[0;94mLinearRegression random_state=52: \u001B[1;94mTREINO(MAE=2.5282 / MSE=11.6236 / RMSE=3.4093) / TESTE(MAE=3.16 / MSE=19.787 / RMSE=4.4483) / R_squared=79.331\u001B[0m\n",
      "\u001B[0;94mLinearRegression random_state=52: \u001B[1;94mTREINO(MAE=4.6018 / MSE=30.9585 / RMSE=5.564) / TESTE(MAE=4.6348 / MSE=31.8885 / RMSE=5.647) / R_squared=51.451\u001B[0m\n",
      "\u001B[0;94mLinearRegression random_state=54: \u001B[1;94mTREINO(MAE=4.6865 / MSE=34.0033 / RMSE=5.8312) / TESTE(MAE=4.5152 / MSE=31.3358 / RMSE=5.5978) / R_squared=47.828\u001B[0m\n",
      "\u001B[0;94mLinearRegression random_state=54: \u001B[1;94mTREINO(MAE=2.5036 / MSE=11.9567 / RMSE=3.4578) / TESTE(MAE=2.6038 / MSE=13.2347 / RMSE=3.6379) / R_squared=80.963\u001B[0m\n",
      "\u001B[0;94mLinearRegression random_state=54: \u001B[1;94mTREINO(MAE=3.4844 / MSE=19.1003 / RMSE=4.3704) / TESTE(MAE=3.5613 / MSE=19.998 / RMSE=4.4719) / R_squared=69.946\u001B[0m\n",
      "\u001B[0;94mLinearRegression random_state=56: \u001B[1;94mTREINO(MAE=4.6384 / MSE=33.4701 / RMSE=5.7853) / TESTE(MAE=4.6709 / MSE=33.3995 / RMSE=5.7792) / R_squared=47.848\u001B[0m\n",
      "\u001B[0;94mLinearRegression random_state=56: \u001B[1;94mTREINO(MAE=2.4035 / MSE=11.0808 / RMSE=3.3288) / TESTE(MAE=2.9918 / MSE=17.7549 / RMSE=4.2137) / R_squared=80.642\u001B[0m\n",
      "\u001B[0;94mLinearRegression random_state=56: \u001B[1;94mTREINO(MAE=4.6989 / MSE=31.5058 / RMSE=5.613) / TESTE(MAE=4.5817 / MSE=32.8993 / RMSE=5.7358) / R_squared=50.453\u001B[0m\n",
      "\u001B[0;94mLinearRegression random_state=58: \u001B[1;94mTREINO(MAE=4.7143 / MSE=34.5984 / RMSE=5.882) / TESTE(MAE=4.3834 / MSE=28.9556 / RMSE=5.381) / R_squared=47.83\u001B[0m\n",
      "\u001B[0;94mLinearRegression random_state=58: \u001B[1;94mTREINO(MAE=2.5148 / MSE=12.1586 / RMSE=3.4869) / TESTE(MAE=2.9311 / MSE=14.9979 / RMSE=3.8727) / R_squared=80.16\u001B[0m\n",
      "\u001B[0;94mLinearRegression random_state=58: \u001B[1;94mTREINO(MAE=6.7226 / MSE=64.9946 / RMSE=8.0619) / TESTE(MAE=6.5814 / MSE=60.8198 / RMSE=7.7987) / R_squared=-0.010808\u001B[0m\n",
      "\u001B[0;94mLinearRegression random_state=60: \u001B[1;94mTREINO(MAE=4.67 / MSE=33.8194 / RMSE=5.8154) / TESTE(MAE=4.5225 / MSE=32.0886 / RMSE=5.6647) / R_squared=47.822\u001B[0m\n",
      "\u001B[0;94mLinearRegression random_state=60: \u001B[1;94mTREINO(MAE=2.4909 / MSE=12.5711 / RMSE=3.5456) / TESTE(MAE=2.6602 / MSE=14.0585 / RMSE=3.7495) / R_squared=79.939\u001B[0m\n",
      "\u001B[0;94mLinearRegression random_state=60: \u001B[1;94mTREINO(MAE=6.7028 / MSE=64.5195 / RMSE=8.0324) / TESTE(MAE=6.6015 / MSE=62.7151 / RMSE=7.9193) / R_squared=-0.010689\u001B[0m\n",
      "\u001B[0;94mLinearRegression random_state=62: \u001B[1;94mTREINO(MAE=4.6218 / MSE=33.1809 / RMSE=5.7603) / TESTE(MAE=4.6881 / MSE=34.4947 / RMSE=5.8732) / R_squared=47.867\u001B[0m\n",
      "\u001B[0;94mLinearRegression random_state=62: \u001B[1;94mTREINO(MAE=2.4808 / MSE=11.8715 / RMSE=3.4455) / TESTE(MAE=2.9623 / MSE=16.6143 / RMSE=4.0761) / R_squared=80.013\u001B[0m\n",
      "\u001B[0;94mLinearRegression random_state=62: \u001B[1;94mTREINO(MAE=4.313 / MSE=27.885 / RMSE=5.2806) / TESTE(MAE=4.2257 / MSE=27.3949 / RMSE=5.234) / R_squared=56.685\u001B[0m\n",
      "\u001B[0;94mLinearRegression random_state=64: \u001B[1;94mTREINO(MAE=4.6159 / MSE=33.1074 / RMSE=5.7539) / TESTE(MAE=4.681 / MSE=34.8975 / RMSE=5.9074) / R_squared=47.832\u001B[0m\n",
      "\u001B[0;94mLinearRegression random_state=64: \u001B[1;94mTREINO(MAE=2.4699 / MSE=12.0947 / RMSE=3.4777) / TESTE(MAE=3.1396 / MSE=19.4391 / RMSE=4.409) / R_squared=78.853\u001B[0m\n",
      "\u001B[0;94mLinearRegression random_state=64: \u001B[1;94mTREINO(MAE=6.7446 / MSE=65.2273 / RMSE=8.0763) / TESTE(MAE=6.4327 / MSE=59.8958 / RMSE=7.7392) / R_squared=-0.012271\u001B[0m\n",
      "\u001B[0;94mLinearRegression random_state=66: \u001B[1;94mTREINO(MAE=4.6022 / MSE=32.7016 / RMSE=5.7185) / TESTE(MAE=4.7782 / MSE=36.382 / RMSE=6.0317) / R_squared=47.874\u001B[0m\n",
      "\u001B[0;94mLinearRegression random_state=66: \u001B[1;94mTREINO(MAE=2.4856 / MSE=11.9129 / RMSE=3.4515) / TESTE(MAE=3.0084 / MSE=19.0679 / RMSE=4.3667) / R_squared=79.195\u001B[0m\n",
      "\u001B[0;94mLinearRegression random_state=66: \u001B[1;94mTREINO(MAE=6.6367 / MSE=63.2269 / RMSE=7.9515) / TESTE(MAE=6.9367 / MSE=67.9087 / RMSE=8.2407) / R_squared=-0.021705\u001B[0m\n",
      "\u001B[0;94mLinearRegression random_state=68: \u001B[1;94mTREINO(MAE=4.6344 / MSE=33.3698 / RMSE=5.7767) / TESTE(MAE=4.6689 / MSE=33.7921 / RMSE=5.8131) / R_squared=47.851\u001B[0m\n",
      "\u001B[0;94mLinearRegression random_state=68: \u001B[1;94mTREINO(MAE=2.4234 / MSE=11.1823 / RMSE=3.344) / TESTE(MAE=2.8947 / MSE=16.9255 / RMSE=4.1141) / R_squared=80.775\u001B[0m\n",
      "\u001B[0;94mLinearRegression random_state=68: \u001B[1;94mTREINO(MAE=6.7005 / MSE=64.3038 / RMSE=8.019) / TESTE(MAE=6.6511 / MSE=63.547 / RMSE=7.9716) / R_squared=-0.0016378\u001B[0m\n",
      "\u001B[0;94mLinearRegression random_state=70: \u001B[1;94mTREINO(MAE=4.5827 / MSE=32.6634 / RMSE=5.7152) / TESTE(MAE=4.867 / MSE=36.5095 / RMSE=6.0423) / R_squared=47.882\u001B[0m\n",
      "\u001B[0;94mLinearRegression random_state=70: \u001B[1;94mTREINO(MAE=2.5214 / MSE=12.2403 / RMSE=3.4986) / TESTE(MAE=2.6765 / MSE=13.6824 / RMSE=3.699) / R_squared=80.469\u001B[0m\n",
      "\u001B[0;94mLinearRegression random_state=70: \u001B[1;94mTREINO(MAE=3.2499 / MSE=16.4059 / RMSE=4.0504) / TESTE(MAE=3.2468 / MSE=16.0873 / RMSE=4.0109) / R_squared=74.526\u001B[0m\n",
      "\u001B[0;94mLinearRegression random_state=72: \u001B[1;94mTREINO(MAE=4.606 / MSE=32.8657 / RMSE=5.7329) / TESTE(MAE=4.8122 / MSE=35.8543 / RMSE=5.9878) / R_squared=47.835\u001B[0m\n",
      "\u001B[0;94mLinearRegression random_state=72: \u001B[1;94mTREINO(MAE=2.3964 / MSE=11.4739 / RMSE=3.3873) / TESTE(MAE=2.8491 / MSE=15.2046 / RMSE=3.8993) / R_squared=80.949\u001B[0m\n",
      "\u001B[0;94mLinearRegression random_state=72: \u001B[1;94mTREINO(MAE=4.9028 / MSE=36.8465 / RMSE=6.0701) / TESTE(MAE=5.0746 / MSE=39.224 / RMSE=6.2629) / R_squared=41.82\u001B[0m\n",
      "\u001B[0;94mLinearRegression random_state=74: \u001B[1;94mTREINO(MAE=4.6846 / MSE=34.1764 / RMSE=5.8461) / TESTE(MAE=4.4558 / MSE=30.7073 / RMSE=5.5414) / R_squared=47.809\u001B[0m\n",
      "\u001B[0;94mLinearRegression random_state=74: \u001B[1;94mTREINO(MAE=2.464 / MSE=11.8381 / RMSE=3.4407) / TESTE(MAE=2.7768 / MSE=15.3968 / RMSE=3.9239) / R_squared=80.435\u001B[0m\n",
      "\u001B[0;94mLinearRegression random_state=74: \u001B[1;94mTREINO(MAE=6.7343 / MSE=65.1202 / RMSE=8.0697) / TESTE(MAE=6.4891 / MSE=60.2938 / RMSE=7.7649) / R_squared=-0.0031421\u001B[0m\n",
      "\u001B[0;94mLinearRegression random_state=76: \u001B[1;94mTREINO(MAE=4.6374 / MSE=33.6949 / RMSE=5.8047) / TESTE(MAE=4.5979 / MSE=32.5366 / RMSE=5.7041) / R_squared=47.837\u001B[0m\n",
      "\u001B[0;94mLinearRegression random_state=76: \u001B[1;94mTREINO(MAE=2.4799 / MSE=12.3564 / RMSE=3.5152) / TESTE(MAE=2.8752 / MSE=17.2691 / RMSE=4.1556) / R_squared=79.204\u001B[0m\n",
      "\u001B[0;94mLinearRegression random_state=76: \u001B[1;94mTREINO(MAE=6.6325 / MSE=63.439 / RMSE=7.9649) / TESTE(MAE=6.9048 / MSE=66.9944 / RMSE=8.185) / R_squared=-0.00049958\u001B[0m\n",
      "\u001B[0;94mLinearRegression random_state=78: \u001B[1;94mTREINO(MAE=4.6546 / MSE=34.0929 / RMSE=5.8389) / TESTE(MAE=4.5216 / MSE=30.935 / RMSE=5.5619) / R_squared=47.842\u001B[0m\n",
      "\u001B[0;94mLinearRegression random_state=78: \u001B[1;94mTREINO(MAE=2.3557 / MSE=11.6593 / RMSE=3.4146) / TESTE(MAE=2.905 / MSE=17.995 / RMSE=4.2421) / R_squared=79.846\u001B[0m\n",
      "\u001B[0;94mLinearRegression random_state=78: \u001B[1;94mTREINO(MAE=6.7558 / MSE=65.1763 / RMSE=8.0732) / TESTE(MAE=6.4596 / MSE=60.1239 / RMSE=7.754) / R_squared=-0.019945\u001B[0m\n",
      "\u001B[0;94mLinearRegression random_state=80: \u001B[1;94mTREINO(MAE=4.6151 / MSE=33.2399 / RMSE=5.7654) / TESTE(MAE=4.7626 / MSE=34.2755 / RMSE=5.8545) / R_squared=47.861\u001B[0m\n",
      "\u001B[0;94mLinearRegression random_state=80: \u001B[1;94mTREINO(MAE=2.4595 / MSE=12.0887 / RMSE=3.4769) / TESTE(MAE=3.0691 / MSE=17.059 / RMSE=4.1302) / R_squared=79.603\u001B[0m\n",
      "\u001B[0;94mLinearRegression random_state=80: \u001B[1;94mTREINO(MAE=6.6322 / MSE=63.28 / RMSE=7.9549) / TESTE(MAE=6.9317 / MSE=67.6425 / RMSE=8.2245) / R_squared=-0.0047079\u001B[0m\n",
      "\u001B[0;94mLinearRegression random_state=82: \u001B[1;94mTREINO(MAE=4.6155 / MSE=32.8973 / RMSE=5.7356) / TESTE(MAE=4.6919 / MSE=35.7711 / RMSE=5.9809) / R_squared=47.821\u001B[0m\n",
      "\u001B[0;94mLinearRegression random_state=82: \u001B[1;94mTREINO(MAE=2.4086 / MSE=11.2828 / RMSE=3.359) / TESTE(MAE=2.9764 / MSE=17.3321 / RMSE=4.1632) / R_squared=80.523\u001B[0m\n",
      "\u001B[0;94mLinearRegression random_state=82: \u001B[1;94mTREINO(MAE=4.7013 / MSE=31.5792 / RMSE=5.6195) / TESTE(MAE=4.7713 / MSE=33.7801 / RMSE=5.8121) / R_squared=50.086\u001B[0m\n",
      "\u001B[0;94mLinearRegression random_state=84: \u001B[1;94mTREINO(MAE=4.6036 / MSE=32.9044 / RMSE=5.7362) / TESTE(MAE=4.7642 / MSE=35.6581 / RMSE=5.9714) / R_squared=47.848\u001B[0m\n",
      "\u001B[0;94mLinearRegression random_state=84: \u001B[1;94mTREINO(MAE=2.5338 / MSE=12.5646 / RMSE=3.5447) / TESTE(MAE=3.1098 / MSE=18.6703 / RMSE=4.3209) / R_squared=78.507\u001B[0m\n",
      "\u001B[0;94mLinearRegression random_state=84: \u001B[1;94mTREINO(MAE=6.7068 / MSE=64.1285 / RMSE=8.008) / TESTE(MAE=6.6131 / MSE=64.2415 / RMSE=8.0151) / R_squared=-3.0811e-05\u001B[0m\n",
      "\u001B[0;94mLinearRegression random_state=86: \u001B[1;94mTREINO(MAE=4.5528 / MSE=31.9995 / RMSE=5.6568) / TESTE(MAE=4.9551 / MSE=39.3076 / RMSE=6.2696) / R_squared=47.836\u001B[0m\n",
      "\u001B[0;94mLinearRegression random_state=86: \u001B[1;94mTREINO(MAE=2.4241 / MSE=11.1266 / RMSE=3.3357) / TESTE(MAE=2.9105 / MSE=17.8312 / RMSE=4.2227) / R_squared=80.561\u001B[0m\n",
      "\u001B[0;94mLinearRegression random_state=86: \u001B[1;94mTREINO(MAE=6.6644 / MSE=63.4393 / RMSE=7.9649) / TESTE(MAE=6.824 / MSE=67.055 / RMSE=8.1887) / R_squared=-0.019817\u001B[0m\n",
      "\u001B[0;94mLinearRegression random_state=88: \u001B[1;94mTREINO(MAE=4.6389 / MSE=33.0993 / RMSE=5.7532) / TESTE(MAE=4.6022 / MSE=34.9784 / RMSE=5.9143) / R_squared=47.817\u001B[0m\n",
      "\u001B[0;94mLinearRegression random_state=88: \u001B[1;94mTREINO(MAE=2.4008 / MSE=11.9633 / RMSE=3.4588) / TESTE(MAE=2.9075 / MSE=16.6603 / RMSE=4.0817) / R_squared=79.884\u001B[0m\n",
      "\u001B[0;94mLinearRegression random_state=88: \u001B[1;94mTREINO(MAE=6.7009 / MSE=64.3178 / RMSE=8.0198) / TESTE(MAE=6.6148 / MSE=63.5085 / RMSE=7.9692) / R_squared=-0.0069936\u001B[0m\n",
      "\u001B[0;94mLinearRegression random_state=90: \u001B[1;94mTREINO(MAE=4.6107 / MSE=32.9031 / RMSE=5.7361) / TESTE(MAE=4.7726 / MSE=35.7131 / RMSE=5.976) / R_squared=47.832\u001B[0m\n",
      "\u001B[0;94mLinearRegression random_state=90: \u001B[1;94mTREINO(MAE=2.5112 / MSE=11.7995 / RMSE=3.435) / TESTE(MAE=2.9151 / MSE=16.908 / RMSE=4.1119) / R_squared=80.011\u001B[0m\n",
      "\u001B[0;94mLinearRegression random_state=90: \u001B[1;94mTREINO(MAE=6.6722 / MSE=63.6444 / RMSE=7.9777) / TESTE(MAE=6.766 / MSE=66.1802 / RMSE=8.1351) / R_squared=-0.002256\u001B[0m\n",
      "\u001B[0;94mLinearRegression random_state=92: \u001B[1;94mTREINO(MAE=4.5879 / MSE=32.8778 / RMSE=5.7339) / TESTE(MAE=4.7301 / MSE=35.9282 / RMSE=5.994) / R_squared=47.797\u001B[0m\n",
      "\u001B[0;94mLinearRegression random_state=92: \u001B[1;94mTREINO(MAE=2.4392 / MSE=12.1384 / RMSE=3.484) / TESTE(MAE=2.9185 / MSE=16.7217 / RMSE=4.0892) / R_squared=79.647\u001B[0m\n",
      "\u001B[0;94mLinearRegression random_state=92: \u001B[1;94mTREINO(MAE=3.8627 / MSE=22.6779 / RMSE=4.7621) / TESTE(MAE=3.948 / MSE=23.5242 / RMSE=4.8502) / R_squared=64.385\u001B[0m\n",
      "\u001B[0;94mLinearRegression random_state=94: \u001B[1;94mTREINO(MAE=4.5959 / MSE=32.7889 / RMSE=5.7262) / TESTE(MAE=4.7927 / MSE=36.2067 / RMSE=6.0172) / R_squared=47.821\u001B[0m\n",
      "\u001B[0;94mLinearRegression random_state=94: \u001B[1;94mTREINO(MAE=2.4275 / MSE=12.2515 / RMSE=3.5002) / TESTE(MAE=2.9432 / MSE=18.453 / RMSE=4.2957) / R_squared=78.965\u001B[0m\n",
      "\u001B[0;94mLinearRegression random_state=94: \u001B[1;94mTREINO(MAE=3.3494 / MSE=17.6225 / RMSE=4.1979) / TESTE(MAE=3.4623 / MSE=18.8862 / RMSE=4.3458) / R_squared=72.135\u001B[0m\n",
      "\u001B[0;94mLinearRegression random_state=96: \u001B[1;94mTREINO(MAE=4.6316 / MSE=33.5719 / RMSE=5.7941) / TESTE(MAE=4.701 / MSE=33.0048 / RMSE=5.745) / R_squared=47.845\u001B[0m\n",
      "\u001B[0;94mLinearRegression random_state=96: \u001B[1;94mTREINO(MAE=2.5445 / MSE=12.3181 / RMSE=3.5097) / TESTE(MAE=3.2427 / MSE=19.4386 / RMSE=4.4089) / R_squared=78.574\u001B[0m\n",
      "\u001B[0;94mLinearRegression random_state=96: \u001B[1;94mTREINO(MAE=4.9102 / MSE=37.0186 / RMSE=6.0843) / TESTE(MAE=4.9843 / MSE=38.5383 / RMSE=6.2079) / R_squared=41.82\u001B[0m\n",
      "\u001B[0;94mLinearRegression random_state=98: \u001B[1;94mTREINO(MAE=4.6615 / MSE=33.7934 / RMSE=5.8132) / TESTE(MAE=4.52 / MSE=32.265 / RMSE=5.6802) / R_squared=47.8\u001B[0m\n",
      "\u001B[0;94mLinearRegression random_state=98: \u001B[1;94mTREINO(MAE=2.4626 / MSE=12.2765 / RMSE=3.5038) / TESTE(MAE=2.8568 / MSE=16.3988 / RMSE=4.0495) / R_squared=79.576\u001B[0m\n",
      "\u001B[0;94mLinearRegression random_state=98: \u001B[1;94mTREINO(MAE=3.5001 / MSE=18.7508 / RMSE=4.3302) / TESTE(MAE=3.6325 / MSE=19.965 / RMSE=4.4682) / R_squared=70.392\u001B[0m\n"
     ]
    }
   ],
   "execution_count": 12
  },
  {
   "metadata": {},
   "cell_type": "markdown",
   "source": [
    "## Teste\n",
    "\n",
    "As amostras são emparelhadas, uma vez que foram testes realizados sobre o mesmo conjunto de dados de treino e de teste. Não havendo assim necessidade de testar a variância das mesmas."
   ],
   "id": "da6c82330506f978"
  },
  {
   "metadata": {},
   "cell_type": "markdown",
   "source": "Recolher os valores dos erros das listas de resultados",
   "id": "94f9615d2576845f"
  },
  {
   "metadata": {
    "ExecuteTime": {
     "end_time": "2024-06-08T22:27:52.928250Z",
     "start_time": "2024-06-08T22:27:52.924649Z"
    }
   },
   "cell_type": "code",
   "source": [
    "rmse_mlr = [metricas[8] for metricas in resultados_mlr]\n",
    "rmse_dtr = [metricas[8] for metricas in resultados_dtr]\n",
    "rmse_mlpr = [metricas[8] for metricas in resultados_mlpr]\n",
    "\n",
    "mse_mlr = [metricas[7] for metricas in resultados_mlr]\n",
    "mse_dtr = [metricas[7] for metricas in resultados_dtr]\n",
    "mse_mlpr = [metricas[7] for metricas in resultados_mlpr]\n",
    "\n",
    "mae_mlr = [metricas[6] for metricas in resultados_mlr]\n",
    "mae_dtr = [metricas[6] for metricas in resultados_dtr]\n",
    "mae_mlpr = [metricas[6] for metricas in resultados_mlpr]"
   ],
   "id": "eb55731948e6fbe8",
   "outputs": [],
   "execution_count": 18
  },
  {
   "metadata": {},
   "cell_type": "markdown",
   "source": "Imprimir os melhores resultados, que no caso da regressão são os menores erros.",
   "id": "5d37b96021111d94"
  },
  {
   "metadata": {
    "ExecuteTime": {
     "end_time": "2024-06-08T22:27:54.614367Z",
     "start_time": "2024-06-08T22:27:54.610279Z"
    }
   },
   "cell_type": "code",
   "source": [
    "ut.titulo(\"RMSE\")\n",
    "ut.etiqueta_e_valor(\"MLR\", min(rmse_mlr))\n",
    "ut.etiqueta_e_valor(\"DTR\", min(rmse_dtr))\n",
    "ut.etiqueta_e_valor(\"MLPR\", min(rmse_mlpr))\n",
    "\n",
    "ut.titulo(\"MSE\")\n",
    "ut.etiqueta_e_valor(\"MLR\", min(mse_mlr))\n",
    "ut.etiqueta_e_valor(\"DTR\", min(mse_dtr))\n",
    "ut.etiqueta_e_valor(\"MLPR\", min(mse_mlpr))\n",
    "\n",
    "ut.titulo(\"MAE\")\n",
    "ut.etiqueta_e_valor(\"MLR\", min(mae_mlr))\n",
    "ut.etiqueta_e_valor(\"DTR\", min(mae_dtr))\n",
    "ut.etiqueta_e_valor(\"MLPR\", min(mae_mlpr))"
   ],
   "id": "68809e257427d11a",
   "outputs": [
    {
     "name": "stdout",
     "output_type": "stream",
     "text": [
      "\u001B[21;30;44mRMSE\u001B[0m\n",
      "\u001B[0;94mMLR: \u001B[1;94m47.727123185057685\u001B[0m\n",
      "\u001B[0;94mDTR: \u001B[1;94m76.20920092335733\u001B[0m\n",
      "\u001B[0;94mMLPR: \u001B[1;94m-0.06389278539464804\u001B[0m\n",
      "\u001B[21;30;44mMSE\u001B[0m\n",
      "\u001B[0;94mMLR: \u001B[1;94m5.381\u001B[0m\n",
      "\u001B[0;94mDTR: \u001B[1;94m3.6379\u001B[0m\n",
      "\u001B[0;94mMLPR: \u001B[1;94m4.0109\u001B[0m\n",
      "\u001B[21;30;44mMAE\u001B[0m\n",
      "\u001B[0;94mMLR: \u001B[1;94m28.9556\u001B[0m\n",
      "\u001B[0;94mDTR: \u001B[1;94m13.2347\u001B[0m\n",
      "\u001B[0;94mMLPR: \u001B[1;94m16.0873\u001B[0m\n"
     ]
    }
   ],
   "execution_count": 19
  },
  {
   "metadata": {},
   "cell_type": "markdown",
   "source": [
    "Face aos dados, os melhores parecem ser o Regressão Linear Múltipla e a rede neural MLPRegressor.\n",
    "\n",
    "#### Hipotese\n",
    "\n",
    "$$H_0: \\bar X_{MLR} \\geq \\bar X_{MLPR} \\quad Vs \\quad H_1: \\bar X_{MLR} < \\bar X_{MLPR}$$\n",
    "\n",
    "Utilizaçao de *t-student* à média, para amostras emparelhadas."
   ],
   "id": "9a991cb19d5493c0"
  },
  {
   "metadata": {
    "ExecuteTime": {
     "end_time": "2024-06-08T22:52:49.797841Z",
     "start_time": "2024-06-08T22:52:49.794004Z"
    }
   },
   "cell_type": "code",
   "source": [
    "teste_mae = stats.ttest_rel(mae_mlr, mae_mlpr, alternative=\"less\")\n",
    "ut.texto(f\"O valor de pvalue é {teste_mae.pvalue:.4f}\")"
   ],
   "id": "aec4f7979bc082ab",
   "outputs": [
    {
     "name": "stdout",
     "output_type": "stream",
     "text": [
      "\u001B[0;94mO valor de pvalue é 0.0000\u001B[0m\n"
     ]
    }
   ],
   "execution_count": 37
  },
  {
   "metadata": {
    "ExecuteTime": {
     "end_time": "2024-06-08T22:52:51.630512Z",
     "start_time": "2024-06-08T22:52:51.626136Z"
    }
   },
   "cell_type": "code",
   "source": [
    "teste_mse = stats.ttest_rel(mse_mlr, mse_mlpr, alternative=\"less\")\n",
    "ut.texto(f\"O valor de pvalue é {teste_mse.pvalue:.4f}\")"
   ],
   "id": "819363c5574efaf",
   "outputs": [
    {
     "name": "stdout",
     "output_type": "stream",
     "text": [
      "\u001B[0;94mO valor de pvalue é 0.0000\u001B[0m\n"
     ]
    }
   ],
   "execution_count": 38
  },
  {
   "metadata": {
    "ExecuteTime": {
     "end_time": "2024-06-08T22:52:52.869622Z",
     "start_time": "2024-06-08T22:52:52.865552Z"
    }
   },
   "cell_type": "code",
   "source": [
    "teste_rmse = stats.ttest_rel(rmse_mlr, rmse_mlpr, alternative=\"less\")\n",
    "ut.texto(f\"O valor de pvalue é {teste_rmse.pvalue:.4f}\")"
   ],
   "id": "89dd54afd71679cb",
   "outputs": [
    {
     "name": "stdout",
     "output_type": "stream",
     "text": [
      "\u001B[0;94mO valor de pvalue é 1.0000\u001B[0m\n"
     ]
    }
   ],
   "execution_count": 39
  },
  {
   "metadata": {},
   "cell_type": "code",
   "outputs": [],
   "execution_count": null,
   "source": "",
   "id": "4497ebfe966d6bcf"
  }
 ],
 "metadata": {
  "kernelspec": {
   "display_name": "Python 3",
   "language": "python",
   "name": "python3"
  },
  "language_info": {
   "codemirror_mode": {
    "name": "ipython",
    "version": 2
   },
   "file_extension": ".py",
   "mimetype": "text/x-python",
   "name": "python",
   "nbconvert_exporter": "python",
   "pygments_lexer": "ipython2",
   "version": "2.7.6"
  }
 },
 "nbformat": 4,
 "nbformat_minor": 5
}
