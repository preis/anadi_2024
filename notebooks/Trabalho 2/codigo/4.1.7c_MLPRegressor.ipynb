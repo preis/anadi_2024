{
 "cells": [
  {
   "metadata": {},
   "cell_type": "markdown",
   "source": [
    "# Trabalho 2\n",
    "\n",
    "## 4.1.7 c)\n",
    "\n",
    "Neste notebook está o código relativo à MLPRegressor.\n",
    "\n",
    "### Imports"
   ],
   "id": "6088aada86d4442b"
  },
  {
   "metadata": {},
   "cell_type": "code",
   "source": [
    "from IPython.display import clear_output\n",
    "import operator\n",
    "import warnings\n",
    "from time import time\n",
    "import matplotlib.pyplot as plt\n",
    "import numpy as np\n",
    "import pandas as pd\n",
    "from sklearn.metrics import mean_squared_error\n",
    "from sklearn.model_selection import train_test_split\n",
    "from sklearn.neural_network import MLPRegressor\n",
    "from sklearn.preprocessing import LabelEncoder, MinMaxScaler\n",
    "\n",
    "import utilidades as ut"
   ],
   "id": "c14b967b812d083b",
   "outputs": [],
   "execution_count": null
  },
  {
   "metadata": {},
   "cell_type": "markdown",
   "source": "### Inicializações e variáveis",
   "id": "ff02a40a70bf478d"
  },
  {
   "metadata": {},
   "cell_type": "code",
   "source": [
    "warnings.filterwarnings(\"ignore\")  # Desabilitar warnings.\n",
    "plt.style.use(\n",
    "    \"style/estilo.mplstyle\")  # Garantir que se utiliza um estilo definido centralmente e comum a todos os gráficos.\n",
    "%matplotlib inline\n",
    "\n",
    "label_encoder = LabelEncoder()\n",
    "\n",
    "ficheiro = \"dados_preparados.csv\"\n",
    "colunas_numericas = [\"Idade\", \"FCV\", \"NRP\", \"CA\", \"FAF\", \"TUDE\", \"IMC\"]\n",
    "colunas_classes = [\"Genero\", \"Historico_obesidade_familiar\", \"FCCAC\", \"Fumador\", \"MCC\", \"CCER\", \"CBA\", \"TRANS\"]"
   ],
   "id": "bff4210b269d953e",
   "outputs": [],
   "execution_count": null
  },
  {
   "metadata": {},
   "cell_type": "markdown",
   "source": "## Leitura dos dados preparados",
   "id": "dfa043fc61ddba02"
  },
  {
   "metadata": {},
   "cell_type": "code",
   "source": "dados_trabalho = pd.read_csv(ficheiro)",
   "id": "15f9fff826ebd90c",
   "outputs": [],
   "execution_count": null
  },
  {
   "metadata": {},
   "cell_type": "markdown",
   "source": "Remover o atributo *Label*, que é uma classificação de obesidade.",
   "id": "e8566463392fdeee"
  },
  {
   "metadata": {},
   "cell_type": "code",
   "source": "dados_trabalho.drop([\"Label\"], axis=1, inplace=True)",
   "id": "7b810fb324914341",
   "outputs": [],
   "execution_count": null
  },
  {
   "metadata": {},
   "cell_type": "code",
   "source": "dados_trabalho",
   "id": "23f741d3f20d3773",
   "outputs": [],
   "execution_count": null
  },
  {
   "metadata": {},
   "cell_type": "markdown",
   "source": "Temos no entanto de realizar primeiro o encoding das classes para valores numéricos, esta operação é realizada usando o ``sklearn.preprocessing.LabelEncoder`` em todas as colunas com apenas 2 classes.",
   "id": "e1c7142f110b0028"
  },
  {
   "metadata": {},
   "cell_type": "code",
   "source": [
    "ut.titulo(\"Valores codificados por atributo\")\n",
    "\n",
    "for coluna in colunas_classes:\n",
    "    if dados_trabalho[coluna].dtype == 'object':\n",
    "        dados_trabalho[coluna] = label_encoder.fit_transform(dados_trabalho[coluna].values)\n",
    "        ut.etiqueta_e_valor(coluna, str(sorted(dados_trabalho[coluna].unique())))"
   ],
   "id": "8c3bba6242ebfd4f",
   "outputs": [],
   "execution_count": null
  },
  {
   "metadata": {},
   "cell_type": "markdown",
   "source": [
    "## Normalização\n",
    "\n"
   ],
   "id": "5a415825a54ddf09"
  },
  {
   "metadata": {},
   "cell_type": "code",
   "source": [
    "dados_normalizados = MinMaxScaler().fit_transform(dados_trabalho)\n",
    "dataframe_normalizado = pd.DataFrame(\n",
    "    dados_normalizados,\n",
    "    columns=dados_trabalho.columns\n",
    ")\n",
    "dataframe_normalizado"
   ],
   "id": "dd671df73a4ae6dc",
   "outputs": [],
   "execution_count": null
  },
  {
   "metadata": {},
   "cell_type": "code",
   "source": "dataframe_normalizado",
   "id": "2fd81a67ed77365a",
   "outputs": [],
   "execution_count": null
  },
  {
   "metadata": {},
   "cell_type": "markdown",
   "source": [
    "| Target | Preditores                   |\n",
    "|--------|------------------------------|\n",
    "| IMC    | Todos os restantes atributos |\n",
    "\n",
    "Ver TP5\n",
    "\n",
    "O target não muda"
   ],
   "id": "5b5fb126751c39de"
  },
  {
   "metadata": {},
   "cell_type": "code",
   "source": "y = dataframe_normalizado.IMC",
   "id": "d36edc1273304fcb",
   "outputs": [],
   "execution_count": null
  },
  {
   "metadata": {},
   "cell_type": "markdown",
   "source": "## Preditores",
   "id": "91530a5df2095925"
  },
  {
   "metadata": {},
   "cell_type": "code",
   "source": [
    "lista_preditores = list(dataframe_normalizado.columns)\n",
    "lista_preditores.remove(\"IMC\")\n",
    "X = dataframe_normalizado[lista_preditores]"
   ],
   "id": "89be6211cb9c64e9",
   "outputs": [],
   "execution_count": null
  },
  {
   "metadata": {},
   "cell_type": "markdown",
   "source": "### Holdout",
   "id": "d1190e73f3f6137f"
  },
  {
   "metadata": {},
   "cell_type": "code",
   "source": "X_train, X_test, y_train, y_test = train_test_split(X, y, train_size=0.8, test_size=0.2, random_state=100)",
   "id": "7948a1c9a7cc46dc",
   "outputs": [],
   "execution_count": null
  },
  {
   "metadata": {},
   "cell_type": "markdown",
   "source": "## Cálculo",
   "id": "a0da05f726151881"
  },
  {
   "metadata": {},
   "cell_type": "code",
   "source": [
    "ativacao = [\"identity\", \"logistic\", \"tanh\", \"relu\"]\n",
    "solvers = [\"lbfgs\", \"sgd\", \"adam\"]\n",
    "n_hidden = [\n",
    "    2, 3, 4, 5, 6, 7, 8, 9, \n",
    "    [4, 2], [5, 2], [6, 2], \n",
    "    [2, 1], [2, 2], [2, 3], [2, 4], [2, 5], [2, 6], \n",
    "    [3, 1], [3, 2], [3, 3], [3, 4], [3, 5], [3, 6], \n",
    "    [4, 1], [4, 2], [4, 3], [4, 4], [4, 5], [4, 6], \n",
    "    [5, 1], [5, 2], [5, 3], [5, 4], [5, 5], [5, 6], \n",
    "    [6, 1], [6, 2], [6, 3], [6, 4], [6, 5], [6, 6],\n",
    "    [2, 2, 2], [2, 2, 3], [2, 2, 4], [2, 2, 5], [2, 2, 6],\n",
    "    [2, 3, 2], [2, 3, 3], [2, 3, 4], [2, 3, 5], [2, 3, 6],\n",
    "    [2, 4, 2], [2, 4, 3], [2, 4, 4], [2, 4, 5], [2, 4, 6],\n",
    "    [2, 5, 2], [2, 5, 3], [2, 5, 4], [2, 5, 5], [2, 5, 6],\n",
    "    [2, 6, 2], [2, 6, 3], [2, 6, 4], [2, 6, 5], [2, 6, 6],\n",
    "    [3, 2, 2], [3, 2, 3], [3, 2, 4], [3, 2, 5], [3, 2, 6],\n",
    "    [3, 3, 2], [3, 3, 3], [3, 3, 4], [3, 3, 5], [3, 3, 6],\n",
    "    [3, 4, 2], [3, 4, 3], [3, 4, 4], [3, 4, 5], [3, 4, 6],\n",
    "    [3, 5, 2], [3, 5, 3], [3, 5, 4], [3, 5, 5], [3, 5, 6],\n",
    "    [3, 6, 2], [3, 6, 3], [3, 6, 4], [3, 6, 5], [3, 6, 6],\n",
    "    [4, 2, 2], [4, 2, 3], [4, 2, 4], [4, 2, 5], [4, 2, 6],\n",
    "    [4, 3, 2], [4, 3, 3], [4, 3, 4], [4, 3, 5], [4, 3, 6],\n",
    "    [4, 4, 2], [4, 4, 3], [4, 4, 4], [4, 4, 5], [4, 4, 6],\n",
    "    [4, 5, 2], [4, 5, 3], [4, 5, 4], [4, 5, 5], [4, 5, 6],\n",
    "    [4, 6, 2], [4, 6, 3], [4, 6, 4], [4, 6, 5], [4, 6, 6],\n",
    "    [5, 2, 2], [5, 2, 3], [5, 2, 4], [5, 2, 5], [5, 2, 6],\n",
    "    [5, 3, 2], [5, 3, 3], [5, 3, 4], [5, 3, 5], [5, 3, 6],\n",
    "    [5, 4, 2], [5, 4, 3], [5, 4, 4], [5, 4, 5], [5, 4, 6],\n",
    "    [5, 5, 2], [5, 5, 3], [5, 5, 4], [5, 5, 5], [5, 5, 6],\n",
    "    [5, 6, 2], [5, 6, 3], [5, 6, 4], [5, 6, 5], [5, 6, 6],\n",
    "    [6, 2, 2], [6, 2, 3], [6, 2, 4], [6, 2, 5], [6, 2, 6],\n",
    "    [6, 3, 2], [6, 3, 3], [6, 3, 4], [6, 3, 5], [6, 3, 6],\n",
    "    [6, 4, 2], [6, 4, 3], [6, 4, 4], [6, 4, 5], [6, 4, 6],\n",
    "    [6, 5, 2], [6, 5, 3], [6, 5, 4], [6, 5, 5], [6, 5, 6],\n",
    "    [6, 6, 2], [6, 6, 3], [6, 6, 4], [6, 6, 5], [6, 6, 6],\n",
    "]"
   ],
   "id": "2613527bf968120c",
   "outputs": [],
   "execution_count": null
  },
  {
   "metadata": {},
   "cell_type": "code",
   "source": [
    "def rede_neural(camadas, ativador, solv):\n",
    "    modelo_nn = MLPRegressor(\n",
    "        hidden_layer_sizes=camadas,\n",
    "        activation=ativador,\n",
    "        solver=solv,\n",
    "        max_iter=1000,\n",
    "        learning_rate_init=0.001\n",
    "    )\n",
    "    # Treino\n",
    "    modelo_nn.fit(X_train, y_train)\n",
    "\n",
    "    # Métricas nos dados de Teste\n",
    "    y_pred_teste = modelo_nn.predict(X_test)\n",
    "    rsquared_teste = modelo_nn.score(X_test, y_test)\n",
    "    rmse_teste = np.sqrt(mean_squared_error(y_test, y_pred_teste))\n",
    "\n",
    "    # Métricas nos dados de Treino.\n",
    "    y_pred_treino = modelo_nn.predict(X_train)  \n",
    "    rsquared_treino = modelo_nn.score(X_train, y_train)\n",
    "    rmse_treino = np.sqrt(mean_squared_error(y_train, y_pred_treino))\n",
    "    return ativador, solv, camadas, rsquared_teste, rmse_teste, rsquared_treino, rmse_treino"
   ],
   "id": "39e10c52f54c87a",
   "outputs": [],
   "execution_count": null
  },
  {
   "metadata": {},
   "cell_type": "markdown",
   "source": "## Cálculos",
   "id": "b0631e74a78369ff"
  },
  {
   "metadata": {},
   "cell_type": "code",
   "source": [
    "resultados = pd.DataFrame(columns=[\"ativador\", \"solv\", \"camadas\", \"rsquared_teste\", \"rmse_teste\", \"rsquared_treino\", \"rmse_treino\"])\n",
    "inicio = time()\n",
    "total = len(n_hidden) * len(solvers) * len(ativacao)\n",
    "ciclo = 0\n",
    "\n",
    "for ativador in ativacao:\n",
    "    for solver in solvers:\n",
    "        for niveis in n_hidden:\n",
    "            resultados.loc[ciclo] = rede_neural(niveis, ativador, solver)\n",
    "            ciclo += 1\n",
    "            ut.texto_mesma_linha(f\"Ciclo {ciclo}/{total} || Activador={ativacao} | Solver={solver} >> {(time() - inicio):.4f}s\")"
   ],
   "id": "288eb3d206587315",
   "outputs": [],
   "execution_count": null
  },
  {
   "metadata": {},
   "cell_type": "markdown",
   "source": [
    "## Valores do melhor RMSE\n",
    "\n",
    "Obter os 10 melhores"
   ],
   "id": "c83f48af08c5a147"
  },
  {
   "metadata": {},
   "cell_type": "code",
   "source": [
    "best_n_rmse = resultados.nsmallest(10, 'rmse_teste')\n",
    "best_n_rmse"
   ],
   "id": "aba9be5da49ba4a7",
   "outputs": [],
   "execution_count": null
  },
  {
   "metadata": {},
   "cell_type": "code",
   "source": "parametros_minimo = resultados.iloc[resultados[\"rmse_teste\"].idxmin()]",
   "id": "deb03ee77f954b92",
   "outputs": [],
   "execution_count": null
  },
  {
   "metadata": {},
   "cell_type": "code",
   "source": [
    "ut.titulo(\"Parametrizaçao e métricas onde temos o menor RMSE de teste\")\n",
    "ut.etiqueta_e_valor(\"Ocorre com: camadas\", f\"ativador = {parametros_minimo['ativador']} | solver = {parametros_minimo['solv']} | camadas = {parametros_minimo['camadas']}\")\n",
    "ut.etiqueta_e_valor(\"Nos dados de teste\", f\"Rsquared = {parametros_minimo['rsquared_treino']:.6f} RMSE = {parametros_minimo['rmse_treino']:.6f}\")\n",
    "ut.etiqueta_e_valor(\"Nos dados de treino\", f\"Rsquared = {parametros_minimo['rsquared_teste']:.6f} RMSE = {parametros_minimo['rmse_teste']:.6f}\")"
   ],
   "id": "6719309a3305900f",
   "outputs": [],
   "execution_count": null
  },
  {
   "metadata": {},
   "cell_type": "markdown",
   "source": [
    "## Cálculo melhores parâmetros\n",
    "\n",
    "Repetição dos melhores cálculos para apresentação dos detalhes da respetiva rede."
   ],
   "id": "7225063ac11a2d76"
  },
  {
   "metadata": {},
   "cell_type": "code",
   "source": [
    "modelo_nn = MLPRegressor(\n",
    "    hidden_layer_sizes=parametros_minimo[\"camadas\"],\n",
    "    activation=parametros_minimo[\"ativador\"],\n",
    "    solver=parametros_minimo[\"solv\"],\n",
    "    max_iter=1000,\n",
    "    learning_rate_init=0.001\n",
    ")\n",
    "\n",
    "modelo_nn.fit(X_train, y_train)  # Treino\n",
    "y_pred = modelo_nn.predict(X_test)  # Teste\n"
   ],
   "id": "a44ce4ec1abb0dde",
   "outputs": [],
   "execution_count": null
  },
  {
   "metadata": {},
   "cell_type": "markdown",
   "source": "#### Pesos entre as várias camadas",
   "id": "5ff60f4045c6b87e"
  },
  {
   "metadata": {},
   "cell_type": "code",
   "source": "print(modelo_nn.coefs_)",
   "id": "c252fae2caa25a91",
   "outputs": [],
   "execution_count": null
  }
 ],
 "metadata": {
  "kernelspec": {
   "display_name": "Python 3",
   "language": "python",
   "name": "python3"
  },
  "language_info": {
   "codemirror_mode": {
    "name": "ipython",
    "version": 2
   },
   "file_extension": ".py",
   "mimetype": "text/x-python",
   "name": "python",
   "nbconvert_exporter": "python",
   "pygments_lexer": "ipython2",
   "version": "2.7.6"
  }
 },
 "nbformat": 4,
 "nbformat_minor": 5
}
