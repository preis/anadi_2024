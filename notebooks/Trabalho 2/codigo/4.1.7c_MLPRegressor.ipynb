{
 "cells": [
  {
   "metadata": {},
   "cell_type": "markdown",
   "source": [
    "# Trabalho 2\n",
    "\n",
    "## 4.1.7 c)\n",
    "\n",
    "Neste notebook está o código relativo à MLPRegressor.\n",
    "\n",
    "### Imports"
   ],
   "id": "6088aada86d4442b"
  },
  {
   "metadata": {},
   "cell_type": "code",
   "source": [
    "import warnings\n",
    "\n",
    "import matplotlib.pyplot as plt\n",
    "import pandas as pd\n",
    "import numpy as np\n",
    "from sklearn.preprocessing import LabelEncoder\n",
    "from sklearn.model_selection import train_test_split\n",
    "import utilidades as ut\n",
    "from sklearn.tree import export_text\n",
    "from sklearn.neural_network import MLPRegressor\n",
    "from sklearn.metrics import mean_squared_error"
   ],
   "id": "c14b967b812d083b",
   "outputs": [],
   "execution_count": null
  },
  {
   "metadata": {},
   "cell_type": "markdown",
   "source": "### Inicializações e variáveis",
   "id": "ff02a40a70bf478d"
  },
  {
   "metadata": {},
   "cell_type": "code",
   "source": [
    "warnings.filterwarnings(\"ignore\")  # Desabilitar warnings.\n",
    "plt.style.use(\n",
    "    \"style/estilo.mplstyle\")  # Garantir que se utiliza um estilo definido centralmente e comum a todos os gráficos.\n",
    "%matplotlib inline\n",
    "\n",
    "label_encoder = LabelEncoder()\n",
    "\n",
    "ficheiro = \"dados_preparados.csv\"\n",
    "colunas_numericas = [\"Idade\", \"FCV\", \"NRP\", \"CA\", \"FAF\", \"TUDE\", \"IMC\"]\n",
    "colunas_classes = [\"Genero\", \"Historico_obesidade_familiar\", \"FCCAC\", \"Fumador\", \"MCC\", \"CCER\", \"CBA\", \"TRANS\"]\n",
    "colunas_classes_binarias = ['Genero', 'Historico_obesidade_familiar', 'FCCAC', 'Fumador', 'MCC']\n",
    "colunas_classes_multiplos = [\"CCER\", \"CBA\", \"TRANS\", \"Label\"]"
   ],
   "id": "bff4210b269d953e",
   "outputs": [],
   "execution_count": null
  },
  {
   "metadata": {},
   "cell_type": "markdown",
   "source": "## Leitura dos dados preparados",
   "id": "dfa043fc61ddba02"
  },
  {
   "metadata": {},
   "cell_type": "code",
   "source": "dados_trabalho = pd.read_csv(ficheiro)",
   "id": "15f9fff826ebd90c",
   "outputs": [],
   "execution_count": null
  },
  {
   "metadata": {},
   "cell_type": "code",
   "source": "dados_trabalho",
   "id": "23f741d3f20d3773",
   "outputs": [],
   "execution_count": null
  },
  {
   "metadata": {},
   "cell_type": "markdown",
   "source": "Temos no entanto de realizar primeiro o encoding das classes para valores numéricos, esta operação é realizada usando o ``sklearn.preprocessing.LabelEncoder`` em todas as colunas com apenas 2 classes.",
   "id": "e1c7142f110b0028"
  },
  {
   "metadata": {},
   "cell_type": "code",
   "source": [
    "ut.titulo(\"Valores codificados por atributo\")\n",
    "\n",
    "for coluna in colunas_classes_binarias:\n",
    "    if dados_trabalho[coluna].dtype == 'object':\n",
    "        dados_trabalho[coluna] = label_encoder.fit_transform(dados_trabalho[coluna].values)\n",
    "        ut.etiqueta_e_valor(coluna, str(sorted(dados_trabalho[coluna].unique())))"
   ],
   "id": "8c3bba6242ebfd4f",
   "outputs": [],
   "execution_count": null
  },
  {
   "metadata": {},
   "cell_type": "markdown",
   "source": "Para colunas que têm mais que 2 classes precisamos de utilizar o ``pandas.get_dummies()``.",
   "id": "5a415825a54ddf09"
  },
  {
   "metadata": {},
   "cell_type": "code",
   "source": "dados_trabalho = pd.get_dummies(dados_trabalho, dtype=float)",
   "id": "dd671df73a4ae6dc",
   "outputs": [],
   "execution_count": null
  },
  {
   "metadata": {},
   "cell_type": "code",
   "source": "dados_trabalho",
   "id": "2fd81a67ed77365a",
   "outputs": [],
   "execution_count": null
  },
  {
   "metadata": {},
   "cell_type": "markdown",
   "source": [
    "| Target | Preditores |\n",
    "|--------|------------|\n",
    "| IMC    | ??         |\n",
    "\n",
    "Ver TP5\n",
    "\n",
    "O target não muda"
   ],
   "id": "5b5fb126751c39de"
  },
  {
   "metadata": {},
   "cell_type": "code",
   "source": "y = dados_trabalho.IMC",
   "id": "d36edc1273304fcb",
   "outputs": [],
   "execution_count": null
  },
  {
   "metadata": {},
   "cell_type": "markdown",
   "source": "## Preditores",
   "id": "91530a5df2095925"
  },
  {
   "metadata": {},
   "cell_type": "code",
   "source": [
    "# O preditor vai mudando, podemos ter uma lista com o nome das colunas\n",
    "# lista_preditores = ['Genero', 'Historico_obesidade_familiar', 'FCCAC', 'FCV', 'NRP', 'CCER', 'Fumador', 'CA', 'MCC', 'FAF', 'TUDE', 'CBA', 'TRANS']\n",
    "\n",
    "lista_preditores = dados_trabalho.columns\n",
    "X = dados_trabalho[lista_preditores].to_numpy()"
   ],
   "id": "89be6211cb9c64e9",
   "outputs": [],
   "execution_count": null
  },
  {
   "metadata": {},
   "cell_type": "markdown",
   "source": "### Holdout",
   "id": "d1190e73f3f6137f"
  },
  {
   "metadata": {},
   "cell_type": "code",
   "source": "X_train, X_test, y_train, y_test = train_test_split(X, y, train_size=0.8, test_size=0.2, random_state=100)",
   "id": "7948a1c9a7cc46dc",
   "outputs": [],
   "execution_count": null
  },
  {
   "metadata": {},
   "cell_type": "markdown",
   "source": [
    "## Cálculo\n",
    "\n",
    "TODO: Rever código é cópia do TP7"
   ],
   "id": "a0da05f726151881"
  },
  {
   "metadata": {},
   "cell_type": "code",
   "source": [
    "Nhidden = 1  # (?)\n",
    "\n",
    "nn = MLPRegressor(\n",
    "    hidden_layer_sizes=Nhidden,\n",
    "    activation='tanh',\n",
    "    solver='lbfgs', \n",
    "    max_iter=1000, \n",
    "    learning_rate_init=0.001\n",
    ")"
   ],
   "id": "39e10c52f54c87a",
   "outputs": [],
   "execution_count": null
  },
  {
   "metadata": {},
   "cell_type": "code",
   "source": "nn.fit(X_train, y_train)",
   "id": "5f1a4709887d2f68",
   "outputs": [],
   "execution_count": null
  },
  {
   "metadata": {},
   "cell_type": "markdown",
   "source": "### Make prediction",
   "id": "bd7cb65ef3fc1296"
  },
  {
   "metadata": {},
   "cell_type": "code",
   "outputs": [],
   "execution_count": null,
   "source": "pred = nn.predict(X_test)",
   "id": "73c67c127291f0ec"
  },
  {
   "metadata": {},
   "cell_type": "markdown",
   "source": "### Calculate accuracy and error metrics",
   "id": "c83f48af08c5a147"
  },
  {
   "metadata": {},
   "cell_type": "code",
   "source": [
    "test_set_rsquared = nn.score(X_test, y_test)\n",
    "test_set_rmse = np.sqrt(mean_squared_error(y_test, pred))"
   ],
   "id": "298aac2b6a7e21b2",
   "outputs": [],
   "execution_count": null
  },
  {
   "metadata": {},
   "cell_type": "markdown",
   "source": "### Print R_squared and RMSE value",
   "id": "717256fd7f0da7e1"
  },
  {
   "metadata": {},
   "cell_type": "code",
   "outputs": [],
   "execution_count": null,
   "source": [
    "print('R_squared value: ', test_set_rsquared)\n",
    "print('RMSE: ', test_set_rmse)"
   ],
   "id": "6719309a3305900f"
  },
  {
   "metadata": {},
   "cell_type": "markdown",
   "source": "",
   "id": "b5ed36eb32d0ffa2"
  },
  {
   "metadata": {},
   "cell_type": "code",
   "source": [
    "print(\"weights between input and first hidden layer:\")\n",
    "print(nn.coefs_[0])\n",
    "print(\"\\nweights between first hidden and second hidden layer:\")\n",
    "print(nn.coefs_[1])"
   ],
   "id": "a9fea33d0ca67d19",
   "outputs": [],
   "execution_count": null
  },
  {
   "metadata": {},
   "cell_type": "markdown",
   "source": "TODO: Abrir o dataframe do RMSE e MAE e adicionar resultados.",
   "id": "cbcfe9d90a61954f"
  }
 ],
 "metadata": {
  "kernelspec": {
   "display_name": "Python 3",
   "language": "python",
   "name": "python3"
  },
  "language_info": {
   "codemirror_mode": {
    "name": "ipython",
    "version": 2
   },
   "file_extension": ".py",
   "mimetype": "text/x-python",
   "name": "python",
   "nbconvert_exporter": "python",
   "pygments_lexer": "ipython2",
   "version": "2.7.6"
  }
 },
 "nbformat": 4,
 "nbformat_minor": 5
}
