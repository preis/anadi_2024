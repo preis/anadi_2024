{
 "cells": [
  {
   "cell_type": "markdown",
   "id": "74699f4b",
   "metadata": {},
   "source": [
    "Fontes de código: TP7 MINDD, TP1 MINDD Rita e Samuel 23/24, documentação tensorflow"
   ]
  },
  {
   "cell_type": "markdown",
   "id": "6088aada86d4442b",
   "metadata": {},
   "source": [
    "# Trabalho 2\n",
    "\n",
    "## 4.2.1 Redes Neuronais\n",
    "\n",
    "Neste notebook está o código relacionado com as Redes Neuronais na sua utilização para classificação.\n",
    "\n",
    "### Imports"
   ]
  },
  {
   "cell_type": "code",
   "execution_count": 1,
   "id": "c14b967b812d083b",
   "metadata": {
    "ExecuteTime": {
     "end_time": "2024-05-29T21:08:19.913519Z",
     "start_time": "2024-05-29T21:08:17.063069Z"
    }
   },
   "outputs": [],
   "source": [
    "import warnings\n",
    "\n",
    "import matplotlib.pyplot as plt\n",
    "import pandas as pd\n",
    "import numpy as np  \n",
    "from sklearn.preprocessing import LabelEncoder, StandardScaler\n",
    "from sklearn.model_selection import train_test_split\n",
    "from tensorflow import keras, random\n",
    "from keras_visualizer import visualizer\n",
    "from tensorflow.keras.layers import Dense, Dropout\n",
    "from tensorflow.keras.regularizers import l2\n",
    "from sklearn.neural_network import MLPRegressor\n",
    "from sklearn.metrics import mean_squared_error, classification_report, accuracy_score, recall_score, precision_score, f1_score, confusion_matrix \n",
    "from sklearn.model_selection import KFold\n",
    "import utilidades as ut"
   ]
  },
  {
   "cell_type": "markdown",
   "id": "ff02a40a70bf478d",
   "metadata": {},
   "source": [
    "### Inicializações e variáveis"
   ]
  },
  {
   "cell_type": "code",
   "execution_count": 2,
   "id": "bff4210b269d953e",
   "metadata": {
    "ExecuteTime": {
     "end_time": "2024-05-29T21:08:19.927096Z",
     "start_time": "2024-05-29T21:08:19.913519Z"
    }
   },
   "outputs": [],
   "source": [
    "warnings.filterwarnings(\"ignore\")  # Desabilitar warnings.\n",
    "# Garantir que se utiliza um estilo definido centralmente e comum a todos os gráficos.\n",
    "# plt.style.use(\"style/estilo.mplstyle\")\n",
    "plt.style.use('ggplot')\n",
    "\n",
    "%matplotlib inline\n",
    "\n",
    "label_encoder = LabelEncoder()\n",
    "\n",
    "ficheiro = \"dados_preparados.csv\"\n",
    "colunas_numericas = [\"Idade\", \"FCV\", \"NRP\", \"CA\", \"FAF\", \"TUDE\", \"IMC\"]\n",
    "colunas_classes = [\"Genero\", \"Historico_obesidade_familiar\", \"FCCAC\", \"Fumador\", \"MCC\", \"CCER\", \"CBA\", \"TRANS\", \"Label\"]\n",
    "colunas_classes_binarias = ['Genero', 'Historico_obesidade_familiar', 'FCCAC', 'Fumador', 'MCC']\n",
    "colunas_classes_multiplos = [\"CCER\", \"CBA\", \"TRANS\", \"Label\"]"
   ]
  },
  {
   "cell_type": "markdown",
   "id": "dfa043fc61ddba02",
   "metadata": {},
   "source": [
    "## Leitura dos dados preparados"
   ]
  },
  {
   "cell_type": "code",
   "execution_count": 3,
   "id": "15f9fff826ebd90c",
   "metadata": {
    "ExecuteTime": {
     "end_time": "2024-05-29T21:08:19.937371Z",
     "start_time": "2024-05-29T21:08:19.927096Z"
    }
   },
   "outputs": [],
   "source": [
    "dados_trabalho = pd.read_csv(ficheiro)"
   ]
  },
  {
   "cell_type": "code",
   "execution_count": 4,
   "id": "23f741d3f20d3773",
   "metadata": {
    "ExecuteTime": {
     "end_time": "2024-05-29T21:08:19.951040Z",
     "start_time": "2024-05-29T21:08:19.937371Z"
    }
   },
   "outputs": [
    {
     "data": {
      "text/html": [
       "<div>\n",
       "<style scoped>\n",
       "    .dataframe tbody tr th:only-of-type {\n",
       "        vertical-align: middle;\n",
       "    }\n",
       "\n",
       "    .dataframe tbody tr th {\n",
       "        vertical-align: top;\n",
       "    }\n",
       "\n",
       "    .dataframe thead th {\n",
       "        text-align: right;\n",
       "    }\n",
       "</style>\n",
       "<table border=\"1\" class=\"dataframe\">\n",
       "  <thead>\n",
       "    <tr style=\"text-align: right;\">\n",
       "      <th></th>\n",
       "      <th>Genero</th>\n",
       "      <th>Idade</th>\n",
       "      <th>Historico_obesidade_familiar</th>\n",
       "      <th>FCCAC</th>\n",
       "      <th>FCV</th>\n",
       "      <th>NRP</th>\n",
       "      <th>CCER</th>\n",
       "      <th>Fumador</th>\n",
       "      <th>CA</th>\n",
       "      <th>MCC</th>\n",
       "      <th>FAF</th>\n",
       "      <th>TUDE</th>\n",
       "      <th>CBA</th>\n",
       "      <th>TRANS</th>\n",
       "      <th>Label</th>\n",
       "      <th>IMC</th>\n",
       "    </tr>\n",
       "  </thead>\n",
       "  <tbody>\n",
       "    <tr>\n",
       "      <th>0</th>\n",
       "      <td>Feminino</td>\n",
       "      <td>21.000000</td>\n",
       "      <td>Sim</td>\n",
       "      <td>Nao</td>\n",
       "      <td>2.0</td>\n",
       "      <td>3.0</td>\n",
       "      <td>Ocasionalmente</td>\n",
       "      <td>Nao</td>\n",
       "      <td>2.000000</td>\n",
       "      <td>Nao</td>\n",
       "      <td>0.000000</td>\n",
       "      <td>1.000000</td>\n",
       "      <td>Nao</td>\n",
       "      <td>Transportes_Publicos</td>\n",
       "      <td>Peso_Normal</td>\n",
       "      <td>24.386526</td>\n",
       "    </tr>\n",
       "    <tr>\n",
       "      <th>1</th>\n",
       "      <td>Feminino</td>\n",
       "      <td>21.000000</td>\n",
       "      <td>Sim</td>\n",
       "      <td>Nao</td>\n",
       "      <td>3.0</td>\n",
       "      <td>3.0</td>\n",
       "      <td>Ocasionalmente</td>\n",
       "      <td>Sim</td>\n",
       "      <td>3.000000</td>\n",
       "      <td>Sim</td>\n",
       "      <td>3.000000</td>\n",
       "      <td>0.000000</td>\n",
       "      <td>Ocasionalmente</td>\n",
       "      <td>Transportes_Publicos</td>\n",
       "      <td>Peso_Normal</td>\n",
       "      <td>24.238227</td>\n",
       "    </tr>\n",
       "    <tr>\n",
       "      <th>2</th>\n",
       "      <td>Masculino</td>\n",
       "      <td>23.000000</td>\n",
       "      <td>Sim</td>\n",
       "      <td>Nao</td>\n",
       "      <td>2.0</td>\n",
       "      <td>3.0</td>\n",
       "      <td>Ocasionalmente</td>\n",
       "      <td>Nao</td>\n",
       "      <td>2.000000</td>\n",
       "      <td>Nao</td>\n",
       "      <td>2.000000</td>\n",
       "      <td>1.000000</td>\n",
       "      <td>Frequentemente</td>\n",
       "      <td>Transportes_Publicos</td>\n",
       "      <td>Peso_Normal</td>\n",
       "      <td>23.765432</td>\n",
       "    </tr>\n",
       "    <tr>\n",
       "      <th>3</th>\n",
       "      <td>Masculino</td>\n",
       "      <td>27.000000</td>\n",
       "      <td>Nao</td>\n",
       "      <td>Nao</td>\n",
       "      <td>3.0</td>\n",
       "      <td>3.0</td>\n",
       "      <td>Ocasionalmente</td>\n",
       "      <td>Nao</td>\n",
       "      <td>2.000000</td>\n",
       "      <td>Nao</td>\n",
       "      <td>2.000000</td>\n",
       "      <td>0.000000</td>\n",
       "      <td>Frequentemente</td>\n",
       "      <td>Caminhada</td>\n",
       "      <td>Excesso_Peso_Grau_I</td>\n",
       "      <td>26.851852</td>\n",
       "    </tr>\n",
       "    <tr>\n",
       "      <th>4</th>\n",
       "      <td>Masculino</td>\n",
       "      <td>22.000000</td>\n",
       "      <td>Nao</td>\n",
       "      <td>Nao</td>\n",
       "      <td>2.0</td>\n",
       "      <td>1.0</td>\n",
       "      <td>Ocasionalmente</td>\n",
       "      <td>Nao</td>\n",
       "      <td>2.000000</td>\n",
       "      <td>Nao</td>\n",
       "      <td>0.000000</td>\n",
       "      <td>0.000000</td>\n",
       "      <td>Ocasionalmente</td>\n",
       "      <td>Transportes_Publicos</td>\n",
       "      <td>Excesso_Peso_Grau_II</td>\n",
       "      <td>28.342381</td>\n",
       "    </tr>\n",
       "    <tr>\n",
       "      <th>...</th>\n",
       "      <td>...</td>\n",
       "      <td>...</td>\n",
       "      <td>...</td>\n",
       "      <td>...</td>\n",
       "      <td>...</td>\n",
       "      <td>...</td>\n",
       "      <td>...</td>\n",
       "      <td>...</td>\n",
       "      <td>...</td>\n",
       "      <td>...</td>\n",
       "      <td>...</td>\n",
       "      <td>...</td>\n",
       "      <td>...</td>\n",
       "      <td>...</td>\n",
       "      <td>...</td>\n",
       "      <td>...</td>\n",
       "    </tr>\n",
       "    <tr>\n",
       "      <th>2106</th>\n",
       "      <td>Feminino</td>\n",
       "      <td>20.976842</td>\n",
       "      <td>Sim</td>\n",
       "      <td>Sim</td>\n",
       "      <td>3.0</td>\n",
       "      <td>3.0</td>\n",
       "      <td>Ocasionalmente</td>\n",
       "      <td>Nao</td>\n",
       "      <td>1.728139</td>\n",
       "      <td>Nao</td>\n",
       "      <td>1.676269</td>\n",
       "      <td>0.906247</td>\n",
       "      <td>Ocasionalmente</td>\n",
       "      <td>Transportes_Publicos</td>\n",
       "      <td>Obesidade_Mórbida</td>\n",
       "      <td>44.901475</td>\n",
       "    </tr>\n",
       "    <tr>\n",
       "      <th>2107</th>\n",
       "      <td>Feminino</td>\n",
       "      <td>21.982942</td>\n",
       "      <td>Sim</td>\n",
       "      <td>Sim</td>\n",
       "      <td>3.0</td>\n",
       "      <td>3.0</td>\n",
       "      <td>Ocasionalmente</td>\n",
       "      <td>Nao</td>\n",
       "      <td>2.005130</td>\n",
       "      <td>Nao</td>\n",
       "      <td>1.341390</td>\n",
       "      <td>0.599270</td>\n",
       "      <td>Ocasionalmente</td>\n",
       "      <td>Transportes_Publicos</td>\n",
       "      <td>Obesidade_Mórbida</td>\n",
       "      <td>43.741923</td>\n",
       "    </tr>\n",
       "    <tr>\n",
       "      <th>2108</th>\n",
       "      <td>Feminino</td>\n",
       "      <td>22.524036</td>\n",
       "      <td>Sim</td>\n",
       "      <td>Sim</td>\n",
       "      <td>3.0</td>\n",
       "      <td>3.0</td>\n",
       "      <td>Ocasionalmente</td>\n",
       "      <td>Nao</td>\n",
       "      <td>2.054193</td>\n",
       "      <td>Nao</td>\n",
       "      <td>1.414209</td>\n",
       "      <td>0.646288</td>\n",
       "      <td>Ocasionalmente</td>\n",
       "      <td>Transportes_Publicos</td>\n",
       "      <td>Obesidade_Mórbida</td>\n",
       "      <td>43.543817</td>\n",
       "    </tr>\n",
       "    <tr>\n",
       "      <th>2109</th>\n",
       "      <td>Feminino</td>\n",
       "      <td>24.361936</td>\n",
       "      <td>Sim</td>\n",
       "      <td>Sim</td>\n",
       "      <td>3.0</td>\n",
       "      <td>3.0</td>\n",
       "      <td>Ocasionalmente</td>\n",
       "      <td>Nao</td>\n",
       "      <td>2.852339</td>\n",
       "      <td>Nao</td>\n",
       "      <td>1.139107</td>\n",
       "      <td>0.586035</td>\n",
       "      <td>Ocasionalmente</td>\n",
       "      <td>Transportes_Publicos</td>\n",
       "      <td>Obesidade_Mórbida</td>\n",
       "      <td>44.071535</td>\n",
       "    </tr>\n",
       "    <tr>\n",
       "      <th>2110</th>\n",
       "      <td>Feminino</td>\n",
       "      <td>23.664709</td>\n",
       "      <td>Sim</td>\n",
       "      <td>Sim</td>\n",
       "      <td>3.0</td>\n",
       "      <td>3.0</td>\n",
       "      <td>Ocasionalmente</td>\n",
       "      <td>Nao</td>\n",
       "      <td>2.863513</td>\n",
       "      <td>Nao</td>\n",
       "      <td>1.026452</td>\n",
       "      <td>0.714137</td>\n",
       "      <td>Ocasionalmente</td>\n",
       "      <td>Transportes_Publicos</td>\n",
       "      <td>Obesidade_Mórbida</td>\n",
       "      <td>44.144338</td>\n",
       "    </tr>\n",
       "  </tbody>\n",
       "</table>\n",
       "<p>2111 rows × 16 columns</p>\n",
       "</div>"
      ],
      "text/plain": [
       "         Genero      Idade Historico_obesidade_familiar FCCAC  FCV  NRP  \\\n",
       "0      Feminino  21.000000                          Sim   Nao  2.0  3.0   \n",
       "1      Feminino  21.000000                          Sim   Nao  3.0  3.0   \n",
       "2     Masculino  23.000000                          Sim   Nao  2.0  3.0   \n",
       "3     Masculino  27.000000                          Nao   Nao  3.0  3.0   \n",
       "4     Masculino  22.000000                          Nao   Nao  2.0  1.0   \n",
       "...         ...        ...                          ...   ...  ...  ...   \n",
       "2106   Feminino  20.976842                          Sim   Sim  3.0  3.0   \n",
       "2107   Feminino  21.982942                          Sim   Sim  3.0  3.0   \n",
       "2108   Feminino  22.524036                          Sim   Sim  3.0  3.0   \n",
       "2109   Feminino  24.361936                          Sim   Sim  3.0  3.0   \n",
       "2110   Feminino  23.664709                          Sim   Sim  3.0  3.0   \n",
       "\n",
       "                CCER Fumador        CA  MCC       FAF      TUDE  \\\n",
       "0     Ocasionalmente     Nao  2.000000  Nao  0.000000  1.000000   \n",
       "1     Ocasionalmente     Sim  3.000000  Sim  3.000000  0.000000   \n",
       "2     Ocasionalmente     Nao  2.000000  Nao  2.000000  1.000000   \n",
       "3     Ocasionalmente     Nao  2.000000  Nao  2.000000  0.000000   \n",
       "4     Ocasionalmente     Nao  2.000000  Nao  0.000000  0.000000   \n",
       "...              ...     ...       ...  ...       ...       ...   \n",
       "2106  Ocasionalmente     Nao  1.728139  Nao  1.676269  0.906247   \n",
       "2107  Ocasionalmente     Nao  2.005130  Nao  1.341390  0.599270   \n",
       "2108  Ocasionalmente     Nao  2.054193  Nao  1.414209  0.646288   \n",
       "2109  Ocasionalmente     Nao  2.852339  Nao  1.139107  0.586035   \n",
       "2110  Ocasionalmente     Nao  2.863513  Nao  1.026452  0.714137   \n",
       "\n",
       "                 CBA                 TRANS                 Label        IMC  \n",
       "0                Nao  Transportes_Publicos           Peso_Normal  24.386526  \n",
       "1     Ocasionalmente  Transportes_Publicos           Peso_Normal  24.238227  \n",
       "2     Frequentemente  Transportes_Publicos           Peso_Normal  23.765432  \n",
       "3     Frequentemente             Caminhada   Excesso_Peso_Grau_I  26.851852  \n",
       "4     Ocasionalmente  Transportes_Publicos  Excesso_Peso_Grau_II  28.342381  \n",
       "...              ...                   ...                   ...        ...  \n",
       "2106  Ocasionalmente  Transportes_Publicos     Obesidade_Mórbida  44.901475  \n",
       "2107  Ocasionalmente  Transportes_Publicos     Obesidade_Mórbida  43.741923  \n",
       "2108  Ocasionalmente  Transportes_Publicos     Obesidade_Mórbida  43.543817  \n",
       "2109  Ocasionalmente  Transportes_Publicos     Obesidade_Mórbida  44.071535  \n",
       "2110  Ocasionalmente  Transportes_Publicos     Obesidade_Mórbida  44.144338  \n",
       "\n",
       "[2111 rows x 16 columns]"
      ]
     },
     "execution_count": 4,
     "metadata": {},
     "output_type": "execute_result"
    }
   ],
   "source": [
    "dados_trabalho"
   ]
  },
  {
   "cell_type": "markdown",
   "id": "e1c7142f110b0028",
   "metadata": {},
   "source": [
    "Temos no entanto de realizar primeiro o encoding das classes para valores numéricos, esta operação é realizada usando o ``sklearn.preprocessing.LabelEncoder`` em todas as colunas com apenas 2 classes."
   ]
  },
  {
   "cell_type": "code",
   "execution_count": 5,
   "id": "8c3bba6242ebfd4f",
   "metadata": {
    "ExecuteTime": {
     "end_time": "2024-05-29T21:08:19.960117Z",
     "start_time": "2024-05-29T21:08:19.952047Z"
    }
   },
   "outputs": [
    {
     "name": "stdout",
     "output_type": "stream",
     "text": [
      "\u001b[21;30;44mValores codificados por atributo\u001b[0m\n",
      "\u001b[0;94mGenero: \u001b[1;94m[0, 1]\u001b[0m\n",
      "\u001b[0;94mHistorico_obesidade_familiar: \u001b[1;94m[0, 1]\u001b[0m\n",
      "\u001b[0;94mFCCAC: \u001b[1;94m[0, 1]\u001b[0m\n",
      "\u001b[0;94mFumador: \u001b[1;94m[0, 1]\u001b[0m\n",
      "\u001b[0;94mMCC: \u001b[1;94m[0, 1]\u001b[0m\n",
      "\u001b[0;94mCCER: \u001b[1;94m[0, 1, 2, 3]\u001b[0m\n",
      "\u001b[0;94mCBA: \u001b[1;94m[0, 1, 2, 3]\u001b[0m\n",
      "\u001b[0;94mTRANS: \u001b[1;94m[0, 1, 2, 3, 4]\u001b[0m\n",
      "\u001b[0;94mLabel: \u001b[1;94m[0, 1, 2, 3, 4, 5, 6, 7, 8]\u001b[0m\n"
     ]
    }
   ],
   "source": [
    "ut.titulo(\"Valores codificados por atributo\")\n",
    "\n",
    "# for coluna in colunas_classes_binarias:\n",
    "for coluna in colunas_classes:\n",
    "    if dados_trabalho[coluna].dtype == 'object':\n",
    "        dados_trabalho[coluna] = label_encoder.fit_transform(dados_trabalho[coluna].values)\n",
    "        ut.etiqueta_e_valor(coluna, str(sorted(dados_trabalho[coluna].unique())))"
   ]
  },
  {
   "cell_type": "markdown",
   "id": "5a415825a54ddf09",
   "metadata": {},
   "source": [
    "?? Para colunas que têm mais que 2 classes precisamos de utilizar o ``pandas.get_dummies()``."
   ]
  },
  {
   "cell_type": "code",
   "execution_count": 6,
   "id": "dd671df73a4ae6dc",
   "metadata": {
    "ExecuteTime": {
     "end_time": "2024-05-29T21:08:19.964632Z",
     "start_time": "2024-05-29T21:08:19.962123Z"
    }
   },
   "outputs": [],
   "source": [
    "# dados_trabalho = pd.get_dummies(dados_trabalho, dtype=float)"
   ]
  },
  {
   "cell_type": "code",
   "execution_count": 7,
   "id": "2fd81a67ed77365a",
   "metadata": {
    "ExecuteTime": {
     "end_time": "2024-05-29T21:08:19.975655Z",
     "start_time": "2024-05-29T21:08:19.965640Z"
    }
   },
   "outputs": [
    {
     "data": {
      "text/html": [
       "<div>\n",
       "<style scoped>\n",
       "    .dataframe tbody tr th:only-of-type {\n",
       "        vertical-align: middle;\n",
       "    }\n",
       "\n",
       "    .dataframe tbody tr th {\n",
       "        vertical-align: top;\n",
       "    }\n",
       "\n",
       "    .dataframe thead th {\n",
       "        text-align: right;\n",
       "    }\n",
       "</style>\n",
       "<table border=\"1\" class=\"dataframe\">\n",
       "  <thead>\n",
       "    <tr style=\"text-align: right;\">\n",
       "      <th></th>\n",
       "      <th>Genero</th>\n",
       "      <th>Idade</th>\n",
       "      <th>Historico_obesidade_familiar</th>\n",
       "      <th>FCCAC</th>\n",
       "      <th>FCV</th>\n",
       "      <th>NRP</th>\n",
       "      <th>CCER</th>\n",
       "      <th>Fumador</th>\n",
       "      <th>CA</th>\n",
       "      <th>MCC</th>\n",
       "      <th>FAF</th>\n",
       "      <th>TUDE</th>\n",
       "      <th>CBA</th>\n",
       "      <th>TRANS</th>\n",
       "      <th>Label</th>\n",
       "      <th>IMC</th>\n",
       "    </tr>\n",
       "  </thead>\n",
       "  <tbody>\n",
       "    <tr>\n",
       "      <th>0</th>\n",
       "      <td>0</td>\n",
       "      <td>21.000000</td>\n",
       "      <td>1</td>\n",
       "      <td>0</td>\n",
       "      <td>2.0</td>\n",
       "      <td>3.0</td>\n",
       "      <td>2</td>\n",
       "      <td>0</td>\n",
       "      <td>2.000000</td>\n",
       "      <td>0</td>\n",
       "      <td>0.000000</td>\n",
       "      <td>1.000000</td>\n",
       "      <td>1</td>\n",
       "      <td>4</td>\n",
       "      <td>8</td>\n",
       "      <td>24.386526</td>\n",
       "    </tr>\n",
       "    <tr>\n",
       "      <th>1</th>\n",
       "      <td>0</td>\n",
       "      <td>21.000000</td>\n",
       "      <td>1</td>\n",
       "      <td>0</td>\n",
       "      <td>3.0</td>\n",
       "      <td>3.0</td>\n",
       "      <td>2</td>\n",
       "      <td>1</td>\n",
       "      <td>3.000000</td>\n",
       "      <td>1</td>\n",
       "      <td>3.000000</td>\n",
       "      <td>0.000000</td>\n",
       "      <td>2</td>\n",
       "      <td>4</td>\n",
       "      <td>8</td>\n",
       "      <td>24.238227</td>\n",
       "    </tr>\n",
       "    <tr>\n",
       "      <th>2</th>\n",
       "      <td>1</td>\n",
       "      <td>23.000000</td>\n",
       "      <td>1</td>\n",
       "      <td>0</td>\n",
       "      <td>2.0</td>\n",
       "      <td>3.0</td>\n",
       "      <td>2</td>\n",
       "      <td>0</td>\n",
       "      <td>2.000000</td>\n",
       "      <td>0</td>\n",
       "      <td>2.000000</td>\n",
       "      <td>1.000000</td>\n",
       "      <td>0</td>\n",
       "      <td>4</td>\n",
       "      <td>8</td>\n",
       "      <td>23.765432</td>\n",
       "    </tr>\n",
       "    <tr>\n",
       "      <th>3</th>\n",
       "      <td>1</td>\n",
       "      <td>27.000000</td>\n",
       "      <td>0</td>\n",
       "      <td>0</td>\n",
       "      <td>3.0</td>\n",
       "      <td>3.0</td>\n",
       "      <td>2</td>\n",
       "      <td>0</td>\n",
       "      <td>2.000000</td>\n",
       "      <td>0</td>\n",
       "      <td>2.000000</td>\n",
       "      <td>0.000000</td>\n",
       "      <td>0</td>\n",
       "      <td>2</td>\n",
       "      <td>0</td>\n",
       "      <td>26.851852</td>\n",
       "    </tr>\n",
       "    <tr>\n",
       "      <th>4</th>\n",
       "      <td>1</td>\n",
       "      <td>22.000000</td>\n",
       "      <td>0</td>\n",
       "      <td>0</td>\n",
       "      <td>2.0</td>\n",
       "      <td>1.0</td>\n",
       "      <td>2</td>\n",
       "      <td>0</td>\n",
       "      <td>2.000000</td>\n",
       "      <td>0</td>\n",
       "      <td>0.000000</td>\n",
       "      <td>0.000000</td>\n",
       "      <td>2</td>\n",
       "      <td>4</td>\n",
       "      <td>1</td>\n",
       "      <td>28.342381</td>\n",
       "    </tr>\n",
       "    <tr>\n",
       "      <th>...</th>\n",
       "      <td>...</td>\n",
       "      <td>...</td>\n",
       "      <td>...</td>\n",
       "      <td>...</td>\n",
       "      <td>...</td>\n",
       "      <td>...</td>\n",
       "      <td>...</td>\n",
       "      <td>...</td>\n",
       "      <td>...</td>\n",
       "      <td>...</td>\n",
       "      <td>...</td>\n",
       "      <td>...</td>\n",
       "      <td>...</td>\n",
       "      <td>...</td>\n",
       "      <td>...</td>\n",
       "      <td>...</td>\n",
       "    </tr>\n",
       "    <tr>\n",
       "      <th>2106</th>\n",
       "      <td>0</td>\n",
       "      <td>20.976842</td>\n",
       "      <td>1</td>\n",
       "      <td>1</td>\n",
       "      <td>3.0</td>\n",
       "      <td>3.0</td>\n",
       "      <td>2</td>\n",
       "      <td>0</td>\n",
       "      <td>1.728139</td>\n",
       "      <td>0</td>\n",
       "      <td>1.676269</td>\n",
       "      <td>0.906247</td>\n",
       "      <td>2</td>\n",
       "      <td>4</td>\n",
       "      <td>6</td>\n",
       "      <td>44.901475</td>\n",
       "    </tr>\n",
       "    <tr>\n",
       "      <th>2107</th>\n",
       "      <td>0</td>\n",
       "      <td>21.982942</td>\n",
       "      <td>1</td>\n",
       "      <td>1</td>\n",
       "      <td>3.0</td>\n",
       "      <td>3.0</td>\n",
       "      <td>2</td>\n",
       "      <td>0</td>\n",
       "      <td>2.005130</td>\n",
       "      <td>0</td>\n",
       "      <td>1.341390</td>\n",
       "      <td>0.599270</td>\n",
       "      <td>2</td>\n",
       "      <td>4</td>\n",
       "      <td>6</td>\n",
       "      <td>43.741923</td>\n",
       "    </tr>\n",
       "    <tr>\n",
       "      <th>2108</th>\n",
       "      <td>0</td>\n",
       "      <td>22.524036</td>\n",
       "      <td>1</td>\n",
       "      <td>1</td>\n",
       "      <td>3.0</td>\n",
       "      <td>3.0</td>\n",
       "      <td>2</td>\n",
       "      <td>0</td>\n",
       "      <td>2.054193</td>\n",
       "      <td>0</td>\n",
       "      <td>1.414209</td>\n",
       "      <td>0.646288</td>\n",
       "      <td>2</td>\n",
       "      <td>4</td>\n",
       "      <td>6</td>\n",
       "      <td>43.543817</td>\n",
       "    </tr>\n",
       "    <tr>\n",
       "      <th>2109</th>\n",
       "      <td>0</td>\n",
       "      <td>24.361936</td>\n",
       "      <td>1</td>\n",
       "      <td>1</td>\n",
       "      <td>3.0</td>\n",
       "      <td>3.0</td>\n",
       "      <td>2</td>\n",
       "      <td>0</td>\n",
       "      <td>2.852339</td>\n",
       "      <td>0</td>\n",
       "      <td>1.139107</td>\n",
       "      <td>0.586035</td>\n",
       "      <td>2</td>\n",
       "      <td>4</td>\n",
       "      <td>6</td>\n",
       "      <td>44.071535</td>\n",
       "    </tr>\n",
       "    <tr>\n",
       "      <th>2110</th>\n",
       "      <td>0</td>\n",
       "      <td>23.664709</td>\n",
       "      <td>1</td>\n",
       "      <td>1</td>\n",
       "      <td>3.0</td>\n",
       "      <td>3.0</td>\n",
       "      <td>2</td>\n",
       "      <td>0</td>\n",
       "      <td>2.863513</td>\n",
       "      <td>0</td>\n",
       "      <td>1.026452</td>\n",
       "      <td>0.714137</td>\n",
       "      <td>2</td>\n",
       "      <td>4</td>\n",
       "      <td>6</td>\n",
       "      <td>44.144338</td>\n",
       "    </tr>\n",
       "  </tbody>\n",
       "</table>\n",
       "<p>2111 rows × 16 columns</p>\n",
       "</div>"
      ],
      "text/plain": [
       "      Genero      Idade  Historico_obesidade_familiar  FCCAC  FCV  NRP  CCER  \\\n",
       "0          0  21.000000                             1      0  2.0  3.0     2   \n",
       "1          0  21.000000                             1      0  3.0  3.0     2   \n",
       "2          1  23.000000                             1      0  2.0  3.0     2   \n",
       "3          1  27.000000                             0      0  3.0  3.0     2   \n",
       "4          1  22.000000                             0      0  2.0  1.0     2   \n",
       "...      ...        ...                           ...    ...  ...  ...   ...   \n",
       "2106       0  20.976842                             1      1  3.0  3.0     2   \n",
       "2107       0  21.982942                             1      1  3.0  3.0     2   \n",
       "2108       0  22.524036                             1      1  3.0  3.0     2   \n",
       "2109       0  24.361936                             1      1  3.0  3.0     2   \n",
       "2110       0  23.664709                             1      1  3.0  3.0     2   \n",
       "\n",
       "      Fumador        CA  MCC       FAF      TUDE  CBA  TRANS  Label        IMC  \n",
       "0           0  2.000000    0  0.000000  1.000000    1      4      8  24.386526  \n",
       "1           1  3.000000    1  3.000000  0.000000    2      4      8  24.238227  \n",
       "2           0  2.000000    0  2.000000  1.000000    0      4      8  23.765432  \n",
       "3           0  2.000000    0  2.000000  0.000000    0      2      0  26.851852  \n",
       "4           0  2.000000    0  0.000000  0.000000    2      4      1  28.342381  \n",
       "...       ...       ...  ...       ...       ...  ...    ...    ...        ...  \n",
       "2106        0  1.728139    0  1.676269  0.906247    2      4      6  44.901475  \n",
       "2107        0  2.005130    0  1.341390  0.599270    2      4      6  43.741923  \n",
       "2108        0  2.054193    0  1.414209  0.646288    2      4      6  43.543817  \n",
       "2109        0  2.852339    0  1.139107  0.586035    2      4      6  44.071535  \n",
       "2110        0  2.863513    0  1.026452  0.714137    2      4      6  44.144338  \n",
       "\n",
       "[2111 rows x 16 columns]"
      ]
     },
     "execution_count": 7,
     "metadata": {},
     "output_type": "execute_result"
    }
   ],
   "source": [
    "dados_trabalho"
   ]
  },
  {
   "cell_type": "markdown",
   "id": "5b5fb126751c39de",
   "metadata": {},
   "source": [
    "## Holdout\n",
    "\n",
    "divide o dataset em target(y) e feature(x)"
   ]
  },
  {
   "cell_type": "code",
   "execution_count": 8,
   "id": "7948a1c9a7cc46dc",
   "metadata": {
    "ExecuteTime": {
     "end_time": "2024-05-29T21:08:19.979719Z",
     "start_time": "2024-05-29T21:08:19.975655Z"
    }
   },
   "outputs": [],
   "source": [
    "y = dados_trabalho.loc[:, \"Label\"].values\n",
    "X = dados_trabalho.drop([\"Label\"], axis=1).values"
   ]
  },
  {
   "cell_type": "markdown",
   "id": "741bf88b9a76ae20",
   "metadata": {},
   "source": [
    "### Codificação\n",
    "\n",
    "Utilizar o ``sklearn.preprocessing.labelEncoder()`` no y"
   ]
  },
  {
   "cell_type": "code",
   "execution_count": 9,
   "id": "74426be594d28d35",
   "metadata": {
    "ExecuteTime": {
     "end_time": "2024-05-29T21:08:19.983298Z",
     "start_time": "2024-05-29T21:08:19.980728Z"
    }
   },
   "outputs": [],
   "source": [
    "labelencoder = LabelEncoder()\n",
    "y = labelencoder.fit_transform(y)"
   ]
  },
  {
   "cell_type": "markdown",
   "id": "b1b31bd1ea34d0ff",
   "metadata": {},
   "source": [
    "### Divisão dos dados em treino e teste"
   ]
  },
  {
   "cell_type": "code",
   "execution_count": 10,
   "id": "e9d8615ea5fe9006",
   "metadata": {
    "ExecuteTime": {
     "end_time": "2024-05-29T21:08:19.988165Z",
     "start_time": "2024-05-29T21:08:19.983298Z"
    }
   },
   "outputs": [
    {
     "data": {
      "text/plain": [
       "((1477, 15), (634, 15))"
      ]
     },
     "execution_count": 10,
     "metadata": {},
     "output_type": "execute_result"
    }
   ],
   "source": [
    "X_train, X_test, y_train, y_test = train_test_split(X, y, test_size=0.3, random_state=123)\n",
    "X_train.shape, X_test.shape"
   ]
  },
  {
   "cell_type": "markdown",
   "id": "4c30b962ee11a4a2",
   "metadata": {},
   "source": [
    "## Redes neuronais\n",
    "\n",
    "### Parametrização\n",
    "\n",
    "Estes valores podem ser ajustados, com base nos gráficos de overfitting."
   ]
  },
  {
   "cell_type": "code",
   "execution_count": 11,
   "id": "2eab6d6a2524ddba",
   "metadata": {
    "ExecuteTime": {
     "end_time": "2024-05-29T21:08:19.991383Z",
     "start_time": "2024-05-29T21:08:19.989172Z"
    }
   },
   "outputs": [],
   "source": [
    "random.set_seed(3)\n",
    "nr_colunas = 15"
   ]
  },
  {
   "cell_type": "markdown",
   "id": "544d90a4d0d3aa7e",
   "metadata": {},
   "source": [
    "### Pré processamento dos dados"
   ]
  },
  {
   "cell_type": "code",
   "execution_count": 12,
   "id": "97332ae0cc688fc7",
   "metadata": {
    "ExecuteTime": {
     "end_time": "2024-05-29T21:08:19.995778Z",
     "start_time": "2024-05-29T21:08:19.992388Z"
    }
   },
   "outputs": [],
   "source": [
    "sc = StandardScaler()\n",
    "X_train = sc.fit_transform(X_train)\n",
    "X_test = sc.transform(X_test)"
   ]
  },
  {
   "cell_type": "code",
   "execution_count": 13,
   "id": "edd32d35d1bb0c40",
   "metadata": {
    "ExecuteTime": {
     "end_time": "2024-05-29T21:08:19.999828Z",
     "start_time": "2024-05-29T21:08:19.996787Z"
    }
   },
   "outputs": [
    {
     "data": {
      "text/plain": [
       "((1477, 15), (634, 15))"
      ]
     },
     "execution_count": 13,
     "metadata": {},
     "output_type": "execute_result"
    }
   ],
   "source": [
    "X_train.shape, X_test.shape"
   ]
  },
  {
   "cell_type": "markdown",
   "id": "905e9e1b99ef36a5",
   "metadata": {},
   "source": [
    "### Modelo \n",
    "\n",
    "Escolhi usar softmax em vez de sigmoid porque temos várias classes (9) na coluna de target.\n"
   ]
  },
  {
   "cell_type": "code",
   "execution_count": 14,
   "id": "e4705abda04c1662",
   "metadata": {
    "ExecuteTime": {
     "end_time": "2024-05-29T21:08:20.049990Z",
     "start_time": "2024-05-29T21:08:20.000836Z"
    }
   },
   "outputs": [],
   "source": [
    "#model = keras.Sequential([\n",
    "#    keras.Input(shape=(nr_colunas,)),\n",
    "#    keras.layers.Dense(3, activation=\"relu\"),\n",
    "#    keras.layers.Dense(3, activation=\"relu\"),\n",
    "\n",
    "#    keras.layers.Dense(9, activation=\"softmax\"),\n",
    "#])\n",
    "\n",
    "model = keras.Sequential([\n",
    "    keras.Input(shape=(nr_colunas,)),\n",
    "    keras.layers.Dense(64, activation=\"relu\", kernel_regularizer=l2(0.01)),\n",
    "    Dropout(0.5),\n",
    "    keras.layers.Dense(32, activation=\"relu\", kernel_regularizer=l2(0.01)),\n",
    "    Dropout(0.5),\n",
    "    keras.layers.Dense(9, activation=\"softmax\"),\n",
    "])"
   ]
  },
  {
   "cell_type": "markdown",
   "id": "ebf050cfceedddc3",
   "metadata": {},
   "source": [
    "### Treino do modelo"
   ]
  },
  {
   "cell_type": "code",
   "execution_count": 15,
   "id": "3c2a43387b436e24",
   "metadata": {
    "ExecuteTime": {
     "end_time": "2024-05-29T21:08:20.060112Z",
     "start_time": "2024-05-29T21:08:20.050997Z"
    }
   },
   "outputs": [],
   "source": [
    "model.compile(\n",
    "    optimizer='adam',\n",
    "    loss='sparse_categorical_crossentropy',\n",
    "    metrics=['accuracy']\n",
    ")"
   ]
  },
  {
   "cell_type": "markdown",
   "id": "7ec2ea0fbbdd3074",
   "metadata": {},
   "source": [
    "## Resumo do modelo"
   ]
  },
  {
   "cell_type": "code",
   "execution_count": 16,
   "id": "efd35ed9199633c9",
   "metadata": {
    "ExecuteTime": {
     "end_time": "2024-05-29T21:08:20.071226Z",
     "start_time": "2024-05-29T21:08:20.060112Z"
    }
   },
   "outputs": [
    {
     "data": {
      "text/html": [
       "<pre style=\"white-space:pre;overflow-x:auto;line-height:normal;font-family:Menlo,'DejaVu Sans Mono',consolas,'Courier New',monospace\"><span style=\"font-weight: bold\">Model: \"sequential\"</span>\n",
       "</pre>\n"
      ],
      "text/plain": [
       "\u001b[1mModel: \"sequential\"\u001b[0m\n"
      ]
     },
     "metadata": {},
     "output_type": "display_data"
    },
    {
     "data": {
      "text/html": [
       "<pre style=\"white-space:pre;overflow-x:auto;line-height:normal;font-family:Menlo,'DejaVu Sans Mono',consolas,'Courier New',monospace\">┏━━━━━━━━━━━━━━━━━━━━━━━━━━━━━━━━━┳━━━━━━━━━━━━━━━━━━━━━━━━┳━━━━━━━━━━━━━━━┓\n",
       "┃<span style=\"font-weight: bold\"> Layer (type)                    </span>┃<span style=\"font-weight: bold\"> Output Shape           </span>┃<span style=\"font-weight: bold\">       Param # </span>┃\n",
       "┡━━━━━━━━━━━━━━━━━━━━━━━━━━━━━━━━━╇━━━━━━━━━━━━━━━━━━━━━━━━╇━━━━━━━━━━━━━━━┩\n",
       "│ dense (<span style=\"color: #0087ff; text-decoration-color: #0087ff\">Dense</span>)                   │ (<span style=\"color: #00d7ff; text-decoration-color: #00d7ff\">None</span>, <span style=\"color: #00af00; text-decoration-color: #00af00\">64</span>)             │         <span style=\"color: #00af00; text-decoration-color: #00af00\">1,024</span> │\n",
       "├─────────────────────────────────┼────────────────────────┼───────────────┤\n",
       "│ dropout (<span style=\"color: #0087ff; text-decoration-color: #0087ff\">Dropout</span>)               │ (<span style=\"color: #00d7ff; text-decoration-color: #00d7ff\">None</span>, <span style=\"color: #00af00; text-decoration-color: #00af00\">64</span>)             │             <span style=\"color: #00af00; text-decoration-color: #00af00\">0</span> │\n",
       "├─────────────────────────────────┼────────────────────────┼───────────────┤\n",
       "│ dense_1 (<span style=\"color: #0087ff; text-decoration-color: #0087ff\">Dense</span>)                 │ (<span style=\"color: #00d7ff; text-decoration-color: #00d7ff\">None</span>, <span style=\"color: #00af00; text-decoration-color: #00af00\">32</span>)             │         <span style=\"color: #00af00; text-decoration-color: #00af00\">2,080</span> │\n",
       "├─────────────────────────────────┼────────────────────────┼───────────────┤\n",
       "│ dropout_1 (<span style=\"color: #0087ff; text-decoration-color: #0087ff\">Dropout</span>)             │ (<span style=\"color: #00d7ff; text-decoration-color: #00d7ff\">None</span>, <span style=\"color: #00af00; text-decoration-color: #00af00\">32</span>)             │             <span style=\"color: #00af00; text-decoration-color: #00af00\">0</span> │\n",
       "├─────────────────────────────────┼────────────────────────┼───────────────┤\n",
       "│ dense_2 (<span style=\"color: #0087ff; text-decoration-color: #0087ff\">Dense</span>)                 │ (<span style=\"color: #00d7ff; text-decoration-color: #00d7ff\">None</span>, <span style=\"color: #00af00; text-decoration-color: #00af00\">9</span>)              │           <span style=\"color: #00af00; text-decoration-color: #00af00\">297</span> │\n",
       "└─────────────────────────────────┴────────────────────────┴───────────────┘\n",
       "</pre>\n"
      ],
      "text/plain": [
       "┏━━━━━━━━━━━━━━━━━━━━━━━━━━━━━━━━━┳━━━━━━━━━━━━━━━━━━━━━━━━┳━━━━━━━━━━━━━━━┓\n",
       "┃\u001b[1m \u001b[0m\u001b[1mLayer (type)                   \u001b[0m\u001b[1m \u001b[0m┃\u001b[1m \u001b[0m\u001b[1mOutput Shape          \u001b[0m\u001b[1m \u001b[0m┃\u001b[1m \u001b[0m\u001b[1m      Param #\u001b[0m\u001b[1m \u001b[0m┃\n",
       "┡━━━━━━━━━━━━━━━━━━━━━━━━━━━━━━━━━╇━━━━━━━━━━━━━━━━━━━━━━━━╇━━━━━━━━━━━━━━━┩\n",
       "│ dense (\u001b[38;5;33mDense\u001b[0m)                   │ (\u001b[38;5;45mNone\u001b[0m, \u001b[38;5;34m64\u001b[0m)             │         \u001b[38;5;34m1,024\u001b[0m │\n",
       "├─────────────────────────────────┼────────────────────────┼───────────────┤\n",
       "│ dropout (\u001b[38;5;33mDropout\u001b[0m)               │ (\u001b[38;5;45mNone\u001b[0m, \u001b[38;5;34m64\u001b[0m)             │             \u001b[38;5;34m0\u001b[0m │\n",
       "├─────────────────────────────────┼────────────────────────┼───────────────┤\n",
       "│ dense_1 (\u001b[38;5;33mDense\u001b[0m)                 │ (\u001b[38;5;45mNone\u001b[0m, \u001b[38;5;34m32\u001b[0m)             │         \u001b[38;5;34m2,080\u001b[0m │\n",
       "├─────────────────────────────────┼────────────────────────┼───────────────┤\n",
       "│ dropout_1 (\u001b[38;5;33mDropout\u001b[0m)             │ (\u001b[38;5;45mNone\u001b[0m, \u001b[38;5;34m32\u001b[0m)             │             \u001b[38;5;34m0\u001b[0m │\n",
       "├─────────────────────────────────┼────────────────────────┼───────────────┤\n",
       "│ dense_2 (\u001b[38;5;33mDense\u001b[0m)                 │ (\u001b[38;5;45mNone\u001b[0m, \u001b[38;5;34m9\u001b[0m)              │           \u001b[38;5;34m297\u001b[0m │\n",
       "└─────────────────────────────────┴────────────────────────┴───────────────┘\n"
      ]
     },
     "metadata": {},
     "output_type": "display_data"
    },
    {
     "data": {
      "text/html": [
       "<pre style=\"white-space:pre;overflow-x:auto;line-height:normal;font-family:Menlo,'DejaVu Sans Mono',consolas,'Courier New',monospace\"><span style=\"font-weight: bold\"> Total params: </span><span style=\"color: #00af00; text-decoration-color: #00af00\">3,401</span> (13.29 KB)\n",
       "</pre>\n"
      ],
      "text/plain": [
       "\u001b[1m Total params: \u001b[0m\u001b[38;5;34m3,401\u001b[0m (13.29 KB)\n"
      ]
     },
     "metadata": {},
     "output_type": "display_data"
    },
    {
     "data": {
      "text/html": [
       "<pre style=\"white-space:pre;overflow-x:auto;line-height:normal;font-family:Menlo,'DejaVu Sans Mono',consolas,'Courier New',monospace\"><span style=\"font-weight: bold\"> Trainable params: </span><span style=\"color: #00af00; text-decoration-color: #00af00\">3,401</span> (13.29 KB)\n",
       "</pre>\n"
      ],
      "text/plain": [
       "\u001b[1m Trainable params: \u001b[0m\u001b[38;5;34m3,401\u001b[0m (13.29 KB)\n"
      ]
     },
     "metadata": {},
     "output_type": "display_data"
    },
    {
     "data": {
      "text/html": [
       "<pre style=\"white-space:pre;overflow-x:auto;line-height:normal;font-family:Menlo,'DejaVu Sans Mono',consolas,'Courier New',monospace\"><span style=\"font-weight: bold\"> Non-trainable params: </span><span style=\"color: #00af00; text-decoration-color: #00af00\">0</span> (0.00 B)\n",
       "</pre>\n"
      ],
      "text/plain": [
       "\u001b[1m Non-trainable params: \u001b[0m\u001b[38;5;34m0\u001b[0m (0.00 B)\n"
      ]
     },
     "metadata": {},
     "output_type": "display_data"
    }
   ],
   "source": [
    "model.summary()"
   ]
  },
  {
   "cell_type": "markdown",
   "id": "61a9396db525bdc9",
   "metadata": {},
   "source": [
    "### VIsualizer"
   ]
  },
  {
   "cell_type": "code",
   "execution_count": 17,
   "id": "c10107d17f9620e2",
   "metadata": {
    "ExecuteTime": {
     "end_time": "2024-05-29T21:08:22.084110Z",
     "start_time": "2024-05-29T21:08:20.072235Z"
    }
   },
   "outputs": [],
   "source": [
    "visualizer(\n",
    "    model,\n",
    "    #file_format='jpeg',\n",
    "    view=True,\n",
    "    settings=None\n",
    ")"
   ]
  },
  {
   "cell_type": "markdown",
   "id": "1dcb7104685a443b",
   "metadata": {},
   "source": [
    "### Histórico"
   ]
  },
  {
   "cell_type": "code",
   "execution_count": 18,
   "id": "dedd26646b9852fd",
   "metadata": {
    "ExecuteTime": {
     "end_time": "2024-05-29T21:08:22.084622Z",
     "start_time": "2024-05-29T21:08:22.084622Z"
    },
    "scrolled": true
   },
   "outputs": [
    {
     "name": "stdout",
     "output_type": "stream",
     "text": [
      "Epoch 1/30\n",
      "\u001b[1m42/42\u001b[0m \u001b[32m━━━━━━━━━━━━━━━━━━━━\u001b[0m\u001b[37m\u001b[0m \u001b[1m3s\u001b[0m 11ms/step - accuracy: 0.1351 - loss: 3.0291 - val_accuracy: 0.3581 - val_loss: 2.5820\n",
      "Epoch 2/30\n",
      "\u001b[1m42/42\u001b[0m \u001b[32m━━━━━━━━━━━━━━━━━━━━\u001b[0m\u001b[37m\u001b[0m \u001b[1m0s\u001b[0m 4ms/step - accuracy: 0.2216 - loss: 2.6689 - val_accuracy: 0.4122 - val_loss: 2.3830\n",
      "Epoch 3/30\n",
      "\u001b[1m42/42\u001b[0m \u001b[32m━━━━━━━━━━━━━━━━━━━━\u001b[0m\u001b[37m\u001b[0m \u001b[1m0s\u001b[0m 4ms/step - accuracy: 0.2887 - loss: 2.4773 - val_accuracy: 0.4662 - val_loss: 2.1948\n",
      "Epoch 4/30\n",
      "\u001b[1m42/42\u001b[0m \u001b[32m━━━━━━━━━━━━━━━━━━━━\u001b[0m\u001b[37m\u001b[0m \u001b[1m0s\u001b[0m 3ms/step - accuracy: 0.3154 - loss: 2.3306 - val_accuracy: 0.5068 - val_loss: 2.0459\n",
      "Epoch 5/30\n",
      "\u001b[1m42/42\u001b[0m \u001b[32m━━━━━━━━━━━━━━━━━━━━\u001b[0m\u001b[37m\u001b[0m \u001b[1m0s\u001b[0m 3ms/step - accuracy: 0.3684 - loss: 2.1372 - val_accuracy: 0.5338 - val_loss: 1.8914\n",
      "Epoch 6/30\n",
      "\u001b[1m42/42\u001b[0m \u001b[32m━━━━━━━━━━━━━━━━━━━━\u001b[0m\u001b[37m\u001b[0m \u001b[1m0s\u001b[0m 3ms/step - accuracy: 0.3722 - loss: 2.0780 - val_accuracy: 0.5676 - val_loss: 1.7754\n",
      "Epoch 7/30\n",
      "\u001b[1m42/42\u001b[0m \u001b[32m━━━━━━━━━━━━━━━━━━━━\u001b[0m\u001b[37m\u001b[0m \u001b[1m0s\u001b[0m 4ms/step - accuracy: 0.3880 - loss: 1.9512 - val_accuracy: 0.6149 - val_loss: 1.6799\n",
      "Epoch 8/30\n",
      "\u001b[1m42/42\u001b[0m \u001b[32m━━━━━━━━━━━━━━━━━━━━\u001b[0m\u001b[37m\u001b[0m \u001b[1m0s\u001b[0m 4ms/step - accuracy: 0.4284 - loss: 1.8650 - val_accuracy: 0.6419 - val_loss: 1.5991\n",
      "Epoch 9/30\n",
      "\u001b[1m42/42\u001b[0m \u001b[32m━━━━━━━━━━━━━━━━━━━━\u001b[0m\u001b[37m\u001b[0m \u001b[1m0s\u001b[0m 4ms/step - accuracy: 0.4689 - loss: 1.7472 - val_accuracy: 0.6419 - val_loss: 1.5253\n",
      "Epoch 10/30\n",
      "\u001b[1m42/42\u001b[0m \u001b[32m━━━━━━━━━━━━━━━━━━━━\u001b[0m\u001b[37m\u001b[0m \u001b[1m0s\u001b[0m 4ms/step - accuracy: 0.4533 - loss: 1.7345 - val_accuracy: 0.6757 - val_loss: 1.4608\n",
      "Epoch 11/30\n",
      "\u001b[1m42/42\u001b[0m \u001b[32m━━━━━━━━━━━━━━━━━━━━\u001b[0m\u001b[37m\u001b[0m \u001b[1m0s\u001b[0m 4ms/step - accuracy: 0.4763 - loss: 1.6350 - val_accuracy: 0.6554 - val_loss: 1.4130\n",
      "Epoch 12/30\n",
      "\u001b[1m42/42\u001b[0m \u001b[32m━━━━━━━━━━━━━━━━━━━━\u001b[0m\u001b[37m\u001b[0m \u001b[1m0s\u001b[0m 3ms/step - accuracy: 0.5178 - loss: 1.5716 - val_accuracy: 0.6757 - val_loss: 1.3702\n",
      "Epoch 13/30\n",
      "\u001b[1m42/42\u001b[0m \u001b[32m━━━━━━━━━━━━━━━━━━━━\u001b[0m\u001b[37m\u001b[0m \u001b[1m0s\u001b[0m 3ms/step - accuracy: 0.4972 - loss: 1.5542 - val_accuracy: 0.7027 - val_loss: 1.3202\n",
      "Epoch 14/30\n",
      "\u001b[1m42/42\u001b[0m \u001b[32m━━━━━━━━━━━━━━━━━━━━\u001b[0m\u001b[37m\u001b[0m \u001b[1m0s\u001b[0m 3ms/step - accuracy: 0.5383 - loss: 1.5028 - val_accuracy: 0.6959 - val_loss: 1.2774\n",
      "Epoch 15/30\n",
      "\u001b[1m42/42\u001b[0m \u001b[32m━━━━━━━━━━━━━━━━━━━━\u001b[0m\u001b[37m\u001b[0m \u001b[1m0s\u001b[0m 3ms/step - accuracy: 0.5067 - loss: 1.5066 - val_accuracy: 0.7027 - val_loss: 1.2449\n",
      "Epoch 16/30\n",
      "\u001b[1m42/42\u001b[0m \u001b[32m━━━━━━━━━━━━━━━━━━━━\u001b[0m\u001b[37m\u001b[0m \u001b[1m0s\u001b[0m 3ms/step - accuracy: 0.5556 - loss: 1.4215 - val_accuracy: 0.7162 - val_loss: 1.1976\n",
      "Epoch 17/30\n",
      "\u001b[1m42/42\u001b[0m \u001b[32m━━━━━━━━━━━━━━━━━━━━\u001b[0m\u001b[37m\u001b[0m \u001b[1m0s\u001b[0m 4ms/step - accuracy: 0.5508 - loss: 1.3830 - val_accuracy: 0.7297 - val_loss: 1.1625\n",
      "Epoch 18/30\n",
      "\u001b[1m42/42\u001b[0m \u001b[32m━━━━━━━━━━━━━━━━━━━━\u001b[0m\u001b[37m\u001b[0m \u001b[1m0s\u001b[0m 3ms/step - accuracy: 0.5966 - loss: 1.3525 - val_accuracy: 0.7365 - val_loss: 1.1314\n",
      "Epoch 19/30\n",
      "\u001b[1m42/42\u001b[0m \u001b[32m━━━━━━━━━━━━━━━━━━━━\u001b[0m\u001b[37m\u001b[0m \u001b[1m0s\u001b[0m 3ms/step - accuracy: 0.5844 - loss: 1.3316 - val_accuracy: 0.7500 - val_loss: 1.0976\n",
      "Epoch 20/30\n",
      "\u001b[1m42/42\u001b[0m \u001b[32m━━━━━━━━━━━━━━━━━━━━\u001b[0m\u001b[37m\u001b[0m \u001b[1m0s\u001b[0m 3ms/step - accuracy: 0.5936 - loss: 1.3123 - val_accuracy: 0.7568 - val_loss: 1.0816\n",
      "Epoch 21/30\n",
      "\u001b[1m42/42\u001b[0m \u001b[32m━━━━━━━━━━━━━━━━━━━━\u001b[0m\u001b[37m\u001b[0m \u001b[1m0s\u001b[0m 3ms/step - accuracy: 0.5891 - loss: 1.2746 - val_accuracy: 0.7635 - val_loss: 1.0528\n",
      "Epoch 22/30\n",
      "\u001b[1m42/42\u001b[0m \u001b[32m━━━━━━━━━━━━━━━━━━━━\u001b[0m\u001b[37m\u001b[0m \u001b[1m0s\u001b[0m 3ms/step - accuracy: 0.6065 - loss: 1.2557 - val_accuracy: 0.7568 - val_loss: 1.0351\n",
      "Epoch 23/30\n",
      "\u001b[1m42/42\u001b[0m \u001b[32m━━━━━━━━━━━━━━━━━━━━\u001b[0m\u001b[37m\u001b[0m \u001b[1m0s\u001b[0m 3ms/step - accuracy: 0.6061 - loss: 1.2327 - val_accuracy: 0.8041 - val_loss: 1.0171\n",
      "Epoch 24/30\n",
      "\u001b[1m42/42\u001b[0m \u001b[32m━━━━━━━━━━━━━━━━━━━━\u001b[0m\u001b[37m\u001b[0m \u001b[1m0s\u001b[0m 3ms/step - accuracy: 0.6364 - loss: 1.1868 - val_accuracy: 0.7973 - val_loss: 0.9876\n",
      "Epoch 25/30\n",
      "\u001b[1m42/42\u001b[0m \u001b[32m━━━━━━━━━━━━━━━━━━━━\u001b[0m\u001b[37m\u001b[0m \u001b[1m0s\u001b[0m 3ms/step - accuracy: 0.6554 - loss: 1.1487 - val_accuracy: 0.7973 - val_loss: 0.9680\n",
      "Epoch 26/30\n",
      "\u001b[1m42/42\u001b[0m \u001b[32m━━━━━━━━━━━━━━━━━━━━\u001b[0m\u001b[37m\u001b[0m \u001b[1m0s\u001b[0m 3ms/step - accuracy: 0.6370 - loss: 1.1666 - val_accuracy: 0.8108 - val_loss: 0.9515\n",
      "Epoch 27/30\n",
      "\u001b[1m42/42\u001b[0m \u001b[32m━━━━━━━━━━━━━━━━━━━━\u001b[0m\u001b[37m\u001b[0m \u001b[1m0s\u001b[0m 3ms/step - accuracy: 0.6490 - loss: 1.1593 - val_accuracy: 0.8041 - val_loss: 0.9374\n",
      "Epoch 28/30\n",
      "\u001b[1m42/42\u001b[0m \u001b[32m━━━━━━━━━━━━━━━━━━━━\u001b[0m\u001b[37m\u001b[0m \u001b[1m0s\u001b[0m 4ms/step - accuracy: 0.6509 - loss: 1.1207 - val_accuracy: 0.8311 - val_loss: 0.9185\n",
      "Epoch 29/30\n",
      "\u001b[1m42/42\u001b[0m \u001b[32m━━━━━━━━━━━━━━━━━━━━\u001b[0m\u001b[37m\u001b[0m \u001b[1m0s\u001b[0m 3ms/step - accuracy: 0.6452 - loss: 1.1254 - val_accuracy: 0.8243 - val_loss: 0.9049\n",
      "Epoch 30/30\n",
      "\u001b[1m42/42\u001b[0m \u001b[32m━━━━━━━━━━━━━━━━━━━━\u001b[0m\u001b[37m\u001b[0m \u001b[1m0s\u001b[0m 3ms/step - accuracy: 0.6606 - loss: 1.0937 - val_accuracy: 0.8514 - val_loss: 0.8812\n"
     ]
    }
   ],
   "source": [
    "history = model.fit(X_train, y_train, validation_split=0.1, epochs=30)"
   ]
  },
  {
   "cell_type": "markdown",
   "id": "83f5f508ee830196",
   "metadata": {},
   "source": [
    "### Previsões"
   ]
  },
  {
   "cell_type": "code",
   "execution_count": 19,
   "id": "59d645e5",
   "metadata": {},
   "outputs": [
    {
     "name": "stdout",
     "output_type": "stream",
     "text": [
      "R_squared value:  0.22924394056125685\n",
      "RMSE:  2.464387223832352\n"
     ]
    }
   ],
   "source": [
    "#NOTA: os valores podem mudar muito ligeiramente sempre que executado e podem estar diferentes dos do artigo\n",
    "#mas a classe prevista é sempre a mesma\n",
    "Nhidden=(64,32)\n",
    "nn = MLPRegressor(hidden_layer_sizes=Nhidden,\n",
    "                                          activation='tanh',\n",
    "                                          solver='lbfgs', max_iter=1000, learning_rate_init=0.001)\n",
    "nn.fit(X_train, y_train)\n",
    "# Make prediction\n",
    "pred = nn.predict(X_test)\n",
    "#\n",
    "# Calculate accuracy and error metrics\n",
    "#\n",
    "test_set_rsquared = nn.score(X_test, y_test)\n",
    "test_set_rmse = np.sqrt(mean_squared_error(y_test, pred))\n",
    "#\n",
    "# Print R_squared and RMSE value\n",
    "#\n",
    "print('R_squared value: ', test_set_rsquared)\n",
    "print('RMSE: ', test_set_rmse)"
   ]
  },
  {
   "cell_type": "markdown",
   "id": "bd35ac89",
   "metadata": {},
   "source": [
    "### Avaliações ao modelo"
   ]
  },
  {
   "cell_type": "code",
   "execution_count": 20,
   "id": "49154c4e55074fa4",
   "metadata": {},
   "outputs": [
    {
     "data": {
      "image/png": "[encoded data removed]",
      "text/plain": [
       "<Figure size 1440x1080 with 1 Axes>"
      ]
     },
     "metadata": {},
     "output_type": "display_data"
    }
   ],
   "source": [
    "plt.plot(history.history[\"loss\"], label=\"Training Loss\")\n",
    "plt.plot(history.history[\"val_loss\"], label=\"Validation Loss\")\n",
    "plt.title(\"Model Loss\")\n",
    "plt.ylabel(\"Loss\")\n",
    "plt.xlabel(\"Epoch\")\n",
    "plt.legend(loc=\"upper right\")\n",
    "plt.show()\n"
   ]
  },
  {
   "cell_type": "markdown",
   "id": "ec169bb05554e05f",
   "metadata": {},
   "source": [
    "#### Model Accuracy"
   ]
  },
  {
   "cell_type": "code",
   "execution_count": 21,
   "id": "e546aa61a2468834",
   "metadata": {},
   "outputs": [
    {
     "data": {
      "image/png": "[encoded data removed]",
      "text/plain": [
       "<Figure size 1440x1080 with 1 Axes>"
      ]
     },
     "metadata": {},
     "output_type": "display_data"
    }
   ],
   "source": [
    "plt.plot(history.history[\"accuracy\"], label=\"Training Data\")\n",
    "#adicionei esta linha debaixo\n",
    "plt.plot(history.history[\"val_accuracy\"], label=\"Validation Data\")\n",
    "plt.title(\"Model Accuracy\")\n",
    "plt.ylabel(\"Accuracy\")\n",
    "plt.xlabel(\"Epoch\")\n",
    "plt.legend(loc=\"lower right\")\n",
    "plt.show()"
   ]
  },
  {
   "cell_type": "code",
   "execution_count": 22,
   "id": "28da6cb86556fcbe",
   "metadata": {},
   "outputs": [
    {
     "name": "stdout",
     "output_type": "stream",
     "text": [
      "\u001b[1m20/20\u001b[0m \u001b[32m━━━━━━━━━━━━━━━━━━━━\u001b[0m\u001b[37m\u001b[0m \u001b[1m0s\u001b[0m 4ms/step\n",
      "Accuracy: 0.8060\n",
      "\n",
      "Classification Report:\n",
      "              precision    recall  f1-score   support\n",
      "\n",
      "           0       0.71      0.95      0.81        85\n",
      "           1       0.96      0.66      0.78        74\n",
      "           2       0.58      0.86      0.69        59\n",
      "           3       0.00      0.00      0.00        21\n",
      "           4       0.00      0.00      0.00         4\n",
      "           5       0.96      0.86      0.90       111\n",
      "           6       0.83      1.00      0.91        87\n",
      "           7       0.87      0.82      0.84       105\n",
      "           8       0.79      0.70      0.75        88\n",
      "\n",
      "    accuracy                           0.81       634\n",
      "   macro avg       0.63      0.65      0.63       634\n",
      "weighted avg       0.80      0.81      0.79       634\n",
      "\n"
     ]
    }
   ],
   "source": [
    "#NOTA: os valores podem mudar muito ligeiramente sempre que executado e podem estar diferentes dos do artigo\n",
    "import numpy as np\n",
    "y_pred = np.argmax(model.predict(X_test), axis=1)\n",
    "\n",
    "# Calculando a acurÃ¡cia\n",
    "accuracy = accuracy_score(y_test, y_pred)\n",
    "print(f'Accuracy: {accuracy:.4f}')\n",
    "\n",
    "# Calculando a sensibilidade (recall)\n",
    "sensitivity = recall_score(y_test, y_pred, average='macro')\n",
    "#print(f'Sensitivity (Recall): {sensitivity:.4f}')\n",
    "\n",
    "# Calculando a especificidade\n",
    "# A especificidade Ã© um pouco mais complexa, vamos calcular manualmente usando a matriz de confusÃ£o\n",
    "cm = confusion_matrix(y_test, y_pred)\n",
    "specificity = []\n",
    "for i in range(len(cm)):\n",
    "    tn = cm.sum() - (cm[i, :].sum() + cm[:, i].sum() - cm[i, i])\n",
    "    fp = cm[:, i].sum() - cm[i, i]\n",
    "    specificity.append(tn / (tn + fp))\n",
    "specificity = np.mean(specificity)\n",
    "#print(f'Specificity: {specificity:.4f}')\n",
    "\n",
    "# Calculando o F1-Score\n",
    "f1 = f1_score(y_test, y_pred, average='macro')\n",
    "#print(f'F1-Score: {f1:.4f}')\n",
    "\n",
    "# RelatÃ³rio detalhado de classificaÃ§Ã£o\n",
    "print(\"\\nClassification Report:\")\n",
    "print(classification_report(y_test, y_pred))\n"
   ]
  },
  {
   "cell_type": "markdown",
   "id": "ae3d3b2a",
   "metadata": {},
   "source": [
    "### Avaliação k-fold"
   ]
  },
  {
   "cell_type": "code",
   "execution_count": 23,
   "id": "916935ff",
   "metadata": {},
   "outputs": [],
   "source": [
    "def kfold_indices(data, k):\n",
    "    fold_size = len(data) // k\n",
    "    indices = np.arange(len(data))\n",
    "    folds = []\n",
    "    for i in range(k):\n",
    "        test_indices = indices[i * fold_size: (i + 1) * fold_size]\n",
    "        train_indices = np.concatenate([indices[:i * fold_size], indices[(i + 1) * fold_size:]])\n",
    "        folds.append((train_indices, test_indices))\n",
    "    return folds\n",
    "# Define the number of folds (K)\n",
    "k = 5\n",
    "# Get the fold indices\n",
    "fold_indices = kfold_indices(X, k)"
   ]
  },
  {
   "cell_type": "code",
   "execution_count": null,
   "id": "6416f791",
   "metadata": {},
   "outputs": [
    {
     "name": "stdout",
     "output_type": "stream",
     "text": [
      "\u001b[1m14/14\u001b[0m \u001b[32m━━━━━━━━━━━━━━━━━━━━\u001b[0m\u001b[37m\u001b[0m \u001b[1m0s\u001b[0m 6ms/step\n",
      "\u001b[1m14/14\u001b[0m \u001b[32m━━━━━━━━━━━━━━━━━━━━\u001b[0m\u001b[37m\u001b[0m \u001b[1m0s\u001b[0m 6ms/step\n",
      "\u001b[1m14/14\u001b[0m \u001b[32m━━━━━━━━━━━━━━━━━━━━\u001b[0m\u001b[37m\u001b[0m \u001b[1m0s\u001b[0m 6ms/step\n"
     ]
    }
   ],
   "source": [
    "scores = []\n",
    "prevs_folds = []\n",
    "y_folds = []\n",
    "\n",
    "scores = []\n",
    "prevs_folds = []\n",
    "y_folds = []\n",
    "\n",
    "# Iterate through each fold\n",
    "for train_indices, test_indices in fold_indices:\n",
    "    X_train, y_train = X[train_indices], y[train_indices]\n",
    "    X_test, y_test = X[test_indices], y[test_indices]\n",
    "\n",
    "    # Define the model\n",
    "    model = keras.Sequential([\n",
    "        keras.Input(shape=(X_train.shape[1],)),\n",
    "        Dense(64, activation=\"relu\", kernel_regularizer=l2(0.01)),\n",
    "        Dropout(0.5),\n",
    "        Dense(32, activation=\"relu\", kernel_regularizer=l2(0.01)),\n",
    "        Dropout(0.5),\n",
    "        Dense(9, activation=\"softmax\"),\n",
    "    ])\n",
    "    \n",
    "    # Compile the model\n",
    "    model.compile(\n",
    "        optimizer='adam',\n",
    "        loss='sparse_categorical_crossentropy',\n",
    "        metrics=['accuracy']\n",
    "    )\n",
    "    \n",
    "    # Train the model\n",
    "    model.fit(X_train, y_train, validation_split=0.1, epochs=30, verbose=0)\n",
    "    \n",
    "    # Make predictions on the test data\n",
    "    #usou-se o argmax como o predict já não funcionaria para a rede neuronal. O argmax é ideal quando se trata de problema de classificação!!!!!!!!!!!!!!!!!\n",
    "    \n",
    "    y_pred = np.argmax(model.predict(X_test), axis=1)\n",
    "\n",
    "    # Calculate the accuracy score for this fold\n",
    "    fold_score = accuracy_score(y_test, y_pred)\n",
    "\n",
    "    # Append the fold score to the list of scores\n",
    "    scores.append(fold_score)\n",
    "\n",
    "    # Append the prevs and labels of the test set\n",
    "    prevs_folds.append(y_pred)\n",
    "    y_folds.append(y_test)\n",
    "\n",
    "# Calculate the mean accuracy across all folds\n",
    "mean_accuracy = np.mean(scores)\n",
    "std_accuracy = np.std(scores)\n",
    "\n",
    "print(\"K-Fold Cross-Validation Scores:\", scores)\n",
    "print(\"Mean Accuracy:\", mean_accuracy)\n",
    "print(\"Standard Deviation:\", std_accuracy)\n"
   ]
  },
  {
   "cell_type": "code",
   "execution_count": null,
   "id": "82a5fcf0",
   "metadata": {},
   "outputs": [],
   "source": [
    "\n"
   ]
  },
  {
   "cell_type": "code",
   "execution_count": null,
   "id": "ecd0051f",
   "metadata": {},
   "outputs": [],
   "source": [
    "\n"
   ]
  },
  {
   "cell_type": "code",
   "execution_count": null,
   "id": "1fad92ca",
   "metadata": {},
   "outputs": [],
   "source": []
  },
  {
   "cell_type": "code",
   "execution_count": null,
   "id": "22100caf",
   "metadata": {},
   "outputs": [],
   "source": [
    "\n"
   ]
  },
  {
   "cell_type": "code",
   "execution_count": null,
   "id": "57c9042be62cb830",
   "metadata": {},
   "outputs": [],
   "source": [
    "\n"
   ]
  },
  {
   "cell_type": "code",
   "execution_count": null,
   "id": "bcca3fc0",
   "metadata": {},
   "outputs": [],
   "source": []
  }
 ],
 "metadata": {
  "kernelspec": {
   "display_name": "Python 3 (ipykernel)",
   "language": "python",
   "name": "python3"
  },
  "language_info": {
   "codemirror_mode": {
    "name": "ipython",
    "version": 3
   },
   "file_extension": ".py",
   "mimetype": "text/x-python",
   "name": "python",
   "nbconvert_exporter": "python",
   "pygments_lexer": "ipython3",
   "version": "3.11.4"
  }
 },
 "nbformat": 4,
 "nbformat_minor": 5
}
