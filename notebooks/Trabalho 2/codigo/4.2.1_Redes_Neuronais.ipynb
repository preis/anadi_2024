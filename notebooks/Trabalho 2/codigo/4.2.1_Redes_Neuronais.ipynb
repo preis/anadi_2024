{
 "cells": [
  {
   "cell_type": "markdown",
   "id": "74699f4b",
   "metadata": {},
   "source": [
    "Fontes de código: TP7 MINDD, TP1 MINDD Rita e Samuel 23/24, documentação tensorflow"
   ]
  },
  {
   "cell_type": "markdown",
   "id": "6088aada86d4442b",
   "metadata": {},
   "source": [
    "# Trabalho 2\n",
    "\n",
    "## 4.2.1 Redes Neuronais\n",
    "\n",
    "Neste notebook está o código relacionado com as Redes Neuronais na sua utilização para classificação.\n",
    "\n",
    "### Imports"
   ]
  },
  {
   "cell_type": "code",
   "id": "c14b967b812d083b",
   "metadata": {
    "ExecuteTime": {
     "end_time": "2024-06-07T22:53:33.672376Z",
     "start_time": "2024-06-07T22:53:29.593876Z"
    }
   },
   "source": [
    "import warnings\n",
    "\n",
    "import matplotlib.pyplot as plt\n",
    "import pandas as pd\n",
    "import numpy as np  \n",
    "from sklearn.preprocessing import LabelEncoder, StandardScaler\n",
    "from sklearn.model_selection import train_test_split\n",
    "from tensorflow import keras, random\n",
    "from keras_visualizer import visualizer\n",
    "from tensorflow.keras.layers import Dense, Dropout\n",
    "from tensorflow.keras.regularizers import l2\n",
    "from sklearn.neural_network import MLPRegressor\n",
    "from sklearn.metrics import mean_squared_error, classification_report, accuracy_score, recall_score, precision_score, f1_score, confusion_matrix \n",
    "from sklearn.model_selection import KFold\n",
    "import utilidades as ut"
   ],
   "outputs": [],
   "execution_count": 1
  },
  {
   "cell_type": "markdown",
   "id": "ff02a40a70bf478d",
   "metadata": {},
   "source": [
    "### Inicializações e variáveis"
   ]
  },
  {
   "cell_type": "code",
   "id": "bff4210b269d953e",
   "metadata": {
    "ExecuteTime": {
     "end_time": "2024-06-07T22:53:33.686912Z",
     "start_time": "2024-06-07T22:53:33.673380Z"
    }
   },
   "source": [
    "warnings.filterwarnings(\"ignore\")  # Desabilitar warnings.\n",
    "# Garantir que se utiliza um estilo definido centralmente e comum a todos os gráficos.\n",
    "# plt.style.use(\"style/estilo.mplstyle\")\n",
    "plt.style.use('ggplot')\n",
    "\n",
    "%matplotlib inline\n",
    "\n",
    "label_encoder = LabelEncoder()\n",
    "\n",
    "ficheiro = \"dados_preparados.csv\"\n",
    "colunas_numericas = [\"Idade\", \"FCV\", \"NRP\", \"CA\", \"FAF\", \"TUDE\", \"IMC\"]\n",
    "colunas_classes = [\"Genero\", \"Historico_obesidade_familiar\", \"FCCAC\", \"Fumador\", \"MCC\", \"CCER\", \"CBA\", \"TRANS\", \"Label\"]\n",
    "colunas_classes_binarias = ['Genero', 'Historico_obesidade_familiar', 'FCCAC', 'Fumador', 'MCC']\n",
    "colunas_classes_multiplos = [\"CCER\", \"CBA\", \"TRANS\", \"Label\"]"
   ],
   "outputs": [],
   "execution_count": 2
  },
  {
   "cell_type": "markdown",
   "id": "dfa043fc61ddba02",
   "metadata": {},
   "source": [
    "## Leitura dos dados preparados"
   ]
  },
  {
   "cell_type": "code",
   "id": "15f9fff826ebd90c",
   "metadata": {
    "ExecuteTime": {
     "end_time": "2024-06-07T22:53:33.698883Z",
     "start_time": "2024-06-07T22:53:33.687917Z"
    }
   },
   "source": [
    "dados_trabalho = pd.read_csv(ficheiro)"
   ],
   "outputs": [],
   "execution_count": 3
  },
  {
   "cell_type": "code",
   "id": "23f741d3f20d3773",
   "metadata": {
    "ExecuteTime": {
     "end_time": "2024-06-07T22:53:33.712551Z",
     "start_time": "2024-06-07T22:53:33.699888Z"
    }
   },
   "source": [
    "dados_trabalho"
   ],
   "outputs": [
    {
     "data": {
      "text/plain": [
       "         Genero      Idade Historico_obesidade_familiar FCCAC  FCV  NRP  \\\n",
       "0      Feminino  21.000000                          Sim   Nao  2.0  3.0   \n",
       "1      Feminino  21.000000                          Sim   Nao  3.0  3.0   \n",
       "2     Masculino  23.000000                          Sim   Nao  2.0  3.0   \n",
       "3     Masculino  27.000000                          Nao   Nao  3.0  3.0   \n",
       "4     Masculino  22.000000                          Nao   Nao  2.0  1.0   \n",
       "...         ...        ...                          ...   ...  ...  ...   \n",
       "2106   Feminino  20.976842                          Sim   Sim  3.0  3.0   \n",
       "2107   Feminino  21.982942                          Sim   Sim  3.0  3.0   \n",
       "2108   Feminino  22.524036                          Sim   Sim  3.0  3.0   \n",
       "2109   Feminino  24.361936                          Sim   Sim  3.0  3.0   \n",
       "2110   Feminino  23.664709                          Sim   Sim  3.0  3.0   \n",
       "\n",
       "                CCER Fumador        CA  MCC       FAF      TUDE  \\\n",
       "0     Ocasionalmente     Nao  2.000000  Nao  0.000000  1.000000   \n",
       "1     Ocasionalmente     Sim  3.000000  Sim  3.000000  0.000000   \n",
       "2     Ocasionalmente     Nao  2.000000  Nao  2.000000  1.000000   \n",
       "3     Ocasionalmente     Nao  2.000000  Nao  2.000000  0.000000   \n",
       "4     Ocasionalmente     Nao  2.000000  Nao  0.000000  0.000000   \n",
       "...              ...     ...       ...  ...       ...       ...   \n",
       "2106  Ocasionalmente     Nao  1.728139  Nao  1.676269  0.906247   \n",
       "2107  Ocasionalmente     Nao  2.005130  Nao  1.341390  0.599270   \n",
       "2108  Ocasionalmente     Nao  2.054193  Nao  1.414209  0.646288   \n",
       "2109  Ocasionalmente     Nao  2.852339  Nao  1.139107  0.586035   \n",
       "2110  Ocasionalmente     Nao  2.863513  Nao  1.026452  0.714137   \n",
       "\n",
       "                 CBA                 TRANS                 Label        IMC  \n",
       "0                Nao  Transportes_Publicos           Peso_Normal  24.386526  \n",
       "1     Ocasionalmente  Transportes_Publicos           Peso_Normal  24.238227  \n",
       "2     Frequentemente  Transportes_Publicos           Peso_Normal  23.765432  \n",
       "3     Frequentemente             Caminhada   Excesso_Peso_Grau_I  26.851852  \n",
       "4     Ocasionalmente  Transportes_Publicos  Excesso_Peso_Grau_II  28.342381  \n",
       "...              ...                   ...                   ...        ...  \n",
       "2106  Ocasionalmente  Transportes_Publicos     Obesidade_Mórbida  44.901475  \n",
       "2107  Ocasionalmente  Transportes_Publicos     Obesidade_Mórbida  43.741923  \n",
       "2108  Ocasionalmente  Transportes_Publicos     Obesidade_Mórbida  43.543817  \n",
       "2109  Ocasionalmente  Transportes_Publicos     Obesidade_Mórbida  44.071535  \n",
       "2110  Ocasionalmente  Transportes_Publicos     Obesidade_Mórbida  44.144338  \n",
       "\n",
       "[2111 rows x 16 columns]"
      ],
      "text/html": [
       "<div>\n",
       "<style scoped>\n",
       "    .dataframe tbody tr th:only-of-type {\n",
       "        vertical-align: middle;\n",
       "    }\n",
       "\n",
       "    .dataframe tbody tr th {\n",
       "        vertical-align: top;\n",
       "    }\n",
       "\n",
       "    .dataframe thead th {\n",
       "        text-align: right;\n",
       "    }\n",
       "</style>\n",
       "<table border=\"1\" class=\"dataframe\">\n",
       "  <thead>\n",
       "    <tr style=\"text-align: right;\">\n",
       "      <th></th>\n",
       "      <th>Genero</th>\n",
       "      <th>Idade</th>\n",
       "      <th>Historico_obesidade_familiar</th>\n",
       "      <th>FCCAC</th>\n",
       "      <th>FCV</th>\n",
       "      <th>NRP</th>\n",
       "      <th>CCER</th>\n",
       "      <th>Fumador</th>\n",
       "      <th>CA</th>\n",
       "      <th>MCC</th>\n",
       "      <th>FAF</th>\n",
       "      <th>TUDE</th>\n",
       "      <th>CBA</th>\n",
       "      <th>TRANS</th>\n",
       "      <th>Label</th>\n",
       "      <th>IMC</th>\n",
       "    </tr>\n",
       "  </thead>\n",
       "  <tbody>\n",
       "    <tr>\n",
       "      <th>0</th>\n",
       "      <td>Feminino</td>\n",
       "      <td>21.000000</td>\n",
       "      <td>Sim</td>\n",
       "      <td>Nao</td>\n",
       "      <td>2.0</td>\n",
       "      <td>3.0</td>\n",
       "      <td>Ocasionalmente</td>\n",
       "      <td>Nao</td>\n",
       "      <td>2.000000</td>\n",
       "      <td>Nao</td>\n",
       "      <td>0.000000</td>\n",
       "      <td>1.000000</td>\n",
       "      <td>Nao</td>\n",
       "      <td>Transportes_Publicos</td>\n",
       "      <td>Peso_Normal</td>\n",
       "      <td>24.386526</td>\n",
       "    </tr>\n",
       "    <tr>\n",
       "      <th>1</th>\n",
       "      <td>Feminino</td>\n",
       "      <td>21.000000</td>\n",
       "      <td>Sim</td>\n",
       "      <td>Nao</td>\n",
       "      <td>3.0</td>\n",
       "      <td>3.0</td>\n",
       "      <td>Ocasionalmente</td>\n",
       "      <td>Sim</td>\n",
       "      <td>3.000000</td>\n",
       "      <td>Sim</td>\n",
       "      <td>3.000000</td>\n",
       "      <td>0.000000</td>\n",
       "      <td>Ocasionalmente</td>\n",
       "      <td>Transportes_Publicos</td>\n",
       "      <td>Peso_Normal</td>\n",
       "      <td>24.238227</td>\n",
       "    </tr>\n",
       "    <tr>\n",
       "      <th>2</th>\n",
       "      <td>Masculino</td>\n",
       "      <td>23.000000</td>\n",
       "      <td>Sim</td>\n",
       "      <td>Nao</td>\n",
       "      <td>2.0</td>\n",
       "      <td>3.0</td>\n",
       "      <td>Ocasionalmente</td>\n",
       "      <td>Nao</td>\n",
       "      <td>2.000000</td>\n",
       "      <td>Nao</td>\n",
       "      <td>2.000000</td>\n",
       "      <td>1.000000</td>\n",
       "      <td>Frequentemente</td>\n",
       "      <td>Transportes_Publicos</td>\n",
       "      <td>Peso_Normal</td>\n",
       "      <td>23.765432</td>\n",
       "    </tr>\n",
       "    <tr>\n",
       "      <th>3</th>\n",
       "      <td>Masculino</td>\n",
       "      <td>27.000000</td>\n",
       "      <td>Nao</td>\n",
       "      <td>Nao</td>\n",
       "      <td>3.0</td>\n",
       "      <td>3.0</td>\n",
       "      <td>Ocasionalmente</td>\n",
       "      <td>Nao</td>\n",
       "      <td>2.000000</td>\n",
       "      <td>Nao</td>\n",
       "      <td>2.000000</td>\n",
       "      <td>0.000000</td>\n",
       "      <td>Frequentemente</td>\n",
       "      <td>Caminhada</td>\n",
       "      <td>Excesso_Peso_Grau_I</td>\n",
       "      <td>26.851852</td>\n",
       "    </tr>\n",
       "    <tr>\n",
       "      <th>4</th>\n",
       "      <td>Masculino</td>\n",
       "      <td>22.000000</td>\n",
       "      <td>Nao</td>\n",
       "      <td>Nao</td>\n",
       "      <td>2.0</td>\n",
       "      <td>1.0</td>\n",
       "      <td>Ocasionalmente</td>\n",
       "      <td>Nao</td>\n",
       "      <td>2.000000</td>\n",
       "      <td>Nao</td>\n",
       "      <td>0.000000</td>\n",
       "      <td>0.000000</td>\n",
       "      <td>Ocasionalmente</td>\n",
       "      <td>Transportes_Publicos</td>\n",
       "      <td>Excesso_Peso_Grau_II</td>\n",
       "      <td>28.342381</td>\n",
       "    </tr>\n",
       "    <tr>\n",
       "      <th>...</th>\n",
       "      <td>...</td>\n",
       "      <td>...</td>\n",
       "      <td>...</td>\n",
       "      <td>...</td>\n",
       "      <td>...</td>\n",
       "      <td>...</td>\n",
       "      <td>...</td>\n",
       "      <td>...</td>\n",
       "      <td>...</td>\n",
       "      <td>...</td>\n",
       "      <td>...</td>\n",
       "      <td>...</td>\n",
       "      <td>...</td>\n",
       "      <td>...</td>\n",
       "      <td>...</td>\n",
       "      <td>...</td>\n",
       "    </tr>\n",
       "    <tr>\n",
       "      <th>2106</th>\n",
       "      <td>Feminino</td>\n",
       "      <td>20.976842</td>\n",
       "      <td>Sim</td>\n",
       "      <td>Sim</td>\n",
       "      <td>3.0</td>\n",
       "      <td>3.0</td>\n",
       "      <td>Ocasionalmente</td>\n",
       "      <td>Nao</td>\n",
       "      <td>1.728139</td>\n",
       "      <td>Nao</td>\n",
       "      <td>1.676269</td>\n",
       "      <td>0.906247</td>\n",
       "      <td>Ocasionalmente</td>\n",
       "      <td>Transportes_Publicos</td>\n",
       "      <td>Obesidade_Mórbida</td>\n",
       "      <td>44.901475</td>\n",
       "    </tr>\n",
       "    <tr>\n",
       "      <th>2107</th>\n",
       "      <td>Feminino</td>\n",
       "      <td>21.982942</td>\n",
       "      <td>Sim</td>\n",
       "      <td>Sim</td>\n",
       "      <td>3.0</td>\n",
       "      <td>3.0</td>\n",
       "      <td>Ocasionalmente</td>\n",
       "      <td>Nao</td>\n",
       "      <td>2.005130</td>\n",
       "      <td>Nao</td>\n",
       "      <td>1.341390</td>\n",
       "      <td>0.599270</td>\n",
       "      <td>Ocasionalmente</td>\n",
       "      <td>Transportes_Publicos</td>\n",
       "      <td>Obesidade_Mórbida</td>\n",
       "      <td>43.741923</td>\n",
       "    </tr>\n",
       "    <tr>\n",
       "      <th>2108</th>\n",
       "      <td>Feminino</td>\n",
       "      <td>22.524036</td>\n",
       "      <td>Sim</td>\n",
       "      <td>Sim</td>\n",
       "      <td>3.0</td>\n",
       "      <td>3.0</td>\n",
       "      <td>Ocasionalmente</td>\n",
       "      <td>Nao</td>\n",
       "      <td>2.054193</td>\n",
       "      <td>Nao</td>\n",
       "      <td>1.414209</td>\n",
       "      <td>0.646288</td>\n",
       "      <td>Ocasionalmente</td>\n",
       "      <td>Transportes_Publicos</td>\n",
       "      <td>Obesidade_Mórbida</td>\n",
       "      <td>43.543817</td>\n",
       "    </tr>\n",
       "    <tr>\n",
       "      <th>2109</th>\n",
       "      <td>Feminino</td>\n",
       "      <td>24.361936</td>\n",
       "      <td>Sim</td>\n",
       "      <td>Sim</td>\n",
       "      <td>3.0</td>\n",
       "      <td>3.0</td>\n",
       "      <td>Ocasionalmente</td>\n",
       "      <td>Nao</td>\n",
       "      <td>2.852339</td>\n",
       "      <td>Nao</td>\n",
       "      <td>1.139107</td>\n",
       "      <td>0.586035</td>\n",
       "      <td>Ocasionalmente</td>\n",
       "      <td>Transportes_Publicos</td>\n",
       "      <td>Obesidade_Mórbida</td>\n",
       "      <td>44.071535</td>\n",
       "    </tr>\n",
       "    <tr>\n",
       "      <th>2110</th>\n",
       "      <td>Feminino</td>\n",
       "      <td>23.664709</td>\n",
       "      <td>Sim</td>\n",
       "      <td>Sim</td>\n",
       "      <td>3.0</td>\n",
       "      <td>3.0</td>\n",
       "      <td>Ocasionalmente</td>\n",
       "      <td>Nao</td>\n",
       "      <td>2.863513</td>\n",
       "      <td>Nao</td>\n",
       "      <td>1.026452</td>\n",
       "      <td>0.714137</td>\n",
       "      <td>Ocasionalmente</td>\n",
       "      <td>Transportes_Publicos</td>\n",
       "      <td>Obesidade_Mórbida</td>\n",
       "      <td>44.144338</td>\n",
       "    </tr>\n",
       "  </tbody>\n",
       "</table>\n",
       "<p>2111 rows × 16 columns</p>\n",
       "</div>"
      ]
     },
     "execution_count": 4,
     "metadata": {},
     "output_type": "execute_result"
    }
   ],
   "execution_count": 4
  },
  {
   "cell_type": "markdown",
   "id": "e1c7142f110b0028",
   "metadata": {},
   "source": [
    "Temos no entanto de realizar primeiro o encoding das classes para valores numéricos, esta operação é realizada usando o ``sklearn.preprocessing.LabelEncoder`` em todas as colunas com apenas 2 classes."
   ]
  },
  {
   "cell_type": "code",
   "id": "8c3bba6242ebfd4f",
   "metadata": {
    "ExecuteTime": {
     "end_time": "2024-06-07T22:53:33.722299Z",
     "start_time": "2024-06-07T22:53:33.713556Z"
    }
   },
   "source": [
    "ut.titulo(\"Valores codificados por atributo\")\n",
    "\n",
    "# for coluna in colunas_classes_binarias:\n",
    "for coluna in colunas_classes:\n",
    "    if dados_trabalho[coluna].dtype == 'object':\n",
    "        dados_trabalho[coluna] = label_encoder.fit_transform(dados_trabalho[coluna].values)\n",
    "        ut.etiqueta_e_valor(coluna, str(sorted(dados_trabalho[coluna].unique())))"
   ],
   "outputs": [
    {
     "name": "stdout",
     "output_type": "stream",
     "text": [
      "\u001B[21;30;44mValores codificados por atributo\u001B[0m\n",
      "\u001B[0;94mGenero: \u001B[1;94m[0, 1]\u001B[0m\n",
      "\u001B[0;94mHistorico_obesidade_familiar: \u001B[1;94m[0, 1]\u001B[0m\n",
      "\u001B[0;94mFCCAC: \u001B[1;94m[0, 1]\u001B[0m\n",
      "\u001B[0;94mFumador: \u001B[1;94m[0, 1]\u001B[0m\n",
      "\u001B[0;94mMCC: \u001B[1;94m[0, 1]\u001B[0m\n",
      "\u001B[0;94mCCER: \u001B[1;94m[0, 1, 2, 3]\u001B[0m\n",
      "\u001B[0;94mCBA: \u001B[1;94m[0, 1, 2, 3]\u001B[0m\n",
      "\u001B[0;94mTRANS: \u001B[1;94m[0, 1, 2, 3, 4]\u001B[0m\n",
      "\u001B[0;94mLabel: \u001B[1;94m[0, 1, 2, 3, 4, 5, 6, 7, 8]\u001B[0m\n"
     ]
    }
   ],
   "execution_count": 5
  },
  {
   "cell_type": "markdown",
   "id": "5a415825a54ddf09",
   "metadata": {},
   "source": [
    "### Testes com menos atributos"
   ]
  },
  {
   "cell_type": "code",
   "id": "738aa2ad",
   "metadata": {
    "ExecuteTime": {
     "end_time": "2024-06-07T22:53:33.725308Z",
     "start_time": "2024-06-07T22:53:33.723305Z"
    }
   },
   "source": [
    "#ao eliminar-se algumas colunas observou-se uma melhoria\n",
    "#dados_trabalho = dados_trabalho.drop(columns=['FCCAC','TRANS','CA','MCC','Idade','CCER','NRP','FCV'])\n",
    "#houve uma queda grande\n",
    "#dados_trabalho = dados_trabalho.drop(columns=['IMC'])\n"
   ],
   "outputs": [],
   "execution_count": 6
  },
  {
   "cell_type": "code",
   "id": "2fd81a67ed77365a",
   "metadata": {
    "ExecuteTime": {
     "end_time": "2024-06-07T22:53:33.735556Z",
     "start_time": "2024-06-07T22:53:33.725308Z"
    }
   },
   "source": [
    "dados_trabalho"
   ],
   "outputs": [
    {
     "data": {
      "text/plain": [
       "      Genero      Idade  Historico_obesidade_familiar  FCCAC  FCV  NRP  CCER  \\\n",
       "0          0  21.000000                             1      0  2.0  3.0     2   \n",
       "1          0  21.000000                             1      0  3.0  3.0     2   \n",
       "2          1  23.000000                             1      0  2.0  3.0     2   \n",
       "3          1  27.000000                             0      0  3.0  3.0     2   \n",
       "4          1  22.000000                             0      0  2.0  1.0     2   \n",
       "...      ...        ...                           ...    ...  ...  ...   ...   \n",
       "2106       0  20.976842                             1      1  3.0  3.0     2   \n",
       "2107       0  21.982942                             1      1  3.0  3.0     2   \n",
       "2108       0  22.524036                             1      1  3.0  3.0     2   \n",
       "2109       0  24.361936                             1      1  3.0  3.0     2   \n",
       "2110       0  23.664709                             1      1  3.0  3.0     2   \n",
       "\n",
       "      Fumador        CA  MCC       FAF      TUDE  CBA  TRANS  Label        IMC  \n",
       "0           0  2.000000    0  0.000000  1.000000    1      4      8  24.386526  \n",
       "1           1  3.000000    1  3.000000  0.000000    2      4      8  24.238227  \n",
       "2           0  2.000000    0  2.000000  1.000000    0      4      8  23.765432  \n",
       "3           0  2.000000    0  2.000000  0.000000    0      2      0  26.851852  \n",
       "4           0  2.000000    0  0.000000  0.000000    2      4      1  28.342381  \n",
       "...       ...       ...  ...       ...       ...  ...    ...    ...        ...  \n",
       "2106        0  1.728139    0  1.676269  0.906247    2      4      6  44.901475  \n",
       "2107        0  2.005130    0  1.341390  0.599270    2      4      6  43.741923  \n",
       "2108        0  2.054193    0  1.414209  0.646288    2      4      6  43.543817  \n",
       "2109        0  2.852339    0  1.139107  0.586035    2      4      6  44.071535  \n",
       "2110        0  2.863513    0  1.026452  0.714137    2      4      6  44.144338  \n",
       "\n",
       "[2111 rows x 16 columns]"
      ],
      "text/html": [
       "<div>\n",
       "<style scoped>\n",
       "    .dataframe tbody tr th:only-of-type {\n",
       "        vertical-align: middle;\n",
       "    }\n",
       "\n",
       "    .dataframe tbody tr th {\n",
       "        vertical-align: top;\n",
       "    }\n",
       "\n",
       "    .dataframe thead th {\n",
       "        text-align: right;\n",
       "    }\n",
       "</style>\n",
       "<table border=\"1\" class=\"dataframe\">\n",
       "  <thead>\n",
       "    <tr style=\"text-align: right;\">\n",
       "      <th></th>\n",
       "      <th>Genero</th>\n",
       "      <th>Idade</th>\n",
       "      <th>Historico_obesidade_familiar</th>\n",
       "      <th>FCCAC</th>\n",
       "      <th>FCV</th>\n",
       "      <th>NRP</th>\n",
       "      <th>CCER</th>\n",
       "      <th>Fumador</th>\n",
       "      <th>CA</th>\n",
       "      <th>MCC</th>\n",
       "      <th>FAF</th>\n",
       "      <th>TUDE</th>\n",
       "      <th>CBA</th>\n",
       "      <th>TRANS</th>\n",
       "      <th>Label</th>\n",
       "      <th>IMC</th>\n",
       "    </tr>\n",
       "  </thead>\n",
       "  <tbody>\n",
       "    <tr>\n",
       "      <th>0</th>\n",
       "      <td>0</td>\n",
       "      <td>21.000000</td>\n",
       "      <td>1</td>\n",
       "      <td>0</td>\n",
       "      <td>2.0</td>\n",
       "      <td>3.0</td>\n",
       "      <td>2</td>\n",
       "      <td>0</td>\n",
       "      <td>2.000000</td>\n",
       "      <td>0</td>\n",
       "      <td>0.000000</td>\n",
       "      <td>1.000000</td>\n",
       "      <td>1</td>\n",
       "      <td>4</td>\n",
       "      <td>8</td>\n",
       "      <td>24.386526</td>\n",
       "    </tr>\n",
       "    <tr>\n",
       "      <th>1</th>\n",
       "      <td>0</td>\n",
       "      <td>21.000000</td>\n",
       "      <td>1</td>\n",
       "      <td>0</td>\n",
       "      <td>3.0</td>\n",
       "      <td>3.0</td>\n",
       "      <td>2</td>\n",
       "      <td>1</td>\n",
       "      <td>3.000000</td>\n",
       "      <td>1</td>\n",
       "      <td>3.000000</td>\n",
       "      <td>0.000000</td>\n",
       "      <td>2</td>\n",
       "      <td>4</td>\n",
       "      <td>8</td>\n",
       "      <td>24.238227</td>\n",
       "    </tr>\n",
       "    <tr>\n",
       "      <th>2</th>\n",
       "      <td>1</td>\n",
       "      <td>23.000000</td>\n",
       "      <td>1</td>\n",
       "      <td>0</td>\n",
       "      <td>2.0</td>\n",
       "      <td>3.0</td>\n",
       "      <td>2</td>\n",
       "      <td>0</td>\n",
       "      <td>2.000000</td>\n",
       "      <td>0</td>\n",
       "      <td>2.000000</td>\n",
       "      <td>1.000000</td>\n",
       "      <td>0</td>\n",
       "      <td>4</td>\n",
       "      <td>8</td>\n",
       "      <td>23.765432</td>\n",
       "    </tr>\n",
       "    <tr>\n",
       "      <th>3</th>\n",
       "      <td>1</td>\n",
       "      <td>27.000000</td>\n",
       "      <td>0</td>\n",
       "      <td>0</td>\n",
       "      <td>3.0</td>\n",
       "      <td>3.0</td>\n",
       "      <td>2</td>\n",
       "      <td>0</td>\n",
       "      <td>2.000000</td>\n",
       "      <td>0</td>\n",
       "      <td>2.000000</td>\n",
       "      <td>0.000000</td>\n",
       "      <td>0</td>\n",
       "      <td>2</td>\n",
       "      <td>0</td>\n",
       "      <td>26.851852</td>\n",
       "    </tr>\n",
       "    <tr>\n",
       "      <th>4</th>\n",
       "      <td>1</td>\n",
       "      <td>22.000000</td>\n",
       "      <td>0</td>\n",
       "      <td>0</td>\n",
       "      <td>2.0</td>\n",
       "      <td>1.0</td>\n",
       "      <td>2</td>\n",
       "      <td>0</td>\n",
       "      <td>2.000000</td>\n",
       "      <td>0</td>\n",
       "      <td>0.000000</td>\n",
       "      <td>0.000000</td>\n",
       "      <td>2</td>\n",
       "      <td>4</td>\n",
       "      <td>1</td>\n",
       "      <td>28.342381</td>\n",
       "    </tr>\n",
       "    <tr>\n",
       "      <th>...</th>\n",
       "      <td>...</td>\n",
       "      <td>...</td>\n",
       "      <td>...</td>\n",
       "      <td>...</td>\n",
       "      <td>...</td>\n",
       "      <td>...</td>\n",
       "      <td>...</td>\n",
       "      <td>...</td>\n",
       "      <td>...</td>\n",
       "      <td>...</td>\n",
       "      <td>...</td>\n",
       "      <td>...</td>\n",
       "      <td>...</td>\n",
       "      <td>...</td>\n",
       "      <td>...</td>\n",
       "      <td>...</td>\n",
       "    </tr>\n",
       "    <tr>\n",
       "      <th>2106</th>\n",
       "      <td>0</td>\n",
       "      <td>20.976842</td>\n",
       "      <td>1</td>\n",
       "      <td>1</td>\n",
       "      <td>3.0</td>\n",
       "      <td>3.0</td>\n",
       "      <td>2</td>\n",
       "      <td>0</td>\n",
       "      <td>1.728139</td>\n",
       "      <td>0</td>\n",
       "      <td>1.676269</td>\n",
       "      <td>0.906247</td>\n",
       "      <td>2</td>\n",
       "      <td>4</td>\n",
       "      <td>6</td>\n",
       "      <td>44.901475</td>\n",
       "    </tr>\n",
       "    <tr>\n",
       "      <th>2107</th>\n",
       "      <td>0</td>\n",
       "      <td>21.982942</td>\n",
       "      <td>1</td>\n",
       "      <td>1</td>\n",
       "      <td>3.0</td>\n",
       "      <td>3.0</td>\n",
       "      <td>2</td>\n",
       "      <td>0</td>\n",
       "      <td>2.005130</td>\n",
       "      <td>0</td>\n",
       "      <td>1.341390</td>\n",
       "      <td>0.599270</td>\n",
       "      <td>2</td>\n",
       "      <td>4</td>\n",
       "      <td>6</td>\n",
       "      <td>43.741923</td>\n",
       "    </tr>\n",
       "    <tr>\n",
       "      <th>2108</th>\n",
       "      <td>0</td>\n",
       "      <td>22.524036</td>\n",
       "      <td>1</td>\n",
       "      <td>1</td>\n",
       "      <td>3.0</td>\n",
       "      <td>3.0</td>\n",
       "      <td>2</td>\n",
       "      <td>0</td>\n",
       "      <td>2.054193</td>\n",
       "      <td>0</td>\n",
       "      <td>1.414209</td>\n",
       "      <td>0.646288</td>\n",
       "      <td>2</td>\n",
       "      <td>4</td>\n",
       "      <td>6</td>\n",
       "      <td>43.543817</td>\n",
       "    </tr>\n",
       "    <tr>\n",
       "      <th>2109</th>\n",
       "      <td>0</td>\n",
       "      <td>24.361936</td>\n",
       "      <td>1</td>\n",
       "      <td>1</td>\n",
       "      <td>3.0</td>\n",
       "      <td>3.0</td>\n",
       "      <td>2</td>\n",
       "      <td>0</td>\n",
       "      <td>2.852339</td>\n",
       "      <td>0</td>\n",
       "      <td>1.139107</td>\n",
       "      <td>0.586035</td>\n",
       "      <td>2</td>\n",
       "      <td>4</td>\n",
       "      <td>6</td>\n",
       "      <td>44.071535</td>\n",
       "    </tr>\n",
       "    <tr>\n",
       "      <th>2110</th>\n",
       "      <td>0</td>\n",
       "      <td>23.664709</td>\n",
       "      <td>1</td>\n",
       "      <td>1</td>\n",
       "      <td>3.0</td>\n",
       "      <td>3.0</td>\n",
       "      <td>2</td>\n",
       "      <td>0</td>\n",
       "      <td>2.863513</td>\n",
       "      <td>0</td>\n",
       "      <td>1.026452</td>\n",
       "      <td>0.714137</td>\n",
       "      <td>2</td>\n",
       "      <td>4</td>\n",
       "      <td>6</td>\n",
       "      <td>44.144338</td>\n",
       "    </tr>\n",
       "  </tbody>\n",
       "</table>\n",
       "<p>2111 rows × 16 columns</p>\n",
       "</div>"
      ]
     },
     "execution_count": 7,
     "metadata": {},
     "output_type": "execute_result"
    }
   ],
   "execution_count": 7
  },
  {
   "cell_type": "markdown",
   "id": "5b5fb126751c39de",
   "metadata": {},
   "source": [
    "## Holdout\n",
    "\n",
    "divide o dataset em target(y) e feature(x)"
   ]
  },
  {
   "cell_type": "code",
   "id": "7948a1c9a7cc46dc",
   "metadata": {
    "ExecuteTime": {
     "end_time": "2024-06-07T22:53:33.739672Z",
     "start_time": "2024-06-07T22:53:33.735556Z"
    }
   },
   "source": [
    "y = dados_trabalho.loc[:, \"Label\"].values\n",
    "X = dados_trabalho.drop([\"Label\"], axis=1).values"
   ],
   "outputs": [],
   "execution_count": 8
  },
  {
   "cell_type": "markdown",
   "id": "741bf88b9a76ae20",
   "metadata": {},
   "source": [
    "### Codificação\n",
    "\n",
    "Utilizar o ``sklearn.preprocessing.labelEncoder()`` no y"
   ]
  },
  {
   "cell_type": "code",
   "id": "74426be594d28d35",
   "metadata": {
    "ExecuteTime": {
     "end_time": "2024-06-07T22:53:33.743196Z",
     "start_time": "2024-06-07T22:53:33.740678Z"
    }
   },
   "source": [
    "labelencoder = LabelEncoder()\n",
    "y = labelencoder.fit_transform(y)"
   ],
   "outputs": [],
   "execution_count": 9
  },
  {
   "cell_type": "markdown",
   "id": "b1b31bd1ea34d0ff",
   "metadata": {},
   "source": [
    "### Divisão dos dados em treino e teste"
   ]
  },
  {
   "cell_type": "code",
   "id": "e9d8615ea5fe9006",
   "metadata": {
    "ExecuteTime": {
     "end_time": "2024-06-07T22:53:33.747886Z",
     "start_time": "2024-06-07T22:53:33.744201Z"
    }
   },
   "source": [
    "X_train, X_test, y_train, y_test = train_test_split(X, y, test_size=0.3, random_state=123)\n",
    "X_train.shape, X_test.shape"
   ],
   "outputs": [
    {
     "data": {
      "text/plain": [
       "((1477, 15), (634, 15))"
      ]
     },
     "execution_count": 10,
     "metadata": {},
     "output_type": "execute_result"
    }
   ],
   "execution_count": 10
  },
  {
   "cell_type": "markdown",
   "id": "4c30b962ee11a4a2",
   "metadata": {},
   "source": [
    "## Redes neuronais\n",
    "\n",
    "### Parametrização\n",
    "\n",
    "Estes valores podem ser ajustados, com base nos gráficos de overfitting."
   ]
  },
  {
   "cell_type": "code",
   "id": "2eab6d6a2524ddba",
   "metadata": {
    "ExecuteTime": {
     "end_time": "2024-06-07T22:53:33.750999Z",
     "start_time": "2024-06-07T22:53:33.748892Z"
    }
   },
   "source": [
    "random.set_seed(3)\n",
    "nr_colunas = 15\n",
    "#nr_colunas = 7\n",
    "#nr_colunas = 14"
   ],
   "outputs": [],
   "execution_count": 11
  },
  {
   "cell_type": "markdown",
   "id": "544d90a4d0d3aa7e",
   "metadata": {},
   "source": [
    "### Pré processamento dos dados"
   ]
  },
  {
   "cell_type": "code",
   "id": "97332ae0cc688fc7",
   "metadata": {
    "ExecuteTime": {
     "end_time": "2024-06-07T22:53:33.754882Z",
     "start_time": "2024-06-07T22:53:33.750999Z"
    }
   },
   "source": [
    "sc = StandardScaler()\n",
    "X_train = sc.fit_transform(X_train)\n",
    "X_test = sc.transform(X_test)"
   ],
   "outputs": [],
   "execution_count": 12
  },
  {
   "cell_type": "code",
   "id": "edd32d35d1bb0c40",
   "metadata": {
    "ExecuteTime": {
     "end_time": "2024-06-07T22:53:33.758848Z",
     "start_time": "2024-06-07T22:53:33.755887Z"
    }
   },
   "source": [
    "X_train.shape, X_test.shape"
   ],
   "outputs": [
    {
     "data": {
      "text/plain": [
       "((1477, 15), (634, 15))"
      ]
     },
     "execution_count": 13,
     "metadata": {},
     "output_type": "execute_result"
    }
   ],
   "execution_count": 13
  },
  {
   "cell_type": "markdown",
   "id": "905e9e1b99ef36a5",
   "metadata": {},
   "source": [
    "### Modelo \n",
    "\n",
    "Escolhi usar softmax em vez de sigmoid porque temos várias classes (9) na coluna de target.\n"
   ]
  },
  {
   "cell_type": "code",
   "id": "e4705abda04c1662",
   "metadata": {
    "ExecuteTime": {
     "end_time": "2024-06-07T22:53:33.803412Z",
     "start_time": "2024-06-07T22:53:33.759853Z"
    }
   },
   "source": [
    "#model = keras.Sequential([\n",
    "#    keras.Input(shape=(nr_colunas,)),\n",
    "#    keras.layers.Dense(3, activation=\"relu\"),\n",
    "#    keras.layers.Dense(3, activation=\"relu\"),\n",
    "\n",
    "#    keras.layers.Dense(9, activation=\"softmax\"),\n",
    "#])\n",
    "\n",
    "model = keras.Sequential([\n",
    "    keras.Input(shape=(nr_colunas,)),\n",
    "    keras.layers.Dense(64, activation=\"relu\", kernel_regularizer=l2(0.01)),\n",
    "    Dropout(0.5),\n",
    "    keras.layers.Dense(32, activation=\"relu\", kernel_regularizer=l2(0.01)),\n",
    "    Dropout(0.5),\n",
    "    keras.layers.Dense(9, activation=\"softmax\"),\n",
    "])"
   ],
   "outputs": [],
   "execution_count": 14
  },
  {
   "cell_type": "markdown",
   "id": "ebf050cfceedddc3",
   "metadata": {},
   "source": [
    "### Treino do modelo"
   ]
  },
  {
   "cell_type": "code",
   "id": "3c2a43387b436e24",
   "metadata": {
    "ExecuteTime": {
     "end_time": "2024-06-07T22:53:33.812403Z",
     "start_time": "2024-06-07T22:53:33.804416Z"
    }
   },
   "source": [
    "model.compile(\n",
    "    optimizer='adam',\n",
    "    loss='sparse_categorical_crossentropy',\n",
    "    metrics=['accuracy']\n",
    ")"
   ],
   "outputs": [],
   "execution_count": 15
  },
  {
   "cell_type": "markdown",
   "id": "7ec2ea0fbbdd3074",
   "metadata": {},
   "source": [
    "## Resumo do modelo"
   ]
  },
  {
   "cell_type": "code",
   "id": "efd35ed9199633c9",
   "metadata": {
    "ExecuteTime": {
     "end_time": "2024-06-07T22:53:33.824305Z",
     "start_time": "2024-06-07T22:53:33.813408Z"
    }
   },
   "source": [
    "model.summary()"
   ],
   "outputs": [
    {
     "data": {
      "text/plain": [
       "\u001B[1mModel: \"sequential\"\u001B[0m\n"
      ],
      "text/html": [
       "<pre style=\"white-space:pre;overflow-x:auto;line-height:normal;font-family:Menlo,'DejaVu Sans Mono',consolas,'Courier New',monospace\"><span style=\"font-weight: bold\">Model: \"sequential\"</span>\n",
       "</pre>\n"
      ]
     },
     "metadata": {},
     "output_type": "display_data"
    },
    {
     "data": {
      "text/plain": [
       "┏━━━━━━━━━━━━━━━━━━━━━━━━━━━━━━━━━┳━━━━━━━━━━━━━━━━━━━━━━━━┳━━━━━━━━━━━━━━━┓\n",
       "┃\u001B[1m \u001B[0m\u001B[1mLayer (type)                   \u001B[0m\u001B[1m \u001B[0m┃\u001B[1m \u001B[0m\u001B[1mOutput Shape          \u001B[0m\u001B[1m \u001B[0m┃\u001B[1m \u001B[0m\u001B[1m      Param #\u001B[0m\u001B[1m \u001B[0m┃\n",
       "┡━━━━━━━━━━━━━━━━━━━━━━━━━━━━━━━━━╇━━━━━━━━━━━━━━━━━━━━━━━━╇━━━━━━━━━━━━━━━┩\n",
       "│ dense (\u001B[38;5;33mDense\u001B[0m)                   │ (\u001B[38;5;45mNone\u001B[0m, \u001B[38;5;34m64\u001B[0m)             │         \u001B[38;5;34m1,024\u001B[0m │\n",
       "├─────────────────────────────────┼────────────────────────┼───────────────┤\n",
       "│ dropout (\u001B[38;5;33mDropout\u001B[0m)               │ (\u001B[38;5;45mNone\u001B[0m, \u001B[38;5;34m64\u001B[0m)             │             \u001B[38;5;34m0\u001B[0m │\n",
       "├─────────────────────────────────┼────────────────────────┼───────────────┤\n",
       "│ dense_1 (\u001B[38;5;33mDense\u001B[0m)                 │ (\u001B[38;5;45mNone\u001B[0m, \u001B[38;5;34m32\u001B[0m)             │         \u001B[38;5;34m2,080\u001B[0m │\n",
       "├─────────────────────────────────┼────────────────────────┼───────────────┤\n",
       "│ dropout_1 (\u001B[38;5;33mDropout\u001B[0m)             │ (\u001B[38;5;45mNone\u001B[0m, \u001B[38;5;34m32\u001B[0m)             │             \u001B[38;5;34m0\u001B[0m │\n",
       "├─────────────────────────────────┼────────────────────────┼───────────────┤\n",
       "│ dense_2 (\u001B[38;5;33mDense\u001B[0m)                 │ (\u001B[38;5;45mNone\u001B[0m, \u001B[38;5;34m9\u001B[0m)              │           \u001B[38;5;34m297\u001B[0m │\n",
       "└─────────────────────────────────┴────────────────────────┴───────────────┘\n"
      ],
      "text/html": [
       "<pre style=\"white-space:pre;overflow-x:auto;line-height:normal;font-family:Menlo,'DejaVu Sans Mono',consolas,'Courier New',monospace\">┏━━━━━━━━━━━━━━━━━━━━━━━━━━━━━━━━━┳━━━━━━━━━━━━━━━━━━━━━━━━┳━━━━━━━━━━━━━━━┓\n",
       "┃<span style=\"font-weight: bold\"> Layer (type)                    </span>┃<span style=\"font-weight: bold\"> Output Shape           </span>┃<span style=\"font-weight: bold\">       Param # </span>┃\n",
       "┡━━━━━━━━━━━━━━━━━━━━━━━━━━━━━━━━━╇━━━━━━━━━━━━━━━━━━━━━━━━╇━━━━━━━━━━━━━━━┩\n",
       "│ dense (<span style=\"color: #0087ff; text-decoration-color: #0087ff\">Dense</span>)                   │ (<span style=\"color: #00d7ff; text-decoration-color: #00d7ff\">None</span>, <span style=\"color: #00af00; text-decoration-color: #00af00\">64</span>)             │         <span style=\"color: #00af00; text-decoration-color: #00af00\">1,024</span> │\n",
       "├─────────────────────────────────┼────────────────────────┼───────────────┤\n",
       "│ dropout (<span style=\"color: #0087ff; text-decoration-color: #0087ff\">Dropout</span>)               │ (<span style=\"color: #00d7ff; text-decoration-color: #00d7ff\">None</span>, <span style=\"color: #00af00; text-decoration-color: #00af00\">64</span>)             │             <span style=\"color: #00af00; text-decoration-color: #00af00\">0</span> │\n",
       "├─────────────────────────────────┼────────────────────────┼───────────────┤\n",
       "│ dense_1 (<span style=\"color: #0087ff; text-decoration-color: #0087ff\">Dense</span>)                 │ (<span style=\"color: #00d7ff; text-decoration-color: #00d7ff\">None</span>, <span style=\"color: #00af00; text-decoration-color: #00af00\">32</span>)             │         <span style=\"color: #00af00; text-decoration-color: #00af00\">2,080</span> │\n",
       "├─────────────────────────────────┼────────────────────────┼───────────────┤\n",
       "│ dropout_1 (<span style=\"color: #0087ff; text-decoration-color: #0087ff\">Dropout</span>)             │ (<span style=\"color: #00d7ff; text-decoration-color: #00d7ff\">None</span>, <span style=\"color: #00af00; text-decoration-color: #00af00\">32</span>)             │             <span style=\"color: #00af00; text-decoration-color: #00af00\">0</span> │\n",
       "├─────────────────────────────────┼────────────────────────┼───────────────┤\n",
       "│ dense_2 (<span style=\"color: #0087ff; text-decoration-color: #0087ff\">Dense</span>)                 │ (<span style=\"color: #00d7ff; text-decoration-color: #00d7ff\">None</span>, <span style=\"color: #00af00; text-decoration-color: #00af00\">9</span>)              │           <span style=\"color: #00af00; text-decoration-color: #00af00\">297</span> │\n",
       "└─────────────────────────────────┴────────────────────────┴───────────────┘\n",
       "</pre>\n"
      ]
     },
     "metadata": {},
     "output_type": "display_data"
    },
    {
     "data": {
      "text/plain": [
       "\u001B[1m Total params: \u001B[0m\u001B[38;5;34m3,401\u001B[0m (13.29 KB)\n"
      ],
      "text/html": [
       "<pre style=\"white-space:pre;overflow-x:auto;line-height:normal;font-family:Menlo,'DejaVu Sans Mono',consolas,'Courier New',monospace\"><span style=\"font-weight: bold\"> Total params: </span><span style=\"color: #00af00; text-decoration-color: #00af00\">3,401</span> (13.29 KB)\n",
       "</pre>\n"
      ]
     },
     "metadata": {},
     "output_type": "display_data"
    },
    {
     "data": {
      "text/plain": [
       "\u001B[1m Trainable params: \u001B[0m\u001B[38;5;34m3,401\u001B[0m (13.29 KB)\n"
      ],
      "text/html": [
       "<pre style=\"white-space:pre;overflow-x:auto;line-height:normal;font-family:Menlo,'DejaVu Sans Mono',consolas,'Courier New',monospace\"><span style=\"font-weight: bold\"> Trainable params: </span><span style=\"color: #00af00; text-decoration-color: #00af00\">3,401</span> (13.29 KB)\n",
       "</pre>\n"
      ]
     },
     "metadata": {},
     "output_type": "display_data"
    },
    {
     "data": {
      "text/plain": [
       "\u001B[1m Non-trainable params: \u001B[0m\u001B[38;5;34m0\u001B[0m (0.00 B)\n"
      ],
      "text/html": [
       "<pre style=\"white-space:pre;overflow-x:auto;line-height:normal;font-family:Menlo,'DejaVu Sans Mono',consolas,'Courier New',monospace\"><span style=\"font-weight: bold\"> Non-trainable params: </span><span style=\"color: #00af00; text-decoration-color: #00af00\">0</span> (0.00 B)\n",
       "</pre>\n"
      ]
     },
     "metadata": {},
     "output_type": "display_data"
    }
   ],
   "execution_count": 16
  },
  {
   "cell_type": "markdown",
   "id": "61a9396db525bdc9",
   "metadata": {},
   "source": [
    "### VIsualizer"
   ]
  },
  {
   "cell_type": "code",
   "id": "c10107d17f9620e2",
   "metadata": {
    "ExecuteTime": {
     "end_time": "2024-06-07T22:53:34.245735Z",
     "start_time": "2024-06-07T22:53:33.825310Z"
    }
   },
   "source": [
    "visualizer(\n",
    "    model,\n",
    "    file_format='jpeg',\n",
    "    view=True,\n",
    "    settings=None\n",
    ")"
   ],
   "outputs": [],
   "execution_count": 17
  },
  {
   "cell_type": "markdown",
   "id": "1dcb7104685a443b",
   "metadata": {},
   "source": [
    "### Histórico"
   ]
  },
  {
   "cell_type": "code",
   "id": "dedd26646b9852fd",
   "metadata": {
    "scrolled": true,
    "ExecuteTime": {
     "end_time": "2024-06-07T22:53:36.905807Z",
     "start_time": "2024-06-07T22:53:34.246741Z"
    }
   },
   "source": [
    "history = model.fit(X_train, y_train, validation_split=0.1, epochs=30)"
   ],
   "outputs": [
    {
     "name": "stdout",
     "output_type": "stream",
     "text": [
      "Epoch 1/30\n",
      "\u001B[1m42/42\u001B[0m \u001B[32m━━━━━━━━━━━━━━━━━━━━\u001B[0m\u001B[37m\u001B[0m \u001B[1m1s\u001B[0m 3ms/step - accuracy: 0.1271 - loss: 3.0306 - val_accuracy: 0.4257 - val_loss: 2.5433\n",
      "Epoch 2/30\n",
      "\u001B[1m42/42\u001B[0m \u001B[32m━━━━━━━━━━━━━━━━━━━━\u001B[0m\u001B[37m\u001B[0m \u001B[1m0s\u001B[0m 1ms/step - accuracy: 0.2212 - loss: 2.6586 - val_accuracy: 0.4392 - val_loss: 2.3867\n",
      "Epoch 3/30\n",
      "\u001B[1m42/42\u001B[0m \u001B[32m━━━━━━━━━━━━━━━━━━━━\u001B[0m\u001B[37m\u001B[0m \u001B[1m0s\u001B[0m 1ms/step - accuracy: 0.3280 - loss: 2.4419 - val_accuracy: 0.4257 - val_loss: 2.2164\n",
      "Epoch 4/30\n",
      "\u001B[1m42/42\u001B[0m \u001B[32m━━━━━━━━━━━━━━━━━━━━\u001B[0m\u001B[37m\u001B[0m \u001B[1m0s\u001B[0m 1ms/step - accuracy: 0.3463 - loss: 2.3258 - val_accuracy: 0.4595 - val_loss: 2.0455\n",
      "Epoch 5/30\n",
      "\u001B[1m42/42\u001B[0m \u001B[32m━━━━━━━━━━━━━━━━━━━━\u001B[0m\u001B[37m\u001B[0m \u001B[1m0s\u001B[0m 1ms/step - accuracy: 0.3850 - loss: 2.1483 - val_accuracy: 0.4730 - val_loss: 1.9010\n",
      "Epoch 6/30\n",
      "\u001B[1m42/42\u001B[0m \u001B[32m━━━━━━━━━━━━━━━━━━━━\u001B[0m\u001B[37m\u001B[0m \u001B[1m0s\u001B[0m 1ms/step - accuracy: 0.4018 - loss: 2.0365 - val_accuracy: 0.4932 - val_loss: 1.7816\n",
      "Epoch 7/30\n",
      "\u001B[1m42/42\u001B[0m \u001B[32m━━━━━━━━━━━━━━━━━━━━\u001B[0m\u001B[37m\u001B[0m \u001B[1m0s\u001B[0m 1ms/step - accuracy: 0.4308 - loss: 1.9295 - val_accuracy: 0.5541 - val_loss: 1.6866\n",
      "Epoch 8/30\n",
      "\u001B[1m42/42\u001B[0m \u001B[32m━━━━━━━━━━━━━━━━━━━━\u001B[0m\u001B[37m\u001B[0m \u001B[1m0s\u001B[0m 1ms/step - accuracy: 0.4478 - loss: 1.8624 - val_accuracy: 0.6081 - val_loss: 1.5944\n",
      "Epoch 9/30\n",
      "\u001B[1m42/42\u001B[0m \u001B[32m━━━━━━━━━━━━━━━━━━━━\u001B[0m\u001B[37m\u001B[0m \u001B[1m0s\u001B[0m 995us/step - accuracy: 0.4897 - loss: 1.7730 - val_accuracy: 0.6284 - val_loss: 1.5242\n",
      "Epoch 10/30\n",
      "\u001B[1m42/42\u001B[0m \u001B[32m━━━━━━━━━━━━━━━━━━━━\u001B[0m\u001B[37m\u001B[0m \u001B[1m0s\u001B[0m 994us/step - accuracy: 0.5151 - loss: 1.6998 - val_accuracy: 0.6351 - val_loss: 1.4668\n",
      "Epoch 11/30\n",
      "\u001B[1m42/42\u001B[0m \u001B[32m━━━━━━━━━━━━━━━━━━━━\u001B[0m\u001B[37m\u001B[0m \u001B[1m0s\u001B[0m 999us/step - accuracy: 0.4854 - loss: 1.6631 - val_accuracy: 0.6486 - val_loss: 1.4099\n",
      "Epoch 12/30\n",
      "\u001B[1m42/42\u001B[0m \u001B[32m━━━━━━━━━━━━━━━━━━━━\u001B[0m\u001B[37m\u001B[0m \u001B[1m0s\u001B[0m 976us/step - accuracy: 0.5124 - loss: 1.5847 - val_accuracy: 0.6419 - val_loss: 1.3611\n",
      "Epoch 13/30\n",
      "\u001B[1m42/42\u001B[0m \u001B[32m━━━━━━━━━━━━━━━━━━━━\u001B[0m\u001B[37m\u001B[0m \u001B[1m0s\u001B[0m 1ms/step - accuracy: 0.5279 - loss: 1.5421 - val_accuracy: 0.6689 - val_loss: 1.3105\n",
      "Epoch 14/30\n",
      "\u001B[1m42/42\u001B[0m \u001B[32m━━━━━━━━━━━━━━━━━━━━\u001B[0m\u001B[37m\u001B[0m \u001B[1m0s\u001B[0m 992us/step - accuracy: 0.5527 - loss: 1.4788 - val_accuracy: 0.7095 - val_loss: 1.2720\n",
      "Epoch 15/30\n",
      "\u001B[1m42/42\u001B[0m \u001B[32m━━━━━━━━━━━━━━━━━━━━\u001B[0m\u001B[37m\u001B[0m \u001B[1m0s\u001B[0m 1ms/step - accuracy: 0.5611 - loss: 1.4498 - val_accuracy: 0.7027 - val_loss: 1.2357\n",
      "Epoch 16/30\n",
      "\u001B[1m42/42\u001B[0m \u001B[32m━━━━━━━━━━━━━━━━━━━━\u001B[0m\u001B[37m\u001B[0m \u001B[1m0s\u001B[0m 1ms/step - accuracy: 0.5721 - loss: 1.4132 - val_accuracy: 0.6959 - val_loss: 1.1974\n",
      "Epoch 17/30\n",
      "\u001B[1m42/42\u001B[0m \u001B[32m━━━━━━━━━━━━━━━━━━━━\u001B[0m\u001B[37m\u001B[0m \u001B[1m0s\u001B[0m 1ms/step - accuracy: 0.5749 - loss: 1.3932 - val_accuracy: 0.6959 - val_loss: 1.1659\n",
      "Epoch 18/30\n",
      "\u001B[1m42/42\u001B[0m \u001B[32m━━━━━━━━━━━━━━━━━━━━\u001B[0m\u001B[37m\u001B[0m \u001B[1m0s\u001B[0m 1ms/step - accuracy: 0.5773 - loss: 1.3659 - val_accuracy: 0.7297 - val_loss: 1.1355\n",
      "Epoch 19/30\n",
      "\u001B[1m42/42\u001B[0m \u001B[32m━━━━━━━━━━━━━━━━━━━━\u001B[0m\u001B[37m\u001B[0m \u001B[1m0s\u001B[0m 999us/step - accuracy: 0.5883 - loss: 1.3134 - val_accuracy: 0.7297 - val_loss: 1.1153\n",
      "Epoch 20/30\n",
      "\u001B[1m42/42\u001B[0m \u001B[32m━━━━━━━━━━━━━━━━━━━━\u001B[0m\u001B[37m\u001B[0m \u001B[1m0s\u001B[0m 1ms/step - accuracy: 0.6077 - loss: 1.2953 - val_accuracy: 0.7568 - val_loss: 1.0810\n",
      "Epoch 21/30\n",
      "\u001B[1m42/42\u001B[0m \u001B[32m━━━━━━━━━━━━━━━━━━━━\u001B[0m\u001B[37m\u001B[0m \u001B[1m0s\u001B[0m 1ms/step - accuracy: 0.6129 - loss: 1.2489 - val_accuracy: 0.7432 - val_loss: 1.0608\n",
      "Epoch 22/30\n",
      "\u001B[1m42/42\u001B[0m \u001B[32m━━━━━━━━━━━━━━━━━━━━\u001B[0m\u001B[37m\u001B[0m \u001B[1m0s\u001B[0m 1ms/step - accuracy: 0.6224 - loss: 1.2404 - val_accuracy: 0.7500 - val_loss: 1.0417\n",
      "Epoch 23/30\n",
      "\u001B[1m42/42\u001B[0m \u001B[32m━━━━━━━━━━━━━━━━━━━━\u001B[0m\u001B[37m\u001B[0m \u001B[1m0s\u001B[0m 997us/step - accuracy: 0.6301 - loss: 1.1997 - val_accuracy: 0.7905 - val_loss: 1.0133\n",
      "Epoch 24/30\n",
      "\u001B[1m42/42\u001B[0m \u001B[32m━━━━━━━━━━━━━━━━━━━━\u001B[0m\u001B[37m\u001B[0m \u001B[1m0s\u001B[0m 1ms/step - accuracy: 0.6411 - loss: 1.1723 - val_accuracy: 0.7973 - val_loss: 0.9911\n",
      "Epoch 25/30\n",
      "\u001B[1m42/42\u001B[0m \u001B[32m━━━━━━━━━━━━━━━━━━━━\u001B[0m\u001B[37m\u001B[0m \u001B[1m0s\u001B[0m 995us/step - accuracy: 0.6418 - loss: 1.1836 - val_accuracy: 0.8041 - val_loss: 0.9767\n",
      "Epoch 26/30\n",
      "\u001B[1m42/42\u001B[0m \u001B[32m━━━━━━━━━━━━━━━━━━━━\u001B[0m\u001B[37m\u001B[0m \u001B[1m0s\u001B[0m 992us/step - accuracy: 0.6500 - loss: 1.1617 - val_accuracy: 0.8041 - val_loss: 0.9626\n",
      "Epoch 27/30\n",
      "\u001B[1m42/42\u001B[0m \u001B[32m━━━━━━━━━━━━━━━━━━━━\u001B[0m\u001B[37m\u001B[0m \u001B[1m0s\u001B[0m 986us/step - accuracy: 0.6657 - loss: 1.1375 - val_accuracy: 0.8041 - val_loss: 0.9511\n",
      "Epoch 28/30\n",
      "\u001B[1m42/42\u001B[0m \u001B[32m━━━━━━━━━━━━━━━━━━━━\u001B[0m\u001B[37m\u001B[0m \u001B[1m0s\u001B[0m 1ms/step - accuracy: 0.6450 - loss: 1.1325 - val_accuracy: 0.8041 - val_loss: 0.9372\n",
      "Epoch 29/30\n",
      "\u001B[1m42/42\u001B[0m \u001B[32m━━━━━━━━━━━━━━━━━━━━\u001B[0m\u001B[37m\u001B[0m \u001B[1m0s\u001B[0m 1ms/step - accuracy: 0.6483 - loss: 1.1310 - val_accuracy: 0.8108 - val_loss: 0.9184\n",
      "Epoch 30/30\n",
      "\u001B[1m42/42\u001B[0m \u001B[32m━━━━━━━━━━━━━━━━━━━━\u001B[0m\u001B[37m\u001B[0m \u001B[1m0s\u001B[0m 1ms/step - accuracy: 0.6639 - loss: 1.1101 - val_accuracy: 0.8311 - val_loss: 0.8969\n"
     ]
    }
   ],
   "execution_count": 18
  },
  {
   "cell_type": "markdown",
   "id": "83f5f508ee830196",
   "metadata": {},
   "source": [
    "### Previsões"
   ]
  },
  {
   "cell_type": "code",
   "id": "59d645e5",
   "metadata": {
    "ExecuteTime": {
     "end_time": "2024-06-07T22:53:39.857462Z",
     "start_time": "2024-06-07T22:53:36.906811Z"
    }
   },
   "source": [
    "#NOTA: os valores podem mudar muito ligeiramente sempre que executado e podem estar diferentes dos do artigo\n",
    "#mas a classe prevista é sempre a mesma\n",
    "Nhidden=(64,32)\n",
    "nn = MLPRegressor(hidden_layer_sizes=Nhidden,\n",
    "                                          activation='tanh',\n",
    "                                          solver='lbfgs', max_iter=1000, learning_rate_init=0.001)\n",
    "nn.fit(X_train, y_train)\n",
    "# Make prediction\n",
    "pred = nn.predict(X_test)\n",
    "#\n",
    "# Calculate accuracy and error metrics\n",
    "#\n",
    "test_set_rsquared = nn.score(X_test, y_test)\n",
    "test_set_rmse = np.sqrt(mean_squared_error(y_test, pred))\n",
    "#\n",
    "# Print R_squared and RMSE value\n",
    "#\n",
    "print('R_squared value: ', test_set_rsquared)\n",
    "print('RMSE: ', test_set_rmse)"
   ],
   "outputs": [
    {
     "name": "stdout",
     "output_type": "stream",
     "text": [
      "R_squared value:  0.22368267428314437\n",
      "RMSE:  2.4732619387464525\n"
     ]
    }
   ],
   "execution_count": 19
  },
  {
   "cell_type": "markdown",
   "id": "bd35ac89",
   "metadata": {},
   "source": [
    "### Avaliações ao modelo"
   ]
  },
  {
   "cell_type": "code",
   "id": "49154c4e55074fa4",
   "metadata": {
    "ExecuteTime": {
     "end_time": "2024-06-07T22:53:40.045788Z",
     "start_time": "2024-06-07T22:53:39.858468Z"
    }
   },
   "source": [
    "plt.plot(history.history[\"loss\"], label=\"Training Loss\")\n",
    "plt.plot(history.history[\"val_loss\"], label=\"Validation Loss\")\n",
    "plt.title(\"Model Loss\")\n",
    "plt.ylabel(\"Loss\")\n",
    "plt.xlabel(\"Epoch\")\n",
    "plt.legend(loc=\"upper right\")\n",
    "plt.show()\n"
   ],
   "outputs": [
    {
     "data": {
      "text/plain": [
       "<Figure size 1440x1080 with 1 Axes>"
      ],
      "image/png": "[encoded data removed]"
     },
     "metadata": {},
     "output_type": "display_data"
    }
   ],
   "execution_count": 20
  },
  {
   "cell_type": "markdown",
   "id": "ec169bb05554e05f",
   "metadata": {},
   "source": [
    "#### Model Accuracy"
   ]
  },
  {
   "cell_type": "code",
   "id": "e546aa61a2468834",
   "metadata": {
    "ExecuteTime": {
     "end_time": "2024-06-07T22:53:40.224014Z",
     "start_time": "2024-06-07T22:53:40.046796Z"
    }
   },
   "source": [
    "plt.plot(history.history[\"accuracy\"], label=\"Training Data\")\n",
    "#adicionei esta linha debaixo\n",
    "plt.plot(history.history[\"val_accuracy\"], label=\"Validation Data\")\n",
    "plt.title(\"Model Accuracy\")\n",
    "plt.ylabel(\"Accuracy\")\n",
    "plt.xlabel(\"Epoch\")\n",
    "plt.legend(loc=\"lower right\")\n",
    "plt.show()"
   ],
   "outputs": [
    {
     "data": {
      "text/plain": [
       "<Figure size 1440x1080 with 1 Axes>"
      ],
      "image/png": "[encoded data removed]"
     },
     "metadata": {},
     "output_type": "display_data"
    }
   ],
   "execution_count": 21
  },
  {
   "cell_type": "code",
   "id": "28da6cb86556fcbe",
   "metadata": {
    "ExecuteTime": {
     "end_time": "2024-06-07T22:53:40.330350Z",
     "start_time": "2024-06-07T22:53:40.225020Z"
    }
   },
   "source": [
    "#NOTA: os valores podem mudar muito ligeiramente sempre que executado e podem estar diferentes dos do artigo\n",
    "import numpy as np\n",
    "y_pred = np.argmax(model.predict(X_test), axis=1)\n",
    "\n",
    "# Calculando a acurÃ¡cia\n",
    "accuracy = accuracy_score(y_test, y_pred)\n",
    "print(f'Accuracy: {accuracy:.4f}')\n",
    "\n",
    "# Calculando a sensibilidade (recall)\n",
    "sensitivity = recall_score(y_test, y_pred, average='macro')\n",
    "#print(f'Sensitivity (Recall): {sensitivity:.4f}')\n",
    "\n",
    "# Calculando a especificidade\n",
    "# A especificidade Ã© um pouco mais complexa, vamos calcular manualmente usando a matriz de confusÃ£o\n",
    "cm = confusion_matrix(y_test, y_pred)\n",
    "specificity = []\n",
    "for i in range(len(cm)):\n",
    "    tn = cm.sum() - (cm[i, :].sum() + cm[:, i].sum() - cm[i, i])\n",
    "    fp = cm[:, i].sum() - cm[i, i]\n",
    "    specificity.append(tn / (tn + fp))\n",
    "specificity = np.mean(specificity)\n",
    "#print(f'Specificity: {specificity:.4f}')\n",
    "\n",
    "# Calculando o F1-Score\n",
    "f1 = f1_score(y_test, y_pred, average='macro')\n",
    "#print(f'F1-Score: {f1:.4f}')\n",
    "\n",
    "# RelatÃ³rio detalhado de classificaÃ§Ã£o\n",
    "print(\"\\nClassification Report:\")\n",
    "print(classification_report(y_test, y_pred))\n"
   ],
   "outputs": [
    {
     "name": "stdout",
     "output_type": "stream",
     "text": [
      "\u001B[1m20/20\u001B[0m \u001B[32m━━━━━━━━━━━━━━━━━━━━\u001B[0m\u001B[37m\u001B[0m \u001B[1m0s\u001B[0m 1ms/step \n",
      "Accuracy: 0.8107\n",
      "\n",
      "Classification Report:\n",
      "              precision    recall  f1-score   support\n",
      "\n",
      "           0       0.68      0.96      0.80        85\n",
      "           1       0.95      0.73      0.82        74\n",
      "           2       0.64      0.86      0.73        59\n",
      "           3       0.00      0.00      0.00        21\n",
      "           4       0.00      0.00      0.00         4\n",
      "           5       0.98      0.86      0.91       111\n",
      "           6       0.83      0.99      0.90        87\n",
      "           7       0.86      0.82      0.84       105\n",
      "           8       0.80      0.68      0.74        88\n",
      "\n",
      "    accuracy                           0.81       634\n",
      "   macro avg       0.64      0.66      0.64       634\n",
      "weighted avg       0.80      0.81      0.80       634\n",
      "\n"
     ]
    }
   ],
   "execution_count": 22
  },
  {
   "cell_type": "markdown",
   "id": "ae3d3b2a",
   "metadata": {},
   "source": [
    "### Avaliação k-fold"
   ]
  },
  {
   "cell_type": "code",
   "id": "916935ff",
   "metadata": {
    "ExecuteTime": {
     "end_time": "2024-06-07T22:53:40.335063Z",
     "start_time": "2024-06-07T22:53:40.330869Z"
    }
   },
   "source": [
    "def kfold_indices(data, k):\n",
    "    fold_size = len(data) // k\n",
    "    indices = np.arange(len(data))\n",
    "    folds = []\n",
    "    for i in range(k):\n",
    "        test_indices = indices[i * fold_size: (i + 1) * fold_size]\n",
    "        train_indices = np.concatenate([indices[:i * fold_size], indices[(i + 1) * fold_size:]])\n",
    "        folds.append((train_indices, test_indices))\n",
    "    return folds\n",
    "# Define the number of folds (K)\n",
    "k = 5\n",
    "# Get the fold indices\n",
    "fold_indices = kfold_indices(X, k)"
   ],
   "outputs": [],
   "execution_count": 23
  },
  {
   "cell_type": "code",
   "id": "6416f791",
   "metadata": {
    "ExecuteTime": {
     "end_time": "2024-06-07T22:53:52.762495Z",
     "start_time": "2024-06-07T22:53:40.336069Z"
    }
   },
   "source": [
    "scores = []\n",
    "prevs_folds = []\n",
    "y_folds = []\n",
    "\n",
    "scores = []\n",
    "prevs_folds = []\n",
    "y_folds = []\n",
    "\n",
    "# Iterate through each fold\n",
    "for train_indices, test_indices in fold_indices:\n",
    "    X_train, y_train = X[train_indices], y[train_indices]\n",
    "    X_test, y_test = X[test_indices], y[test_indices]\n",
    "\n",
    "    # Define the model\n",
    "    model = keras.Sequential([\n",
    "        keras.Input(shape=(X_train.shape[1],)),\n",
    "        Dense(64, activation=\"relu\", kernel_regularizer=l2(0.01)),\n",
    "        Dropout(0.5),\n",
    "        Dense(32, activation=\"relu\", kernel_regularizer=l2(0.01)),\n",
    "        Dropout(0.5),\n",
    "        Dense(9, activation=\"softmax\"),\n",
    "    ])\n",
    "    \n",
    "    # Compile the model\n",
    "    model.compile(\n",
    "        optimizer='adam',\n",
    "        loss='sparse_categorical_crossentropy',\n",
    "        metrics=['accuracy']\n",
    "    )\n",
    "    \n",
    "    # Train the model\n",
    "    model.fit(X_train, y_train, validation_split=0.1, epochs=30, verbose=0)\n",
    "    \n",
    "    # Make predictions on the test data\n",
    "    #usou-se o argmax como o predict já não funcionaria para a rede neuronal. O argmax é ideal quando se trata de problema de classificação!!!!!!!!!!!!!!!!!\n",
    "    \n",
    "    y_pred = np.argmax(model.predict(X_test), axis=1)\n",
    "\n",
    "    # Calculate the accuracy score for this fold\n",
    "    fold_score = accuracy_score(y_test, y_pred)\n",
    "\n",
    "    # Append the fold score to the list of scores\n",
    "    scores.append(fold_score)\n",
    "\n",
    "    # Append the prevs and labels of the test set\n",
    "    prevs_folds.append(y_pred)\n",
    "    y_folds.append(y_test)\n",
    "\n",
    "# Calculate the mean accuracy across all folds\n",
    "mean_accuracy = np.mean(scores)\n",
    "std_accuracy = np.std(scores)\n",
    "\n",
    "print(\"K-Fold Cross-Validation Scores:\", scores)\n",
    "print(\"Mean Accuracy:\", mean_accuracy)\n",
    "print(\"Standard Deviation:\", std_accuracy)\n"
   ],
   "outputs": [
    {
     "name": "stdout",
     "output_type": "stream",
     "text": [
      "\u001B[1m14/14\u001B[0m \u001B[32m━━━━━━━━━━━━━━━━━━━━\u001B[0m\u001B[37m\u001B[0m \u001B[1m0s\u001B[0m 2ms/step \n",
      "\u001B[1m14/14\u001B[0m \u001B[32m━━━━━━━━━━━━━━━━━━━━\u001B[0m\u001B[37m\u001B[0m \u001B[1m0s\u001B[0m 2ms/step \n",
      "\u001B[1m14/14\u001B[0m \u001B[32m━━━━━━━━━━━━━━━━━━━━\u001B[0m\u001B[37m\u001B[0m \u001B[1m0s\u001B[0m 2ms/step \n",
      "\u001B[1m14/14\u001B[0m \u001B[32m━━━━━━━━━━━━━━━━━━━━\u001B[0m\u001B[37m\u001B[0m \u001B[1m0s\u001B[0m 2ms/step \n",
      "\u001B[1m14/14\u001B[0m \u001B[32m━━━━━━━━━━━━━━━━━━━━\u001B[0m\u001B[37m\u001B[0m \u001B[1m0s\u001B[0m 2ms/step \n",
      "K-Fold Cross-Validation Scores: [0.22748815165876776, 0.17772511848341233, 0.0924170616113744, 0.2843601895734597, 0.009478672985781991]\n",
      "Mean Accuracy: 0.15829383886255924\n",
      "Standard Deviation: 0.09751292807473481\n"
     ]
    }
   ],
   "execution_count": 24
  }
 ],
 "metadata": {
  "kernelspec": {
   "display_name": "Python 3 (ipykernel)",
   "language": "python",
   "name": "python3"
  },
  "language_info": {
   "codemirror_mode": {
    "name": "ipython",
    "version": 3
   },
   "file_extension": ".py",
   "mimetype": "text/x-python",
   "name": "python",
   "nbconvert_exporter": "python",
   "pygments_lexer": "ipython3",
   "version": "3.11.4"
  }
 },
 "nbformat": 4,
 "nbformat_minor": 5
}
