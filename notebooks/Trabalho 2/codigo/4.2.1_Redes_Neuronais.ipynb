{
 "cells": [
  {
   "metadata": {},
   "cell_type": "markdown",
   "source": [
    "# Trabalho 2\n",
    "\n",
    "## 4.2.1 Redes Neuronais\n",
    "\n",
    "Neste notebook está o código relacionado com as Redes Neuronais na sua utilização para classificação.\n",
    "\n",
    "### Imports"
   ],
   "id": "6088aada86d4442b"
  },
  {
   "metadata": {
    "ExecuteTime": {
     "end_time": "2024-05-29T15:01:07.669403Z",
     "start_time": "2024-05-29T15:00:58.045471Z"
    }
   },
   "cell_type": "code",
   "source": [
    "import warnings\n",
    "\n",
    "import matplotlib.pyplot as plt\n",
    "import pandas as pd\n",
    "from sklearn.preprocessing import LabelEncoder, StandardScaler\n",
    "from sklearn.model_selection import train_test_split\n",
    "from tensorflow import keras, random\n",
    "from keras_visualizer import visualizer\n",
    "\n",
    "import utilidades as ut"
   ],
   "id": "c14b967b812d083b",
   "outputs": [],
   "execution_count": 1
  },
  {
   "metadata": {},
   "cell_type": "markdown",
   "source": "### Inicializações e variáveis",
   "id": "ff02a40a70bf478d"
  },
  {
   "metadata": {
    "ExecuteTime": {
     "end_time": "2024-05-29T15:01:07.716451Z",
     "start_time": "2024-05-29T15:01:07.672395Z"
    }
   },
   "cell_type": "code",
   "source": [
    "warnings.filterwarnings(\"ignore\")  # Desabilitar warnings.\n",
    "# Garantir que se utiliza um estilo definido centralmente e comum a todos os gráficos.\n",
    "plt.style.use(\"style/estilo.mplstyle\")\n",
    "# plt.style.use('ggplot')\n",
    "\n",
    "%matplotlib inline\n",
    "\n",
    "label_encoder = LabelEncoder()\n",
    "\n",
    "ficheiro = \"dados_preparados.csv\"\n",
    "colunas_numericas = [\"Idade\", \"FCV\", \"NRP\", \"CA\", \"FAF\", \"TUDE\", \"IMC\"]\n",
    "colunas_classes = [\"Genero\", \"Historico_obesidade_familiar\", \"FCCAC\", \"Fumador\", \"MCC\", \"CCER\", \"CBA\", \"TRANS\"]\n",
    "colunas_classes_binarias = ['Genero', 'Historico_obesidade_familiar', 'FCCAC', 'Fumador', 'MCC']\n",
    "colunas_classes_multiplos = [\"CCER\", \"CBA\", \"TRANS\", \"Label\"]"
   ],
   "id": "bff4210b269d953e",
   "outputs": [],
   "execution_count": 2
  },
  {
   "metadata": {},
   "cell_type": "markdown",
   "source": "## Leitura dos dados preparados",
   "id": "dfa043fc61ddba02"
  },
  {
   "metadata": {
    "ExecuteTime": {
     "end_time": "2024-05-29T15:01:07.748585Z",
     "start_time": "2024-05-29T15:01:07.719419Z"
    }
   },
   "cell_type": "code",
   "source": "dados_trabalho = pd.read_csv(ficheiro)",
   "id": "15f9fff826ebd90c",
   "outputs": [],
   "execution_count": 3
  },
  {
   "metadata": {
    "ExecuteTime": {
     "end_time": "2024-05-29T15:01:07.779659Z",
     "start_time": "2024-05-29T15:01:07.750499Z"
    }
   },
   "cell_type": "code",
   "source": "dados_trabalho",
   "id": "23f741d3f20d3773",
   "outputs": [
    {
     "data": {
      "text/plain": [
       "         Genero      Idade Historico_obesidade_familiar FCCAC  FCV  NRP  \\\n",
       "0      Feminino  21.000000                          Sim   Nao  2.0  3.0   \n",
       "1      Feminino  21.000000                          Sim   Nao  3.0  3.0   \n",
       "2     Masculino  23.000000                          Sim   Nao  2.0  3.0   \n",
       "3     Masculino  27.000000                          Nao   Nao  3.0  3.0   \n",
       "4     Masculino  22.000000                          Nao   Nao  2.0  1.0   \n",
       "...         ...        ...                          ...   ...  ...  ...   \n",
       "2106   Feminino  20.976842                          Sim   Sim  3.0  3.0   \n",
       "2107   Feminino  21.982942                          Sim   Sim  3.0  3.0   \n",
       "2108   Feminino  22.524036                          Sim   Sim  3.0  3.0   \n",
       "2109   Feminino  24.361936                          Sim   Sim  3.0  3.0   \n",
       "2110   Feminino  23.664709                          Sim   Sim  3.0  3.0   \n",
       "\n",
       "                CCER Fumador        CA  MCC       FAF      TUDE  \\\n",
       "0     Ocasionalmente     Nao  2.000000  Nao  0.000000  1.000000   \n",
       "1     Ocasionalmente     Sim  3.000000  Sim  3.000000  0.000000   \n",
       "2     Ocasionalmente     Nao  2.000000  Nao  2.000000  1.000000   \n",
       "3     Ocasionalmente     Nao  2.000000  Nao  2.000000  0.000000   \n",
       "4     Ocasionalmente     Nao  2.000000  Nao  0.000000  0.000000   \n",
       "...              ...     ...       ...  ...       ...       ...   \n",
       "2106  Ocasionalmente     Nao  1.728139  Nao  1.676269  0.906247   \n",
       "2107  Ocasionalmente     Nao  2.005130  Nao  1.341390  0.599270   \n",
       "2108  Ocasionalmente     Nao  2.054193  Nao  1.414209  0.646288   \n",
       "2109  Ocasionalmente     Nao  2.852339  Nao  1.139107  0.586035   \n",
       "2110  Ocasionalmente     Nao  2.863513  Nao  1.026452  0.714137   \n",
       "\n",
       "                 CBA                 TRANS                 Label        IMC  \n",
       "0                Nao  Transportes_Publicos           Peso_Normal  24.386526  \n",
       "1     Ocasionalmente  Transportes_Publicos           Peso_Normal  24.238227  \n",
       "2     Frequentemente  Transportes_Publicos           Peso_Normal  23.765432  \n",
       "3     Frequentemente             Caminhada   Excesso_Peso_Grau_I  26.851852  \n",
       "4     Ocasionalmente  Transportes_Publicos  Excesso_Peso_Grau_II  28.342381  \n",
       "...              ...                   ...                   ...        ...  \n",
       "2106  Ocasionalmente  Transportes_Publicos     Obesidade_Mórbida  44.901475  \n",
       "2107  Ocasionalmente  Transportes_Publicos     Obesidade_Mórbida  43.741923  \n",
       "2108  Ocasionalmente  Transportes_Publicos     Obesidade_Mórbida  43.543817  \n",
       "2109  Ocasionalmente  Transportes_Publicos     Obesidade_Mórbida  44.071535  \n",
       "2110  Ocasionalmente  Transportes_Publicos     Obesidade_Mórbida  44.144338  \n",
       "\n",
       "[2111 rows x 16 columns]"
      ],
      "text/html": [
       "<div>\n",
       "<style scoped>\n",
       "    .dataframe tbody tr th:only-of-type {\n",
       "        vertical-align: middle;\n",
       "    }\n",
       "\n",
       "    .dataframe tbody tr th {\n",
       "        vertical-align: top;\n",
       "    }\n",
       "\n",
       "    .dataframe thead th {\n",
       "        text-align: right;\n",
       "    }\n",
       "</style>\n",
       "<table border=\"1\" class=\"dataframe\">\n",
       "  <thead>\n",
       "    <tr style=\"text-align: right;\">\n",
       "      <th></th>\n",
       "      <th>Genero</th>\n",
       "      <th>Idade</th>\n",
       "      <th>Historico_obesidade_familiar</th>\n",
       "      <th>FCCAC</th>\n",
       "      <th>FCV</th>\n",
       "      <th>NRP</th>\n",
       "      <th>CCER</th>\n",
       "      <th>Fumador</th>\n",
       "      <th>CA</th>\n",
       "      <th>MCC</th>\n",
       "      <th>FAF</th>\n",
       "      <th>TUDE</th>\n",
       "      <th>CBA</th>\n",
       "      <th>TRANS</th>\n",
       "      <th>Label</th>\n",
       "      <th>IMC</th>\n",
       "    </tr>\n",
       "  </thead>\n",
       "  <tbody>\n",
       "    <tr>\n",
       "      <th>0</th>\n",
       "      <td>Feminino</td>\n",
       "      <td>21.000000</td>\n",
       "      <td>Sim</td>\n",
       "      <td>Nao</td>\n",
       "      <td>2.0</td>\n",
       "      <td>3.0</td>\n",
       "      <td>Ocasionalmente</td>\n",
       "      <td>Nao</td>\n",
       "      <td>2.000000</td>\n",
       "      <td>Nao</td>\n",
       "      <td>0.000000</td>\n",
       "      <td>1.000000</td>\n",
       "      <td>Nao</td>\n",
       "      <td>Transportes_Publicos</td>\n",
       "      <td>Peso_Normal</td>\n",
       "      <td>24.386526</td>\n",
       "    </tr>\n",
       "    <tr>\n",
       "      <th>1</th>\n",
       "      <td>Feminino</td>\n",
       "      <td>21.000000</td>\n",
       "      <td>Sim</td>\n",
       "      <td>Nao</td>\n",
       "      <td>3.0</td>\n",
       "      <td>3.0</td>\n",
       "      <td>Ocasionalmente</td>\n",
       "      <td>Sim</td>\n",
       "      <td>3.000000</td>\n",
       "      <td>Sim</td>\n",
       "      <td>3.000000</td>\n",
       "      <td>0.000000</td>\n",
       "      <td>Ocasionalmente</td>\n",
       "      <td>Transportes_Publicos</td>\n",
       "      <td>Peso_Normal</td>\n",
       "      <td>24.238227</td>\n",
       "    </tr>\n",
       "    <tr>\n",
       "      <th>2</th>\n",
       "      <td>Masculino</td>\n",
       "      <td>23.000000</td>\n",
       "      <td>Sim</td>\n",
       "      <td>Nao</td>\n",
       "      <td>2.0</td>\n",
       "      <td>3.0</td>\n",
       "      <td>Ocasionalmente</td>\n",
       "      <td>Nao</td>\n",
       "      <td>2.000000</td>\n",
       "      <td>Nao</td>\n",
       "      <td>2.000000</td>\n",
       "      <td>1.000000</td>\n",
       "      <td>Frequentemente</td>\n",
       "      <td>Transportes_Publicos</td>\n",
       "      <td>Peso_Normal</td>\n",
       "      <td>23.765432</td>\n",
       "    </tr>\n",
       "    <tr>\n",
       "      <th>3</th>\n",
       "      <td>Masculino</td>\n",
       "      <td>27.000000</td>\n",
       "      <td>Nao</td>\n",
       "      <td>Nao</td>\n",
       "      <td>3.0</td>\n",
       "      <td>3.0</td>\n",
       "      <td>Ocasionalmente</td>\n",
       "      <td>Nao</td>\n",
       "      <td>2.000000</td>\n",
       "      <td>Nao</td>\n",
       "      <td>2.000000</td>\n",
       "      <td>0.000000</td>\n",
       "      <td>Frequentemente</td>\n",
       "      <td>Caminhada</td>\n",
       "      <td>Excesso_Peso_Grau_I</td>\n",
       "      <td>26.851852</td>\n",
       "    </tr>\n",
       "    <tr>\n",
       "      <th>4</th>\n",
       "      <td>Masculino</td>\n",
       "      <td>22.000000</td>\n",
       "      <td>Nao</td>\n",
       "      <td>Nao</td>\n",
       "      <td>2.0</td>\n",
       "      <td>1.0</td>\n",
       "      <td>Ocasionalmente</td>\n",
       "      <td>Nao</td>\n",
       "      <td>2.000000</td>\n",
       "      <td>Nao</td>\n",
       "      <td>0.000000</td>\n",
       "      <td>0.000000</td>\n",
       "      <td>Ocasionalmente</td>\n",
       "      <td>Transportes_Publicos</td>\n",
       "      <td>Excesso_Peso_Grau_II</td>\n",
       "      <td>28.342381</td>\n",
       "    </tr>\n",
       "    <tr>\n",
       "      <th>...</th>\n",
       "      <td>...</td>\n",
       "      <td>...</td>\n",
       "      <td>...</td>\n",
       "      <td>...</td>\n",
       "      <td>...</td>\n",
       "      <td>...</td>\n",
       "      <td>...</td>\n",
       "      <td>...</td>\n",
       "      <td>...</td>\n",
       "      <td>...</td>\n",
       "      <td>...</td>\n",
       "      <td>...</td>\n",
       "      <td>...</td>\n",
       "      <td>...</td>\n",
       "      <td>...</td>\n",
       "      <td>...</td>\n",
       "    </tr>\n",
       "    <tr>\n",
       "      <th>2106</th>\n",
       "      <td>Feminino</td>\n",
       "      <td>20.976842</td>\n",
       "      <td>Sim</td>\n",
       "      <td>Sim</td>\n",
       "      <td>3.0</td>\n",
       "      <td>3.0</td>\n",
       "      <td>Ocasionalmente</td>\n",
       "      <td>Nao</td>\n",
       "      <td>1.728139</td>\n",
       "      <td>Nao</td>\n",
       "      <td>1.676269</td>\n",
       "      <td>0.906247</td>\n",
       "      <td>Ocasionalmente</td>\n",
       "      <td>Transportes_Publicos</td>\n",
       "      <td>Obesidade_Mórbida</td>\n",
       "      <td>44.901475</td>\n",
       "    </tr>\n",
       "    <tr>\n",
       "      <th>2107</th>\n",
       "      <td>Feminino</td>\n",
       "      <td>21.982942</td>\n",
       "      <td>Sim</td>\n",
       "      <td>Sim</td>\n",
       "      <td>3.0</td>\n",
       "      <td>3.0</td>\n",
       "      <td>Ocasionalmente</td>\n",
       "      <td>Nao</td>\n",
       "      <td>2.005130</td>\n",
       "      <td>Nao</td>\n",
       "      <td>1.341390</td>\n",
       "      <td>0.599270</td>\n",
       "      <td>Ocasionalmente</td>\n",
       "      <td>Transportes_Publicos</td>\n",
       "      <td>Obesidade_Mórbida</td>\n",
       "      <td>43.741923</td>\n",
       "    </tr>\n",
       "    <tr>\n",
       "      <th>2108</th>\n",
       "      <td>Feminino</td>\n",
       "      <td>22.524036</td>\n",
       "      <td>Sim</td>\n",
       "      <td>Sim</td>\n",
       "      <td>3.0</td>\n",
       "      <td>3.0</td>\n",
       "      <td>Ocasionalmente</td>\n",
       "      <td>Nao</td>\n",
       "      <td>2.054193</td>\n",
       "      <td>Nao</td>\n",
       "      <td>1.414209</td>\n",
       "      <td>0.646288</td>\n",
       "      <td>Ocasionalmente</td>\n",
       "      <td>Transportes_Publicos</td>\n",
       "      <td>Obesidade_Mórbida</td>\n",
       "      <td>43.543817</td>\n",
       "    </tr>\n",
       "    <tr>\n",
       "      <th>2109</th>\n",
       "      <td>Feminino</td>\n",
       "      <td>24.361936</td>\n",
       "      <td>Sim</td>\n",
       "      <td>Sim</td>\n",
       "      <td>3.0</td>\n",
       "      <td>3.0</td>\n",
       "      <td>Ocasionalmente</td>\n",
       "      <td>Nao</td>\n",
       "      <td>2.852339</td>\n",
       "      <td>Nao</td>\n",
       "      <td>1.139107</td>\n",
       "      <td>0.586035</td>\n",
       "      <td>Ocasionalmente</td>\n",
       "      <td>Transportes_Publicos</td>\n",
       "      <td>Obesidade_Mórbida</td>\n",
       "      <td>44.071535</td>\n",
       "    </tr>\n",
       "    <tr>\n",
       "      <th>2110</th>\n",
       "      <td>Feminino</td>\n",
       "      <td>23.664709</td>\n",
       "      <td>Sim</td>\n",
       "      <td>Sim</td>\n",
       "      <td>3.0</td>\n",
       "      <td>3.0</td>\n",
       "      <td>Ocasionalmente</td>\n",
       "      <td>Nao</td>\n",
       "      <td>2.863513</td>\n",
       "      <td>Nao</td>\n",
       "      <td>1.026452</td>\n",
       "      <td>0.714137</td>\n",
       "      <td>Ocasionalmente</td>\n",
       "      <td>Transportes_Publicos</td>\n",
       "      <td>Obesidade_Mórbida</td>\n",
       "      <td>44.144338</td>\n",
       "    </tr>\n",
       "  </tbody>\n",
       "</table>\n",
       "<p>2111 rows × 16 columns</p>\n",
       "</div>"
      ]
     },
     "execution_count": 4,
     "metadata": {},
     "output_type": "execute_result"
    }
   ],
   "execution_count": 4
  },
  {
   "metadata": {},
   "cell_type": "markdown",
   "source": "Temos no entanto de realizar primeiro o encoding das classes para valores numéricos, esta operação é realizada usando o ``sklearn.preprocessing.LabelEncoder`` em todas as colunas com apenas 2 classes.",
   "id": "e1c7142f110b0028"
  },
  {
   "metadata": {
    "ExecuteTime": {
     "end_time": "2024-05-29T15:01:07.810605Z",
     "start_time": "2024-05-29T15:01:07.781667Z"
    }
   },
   "cell_type": "code",
   "source": [
    "ut.titulo(\"Valores codificados por atributo\")\n",
    "\n",
    "# for coluna in colunas_classes_binarias:\n",
    "for coluna in colunas_classes:\n",
    "    if dados_trabalho[coluna].dtype == 'object':\n",
    "        dados_trabalho[coluna] = label_encoder.fit_transform(dados_trabalho[coluna].values)\n",
    "        ut.etiqueta_e_valor(coluna, str(sorted(dados_trabalho[coluna].unique())))"
   ],
   "id": "8c3bba6242ebfd4f",
   "outputs": [
    {
     "name": "stdout",
     "output_type": "stream",
     "text": [
      "\u001B[21;30;44mValores codificados por atributo\u001B[0m\n",
      "\u001B[0;94mGenero: \u001B[1;94m[0, 1]\u001B[0m\n",
      "\u001B[0;94mHistorico_obesidade_familiar: \u001B[1;94m[0, 1]\u001B[0m\n",
      "\u001B[0;94mFCCAC: \u001B[1;94m[0, 1]\u001B[0m\n",
      "\u001B[0;94mFumador: \u001B[1;94m[0, 1]\u001B[0m\n",
      "\u001B[0;94mMCC: \u001B[1;94m[0, 1]\u001B[0m\n",
      "\u001B[0;94mCCER: \u001B[1;94m[0, 1, 2, 3]\u001B[0m\n",
      "\u001B[0;94mCBA: \u001B[1;94m[0, 1, 2, 3]\u001B[0m\n",
      "\u001B[0;94mTRANS: \u001B[1;94m[0, 1, 2, 3, 4]\u001B[0m\n"
     ]
    }
   ],
   "execution_count": 5
  },
  {
   "metadata": {},
   "cell_type": "markdown",
   "source": "?? Para colunas que têm mais que 2 classes precisamos de utilizar o ``pandas.get_dummies()``.",
   "id": "5a415825a54ddf09"
  },
  {
   "metadata": {
    "ExecuteTime": {
     "end_time": "2024-05-29T15:01:07.826307Z",
     "start_time": "2024-05-29T15:01:07.813423Z"
    }
   },
   "cell_type": "code",
   "source": "# dados_trabalho = pd.get_dummies(dados_trabalho, dtype=float)",
   "id": "dd671df73a4ae6dc",
   "outputs": [],
   "execution_count": 6
  },
  {
   "metadata": {
    "ExecuteTime": {
     "end_time": "2024-05-29T15:01:07.857426Z",
     "start_time": "2024-05-29T15:01:07.829134Z"
    }
   },
   "cell_type": "code",
   "source": "dados_trabalho",
   "id": "2fd81a67ed77365a",
   "outputs": [
    {
     "data": {
      "text/plain": [
       "      Genero      Idade  Historico_obesidade_familiar  FCCAC  FCV  NRP  CCER  \\\n",
       "0          0  21.000000                             1      0  2.0  3.0     2   \n",
       "1          0  21.000000                             1      0  3.0  3.0     2   \n",
       "2          1  23.000000                             1      0  2.0  3.0     2   \n",
       "3          1  27.000000                             0      0  3.0  3.0     2   \n",
       "4          1  22.000000                             0      0  2.0  1.0     2   \n",
       "...      ...        ...                           ...    ...  ...  ...   ...   \n",
       "2106       0  20.976842                             1      1  3.0  3.0     2   \n",
       "2107       0  21.982942                             1      1  3.0  3.0     2   \n",
       "2108       0  22.524036                             1      1  3.0  3.0     2   \n",
       "2109       0  24.361936                             1      1  3.0  3.0     2   \n",
       "2110       0  23.664709                             1      1  3.0  3.0     2   \n",
       "\n",
       "      Fumador        CA  MCC       FAF      TUDE  CBA  TRANS  \\\n",
       "0           0  2.000000    0  0.000000  1.000000    1      4   \n",
       "1           1  3.000000    1  3.000000  0.000000    2      4   \n",
       "2           0  2.000000    0  2.000000  1.000000    0      4   \n",
       "3           0  2.000000    0  2.000000  0.000000    0      2   \n",
       "4           0  2.000000    0  0.000000  0.000000    2      4   \n",
       "...       ...       ...  ...       ...       ...  ...    ...   \n",
       "2106        0  1.728139    0  1.676269  0.906247    2      4   \n",
       "2107        0  2.005130    0  1.341390  0.599270    2      4   \n",
       "2108        0  2.054193    0  1.414209  0.646288    2      4   \n",
       "2109        0  2.852339    0  1.139107  0.586035    2      4   \n",
       "2110        0  2.863513    0  1.026452  0.714137    2      4   \n",
       "\n",
       "                     Label        IMC  \n",
       "0              Peso_Normal  24.386526  \n",
       "1              Peso_Normal  24.238227  \n",
       "2              Peso_Normal  23.765432  \n",
       "3      Excesso_Peso_Grau_I  26.851852  \n",
       "4     Excesso_Peso_Grau_II  28.342381  \n",
       "...                    ...        ...  \n",
       "2106     Obesidade_Mórbida  44.901475  \n",
       "2107     Obesidade_Mórbida  43.741923  \n",
       "2108     Obesidade_Mórbida  43.543817  \n",
       "2109     Obesidade_Mórbida  44.071535  \n",
       "2110     Obesidade_Mórbida  44.144338  \n",
       "\n",
       "[2111 rows x 16 columns]"
      ],
      "text/html": [
       "<div>\n",
       "<style scoped>\n",
       "    .dataframe tbody tr th:only-of-type {\n",
       "        vertical-align: middle;\n",
       "    }\n",
       "\n",
       "    .dataframe tbody tr th {\n",
       "        vertical-align: top;\n",
       "    }\n",
       "\n",
       "    .dataframe thead th {\n",
       "        text-align: right;\n",
       "    }\n",
       "</style>\n",
       "<table border=\"1\" class=\"dataframe\">\n",
       "  <thead>\n",
       "    <tr style=\"text-align: right;\">\n",
       "      <th></th>\n",
       "      <th>Genero</th>\n",
       "      <th>Idade</th>\n",
       "      <th>Historico_obesidade_familiar</th>\n",
       "      <th>FCCAC</th>\n",
       "      <th>FCV</th>\n",
       "      <th>NRP</th>\n",
       "      <th>CCER</th>\n",
       "      <th>Fumador</th>\n",
       "      <th>CA</th>\n",
       "      <th>MCC</th>\n",
       "      <th>FAF</th>\n",
       "      <th>TUDE</th>\n",
       "      <th>CBA</th>\n",
       "      <th>TRANS</th>\n",
       "      <th>Label</th>\n",
       "      <th>IMC</th>\n",
       "    </tr>\n",
       "  </thead>\n",
       "  <tbody>\n",
       "    <tr>\n",
       "      <th>0</th>\n",
       "      <td>0</td>\n",
       "      <td>21.000000</td>\n",
       "      <td>1</td>\n",
       "      <td>0</td>\n",
       "      <td>2.0</td>\n",
       "      <td>3.0</td>\n",
       "      <td>2</td>\n",
       "      <td>0</td>\n",
       "      <td>2.000000</td>\n",
       "      <td>0</td>\n",
       "      <td>0.000000</td>\n",
       "      <td>1.000000</td>\n",
       "      <td>1</td>\n",
       "      <td>4</td>\n",
       "      <td>Peso_Normal</td>\n",
       "      <td>24.386526</td>\n",
       "    </tr>\n",
       "    <tr>\n",
       "      <th>1</th>\n",
       "      <td>0</td>\n",
       "      <td>21.000000</td>\n",
       "      <td>1</td>\n",
       "      <td>0</td>\n",
       "      <td>3.0</td>\n",
       "      <td>3.0</td>\n",
       "      <td>2</td>\n",
       "      <td>1</td>\n",
       "      <td>3.000000</td>\n",
       "      <td>1</td>\n",
       "      <td>3.000000</td>\n",
       "      <td>0.000000</td>\n",
       "      <td>2</td>\n",
       "      <td>4</td>\n",
       "      <td>Peso_Normal</td>\n",
       "      <td>24.238227</td>\n",
       "    </tr>\n",
       "    <tr>\n",
       "      <th>2</th>\n",
       "      <td>1</td>\n",
       "      <td>23.000000</td>\n",
       "      <td>1</td>\n",
       "      <td>0</td>\n",
       "      <td>2.0</td>\n",
       "      <td>3.0</td>\n",
       "      <td>2</td>\n",
       "      <td>0</td>\n",
       "      <td>2.000000</td>\n",
       "      <td>0</td>\n",
       "      <td>2.000000</td>\n",
       "      <td>1.000000</td>\n",
       "      <td>0</td>\n",
       "      <td>4</td>\n",
       "      <td>Peso_Normal</td>\n",
       "      <td>23.765432</td>\n",
       "    </tr>\n",
       "    <tr>\n",
       "      <th>3</th>\n",
       "      <td>1</td>\n",
       "      <td>27.000000</td>\n",
       "      <td>0</td>\n",
       "      <td>0</td>\n",
       "      <td>3.0</td>\n",
       "      <td>3.0</td>\n",
       "      <td>2</td>\n",
       "      <td>0</td>\n",
       "      <td>2.000000</td>\n",
       "      <td>0</td>\n",
       "      <td>2.000000</td>\n",
       "      <td>0.000000</td>\n",
       "      <td>0</td>\n",
       "      <td>2</td>\n",
       "      <td>Excesso_Peso_Grau_I</td>\n",
       "      <td>26.851852</td>\n",
       "    </tr>\n",
       "    <tr>\n",
       "      <th>4</th>\n",
       "      <td>1</td>\n",
       "      <td>22.000000</td>\n",
       "      <td>0</td>\n",
       "      <td>0</td>\n",
       "      <td>2.0</td>\n",
       "      <td>1.0</td>\n",
       "      <td>2</td>\n",
       "      <td>0</td>\n",
       "      <td>2.000000</td>\n",
       "      <td>0</td>\n",
       "      <td>0.000000</td>\n",
       "      <td>0.000000</td>\n",
       "      <td>2</td>\n",
       "      <td>4</td>\n",
       "      <td>Excesso_Peso_Grau_II</td>\n",
       "      <td>28.342381</td>\n",
       "    </tr>\n",
       "    <tr>\n",
       "      <th>...</th>\n",
       "      <td>...</td>\n",
       "      <td>...</td>\n",
       "      <td>...</td>\n",
       "      <td>...</td>\n",
       "      <td>...</td>\n",
       "      <td>...</td>\n",
       "      <td>...</td>\n",
       "      <td>...</td>\n",
       "      <td>...</td>\n",
       "      <td>...</td>\n",
       "      <td>...</td>\n",
       "      <td>...</td>\n",
       "      <td>...</td>\n",
       "      <td>...</td>\n",
       "      <td>...</td>\n",
       "      <td>...</td>\n",
       "    </tr>\n",
       "    <tr>\n",
       "      <th>2106</th>\n",
       "      <td>0</td>\n",
       "      <td>20.976842</td>\n",
       "      <td>1</td>\n",
       "      <td>1</td>\n",
       "      <td>3.0</td>\n",
       "      <td>3.0</td>\n",
       "      <td>2</td>\n",
       "      <td>0</td>\n",
       "      <td>1.728139</td>\n",
       "      <td>0</td>\n",
       "      <td>1.676269</td>\n",
       "      <td>0.906247</td>\n",
       "      <td>2</td>\n",
       "      <td>4</td>\n",
       "      <td>Obesidade_Mórbida</td>\n",
       "      <td>44.901475</td>\n",
       "    </tr>\n",
       "    <tr>\n",
       "      <th>2107</th>\n",
       "      <td>0</td>\n",
       "      <td>21.982942</td>\n",
       "      <td>1</td>\n",
       "      <td>1</td>\n",
       "      <td>3.0</td>\n",
       "      <td>3.0</td>\n",
       "      <td>2</td>\n",
       "      <td>0</td>\n",
       "      <td>2.005130</td>\n",
       "      <td>0</td>\n",
       "      <td>1.341390</td>\n",
       "      <td>0.599270</td>\n",
       "      <td>2</td>\n",
       "      <td>4</td>\n",
       "      <td>Obesidade_Mórbida</td>\n",
       "      <td>43.741923</td>\n",
       "    </tr>\n",
       "    <tr>\n",
       "      <th>2108</th>\n",
       "      <td>0</td>\n",
       "      <td>22.524036</td>\n",
       "      <td>1</td>\n",
       "      <td>1</td>\n",
       "      <td>3.0</td>\n",
       "      <td>3.0</td>\n",
       "      <td>2</td>\n",
       "      <td>0</td>\n",
       "      <td>2.054193</td>\n",
       "      <td>0</td>\n",
       "      <td>1.414209</td>\n",
       "      <td>0.646288</td>\n",
       "      <td>2</td>\n",
       "      <td>4</td>\n",
       "      <td>Obesidade_Mórbida</td>\n",
       "      <td>43.543817</td>\n",
       "    </tr>\n",
       "    <tr>\n",
       "      <th>2109</th>\n",
       "      <td>0</td>\n",
       "      <td>24.361936</td>\n",
       "      <td>1</td>\n",
       "      <td>1</td>\n",
       "      <td>3.0</td>\n",
       "      <td>3.0</td>\n",
       "      <td>2</td>\n",
       "      <td>0</td>\n",
       "      <td>2.852339</td>\n",
       "      <td>0</td>\n",
       "      <td>1.139107</td>\n",
       "      <td>0.586035</td>\n",
       "      <td>2</td>\n",
       "      <td>4</td>\n",
       "      <td>Obesidade_Mórbida</td>\n",
       "      <td>44.071535</td>\n",
       "    </tr>\n",
       "    <tr>\n",
       "      <th>2110</th>\n",
       "      <td>0</td>\n",
       "      <td>23.664709</td>\n",
       "      <td>1</td>\n",
       "      <td>1</td>\n",
       "      <td>3.0</td>\n",
       "      <td>3.0</td>\n",
       "      <td>2</td>\n",
       "      <td>0</td>\n",
       "      <td>2.863513</td>\n",
       "      <td>0</td>\n",
       "      <td>1.026452</td>\n",
       "      <td>0.714137</td>\n",
       "      <td>2</td>\n",
       "      <td>4</td>\n",
       "      <td>Obesidade_Mórbida</td>\n",
       "      <td>44.144338</td>\n",
       "    </tr>\n",
       "  </tbody>\n",
       "</table>\n",
       "<p>2111 rows × 16 columns</p>\n",
       "</div>"
      ]
     },
     "execution_count": 7,
     "metadata": {},
     "output_type": "execute_result"
    }
   ],
   "execution_count": 7
  },
  {
   "metadata": {},
   "cell_type": "markdown",
   "source": [
    "## Holdout\n",
    "\n",
    "divide o dataset em target(y) e feature(x)"
   ],
   "id": "5b5fb126751c39de"
  },
  {
   "metadata": {
    "ExecuteTime": {
     "end_time": "2024-05-29T15:01:07.873147Z",
     "start_time": "2024-05-29T15:01:07.859285Z"
    }
   },
   "cell_type": "code",
   "source": [
    "y = dados_trabalho.loc[:, \"Label\"].values\n",
    "X = dados_trabalho.drop([\"Label\"], axis=1).values"
   ],
   "id": "7948a1c9a7cc46dc",
   "outputs": [],
   "execution_count": 8
  },
  {
   "metadata": {},
   "cell_type": "markdown",
   "source": [
    "### Codificação\n",
    "\n",
    "Utilizar o ``sklearn.preprocessing.labelEncoder()`` no y"
   ],
   "id": "741bf88b9a76ae20"
  },
  {
   "metadata": {
    "ExecuteTime": {
     "end_time": "2024-05-29T15:01:07.888119Z",
     "start_time": "2024-05-29T15:01:07.875122Z"
    }
   },
   "cell_type": "code",
   "source": [
    "labelencoder = LabelEncoder()\n",
    "y = labelencoder.fit_transform(y)"
   ],
   "id": "74426be594d28d35",
   "outputs": [],
   "execution_count": 9
  },
  {
   "metadata": {},
   "cell_type": "markdown",
   "source": "### Divisão dos dados em treino e teste",
   "id": "b1b31bd1ea34d0ff"
  },
  {
   "metadata": {
    "ExecuteTime": {
     "end_time": "2024-05-29T15:01:07.904309Z",
     "start_time": "2024-05-29T15:01:07.889119Z"
    }
   },
   "cell_type": "code",
   "source": [
    "X_train, X_test, y_train, y_test = train_test_split(X, y, test_size=0.3, random_state=123)\n",
    "X_train.shape, X_test.shape"
   ],
   "id": "e9d8615ea5fe9006",
   "outputs": [
    {
     "data": {
      "text/plain": [
       "((1477, 15), (634, 15))"
      ]
     },
     "execution_count": 10,
     "metadata": {},
     "output_type": "execute_result"
    }
   ],
   "execution_count": 10
  },
  {
   "metadata": {},
   "cell_type": "markdown",
   "source": [
    "## Redes neuronais\n",
    "\n",
    "### Parametrização\n",
    "\n",
    "Estes valores podem ser ajustados, com base nos gráficos de overfitting."
   ],
   "id": "4c30b962ee11a4a2"
  },
  {
   "metadata": {
    "ExecuteTime": {
     "end_time": "2024-05-29T15:01:07.919559Z",
     "start_time": "2024-05-29T15:01:07.906230Z"
    }
   },
   "cell_type": "code",
   "source": [
    "random.set_seed(3)\n",
    "nr_colunas = 15"
   ],
   "id": "2eab6d6a2524ddba",
   "outputs": [],
   "execution_count": 11
  },
  {
   "metadata": {},
   "cell_type": "markdown",
   "source": "### Pré processamento dos dados",
   "id": "544d90a4d0d3aa7e"
  },
  {
   "metadata": {
    "ExecuteTime": {
     "end_time": "2024-05-29T15:01:07.935555Z",
     "start_time": "2024-05-29T15:01:07.922731Z"
    }
   },
   "cell_type": "code",
   "source": [
    "sc = StandardScaler()\n",
    "X_train = sc.fit_transform(X_train)\n",
    "X_test = sc.transform(X_test)"
   ],
   "id": "97332ae0cc688fc7",
   "outputs": [],
   "execution_count": 12
  },
  {
   "metadata": {
    "ExecuteTime": {
     "end_time": "2024-05-29T15:01:07.966034Z",
     "start_time": "2024-05-29T15:01:07.936694Z"
    }
   },
   "cell_type": "code",
   "source": "X_train.shape, X_test.shape",
   "id": "edd32d35d1bb0c40",
   "outputs": [
    {
     "data": {
      "text/plain": [
       "((1477, 15), (634, 15))"
      ]
     },
     "execution_count": 13,
     "metadata": {},
     "output_type": "execute_result"
    }
   ],
   "execution_count": 13
  },
  {
   "metadata": {},
   "cell_type": "markdown",
   "source": [
    "### Modelo \n",
    "\n",
    "Escolhi usar softmax em vez de sigmoid porque temos várias classes (9) na coluna de target.\n"
   ],
   "id": "905e9e1b99ef36a5"
  },
  {
   "metadata": {
    "ExecuteTime": {
     "end_time": "2024-05-29T15:01:08.043121Z",
     "start_time": "2024-05-29T15:01:07.967877Z"
    }
   },
   "cell_type": "code",
   "source": [
    "model = keras.Sequential([\n",
    "    keras.Input(shape=(nr_colunas,)),\n",
    "    keras.layers.Dense(3, activation=\"relu\"),\n",
    "\n",
    "    keras.layers.Dense(9, activation=\"softmax\"),\n",
    "])"
   ],
   "id": "e4705abda04c1662",
   "outputs": [],
   "execution_count": 14
  },
  {
   "metadata": {},
   "cell_type": "markdown",
   "source": "### Treino do modelo",
   "id": "ebf050cfceedddc3"
  },
  {
   "metadata": {
    "ExecuteTime": {
     "end_time": "2024-05-29T15:01:08.073353Z",
     "start_time": "2024-05-29T15:01:08.044975Z"
    }
   },
   "cell_type": "code",
   "source": [
    "model.compile(\n",
    "    optimizer='adam',\n",
    "    loss='sparse_categorical_crossentropy',\n",
    "    metrics=['accuracy']\n",
    ")"
   ],
   "id": "3c2a43387b436e24",
   "outputs": [],
   "execution_count": 15
  },
  {
   "metadata": {},
   "cell_type": "markdown",
   "source": "## Resumo do modelo",
   "id": "7ec2ea0fbbdd3074"
  },
  {
   "metadata": {
    "ExecuteTime": {
     "end_time": "2024-05-29T15:01:08.104494Z",
     "start_time": "2024-05-29T15:01:08.075247Z"
    }
   },
   "cell_type": "code",
   "source": "model.summary()",
   "id": "efd35ed9199633c9",
   "outputs": [
    {
     "data": {
      "text/plain": [
       "\u001B[1mModel: \"sequential\"\u001B[0m\n"
      ],
      "text/html": [
       "<pre style=\"white-space:pre;overflow-x:auto;line-height:normal;font-family:Menlo,'DejaVu Sans Mono',consolas,'Courier New',monospace\"><span style=\"font-weight: bold\">Model: \"sequential\"</span>\n",
       "</pre>\n"
      ]
     },
     "metadata": {},
     "output_type": "display_data"
    },
    {
     "data": {
      "text/plain": [
       "┏━━━━━━━━━━━━━━━━━━━━━━━━━━━━━━━━━┳━━━━━━━━━━━━━━━━━━━━━━━━┳━━━━━━━━━━━━━━━┓\n",
       "┃\u001B[1m \u001B[0m\u001B[1mLayer (type)                   \u001B[0m\u001B[1m \u001B[0m┃\u001B[1m \u001B[0m\u001B[1mOutput Shape          \u001B[0m\u001B[1m \u001B[0m┃\u001B[1m \u001B[0m\u001B[1m      Param #\u001B[0m\u001B[1m \u001B[0m┃\n",
       "┡━━━━━━━━━━━━━━━━━━━━━━━━━━━━━━━━━╇━━━━━━━━━━━━━━━━━━━━━━━━╇━━━━━━━━━━━━━━━┩\n",
       "│ dense (\u001B[38;5;33mDense\u001B[0m)                   │ (\u001B[38;5;45mNone\u001B[0m, \u001B[38;5;34m3\u001B[0m)              │            \u001B[38;5;34m48\u001B[0m │\n",
       "├─────────────────────────────────┼────────────────────────┼───────────────┤\n",
       "│ dense_1 (\u001B[38;5;33mDense\u001B[0m)                 │ (\u001B[38;5;45mNone\u001B[0m, \u001B[38;5;34m9\u001B[0m)              │            \u001B[38;5;34m36\u001B[0m │\n",
       "└─────────────────────────────────┴────────────────────────┴───────────────┘\n"
      ],
      "text/html": [
       "<pre style=\"white-space:pre;overflow-x:auto;line-height:normal;font-family:Menlo,'DejaVu Sans Mono',consolas,'Courier New',monospace\">┏━━━━━━━━━━━━━━━━━━━━━━━━━━━━━━━━━┳━━━━━━━━━━━━━━━━━━━━━━━━┳━━━━━━━━━━━━━━━┓\n",
       "┃<span style=\"font-weight: bold\"> Layer (type)                    </span>┃<span style=\"font-weight: bold\"> Output Shape           </span>┃<span style=\"font-weight: bold\">       Param # </span>┃\n",
       "┡━━━━━━━━━━━━━━━━━━━━━━━━━━━━━━━━━╇━━━━━━━━━━━━━━━━━━━━━━━━╇━━━━━━━━━━━━━━━┩\n",
       "│ dense (<span style=\"color: #0087ff; text-decoration-color: #0087ff\">Dense</span>)                   │ (<span style=\"color: #00d7ff; text-decoration-color: #00d7ff\">None</span>, <span style=\"color: #00af00; text-decoration-color: #00af00\">3</span>)              │            <span style=\"color: #00af00; text-decoration-color: #00af00\">48</span> │\n",
       "├─────────────────────────────────┼────────────────────────┼───────────────┤\n",
       "│ dense_1 (<span style=\"color: #0087ff; text-decoration-color: #0087ff\">Dense</span>)                 │ (<span style=\"color: #00d7ff; text-decoration-color: #00d7ff\">None</span>, <span style=\"color: #00af00; text-decoration-color: #00af00\">9</span>)              │            <span style=\"color: #00af00; text-decoration-color: #00af00\">36</span> │\n",
       "└─────────────────────────────────┴────────────────────────┴───────────────┘\n",
       "</pre>\n"
      ]
     },
     "metadata": {},
     "output_type": "display_data"
    },
    {
     "data": {
      "text/plain": [
       "\u001B[1m Total params: \u001B[0m\u001B[38;5;34m84\u001B[0m (336.00 B)\n"
      ],
      "text/html": [
       "<pre style=\"white-space:pre;overflow-x:auto;line-height:normal;font-family:Menlo,'DejaVu Sans Mono',consolas,'Courier New',monospace\"><span style=\"font-weight: bold\"> Total params: </span><span style=\"color: #00af00; text-decoration-color: #00af00\">84</span> (336.00 B)\n",
       "</pre>\n"
      ]
     },
     "metadata": {},
     "output_type": "display_data"
    },
    {
     "data": {
      "text/plain": [
       "\u001B[1m Trainable params: \u001B[0m\u001B[38;5;34m84\u001B[0m (336.00 B)\n"
      ],
      "text/html": [
       "<pre style=\"white-space:pre;overflow-x:auto;line-height:normal;font-family:Menlo,'DejaVu Sans Mono',consolas,'Courier New',monospace\"><span style=\"font-weight: bold\"> Trainable params: </span><span style=\"color: #00af00; text-decoration-color: #00af00\">84</span> (336.00 B)\n",
       "</pre>\n"
      ]
     },
     "metadata": {},
     "output_type": "display_data"
    },
    {
     "data": {
      "text/plain": [
       "\u001B[1m Non-trainable params: \u001B[0m\u001B[38;5;34m0\u001B[0m (0.00 B)\n"
      ],
      "text/html": [
       "<pre style=\"white-space:pre;overflow-x:auto;line-height:normal;font-family:Menlo,'DejaVu Sans Mono',consolas,'Courier New',monospace\"><span style=\"font-weight: bold\"> Non-trainable params: </span><span style=\"color: #00af00; text-decoration-color: #00af00\">0</span> (0.00 B)\n",
       "</pre>\n"
      ]
     },
     "metadata": {},
     "output_type": "display_data"
    }
   ],
   "execution_count": 16
  },
  {
   "metadata": {},
   "cell_type": "markdown",
   "source": "### VIsualizer",
   "id": "61a9396db525bdc9"
  },
  {
   "metadata": {
    "ExecuteTime": {
     "end_time": "2024-05-29T15:01:08.885052Z",
     "start_time": "2024-05-29T15:01:08.108508Z"
    }
   },
   "cell_type": "code",
   "source": [
    "visualizer(\n",
    "    model,\n",
    "    file_format='jpeg',\n",
    "    view=True,\n",
    "    settings=None\n",
    ")"
   ],
   "id": "c10107d17f9620e2",
   "outputs": [],
   "execution_count": 17
  },
  {
   "metadata": {},
   "cell_type": "markdown",
   "source": "### Histórico",
   "id": "1dcb7104685a443b"
  },
  {
   "metadata": {
    "ExecuteTime": {
     "end_time": "2024-05-29T15:01:12.153746Z",
     "start_time": "2024-05-29T15:01:08.887054Z"
    }
   },
   "cell_type": "code",
   "source": "history = model.fit(X_train, y_train, validation_split=0.1, epochs=30)",
   "id": "dedd26646b9852fd",
   "outputs": [
    {
     "name": "stdout",
     "output_type": "stream",
     "text": [
      "Epoch 1/30\n",
      "\u001B[1m42/42\u001B[0m \u001B[32m━━━━━━━━━━━━━━━━━━━━\u001B[0m\u001B[37m\u001B[0m \u001B[1m1s\u001B[0m 4ms/step - accuracy: 0.1427 - loss: 2.2098 - val_accuracy: 0.1689 - val_loss: 2.2051\n",
      "Epoch 2/30\n",
      "\u001B[1m42/42\u001B[0m \u001B[32m━━━━━━━━━━━━━━━━━━━━\u001B[0m\u001B[37m\u001B[0m \u001B[1m0s\u001B[0m 1ms/step - accuracy: 0.1415 - loss: 2.1530 - val_accuracy: 0.1959 - val_loss: 2.1526\n",
      "Epoch 3/30\n",
      "\u001B[1m42/42\u001B[0m \u001B[32m━━━━━━━━━━━━━━━━━━━━\u001B[0m\u001B[37m\u001B[0m \u001B[1m0s\u001B[0m 1ms/step - accuracy: 0.1524 - loss: 2.1088 - val_accuracy: 0.2162 - val_loss: 2.1098\n",
      "Epoch 4/30\n",
      "\u001B[1m42/42\u001B[0m \u001B[32m━━━━━━━━━━━━━━━━━━━━\u001B[0m\u001B[37m\u001B[0m \u001B[1m0s\u001B[0m 1ms/step - accuracy: 0.1591 - loss: 2.0717 - val_accuracy: 0.2365 - val_loss: 2.0727\n",
      "Epoch 5/30\n",
      "\u001B[1m42/42\u001B[0m \u001B[32m━━━━━━━━━━━━━━━━━━━━\u001B[0m\u001B[37m\u001B[0m \u001B[1m0s\u001B[0m 1ms/step - accuracy: 0.1753 - loss: 2.0392 - val_accuracy: 0.2365 - val_loss: 2.0397\n",
      "Epoch 6/30\n",
      "\u001B[1m42/42\u001B[0m \u001B[32m━━━━━━━━━━━━━━━━━━━━\u001B[0m\u001B[37m\u001B[0m \u001B[1m0s\u001B[0m 1ms/step - accuracy: 0.1960 - loss: 2.0093 - val_accuracy: 0.3378 - val_loss: 2.0091\n",
      "Epoch 7/30\n",
      "\u001B[1m42/42\u001B[0m \u001B[32m━━━━━━━━━━━━━━━━━━━━\u001B[0m\u001B[37m\u001B[0m \u001B[1m0s\u001B[0m 1ms/step - accuracy: 0.2882 - loss: 1.9811 - val_accuracy: 0.3649 - val_loss: 1.9811\n",
      "Epoch 8/30\n",
      "\u001B[1m42/42\u001B[0m \u001B[32m━━━━━━━━━━━━━━━━━━━━\u001B[0m\u001B[37m\u001B[0m \u001B[1m0s\u001B[0m 1ms/step - accuracy: 0.3100 - loss: 1.9528 - val_accuracy: 0.3649 - val_loss: 1.9539\n",
      "Epoch 9/30\n",
      "\u001B[1m42/42\u001B[0m \u001B[32m━━━━━━━━━━━━━━━━━━━━\u001B[0m\u001B[37m\u001B[0m \u001B[1m0s\u001B[0m 1ms/step - accuracy: 0.3235 - loss: 1.9247 - val_accuracy: 0.3649 - val_loss: 1.9269\n",
      "Epoch 10/30\n",
      "\u001B[1m42/42\u001B[0m \u001B[32m━━━━━━━━━━━━━━━━━━━━\u001B[0m\u001B[37m\u001B[0m \u001B[1m0s\u001B[0m 1ms/step - accuracy: 0.3278 - loss: 1.8964 - val_accuracy: 0.3581 - val_loss: 1.9004\n",
      "Epoch 11/30\n",
      "\u001B[1m42/42\u001B[0m \u001B[32m━━━━━━━━━━━━━━━━━━━━\u001B[0m\u001B[37m\u001B[0m \u001B[1m0s\u001B[0m 1ms/step - accuracy: 0.3403 - loss: 1.8679 - val_accuracy: 0.3716 - val_loss: 1.8729\n",
      "Epoch 12/30\n",
      "\u001B[1m42/42\u001B[0m \u001B[32m━━━━━━━━━━━━━━━━━━━━\u001B[0m\u001B[37m\u001B[0m \u001B[1m0s\u001B[0m 1ms/step - accuracy: 0.3516 - loss: 1.8393 - val_accuracy: 0.3851 - val_loss: 1.8458\n",
      "Epoch 13/30\n",
      "\u001B[1m42/42\u001B[0m \u001B[32m━━━━━━━━━━━━━━━━━━━━\u001B[0m\u001B[37m\u001B[0m \u001B[1m0s\u001B[0m 1ms/step - accuracy: 0.3805 - loss: 1.8108 - val_accuracy: 0.3986 - val_loss: 1.8193\n",
      "Epoch 14/30\n",
      "\u001B[1m42/42\u001B[0m \u001B[32m━━━━━━━━━━━━━━━━━━━━\u001B[0m\u001B[37m\u001B[0m \u001B[1m0s\u001B[0m 1ms/step - accuracy: 0.3834 - loss: 1.7819 - val_accuracy: 0.3986 - val_loss: 1.7932\n",
      "Epoch 15/30\n",
      "\u001B[1m42/42\u001B[0m \u001B[32m━━━━━━━━━━━━━━━━━━━━\u001B[0m\u001B[37m\u001B[0m \u001B[1m0s\u001B[0m 1ms/step - accuracy: 0.3903 - loss: 1.7530 - val_accuracy: 0.4122 - val_loss: 1.7664\n",
      "Epoch 16/30\n",
      "\u001B[1m42/42\u001B[0m \u001B[32m━━━━━━━━━━━━━━━━━━━━\u001B[0m\u001B[37m\u001B[0m \u001B[1m0s\u001B[0m 1ms/step - accuracy: 0.3980 - loss: 1.7243 - val_accuracy: 0.4257 - val_loss: 1.7397\n",
      "Epoch 17/30\n",
      "\u001B[1m42/42\u001B[0m \u001B[32m━━━━━━━━━━━━━━━━━━━━\u001B[0m\u001B[37m\u001B[0m \u001B[1m0s\u001B[0m 1ms/step - accuracy: 0.4089 - loss: 1.6957 - val_accuracy: 0.4459 - val_loss: 1.7133\n",
      "Epoch 18/30\n",
      "\u001B[1m42/42\u001B[0m \u001B[32m━━━━━━━━━━━━━━━━━━━━\u001B[0m\u001B[37m\u001B[0m \u001B[1m0s\u001B[0m 1ms/step - accuracy: 0.4239 - loss: 1.6675 - val_accuracy: 0.4595 - val_loss: 1.6872\n",
      "Epoch 19/30\n",
      "\u001B[1m42/42\u001B[0m \u001B[32m━━━━━━━━━━━━━━━━━━━━\u001B[0m\u001B[37m\u001B[0m \u001B[1m0s\u001B[0m 1ms/step - accuracy: 0.4249 - loss: 1.6401 - val_accuracy: 0.4595 - val_loss: 1.6609\n",
      "Epoch 20/30\n",
      "\u001B[1m42/42\u001B[0m \u001B[32m━━━━━━━━━━━━━━━━━━━━\u001B[0m\u001B[37m\u001B[0m \u001B[1m0s\u001B[0m 1ms/step - accuracy: 0.4233 - loss: 1.6134 - val_accuracy: 0.4797 - val_loss: 1.6349\n",
      "Epoch 21/30\n",
      "\u001B[1m42/42\u001B[0m \u001B[32m━━━━━━━━━━━━━━━━━━━━\u001B[0m\u001B[37m\u001B[0m \u001B[1m0s\u001B[0m 1ms/step - accuracy: 0.4468 - loss: 1.5869 - val_accuracy: 0.4797 - val_loss: 1.6088\n",
      "Epoch 22/30\n",
      "\u001B[1m42/42\u001B[0m \u001B[32m━━━━━━━━━━━━━━━━━━━━\u001B[0m\u001B[37m\u001B[0m \u001B[1m0s\u001B[0m 1ms/step - accuracy: 0.4854 - loss: 1.5613 - val_accuracy: 0.5135 - val_loss: 1.5834\n",
      "Epoch 23/30\n",
      "\u001B[1m42/42\u001B[0m \u001B[32m━━━━━━━━━━━━━━━━━━━━\u001B[0m\u001B[37m\u001B[0m \u001B[1m0s\u001B[0m 1ms/step - accuracy: 0.5173 - loss: 1.5367 - val_accuracy: 0.5203 - val_loss: 1.5588\n",
      "Epoch 24/30\n",
      "\u001B[1m42/42\u001B[0m \u001B[32m━━━━━━━━━━━━━━━━━━━━\u001B[0m\u001B[37m\u001B[0m \u001B[1m0s\u001B[0m 1ms/step - accuracy: 0.5220 - loss: 1.5132 - val_accuracy: 0.5270 - val_loss: 1.5347\n",
      "Epoch 25/30\n",
      "\u001B[1m42/42\u001B[0m \u001B[32m━━━━━━━━━━━━━━━━━━━━\u001B[0m\u001B[37m\u001B[0m \u001B[1m0s\u001B[0m 1ms/step - accuracy: 0.5356 - loss: 1.4908 - val_accuracy: 0.5338 - val_loss: 1.5107\n",
      "Epoch 26/30\n",
      "\u001B[1m42/42\u001B[0m \u001B[32m━━━━━━━━━━━━━━━━━━━━\u001B[0m\u001B[37m\u001B[0m \u001B[1m0s\u001B[0m 1ms/step - accuracy: 0.5468 - loss: 1.4692 - val_accuracy: 0.5473 - val_loss: 1.4877\n",
      "Epoch 27/30\n",
      "\u001B[1m42/42\u001B[0m \u001B[32m━━━━━━━━━━━━━━━━━━━━\u001B[0m\u001B[37m\u001B[0m \u001B[1m0s\u001B[0m 1ms/step - accuracy: 0.5539 - loss: 1.4487 - val_accuracy: 0.5608 - val_loss: 1.4660\n",
      "Epoch 28/30\n",
      "\u001B[1m42/42\u001B[0m \u001B[32m━━━━━━━━━━━━━━━━━━━━\u001B[0m\u001B[37m\u001B[0m \u001B[1m0s\u001B[0m 1ms/step - accuracy: 0.5604 - loss: 1.4290 - val_accuracy: 0.5676 - val_loss: 1.4455\n",
      "Epoch 29/30\n",
      "\u001B[1m42/42\u001B[0m \u001B[32m━━━━━━━━━━━━━━━━━━━━\u001B[0m\u001B[37m\u001B[0m \u001B[1m0s\u001B[0m 1ms/step - accuracy: 0.5625 - loss: 1.4105 - val_accuracy: 0.5878 - val_loss: 1.4262\n",
      "Epoch 30/30\n",
      "\u001B[1m42/42\u001B[0m \u001B[32m━━━━━━━━━━━━━━━━━━━━\u001B[0m\u001B[37m\u001B[0m \u001B[1m0s\u001B[0m 1ms/step - accuracy: 0.5660 - loss: 1.3927 - val_accuracy: 0.5946 - val_loss: 1.4079\n"
     ]
    }
   ],
   "execution_count": 18
  },
  {
   "metadata": {},
   "cell_type": "markdown",
   "source": [
    "### Gráficos\n",
    "\n",
    "#### Model Loss"
   ],
   "id": "83f5f508ee830196"
  },
  {
   "metadata": {
    "ExecuteTime": {
     "end_time": "2024-05-29T15:01:12.450378Z",
     "start_time": "2024-05-29T15:01:12.154757Z"
    }
   },
   "cell_type": "code",
   "source": [
    "plt.plot(history.history[\"loss\"], label=\"Training Loss\")\n",
    "plt.plot(history.history[\"val_loss\"], label=\"Validation Loss\")\n",
    "plt.title(\"Model Loss\")\n",
    "plt.ylabel(\"Loss\")\n",
    "plt.xlabel(\"Epoch\")\n",
    "plt.legend(loc=\"upper right\")\n",
    "plt.show()\n"
   ],
   "id": "49154c4e55074fa4",
   "outputs": [
    {
     "data": {
      "text/plain": [
       "<Figure size 1440x1080 with 1 Axes>"
      ],
      "image/png": "[encoded data removed]"
     },
     "metadata": {},
     "output_type": "display_data"
    }
   ],
   "execution_count": 19
  },
  {
   "metadata": {},
   "cell_type": "markdown",
   "source": "#### Model Accuracy",
   "id": "ec169bb05554e05f"
  },
  {
   "metadata": {
    "ExecuteTime": {
     "end_time": "2024-05-29T15:01:12.687100Z",
     "start_time": "2024-05-29T15:01:12.452282Z"
    }
   },
   "cell_type": "code",
   "source": [
    "plt.plot(history.history[\"accuracy\"], label=\"Training Data\")\n",
    "#adicionei esta linha debaixo\n",
    "plt.plot(history.history[\"val_accuracy\"], label=\"Validation Data\")\n",
    "plt.title(\"Model Accuracy\")\n",
    "plt.ylabel(\"Accuracy\")\n",
    "plt.xlabel(\"Epoch\")\n",
    "plt.legend(loc=\"lower right\")\n",
    "plt.show()"
   ],
   "id": "e546aa61a2468834",
   "outputs": [
    {
     "data": {
      "text/plain": [
       "<Figure size 1440x1080 with 1 Axes>"
      ],
      "image/png": "[encoded data removed]"
     },
     "metadata": {},
     "output_type": "display_data"
    }
   ],
   "execution_count": 20
  },
  {
   "metadata": {
    "ExecuteTime": {
     "end_time": "2024-05-29T15:01:12.703003Z",
     "start_time": "2024-05-29T15:01:12.689074Z"
    }
   },
   "cell_type": "code",
   "source": [
    "#USEI CHATGPT\n",
    "import numpy as np\n",
    "from sklearn.metrics import classification_report, accuracy_score, recall_score, precision_score, f1_score, confusion_matrix\n",
    "\n",
    "# Supondo que vocÃª jÃ¡ tenha treinado o modelo\n",
    "# Fazendo previsÃµes no conjunto de teste\n",
    "#y_pred = np.argmax(model.predict(X_test), axis=1)\n",
    "\n",
    "# Calculando a acurÃ¡cia\n",
    "#accuracy = accuracy_score(y_test, y_pred)\n",
    "#print(f'Accuracy: {accuracy:.4f}')\n",
    "\n",
    "# Calculando a sensibilidade (recall)\n",
    "#sensitivity = recall_score(y_test, y_pred, average='macro')\n",
    "#print(f'Sensitivity (Recall): {sensitivity:.4f}')\n",
    "\n",
    "# Calculando a especificidade\n",
    "# A especificidade Ã© um pouco mais complexa, vamos calcular manualmente usando a matriz de confusÃ£o\n",
    "#cm = confusion_matrix(y_test, y_pred)\n",
    "#specificity = []\n",
    "#for i in range(len(cm)):\n",
    "#    tn = cm.sum() - (cm[i, :].sum() + cm[:, i].sum() - cm[i, i])\n",
    "#    fp = cm[:, i].sum() - cm[i, i]\n",
    "#    specificity.append(tn / (tn + fp))\n",
    "#specificity = np.mean(specificity)\n",
    "#print(f'Specificity: {specificity:.4f}')\n",
    "\n",
    "# Calculando o F1-Score\n",
    "#f1 = f1_score(y_test, y_pred, average='macro')\n",
    "#print(f'F1-Score: {f1:.4f}')\n",
    "\n",
    "# RelatÃ³rio detalhado de classificaÃ§Ã£o\n",
    "#print(\"\\nClassification Report:\")\n",
    "#print(classification_report(y_test, y_pred))\n"
   ],
   "id": "28da6cb86556fcbe",
   "outputs": [],
   "execution_count": 21
  },
  {
   "metadata": {
    "ExecuteTime": {
     "end_time": "2024-05-29T15:01:12.718237Z",
     "start_time": "2024-05-29T15:01:12.704469Z"
    }
   },
   "cell_type": "code",
   "source": [
    "# FunÃ§Ã£o para treinar e avaliar modelos TP2 MINDD\n",
    "#def train_evaluate_model(model, name):\n",
    "\n",
    "   # model.add(Dense(1))\n",
    "    #model.compile(loss='mean_squared_error', optimizer='adam')\n",
    "\n",
    "    #model.fit(X_train, y_train, epochs=50, batch_size=32, validation_split=0.1)\n",
    "\n",
    "    # PrevisÃµes\n",
    "    #predictions = model.predict(X_test)\n",
    "\n",
    "    #predictions = scaler.inverse_transform(predictions)\n",
    "\n",
    "    #plt.plot(date_test, predictions, label=name)\n",
    "\n",
    "    # AvaliaÃ§Ã£o do Modelo\n",
    "    #mse = mean_squared_error(y_test, predictions)\n",
    "\n",
    "    #print(f'{name} - MSE: {mse:.2f}')\n",
    "    #print(f'{name} - RMSE: {sqrt(mse):.2f}')\n",
    "\n",
    "    #print('-' * 50)\n",
    "    \n"
   ],
   "id": "57c9042be62cb830",
   "outputs": [],
   "execution_count": 22
  }
 ],
 "metadata": {
  "kernelspec": {
   "display_name": "Python 3",
   "language": "python",
   "name": "python3"
  },
  "language_info": {
   "codemirror_mode": {
    "name": "ipython",
    "version": 2
   },
   "file_extension": ".py",
   "mimetype": "text/x-python",
   "name": "python",
   "nbconvert_exporter": "python",
   "pygments_lexer": "ipython2",
   "version": "2.7.6"
  }
 },
 "nbformat": 4,
 "nbformat_minor": 5
}
