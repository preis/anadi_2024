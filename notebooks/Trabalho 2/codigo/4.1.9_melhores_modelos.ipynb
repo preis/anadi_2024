{
 "cells": [
  {
   "metadata": {},
   "cell_type": "markdown",
   "source": [
    "# Trabalho 2\n",
    "\n",
    "## 4\n",
    "\n",
    "Neste notebook está ...\n",
    "\n",
    "### Imports"
   ],
   "id": "6088aada86d4442b"
  },
  {
   "metadata": {
    "jupyter": {
     "is_executing": true
    }
   },
   "cell_type": "code",
   "source": [
    "import warnings\n",
    "\n",
    "import matplotlib.pyplot as plt\n",
    "import pandas as pd\n",
    "import seaborn as sns\n",
    "import numpy as np\n",
    "from sklearn.preprocessing import LabelEncoder\n",
    "\n",
    "import utilidades as ut"
   ],
   "id": "c14b967b812d083b",
   "outputs": [],
   "execution_count": null
  },
  {
   "metadata": {},
   "cell_type": "markdown",
   "source": "### Inicializações e variáveis",
   "id": "ff02a40a70bf478d"
  },
  {
   "metadata": {
    "jupyter": {
     "is_executing": true
    }
   },
   "cell_type": "code",
   "source": [
    "warnings.filterwarnings(\"ignore\")  # Desabilitar warnings.\n",
    "plt.style.use(\n",
    "    \"style/estilo.mplstyle\")  # Garantir que se utiliza um estilo definido centralmente e comum a todos os gráficos.\n",
    "%matplotlib inline\n",
    "\n",
    "label_encoder = LabelEncoder()\n",
    "\n",
    "ficheiro = \"dados_preparados.csv\"\n",
    "colunas_numericas = [\"Idade\", \"FCV\", \"NRP\", \"CA\", \"FAF\", \"TUDE\", \"IMC\"]\n",
    "colunas_classes = [\"Genero\", \"Historico_obesidade_familiar\", \"FCCAC\", \"Fumador\", \"MCC\", \"CCER\", \"CBA\", \"TRANS\"]\n",
    "colunas_classes_binarias = ['Genero', 'Historico_obesidade_familiar', 'FCCAC', 'Fumador', 'MCC']\n",
    "colunas_classes_multiplos = [\"CCER\", \"CBA\", \"TRANS\", \"Label\"]"
   ],
   "id": "bff4210b269d953e",
   "outputs": [],
   "execution_count": null
  },
  {
   "metadata": {},
   "cell_type": "markdown",
   "source": "## Leitura dos dados preparados",
   "id": "dfa043fc61ddba02"
  },
  {
   "metadata": {
    "jupyter": {
     "is_executing": true
    }
   },
   "cell_type": "code",
   "source": "dados_trabalho = pd.read_csv(ficheiro)",
   "id": "15f9fff826ebd90c",
   "outputs": [],
   "execution_count": null
  },
  {
   "metadata": {
    "jupyter": {
     "is_executing": true
    }
   },
   "cell_type": "code",
   "source": "dados_trabalho",
   "id": "23f741d3f20d3773",
   "outputs": [],
   "execution_count": null
  },
  {
   "metadata": {},
   "cell_type": "markdown",
   "source": "Temos no entanto de realizar primeiro o encoding das classes para valores numéricos, esta operação é realizada usando o ``sklearn.preprocessing.LabelEncoder`` em todas as colunas com apenas 2 classes.",
   "id": "e1c7142f110b0028"
  },
  {
   "metadata": {
    "jupyter": {
     "is_executing": true
    }
   },
   "cell_type": "code",
   "source": [
    "ut.titulo(\"Valores codificados por atributo\")\n",
    "\n",
    "for coluna in colunas_classes_binarias:\n",
    "    if dados_trabalho[coluna].dtype == 'object':\n",
    "        dados_trabalho[coluna] = label_encoder.fit_transform(dados_trabalho[coluna].values)\n",
    "        ut.etiqueta_e_valor(coluna, str(sorted(dados_trabalho[coluna].unique())))"
   ],
   "id": "8c3bba6242ebfd4f",
   "outputs": [],
   "execution_count": null
  },
  {
   "metadata": {},
   "cell_type": "markdown",
   "source": "Para colunas que têm mais que 2 classes precisamos de utilizar o ``pandas.get_dummies()``.",
   "id": "5a415825a54ddf09"
  },
  {
   "metadata": {
    "jupyter": {
     "is_executing": true
    }
   },
   "cell_type": "code",
   "source": "dados_trabalho = pd.get_dummies(dados_trabalho, dtype=float)",
   "id": "dd671df73a4ae6dc",
   "outputs": [],
   "execution_count": null
  },
  {
   "metadata": {
    "jupyter": {
     "is_executing": true
    }
   },
   "cell_type": "code",
   "source": "dados_trabalho",
   "id": "2fd81a67ed77365a",
   "outputs": [],
   "execution_count": null
  },
  {
   "metadata": {},
   "cell_type": "markdown",
   "source": "...",
   "id": "5b5fb126751c39de"
  },
  {
   "metadata": {
    "jupyter": {
     "is_executing": true
    }
   },
   "cell_type": "code",
   "source": "...",
   "id": "7948a1c9a7cc46dc",
   "outputs": [],
   "execution_count": null
  }
 ],
 "metadata": {
  "kernelspec": {
   "display_name": "Python 3",
   "language": "python",
   "name": "python3"
  },
  "language_info": {
   "codemirror_mode": {
    "name": "ipython",
    "version": 2
   },
   "file_extension": ".py",
   "mimetype": "text/x-python",
   "name": "python",
   "nbconvert_exporter": "python",
   "pygments_lexer": "ipython2",
   "version": "2.7.6"
  }
 },
 "nbformat": 4,
 "nbformat_minor": 5
}
