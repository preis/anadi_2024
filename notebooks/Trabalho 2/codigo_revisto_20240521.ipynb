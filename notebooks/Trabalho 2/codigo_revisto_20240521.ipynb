{
 "cells": [
  {
   "cell_type": "markdown",
   "id": "3c07b9d890a4cfe",
   "metadata": {},
   "source": [
    "# Trabalho 2\n",
    "\n",
    "## 4.1\n",
    "\n",
    "### Imports"
   ]
  },
  {
   "cell_type": "code",
   "id": "1caca8c293aff04f",
   "metadata": {},
   "source": [
    "import warnings\n",
    "\n",
    "import matplotlib.pyplot as plt\n",
    "import numpy as np\n",
    "import pandas as pd\n",
    "import seaborn as sns\n",
    "from sklearn.linear_model import LinearRegression\n",
    "from sklearn.metrics import accuracy_score, confusion_matrix, ConfusionMatrixDisplay, classification_report\n",
    "from sklearn.model_selection import train_test_split\n",
    "from sklearn.preprocessing import LabelEncoder\n",
    "from sklearn.tree import DecisionTreeClassifier, plot_tree\n"
   ],
   "outputs": [],
   "execution_count": null
  },
  {
   "cell_type": "markdown",
   "id": "1d67d849ccbd21d0",
   "metadata": {},
   "source": [
    "### Variáveis"
   ]
  },
  {
   "cell_type": "code",
   "id": "999249d88bf8fd19",
   "metadata": {},
   "source": [
    "ficheiro = \"../../ficheiros/Trabalho 2/Dados_Trabalho_TP2.csv\"\n",
    "colunas_classes = ['Genero', 'Historico_obesidade_familiar', 'FCCAC', 'CCER', 'Fumador', 'MCC', 'CBA', 'TRANS']\n"
   ],
   "outputs": [],
   "execution_count": null
  },
  {
   "cell_type": "markdown",
   "id": "99f397086026cebf",
   "metadata": {},
   "source": [
    "# Funções auxiliares"
   ]
  },
  {
   "cell_type": "code",
   "id": "1cd2207c25f33cc8",
   "metadata": {},
   "source": [
    "def titulo(texto: str):\n",
    "    print(f\"\\033[21;30;44m{texto}\\033[0m\")\n",
    "\n",
    "\n",
    "def etiqueta_e_valor(etiqueta: str, valor: str = \"\"):\n",
    "    print(f\"\\033[0;94m{etiqueta}: \\033[1;94m{valor}\\033[0m\")\n",
    "\n",
    "\n",
    "def texto(texto: str, cor=\"94\"):\n",
    "    print(f\"\\033[0;{cor}m{texto}\\033[0m\")\n",
    "\n",
    "\n",
    "def undersplit(texto):\n",
    "    return \" \".join(texto.split(\"_\"))\n",
    "\n",
    "\n",
    "def histograma(\n",
    "        dados: pd.Series,\n",
    "        grupos: int = 20,\n",
    "        kde: bool = True,\n",
    "        size_x: int = 4,\n",
    "        size_y: int = 4,\n",
    "        titulo: str = \"\",\n",
    "        etiqueta_x: str = \"\",\n",
    "        etiqueta_y: str = \"\",\n",
    "        color: str = \"skyblue\",\n",
    "        edgecolor: str = \"black\",\n",
    "):\n",
    "    \"\"\"Gera um histograma de forma isolada.\n",
    "    \n",
    "    A dimensão final do gráfico é controlada pela relação entre os valores size_x e size_y.\n",
    "    \"\"\"\n",
    "    hist_fig, hist_axes = plt.subplots(figsize=(size_x, size_y))\n",
    "    sns.histplot(dados, bins=grupos, kde=kde, color=color, edgecolor=edgecolor)\n",
    "    hist_axes.set_title(titulo)\n",
    "    hist_axes.set_xlabel(etiqueta_x)\n",
    "    hist_axes.set_ylabel(etiqueta_y)\n",
    "    plt.tight_layout()\n",
    "\n",
    "\n",
    "def tarte(\n",
    "        dados: pd.Series,\n",
    "        size_x: int = 4,\n",
    "        size_y: int = 4,\n",
    "        autopct=\"%.2f%%\",\n",
    "        titulo: str = \"\",\n",
    "        **kwargs,\n",
    "):\n",
    "    pie_fig, pie_axes = plt.subplots(figsize=(size_x, size_y))\n",
    "    pie_axes.pie(\n",
    "        dados,\n",
    "        autopct=autopct,\n",
    "        **kwargs\n",
    "    )\n",
    "    pie_fig.suptitle(titulo)\n",
    "    return pie_fig, pie_axes\n"
   ],
   "outputs": [],
   "execution_count": null
  },
  {
   "cell_type": "markdown",
   "id": "bfcdc4e231373833",
   "metadata": {},
   "source": [
    "### Inicializações"
   ]
  },
  {
   "cell_type": "code",
   "id": "347c3de631644810",
   "metadata": {},
   "source": [
    "warnings.filterwarnings(\"ignore\")  # Desabilitar warnbings.\n",
    "plt.style.use(\n",
    "    \"style/estilo.mplstyle\")  # Garantir que se utiliza um estilo definido centralmente e comum a todos os gráficos.\n",
    "label_encoder = LabelEncoder()"
   ],
   "outputs": [],
   "execution_count": null
  },
  {
   "cell_type": "markdown",
   "id": "dac229ac7f944a7f",
   "metadata": {},
   "source": [
    "### 4.1.1\n",
    "\n",
    "#### Leitura de dados\n",
    "\n",
    "Como os dados lidos não são em grande quantidade, vamos criar uma cópia do **dataset** para trabalharmos nesta, para poder ter acesso aos \"originais\" sem ter de os ler novamente do ficheiro.\n",
    "Por exemplo em alguns dos gráficos, a utilização das *classes* (valores originais) como *etiqueta* é mais elucidativa que usar os valores codificados.  \n",
    "\n",
    "Na análise ao **dataset** verifica-se que a primeira coluna, identificada como \"Unnamed\" tem o indíce de cada registo de dados, algo que nos é fornecido pelo **pandas**, e portanto podemos eliminar esta coluna. \n",
    "Esta operação estaria incluída nas tarefas do ponto **4.1.4**, mas realizar neste ponto facilita a criação dos gráficos no próximo ponto."
   ]
  },
  {
   "cell_type": "code",
   "id": "initial_id",
   "metadata": {},
   "source": [
    "dados_lidos = pd.read_csv(ficheiro)\n",
    "dados_trabalho = dados_lidos.copy()\n",
    "dados_trabalho = dados_trabalho.drop(columns=dados_lidos.columns[0], axis=1)"
   ],
   "outputs": [],
   "execution_count": null
  },
  {
   "cell_type": "markdown",
   "id": "ae36c31929db9ea4",
   "metadata": {},
   "source": [
    "### Dimensão dos dados"
   ]
  },
  {
   "cell_type": "code",
   "id": "5ec154d388bf68f4",
   "metadata": {},
   "source": [
    "nr_linhas, nr_colunas = dados_trabalho.shape\n",
    "titulo(\"Dimensão dos dados\")\n",
    "etiqueta_e_valor(\"Número de linhas:\", nr_linhas)\n",
    "etiqueta_e_valor(\"Número de colunas:\", nr_colunas)"
   ],
   "outputs": [],
   "execution_count": null
  },
  {
   "cell_type": "markdown",
   "id": "34891a0d48957781",
   "metadata": {},
   "source": [
    "### Análise do dataset\n",
    "\n",
    "#### Atributos\n",
    "\n",
    "Descrição dos atributos, segundo a documentação. \n",
    "\n",
    "| Sigla | Descrição                                                         |\n",
    "|-------|-------------------------------------------------------------------|\n",
    "| FCCAC | Frequência de Consumo de Comida Altamente Calórica                | \n",
    "| FCV   | Frequência de Consumo de Vegetais                                 | \n",
    "| NRP   | Número de Refeições Principais                                    |\n",
    "| CCER  | Consumo de Comida Entre Refeições                                 |\n",
    "| CA    | Consumo de Água                                                   |\n",
    "| CBA   | Consumo de Bebidas Alcoólicas                                     |\n",
    "| MCC   | Monitorização do Consumo Calorias Histórico de Obesidade Familiar | "
   ]
  },
  {
   "cell_type": "markdown",
   "id": "ee9eca7af78b4d41",
   "metadata": {},
   "source": [
    "#### Informação sobre o dataset\n",
    "\n",
    "A função ``info()`` apresenta a informação das colunas (atríbutos): Index da coluna, nome (se tiver, quantidade de registos *não nulos* e o tipo de dados de cada um deles."
   ]
  },
  {
   "cell_type": "code",
   "id": "6f50201dead196b0",
   "metadata": {},
   "source": "dados_trabalho.info()",
   "outputs": [],
   "execution_count": null
  },
  {
   "cell_type": "markdown",
   "id": "181b27ac6367cc5a",
   "metadata": {},
   "source": [
    "#### Amostra do dataset\n",
    "\n",
    "Para uma rápida visualização dos dados, temos as funções ``head(n)`` e ``tail(n)`` que nos dão *n* linhas, por defeito 5, respetivamente do início ou fim do **dataset**."
   ]
  },
  {
   "cell_type": "code",
   "id": "4e985ac6dc30350",
   "metadata": {},
   "source": "dados_trabalho.head()",
   "outputs": [],
   "execution_count": null
  },
  {
   "cell_type": "code",
   "id": "65792ee2fd06444",
   "metadata": {},
   "source": "dados_trabalho.tail()",
   "outputs": [],
   "execution_count": null
  },
  {
   "cell_type": "markdown",
   "id": "6ad8558ec92b8c9a",
   "metadata": {},
   "source": [
    "#### Descrição do dados do dateset\n",
    "\n",
    "A função ``describe()`` analisa os dados do **dataset** e retorna um conjunto de estatísticas descritivas."
   ]
  },
  {
   "cell_type": "code",
   "id": "d0a067b469ad2167",
   "metadata": {},
   "source": "dados_trabalho.describe(include=\"all\")",
   "outputs": [],
   "execution_count": null
  },
  {
   "cell_type": "markdown",
   "id": "dcf3001cf5723fc5",
   "metadata": {},
   "source": [
    "#### Identificar as classes da coluna Label"
   ]
  },
  {
   "cell_type": "code",
   "id": "159d5cafd996152b",
   "metadata": {},
   "source": [
    "titulo(\"Classes da coluna \\033[1mLabel\\033[0m\")\n",
    "for classe in dados_trabalho['Label'].unique():\n",
    "    texto(classe)"
   ],
   "outputs": [],
   "execution_count": null
  },
  {
   "cell_type": "markdown",
   "id": "6834fcc94e86962b",
   "metadata": {},
   "source": [
    "### Identificar as classes da coluna CCER"
   ]
  },
  {
   "cell_type": "code",
   "id": "ee8c88de7bbd8c2a",
   "metadata": {},
   "source": [
    "titulo(\"Classes da coluna \\033[1mCCER\\033[0m\")\n",
    "for classe in dados_trabalho['CCER'].unique():\n",
    "    texto(classe)"
   ],
   "outputs": [],
   "execution_count": null
  },
  {
   "cell_type": "markdown",
   "id": "ba20456b7024012a",
   "metadata": {},
   "source": [
    "#### identificar classes da coluna TRANS"
   ]
  },
  {
   "cell_type": "code",
   "id": "21d988f474c0243a",
   "metadata": {},
   "source": [
    "titulo(\"Classes da coluna \\033[1mTRANS\\033[0m\")\n",
    "for classe in dados_trabalho['TRANS'].unique():\n",
    "    texto(classe)\n"
   ],
   "outputs": [],
   "execution_count": null
  },
  {
   "cell_type": "markdown",
   "id": "c000d0ede303db64",
   "metadata": {},
   "source": [
    "### 4.1.2\n",
    "\n"
   ]
  },
  {
   "cell_type": "markdown",
   "id": "78295df5c28c48f6",
   "metadata": {},
   "source": [
    "#### Derivar atributo (IMC)\n",
    "\n",
    "Depois de criar o novo atributo, podemos usar qualquer uma das funções que foram utilizadas para analisar o **dataset**, neste caso tratando-se de valores numéricos consideramos que a que a mais útil é a ``describe()``.\n",
    "\n",
    "Podemos também remover as colunas utilizadas para este cálculo uma vez que não vão ser necessárias."
   ]
  },
  {
   "cell_type": "code",
   "id": "d0b5810c02679cf8",
   "metadata": {},
   "source": [
    "dados_trabalho['IMC'] = dados_trabalho['Peso'] / (dados_trabalho['Altura'] * dados_trabalho['Altura'])\n",
    "dados_trabalho.drop(columns=['Peso', 'Altura'], inplace=True)\n"
   ],
   "outputs": [],
   "execution_count": null
  },
  {
   "metadata": {},
   "cell_type": "markdown",
   "source": "#### Rever o **dataset** após as alterações",
   "id": "2e45e938b4e68000"
  },
  {
   "cell_type": "code",
   "id": "60e72b1b7849649b",
   "metadata": {},
   "source": "dados_trabalho.describe(include=\"all\")",
   "outputs": [],
   "execution_count": null
  },
  {
   "cell_type": "markdown",
   "id": "689e5b8d4bddcab9",
   "metadata": {},
   "source": [
    "Finalmente, usamos novamente a função ``info()`` para confirmar as *series* com que vamos trabalhar de seguida. "
   ]
  },
  {
   "cell_type": "code",
   "id": "7e6688980181c909",
   "metadata": {},
   "source": [
    "dados_trabalho.info()"
   ],
   "outputs": [],
   "execution_count": null
  },
  {
   "cell_type": "markdown",
   "id": "8a62b70cf6fa96c7",
   "metadata": {},
   "source": [
    "### 4.1.3 Analisar os atributos do conjunto de dados mais significativos, usando gráficos, ...\n"
   ]
  },
  {
   "cell_type": "markdown",
   "id": "b8abba5672aaa85c",
   "metadata": {},
   "source": [
    "#### Histogramas\n",
    "\n",
    "Com estes gráficos podemos ver a distribuição dos valores por \"segmentos\" de valores."
   ]
  },
  {
   "cell_type": "code",
   "id": "1719e0618ab6f006",
   "metadata": {},
   "source": [
    "sns.set(style=\"whitegrid\")\n",
    "hist_columns_plot = ['FCV', 'NRP', 'CA', 'FAF', 'TUDE', 'IMC']\n",
    "\n",
    "for idx, etiqueta_serie in enumerate(hist_columns_plot):\n",
    "    histograma(\n",
    "        dados=dados_trabalho[etiqueta_serie],\n",
    "        grupos=20,\n",
    "        kde=True,\n",
    "        size_x=10,\n",
    "        size_y=4,\n",
    "        titulo=f\"Distribuição de {etiqueta_serie}\",\n",
    "        etiqueta_x=etiqueta_serie,\n",
    "        etiqueta_y=\"Frequência\",\n",
    "        color=\"skyblue\",\n",
    "        edgecolor=\"black\",\n",
    "    )\n"
   ],
   "outputs": [],
   "execution_count": null
  },
  {
   "cell_type": "markdown",
   "id": "79f70a26a6b761be",
   "metadata": {},
   "source": [
    "#### Pie Charts\n",
    "\n",
    "A função ``tarte()`` retorna a ``Fig`` e o ``Axes`` para se poder personalizar mais o gráfico.\n",
    "É também possível passar parâmetros adicionais (*kwargs*), os quais serão usados na invocação de ``pie()``. "
   ]
  },
  {
   "cell_type": "code",
   "id": "871e3250e76c5cc3",
   "metadata": {},
   "source": [
    "tarte(\n",
    "    dados=dados_trabalho[\"Historico_obesidade_familiar\"].value_counts(),\n",
    "    size_x=4,\n",
    "    size_y=4,\n",
    "    titulo=\"Histórico obesidade familiar\",\n",
    "    labels=dados_lidos[\"Historico_obesidade_familiar\"].unique(),\n",
    ")\n",
    "\n",
    "tarte(\n",
    "    dados=dados_trabalho[\"FCCAC\"].value_counts(),\n",
    "    size_x=5,\n",
    "    size_y=5,\n",
    "    titulo=\"Frequência de Consumo de Comida Altamente Calórica\",\n",
    "    labels=dados_lidos[\"FCCAC\"].unique(),\n",
    ")\n",
    "\n",
    "tarte(\n",
    "    dados=dados_trabalho[\"Fumador\"].value_counts(),\n",
    "    size_x=5,\n",
    "    size_y=5,\n",
    "    titulo=\"Fumador\",\n",
    "    labels=dados_lidos[\"Fumador\"].unique(),\n",
    ")\n",
    "\n",
    "tarte(\n",
    "    dados=dados_trabalho[\"MCC\"].value_counts(),\n",
    "    size_x=5,\n",
    "    size_y=5,\n",
    "    titulo=\"Monitorização do Consumo Calorias\",\n",
    "    labels=dados_lidos[\"MCC\"].unique(),\n",
    ")\n",
    "\n",
    "tarte(\n",
    "    dados=dados_trabalho[\"CBA\"].value_counts(),\n",
    "    size_x=5,\n",
    "    size_y=5,\n",
    "    titulo=\"Consumo de Bebidas Alcoólicas\",\n",
    "    labels=dados_lidos[\"CBA\"].unique(),\n",
    ")\n",
    "\n",
    "tarte(\n",
    "    dados=dados_trabalho[\"TRANS\"].value_counts(),\n",
    "    size_x=5,\n",
    "    size_y=5,\n",
    "    titulo=\"Transporte\",\n",
    "    labels=[undersplit(texto) for texto in dados_lidos[\"TRANS\"].unique()],\n",
    ")\n",
    "\n",
    "tarte(\n",
    "    dados=dados_trabalho[\"Label\"].value_counts(),\n",
    "    size_x=5,\n",
    "    size_y=5,\n",
    "    titulo=\"Classificação do peso\",\n",
    "    labels=[undersplit(texto) for texto in dados_lidos[\"Label\"].unique()],\n",
    ")"
   ],
   "outputs": [],
   "execution_count": null
  },
  {
   "cell_type": "markdown",
   "id": "43a0d1115b5d3f1",
   "metadata": {},
   "source": [
    "#### visualização de outliers"
   ]
  },
  {
   "cell_type": "code",
   "id": "60faff2f5ad64df1",
   "metadata": {},
   "source": [
    "boxplots_colunas = [\"IMC\", \"Idade\"]\n",
    "\n",
    "for coluna in boxplots_colunas:\n",
    "    if (dados_trabalho[coluna].dtype != 'object'):\n",
    "        dados_trabalho.boxplot(\n",
    "            column=[coluna],\n",
    "            by=\"Label\",\n",
    "            grid=False,\n",
    "            figsize=(8, 6),\n",
    "            return_type=\"dict\",\n",
    "            rot=90,\n",
    "        )\n",
    "        plt.title(coluna)\n",
    "\n",
    "plt.show()"
   ],
   "outputs": [],
   "execution_count": null
  },
  {
   "metadata": {},
   "cell_type": "markdown",
   "source": [
    "#### Scatterplots\n",
    "\n",
    "TODO: Fazer scatterplot com relação entre cada um dos preditores e o alvo."
   ],
   "id": "4a7a139b0fc2529d"
  },
  {
   "metadata": {},
   "cell_type": "code",
   "source": "",
   "id": "13ab9559e6311cc6",
   "outputs": [],
   "execution_count": null
  },
  {
   "cell_type": "markdown",
   "id": "1196a0a1e322149c",
   "metadata": {},
   "source": [
    "### 4.1.4\n",
    "\n",
    "#### a) Identificação de NAN e \"limpar\" o dataset."
   ]
  },
  {
   "metadata": {},
   "cell_type": "markdown",
   "source": "Verificar se existem valores nulos.",
   "id": "4f6480a8e737dfd1"
  },
  {
   "cell_type": "code",
   "id": "fd4d8a24c0e9ef29",
   "metadata": {},
   "source": "dados_trabalho[dados_trabalho.isnull().any(axis=1)]",
   "outputs": [],
   "execution_count": null
  },
  {
   "metadata": {},
   "cell_type": "markdown",
   "source": "Verificar se existem valores NaN",
   "id": "4a0140b227ebd89b"
  },
  {
   "metadata": {},
   "cell_type": "code",
   "source": "dados_trabalho[dados_trabalho.isna().any(axis=1)]",
   "id": "3513128921632150",
   "outputs": [],
   "execution_count": null
  },
  {
   "cell_type": "markdown",
   "id": "42169292519023c8",
   "metadata": {},
   "source": [
    "#### Transformar classes em valores\n",
    "\n",
    "No mesmo passo em que fazemos a conversão, mostramos os valores finais. "
   ]
  },
  {
   "cell_type": "code",
   "id": "d51d70cb6376e1b",
   "metadata": {},
   "source": [
    "for coluna in colunas_classes:\n",
    "    dados_trabalho[coluna] = label_encoder.fit_transform(dados_trabalho[coluna].values)\n",
    "    etiqueta_e_valor(coluna, dados_trabalho[coluna].unique())"
   ],
   "outputs": [],
   "execution_count": null
  },
  {
   "metadata": {},
   "cell_type": "markdown",
   "source": [
    "#### Notas sobre o pré-processamento dos dados\n",
    "\n",
    "Não foram encontrados valores nulos, nem valor NaN, não sendo por isso necessário fazer tratamento adicionais ao dados neste contexto. \n",
    "\n",
    "TODO: Comentário sobre dados inconsistentes e outliers\n",
    "TODO: Selecionar atributos (?)\n",
    "TODO: Normalização (?)"
   ],
   "id": "b605ad322e8d4d3d"
  },
  {
   "metadata": {},
   "cell_type": "markdown",
   "source": "### 4.1.5 Matriz de Correlação",
   "id": "ca6f8f24a421f7c6"
  },
  {
   "metadata": {},
   "cell_type": "code",
   "source": [
    "dados_corr = dados_trabalho.copy()\n",
    "fig_corr = plt.figure(figsize=(12, 8))\n",
    "etiquetas_corr = [undersplit(texto) for texto in dados_corr.columns]\n",
    "\n",
    "for coluna in dados_trabalho.columns:\n",
    "    dados_corr[coluna] = label_encoder.fit_transform(dados_corr[coluna].values)\n",
    "\n",
    "sns.heatmap(dados_corr.corr(method=\"spearman\").abs(), cmap='coolwarm', annot=True, fmt='.2f', mask=False)\n",
    "\n",
    "plt.xticks(ticks=[i + 0.5 for i in range(len(dados_corr.columns))], labels=etiquetas_corr, rotation=45, ha='right')\n",
    "plt.yticks(ticks=[i + 0.5 for i in range(len(dados_corr.columns))], labels=etiquetas_corr)\n",
    "plt.title('Matriz de Correlação')\n",
    "plt.tight_layout()\n",
    "\n",
    "# plt.show()"
   ],
   "id": "ba4856fdb49c46d2",
   "outputs": [],
   "execution_count": null
  },
  {
   "metadata": {},
   "cell_type": "markdown",
   "source": "Por este diagrama podemos ver que não existe uma forte correlação entre nenhum dos atributos. ",
   "id": "9ab0c5a227579610"
  },
  {
   "metadata": {},
   "cell_type": "markdown",
   "source": [
    "### 4.1.6\n",
    "\n",
    "#### Hold-out\n",
    "\n",
    "**Hold-out** é o processo de dividir um conjunto de dados em 2 sub-conjuntos de forma aleatória, um de maior dimensão que será utilizado para treinar um algoritmo de Machine Learning e o outra para o testar. \n",
    "\n",
    "Predictor: Idade\n",
    "Target: IMC\n",
    "\n",
    "\n",
    "TODO: Utilizar os dados que o Pedro enviou e Trabalho 1 como suporte. Mas fazer o modelo sobre 80% dos valores e usar os outros 20% para o cálculo ddo MAE e RMSE\n",
    "\n",
    "Para o ponto d)\n",
    "\n"
   ],
   "id": "4b79803135bae8b1"
  },
  {
   "cell_type": "code",
   "id": "ade8d43b5fe33803",
   "metadata": {},
   "source": [
    "y = dados_trabalho.IMC\n",
    "X = dados_trabalho[[\"Idade\"]].to_numpy()\n",
    "\n",
    "X_train, X_test, y_train, y_test = train_test_split(X, y, train_size=0.8, test_size=0.2, random_state=100)\n"
   ],
   "outputs": [],
   "execution_count": null
  },
  {
   "metadata": {},
   "cell_type": "markdown",
   "source": "#### Apresentar informação sobre os datasets de treino e aprendizagem",
   "id": "3c18022d957afeae"
  },
  {
   "metadata": {},
   "cell_type": "code",
   "source": [
    "titulo(\"|\\t\\t\\tDimensão\\t\\t\\t|\")\n",
    "titulo(\"|\\tTreino\\t\\t|\\tTeste\\t\\t|\")\n",
    "texto(f\"|\\t{X_train.shape}\\t|\\t{X_test.shape}\\t|\")\n",
    "texto(f\"|\\t{y_train.shape}\\t\\t|\\t{y_test.shape}\\t\\t|\")\n"
   ],
   "id": "729fa3a4c71b904e",
   "outputs": [],
   "execution_count": null
  },
  {
   "metadata": {},
   "cell_type": "markdown",
   "source": "#### Inicialização do algoritmo",
   "id": "b5e773e45cb02168"
  },
  {
   "metadata": {},
   "cell_type": "code",
   "source": "regr_lin = LinearRegression()",
   "id": "4e6ad4607a320601",
   "outputs": [],
   "execution_count": null
  },
  {
   "metadata": {},
   "cell_type": "markdown",
   "source": "#### Ajustar os dados",
   "id": "b72102325dcb91ef"
  },
  {
   "metadata": {},
   "cell_type": "code",
   "source": "regr_lin.fit(X_train, y_train)",
   "id": "5a59e7012d57c7bf",
   "outputs": [],
   "execution_count": null
  },
  {
   "metadata": {},
   "cell_type": "markdown",
   "source": "#### 4.1.6 a)",
   "id": "cc5486c1e8a7c6d"
  },
  {
   "metadata": {},
   "cell_type": "code",
   "source": "etiqueta_e_valor(\"Equação da reta:\", f\" y = {regr_lin.intercept_:.3f} + {regr_lin.coef_[0]:.3f} x\")",
   "id": "ed858a8fd9594e66",
   "outputs": [],
   "execution_count": null
  },
  {
   "metadata": {},
   "cell_type": "markdown",
   "source": "#### 4.1.6 b)",
   "id": "65eee0a340a05df4"
  },
  {
   "metadata": {},
   "cell_type": "code",
   "source": [
    "sns.regplot(x=\"Idade\", y=\"IMC\", data=dados_trabalho, order=1, ci=None, scatter_kws={'color': 'r', 's': 9})\n",
    "plt.xlim(10, 65)\n",
    "plt.ylim(ymin=0);"
   ],
   "id": "ef97209ce3494257",
   "outputs": [],
   "execution_count": null
  },
  {
   "metadata": {},
   "cell_type": "markdown",
   "source": "Aplicar o modelo sobre o conjunto de teste.",
   "id": "7adb512f714f3f09"
  },
  {
   "metadata": {},
   "cell_type": "code",
   "source": "y_pred = regr_lin.predict(X_test)\n",
   "id": "906daa9b4cd577f",
   "outputs": [],
   "execution_count": null
  },
  {
   "metadata": {},
   "cell_type": "markdown",
   "source": [
    "#### MAE\n",
    "\n",
    "$$MAE = \\sum_{i=1}^{D}|x_i-y_i|$$"
   ],
   "id": "525409c6247a4782"
  },
  {
   "metadata": {},
   "cell_type": "code",
   "source": [
    "MAE = np.mean(abs(y_test - y_pred))\n",
    "etiqueta_e_valor(\"MAE no conjunto de dados de teste:\", f\"{MAE:.3f}\")"
   ],
   "id": "60e6c8811cc30a3e",
   "outputs": [],
   "execution_count": null
  },
  {
   "metadata": {},
   "cell_type": "markdown",
   "source": [
    "#### RMSE\n",
    "\n",
    "$$RMSE = \\sqrt{\\frac{\\sum_{i=0}^{N - 1} (y_i - \\hat{y}_i)^2}{N}}$$"
   ],
   "id": "803a0c8c69b52332"
  },
  {
   "metadata": {},
   "cell_type": "code",
   "source": [
    "RMSE = np.sqrt(np.mean((y_test - y_pred) ** 2))\n",
    "etiqueta_e_valor(\"RMSE no conjunto de dados de teste:\", f\"{RMSE:.3f}\")"
   ],
   "id": "8a0f52b13bf0e144",
   "outputs": [],
   "execution_count": null
  },
  {
   "metadata": {},
   "cell_type": "markdown",
   "source": [
    "#### Repetir o cálculo mas com outros previsores\n",
    "\n",
    "O preditor vai mudando, podemos ter uma lista com o nome das colunas e fazer um ciclo que realiza os cálculos e guardamos o resultado num dicionário"
   ],
   "id": "47d3da661930b0a2"
  },
  {
   "metadata": {},
   "cell_type": "code",
   "source": [
    "# O target não vai mudar.\n",
    "y = dados_trabalho.IMC\n",
    "\n",
    "# O preditor vai mudando, podemos ter uma lista com o nome das colunas\n",
    "lista_preditores = ['Genero', 'Historico_obesidade_familiar', 'FCCAC', 'FCV', 'NRP', 'CCER', 'Fumador', 'CA',\n",
    "                    'MCC', 'FAF', 'TUDE', 'CBA', 'TRANS']\n",
    "# Falta o Label\n",
    "\n",
    "\n",
    "# Resultados\n",
    "resultados = {}\n",
    "\n",
    "for preditor in lista_preditores:\n",
    "    X_preditor = dados_trabalho[[preditor]].to_numpy()\n",
    "    X_train_1, X_test_1, y_train, y_test = train_test_split(X_preditor, y, train_size=0.8, test_size=0.2, random_state=100)\n",
    "    line_regr = LinearRegression()\n",
    "    modelo = line_regr.fit(X_train_1, y_train)\n",
    "    \n",
    "    y_pred_1 =  line_regr.predict(X_test_1)\n",
    "    \n",
    "    resultados[preditor] = {\n",
    "        # \"X_train\": X_train_1,\n",
    "        # \"X_test\": X_test_1,\n",
    "        # \"y_train\": y_train,\n",
    "        # \"y_test\": y_test,\n",
    "        \"modelo\": modelo,\n",
    "        \"y_pred\": y_pred_1,\n",
    "        \"MAE\": np.mean(abs(y_test - y_pred_1)),\n",
    "        \"RMSE\": np.sqrt(np.mean((y_test - y_pred_1) ** 2))\n",
    "    }\n"
   ],
   "id": "c2c87e6b49b2b826",
   "outputs": [],
   "execution_count": null
  },
  {
   "metadata": {},
   "cell_type": "markdown",
   "source": [
    "#### Tabela com os resultados\n",
    "\n",
    "Uma vez que temos o pandas, podemos utilizar este para apresentar a informação em formato de tabela.\n",
    "\n",
    "\n",
    "TODO: Agora é preciso analisar os resultados e talvez produzir algum gráfico ou análise estatistica."
   ],
   "id": "445cb6ae3533cc5c"
  },
  {
   "metadata": {},
   "cell_type": "code",
   "source": [
    "resultado = pd.DataFrame(resultados)\n",
    "\n",
    "resultado.loc[[\"MAE\", \"RMSE\"]]\n"
   ],
   "id": "dac58d4e5c15b3f4",
   "outputs": [],
   "execution_count": null
  },
  {
   "metadata": {},
   "cell_type": "code",
   "source": "",
   "id": "1d83d9536bae825d",
   "outputs": [],
   "execution_count": null
  },
  {
   "metadata": {},
   "cell_type": "code",
   "source": "",
   "id": "8a38c6a0365b3908",
   "outputs": [],
   "execution_count": null
  },
  {
   "metadata": {},
   "cell_type": "markdown",
   "source": [
    "## 4.2 (?)\n",
    "\n",
    "#### Separar os dados em target(y) e feature(x)"
   ],
   "id": "c95c2035d6a4b190"
  },
  {
   "metadata": {},
   "cell_type": "code",
   "source": [
    "y = dados_trabalho.loc[:, \"Label\"].values\n",
    "X = dados_trabalho.drop([\"Label\"], axis=1).values\n",
    "\n",
    "#labelencoder no y\n",
    "# le = LabelEncoder()\n",
    "y = label_encoder.fit_transform(y)\n",
    "\n",
    "#divisão dos dados em treino e teste\n",
    "X_train, X_test, y_train, y_test = train_test_split(X, y, test_size=0.3, random_state=1)\n",
    "X_train.shape, X_test.shape"
   ],
   "id": "8716a4bf69a8a8c4",
   "outputs": [],
   "execution_count": null
  },
  {
   "metadata": {},
   "cell_type": "markdown",
   "source": "### Árvore de decisão",
   "id": "48009de62513f806"
  },
  {
   "cell_type": "code",
   "id": "d242ee5107b2cebc",
   "metadata": {},
   "source": [
    "clf = DecisionTreeClassifier(random_state=42)\n",
    "#build the model with training sets\n",
    "clf.fit(X_train, y_train)"
   ],
   "outputs": [],
   "execution_count": null
  },
  {
   "cell_type": "code",
   "id": "fb74d14759d5c74a",
   "metadata": {},
   "source": [
    "%matplotlib inline\n",
    "plt.style.use('ggplot')\n",
    "\n",
    "plt.figure(figsize=(32, 25))  # set plot size (denoted in inches)\n",
    "plot_tree(clf,\n",
    "          feature_names=list(dados_trabalho.columns),\n",
    "          class_names=list(dados_trabalho['Label']),\n",
    "          filled=True,\n",
    "          fontsize=6);"
   ],
   "outputs": [],
   "execution_count": null
  },
  {
   "cell_type": "code",
   "id": "eaa0b2b71845c42e",
   "metadata": {},
   "source": [
    "#verificar a precisão dos dados de treino e teste\n",
    "clf.score(X_train, y_train)"
   ],
   "outputs": [],
   "execution_count": null
  },
  {
   "cell_type": "code",
   "id": "bd728ff774eabff9",
   "metadata": {},
   "source": [
    "# Previsões com decision tree\n",
    "y_train_pred = clf.predict(X_train)\n",
    "y_test_pred = clf.predict(X_test)\n",
    "\n",
    "# Avaliação dos dados de treino e teste\n",
    "tree_train = accuracy_score(y_train, y_train_pred)\n",
    "print(\"Train Accuracy:\", tree_train)\n",
    "tree_test = accuracy_score(y_test, y_test_pred)\n",
    "print(\"Test Accuracy:\", tree_test)"
   ],
   "outputs": [],
   "execution_count": null
  },
  {
   "cell_type": "code",
   "id": "ece36070599b55f1",
   "metadata": {},
   "source": [
    "# Rate de erro da decision three\n",
    "cmatrix = confusion_matrix(y_true=y_train, y_pred=clf.predict(X_train), labels=[True, False])\n",
    "print(\"Confusion Matrix Training\")\n",
    "print(cmatrix)\n",
    "\n",
    "# Error rate dos dados de treino\n",
    "error_rate = (cmatrix[0, 1] + cmatrix[1, 0]) / cmatrix.sum()\n",
    "print(\"Training Error Rate:\", error_rate)\n",
    "print(\"---------------------------------\")\n",
    "ypred = clf.predict(X_test)\n",
    "cmatrix = confusion_matrix(y_true=y_test, y_pred=ypred, labels=[True, False])\n",
    "print(\"Confusion Matrix Test\")\n",
    "print(cmatrix)\n",
    "\n",
    "# Error rate dos dados de teste\n",
    "error_rate_test = (cmatrix[0, 1] + cmatrix[1, 0]) / cmatrix.sum()\n",
    "print(\"Test Error Rate:\", error_rate_test)"
   ],
   "outputs": [],
   "execution_count": null
  },
  {
   "cell_type": "code",
   "id": "cd85008f11013e03",
   "metadata": {},
   "source": [
    "# Matriz de confusão \n",
    "def matriz_confusao(actual, predicted):\n",
    "    # outcome values order in sklearn\n",
    "    matrix = confusion_matrix(y_true=actual, y_pred=predicted, labels=[True, False])\n",
    "    disp = ConfusionMatrixDisplay(confusion_matrix=matrix, display_labels=[True, False])\n",
    "    disp.plot()\n",
    "\n",
    "    # classification report for precision, recall f1-score and accuracy\n",
    "    matrix = classification_report(actual, predicted)\n",
    "    print('Classification report Decision Tree: \\n', matrix)\n",
    "\n",
    "\n",
    "# chamada à função\n",
    "res = matriz_confusao(y_test, ypred)"
   ],
   "outputs": [],
   "execution_count": null
  },
  {
   "cell_type": "code",
   "id": "5fa3b070c9dc3537",
   "metadata": {},
   "source": [
    "# K-Fold Cross Validation - implementation\n",
    "# Splitting the Data into Folds\n",
    "\n",
    "def kfold_indices(data, k):\n",
    "    fold_size = len(data) // k\n",
    "    indices = np.arange(len(data))\n",
    "    folds = []\n",
    "    for i in range(k):\n",
    "        test_indices = indices[i * fold_size: (i + 1) * fold_size]\n",
    "        train_indices = np.concatenate([indices[:i * fold_size], indices[(i + 1) * fold_size:]])\n",
    "        folds.append((train_indices, test_indices))\n",
    "    return folds\n",
    "\n",
    "\n",
    "# Define the number of folds (K)\n",
    "k = 5\n",
    "\n",
    "# Get the fold indices\n",
    "fold_indices = kfold_indices(X, k)"
   ],
   "outputs": [],
   "execution_count": null
  },
  {
   "cell_type": "code",
   "id": "8b759815c86f4789",
   "metadata": {},
   "source": [
    "model = DecisionTreeClassifier()\n",
    "\n",
    "scores = []\n",
    "prevs_folds = []\n",
    "y_folds = []\n",
    "# Iterate through each fold\n",
    "for train_indices, test_indices in fold_indices:\n",
    "    X_train, y_train = X[train_indices], y[train_indices]\n",
    "    X_test, y_test = X[test_indices], y[test_indices]\n",
    "\n",
    "    # Train the model on the training data\n",
    "    clf.fit(X_train, y_train)\n",
    "\n",
    "    # Make predictions on the test data\n",
    "    y_pred = clf.predict(X_test)\n",
    "\n",
    "    # Calculate the accuracy score for this fold\n",
    "    fold_score = accuracy_score(y_test, y_pred)\n",
    "\n",
    "    # Append the fold score to the list of scores\n",
    "    scores.append(fold_score)\n",
    "\n",
    "    # Append the prevs and labels of the test set\n",
    "    prevs_folds.append(y_pred)\n",
    "    y_folds.append(y_test)\n",
    "\n",
    "# Calculate the mean accuracy across all folds\n",
    "mean_accuracy = np.mean(scores)\n",
    "std_accuracy = np.std(scores)\n",
    "print(\"K-Fold Cross-Validation Scores:\", scores)\n",
    "print(\"Mean Accuracy:\", mean_accuracy)\n",
    "print(\"Standart Deviation:\", std_accuracy)"
   ],
   "outputs": [],
   "execution_count": null
  },
  {
   "cell_type": "code",
   "id": "16df0d416c0f413e",
   "metadata": {},
   "source": [
    "# Reconstruir a arvore com diferentes valores\n",
    "X_train, X_test, y_train, y_test = train_test_split(X, y, test_size=0.3, random_state=123)\n",
    "import numpy as np\n",
    "\n",
    "max_depths = np.array([1, 2, 3, 4, 5, 6, 7, 8, 9, 10])\n",
    "\n",
    "# For each of these values, we want to run the full model cascade from start to finish. \n",
    "# We also want to record the train and test scores. We do this in a for loop:\n",
    "train_score = []\n",
    "test_score = []\n",
    "for d in max_depths:\n",
    "    clf = DecisionTreeClassifier(max_depth=d, random_state=42)\n",
    "    clf.fit(X_train, y_train)\n",
    "    train_score.append(clf.score(X_train, y_train))\n",
    "    test_score.append(clf.score(X_test, y_test))\n",
    "\n",
    "plt.style.use('ggplot')\n",
    "plt.figure(figsize=(10, 6))\n",
    "plt.plot(max_depths, train_score, 'o-', linewidth=3, label='train')\n",
    "plt.plot(max_depths, test_score, 's-', linewidth=3, label='test')\n",
    "plt.xlabel('max_depth')\n",
    "plt.ylabel('score')\n",
    "plt.ylim(0.2, 1.1)\n",
    "plt.legend();"
   ],
   "outputs": [],
   "execution_count": null
  },
  {
   "cell_type": "code",
   "id": "dc5fa87fa51c80ca",
   "metadata": {},
   "source": [
    "# What about the minimum numbers of samples required to make a node a leaf node? (another Hyperparameter)\n",
    "\n",
    "train_score = []\n",
    "test_score = []\n",
    "min_samples = np.array([2, 4, 8, 16, 32])\n",
    "for s in min_samples:\n",
    "    clf = DecisionTreeClassifier(min_samples_leaf=s, random_state=42)\n",
    "    clf.fit(X_train, y_train)\n",
    "    train_score.append(clf.score(X_train, y_train))\n",
    "    test_score.append(clf.score(X_test, y_test))\n",
    "plt.figure(figsize=(10, 6))\n",
    "plt.plot(min_samples, train_score, 'o-', linewidth=3, label='train')\n",
    "plt.plot(min_samples, test_score, 's-', linewidth=3, label='test')\n",
    "plt.xlabel('min_samples_leaf')\n",
    "plt.ylabel('score')\n",
    "plt.ylim(0.7, 1)\n",
    "plt.legend()"
   ],
   "outputs": [],
   "execution_count": null
  },
  {
   "cell_type": "code",
   "id": "f543a8ba-2a61-4d2d-ad19-a5afee47aa8c",
   "metadata": {},
   "source": [],
   "outputs": [],
   "execution_count": null
  }
 ],
 "metadata": {
  "kernelspec": {
   "display_name": "Python 3 (ipykernel)",
   "language": "python",
   "name": "python3"
  },
  "language_info": {
   "codemirror_mode": {
    "name": "ipython",
    "version": 3
   },
   "file_extension": ".py",
   "mimetype": "text/x-python",
   "name": "python",
   "nbconvert_exporter": "python",
   "pygments_lexer": "ipython3",
   "version": "3.11.1"
  }
 },
 "nbformat": 4,
 "nbformat_minor": 5
}
