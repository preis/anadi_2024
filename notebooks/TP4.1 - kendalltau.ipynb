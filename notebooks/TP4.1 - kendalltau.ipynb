{
 "cells": [
  {
   "cell_type": "markdown",
   "source": [
    "# Coeficiente de Kendall\n",
    "\n",
    "Usado para verificar se existe alguma relação entre as duas variáveis."
   ],
   "metadata": {
    "collapsed": false
   },
   "id": "3087d8ba9eca572e"
  },
  {
   "cell_type": "code",
   "execution_count": 1,
   "id": "initial_id",
   "metadata": {
    "collapsed": true,
    "ExecuteTime": {
     "end_time": "2024-03-26T17:24:24.990290Z",
     "start_time": "2024-03-26T17:24:24.484421Z"
    }
   },
   "outputs": [],
   "source": [
    "from scipy.stats import kendalltau"
   ]
  },
  {
   "cell_type": "code",
   "outputs": [],
   "source": [
    "anunciado = [8, 12, 16, 8, 8, 8, 27, 12, 8, 16]\n",
    "medido = [4.8, 5, 17.5, 6.4, 6.7, 4.3, 20.3, 8, 3.5, 6.3]"
   ],
   "metadata": {
    "collapsed": false,
    "ExecuteTime": {
     "end_time": "2024-03-26T17:24:24.994082Z",
     "start_time": "2024-03-26T17:24:24.991295Z"
    }
   },
   "id": "fd550d8356bfada4",
   "execution_count": 2
  },
  {
   "cell_type": "markdown",
   "source": [
    "Seja $\\tau$ o coeficiente de correlação de Kendall, temos:\n",
    "\n",
    "H$_0$: $\\tau$ = 0   vs  H$_1$: $\\tau \\neq$ 0 "
   ],
   "metadata": {
    "collapsed": false
   },
   "id": "72abf35bf65f3c53"
  },
  {
   "cell_type": "code",
   "outputs": [],
   "source": [
    "tau, p_value = kendalltau(anunciado, medido)"
   ],
   "metadata": {
    "collapsed": false,
    "ExecuteTime": {
     "end_time": "2024-03-26T17:24:24.998270Z",
     "start_time": "2024-03-26T17:24:24.995092Z"
    }
   },
   "id": "cbff0a1ce87dde29",
   "execution_count": 3
  },
  {
   "cell_type": "code",
   "outputs": [
    {
     "name": "stdout",
     "output_type": "stream",
     "text": [
      "Coeficiente de correlação de Kendall: 0.597\n",
      "p-value do teste de Kendall: 0.026\n"
     ]
    }
   ],
   "source": [
    "print(f\"Coeficiente de correlação de Kendall: {round(tau, 3)}\")\n",
    "print(f\"p-value do teste de Kendall: {round(p_value, 3)}\")"
   ],
   "metadata": {
    "collapsed": false,
    "ExecuteTime": {
     "end_time": "2024-03-26T17:24:25.003006Z",
     "start_time": "2024-03-26T17:24:24.999279Z"
    }
   },
   "id": "7ffa68c8d63c7f1e",
   "execution_count": 4
  },
  {
   "cell_type": "markdown",
   "source": [
    "Como o valor de prova é inferior ao nível de significância ($\\alpha$ = 5%) o coeficiente de correlação de Kendall é significativo. Ou seja, existe uma relação positiva entre o tempo de resposta anunciado e o tempo de resposta medido. "
   ],
   "metadata": {
    "collapsed": false
   },
   "id": "bf67a2e78c3ce826"
  },
  {
   "cell_type": "code",
   "outputs": [],
   "source": [],
   "metadata": {
    "collapsed": false,
    "ExecuteTime": {
     "end_time": "2024-03-26T17:24:25.006026Z",
     "start_time": "2024-03-26T17:24:25.004011Z"
    }
   },
   "id": "92fc3e36e619b84f",
   "execution_count": 4
  }
 ],
 "metadata": {
  "kernelspec": {
   "display_name": "Python 3",
   "language": "python",
   "name": "python3"
  },
  "language_info": {
   "codemirror_mode": {
    "name": "ipython",
    "version": 2
   },
   "file_extension": ".py",
   "mimetype": "text/x-python",
   "name": "python",
   "nbconvert_exporter": "python",
   "pygments_lexer": "ipython2",
   "version": "2.7.6"
  }
 },
 "nbformat": 4,
 "nbformat_minor": 5
}
