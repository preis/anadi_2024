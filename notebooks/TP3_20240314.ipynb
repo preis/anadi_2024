{
 "cells": [
  {
   "cell_type": "markdown",
   "source": [
    "# TP3\n",
    "Exercicios 8 a 14\n",
    "\n",
    "## Exercicio 8\n",
    "a)"
   ],
   "metadata": {
    "collapsed": false
   },
   "id": "bc2547b3811c8fa9"
  },
  {
   "cell_type": "code",
   "execution_count": 11,
   "id": "initial_id",
   "metadata": {
    "collapsed": true,
    "ExecuteTime": {
     "end_time": "2024-03-14T18:40:38.484534Z",
     "start_time": "2024-03-14T18:40:34.251882Z"
    }
   },
   "outputs": [],
   "source": [
    "import pandas as pd\n",
    "import scipy.stats as stats "
   ]
  },
  {
   "cell_type": "code",
   "outputs": [],
   "source": [
    "dados_8 = pd.read_csv(\"G:/O meu disco/ISEP/ANADI/cevada.csv\", delimiter=\",\")\n",
    "n_linhas, n_colunas = dados_8.shape"
   ],
   "metadata": {
    "collapsed": false,
    "ExecuteTime": {
     "end_time": "2024-03-14T18:38:41.836798Z",
     "start_time": "2024-03-14T18:38:41.817708Z"
    }
   },
   "id": "6c7ac6cba4a00847",
   "execution_count": 9
  },
  {
   "cell_type": "code",
   "outputs": [
    {
     "name": "stdout",
     "output_type": "stream",
     "text": [
      "Tamanho da amostra: 30\n"
     ]
    }
   ],
   "source": [
    "print(f\"Tamanho da amostra: {n_linhas}\")"
   ],
   "metadata": {
    "collapsed": false,
    "ExecuteTime": {
     "end_time": "2024-03-14T18:38:42.487216Z",
     "start_time": "2024-03-14T18:38:42.469216Z"
    }
   },
   "id": "71a5fd30a745d3da",
   "execution_count": 10
  },
  {
   "cell_type": "markdown",
   "source": [
    "As amostras são emparelhadas, podemos fazer um t-test"
   ],
   "metadata": {
    "collapsed": false
   },
   "id": "923c9847cc5d4572"
  },
  {
   "cell_type": "code",
   "outputs": [],
   "source": [
    "res8 = stats.tt"
   ],
   "metadata": {
    "collapsed": false
   },
   "id": "794c5ee5c034962a"
  },
  {
   "cell_type": "markdown",
   "source": [
    "Não foram semelhantes porque p_value é baixo.\n",
    "\n",
    "b) Teste paramétrico para amostras emparelhadas."
   ],
   "metadata": {
    "collapsed": false
   },
   "id": "72586f2d41341dd9"
  },
  {
   "cell_type": "code",
   "outputs": [
    {
     "ename": "TypeError",
     "evalue": "could not convert string to float: 'UF'",
     "output_type": "error",
     "traceback": [
      "\u001B[1;31m---------------------------------------------------------------------------\u001B[0m",
      "\u001B[1;31mValueError\u001B[0m                                Traceback (most recent call last)",
      "File \u001B[1;32m~\\Desenvolvimento\\Repositorios\\Pessoais\\ANADI_2024_0\\.venv\\lib\\site-packages\\pandas\\core\\nanops.py:85\u001B[0m, in \u001B[0;36mdisallow.__call__.<locals>._f\u001B[1;34m(*args, **kwargs)\u001B[0m\n\u001B[0;32m     84\u001B[0m \u001B[38;5;28;01mtry\u001B[39;00m:\n\u001B[1;32m---> 85\u001B[0m     \u001B[38;5;28;01mreturn\u001B[39;00m f(\u001B[38;5;241m*\u001B[39margs, \u001B[38;5;241m*\u001B[39m\u001B[38;5;241m*\u001B[39mkwargs)\n\u001B[0;32m     86\u001B[0m \u001B[38;5;28;01mexcept\u001B[39;00m \u001B[38;5;167;01mValueError\u001B[39;00m \u001B[38;5;28;01mas\u001B[39;00m e:\n\u001B[0;32m     87\u001B[0m     \u001B[38;5;66;03m# we want to transform an object array\u001B[39;00m\n\u001B[0;32m     88\u001B[0m     \u001B[38;5;66;03m# ValueError message to the more typical TypeError\u001B[39;00m\n\u001B[0;32m     89\u001B[0m     \u001B[38;5;66;03m# e.g. this is normally a disallowed function on\u001B[39;00m\n\u001B[0;32m     90\u001B[0m     \u001B[38;5;66;03m# object arrays that contain strings\u001B[39;00m\n",
      "File \u001B[1;32m~\\Desenvolvimento\\Repositorios\\Pessoais\\ANADI_2024_0\\.venv\\lib\\site-packages\\pandas\\core\\nanops.py:477\u001B[0m, in \u001B[0;36mmaybe_operate_rowwise.<locals>.newfunc\u001B[1;34m(values, axis, **kwargs)\u001B[0m\n\u001B[0;32m    475\u001B[0m     \u001B[38;5;28;01mreturn\u001B[39;00m np\u001B[38;5;241m.\u001B[39marray(results)\n\u001B[1;32m--> 477\u001B[0m \u001B[38;5;28;01mreturn\u001B[39;00m func(values, axis\u001B[38;5;241m=\u001B[39maxis, \u001B[38;5;241m*\u001B[39m\u001B[38;5;241m*\u001B[39mkwargs)\n",
      "File \u001B[1;32m~\\Desenvolvimento\\Repositorios\\Pessoais\\ANADI_2024_0\\.venv\\lib\\site-packages\\pandas\\core\\nanops.py:1240\u001B[0m, in \u001B[0;36mnanskew\u001B[1;34m(values, axis, skipna, mask)\u001B[0m\n\u001B[0;32m   1239\u001B[0m \u001B[38;5;28;01mif\u001B[39;00m values\u001B[38;5;241m.\u001B[39mdtype\u001B[38;5;241m.\u001B[39mkind \u001B[38;5;241m!=\u001B[39m \u001B[38;5;124m\"\u001B[39m\u001B[38;5;124mf\u001B[39m\u001B[38;5;124m\"\u001B[39m:\n\u001B[1;32m-> 1240\u001B[0m     values \u001B[38;5;241m=\u001B[39m \u001B[43mvalues\u001B[49m\u001B[38;5;241;43m.\u001B[39;49m\u001B[43mastype\u001B[49m\u001B[43m(\u001B[49m\u001B[38;5;124;43m\"\u001B[39;49m\u001B[38;5;124;43mf8\u001B[39;49m\u001B[38;5;124;43m\"\u001B[39;49m\u001B[43m)\u001B[49m\n\u001B[0;32m   1241\u001B[0m     count \u001B[38;5;241m=\u001B[39m _get_counts(values\u001B[38;5;241m.\u001B[39mshape, mask, axis)\n",
      "\u001B[1;31mValueError\u001B[0m: could not convert string to float: 'UF'",
      "\nThe above exception was the direct cause of the following exception:\n",
      "\u001B[1;31mTypeError\u001B[0m                                 Traceback (most recent call last)",
      "Cell \u001B[1;32mIn[12], line 2\u001B[0m\n\u001B[0;32m      1\u001B[0m dif_cevada \u001B[38;5;241m=\u001B[39m dados_8[\u001B[38;5;124m\"\u001B[39m\u001B[38;5;124mY1\u001B[39m\u001B[38;5;124m\"\u001B[39m] \u001B[38;5;241m-\u001B[39m dados_8[\u001B[38;5;124m\"\u001B[39m\u001B[38;5;124mY2\u001B[39m\u001B[38;5;124m\"\u001B[39m]\n\u001B[1;32m----> 2\u001B[0m coef_skewness \u001B[38;5;241m=\u001B[39m \u001B[43mdados_8\u001B[49m\u001B[38;5;241;43m.\u001B[39;49m\u001B[43mskew\u001B[49m\u001B[43m(\u001B[49m\u001B[43m)\u001B[49m\n\u001B[0;32m      3\u001B[0m \u001B[38;5;28mprint\u001B[39m(coef_skewness)\n",
      "File \u001B[1;32m~\\Desenvolvimento\\Repositorios\\Pessoais\\ANADI_2024_0\\.venv\\lib\\site-packages\\pandas\\core\\frame.py:11734\u001B[0m, in \u001B[0;36mDataFrame.skew\u001B[1;34m(self, axis, skipna, numeric_only, **kwargs)\u001B[0m\n\u001B[0;32m  11726\u001B[0m \u001B[38;5;129m@doc\u001B[39m(make_doc(\u001B[38;5;124m\"\u001B[39m\u001B[38;5;124mskew\u001B[39m\u001B[38;5;124m\"\u001B[39m, ndim\u001B[38;5;241m=\u001B[39m\u001B[38;5;241m2\u001B[39m))\n\u001B[0;32m  11727\u001B[0m \u001B[38;5;28;01mdef\u001B[39;00m \u001B[38;5;21mskew\u001B[39m(\n\u001B[0;32m  11728\u001B[0m     \u001B[38;5;28mself\u001B[39m,\n\u001B[1;32m   (...)\u001B[0m\n\u001B[0;32m  11732\u001B[0m     \u001B[38;5;241m*\u001B[39m\u001B[38;5;241m*\u001B[39mkwargs,\n\u001B[0;32m  11733\u001B[0m ):\n\u001B[1;32m> 11734\u001B[0m     result \u001B[38;5;241m=\u001B[39m \u001B[38;5;28msuper\u001B[39m()\u001B[38;5;241m.\u001B[39mskew(axis, skipna, numeric_only, \u001B[38;5;241m*\u001B[39m\u001B[38;5;241m*\u001B[39mkwargs)\n\u001B[0;32m  11735\u001B[0m     \u001B[38;5;28;01mif\u001B[39;00m \u001B[38;5;28misinstance\u001B[39m(result, Series):\n\u001B[0;32m  11736\u001B[0m         result \u001B[38;5;241m=\u001B[39m result\u001B[38;5;241m.\u001B[39m__finalize__(\u001B[38;5;28mself\u001B[39m, method\u001B[38;5;241m=\u001B[39m\u001B[38;5;124m\"\u001B[39m\u001B[38;5;124mskew\u001B[39m\u001B[38;5;124m\"\u001B[39m)\n",
      "File \u001B[1;32m~\\Desenvolvimento\\Repositorios\\Pessoais\\ANADI_2024_0\\.venv\\lib\\site-packages\\pandas\\core\\generic.py:12435\u001B[0m, in \u001B[0;36mNDFrame.skew\u001B[1;34m(self, axis, skipna, numeric_only, **kwargs)\u001B[0m\n\u001B[0;32m  12428\u001B[0m \u001B[38;5;28;01mdef\u001B[39;00m \u001B[38;5;21mskew\u001B[39m(\n\u001B[0;32m  12429\u001B[0m     \u001B[38;5;28mself\u001B[39m,\n\u001B[0;32m  12430\u001B[0m     axis: Axis \u001B[38;5;241m|\u001B[39m \u001B[38;5;28;01mNone\u001B[39;00m \u001B[38;5;241m=\u001B[39m \u001B[38;5;241m0\u001B[39m,\n\u001B[1;32m   (...)\u001B[0m\n\u001B[0;32m  12433\u001B[0m     \u001B[38;5;241m*\u001B[39m\u001B[38;5;241m*\u001B[39mkwargs,\n\u001B[0;32m  12434\u001B[0m ) \u001B[38;5;241m-\u001B[39m\u001B[38;5;241m>\u001B[39m Series \u001B[38;5;241m|\u001B[39m \u001B[38;5;28mfloat\u001B[39m:\n\u001B[1;32m> 12435\u001B[0m     \u001B[38;5;28;01mreturn\u001B[39;00m \u001B[38;5;28mself\u001B[39m\u001B[38;5;241m.\u001B[39m_stat_function(\n\u001B[0;32m  12436\u001B[0m         \u001B[38;5;124m\"\u001B[39m\u001B[38;5;124mskew\u001B[39m\u001B[38;5;124m\"\u001B[39m, nanops\u001B[38;5;241m.\u001B[39mnanskew, axis, skipna, numeric_only, \u001B[38;5;241m*\u001B[39m\u001B[38;5;241m*\u001B[39mkwargs\n\u001B[0;32m  12437\u001B[0m     )\n",
      "File \u001B[1;32m~\\Desenvolvimento\\Repositorios\\Pessoais\\ANADI_2024_0\\.venv\\lib\\site-packages\\pandas\\core\\generic.py:12370\u001B[0m, in \u001B[0;36mNDFrame._stat_function\u001B[1;34m(self, name, func, axis, skipna, numeric_only, **kwargs)\u001B[0m\n\u001B[0;32m  12366\u001B[0m nv\u001B[38;5;241m.\u001B[39mvalidate_func(name, (), kwargs)\n\u001B[0;32m  12368\u001B[0m validate_bool_kwarg(skipna, \u001B[38;5;124m\"\u001B[39m\u001B[38;5;124mskipna\u001B[39m\u001B[38;5;124m\"\u001B[39m, none_allowed\u001B[38;5;241m=\u001B[39m\u001B[38;5;28;01mFalse\u001B[39;00m)\n\u001B[1;32m> 12370\u001B[0m \u001B[38;5;28;01mreturn\u001B[39;00m \u001B[38;5;28;43mself\u001B[39;49m\u001B[38;5;241;43m.\u001B[39;49m\u001B[43m_reduce\u001B[49m\u001B[43m(\u001B[49m\n\u001B[0;32m  12371\u001B[0m \u001B[43m    \u001B[49m\u001B[43mfunc\u001B[49m\u001B[43m,\u001B[49m\u001B[43m \u001B[49m\u001B[43mname\u001B[49m\u001B[38;5;241;43m=\u001B[39;49m\u001B[43mname\u001B[49m\u001B[43m,\u001B[49m\u001B[43m \u001B[49m\u001B[43maxis\u001B[49m\u001B[38;5;241;43m=\u001B[39;49m\u001B[43maxis\u001B[49m\u001B[43m,\u001B[49m\u001B[43m \u001B[49m\u001B[43mskipna\u001B[49m\u001B[38;5;241;43m=\u001B[39;49m\u001B[43mskipna\u001B[49m\u001B[43m,\u001B[49m\u001B[43m \u001B[49m\u001B[43mnumeric_only\u001B[49m\u001B[38;5;241;43m=\u001B[39;49m\u001B[43mnumeric_only\u001B[49m\n\u001B[0;32m  12372\u001B[0m \u001B[43m\u001B[49m\u001B[43m)\u001B[49m\n",
      "File \u001B[1;32m~\\Desenvolvimento\\Repositorios\\Pessoais\\ANADI_2024_0\\.venv\\lib\\site-packages\\pandas\\core\\frame.py:11535\u001B[0m, in \u001B[0;36mDataFrame._reduce\u001B[1;34m(self, op, name, axis, skipna, numeric_only, filter_type, **kwds)\u001B[0m\n\u001B[0;32m  11531\u001B[0m     df \u001B[38;5;241m=\u001B[39m df\u001B[38;5;241m.\u001B[39mT\n\u001B[0;32m  11533\u001B[0m \u001B[38;5;66;03m# After possibly _get_data and transposing, we are now in the\u001B[39;00m\n\u001B[0;32m  11534\u001B[0m \u001B[38;5;66;03m#  simple case where we can use BlockManager.reduce\u001B[39;00m\n\u001B[1;32m> 11535\u001B[0m res \u001B[38;5;241m=\u001B[39m \u001B[43mdf\u001B[49m\u001B[38;5;241;43m.\u001B[39;49m\u001B[43m_mgr\u001B[49m\u001B[38;5;241;43m.\u001B[39;49m\u001B[43mreduce\u001B[49m\u001B[43m(\u001B[49m\u001B[43mblk_func\u001B[49m\u001B[43m)\u001B[49m\n\u001B[0;32m  11536\u001B[0m out \u001B[38;5;241m=\u001B[39m df\u001B[38;5;241m.\u001B[39m_constructor_from_mgr(res, axes\u001B[38;5;241m=\u001B[39mres\u001B[38;5;241m.\u001B[39maxes)\u001B[38;5;241m.\u001B[39miloc[\u001B[38;5;241m0\u001B[39m]\n\u001B[0;32m  11537\u001B[0m \u001B[38;5;28;01mif\u001B[39;00m out_dtype \u001B[38;5;129;01mis\u001B[39;00m \u001B[38;5;129;01mnot\u001B[39;00m \u001B[38;5;28;01mNone\u001B[39;00m \u001B[38;5;129;01mand\u001B[39;00m out\u001B[38;5;241m.\u001B[39mdtype \u001B[38;5;241m!=\u001B[39m \u001B[38;5;124m\"\u001B[39m\u001B[38;5;124mboolean\u001B[39m\u001B[38;5;124m\"\u001B[39m:\n",
      "File \u001B[1;32m~\\Desenvolvimento\\Repositorios\\Pessoais\\ANADI_2024_0\\.venv\\lib\\site-packages\\pandas\\core\\internals\\managers.py:1501\u001B[0m, in \u001B[0;36mBlockManager.reduce\u001B[1;34m(self, func)\u001B[0m\n\u001B[0;32m   1499\u001B[0m res_blocks: \u001B[38;5;28mlist\u001B[39m[Block] \u001B[38;5;241m=\u001B[39m []\n\u001B[0;32m   1500\u001B[0m \u001B[38;5;28;01mfor\u001B[39;00m blk \u001B[38;5;129;01min\u001B[39;00m \u001B[38;5;28mself\u001B[39m\u001B[38;5;241m.\u001B[39mblocks:\n\u001B[1;32m-> 1501\u001B[0m     nbs \u001B[38;5;241m=\u001B[39m \u001B[43mblk\u001B[49m\u001B[38;5;241;43m.\u001B[39;49m\u001B[43mreduce\u001B[49m\u001B[43m(\u001B[49m\u001B[43mfunc\u001B[49m\u001B[43m)\u001B[49m\n\u001B[0;32m   1502\u001B[0m     res_blocks\u001B[38;5;241m.\u001B[39mextend(nbs)\n\u001B[0;32m   1504\u001B[0m index \u001B[38;5;241m=\u001B[39m Index([\u001B[38;5;28;01mNone\u001B[39;00m])  \u001B[38;5;66;03m# placeholder\u001B[39;00m\n",
      "File \u001B[1;32m~\\Desenvolvimento\\Repositorios\\Pessoais\\ANADI_2024_0\\.venv\\lib\\site-packages\\pandas\\core\\internals\\blocks.py:404\u001B[0m, in \u001B[0;36mBlock.reduce\u001B[1;34m(self, func)\u001B[0m\n\u001B[0;32m    398\u001B[0m \u001B[38;5;129m@final\u001B[39m\n\u001B[0;32m    399\u001B[0m \u001B[38;5;28;01mdef\u001B[39;00m \u001B[38;5;21mreduce\u001B[39m(\u001B[38;5;28mself\u001B[39m, func) \u001B[38;5;241m-\u001B[39m\u001B[38;5;241m>\u001B[39m \u001B[38;5;28mlist\u001B[39m[Block]:\n\u001B[0;32m    400\u001B[0m     \u001B[38;5;66;03m# We will apply the function and reshape the result into a single-row\u001B[39;00m\n\u001B[0;32m    401\u001B[0m     \u001B[38;5;66;03m#  Block with the same mgr_locs; squeezing will be done at a higher level\u001B[39;00m\n\u001B[0;32m    402\u001B[0m     \u001B[38;5;28;01massert\u001B[39;00m \u001B[38;5;28mself\u001B[39m\u001B[38;5;241m.\u001B[39mndim \u001B[38;5;241m==\u001B[39m \u001B[38;5;241m2\u001B[39m\n\u001B[1;32m--> 404\u001B[0m     result \u001B[38;5;241m=\u001B[39m \u001B[43mfunc\u001B[49m\u001B[43m(\u001B[49m\u001B[38;5;28;43mself\u001B[39;49m\u001B[38;5;241;43m.\u001B[39;49m\u001B[43mvalues\u001B[49m\u001B[43m)\u001B[49m\n\u001B[0;32m    406\u001B[0m     \u001B[38;5;28;01mif\u001B[39;00m \u001B[38;5;28mself\u001B[39m\u001B[38;5;241m.\u001B[39mvalues\u001B[38;5;241m.\u001B[39mndim \u001B[38;5;241m==\u001B[39m \u001B[38;5;241m1\u001B[39m:\n\u001B[0;32m    407\u001B[0m         res_values \u001B[38;5;241m=\u001B[39m result\n",
      "File \u001B[1;32m~\\Desenvolvimento\\Repositorios\\Pessoais\\ANADI_2024_0\\.venv\\lib\\site-packages\\pandas\\core\\frame.py:11454\u001B[0m, in \u001B[0;36mDataFrame._reduce.<locals>.blk_func\u001B[1;34m(values, axis)\u001B[0m\n\u001B[0;32m  11452\u001B[0m         \u001B[38;5;28;01mreturn\u001B[39;00m np\u001B[38;5;241m.\u001B[39marray([result])\n\u001B[0;32m  11453\u001B[0m \u001B[38;5;28;01melse\u001B[39;00m:\n\u001B[1;32m> 11454\u001B[0m     \u001B[38;5;28;01mreturn\u001B[39;00m op(values, axis\u001B[38;5;241m=\u001B[39maxis, skipna\u001B[38;5;241m=\u001B[39mskipna, \u001B[38;5;241m*\u001B[39m\u001B[38;5;241m*\u001B[39mkwds)\n",
      "File \u001B[1;32m~\\Desenvolvimento\\Repositorios\\Pessoais\\ANADI_2024_0\\.venv\\lib\\site-packages\\pandas\\core\\nanops.py:92\u001B[0m, in \u001B[0;36mdisallow.__call__.<locals>._f\u001B[1;34m(*args, **kwargs)\u001B[0m\n\u001B[0;32m     86\u001B[0m \u001B[38;5;28;01mexcept\u001B[39;00m \u001B[38;5;167;01mValueError\u001B[39;00m \u001B[38;5;28;01mas\u001B[39;00m e:\n\u001B[0;32m     87\u001B[0m     \u001B[38;5;66;03m# we want to transform an object array\u001B[39;00m\n\u001B[0;32m     88\u001B[0m     \u001B[38;5;66;03m# ValueError message to the more typical TypeError\u001B[39;00m\n\u001B[0;32m     89\u001B[0m     \u001B[38;5;66;03m# e.g. this is normally a disallowed function on\u001B[39;00m\n\u001B[0;32m     90\u001B[0m     \u001B[38;5;66;03m# object arrays that contain strings\u001B[39;00m\n\u001B[0;32m     91\u001B[0m     \u001B[38;5;28;01mif\u001B[39;00m is_object_dtype(args[\u001B[38;5;241m0\u001B[39m]):\n\u001B[1;32m---> 92\u001B[0m         \u001B[38;5;28;01mraise\u001B[39;00m \u001B[38;5;167;01mTypeError\u001B[39;00m(e) \u001B[38;5;28;01mfrom\u001B[39;00m \u001B[38;5;21;01me\u001B[39;00m\n\u001B[0;32m     93\u001B[0m     \u001B[38;5;28;01mraise\u001B[39;00m\n",
      "\u001B[1;31mTypeError\u001B[0m: could not convert string to float: 'UF'"
     ]
    }
   ],
   "source": [
    "dif_cevada = dados_8[\"Y1\"] - dados_8[\"Y2\"]\n",
    "coef_skewness = dados_8.skew()\n",
    "print(coef_skewness)"
   ],
   "metadata": {
    "collapsed": false,
    "ExecuteTime": {
     "end_time": "2024-03-14T18:42:08.763376Z",
     "start_time": "2024-03-14T18:42:07.269535Z"
    }
   },
   "id": "5e231d8451332839",
   "execution_count": 12
  },
  {
   "cell_type": "code",
   "outputs": [
    {
     "data": {
      "text/plain": "0.004338232800364494"
     },
     "execution_count": 15,
     "metadata": {},
     "output_type": "execute_result"
    }
   ],
   "source": [
    "res_w = stats.wilcoxon(dados_8[\"Y1\"], dados_8[\"Y2\"], alternative=\"two-sided\")\n",
    "res_w.pvalue"
   ],
   "metadata": {
    "collapsed": false,
    "ExecuteTime": {
     "end_time": "2024-03-14T18:43:10.872124Z",
     "start_time": "2024-03-14T18:43:10.849122Z"
    }
   },
   "id": "bf9e0dd6bf8ab258",
   "execution_count": 15
  },
  {
   "cell_type": "markdown",
   "source": [
    "Semelhante à conclusão do t-test\n",
    "\n",
    "# Exercicio 9\n",
    "\n",
    "Amostras muito pequenas. E uma escala de Likert.\n",
    "Amostras independentes, porque as pessoas que avaliaram a webA não foram as mesmas que avaliaram a webB.\n",
    "\n"
   ],
   "metadata": {
    "collapsed": false
   },
   "id": "bdd9365a2e9137f2"
  },
  {
   "cell_type": "code",
   "outputs": [
    {
     "data": {
      "text/plain": "0.006295955745189852"
     },
     "execution_count": 18,
     "metadata": {},
     "output_type": "execute_result"
    }
   ],
   "source": [
    "web_a = [3, 4, 2, 6, 2, 5]\n",
    "web_b = [9, 7, 5, 10, 6, 8]\n",
    "res9 = stats.mannwhitneyu(web_a, web_b, alternative=\"less\")\n",
    "res9.pvalue"
   ],
   "metadata": {
    "collapsed": false,
    "ExecuteTime": {
     "end_time": "2024-03-14T18:48:40.520844Z",
     "start_time": "2024-03-14T18:48:40.506790Z"
    }
   },
   "id": "e8795672a050bfcf",
   "execution_count": 18
  },
  {
   "cell_type": "markdown",
   "source": [
    "Rejeita-se a hipotese nula, por que p-value é baixo. A usabilidade da +ágina webA é significativamente inferior à da webB.\n",
    "\n",
    "# Exercicio 10\n",
    "\n",
    "Velocidade é uma variável continua.\n",
    "Primeiro vemos o tamanho das amostras.\n",
    "Não são emparelhadas, porque as amostras têm tamanhos diferentes.\n",
    "As amostras são pequenas.\n",
    "\n",
    "Para saber se usamos um teste parametrico ou não parametricos  usamos um teste de shapiro.\n",
    "\n",
    "Shapiro normal => t_test\n",
    "não normal => wilcoxon para amostras não indepentes \n",
    "\n",
    "p-value baixo, lgo amostra bão normais.\n",
    "\n",
    "\n"
   ],
   "metadata": {
    "collapsed": false
   },
   "id": "a6e3c93c7e60efcd"
  },
  {
   "cell_type": "code",
   "outputs": [],
   "source": [
    "dados_10 = pd.read_csv(\"G:/O meu disco/ISEP/ANADI/processadores.txt\", delimiter=\",\")"
   ],
   "metadata": {
    "collapsed": false,
    "ExecuteTime": {
     "end_time": "2024-03-14T18:52:32.722025Z",
     "start_time": "2024-03-14T18:52:32.694022Z"
    }
   },
   "id": "bbd105753c9bf276",
   "execution_count": 20
  },
  {
   "cell_type": "code",
   "outputs": [],
   "source": [
    "t_n_10 = stats.shapiro(...)\n",
    "\n",
    "res_10 = stats.mannwhitneyu(...)\n",
    "res_10.pvalue"
   ],
   "metadata": {
    "collapsed": false
   },
   "id": "7c7468184a3e85e0"
  },
  {
   "cell_type": "markdown",
   "source": [
    "# Exercicio 11\n",
    "Amostras independentes.\n",
    "\n",
    "Amostras pequenas, nem faz sentido testar para saber se usamos oneway_anova.\n",
    "\n",
    "Usa-se kruskal\n",
    "\n",
    "rejeita-se a hipotese nula.\n",
    "\n",
    "Sempre que nos aparece uma recusa da H0 é necessário fazer um teste post hoc.\n",
    "\n",
    "Se estamos a comparar mais de 2 populações, e recusamos a hipotese nula, temos de fazer o post hoc, para identificar quais as populações que são diferentes."
   ],
   "metadata": {
    "collapsed": false
   },
   "id": "ebec9667e1e664a4"
  },
  {
   "cell_type": "code",
   "outputs": [
    {
     "ename": "SyntaxError",
     "evalue": "invalid syntax (2351121028.py, line 2)",
     "output_type": "error",
     "traceback": [
      "\u001B[1;36m  Cell \u001B[1;32mIn[23], line 2\u001B[1;36m\u001B[0m\n\u001B[1;33m    new_header =\u001B[0m\n\u001B[1;37m                 ^\u001B[0m\n\u001B[1;31mSyntaxError\u001B[0m\u001B[1;31m:\u001B[0m invalid syntax\n"
     ]
    }
   ],
   "source": [
    "dados_11 = pd.read_csv(\"G:/O meu disco/ISEP/ANADI/dados_vacinas.csv\")\n",
    "new_header = "
   ],
   "metadata": {
    "collapsed": false,
    "ExecuteTime": {
     "end_time": "2024-03-14T19:01:42.050389Z",
     "start_time": "2024-03-14T19:01:42.028317Z"
    }
   },
   "id": "4eb955f1a9084403",
   "execution_count": 23
  },
  {
   "cell_type": "code",
   "outputs": [],
   "source": [
    "ant_A = dados_11[dados_11[\"vacinas\"] == \"A\"][\"anticorpos\"]\n",
    "ant_B = dados_11[dados_11[\"vacinas\"] == \"B\"][\"anticorpos\"]\n",
    "ant_B = dados_11[dados_11[\"vacinas\"] == \"C\"][\"anticorpos\"]"
   ],
   "metadata": {
    "collapsed": false
   },
   "id": "6fee19c6779a9233"
  },
  {
   "cell_type": "markdown",
   "source": [
    "# Exercicio 12\n",
    "\n",
    "Variável não é continua. Logo não se pode usar oneway-anova.\n",
    "Amostras são independentes.\n",
    "\n",
    "Temos de usar o teste de kruskal.\n",
    "\n",
    "Não existem diferenças significativas, logo não se rejeita a hipotese nula."
   ],
   "metadata": {
    "collapsed": false
   },
   "id": "b2dfe4e51609d011"
  },
  {
   "cell_type": "code",
   "outputs": [],
   "source": [],
   "metadata": {
    "collapsed": false
   },
   "id": "8ab69ac82ebaf6e4"
  },
  {
   "cell_type": "markdown",
   "source": [
    "# Exercicio 13\n",
    "\n",
    "Amostras emparelhadas, 12 pessoas - 3 marcas, todos avaliam tudo.\n",
    "Teste de Friedman\n",
    "\n",
    "pvalue baixo => teste de post hoc"
   ],
   "metadata": {
    "collapsed": false
   },
   "id": "feb7d870c50d8e88"
  },
  {
   "cell_type": "code",
   "outputs": [
    {
     "data": {
      "text/plain": "FriedmanchisquareResult(statistic=16.545454545454536, pvalue=0.0002553878283445329)"
     },
     "execution_count": 27,
     "metadata": {},
     "output_type": "execute_result"
    }
   ],
   "source": [
    "dados_13 = pd.read_csv(\"G:/O meu disco/ISEP/ANADI/desempenho.csv\", delimiter=\";\")\n",
    "desemp_a = dados_13[dados_13[\"Marca\"] == \"A\"]\n",
    "desemp_b = dados_13[dados_13[\"Marca\"] == \"B\"]\n",
    "desemp_c = dados_13[dados_13[\"Marca\"] == \"C\"]\n",
    "stats.friedmanchisquare(desemp_a[\"Resposta\"], desemp_b[\"Resposta\"], desemp_c[\"Resposta\"])"
   ],
   "metadata": {
    "collapsed": false,
    "ExecuteTime": {
     "end_time": "2024-03-14T19:21:38.920060Z",
     "start_time": "2024-03-14T19:21:38.898060Z"
    }
   },
   "id": "e059feae4e50680a",
   "execution_count": 27
  },
  {
   "cell_type": "markdown",
   "source": [
    "# Exercicio 14\n",
    "Amostras emparelhadas"
   ],
   "metadata": {
    "collapsed": false
   },
   "id": "81d83e527ec2556f"
  }
 ],
 "metadata": {
  "kernelspec": {
   "display_name": "Python 3",
   "language": "python",
   "name": "python3"
  },
  "language_info": {
   "codemirror_mode": {
    "name": "ipython",
    "version": 2
   },
   "file_extension": ".py",
   "mimetype": "text/x-python",
   "name": "python",
   "nbconvert_exporter": "python",
   "pygments_lexer": "ipython2",
   "version": "2.7.6"
  }
 },
 "nbformat": 4,
 "nbformat_minor": 5
}
