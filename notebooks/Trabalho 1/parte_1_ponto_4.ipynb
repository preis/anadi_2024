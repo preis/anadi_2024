{
 "cells": [
  {
   "cell_type": "markdown",
   "source": [
    "# Análise e exploração de dados\n",
    "\n",
    "Este ficheiro é para me \"ambientar\" com o que é pedido.\n",
    "O \"trabalho\" oficial está no reposítório **git** da equipa: \n",
    "https://bitbucket.org/anadi-rita/anadi/src/main/\n",
    "\n",
    "~~~bash\n",
    "git clone git@bitbucket.org:anadi-rita/anadi.git\n",
    "~~~"
   ],
   "metadata": {
    "collapsed": false
   },
   "id": "debea140d3d8975c"
  },
  {
   "cell_type": "markdown",
   "source": [
    "## Imports"
   ],
   "metadata": {
    "collapsed": false
   },
   "id": "c555bf7cf9af1ebe"
  },
  {
   "cell_type": "code",
   "execution_count": null,
   "id": "initial_id",
   "metadata": {
    "collapsed": true
   },
   "outputs": [],
   "source": [
    "from pathlib import Path\n",
    "import pandas as pd\n",
    "import numpy as np\n",
    "import matplotlib.pyplot as plt\n",
    "from matplotlib import colors as mcolors\n",
    "import utilidades as ut"
   ]
  },
  {
   "cell_type": "markdown",
   "source": [
    "## Variáveis"
   ],
   "metadata": {
    "collapsed": false
   },
   "id": "a931d3170ed35b13"
  },
  {
   "cell_type": "code",
   "outputs": [],
   "source": [
    "proj_root_dir = Path(\".\").resolve().parent.parent\n",
    "data_files_dir = \"/ficheiros/Trabalho 1/\"\n",
    "ficheiro_dados_co = f\"{proj_root_dir}{data_files_dir}CO_data.csv\"\n",
    "ficheiro_dicio_dados_co = f\"{proj_root_dir}{data_files_dir}CO_data_dicionario.xlsx\"\n",
    "\n",
    "colunas_em_estudo = [\"year\", \"country\", \"coal_co2\", \"population\"]\n",
    "paises = [\"United States\", \"China\", \"India\", \"European Union (27) (GCP)\", \"Russia\"]\n",
    "\n",
    "# Preparar uma lista de cores\n",
    "cores = list(mcolors.BASE_COLORS.keys())\n"
   ],
   "metadata": {
    "collapsed": false
   },
   "id": "e481f7bd387e6b91",
   "execution_count": null
  },
  {
   "cell_type": "markdown",
   "source": [
    "## Carregar os dados"
   ],
   "metadata": {
    "collapsed": false
   },
   "id": "9bab74c26ac431be"
  },
  {
   "cell_type": "code",
   "outputs": [],
   "source": [
    "dados_co = pd.read_csv(\n",
    "    ficheiro_dados_co,\n",
    "    delimiter=\",\",\n",
    "    header=0,\n",
    ")"
   ],
   "metadata": {
    "collapsed": false
   },
   "id": "995690fbc90a5e32",
   "execution_count": null
  },
  {
   "cell_type": "markdown",
   "source": [
    "### Espreitar os dados"
   ],
   "metadata": {
    "collapsed": false
   },
   "id": "af28bf018d9d344c"
  },
  {
   "cell_type": "code",
   "outputs": [],
   "source": [
    "dados_co.head()"
   ],
   "metadata": {
    "collapsed": false
   },
   "id": "f178ef52e6c32979",
   "execution_count": null
  },
  {
   "cell_type": "markdown",
   "source": [
    "## Carregar o dicionário"
   ],
   "metadata": {
    "collapsed": false
   },
   "id": "c71dc4074a6e0839"
  },
  {
   "cell_type": "code",
   "outputs": [],
   "source": [
    "dicionario_dados = pd.read_excel(ficheiro_dicio_dados_co)"
   ],
   "metadata": {
    "collapsed": false
   },
   "id": "aa52cde516e20308",
   "execution_count": null
  },
  {
   "cell_type": "markdown",
   "source": [
    "## Análise e exploração de dados\n",
    "\n",
    "Ponto 4.1 do trabalho\n",
    "\n",
    "### Ponto 4\n",
    "Construa um gráfico que permita comparar as emissões de CO2 originadas pelo carvão dos Estados\n",
    "Unidos, China, Índia, União Europeia (a 27) e a Rússia no período 2000-2021. \n",
    "\n",
    "\n",
    "#### Extrair os dados dos areas pretendidas"
   ],
   "metadata": {
    "collapsed": false
   },
   "id": "80320c1802a65672"
  },
  {
   "cell_type": "code",
   "outputs": [],
   "source": [
    "dados_co_areas = dados_co.loc[dados_co.country.isin(paises), colunas_em_estudo]"
   ],
   "metadata": {
    "collapsed": false
   },
   "id": "efa0d08cdb54cf47",
   "execution_count": null
  },
  {
   "cell_type": "markdown",
   "source": [
    "### Solução Rita\n",
    "\n",
    "NOTA: Não usei o dataset filtrado por anos."
   ],
   "metadata": {
    "collapsed": false
   },
   "id": "6dc245d155daabb1"
  },
  {
   "cell_type": "code",
   "outputs": [],
   "source": [
    "# gráfico pedido pelo professor(time series)\n",
    "plt.figure(figsize=(14, 8))\n",
    "#para cada país filtra os dados(usado para a label) e apresenta\n",
    "for country in paises:\n",
    "    # Filtra os dados para o país atual\n",
    "    country_co2 = dados_co_areas[dados_co_areas['country'] == country]\n",
    "    # Plota os dados para o país atual\n",
    "    plt.plot(country_co2['year'], country_co2['coal_co2'], label=country)\n",
    "plt.xlabel('Ano')\n",
    "plt.ylabel('CO2 (milhões de toneladas)')\n",
    "plt.title('Emissões de CO2 ao longo do tempo em vários países 2000-2021')\n",
    "plt.legend()\n",
    "plt.grid(True)\n",
    "plt.show()"
   ],
   "metadata": {
    "collapsed": false
   },
   "id": "356e549815e8845c",
   "execution_count": null
  },
  {
   "cell_type": "markdown",
   "source": [
    "### Minha solução\n",
    "\n",
    "#### Preparação dos dados"
   ],
   "metadata": {
    "collapsed": false
   },
   "id": "9c8d01d354b90f8"
  },
  {
   "cell_type": "code",
   "outputs": [],
   "source": [
    "dados_co_areas.head()"
   ],
   "metadata": {
    "collapsed": false
   },
   "id": "fdd610d9092b4b6f",
   "execution_count": null
  },
  {
   "cell_type": "markdown",
   "source": [
    "#### Filtrar os paises e anos"
   ],
   "metadata": {
    "collapsed": false
   },
   "id": "3d5a25dc9fafa75b"
  },
  {
   "cell_type": "code",
   "outputs": [],
   "source": [
    "filtro_anos = dados_co.year >= 2000\n",
    "filtro_paises = dados_co.country.isin(paises)\n",
    "dados_co_areas_anos = dados_co.loc[filtro_paises & filtro_anos, colunas_em_estudo]"
   ],
   "metadata": {
    "collapsed": false
   },
   "id": "49ff5a701c35d110",
   "execution_count": null
  },
  {
   "cell_type": "markdown",
   "source": [
    "#### Preencher os NaN "
   ],
   "metadata": {
    "collapsed": false
   },
   "id": "2a14c732e0d7dc8a"
  },
  {
   "cell_type": "code",
   "outputs": [],
   "source": [
    "dados_co_areas_anos.fillna(0, inplace=True)"
   ],
   "metadata": {
    "collapsed": false
   },
   "id": "c848ee32615a6282",
   "execution_count": null
  },
  {
   "cell_type": "code",
   "outputs": [],
   "source": [
    "dados_co_areas_anos.head()"
   ],
   "metadata": {
    "collapsed": false
   },
   "id": "102a3e9f26b529d8",
   "execution_count": null
  },
  {
   "cell_type": "code",
   "outputs": [],
   "source": [
    "plot_fig, plot_ax = plt.subplots(figsize=(12, 8))\n",
    "# Configuraçao do ``Axes``.\n",
    "plot_ax.set_title(r\"Emissões de CO$_2$ grande áreas entre 2000 e 2021\")\n",
    "plot_ax.set_xlabel(\"Ano\")\n",
    "plot_ax.set_ylabel(r\"Emissão CO$_2$ (milhões de toneladas)\")\n",
    "plot_ax.grid(True)\n",
    "\n",
    "graficos = []\n",
    "\n",
    "# Construir as várias \"linhas\"\n",
    "for idx, pais in enumerate(paises):\n",
    "    grafico = plot_ax.plot(\n",
    "        \"year\",  # Seria a utilizar para o eixo dos XX.\n",
    "        \"coal_co2\",  # Seria a utilizar para o eixo dos YY.\n",
    "        data=dados_co_areas_anos[dados_co_areas_anos.country == pais],  # Estrutura de dados a utilizar, neste caso 1 DataFrame. \n",
    "        color=cores[idx],  # Cor da \"linha\".\n",
    "        label=paises[idx],  # O valor \"humano\" das etiquetas. \n",
    "    )\n",
    "    # Vou guardar as linhas numa lista caso queira mais tarde referênciar as mesmas.\n",
    "    graficos.append(grafico)\n",
    "\n",
    "plot_ax.legend(loc=\"upper left\")"
   ],
   "metadata": {
    "collapsed": false
   },
   "id": "93d7102f17e70708",
   "execution_count": null
  },
  {
   "cell_type": "code",
   "outputs": [],
   "source": [],
   "metadata": {
    "collapsed": false
   },
   "id": "472fa45c63a18fd2",
   "execution_count": null
  }
 ],
 "metadata": {
  "kernelspec": {
   "display_name": "Python 3",
   "language": "python",
   "name": "python3"
  },
  "language_info": {
   "codemirror_mode": {
    "name": "ipython",
    "version": 2
   },
   "file_extension": ".py",
   "mimetype": "text/x-python",
   "name": "python",
   "nbconvert_exporter": "python",
   "pygments_lexer": "ipython2",
   "version": "2.7.6"
  }
 },
 "nbformat": 4,
 "nbformat_minor": 5
}
