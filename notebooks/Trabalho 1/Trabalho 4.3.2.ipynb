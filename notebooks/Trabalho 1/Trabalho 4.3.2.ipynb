{
 "cells": [
  {
   "cell_type": "markdown",
   "source": [
    "# 4.3\n",
    "## 1.\n",
    "### Imports"
   ],
   "metadata": {
    "collapsed": false
   },
   "id": "ec06f358ace34aca"
  },
  {
   "cell_type": "code",
   "outputs": [],
   "source": [
    "import pandas as pd\n",
    "import numpy as np\n",
    "import seaborn as sns\n",
    "import scipy.stats as stats\n",
    "import statsmodels.api as sm\n",
    "import matplotlib.pyplot as plt"
   ],
   "metadata": {
    "collapsed": false,
    "ExecuteTime": {
     "end_time": "2024-04-04T18:07:32.078451Z",
     "start_time": "2024-04-04T18:07:30.652953Z"
    }
   },
   "id": "d7a5fa0b43c5c699",
   "execution_count": 8
  },
  {
   "cell_type": "markdown",
   "source": [
    "### Ler os dados"
   ],
   "metadata": {
    "collapsed": false
   },
   "id": "8aa7f67b3cae872a"
  },
  {
   "cell_type": "code",
   "outputs": [],
   "source": [
    "dados_lidos = pd.read_csv(\"CO_data.csv\")"
   ],
   "metadata": {
    "collapsed": false,
    "ExecuteTime": {
     "end_time": "2024-04-04T18:07:32.125020Z",
     "start_time": "2024-04-04T18:07:32.080452Z"
    }
   },
   "id": "7bbd12090a1b203d",
   "execution_count": 9
  },
  {
   "cell_type": "markdown",
   "source": [
    "### Variáveis"
   ],
   "metadata": {
    "collapsed": false
   },
   "id": "e29f0d9e7d1b500e"
  },
  {
   "cell_type": "code",
   "outputs": [],
   "source": [
    "# Listas de paises e anos\n",
    "areas_geo = [\"Europe\", \"Germany\", \"Russia\", \"France\", \"Portugal\"]\n",
    "anos = list(range(2000, 2022))[::2]\n",
    "\n",
    "# Definição das condições de filtragem.\n",
    "condicao_anos = dados_lidos[\"year\"].isin(anos)"
   ],
   "metadata": {
    "collapsed": false,
    "ExecuteTime": {
     "end_time": "2024-04-04T18:07:32.140281Z",
     "start_time": "2024-04-04T18:07:32.126265Z"
    }
   },
   "id": "84aaa3cf60d30818",
   "execution_count": 10
  },
  {
   "cell_type": "markdown",
   "source": [
    "### Obter dados dos anos pretendidos para as áreas geográficas em estudo."
   ],
   "metadata": {
    "collapsed": false
   },
   "id": "6fa676a1815af4d9"
  },
  {
   "cell_type": "code",
   "outputs": [],
   "source": [
    "dados_areas_geo = {}\n",
    "\n",
    "for area_geo in areas_geo:\n",
    "    condicao_area_geo = dados_lidos.country == area_geo\n",
    "    dados_areas_geo[area_geo] = list(dados_lidos.loc[condicao_anos & condicao_area_geo, [\"co2\"]][\"co2\"])\n",
    "\n",
    "dados_trabalho = pd.DataFrame(dados_areas_geo)\n",
    "# dados_trabalho.insert(0, \"year\", anos)"
   ],
   "metadata": {
    "collapsed": false,
    "ExecuteTime": {
     "end_time": "2024-04-04T18:07:32.171112Z",
     "start_time": "2024-04-04T18:07:32.141244Z"
    }
   },
   "id": "ed840876c89ed4e2",
   "execution_count": 11
  },
  {
   "cell_type": "code",
   "outputs": [
    {
     "data": {
      "text/plain": "     Europe  Germany    Russia   France  Portugal\n0  6158.767  899.352  1478.185  406.829    65.686\n1  6254.075  899.450  1505.520  407.790    69.643\n2  6431.065  886.637  1541.754  413.780    67.385\n3  6520.084  877.939  1618.246  406.462    64.924\n4  6402.666  854.508  1646.969  390.778    60.107",
      "text/html": "<div>\n<style scoped>\n    .dataframe tbody tr th:only-of-type {\n        vertical-align: middle;\n    }\n\n    .dataframe tbody tr th {\n        vertical-align: top;\n    }\n\n    .dataframe thead th {\n        text-align: right;\n    }\n</style>\n<table border=\"1\" class=\"dataframe\">\n  <thead>\n    <tr style=\"text-align: right;\">\n      <th></th>\n      <th>Europe</th>\n      <th>Germany</th>\n      <th>Russia</th>\n      <th>France</th>\n      <th>Portugal</th>\n    </tr>\n  </thead>\n  <tbody>\n    <tr>\n      <th>0</th>\n      <td>6158.767</td>\n      <td>899.352</td>\n      <td>1478.185</td>\n      <td>406.829</td>\n      <td>65.686</td>\n    </tr>\n    <tr>\n      <th>1</th>\n      <td>6254.075</td>\n      <td>899.450</td>\n      <td>1505.520</td>\n      <td>407.790</td>\n      <td>69.643</td>\n    </tr>\n    <tr>\n      <th>2</th>\n      <td>6431.065</td>\n      <td>886.637</td>\n      <td>1541.754</td>\n      <td>413.780</td>\n      <td>67.385</td>\n    </tr>\n    <tr>\n      <th>3</th>\n      <td>6520.084</td>\n      <td>877.939</td>\n      <td>1618.246</td>\n      <td>406.462</td>\n      <td>64.924</td>\n    </tr>\n    <tr>\n      <th>4</th>\n      <td>6402.666</td>\n      <td>854.508</td>\n      <td>1646.969</td>\n      <td>390.778</td>\n      <td>60.107</td>\n    </tr>\n  </tbody>\n</table>\n</div>"
     },
     "execution_count": 12,
     "metadata": {},
     "output_type": "execute_result"
    }
   ],
   "source": [
    "# Espreitar os dados filtrados\n",
    "dados_trabalho.head()"
   ],
   "metadata": {
    "collapsed": false,
    "ExecuteTime": {
     "end_time": "2024-04-04T18:07:32.186613Z",
     "start_time": "2024-04-04T18:07:32.173158Z"
    }
   },
   "id": "14b309c2069672d8",
   "execution_count": 12
  },
  {
   "cell_type": "markdown",
   "source": [
    "### a)\n",
    "\n",
    "Em **Y** temos a variável dependente, que são os valores da Europa (\"Europe\").\n",
    "Para **X** teremos o dataset das variáveis independente.\n",
    "Depois é aplicar o algoritmo. \n"
   ],
   "metadata": {
    "collapsed": false
   },
   "id": "fef22a8e9c7258f4"
  },
  {
   "cell_type": "code",
   "outputs": [
    {
     "name": "stdout",
     "output_type": "stream",
     "text": [
      "const      -1653.372466\n",
      "Germany       -0.583607\n",
      "Russia         2.095967\n",
      "France        12.748025\n",
      "Portugal       1.277526\n",
      "dtype: float64\n"
     ]
    }
   ],
   "source": [
    "X = dados_trabalho[areas_geo[1:]]\n",
    "Xc = sm.add_constant(X)\n",
    "Y = dados_trabalho[\"Europe\"]\n",
    "modelo = sm.OLS(Y, Xc)\n",
    "resultado = modelo.fit()\n",
    "print(resultado.params)"
   ],
   "metadata": {
    "collapsed": false
   },
   "id": "30ded34acccd2fef",
   "execution_count": 21
  },
  {
   "cell_type": "markdown",
   "source": [
    "#### Formula geral\n",
    "\n",
    "$$Y = \\beta_0 + \\beta_1X_1 + \\beta_2X_2 + \\beta_3X_3 + \\beta_4X_4 + \\epsilon  $$\n",
    "\n",
    "#### Modelo\n",
    "\n",
    "$$ Y = -1653,37 - 0,58 . X_{Germany} + 2,09 . X_{Russia} + 12,74 . X_{France} + 1,27 . X_{Portugal} + \\epsilon $$\n"
   ],
   "metadata": {
    "collapsed": false
   },
   "id": "45548098c65b787e"
  },
  {
   "cell_type": "markdown",
   "source": [
    "### b)\n",
    "\n",
    "#### Cálculo dos residuos"
   ],
   "metadata": {
    "collapsed": false
   },
   "id": "cf9397d15e78956d"
  },
  {
   "cell_type": "code",
   "outputs": [
    {
     "data": {
      "text/plain": "<Figure size 1000x600 with 1 Axes>",
      "image/png": "[encoded data removed]"
     },
     "metadata": {},
     "output_type": "display_data"
    }
   ],
   "source": [
    "valores_ajustados = resultado.fittedvalues\n",
    "residuos = resultado.resid\n",
    "\n",
    "fig_residuos, axes_residuos = plt.subplots(figsize=(10, 6))\n",
    "_ = fig_residuos.suptitle(\"Verificação da Homoscedasticidade dos resíduos\")\n",
    "_ = axes_residuos.axhline(y=0, color=\"green\", linestyle=\"--\")\n",
    "_ = axes_residuos.scatter(valores_ajustados, residuos),\n",
    "# _ = fig_residuos.xlabel(\"Valores ajustados\")\n",
    "# _ = fig_residuos.ylabel(\"Resíduos\")\n",
    "\n",
    "# TODO: Colocar labels\n",
    "\n",
    "# fig_residuos.show()  # Em jupyter gera aviso.\n"
   ],
   "metadata": {
    "collapsed": false,
    "ExecuteTime": {
     "end_time": "2024-04-04T18:39:16.729180Z",
     "start_time": "2024-04-04T18:39:16.502985Z"
    }
   },
   "id": "c2879a612b5c7761",
   "execution_count": 32
  },
  {
   "cell_type": "code",
   "outputs": [],
   "source": [
    "#### Normalidade dos resíduos"
   ],
   "metadata": {
    "collapsed": false,
    "ExecuteTime": {
     "end_time": "2024-04-04T18:43:54.650912Z",
     "start_time": "2024-04-04T18:43:54.640298Z"
    }
   },
   "id": "bc21198f9154d8c0",
   "execution_count": 36
  },
  {
   "cell_type": "code",
   "outputs": [
    {
     "name": "stdout",
     "output_type": "stream",
     "text": [
      "pvalue: 0.571\n"
     ]
    }
   ],
   "source": [
    "normalidade_residuos = stats.shapiro(residuos)\n",
    "print(f\"pvalue: {normalidade_residuos.pvalue:.3}\")"
   ],
   "metadata": {
    "collapsed": false,
    "ExecuteTime": {
     "end_time": "2024-04-04T18:43:51.804325Z",
     "start_time": "2024-04-04T18:43:51.783723Z"
    }
   },
   "id": "fa8d03b80cda6127",
   "execution_count": 35
  },
  {
   "cell_type": "markdown",
   "source": [
    "##### QQ-Normal-plot\n",
    "\n",
    "TP4.6 d)"
   ],
   "metadata": {
    "collapsed": false
   },
   "id": "61ca9c221362a26d"
  },
  {
   "cell_type": "code",
   "outputs": [],
   "source": [],
   "metadata": {
    "collapsed": false
   },
   "id": "17c17da7301687f5"
  },
  {
   "cell_type": "markdown",
   "source": [
    "#### Independência dos resíduos\n",
    "\n",
    "TODO: durbin_watson\n",
    "TP4.8 d)"
   ],
   "metadata": {
    "collapsed": false
   },
   "id": "c4cde21ea96966f3"
  },
  {
   "cell_type": "code",
   "outputs": [],
   "source": [],
   "metadata": {
    "collapsed": false,
    "ExecuteTime": {
     "end_time": "2024-04-04T18:07:33.774982Z",
     "start_time": "2024-04-04T18:07:33.773859Z"
    }
   },
   "id": "c04b7965a4b15538",
   "execution_count": null
  },
  {
   "cell_type": "markdown",
   "source": [
    "### c) \n",
    "\n",
    "Estudo da Multicolinearidade: Fator de inflação de variância - VIF\n",
    "\n",
    "TODO: TP4.8 e)\n",
    "\n",
    "variance_inflation_factor"
   ],
   "metadata": {
    "collapsed": false
   },
   "id": "4d4115f021b8f3e1"
  },
  {
   "cell_type": "code",
   "outputs": [],
   "source": [],
   "metadata": {
    "collapsed": false
   },
   "id": "f579a5df15718ebf"
  },
  {
   "cell_type": "markdown",
   "source": [
    "#### d)\n",
    "\n",
    "TP4.7 c)\n",
    "\n"
   ],
   "metadata": {
    "collapsed": false
   },
   "id": "c3809b86b2b69137"
  },
  {
   "cell_type": "code",
   "outputs": [],
   "source": [
    "residuos.rsquared_adj"
   ],
   "metadata": {
    "collapsed": false
   },
   "id": "cd69f6ca4aaba176"
  },
  {
   "cell_type": "markdown",
   "source": [
    "#### e)\n",
    "\n",
    "2015\n",
    "\n",
    "TP4.6 b)"
   ],
   "metadata": {
    "collapsed": false
   },
   "id": "baa21f9bd10ac9a0"
  },
  {
   "cell_type": "code",
   "outputs": [],
   "source": [],
   "metadata": {
    "collapsed": false
   },
   "id": "1aa940d5fc7b1bbf"
  },
  {
   "cell_type": "markdown",
   "source": [
    "Como o valor de p-value é muito baixo (próximo de zero) rejeitamos a hipótese nula, ou seja, consideramos que as variâncias não são iguais."
   ],
   "metadata": {
    "collapsed": false
   },
   "id": "34d7972db8fad133"
  }
 ],
 "metadata": {
  "kernelspec": {
   "display_name": "Python 3",
   "language": "python",
   "name": "python3"
  },
  "language_info": {
   "codemirror_mode": {
    "name": "ipython",
    "version": 2
   },
   "file_extension": ".py",
   "mimetype": "text/x-python",
   "name": "python",
   "nbconvert_exporter": "python",
   "pygments_lexer": "ipython2",
   "version": "2.7.6"
  }
 },
 "nbformat": 4,
 "nbformat_minor": 5
}
