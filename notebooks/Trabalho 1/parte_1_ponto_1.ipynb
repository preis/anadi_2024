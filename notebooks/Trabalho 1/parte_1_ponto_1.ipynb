{
 "cells": [
  {
   "cell_type": "markdown",
   "source": [
    "# Análise e exploração de dados\n",
    "\n",
    "Este ficheiro é para me \"ambientar\" com o que é pedido.\n",
    "O \"trabalho\" oficial está no reposítório **git** da equipa: \n",
    "https://bitbucket.org/anadi-rita/anadi/src/main/\n",
    "\n",
    "~~~bash\n",
    "git clone git@bitbucket.org:anadi-rita/anadi.git\n",
    "~~~"
   ],
   "metadata": {
    "collapsed": false
   },
   "id": "debea140d3d8975c"
  },
  {
   "cell_type": "markdown",
   "source": [
    "## Imports"
   ],
   "metadata": {
    "collapsed": false
   },
   "id": "c555bf7cf9af1ebe"
  },
  {
   "cell_type": "code",
   "execution_count": null,
   "id": "initial_id",
   "metadata": {
    "collapsed": true
   },
   "outputs": [],
   "source": [
    "from pathlib import Path\n",
    "import pandas as pd\n",
    "import numpy as np\n",
    "import matplotlib.pyplot as plt\n",
    "import utilidades as ut"
   ]
  },
  {
   "cell_type": "markdown",
   "source": [
    "## Variáveis"
   ],
   "metadata": {
    "collapsed": false
   },
   "id": "a931d3170ed35b13"
  },
  {
   "cell_type": "code",
   "outputs": [],
   "source": [
    "proj_root_dir = Path(\".\").resolve().parent.parent\n",
    "data_files_dir = \"/ficheiros/Trabalho 1/\"\n",
    "ficheiro_dados_co = f\"{proj_root_dir}{data_files_dir}CO_data.csv\"\n",
    "ficheiro_dicio_dados_co = f\"{proj_root_dir}{data_files_dir}CO_data_dicionario.xlsx\""
   ],
   "metadata": {
    "collapsed": false
   },
   "id": "e481f7bd387e6b91",
   "execution_count": null
  },
  {
   "cell_type": "markdown",
   "source": [
    "## Carregar os dados"
   ],
   "metadata": {
    "collapsed": false
   },
   "id": "9bab74c26ac431be"
  },
  {
   "cell_type": "code",
   "outputs": [],
   "source": [
    "dados_co = pd.read_csv(\n",
    "    ficheiro_dados_co,\n",
    "    delimiter=\",\",\n",
    "    header=0,\n",
    ")"
   ],
   "metadata": {
    "collapsed": false
   },
   "id": "995690fbc90a5e32",
   "execution_count": null
  },
  {
   "cell_type": "markdown",
   "source": [
    "### Espreitar os dados"
   ],
   "metadata": {
    "collapsed": false
   },
   "id": "af28bf018d9d344c"
  },
  {
   "cell_type": "code",
   "outputs": [],
   "source": [
    "dados_co.head()"
   ],
   "metadata": {
    "collapsed": false
   },
   "id": "f178ef52e6c32979",
   "execution_count": null
  },
  {
   "cell_type": "markdown",
   "source": [
    "## Carregar o dicionário"
   ],
   "metadata": {
    "collapsed": false
   },
   "id": "c71dc4074a6e0839"
  },
  {
   "cell_type": "code",
   "outputs": [],
   "source": [
    "dicionario_dados = pd.read_excel(ficheiro_dicio_dados_co)"
   ],
   "metadata": {
    "collapsed": false
   },
   "id": "aa52cde516e20308",
   "execution_count": null
  },
  {
   "cell_type": "markdown",
   "source": [
    "## Análise e exploração de dados\n",
    "\n",
    "Ponto 4.1 do trabalho\n",
    "\n",
    "### Ponto 1\n",
    "Construa um gráfico que permita visualizar as emissões totais de CO2 de Portugal no período 1900-2021. Encontre o ano em que foi emitido um valor máximo de CO2\n",
    "\n",
    "#### Extrair os dados de Portugal"
   ],
   "metadata": {
    "collapsed": false
   },
   "id": "80320c1802a65672"
  },
  {
   "cell_type": "code",
   "outputs": [],
   "source": [
    "dados_co_pt = dados_co[dados_co.country == \"Portugal\"]"
   ],
   "metadata": {
    "collapsed": false
   },
   "id": "2fa5a28dba0e1faa",
   "execution_count": null
  },
  {
   "cell_type": "code",
   "outputs": [],
   "source": [
    "dados_co_pt_plt = dados_co_pt.loc[:, [\"year\", \"co2\"]]"
   ],
   "metadata": {
    "collapsed": false
   },
   "id": "4477b0bb4fc3ca82",
   "execution_count": null
  },
  {
   "cell_type": "code",
   "outputs": [],
   "source": [
    "dados_co_pt_plt.head()"
   ],
   "metadata": {
    "collapsed": false
   },
   "id": "8742cb0ecced33ac",
   "execution_count": null
  },
  {
   "cell_type": "markdown",
   "source": [],
   "metadata": {
    "collapsed": false
   },
   "id": "6be7cc2ff5c6dda3"
  },
  {
   "cell_type": "markdown",
   "source": [
    "#### Cálcular o máximo"
   ],
   "metadata": {
    "collapsed": false
   },
   "id": "43c432477cafb348"
  },
  {
   "cell_type": "code",
   "outputs": [],
   "source": [
    "maximo_co2 = dados_co_pt_plt[\"co2\"].max()\n",
    "maximo_co2"
   ],
   "metadata": {
    "collapsed": false
   },
   "id": "476444d16e877752",
   "execution_count": null
  },
  {
   "cell_type": "code",
   "outputs": [],
   "source": [
    "ano_maximo_co2 = dados_co_pt_plt.loc[dados_co_pt_plt[\"co2\"].idxmax(), \"year\"]\n",
    "ano_maximo_co2"
   ],
   "metadata": {
    "collapsed": false
   },
   "id": "8d58581a5bf3826a",
   "execution_count": null
  },
  {
   "cell_type": "markdown",
   "source": [
    "#### Interface implicita"
   ],
   "metadata": {
    "collapsed": false
   },
   "id": "27483fb4c7b2a6ac"
  },
  {
   "cell_type": "code",
   "outputs": [],
   "source": [
    "plt.figure(\n",
    "    figsize=(10, 6),\n",
    ")\n",
    "plt.plot(\"year\", \"co2\", data=dados_co_pt_plt, color=\"blue\")\n",
    "plt.xlabel(\"Ano\")\n",
    "plt.ylabel(\"Emissão CO2 (milhões de toneladas)\")\n",
    "plt.title(\"Emissões de CO2 em Portugal entre 1900 e 2021\")\n",
    "plt.ylim(0, maximo_co2 + 10)\n",
    "plt.annotate(\n",
    "    f\"Máximo emissão ({ano_maximo_co2})\",\n",
    "    xy=(ano_maximo_co2, maximo_co2),  # Ponto a anotar\n",
    "    xycoords=\"data\",  # Sistema de coordenadas do ponto a anotar \n",
    "    xytext=(0, 3), # Offset do texto em relação ao ponto anotado\n",
    "    textcoords=\"offset fontsize\",  # Sistema de coordenadas do texto\n",
    "    horizontalalignment=\"center\",\n",
    "    arrowprops=dict(\n",
    "        facecolor='black',\n",
    "        width=1,\n",
    "        headwidth=8,\n",
    "        shrink=0.05,\n",
    "    )\n",
    ")"
   ],
   "metadata": {
    "collapsed": false
   },
   "id": "d67625411696b54e",
   "execution_count": null
  },
  {
   "cell_type": "markdown",
   "source": [
    "#### Interface explicita"
   ],
   "metadata": {
    "collapsed": false
   },
   "id": "27e57bd5fefc4ed9"
  },
  {
   "cell_type": "code",
   "outputs": [],
   "source": [
    "fig, ax = plt.subplots(figsize=(12, 8))\n",
    "linha = ax.plot(\n",
    "    \"year\",  # Seria a utilizar para o eixo dos XX.\n",
    "    \"co2\",  # Seria a utilizar para o eixo dos YY.\n",
    "    data=dados_co_pt_plt,  # Estrutura de dados a utilizar, neste caso 1 DataFrame. \n",
    "    color=\"blue\",  # Cor da \"linha\".\n",
    ")\n",
    "# Configuraçao do ``Axes``.\n",
    "ax.set_title(r\"Emissões de CO$_2$ em Portugal entre 1900 e 2021\")\n",
    "ax.set_xlabel(\"Ano\")\n",
    "ax.set_ylabel(r\"Emissão CO$_2$ (milhões de toneladas)\")\n",
    "ax.set_ylim(0, maximo_co2 + 10)\n",
    "# Anotação do ponto máximo, o cálculo é feito anteriormente. \n",
    "ax.annotate(\n",
    "    f\"Máximo emissão ({ano_maximo_co2})\",\n",
    "    xy=(ano_maximo_co2, maximo_co2),  # Ponto a anotar\n",
    "    xycoords=\"data\",  # Sistema de coordenadas do ponto a anotar \n",
    "    xytext=(0, 3), # Offset do texto em relação ao ponto anotado\n",
    "    textcoords=\"offset fontsize\",  # Sistema de coordenadas do texto\n",
    "    horizontalalignment=\"center\",\n",
    "    arrowprops=dict(\n",
    "        facecolor='black',\n",
    "        width=1,\n",
    "        headwidth=8,\n",
    "        shrink=0.05,\n",
    "    )\n",
    ")\n",
    "plt.show()"
   ],
   "metadata": {
    "collapsed": false
   },
   "id": "835773341eb7c336",
   "execution_count": null
  }
 ],
 "metadata": {
  "kernelspec": {
   "display_name": "Python 3",
   "language": "python",
   "name": "python3"
  },
  "language_info": {
   "codemirror_mode": {
    "name": "ipython",
    "version": 2
   },
   "file_extension": ".py",
   "mimetype": "text/x-python",
   "name": "python",
   "nbconvert_exporter": "python",
   "pygments_lexer": "ipython2",
   "version": "2.7.6"
  }
 },
 "nbformat": 4,
 "nbformat_minor": 5
}
