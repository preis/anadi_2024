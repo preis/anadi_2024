{
 "cells": [
  {
   "cell_type": "markdown",
   "source": [
    "# 4.2\n",
    "## 2.\n",
    "\n",
    "### Imports"
   ],
   "metadata": {
    "collapsed": false
   },
   "id": "ec06f358ace34aca"
  },
  {
   "cell_type": "code",
   "source": [
    "import pandas as pd\n",
    "import scipy.stats as stats\n",
    "import matplotlib.pyplot as plt"
   ],
   "metadata": {
    "collapsed": false,
    "ExecuteTime": {
     "end_time": "2024-04-23T11:42:54.675625Z",
     "start_time": "2024-04-23T11:42:54.661531Z"
    }
   },
   "id": "d7a5fa0b43c5c699",
   "outputs": [],
   "execution_count": 1
  },
  {
   "cell_type": "markdown",
   "source": [
    "### Obter série de anos"
   ],
   "metadata": {
    "collapsed": false
   },
   "id": "daf9cd70211f158c"
  },
  {
   "cell_type": "code",
   "id": "initial_id",
   "metadata": {
    "collapsed": true,
    "ExecuteTime": {
     "end_time": "2024-04-23T11:42:54.691498Z",
     "start_time": "2024-04-23T11:42:54.678502Z"
    }
   },
   "source": [
    "years = pd.Series([i for i in range(1900, 2021)])\n",
    "\n",
    "seed_value = 55\n",
    "sampleyears2 = years.sample(n=12, replace=False, random_state=seed_value)\n",
    "\n",
    "seed_value = 85\n",
    "sampleyears3 = years.sample(n=12, replace=False, random_state=seed_value)"
   ],
   "outputs": [],
   "execution_count": 2
  },
  {
   "cell_type": "markdown",
   "source": [
    "### Ler os dados"
   ],
   "metadata": {
    "collapsed": false
   },
   "id": "8aa7f67b3cae872a"
  },
  {
   "cell_type": "code",
   "source": [
    "dados_lidos = pd.read_csv(\"CO_data.csv\")"
   ],
   "metadata": {
    "collapsed": false,
    "ExecuteTime": {
     "end_time": "2024-04-23T11:42:54.755497Z",
     "start_time": "2024-04-23T11:42:54.694498Z"
    }
   },
   "id": "7bbd12090a1b203d",
   "outputs": [],
   "execution_count": 3
  },
  {
   "cell_type": "markdown",
   "source": [
    "### Inspecionar os dados\n",
    "\n",
    "Nota: A análise destes dados já foi realizada na primeira parte do trabalho, pelo que nesta parte fica apenas uma \"verificação\" visual do carregamento dos dados."
   ],
   "metadata": {
    "collapsed": false
   },
   "id": "9c64445c51ad65bb"
  },
  {
   "cell_type": "code",
   "source": [
    "dados_lidos.head()"
   ],
   "metadata": {
    "collapsed": false,
    "ExecuteTime": {
     "end_time": "2024-04-23T11:42:54.787598Z",
     "start_time": "2024-04-23T11:42:54.757499Z"
    }
   },
   "id": "138cee132c26f353",
   "outputs": [
    {
     "data": {
      "text/plain": [
       "       country  year  population  gdp  cement_co2  co2  coal_co2  \\\n",
       "0  Afghanistan  1900   4707744.0  NaN         NaN  NaN       NaN   \n",
       "1  Afghanistan  1901   4751177.0  NaN         NaN  NaN       NaN   \n",
       "2  Afghanistan  1902   4802500.0  NaN         NaN  NaN       NaN   \n",
       "3  Afghanistan  1903   4861833.0  NaN         NaN  NaN       NaN   \n",
       "4  Afghanistan  1904   4921891.0  NaN         NaN  NaN       NaN   \n",
       "\n",
       "   energy_per_capita  energy_per_gdp  flaring_co2  gas_co2  methane  \\\n",
       "0                NaN             NaN          NaN      NaN      NaN   \n",
       "1                NaN             NaN          NaN      NaN      NaN   \n",
       "2                NaN             NaN          NaN      NaN      NaN   \n",
       "3                NaN             NaN          NaN      NaN      NaN   \n",
       "4                NaN             NaN          NaN      NaN      NaN   \n",
       "\n",
       "   nitrous_oxide  oil_co2  \n",
       "0            NaN      NaN  \n",
       "1            NaN      NaN  \n",
       "2            NaN      NaN  \n",
       "3            NaN      NaN  \n",
       "4            NaN      NaN  "
      ],
      "text/html": [
       "<div>\n",
       "<style scoped>\n",
       "    .dataframe tbody tr th:only-of-type {\n",
       "        vertical-align: middle;\n",
       "    }\n",
       "\n",
       "    .dataframe tbody tr th {\n",
       "        vertical-align: top;\n",
       "    }\n",
       "\n",
       "    .dataframe thead th {\n",
       "        text-align: right;\n",
       "    }\n",
       "</style>\n",
       "<table border=\"1\" class=\"dataframe\">\n",
       "  <thead>\n",
       "    <tr style=\"text-align: right;\">\n",
       "      <th></th>\n",
       "      <th>country</th>\n",
       "      <th>year</th>\n",
       "      <th>population</th>\n",
       "      <th>gdp</th>\n",
       "      <th>cement_co2</th>\n",
       "      <th>co2</th>\n",
       "      <th>coal_co2</th>\n",
       "      <th>energy_per_capita</th>\n",
       "      <th>energy_per_gdp</th>\n",
       "      <th>flaring_co2</th>\n",
       "      <th>gas_co2</th>\n",
       "      <th>methane</th>\n",
       "      <th>nitrous_oxide</th>\n",
       "      <th>oil_co2</th>\n",
       "    </tr>\n",
       "  </thead>\n",
       "  <tbody>\n",
       "    <tr>\n",
       "      <th>0</th>\n",
       "      <td>Afghanistan</td>\n",
       "      <td>1900</td>\n",
       "      <td>4707744.0</td>\n",
       "      <td>NaN</td>\n",
       "      <td>NaN</td>\n",
       "      <td>NaN</td>\n",
       "      <td>NaN</td>\n",
       "      <td>NaN</td>\n",
       "      <td>NaN</td>\n",
       "      <td>NaN</td>\n",
       "      <td>NaN</td>\n",
       "      <td>NaN</td>\n",
       "      <td>NaN</td>\n",
       "      <td>NaN</td>\n",
       "    </tr>\n",
       "    <tr>\n",
       "      <th>1</th>\n",
       "      <td>Afghanistan</td>\n",
       "      <td>1901</td>\n",
       "      <td>4751177.0</td>\n",
       "      <td>NaN</td>\n",
       "      <td>NaN</td>\n",
       "      <td>NaN</td>\n",
       "      <td>NaN</td>\n",
       "      <td>NaN</td>\n",
       "      <td>NaN</td>\n",
       "      <td>NaN</td>\n",
       "      <td>NaN</td>\n",
       "      <td>NaN</td>\n",
       "      <td>NaN</td>\n",
       "      <td>NaN</td>\n",
       "    </tr>\n",
       "    <tr>\n",
       "      <th>2</th>\n",
       "      <td>Afghanistan</td>\n",
       "      <td>1902</td>\n",
       "      <td>4802500.0</td>\n",
       "      <td>NaN</td>\n",
       "      <td>NaN</td>\n",
       "      <td>NaN</td>\n",
       "      <td>NaN</td>\n",
       "      <td>NaN</td>\n",
       "      <td>NaN</td>\n",
       "      <td>NaN</td>\n",
       "      <td>NaN</td>\n",
       "      <td>NaN</td>\n",
       "      <td>NaN</td>\n",
       "      <td>NaN</td>\n",
       "    </tr>\n",
       "    <tr>\n",
       "      <th>3</th>\n",
       "      <td>Afghanistan</td>\n",
       "      <td>1903</td>\n",
       "      <td>4861833.0</td>\n",
       "      <td>NaN</td>\n",
       "      <td>NaN</td>\n",
       "      <td>NaN</td>\n",
       "      <td>NaN</td>\n",
       "      <td>NaN</td>\n",
       "      <td>NaN</td>\n",
       "      <td>NaN</td>\n",
       "      <td>NaN</td>\n",
       "      <td>NaN</td>\n",
       "      <td>NaN</td>\n",
       "      <td>NaN</td>\n",
       "    </tr>\n",
       "    <tr>\n",
       "      <th>4</th>\n",
       "      <td>Afghanistan</td>\n",
       "      <td>1904</td>\n",
       "      <td>4921891.0</td>\n",
       "      <td>NaN</td>\n",
       "      <td>NaN</td>\n",
       "      <td>NaN</td>\n",
       "      <td>NaN</td>\n",
       "      <td>NaN</td>\n",
       "      <td>NaN</td>\n",
       "      <td>NaN</td>\n",
       "      <td>NaN</td>\n",
       "      <td>NaN</td>\n",
       "      <td>NaN</td>\n",
       "      <td>NaN</td>\n",
       "    </tr>\n",
       "  </tbody>\n",
       "</table>\n",
       "</div>"
      ]
     },
     "execution_count": 4,
     "metadata": {},
     "output_type": "execute_result"
    }
   ],
   "execution_count": 4
  },
  {
   "cell_type": "markdown",
   "source": [
    "### Obter dados dos anos pretendidos para Portugal e Hungria\n",
    "\n",
    "Vamos realizar a filtragem das linhas e colunas de uma única vez, pelo que precisamos de preparar os filtros previamente.\n",
    "Optámos também por ter os dados em 2 datasets separados por País, neste caso não existe vantagem em ter apenas um único dataset para todos os dados."
   ],
   "metadata": {
    "collapsed": false
   },
   "id": "6fa676a1815af4d9"
  },
  {
   "cell_type": "code",
   "source": [
    "# Definição das condições de filtragem.\n",
    "condicao_anos_PT = dados_lidos.year.isin(list(sampleyears2))\n",
    "condicao_anos_HU = dados_lidos.year.isin(list(sampleyears3))\n",
    "condicao_PT = dados_lidos.country == \"Portugal\"\n",
    "condicao_HU = dados_lidos.country == \"Hungary\"\n",
    "\n",
    "# Extrair dos dados lidos, os dados de trabalho de acordo com as condições de filtro.\n",
    "dados_PT = dados_lidos.loc[condicao_PT & condicao_anos_PT, [\"year\", \"gdp\"]]\n",
    "dados_HU = dados_lidos.loc[condicao_HU & condicao_anos_HU, [\"year\", \"gdp\"]]"
   ],
   "metadata": {
    "collapsed": false,
    "ExecuteTime": {
     "end_time": "2024-04-23T11:42:54.819635Z",
     "start_time": "2024-04-23T11:42:54.788498Z"
    }
   },
   "id": "ed840876c89ed4e2",
   "outputs": [],
   "execution_count": 5
  },
  {
   "cell_type": "markdown",
   "source": [
    "### Tratar dos NaN\n",
    "\n",
    "Optámos por remover do dataset os registos com os valores ``NaN``."
   ],
   "metadata": {
    "collapsed": false
   },
   "id": "f1aa7d13e142db36"
  },
  {
   "cell_type": "code",
   "source": [
    "dados_PT.dropna(inplace=True)\n",
    "dados_HU.dropna(inplace=True)"
   ],
   "metadata": {
    "collapsed": false,
    "ExecuteTime": {
     "end_time": "2024-04-23T11:42:54.835500Z",
     "start_time": "2024-04-23T11:42:54.820498Z"
    }
   },
   "id": "8ece8abb568989cf",
   "outputs": [],
   "execution_count": 6
  },
  {
   "cell_type": "markdown",
   "source": [
    "### Inspecionar dados filtrados"
   ],
   "metadata": {
    "collapsed": false
   },
   "id": "fd5824203ab39163"
  },
  {
   "cell_type": "code",
   "source": [
    "dados_PT.head()"
   ],
   "metadata": {
    "collapsed": false,
    "ExecuteTime": {
     "end_time": "2024-04-23T11:42:54.851598Z",
     "start_time": "2024-04-23T11:42:54.836500Z"
    }
   },
   "id": "30001f48983590ec",
   "outputs": [
    {
     "data": {
      "text/plain": [
       "       year           gdp\n",
       "24465  1909  1.123628e+10\n",
       "24479  1923  1.461160e+10\n",
       "24496  1940  1.975545e+10\n",
       "24497  1941  2.160324e+10\n",
       "24523  1967  6.502273e+10"
      ],
      "text/html": [
       "<div>\n",
       "<style scoped>\n",
       "    .dataframe tbody tr th:only-of-type {\n",
       "        vertical-align: middle;\n",
       "    }\n",
       "\n",
       "    .dataframe tbody tr th {\n",
       "        vertical-align: top;\n",
       "    }\n",
       "\n",
       "    .dataframe thead th {\n",
       "        text-align: right;\n",
       "    }\n",
       "</style>\n",
       "<table border=\"1\" class=\"dataframe\">\n",
       "  <thead>\n",
       "    <tr style=\"text-align: right;\">\n",
       "      <th></th>\n",
       "      <th>year</th>\n",
       "      <th>gdp</th>\n",
       "    </tr>\n",
       "  </thead>\n",
       "  <tbody>\n",
       "    <tr>\n",
       "      <th>24465</th>\n",
       "      <td>1909</td>\n",
       "      <td>1.123628e+10</td>\n",
       "    </tr>\n",
       "    <tr>\n",
       "      <th>24479</th>\n",
       "      <td>1923</td>\n",
       "      <td>1.461160e+10</td>\n",
       "    </tr>\n",
       "    <tr>\n",
       "      <th>24496</th>\n",
       "      <td>1940</td>\n",
       "      <td>1.975545e+10</td>\n",
       "    </tr>\n",
       "    <tr>\n",
       "      <th>24497</th>\n",
       "      <td>1941</td>\n",
       "      <td>2.160324e+10</td>\n",
       "    </tr>\n",
       "    <tr>\n",
       "      <th>24523</th>\n",
       "      <td>1967</td>\n",
       "      <td>6.502273e+10</td>\n",
       "    </tr>\n",
       "  </tbody>\n",
       "</table>\n",
       "</div>"
      ]
     },
     "execution_count": 7,
     "metadata": {},
     "output_type": "execute_result"
    }
   ],
   "execution_count": 7
  },
  {
   "cell_type": "code",
   "source": [
    "dados_HU.head()"
   ],
   "metadata": {
    "collapsed": false,
    "ExecuteTime": {
     "end_time": "2024-04-23T11:42:54.866498Z",
     "start_time": "2024-04-23T11:42:54.853602Z"
    }
   },
   "id": "fb014886ddf27fdf",
   "outputs": [
    {
     "data": {
      "text/plain": [
       "       year           gdp\n",
       "13448  1910  2.436907e+10\n",
       "13464  1926  2.888782e+10\n",
       "13484  1946  2.480221e+10\n",
       "13498  1960  5.806411e+10\n",
       "13508  1970  8.285109e+10"
      ],
      "text/html": [
       "<div>\n",
       "<style scoped>\n",
       "    .dataframe tbody tr th:only-of-type {\n",
       "        vertical-align: middle;\n",
       "    }\n",
       "\n",
       "    .dataframe tbody tr th {\n",
       "        vertical-align: top;\n",
       "    }\n",
       "\n",
       "    .dataframe thead th {\n",
       "        text-align: right;\n",
       "    }\n",
       "</style>\n",
       "<table border=\"1\" class=\"dataframe\">\n",
       "  <thead>\n",
       "    <tr style=\"text-align: right;\">\n",
       "      <th></th>\n",
       "      <th>year</th>\n",
       "      <th>gdp</th>\n",
       "    </tr>\n",
       "  </thead>\n",
       "  <tbody>\n",
       "    <tr>\n",
       "      <th>13448</th>\n",
       "      <td>1910</td>\n",
       "      <td>2.436907e+10</td>\n",
       "    </tr>\n",
       "    <tr>\n",
       "      <th>13464</th>\n",
       "      <td>1926</td>\n",
       "      <td>2.888782e+10</td>\n",
       "    </tr>\n",
       "    <tr>\n",
       "      <th>13484</th>\n",
       "      <td>1946</td>\n",
       "      <td>2.480221e+10</td>\n",
       "    </tr>\n",
       "    <tr>\n",
       "      <th>13498</th>\n",
       "      <td>1960</td>\n",
       "      <td>5.806411e+10</td>\n",
       "    </tr>\n",
       "    <tr>\n",
       "      <th>13508</th>\n",
       "      <td>1970</td>\n",
       "      <td>8.285109e+10</td>\n",
       "    </tr>\n",
       "  </tbody>\n",
       "</table>\n",
       "</div>"
      ]
     },
     "execution_count": 8,
     "metadata": {},
     "output_type": "execute_result"
    }
   ],
   "execution_count": 8
  },
  {
   "cell_type": "markdown",
   "source": [
    "### Gráficos dos dados"
   ],
   "metadata": {
    "collapsed": false
   },
   "id": "f8e20965d55c3ea0"
  },
  {
   "cell_type": "code",
   "source": [
    "plt.scatter(dados_PT[\"year\"], dados_PT[\"gdp\"])"
   ],
   "metadata": {
    "collapsed": false,
    "ExecuteTime": {
     "end_time": "2024-04-23T11:42:55.162636Z",
     "start_time": "2024-04-23T11:42:54.868499Z"
    }
   },
   "id": "315a61b568336b4e",
   "outputs": [
    {
     "data": {
      "text/plain": [
       "<matplotlib.collections.PathCollection at 0x1723dbeffd0>"
      ]
     },
     "execution_count": 9,
     "metadata": {},
     "output_type": "execute_result"
    },
    {
     "data": {
      "text/plain": [
       "<Figure size 640x480 with 1 Axes>"
      ],
      "image/png": "[encoded data removed]"
     },
     "metadata": {},
     "output_type": "display_data"
    }
   ],
   "execution_count": 9
  },
  {
   "cell_type": "code",
   "source": [
    "plt.scatter(dados_HU[\"year\"], dados_HU[\"gdp\"])"
   ],
   "metadata": {
    "collapsed": false,
    "ExecuteTime": {
     "end_time": "2024-04-23T11:42:55.460427Z",
     "start_time": "2024-04-23T11:42:55.164638Z"
    }
   },
   "id": "9ee3763b037917e",
   "outputs": [
    {
     "data": {
      "text/plain": [
       "<matplotlib.collections.PathCollection at 0x1723e4274c0>"
      ]
     },
     "execution_count": 10,
     "metadata": {},
     "output_type": "execute_result"
    },
    {
     "data": {
      "text/plain": [
       "<Figure size 640x480 with 1 Axes>"
      ],
      "image/png": "[encoded data removed]"
     },
     "metadata": {},
     "output_type": "display_data"
    }
   ],
   "execution_count": 10
  },
  {
   "cell_type": "markdown",
   "source": [
    "### Cálcular a média amostral"
   ],
   "metadata": {
    "collapsed": false
   },
   "id": "336193f9e4cd4c19"
  },
  {
   "cell_type": "code",
   "source": [
    "# Média amostral de Portugal.\n",
    "media_PT = dados_PT[\"gdp\"].mean(axis=0)\n",
    "print(f\"Média amostral de Portugal: {media_PT:.4e}\")\n",
    "\n",
    "# Média amostral da Hungria.\n",
    "media_HU = dados_HU[\"gdp\"].mean(axis=0)\n",
    "print(f\"Média amostral da Hungria: {media_HU:.4e}\")"
   ],
   "metadata": {
    "collapsed": false,
    "ExecuteTime": {
     "end_time": "2024-04-23T11:42:55.475766Z",
     "start_time": "2024-04-23T11:42:55.462767Z"
    }
   },
   "id": "d5bad3a67283b172",
   "outputs": [
    {
     "name": "stdout",
     "output_type": "stream",
     "text": [
      "Média amostral de Portugal: 1.0705e+11\n",
      "Média amostral da Hungria: 1.0413e+11\n"
     ]
    }
   ],
   "execution_count": 11
  },
  {
   "cell_type": "markdown",
   "source": [
    "### Normalidade\n",
    "\n",
    "O teste à normalidade *stats.normaltest()* é para amostras de dimensão superior a 20.\n",
    "Temos de utilizar *stats.shapiro()* "
   ],
   "metadata": {
    "collapsed": false
   },
   "id": "af90d05171b0d518"
  },
  {
   "cell_type": "code",
   "source": [
    "statval_PT, p_value_PT = stats.shapiro(dados_PT[\"gdp\"])\n",
    "print(f\"Portugal - pvalue: {p_value_PT:.3}\")\n",
    "\n",
    "statval_HU, p_value_HU = stats.shapiro(dados_HU[\"gdp\"])\n",
    "print(f\"Hungria - pvalue: {p_value_HU:.3}\")"
   ],
   "metadata": {
    "collapsed": false,
    "ExecuteTime": {
     "end_time": "2024-04-23T11:42:55.490766Z",
     "start_time": "2024-04-23T11:42:55.479767Z"
    }
   },
   "id": "65cc8c83ff7677c9",
   "outputs": [
    {
     "name": "stdout",
     "output_type": "stream",
     "text": [
      "Portugal - pvalue: 0.115\n",
      "Hungria - pvalue: 0.188\n"
     ]
    }
   ],
   "execution_count": 12
  },
  {
   "cell_type": "markdown",
   "source": [
    "Como o *p-value* de Portugal é superior a 5% os dados seguem distribuição normal.\n",
    "Como o *p-value* da Hungria é superior a 5% os dados seguem distribuição normal. "
   ],
   "metadata": {
    "collapsed": false
   },
   "id": "d55d641e11750afa"
  },
  {
   "cell_type": "markdown",
   "source": [
    "### Homogeneidade\n",
    "\n",
    "Precisamos de averiguar fazer um teste de **Levene** ás variâncias para verificar se são iguais para decidir qual o teste à média a realizar.\n",
    "\n",
    "$$H_0: \\mu_{PT} = \\mu_{HU} \\quad Vs \\quad H_1: \\mu_{PT} \\neq \\mu_{HU}$$ "
   ],
   "metadata": {
    "collapsed": false
   },
   "id": "382741232a8b355b"
  },
  {
   "cell_type": "code",
   "source": [
    "resultado_levene = stats.levene(dados_PT[\"gdp\"], dados_HU[\"gdp\"])\n",
    "print(f\"Valor da estatistica de teste: {resultado_levene.statistic:.3} \\np-value: {resultado_levene.pvalue:.3}\")"
   ],
   "metadata": {
    "collapsed": false,
    "ExecuteTime": {
     "end_time": "2024-04-23T11:42:55.521764Z",
     "start_time": "2024-04-23T11:42:55.492766Z"
    }
   },
   "id": "8862f1f2c1058826",
   "outputs": [
    {
     "name": "stdout",
     "output_type": "stream",
     "text": [
      "Valor da estatistica de teste: 0.34 \n",
      "p-value: 0.567\n"
     ]
    }
   ],
   "execution_count": 13
  },
  {
   "cell_type": "markdown",
   "source": [
    "Como o *p-value* é superior a 5% não rejeitamos a hipótese nula, ou seja vamos assumir que as variâncias são iguais. "
   ],
   "metadata": {
    "collapsed": false
   },
   "id": "59a9ccfd938bbbc"
  },
  {
   "cell_type": "markdown",
   "source": [
    "### Teste à média\n",
    "\n",
    "#### Hipotese\n",
    "\n",
    "$$H_0: \\bar X_{PT} \\geq \\bar X_{HU} \\quad Vs \\quad H_1: \\bar X_{PT} < \\bar X_{HU}$$\n",
    "\n",
    "Amostras não emparelhadas (independentes).\n",
    "Tamanho da amostra é reduzido.\n",
    "Distribuição normal.\n",
    "Pela análise do gráfico não parecem existir outliers significativos.\n",
    "\n",
    "Utilização de **ttest_ind()** com *equal_var=True* à média.\n"
   ],
   "metadata": {
    "collapsed": false
   },
   "id": "61da15788345a65d"
  },
  {
   "cell_type": "code",
   "source": [
    "f_stat, p_value = stats.ttest_ind(dados_PT[\"gdp\"], dados_HU[\"gdp\"], equal_var=True)\n",
    "print(f\"Valor da estatistica de teste: {f_stat:.3} \\np-value: {p_value:.3}\")"
   ],
   "metadata": {
    "collapsed": false,
    "ExecuteTime": {
     "end_time": "2024-04-23T11:42:55.536833Z",
     "start_time": "2024-04-23T11:42:55.522789Z"
    }
   },
   "id": "520e0cc7277daa2e",
   "outputs": [
    {
     "name": "stdout",
     "output_type": "stream",
     "text": [
      "Valor da estatistica de teste: 0.0802 \n",
      "p-value: 0.937\n"
     ]
    }
   ],
   "execution_count": 14
  },
  {
   "cell_type": "markdown",
   "source": [
    "Com o *p-value* do teste de 0,937 não vamos rejeitar a hipótese nula, ou seja aceitamos que a média do **GDP** de Portugal é superior ao **GDP** da Hungria, nas amostras consideradas."
   ],
   "metadata": {
    "collapsed": false
   },
   "id": "47b269b9260798f6"
  },
  {
   "cell_type": "markdown",
   "source": [
    "### Exploração de metodologia "
   ],
   "metadata": {
    "collapsed": false
   },
   "id": "2408ed9c671bfb6a"
  },
  {
   "cell_type": "code",
   "source": [
    "f_stat, p_value = stats.f_oneway(dados_PT[\"gdp\"], dados_HU[\"gdp\"])\n",
    "print(f\"Valor da estatistica de teste: {f_stat:.3} \\np-value: {p_value:.3}\")"
   ],
   "metadata": {
    "collapsed": false,
    "ExecuteTime": {
     "end_time": "2024-04-23T11:42:55.551767Z",
     "start_time": "2024-04-23T11:42:55.538767Z"
    }
   },
   "id": "7db94e502f47e0e5",
   "outputs": [
    {
     "name": "stdout",
     "output_type": "stream",
     "text": [
      "Valor da estatistica de teste: 0.00643 \n",
      "p-value: 0.937\n"
     ]
    }
   ],
   "execution_count": 15
  },
  {
   "cell_type": "markdown",
   "source": [
    "### Gráfico Boxplot"
   ],
   "metadata": {
    "collapsed": false
   },
   "id": "a7369a043d5bd94f"
  },
  {
   "cell_type": "code",
   "source": [
    "fig_bp, ax_bp = plt.subplots()\n",
    "ax_bp.boxplot([dados_PT[\"gdp\"], dados_HU[\"gdp\"]], labels=[\"Portugal\", \"Hungria\"])\n",
    "ax_bp.set_title(\"GDP de Portugal e Hungria\")\n",
    "ax_bp.set_ylabel(\"GDP ($)\")\n",
    "\n",
    "# fig_bp.show()  # Em Jupyter pode apresentar um aviso."
   ],
   "metadata": {
    "collapsed": false,
    "ExecuteTime": {
     "end_time": "2024-04-23T11:42:55.782434Z",
     "start_time": "2024-04-23T11:42:55.553764Z"
    }
   },
   "id": "dc5ed03e2d78afbe",
   "outputs": [
    {
     "data": {
      "text/plain": [
       "Text(0, 0.5, 'GDP ($)')"
      ]
     },
     "execution_count": 16,
     "metadata": {},
     "output_type": "execute_result"
    },
    {
     "data": {
      "text/plain": [
       "<Figure size 640x480 with 1 Axes>"
      ],
      "image/png": "[encoded data removed]"
     },
     "metadata": {},
     "output_type": "display_data"
    }
   ],
   "execution_count": 16
  }
 ],
 "metadata": {
  "kernelspec": {
   "display_name": "Python 3",
   "language": "python",
   "name": "python3"
  },
  "language_info": {
   "codemirror_mode": {
    "name": "ipython",
    "version": 2
   },
   "file_extension": ".py",
   "mimetype": "text/x-python",
   "name": "python",
   "nbconvert_exporter": "python",
   "pygments_lexer": "ipython2",
   "version": "2.7.6"
  }
 },
 "nbformat": 4,
 "nbformat_minor": 5
}
