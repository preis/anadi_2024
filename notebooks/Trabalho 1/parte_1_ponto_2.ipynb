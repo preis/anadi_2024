{
 "cells": [
  {
   "cell_type": "markdown",
   "source": [
    "# Análise e exploração de dados\n",
    "\n",
    "Este ficheiro é para me \"ambientar\" com o que é pedido.\n",
    "O \"trabalho\" oficial está no reposítório **git** da equipa: \n",
    "https://bitbucket.org/anadi-rita/anadi/src/main/\n",
    "\n",
    "~~~bash\n",
    "git clone git@bitbucket.org:anadi-rita/anadi.git\n",
    "~~~"
   ],
   "metadata": {
    "collapsed": false
   },
   "id": "debea140d3d8975c"
  },
  {
   "cell_type": "markdown",
   "source": [
    "## Imports"
   ],
   "metadata": {
    "collapsed": false
   },
   "id": "c555bf7cf9af1ebe"
  },
  {
   "cell_type": "code",
   "execution_count": null,
   "id": "initial_id",
   "metadata": {
    "collapsed": true
   },
   "outputs": [],
   "source": [
    "from pathlib import Path\n",
    "import pandas as pd\n",
    "import numpy as np\n",
    "import matplotlib.pyplot as plt\n",
    "from matplotlib import colors as mcolors\n",
    "import utilidades as ut"
   ]
  },
  {
   "cell_type": "markdown",
   "source": [
    "## Variáveis"
   ],
   "metadata": {
    "collapsed": false
   },
   "id": "a931d3170ed35b13"
  },
  {
   "cell_type": "code",
   "outputs": [],
   "source": [
    "proj_root_dir = Path(\".\").resolve().parent.parent\n",
    "data_files_dir = \"/ficheiros/Trabalho 1/\"\n",
    "ficheiro_dados_co = f\"{proj_root_dir}{data_files_dir}CO_data.csv\"\n",
    "ficheiro_dicio_dados_co = f\"{proj_root_dir}{data_files_dir}CO_data_dicionario.xlsx\"\n",
    "\n",
    "colunas_em_estudo = [\"year\", \"cement_co2\", \"coal_co2\", \"flaring_co2\", \"gas_co2\", \"methane\", \"nitrous_oxide\", \"oil_co2\"]\n",
    "etiquetas_series = [\"Cimento\", \"Carvão\", \"Queima\", \"Gás\", \"Metano\", \"Óxido Nitroso\", \"Petróleo\"]\n",
    "\n",
    "# Preparar uma lista de cores\n",
    "cores = list(mcolors.BASE_COLORS.keys())\n"
   ],
   "metadata": {
    "collapsed": false
   },
   "id": "e481f7bd387e6b91",
   "execution_count": null
  },
  {
   "cell_type": "markdown",
   "source": [
    "## Carregar os dados"
   ],
   "metadata": {
    "collapsed": false
   },
   "id": "9bab74c26ac431be"
  },
  {
   "cell_type": "code",
   "outputs": [],
   "source": [
    "dados_co = pd.read_csv(\n",
    "    ficheiro_dados_co,\n",
    "    delimiter=\",\",\n",
    "    header=0,\n",
    ")"
   ],
   "metadata": {
    "collapsed": false
   },
   "id": "995690fbc90a5e32",
   "execution_count": null
  },
  {
   "cell_type": "markdown",
   "source": [
    "### Espreitar os dados"
   ],
   "metadata": {
    "collapsed": false
   },
   "id": "af28bf018d9d344c"
  },
  {
   "cell_type": "code",
   "outputs": [],
   "source": [
    "dados_co.head()"
   ],
   "metadata": {
    "collapsed": false
   },
   "id": "f178ef52e6c32979",
   "execution_count": null
  },
  {
   "cell_type": "markdown",
   "source": [
    "## Carregar o dicionário"
   ],
   "metadata": {
    "collapsed": false
   },
   "id": "c71dc4074a6e0839"
  },
  {
   "cell_type": "code",
   "outputs": [],
   "source": [
    "dicionario_dados = pd.read_excel(ficheiro_dicio_dados_co)"
   ],
   "metadata": {
    "collapsed": false
   },
   "id": "aa52cde516e20308",
   "execution_count": null
  },
  {
   "cell_type": "markdown",
   "source": [
    "## Análise e exploração de dados\n",
    "\n",
    "Ponto 4.1 do trabalho\n",
    "\n",
    "### Ponto 2\n",
    "Construa um gráfico que permita comparar, no período 1900-2021, as emissões de CO2 de Portugal\n",
    "provenientes de: cimento, carvão, queima (flaring), gas, metano, óxido nitroso e do petróleo.\n",
    "\n",
    "#### Extrair os dados de Portugal"
   ],
   "metadata": {
    "collapsed": false
   },
   "id": "80320c1802a65672"
  },
  {
   "cell_type": "code",
   "outputs": [],
   "source": [
    "# dados_co_pt = dados_co[dados_co.country == \"Portugal\"]"
   ],
   "metadata": {
    "collapsed": false
   },
   "id": "2fa5a28dba0e1faa",
   "execution_count": null
  },
  {
   "cell_type": "code",
   "outputs": [],
   "source": [
    "# dados_co_pt_plt_alt = dados_co_pt.loc[:, colunas_em_estudo]"
   ],
   "metadata": {
    "collapsed": false
   },
   "id": "4477b0bb4fc3ca82",
   "execution_count": null
  },
  {
   "cell_type": "markdown",
   "source": [
    "Podemos fazer a seleção num único passo: "
   ],
   "metadata": {
    "collapsed": false
   },
   "id": "ebff1c13a7fc50cd"
  },
  {
   "cell_type": "code",
   "outputs": [],
   "source": [
    "dados_co_pt_plt = dados_co.loc[dados_co.country == \"Portugal\", colunas_em_estudo]"
   ],
   "metadata": {
    "collapsed": false
   },
   "id": "21e4cc6d6956aad0",
   "execution_count": null
  },
  {
   "cell_type": "markdown",
   "source": [
    "Executar a linha abaixo, substitui os valores NaN por 0.\n",
    "Tem efeitos no resultado final, dependendo do tipo de gráfico ou cálculos que se realizem."
   ],
   "metadata": {
    "collapsed": false
   },
   "id": "d195190ca6f26400"
  },
  {
   "cell_type": "code",
   "outputs": [],
   "source": [
    "dados_co_pt_plt.fillna(0, inplace=True)  # Preencher os valores NaN com 0."
   ],
   "metadata": {
    "collapsed": false
   },
   "id": "542ce8d85f2ba32d",
   "execution_count": null
  },
  {
   "cell_type": "code",
   "outputs": [],
   "source": [
    "dados_co_pt_plt.head()"
   ],
   "metadata": {
    "collapsed": false
   },
   "id": "8742cb0ecced33ac",
   "execution_count": null
  },
  {
   "cell_type": "markdown",
   "source": [],
   "metadata": {
    "collapsed": false
   },
   "id": "6be7cc2ff5c6dda3"
  },
  {
   "cell_type": "markdown",
   "source": [
    "#### Múltiplos timeseries plots\n"
   ],
   "metadata": {
    "collapsed": false
   },
   "id": "bae8d77f0d1c6344"
  },
  {
   "cell_type": "code",
   "outputs": [],
   "source": [
    "plot_fig, plot_ax = plt.subplots(figsize=(12, 8))\n",
    "# Configuraçao do ``Axes``.\n",
    "plot_ax.set_title(r\"Emissões de CO$_2$ em Portugal entre 1900 e 2021\")\n",
    "plot_ax.set_xlabel(\"Ano\")\n",
    "plot_ax.set_ylabel(r\"Emissão CO$_2$ (milhões de toneladas)\")\n",
    "\n",
    "graficos = []\n",
    "\n",
    "# Construir as várias \"linhas\"\n",
    "for idx, etiqueta in enumerate(colunas_em_estudo[1:]):\n",
    "    grafico = plot_ax.plot(\n",
    "        colunas_em_estudo[0],  # Seria a utilizar para o eixo dos XX.\n",
    "        colunas_em_estudo[idx + 1],  # Seria a utilizar para o eixo dos YY.\n",
    "        data=dados_co_pt_plt,  # Estrutura de dados a utilizar, neste caso 1 DataFrame. \n",
    "        color=cores[idx],  # Cor da \"linha\".\n",
    "        label=etiquetas_series[idx],  # O valor \"humano\" das etiquetas. \n",
    "    )\n",
    "    # Vou guardar as linhas numa lista caso queira mais tarde referênciar as mesmas.\n",
    "    graficos.append(grafico)\n",
    "\n",
    "plot_ax.legend(loc=\"upper left\")"
   ],
   "metadata": {
    "collapsed": false
   },
   "id": "7f01f047822afcf9",
   "execution_count": null
  },
  {
   "cell_type": "markdown",
   "source": [
    "#### Stackplot\n",
    "\n",
    "A melhor solução será gráfico de camadas: stackplot"
   ],
   "metadata": {
    "collapsed": false
   },
   "id": "fcc39d40d1c6865"
  },
  {
   "cell_type": "code",
   "outputs": [],
   "source": [
    "stack_fig, stack_ax = plt.subplots(figsize=(12, 8))\n",
    "# Configuraçao do ``Axes``.\n",
    "stack_ax.set_title(\"Emissões de CO2 em Portugal entre 1900 e 2021\")\n",
    "stack_ax.set_xlabel(\"Ano\")\n",
    "stack_ax.set_ylabel(r\"Emissão CO$_2$ (milhões de toneladas)\")\n",
    "\n",
    "stack_ax.stackplot(\n",
    "    dados_co_pt_plt[\"year\"].values,  # Valores a utilizar no eixo dos XX\n",
    "    dados_co_pt_plt.drop(\"year\", axis=1).T,  # Valores das áreas indexadas pelo ano.\n",
    "    baseline=\"zero\",\n",
    "    labels=etiquetas_series[1:],  # O valor \"humano\" das etiquetas.\n",
    "    colors=cores,  # Cores das áreas.\n",
    ")\n",
    "stack_ax.legend(loc=\"upper left\")\n"
   ],
   "metadata": {
    "collapsed": false
   },
   "id": "7bf3cd9c47b9bb9e",
   "execution_count": null
  },
  {
   "cell_type": "code",
   "outputs": [],
   "source": [
    "dados_co_pt_plt.tail(5)"
   ],
   "metadata": {
    "collapsed": false
   },
   "id": "c298d981c81d7223",
   "execution_count": null
  },
  {
   "cell_type": "markdown",
   "source": [
    "#### bar"
   ],
   "metadata": {
    "collapsed": false
   },
   "id": "8e894ce66fe1ace0"
  },
  {
   "cell_type": "code",
   "outputs": [],
   "source": [
    "bar_fig, bar_ax = plt.subplots(figsize=(12, 8))\n",
    "# Configuraçao do ``Axes``.\n",
    "bar_ax.set_title(\"Emissões de CO2 em Portugal entre 1900 e 2021\")\n",
    "bar_ax.set_xlabel(\"Ano\")\n",
    "bar_ax.set_ylabel(r\"Emissão CO$_2$ (milhões de toneladas)\")\n",
    "bar_ax.grid(True)\n",
    "\n",
    "# Inicializar bottom_series com uma Serie de zeros.\n",
    "bottom_series = [0]*122\n",
    "areas = []\n",
    "\n",
    "# Construir as várias \"areas\"\n",
    "for idx, etiqueta in enumerate(colunas_em_estudo[1:]):\n",
    "    area = bar_ax.bar(\n",
    "        dados_co_pt_plt[colunas_em_estudo[0]],  # Seria a utilizar para o eixo dos XX.\n",
    "        height=dados_co_pt_plt[colunas_em_estudo[idx + 1]],  # Seria a utilizar para o eixo dos YY.\n",
    "        bottom=bottom_series,\n",
    "        color=cores[idx],  # Cor da \"linha\".\n",
    "        label=etiquetas_series[idx],  # O valor \"humano\" das etiquetas. \n",
    "    )\n",
    "    bottom_series += dados_co_pt_plt[colunas_em_estudo[idx + 1]]\n",
    "    # Vou guardar as areas numa lista caso queira mais tarde referênciar as mesmas.\n",
    "    areas.append(area)\n",
    "\n",
    "bar_fig.tight_layout()\n",
    "bar_ax.legend(loc=\"upper left\")\n"
   ],
   "metadata": {
    "collapsed": false
   },
   "id": "2cb61be4e9ce5d2f",
   "execution_count": null
  },
  {
   "cell_type": "code",
   "outputs": [],
   "source": [],
   "metadata": {
    "collapsed": false
   },
   "id": "87ef3ee0bb99af3f",
   "execution_count": null
  }
 ],
 "metadata": {
  "kernelspec": {
   "display_name": "Python 3",
   "language": "python",
   "name": "python3"
  },
  "language_info": {
   "codemirror_mode": {
    "name": "ipython",
    "version": 2
   },
   "file_extension": ".py",
   "mimetype": "text/x-python",
   "name": "python",
   "nbconvert_exporter": "python",
   "pygments_lexer": "ipython2",
   "version": "2.7.6"
  }
 },
 "nbformat": 4,
 "nbformat_minor": 5
}
