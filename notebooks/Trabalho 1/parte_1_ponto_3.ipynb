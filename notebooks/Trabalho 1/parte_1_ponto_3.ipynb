{
 "cells": [
  {
   "cell_type": "markdown",
   "source": [
    "# Análise e exploração de dados\n",
    "\n",
    "Este ficheiro é para me \"ambientar\" com o que é pedido.\n",
    "O \"trabalho\" oficial está no reposítório **git** da equipa: \n",
    "https://bitbucket.org/anadi-rita/anadi/src/main/\n",
    "\n",
    "~~~bash\n",
    "git clone git@bitbucket.org:anadi-rita/anadi.git\n",
    "~~~"
   ],
   "metadata": {
    "collapsed": false
   },
   "id": "debea140d3d8975c"
  },
  {
   "cell_type": "markdown",
   "source": [
    "## Imports"
   ],
   "metadata": {
    "collapsed": false
   },
   "id": "c555bf7cf9af1ebe"
  },
  {
   "cell_type": "code",
   "execution_count": null,
   "id": "initial_id",
   "metadata": {
    "collapsed": true
   },
   "outputs": [],
   "source": [
    "from pathlib import Path\n",
    "import pandas as pd\n",
    "import numpy as np\n",
    "import matplotlib.pyplot as plt\n",
    "from matplotlib import colors as mcolors\n",
    "import utilidades as ut"
   ]
  },
  {
   "cell_type": "markdown",
   "source": [
    "## Variáveis"
   ],
   "metadata": {
    "collapsed": false
   },
   "id": "a931d3170ed35b13"
  },
  {
   "cell_type": "code",
   "outputs": [],
   "source": [
    "proj_root_dir = Path(\".\").resolve().parent.parent\n",
    "data_files_dir = \"/ficheiros/Trabalho 1/\"\n",
    "ficheiro_dados_co = f\"{proj_root_dir}{data_files_dir}CO_data.csv\"\n",
    "ficheiro_dicio_dados_co = f\"{proj_root_dir}{data_files_dir}CO_data_dicionario.xlsx\"\n",
    "\n",
    "colunas_em_estudo = [\"country\", \"year\", \"population\", \"co2\"]\n",
    "\n",
    "# Preparar uma lista de cores\n",
    "cores = list(mcolors.BASE_COLORS.keys())\n"
   ],
   "metadata": {
    "collapsed": false
   },
   "id": "e481f7bd387e6b91",
   "execution_count": null
  },
  {
   "cell_type": "markdown",
   "source": [
    "## Carregar os dados"
   ],
   "metadata": {
    "collapsed": false
   },
   "id": "9bab74c26ac431be"
  },
  {
   "cell_type": "code",
   "outputs": [],
   "source": [
    "dados_co = pd.read_csv(\n",
    "    ficheiro_dados_co,\n",
    "    delimiter=\",\",\n",
    "    header=0,\n",
    ")"
   ],
   "metadata": {
    "collapsed": false
   },
   "id": "995690fbc90a5e32",
   "execution_count": null
  },
  {
   "cell_type": "markdown",
   "source": [
    "### Espreitar os dados"
   ],
   "metadata": {
    "collapsed": false
   },
   "id": "af28bf018d9d344c"
  },
  {
   "cell_type": "code",
   "outputs": [],
   "source": [
    "dados_co.head()"
   ],
   "metadata": {
    "collapsed": false
   },
   "id": "f178ef52e6c32979",
   "execution_count": null
  },
  {
   "cell_type": "markdown",
   "source": [
    "## Carregar o dicionário"
   ],
   "metadata": {
    "collapsed": false
   },
   "id": "c71dc4074a6e0839"
  },
  {
   "cell_type": "code",
   "outputs": [],
   "source": [
    "dicionario_dados = pd.read_excel(ficheiro_dicio_dados_co)"
   ],
   "metadata": {
    "collapsed": false
   },
   "id": "aa52cde516e20308",
   "execution_count": null
  },
  {
   "cell_type": "markdown",
   "source": [
    "## Análise e exploração de dados\n",
    "\n",
    "Ponto 4.1 do trabalho\n",
    "\n",
    "### Ponto 3\n",
    "Construa um gráfico que permita comparar, no período 1900-2021, as emissões de CO2 per capita\n",
    "de Portugal com a Espanha. \n",
    "\n",
    "#### Extrair os dados de Portugal e Espanha"
   ],
   "metadata": {
    "collapsed": false
   },
   "id": "80320c1802a65672"
  },
  {
   "cell_type": "markdown",
   "source": [
    "Podemos fazer a seleção num único passo: "
   ],
   "metadata": {
    "collapsed": false
   },
   "id": "ebff1c13a7fc50cd"
  },
  {
   "cell_type": "code",
   "outputs": [],
   "source": [
    "dados_co_pt_es_plt = dados_co.loc[dados_co.country.isin([\"Portugal\", \"Spain\"]), colunas_em_estudo]"
   ],
   "metadata": {
    "collapsed": false
   },
   "id": "21e4cc6d6956aad0",
   "execution_count": null
  },
  {
   "cell_type": "markdown",
   "source": [
    "Executar a linha abaixo, substitui os valores NaN por 0.\n",
    "Tem efeitos no resultado final, dependendo do tipo de gráfico ou cálculos que se realizem."
   ],
   "metadata": {
    "collapsed": false
   },
   "id": "d195190ca6f26400"
  },
  {
   "cell_type": "code",
   "outputs": [],
   "source": [
    "dados_co_pt_es_plt.fillna(0, inplace=True)  # Preencher os valores NaN com 0."
   ],
   "metadata": {
    "collapsed": false
   },
   "id": "542ce8d85f2ba32d",
   "execution_count": null
  },
  {
   "cell_type": "code",
   "outputs": [],
   "source": [
    "dados_co_pt_es_plt.head()"
   ],
   "metadata": {
    "collapsed": false
   },
   "id": "8742cb0ecced33ac",
   "execution_count": null
  },
  {
   "cell_type": "code",
   "outputs": [],
   "source": [
    "dados_co_pt_es_plt['co2_per_capita']=dados_co_pt_es_plt['co2'] * 1E6 / dados_co_pt_es_plt['population']"
   ],
   "metadata": {
    "collapsed": false
   },
   "id": "18d3853179b0fc53",
   "execution_count": null
  },
  {
   "cell_type": "code",
   "outputs": [],
   "source": [
    "dados_co_pt_es_plt.head()"
   ],
   "metadata": {
    "collapsed": false
   },
   "id": "64e8a355f31ca3d0",
   "execution_count": null
  },
  {
   "cell_type": "code",
   "outputs": [],
   "source": [
    "# Preparar os dados"
   ],
   "metadata": {
    "collapsed": false
   },
   "id": "c562c1a748b66100",
   "execution_count": null
  },
  {
   "cell_type": "code",
   "outputs": [],
   "source": [
    "datas = dados_co_pt_es_plt.loc[dados_co_pt_es_plt.country == \"Portugal\", \"year\"].values\n",
    "dados_pt = dados_co_pt_es_plt.loc[dados_co_pt_es_plt.country == \"Portugal\", \"co2_per_capita\"]\n",
    "dados_es = dados_co_pt_es_plt.loc[dados_co_pt_es_plt.country == \"Spain\", \"co2_per_capita\"]\n"
   ],
   "metadata": {
    "collapsed": false
   },
   "id": "d2a761ad5fb41118",
   "execution_count": null
  },
  {
   "cell_type": "markdown",
   "source": [
    "### Stack\n",
    "\n",
    "Este gráfico pode ser interessante, é feito o \"stack\" dos valores, mas o resultado é \"balanceado\" à volta do 0.\n",
    "Seria necessário trabalhar os eixos."
   ],
   "metadata": {
    "collapsed": false
   },
   "id": "c7dfd5a4dd28027b"
  },
  {
   "cell_type": "code",
   "outputs": [],
   "source": [
    "stack_fig, stack_ax = plt.subplots(figsize=(12, 8))\n",
    "# Configuraçao do ``Axes``.\n",
    "stack_ax.set_title(\"Emissões de CO2 per capita entre 1900 e 2021\")\n",
    "stack_ax.set_xlabel(\"Ano\")\n",
    "stack_ax.set_ylabel(r\"Emissão CO$_2$ per capita (toneladas)\")\n",
    "# stack_ax.grid(visible=True)\n",
    "stack_ax.axhline(0)\n",
    "\n",
    "stack_ax.stackplot(\n",
    "    datas,  # Valores a utilizar no eixo dos XX\n",
    "    [dados_pt, dados_es],  # Valores das áreas indexadas pelo ano.\n",
    "    baseline=\"sym\",\n",
    "    labels=[\"Portugal\", \"Espanha\"],  # O valor \"humano\" das etiquetas.\n",
    "    colors=[\"green\", \"yellow\"],  # Cores das áreas.\n",
    ")\n",
    "stack_ax.legend(loc=\"upper left\")\n"
   ],
   "metadata": {
    "collapsed": false
   },
   "id": "52ed01e87783c2d0",
   "execution_count": null
  },
  {
   "cell_type": "markdown",
   "source": [
    "### Plot\n",
    "\n",
    "Apesar de simples, este é a meu ver o que mais facilmente permite ver a diferença entre os países. E assim responder mais adequadamente ao que se pede. Decididamente uma abordagem KISS (1).\n",
    "\n",
    "(1) **K**eep **I**t **S**tupidly **S**imple - Esta versão é menos \"ofensiva\" "
   ],
   "metadata": {
    "collapsed": false
   },
   "id": "d4c67d1152b1de42"
  },
  {
   "cell_type": "code",
   "outputs": [],
   "source": [
    "plot_fig, plot_ax = plt.subplots(figsize=(12, 8))\n",
    "# Configuraçao do ``Axes``.\n",
    "plot_ax.set_title(r\"Emissões de CO$_2$ per capita entre 1900 e 2021\")\n",
    "plot_ax.set_xlabel(\"Ano\")\n",
    "plot_ax.set_ylabel(r\"Emissão CO$_2$ per capita (toneladas)\")\n",
    "\n",
    "graficos = []\n",
    "dados_para_grafico = [\n",
    "    [dados_pt, \"red\", \"Portugal\"],\n",
    "    [dados_es, \"yellow\", \"Espanha\"],\n",
    "]\n",
    "\n",
    "# Construir as várias \"linhas\"\n",
    "for dados_pais in dados_para_grafico:\n",
    "    grafico = plot_ax.plot(\n",
    "        datas,  # Seria a utilizar para o eixo dos XX.\n",
    "        dados_pais[0],  # Seria a utilizar para o eixo dos YY. \n",
    "        color=dados_pais[1],  # Cor da \"linha\".\n",
    "        label=dados_pais[2],  # O valor \"humano\" das etiquetas. \n",
    "    )\n",
    "    # Vou guardar as linhas numa lista caso queira mais tarde referênciar as mesmas.\n",
    "    graficos.append(grafico)\n",
    "\n",
    "plot_ax.legend(loc=\"upper left\")"
   ],
   "metadata": {
    "collapsed": false
   },
   "id": "4ec34275abcf8317",
   "execution_count": null
  },
  {
   "cell_type": "markdown",
   "source": [
    "### Barras horizontais\n",
    "\n",
    "Baseado em:\n",
    "https://sharkcoder.com/data-visualization/mpl-bidirectional\n",
    "\n",
    "Interessante, mas não ajuda a ver o que se pretende.\n"
   ],
   "metadata": {
    "collapsed": false
   },
   "id": "5d1e404c923d6bbc"
  },
  {
   "cell_type": "code",
   "outputs": [],
   "source": [
    "bar_fig, bar_axes = plt.subplots(figsize=(12, 8), ncols=2, sharey=True)\n",
    "bar_fig.tight_layout()\n",
    "# Configuraçao do ``Axes``.\n",
    "# bar_axes.set_title(\"Emissões de CO2 per capita entre 1900 e 2021\")\n",
    "# bar_axes.set_xlabel(\"Ano\")\n",
    "# bar_axes.set_ylabel(r\"Emissão CO$_2$ per capita (toneladas)\")\n",
    "# bar_axes.grid(True)\n",
    "\n",
    "# Inicializar bottom_series com uma Serie de zeros.\n",
    "bottom_series = [0]*122\n",
    "areas = []\n",
    "\n",
    "\n",
    "# Construir as barras PT\n",
    "barras_pt = bar_axes[0].barh(\n",
    "    datas,  # Seria a utilizar para o eixo dos XX.\n",
    "    dados_pt,\n",
    "    color=\"yellow\",  # Cor da \"linha\".\n",
    "    label=\"Portugal\",  # O valor \"humano\" das etiquetas. \n",
    ")\n",
    "# Construir as barras PT\n",
    "barras_es = bar_axes[1].barh(\n",
    "    datas,  # Seria a utilizar para o eixo dos XX.\n",
    "    dados_es,\n",
    "    color=\"red\",  # Cor da \"linha\".\n",
    "    label=\"Espanha\",  # O valor \"humano\" das etiquetas.\n",
    ")\n",
    "# bar_axes[0].invert_yxis() \n",
    "bar_axes[0].invert_xaxis()\n",
    "# bar_axes[1].invert_xaxis()\n",
    "\n",
    "bar_axes[1].legend(loc=\"lower right\")\n",
    "bar_axes[0].legend(loc=\"lower left\")\n",
    "bar_axes[1].grid(True)\n",
    "bar_axes[0].grid(True)\n",
    "\n",
    "\n",
    "\n"
   ],
   "metadata": {
    "collapsed": false
   },
   "id": "6c4cc138c03c7626",
   "execution_count": null
  },
  {
   "cell_type": "code",
   "outputs": [],
   "source": [],
   "metadata": {
    "collapsed": false
   },
   "id": "6ba09882db5d3eb3",
   "execution_count": null
  }
 ],
 "metadata": {
  "kernelspec": {
   "display_name": "Python 3",
   "language": "python",
   "name": "python3"
  },
  "language_info": {
   "codemirror_mode": {
    "name": "ipython",
    "version": 2
   },
   "file_extension": ".py",
   "mimetype": "text/x-python",
   "name": "python",
   "nbconvert_exporter": "python",
   "pygments_lexer": "ipython2",
   "version": "2.7.6"
  }
 },
 "nbformat": 4,
 "nbformat_minor": 5
}
