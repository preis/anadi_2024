{
 "cells": [
  {
   "cell_type": "markdown",
   "source": [
    "# 4.2\n",
    "## 1.\n",
    "### Imports"
   ],
   "metadata": {
    "collapsed": false
   },
   "id": "ec06f358ace34aca"
  },
  {
   "cell_type": "code",
   "outputs": [],
   "source": [
    "import pandas as pd\n",
    "import scipy.stats as stats\n",
    "import matplotlib.pyplot as plt"
   ],
   "metadata": {
    "collapsed": false,
    "ExecuteTime": {
     "end_time": "2024-04-04T17:57:45.417807Z",
     "start_time": "2024-04-04T17:57:45.405573Z"
    }
   },
   "id": "d7a5fa0b43c5c699",
   "execution_count": 1
  },
  {
   "cell_type": "markdown",
   "source": [
    "### Obter série de anos"
   ],
   "metadata": {
    "collapsed": false
   },
   "id": "daf9cd70211f158c"
  },
  {
   "cell_type": "code",
   "execution_count": 2,
   "id": "initial_id",
   "metadata": {
    "collapsed": true,
    "ExecuteTime": {
     "end_time": "2024-04-04T17:57:45.433059Z",
     "start_time": "2024-04-04T17:57:45.419741Z"
    }
   },
   "outputs": [],
   "source": [
    "seed_value = 100\n",
    "years = pd.Series([i for i in range(1900, 2021)])\n",
    "sampleyears1 = years.sample(n=30, replace=False, random_state=seed_value)"
   ]
  },
  {
   "cell_type": "markdown",
   "source": [
    "### Ler os dados"
   ],
   "metadata": {
    "collapsed": false
   },
   "id": "8aa7f67b3cae872a"
  },
  {
   "cell_type": "code",
   "outputs": [],
   "source": [
    "dados_lidos = pd.read_csv(\"CO_data.csv\")"
   ],
   "metadata": {
    "collapsed": false,
    "ExecuteTime": {
     "end_time": "2024-04-04T17:57:45.510919Z",
     "start_time": "2024-04-04T17:57:45.435089Z"
    }
   },
   "id": "7bbd12090a1b203d",
   "execution_count": 3
  },
  {
   "cell_type": "markdown",
   "source": [
    "### Inspecionar os dados lidos\n",
    "\n",
    "Nota: A análise destes dados já foi realizada na primeira parte do trabalho, pelo que nesta parte fica apenas uma \"verificação\" visual do carregamento dos dados."
   ],
   "metadata": {
    "collapsed": false
   },
   "id": "4d4053a858888af6"
  },
  {
   "cell_type": "code",
   "outputs": [
    {
     "data": {
      "text/plain": "       country  year  population  gdp  cement_co2  co2  coal_co2  \\\n0  Afghanistan  1900   4707744.0  NaN         NaN  NaN       NaN   \n1  Afghanistan  1901   4751177.0  NaN         NaN  NaN       NaN   \n2  Afghanistan  1902   4802500.0  NaN         NaN  NaN       NaN   \n3  Afghanistan  1903   4861833.0  NaN         NaN  NaN       NaN   \n4  Afghanistan  1904   4921891.0  NaN         NaN  NaN       NaN   \n\n   energy_per_capita  energy_per_gdp  flaring_co2  gas_co2  methane  \\\n0                NaN             NaN          NaN      NaN      NaN   \n1                NaN             NaN          NaN      NaN      NaN   \n2                NaN             NaN          NaN      NaN      NaN   \n3                NaN             NaN          NaN      NaN      NaN   \n4                NaN             NaN          NaN      NaN      NaN   \n\n   nitrous_oxide  oil_co2  \n0            NaN      NaN  \n1            NaN      NaN  \n2            NaN      NaN  \n3            NaN      NaN  \n4            NaN      NaN  ",
      "text/html": "<div>\n<style scoped>\n    .dataframe tbody tr th:only-of-type {\n        vertical-align: middle;\n    }\n\n    .dataframe tbody tr th {\n        vertical-align: top;\n    }\n\n    .dataframe thead th {\n        text-align: right;\n    }\n</style>\n<table border=\"1\" class=\"dataframe\">\n  <thead>\n    <tr style=\"text-align: right;\">\n      <th></th>\n      <th>country</th>\n      <th>year</th>\n      <th>population</th>\n      <th>gdp</th>\n      <th>cement_co2</th>\n      <th>co2</th>\n      <th>coal_co2</th>\n      <th>energy_per_capita</th>\n      <th>energy_per_gdp</th>\n      <th>flaring_co2</th>\n      <th>gas_co2</th>\n      <th>methane</th>\n      <th>nitrous_oxide</th>\n      <th>oil_co2</th>\n    </tr>\n  </thead>\n  <tbody>\n    <tr>\n      <th>0</th>\n      <td>Afghanistan</td>\n      <td>1900</td>\n      <td>4707744.0</td>\n      <td>NaN</td>\n      <td>NaN</td>\n      <td>NaN</td>\n      <td>NaN</td>\n      <td>NaN</td>\n      <td>NaN</td>\n      <td>NaN</td>\n      <td>NaN</td>\n      <td>NaN</td>\n      <td>NaN</td>\n      <td>NaN</td>\n    </tr>\n    <tr>\n      <th>1</th>\n      <td>Afghanistan</td>\n      <td>1901</td>\n      <td>4751177.0</td>\n      <td>NaN</td>\n      <td>NaN</td>\n      <td>NaN</td>\n      <td>NaN</td>\n      <td>NaN</td>\n      <td>NaN</td>\n      <td>NaN</td>\n      <td>NaN</td>\n      <td>NaN</td>\n      <td>NaN</td>\n      <td>NaN</td>\n    </tr>\n    <tr>\n      <th>2</th>\n      <td>Afghanistan</td>\n      <td>1902</td>\n      <td>4802500.0</td>\n      <td>NaN</td>\n      <td>NaN</td>\n      <td>NaN</td>\n      <td>NaN</td>\n      <td>NaN</td>\n      <td>NaN</td>\n      <td>NaN</td>\n      <td>NaN</td>\n      <td>NaN</td>\n      <td>NaN</td>\n      <td>NaN</td>\n    </tr>\n    <tr>\n      <th>3</th>\n      <td>Afghanistan</td>\n      <td>1903</td>\n      <td>4861833.0</td>\n      <td>NaN</td>\n      <td>NaN</td>\n      <td>NaN</td>\n      <td>NaN</td>\n      <td>NaN</td>\n      <td>NaN</td>\n      <td>NaN</td>\n      <td>NaN</td>\n      <td>NaN</td>\n      <td>NaN</td>\n      <td>NaN</td>\n    </tr>\n    <tr>\n      <th>4</th>\n      <td>Afghanistan</td>\n      <td>1904</td>\n      <td>4921891.0</td>\n      <td>NaN</td>\n      <td>NaN</td>\n      <td>NaN</td>\n      <td>NaN</td>\n      <td>NaN</td>\n      <td>NaN</td>\n      <td>NaN</td>\n      <td>NaN</td>\n      <td>NaN</td>\n      <td>NaN</td>\n      <td>NaN</td>\n    </tr>\n  </tbody>\n</table>\n</div>"
     },
     "execution_count": 4,
     "metadata": {},
     "output_type": "execute_result"
    }
   ],
   "source": [
    "dados_lidos.head()"
   ],
   "metadata": {
    "collapsed": false,
    "ExecuteTime": {
     "end_time": "2024-04-04T17:57:45.541072Z",
     "start_time": "2024-04-04T17:57:45.512922Z"
    }
   },
   "id": "b0beaf1af350d1bf",
   "execution_count": 4
  },
  {
   "cell_type": "markdown",
   "source": [
    "### Obter dados dos anos pretendidos para Portugal e Hungria\n",
    "\n",
    "Vamos realizar a filtragem das linhas e colunas de uma única vez, pelo que precisamos de preparar os filtros previamente.\n",
    "Optámos também por ter os dados em 2 datasets separados por País, neste caso não existe vantagem em ter apenas um único dataset para todos os dados. "
   ],
   "metadata": {
    "collapsed": false
   },
   "id": "6fa676a1815af4d9"
  },
  {
   "cell_type": "code",
   "outputs": [],
   "source": [
    "# Definição das condições de filtragem.\n",
    "condicao_anos = dados_lidos.year.isin(list(sampleyears1))\n",
    "condicao_PT = dados_lidos.country == \"Portugal\"\n",
    "condicao_HU = dados_lidos.country == \"Hungary\"\n",
    "\n",
    "# Extrair dos dados lidos, os dados de trabalho de acordo com as condições de filtro.\n",
    "dados_PT = dados_lidos.loc[condicao_PT & condicao_anos, [\"year\", \"gdp\"]]\n",
    "dados_HU = dados_lidos.loc[condicao_HU & condicao_anos, [\"year\", \"gdp\"]]"
   ],
   "metadata": {
    "collapsed": false,
    "ExecuteTime": {
     "end_time": "2024-04-04T17:57:45.556629Z",
     "start_time": "2024-04-04T17:57:45.542108Z"
    }
   },
   "id": "ed840876c89ed4e2",
   "execution_count": 5
  },
  {
   "cell_type": "markdown",
   "source": [
    "### Tratar dos NaN\n",
    "\n",
    "\n",
    "TODO: Colocar dados num único dataset, uma coluna por país, remover linhas com NaN.\n",
    "Ficamos com 26 amostras emparelhadas.\n",
    "\n",
    "Optámos por remover, mantendo o dataset original, e criando um novo que não inclui registos que tenham valores ``NaN``."
   ],
   "metadata": {
    "collapsed": false
   },
   "id": "f1aa7d13e142db36"
  },
  {
   "cell_type": "code",
   "outputs": [],
   "source": [
    "dados_PT_na = dados_PT.dropna()\n",
    "dados_HU_na = dados_HU.dropna()"
   ],
   "metadata": {
    "collapsed": false,
    "ExecuteTime": {
     "end_time": "2024-04-04T17:57:45.572538Z",
     "start_time": "2024-04-04T17:57:45.557633Z"
    }
   },
   "id": "8ece8abb568989cf",
   "execution_count": 6
  },
  {
   "cell_type": "markdown",
   "source": [
    "### Inspecionar os dados filtrados\n",
    "\n",
    "Pretendemos confirmar que temos as colunas necessárias. E que os valores ``NaN`` foram removidos."
   ],
   "metadata": {
    "collapsed": false
   },
   "id": "a0c279bed95228bd"
  },
  {
   "cell_type": "code",
   "outputs": [
    {
     "name": "stdout",
     "output_type": "stream",
     "text": [
      "Existiam NaN ? False\n",
      "Existem NaN ? False\n"
     ]
    },
    {
     "data": {
      "text/plain": "       year           gdp\n24467  1911  1.175130e+10\n24477  1921  1.248198e+10\n24481  1925  1.470129e+10\n24482  1926  1.460573e+10\n24484  1928  1.550832e+10",
      "text/html": "<div>\n<style scoped>\n    .dataframe tbody tr th:only-of-type {\n        vertical-align: middle;\n    }\n\n    .dataframe tbody tr th {\n        vertical-align: top;\n    }\n\n    .dataframe thead th {\n        text-align: right;\n    }\n</style>\n<table border=\"1\" class=\"dataframe\">\n  <thead>\n    <tr style=\"text-align: right;\">\n      <th></th>\n      <th>year</th>\n      <th>gdp</th>\n    </tr>\n  </thead>\n  <tbody>\n    <tr>\n      <th>24467</th>\n      <td>1911</td>\n      <td>1.175130e+10</td>\n    </tr>\n    <tr>\n      <th>24477</th>\n      <td>1921</td>\n      <td>1.248198e+10</td>\n    </tr>\n    <tr>\n      <th>24481</th>\n      <td>1925</td>\n      <td>1.470129e+10</td>\n    </tr>\n    <tr>\n      <th>24482</th>\n      <td>1926</td>\n      <td>1.460573e+10</td>\n    </tr>\n    <tr>\n      <th>24484</th>\n      <td>1928</td>\n      <td>1.550832e+10</td>\n    </tr>\n  </tbody>\n</table>\n</div>"
     },
     "execution_count": 7,
     "metadata": {},
     "output_type": "execute_result"
    }
   ],
   "source": [
    "print(f\"Existiam NaN ? {dados_PT.isnull().values.any()}\")\n",
    "print(f\"Existem NaN ? {dados_PT_na.isnull().values.any()}\")\n",
    "dados_PT_na.head()"
   ],
   "metadata": {
    "collapsed": false,
    "ExecuteTime": {
     "end_time": "2024-04-04T17:57:45.587863Z",
     "start_time": "2024-04-04T17:57:45.573477Z"
    }
   },
   "id": "5e51a7168010a1ac",
   "execution_count": 7
  },
  {
   "cell_type": "code",
   "outputs": [
    {
     "name": "stdout",
     "output_type": "stream",
     "text": [
      "Existiam NaN ? True\n",
      "Existem NaN ? False\n"
     ]
    },
    {
     "data": {
      "text/plain": "       year           gdp\n13463  1925  3.015027e+10\n13464  1926  2.888782e+10\n13466  1928  3.279348e+10\n13467  1929  3.387710e+10\n13470  1932  3.069479e+10",
      "text/html": "<div>\n<style scoped>\n    .dataframe tbody tr th:only-of-type {\n        vertical-align: middle;\n    }\n\n    .dataframe tbody tr th {\n        vertical-align: top;\n    }\n\n    .dataframe thead th {\n        text-align: right;\n    }\n</style>\n<table border=\"1\" class=\"dataframe\">\n  <thead>\n    <tr style=\"text-align: right;\">\n      <th></th>\n      <th>year</th>\n      <th>gdp</th>\n    </tr>\n  </thead>\n  <tbody>\n    <tr>\n      <th>13463</th>\n      <td>1925</td>\n      <td>3.015027e+10</td>\n    </tr>\n    <tr>\n      <th>13464</th>\n      <td>1926</td>\n      <td>2.888782e+10</td>\n    </tr>\n    <tr>\n      <th>13466</th>\n      <td>1928</td>\n      <td>3.279348e+10</td>\n    </tr>\n    <tr>\n      <th>13467</th>\n      <td>1929</td>\n      <td>3.387710e+10</td>\n    </tr>\n    <tr>\n      <th>13470</th>\n      <td>1932</td>\n      <td>3.069479e+10</td>\n    </tr>\n  </tbody>\n</table>\n</div>"
     },
     "execution_count": 8,
     "metadata": {},
     "output_type": "execute_result"
    }
   ],
   "source": [
    "print(f\"Existiam NaN ? {dados_HU.isnull().values.any()}\")\n",
    "print(f\"Existem NaN ? {dados_HU_na.isnull().values.any()}\")\n",
    "dados_HU_na.head()"
   ],
   "metadata": {
    "collapsed": false,
    "ExecuteTime": {
     "end_time": "2024-04-04T17:57:45.618560Z",
     "start_time": "2024-04-04T17:57:45.589953Z"
    }
   },
   "id": "adadc11d8b264b8f",
   "execution_count": 8
  },
  {
   "cell_type": "markdown",
   "source": [
    "### Gráficos dos dados\n",
    "\n",
    "Pela natureza dos dados, considerramos que a melhor de os visualizar é pela utilização de gráficos de dispersão."
   ],
   "metadata": {
    "collapsed": false
   },
   "id": "f8e20965d55c3ea0"
  },
  {
   "cell_type": "code",
   "outputs": [
    {
     "data": {
      "text/plain": "<Figure size 1600x500 with 1 Axes>",
      "image/png": "[encoded data removed]"
     },
     "metadata": {},
     "output_type": "display_data"
    }
   ],
   "source": [
    "fig_scatter, axes_scatter = plt.subplots(figsize=(16, 5))\n",
    "fig_scatter.suptitle(\"GDP de Portugal e Hungria\")\n",
    "\n",
    "plt_pt = axes_scatter.scatter(dados_PT_na[\"year\"], dados_PT_na[\"gdp\"], color=\"green\")\n",
    "plt_hu = axes_scatter.scatter(dados_HU_na[\"year\"], dados_HU_na[\"gdp\"], color=\"red\")\n",
    "_ = axes_scatter.set_xlabel(\"Ano\")\n",
    "_ = axes_scatter.set_ylabel(\"GDP ($)\")\n",
    "legenda_scatter = fig_scatter.legend((\"Portugal\", \"Hungria\"), loc=\"upper right\")\n",
    "\n",
    "# fig_scatter.show()  # Em Jupyter pode apresentar um aviso."
   ],
   "metadata": {
    "collapsed": false,
    "ExecuteTime": {
     "end_time": "2024-04-04T17:57:46.060630Z",
     "start_time": "2024-04-04T17:57:45.621612Z"
    }
   },
   "id": "315a61b568336b4e",
   "execution_count": 9
  },
  {
   "cell_type": "code",
   "outputs": [],
   "source": [
    "#### Gráficos isolados (alternativa)"
   ],
   "metadata": {
    "collapsed": false,
    "ExecuteTime": {
     "end_time": "2024-04-04T17:57:46.075957Z",
     "start_time": "2024-04-04T17:57:46.062727Z"
    }
   },
   "id": "de14a521a5285728",
   "execution_count": 10
  },
  {
   "cell_type": "code",
   "outputs": [
    {
     "data": {
      "text/plain": "<Figure size 1600x500 with 2 Axes>",
      "image/png": "[encoded data removed]"
     },
     "metadata": {},
     "output_type": "display_data"
    }
   ],
   "source": [
    "fig_scatter_alt, axes_scatter_alt = plt.subplots(nrows=1, ncols=2, figsize=(16, 5))\n",
    "\n",
    "# Subplot com os dados de Portugal\n",
    "plt_pt_alt = axes_scatter_alt[0].scatter(dados_PT_na[\"year\"], dados_PT_na[\"gdp\"], color=\"green\")\n",
    "_ = axes_scatter_alt[0].set_title(\"GDP de Portugal\")\n",
    "_ = axes_scatter_alt[0].set_xlabel(\"Ano\")\n",
    "_ = axes_scatter_alt[0].set_ylabel(\"GDP ($)\")\n",
    "\n",
    "# Subplot com os dados dda Hungria\n",
    "plt_hu_alt = axes_scatter_alt[1].scatter(dados_HU_na[\"year\"], dados_HU_na[\"gdp\"], color=\"red\")\n",
    "_ = axes_scatter_alt[1].set_title(\"GDP da Hungria\")\n",
    "_ = axes_scatter_alt[1].set_xlabel(\"Ano\")\n",
    "_ = axes_scatter_alt[1].set_ylabel(\"GDP ($)\")\n",
    "\n",
    "# fig_scatter_alt.show()  # Em Jupyter pode apresentar um aviso."
   ],
   "metadata": {
    "collapsed": false,
    "ExecuteTime": {
     "end_time": "2024-04-04T17:57:46.698876Z",
     "start_time": "2024-04-04T17:57:46.077810Z"
    }
   },
   "id": "698eda22931a401b",
   "execution_count": 11
  },
  {
   "cell_type": "markdown",
   "source": [
    "### Cálcular a média amostral"
   ],
   "metadata": {
    "collapsed": false
   },
   "id": "336193f9e4cd4c19"
  },
  {
   "cell_type": "code",
   "outputs": [
    {
     "name": "stdout",
     "output_type": "stream",
     "text": [
      "Média amostral de Portugal: 1.023e+11\n",
      "Média amostral da Hungria: 9.219e+10\n"
     ]
    }
   ],
   "source": [
    "# Média amostral de Portugal.\n",
    "media_PT = dados_PT[\"gdp\"].mean(axis=0)\n",
    "print(f\"Média amostral de Portugal: {media_PT:.3e}\")\n",
    "\n",
    "# Média amostral da Hungria.\n",
    "media_HU = dados_HU[\"gdp\"].mean(axis=0)\n",
    "print(f\"Média amostral da Hungria: {media_HU:.3e}\")"
   ],
   "metadata": {
    "collapsed": false,
    "ExecuteTime": {
     "end_time": "2024-04-04T17:57:46.715010Z",
     "start_time": "2024-04-04T17:57:46.699812Z"
    }
   },
   "id": "d5bad3a67283b172",
   "execution_count": 12
  },
  {
   "cell_type": "markdown",
   "source": [
    "### Normalidade\n",
    "\n",
    "Este teste podia ser dispensado porque a amostra é de 30 valores, que é o limite para a utilização do teste *t-student*.\n",
    "Para que o teste funcione foi necessário fazer a opçao de omitir os valores ``NaN`` usando ``nan_policy=\"omit\"``."
   ],
   "metadata": {
    "collapsed": false
   },
   "id": "af90d05171b0d518"
  },
  {
   "cell_type": "code",
   "outputs": [
    {
     "name": "stdout",
     "output_type": "stream",
     "text": [
      "Portugal - pvalue: 0.0038\n",
      "Hungria - pvalue: 0.17\n"
     ]
    }
   ],
   "source": [
    "statval_PT, p_value_PT = stats.normaltest(dados_PT[\"gdp\"],  nan_policy=\"omit\")\n",
    "print(f\"Portugal - pvalue: {p_value_PT:.3}\")\n",
    "\n",
    "statval_HU, p_value_HU = stats.normaltest(dados_HU[\"gdp\"], nan_policy=\"omit\")\n",
    "print(f\"Hungria - pvalue: {p_value_HU:.3}\")"
   ],
   "metadata": {
    "collapsed": false,
    "ExecuteTime": {
     "end_time": "2024-04-04T17:57:46.730592Z",
     "start_time": "2024-04-04T17:57:46.717132Z"
    }
   },
   "id": "65cc8c83ff7677c9",
   "execution_count": 13
  },
  {
   "cell_type": "markdown",
   "source": [
    "Como o *p-value* de Portugal é inferior a 5% os dados não seguem distribuição normal.\n",
    "Como o *p-value* da Hungria é superior a 5% os dados seguem distribuição normal. "
   ],
   "metadata": {
    "collapsed": false
   },
   "id": "d55d641e11750afa"
  },
  {
   "cell_type": "markdown",
   "source": [
    "### Teste\n",
    "\n",
    "As amostras são emparelhadas, não havendo assim necessidade de testar a variância das mesmas.\n",
    "\n",
    "Utilizaçao de *t-student* à média, para amostras emparelhadas (dizem respeito aos mesmos anos).\n",
    "\n",
    "## Hipotese\n",
    "\n",
    "$$H_0: \\bar X_{PT} \\geq \\bar X_{HU} \\quad Vs \\quad H_0: \\bar X_{PT} < \\bar X_{HU}$$\n",
    "\n",
    "Para que o teste funcione foi necessário fazer a opçao de omitir os valores ``NaN`` usando ``nan_policy=\"omit\"``.\n",
    "Uma vez que pretendemos testar se o valor do GDP de Portugal é superior, e os respectivos dados são os primeiros dos argumentos a opção correta para a hipótese alternativa é: ``alternative=\"greater\"``.   "
   ],
   "metadata": {
    "collapsed": false
   },
   "id": "61da15788345a65d"
  },
  {
   "cell_type": "code",
   "outputs": [
    {
     "name": "stdout",
     "output_type": "stream",
     "text": [
      "O valor de pvalue é 0.0076\n"
     ]
    }
   ],
   "source": [
    "resultado = stats.ttest_rel(dados_PT[\"gdp\"], dados_HU[\"gdp\"], nan_policy=\"omit\", alternative=\"greater\")\n",
    "print(f\"O valor de pvalue é {resultado.pvalue:.4f}\")"
   ],
   "metadata": {
    "collapsed": false,
    "ExecuteTime": {
     "end_time": "2024-04-04T17:57:46.746649Z",
     "start_time": "2024-04-04T17:57:46.732595Z"
    }
   },
   "id": "bcb333c50499c2d6",
   "execution_count": 14
  },
  {
   "cell_type": "markdown",
   "source": [
    "Como o valor do *p-value* é inferior a 0,05 rejeitamos a hipotese de que a média do GDP de Portugal é superior à média da Hungria."
   ],
   "metadata": {
    "collapsed": false
   },
   "id": "47b269b9260798f6"
  }
 ],
 "metadata": {
  "kernelspec": {
   "display_name": "Python 3",
   "language": "python",
   "name": "python3"
  },
  "language_info": {
   "codemirror_mode": {
    "name": "ipython",
    "version": 2
   },
   "file_extension": ".py",
   "mimetype": "text/x-python",
   "name": "python",
   "nbconvert_exporter": "python",
   "pygments_lexer": "ipython2",
   "version": "2.7.6"
  }
 },
 "nbformat": 4,
 "nbformat_minor": 5
}
