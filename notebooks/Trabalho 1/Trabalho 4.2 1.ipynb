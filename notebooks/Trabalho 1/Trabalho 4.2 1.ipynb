{
 "cells": [
  {
   "cell_type": "markdown",
   "source": [
    "# 4.2\n",
    "## 1.\n",
    "### Imports"
   ],
   "metadata": {
    "collapsed": false
   },
   "id": "ec06f358ace34aca"
  },
  {
   "cell_type": "code",
   "outputs": [],
   "source": [
    "import pandas as pd\n",
    "import scipy.stats as stats\n",
    "import matplotlib.pyplot as plt"
   ],
   "metadata": {
    "collapsed": false,
    "ExecuteTime": {
     "end_time": "2024-04-04T22:30:30.047111Z",
     "start_time": "2024-04-04T22:30:30.044593Z"
    }
   },
   "id": "d7a5fa0b43c5c699",
   "execution_count": 1
  },
  {
   "cell_type": "markdown",
   "source": [
    "### Obter série de anos"
   ],
   "metadata": {
    "collapsed": false
   },
   "id": "daf9cd70211f158c"
  },
  {
   "cell_type": "code",
   "execution_count": 2,
   "id": "initial_id",
   "metadata": {
    "collapsed": true,
    "ExecuteTime": {
     "end_time": "2024-04-04T22:30:30.051474Z",
     "start_time": "2024-04-04T22:30:30.048119Z"
    }
   },
   "outputs": [],
   "source": [
    "seed_value = 100\n",
    "years = pd.Series([i for i in range(1900, 2021)])\n",
    "sampleyears1 = years.sample(n=30, replace=False, random_state=seed_value)"
   ]
  },
  {
   "cell_type": "markdown",
   "source": [
    "### Ler os dados"
   ],
   "metadata": {
    "collapsed": false
   },
   "id": "8aa7f67b3cae872a"
  },
  {
   "cell_type": "code",
   "outputs": [],
   "source": [
    "dados_lidos = pd.read_csv(\"CO_data.csv\")"
   ],
   "metadata": {
    "collapsed": false,
    "ExecuteTime": {
     "end_time": "2024-04-04T22:30:30.077775Z",
     "start_time": "2024-04-04T22:30:30.051474Z"
    }
   },
   "id": "7bbd12090a1b203d",
   "execution_count": 3
  },
  {
   "cell_type": "markdown",
   "source": [
    "### Inspecionar os dados lidos\n",
    "\n",
    "Nota: A análise destes dados já foi realizada na primeira parte do trabalho, pelo que nesta parte fica apenas uma \"verificação\" visual do carregamento dos dados."
   ],
   "metadata": {
    "collapsed": false
   },
   "id": "4d4053a858888af6"
  },
  {
   "cell_type": "code",
   "outputs": [
    {
     "data": {
      "text/plain": "       country  year  population  gdp  cement_co2  co2  coal_co2  \\\n0  Afghanistan  1900   4707744.0  NaN         NaN  NaN       NaN   \n1  Afghanistan  1901   4751177.0  NaN         NaN  NaN       NaN   \n2  Afghanistan  1902   4802500.0  NaN         NaN  NaN       NaN   \n3  Afghanistan  1903   4861833.0  NaN         NaN  NaN       NaN   \n4  Afghanistan  1904   4921891.0  NaN         NaN  NaN       NaN   \n\n   energy_per_capita  energy_per_gdp  flaring_co2  gas_co2  methane  \\\n0                NaN             NaN          NaN      NaN      NaN   \n1                NaN             NaN          NaN      NaN      NaN   \n2                NaN             NaN          NaN      NaN      NaN   \n3                NaN             NaN          NaN      NaN      NaN   \n4                NaN             NaN          NaN      NaN      NaN   \n\n   nitrous_oxide  oil_co2  \n0            NaN      NaN  \n1            NaN      NaN  \n2            NaN      NaN  \n3            NaN      NaN  \n4            NaN      NaN  ",
      "text/html": "<div>\n<style scoped>\n    .dataframe tbody tr th:only-of-type {\n        vertical-align: middle;\n    }\n\n    .dataframe tbody tr th {\n        vertical-align: top;\n    }\n\n    .dataframe thead th {\n        text-align: right;\n    }\n</style>\n<table border=\"1\" class=\"dataframe\">\n  <thead>\n    <tr style=\"text-align: right;\">\n      <th></th>\n      <th>country</th>\n      <th>year</th>\n      <th>population</th>\n      <th>gdp</th>\n      <th>cement_co2</th>\n      <th>co2</th>\n      <th>coal_co2</th>\n      <th>energy_per_capita</th>\n      <th>energy_per_gdp</th>\n      <th>flaring_co2</th>\n      <th>gas_co2</th>\n      <th>methane</th>\n      <th>nitrous_oxide</th>\n      <th>oil_co2</th>\n    </tr>\n  </thead>\n  <tbody>\n    <tr>\n      <th>0</th>\n      <td>Afghanistan</td>\n      <td>1900</td>\n      <td>4707744.0</td>\n      <td>NaN</td>\n      <td>NaN</td>\n      <td>NaN</td>\n      <td>NaN</td>\n      <td>NaN</td>\n      <td>NaN</td>\n      <td>NaN</td>\n      <td>NaN</td>\n      <td>NaN</td>\n      <td>NaN</td>\n      <td>NaN</td>\n    </tr>\n    <tr>\n      <th>1</th>\n      <td>Afghanistan</td>\n      <td>1901</td>\n      <td>4751177.0</td>\n      <td>NaN</td>\n      <td>NaN</td>\n      <td>NaN</td>\n      <td>NaN</td>\n      <td>NaN</td>\n      <td>NaN</td>\n      <td>NaN</td>\n      <td>NaN</td>\n      <td>NaN</td>\n      <td>NaN</td>\n      <td>NaN</td>\n    </tr>\n    <tr>\n      <th>2</th>\n      <td>Afghanistan</td>\n      <td>1902</td>\n      <td>4802500.0</td>\n      <td>NaN</td>\n      <td>NaN</td>\n      <td>NaN</td>\n      <td>NaN</td>\n      <td>NaN</td>\n      <td>NaN</td>\n      <td>NaN</td>\n      <td>NaN</td>\n      <td>NaN</td>\n      <td>NaN</td>\n      <td>NaN</td>\n    </tr>\n    <tr>\n      <th>3</th>\n      <td>Afghanistan</td>\n      <td>1903</td>\n      <td>4861833.0</td>\n      <td>NaN</td>\n      <td>NaN</td>\n      <td>NaN</td>\n      <td>NaN</td>\n      <td>NaN</td>\n      <td>NaN</td>\n      <td>NaN</td>\n      <td>NaN</td>\n      <td>NaN</td>\n      <td>NaN</td>\n      <td>NaN</td>\n    </tr>\n    <tr>\n      <th>4</th>\n      <td>Afghanistan</td>\n      <td>1904</td>\n      <td>4921891.0</td>\n      <td>NaN</td>\n      <td>NaN</td>\n      <td>NaN</td>\n      <td>NaN</td>\n      <td>NaN</td>\n      <td>NaN</td>\n      <td>NaN</td>\n      <td>NaN</td>\n      <td>NaN</td>\n      <td>NaN</td>\n      <td>NaN</td>\n    </tr>\n  </tbody>\n</table>\n</div>"
     },
     "execution_count": 4,
     "metadata": {},
     "output_type": "execute_result"
    }
   ],
   "source": [
    "dados_lidos.head()"
   ],
   "metadata": {
    "collapsed": false,
    "ExecuteTime": {
     "end_time": "2024-04-04T22:30:30.090233Z",
     "start_time": "2024-04-04T22:30:30.078781Z"
    }
   },
   "id": "b0beaf1af350d1bf",
   "execution_count": 4
  },
  {
   "cell_type": "markdown",
   "source": [
    "### Obter dados dos anos pretendidos para Portugal e Hungria\n",
    "\n",
    "Vamos realizar a filtragem das linhas e colunas de uma única vez, pelo que precisamos de preparar os filtros previamente.\n",
    "Optámos também por ter os dados em 2 datasets separados por País, neste caso não existe vantagem em ter apenas um único dataset para todos os dados. "
   ],
   "metadata": {
    "collapsed": false
   },
   "id": "6fa676a1815af4d9"
  },
  {
   "cell_type": "code",
   "outputs": [],
   "source": [
    "# Definição das condições de filtragem.\n",
    "condicao_anos = dados_lidos.year.isin(list(sampleyears1))\n",
    "condicao_2_paises = dados_lidos.country.isin([\"Hungary\", \"Portugal\"])\n"
   ],
   "metadata": {
    "collapsed": false,
    "ExecuteTime": {
     "end_time": "2024-04-04T22:30:30.094352Z",
     "start_time": "2024-04-04T22:30:30.090233Z"
    }
   },
   "id": "ed840876c89ed4e2",
   "execution_count": 5
  },
  {
   "cell_type": "markdown",
   "source": [
    "### Extrair dos dados lidos, os dados de trabalho de acordo com as condições de filtro.\n",
    "\n",
    "Optámos por remover os registos que tenham valores ``NaN`` em qualquer uma das colunas."
   ],
   "metadata": {
    "collapsed": false
   },
   "id": "8b11486ac530f1ff"
  },
  {
   "cell_type": "code",
   "outputs": [],
   "source": [
    "# Filtrar\n",
    "dados_extraidos = dados_lidos.loc[condicao_2_paises & condicao_anos, [\"year\", \"gdp\", \"country\"]]\n",
    "# Alterar tabela\n",
    "dados_trabalho = dados_extraidos.pivot_table(values=[\"gdp\"], index=[\"year\"], columns=[\"country\"])\n",
    "# Eliminar os NaN\n",
    "dados_trabalho.dropna(inplace=True)\n",
    "# Ajustar o index\n",
    "dados_trabalho = dados_trabalho.droplevel(0, axis=1)"
   ],
   "metadata": {
    "collapsed": false,
    "ExecuteTime": {
     "end_time": "2024-04-04T22:30:30.103731Z",
     "start_time": "2024-04-04T22:30:30.094352Z"
    }
   },
   "id": "698b2c4ef5e4ccd",
   "execution_count": 6
  },
  {
   "cell_type": "markdown",
   "source": [
    "#### Confirmar o nosso dataset de trabalho\n",
    "\n",
    "Pretendemos confirmar que temos as colunas necessárias. E que os valores ``NaN`` foram removidos."
   ],
   "metadata": {
    "collapsed": false
   },
   "id": "dd2f0edc5fc6c63e"
  },
  {
   "cell_type": "code",
   "outputs": [
    {
     "name": "stdout",
     "output_type": "stream",
     "text": [
      "Existem valores NaN ? False\n"
     ]
    },
    {
     "data": {
      "text/plain": "country       Hungary      Portugal\nyear                               \n1925     3.015027e+10  1.470129e+10\n1926     2.888782e+10  1.460573e+10\n1928     3.279348e+10  1.550832e+10\n1929     3.387710e+10  1.719477e+10\n1932     3.069479e+10  1.821253e+10\n1933     3.348083e+10  1.943744e+10\n1935     3.539191e+10  1.919456e+10\n1936     3.774896e+10  1.773654e+10\n1937     3.691067e+10  2.071620e+10\n1946     2.480221e+10  2.492203e+10\n1954     4.409436e+10  3.292283e+10\n1962     6.354785e+10  4.787710e+10\n1969     8.313341e+10  7.231364e+10\n1970     8.285109e+10  7.890160e+10\n1977     1.038720e+11  1.103662e+11\n1982     1.123332e+11  1.301277e+11\n1991     9.599572e+10  1.777003e+11\n1992     9.490082e+10  1.839794e+11\n1996     1.067943e+11  1.994515e+11\n1999     1.260672e+11  2.294204e+11\n2002     1.513254e+11  2.474826e+11\n2004     1.717765e+11  2.515748e+11\n2007     1.986999e+11  2.669767e+11\n2008     2.045430e+11  2.685548e+11\n2011     2.079577e+11  2.637343e+11\n2015     2.242573e+11  2.565068e+11",
      "text/html": "<div>\n<style scoped>\n    .dataframe tbody tr th:only-of-type {\n        vertical-align: middle;\n    }\n\n    .dataframe tbody tr th {\n        vertical-align: top;\n    }\n\n    .dataframe thead th {\n        text-align: right;\n    }\n</style>\n<table border=\"1\" class=\"dataframe\">\n  <thead>\n    <tr style=\"text-align: right;\">\n      <th>country</th>\n      <th>Hungary</th>\n      <th>Portugal</th>\n    </tr>\n    <tr>\n      <th>year</th>\n      <th></th>\n      <th></th>\n    </tr>\n  </thead>\n  <tbody>\n    <tr>\n      <th>1925</th>\n      <td>3.015027e+10</td>\n      <td>1.470129e+10</td>\n    </tr>\n    <tr>\n      <th>1926</th>\n      <td>2.888782e+10</td>\n      <td>1.460573e+10</td>\n    </tr>\n    <tr>\n      <th>1928</th>\n      <td>3.279348e+10</td>\n      <td>1.550832e+10</td>\n    </tr>\n    <tr>\n      <th>1929</th>\n      <td>3.387710e+10</td>\n      <td>1.719477e+10</td>\n    </tr>\n    <tr>\n      <th>1932</th>\n      <td>3.069479e+10</td>\n      <td>1.821253e+10</td>\n    </tr>\n    <tr>\n      <th>1933</th>\n      <td>3.348083e+10</td>\n      <td>1.943744e+10</td>\n    </tr>\n    <tr>\n      <th>1935</th>\n      <td>3.539191e+10</td>\n      <td>1.919456e+10</td>\n    </tr>\n    <tr>\n      <th>1936</th>\n      <td>3.774896e+10</td>\n      <td>1.773654e+10</td>\n    </tr>\n    <tr>\n      <th>1937</th>\n      <td>3.691067e+10</td>\n      <td>2.071620e+10</td>\n    </tr>\n    <tr>\n      <th>1946</th>\n      <td>2.480221e+10</td>\n      <td>2.492203e+10</td>\n    </tr>\n    <tr>\n      <th>1954</th>\n      <td>4.409436e+10</td>\n      <td>3.292283e+10</td>\n    </tr>\n    <tr>\n      <th>1962</th>\n      <td>6.354785e+10</td>\n      <td>4.787710e+10</td>\n    </tr>\n    <tr>\n      <th>1969</th>\n      <td>8.313341e+10</td>\n      <td>7.231364e+10</td>\n    </tr>\n    <tr>\n      <th>1970</th>\n      <td>8.285109e+10</td>\n      <td>7.890160e+10</td>\n    </tr>\n    <tr>\n      <th>1977</th>\n      <td>1.038720e+11</td>\n      <td>1.103662e+11</td>\n    </tr>\n    <tr>\n      <th>1982</th>\n      <td>1.123332e+11</td>\n      <td>1.301277e+11</td>\n    </tr>\n    <tr>\n      <th>1991</th>\n      <td>9.599572e+10</td>\n      <td>1.777003e+11</td>\n    </tr>\n    <tr>\n      <th>1992</th>\n      <td>9.490082e+10</td>\n      <td>1.839794e+11</td>\n    </tr>\n    <tr>\n      <th>1996</th>\n      <td>1.067943e+11</td>\n      <td>1.994515e+11</td>\n    </tr>\n    <tr>\n      <th>1999</th>\n      <td>1.260672e+11</td>\n      <td>2.294204e+11</td>\n    </tr>\n    <tr>\n      <th>2002</th>\n      <td>1.513254e+11</td>\n      <td>2.474826e+11</td>\n    </tr>\n    <tr>\n      <th>2004</th>\n      <td>1.717765e+11</td>\n      <td>2.515748e+11</td>\n    </tr>\n    <tr>\n      <th>2007</th>\n      <td>1.986999e+11</td>\n      <td>2.669767e+11</td>\n    </tr>\n    <tr>\n      <th>2008</th>\n      <td>2.045430e+11</td>\n      <td>2.685548e+11</td>\n    </tr>\n    <tr>\n      <th>2011</th>\n      <td>2.079577e+11</td>\n      <td>2.637343e+11</td>\n    </tr>\n    <tr>\n      <th>2015</th>\n      <td>2.242573e+11</td>\n      <td>2.565068e+11</td>\n    </tr>\n  </tbody>\n</table>\n</div>"
     },
     "execution_count": 7,
     "metadata": {},
     "output_type": "execute_result"
    }
   ],
   "source": [
    "print(f\"Existem valores NaN ? {dados_trabalho.isnull().values.any()}\")\n",
    "dados_trabalho"
   ],
   "metadata": {
    "collapsed": false,
    "ExecuteTime": {
     "end_time": "2024-04-04T22:30:30.113190Z",
     "start_time": "2024-04-04T22:30:30.104737Z"
    }
   },
   "id": "846f4dcbd4f4e94e",
   "execution_count": 7
  },
  {
   "cell_type": "markdown",
   "source": [
    "### Gráficos dos dados\n",
    "\n",
    "Pela natureza dos dados, consideramos que a melhor de os visualizar é pela utilização de gráficos de dispersão."
   ],
   "metadata": {
    "collapsed": false
   },
   "id": "f8e20965d55c3ea0"
  },
  {
   "cell_type": "code",
   "outputs": [
    {
     "data": {
      "text/plain": "<Figure size 1600x500 with 1 Axes>",
      "image/png": "[encoded data removed]"
     },
     "metadata": {},
     "output_type": "display_data"
    }
   ],
   "source": [
    "fig_scatter, axes_scatter = plt.subplots(figsize=(16, 5))\n",
    "fig_scatter.suptitle(\"GDP de Portugal e Hungria\")\n",
    "\n",
    "plt_pt = axes_scatter.scatter(dados_trabalho.index, dados_trabalho.Portugal, color=\"green\")\n",
    "plt_hu = axes_scatter.scatter(dados_trabalho.index, dados_trabalho.Hungary, color=\"red\")\n",
    "_ = axes_scatter.set_xlabel(\"Ano\")\n",
    "_ = axes_scatter.set_ylabel(\"GDP ($)\")\n",
    "_ = fig_scatter.legend((\"Portugal\", \"Hungria\"), loc=\"upper right\")\n",
    "\n",
    "# fig_scatter.show()  # Em Jupyter pode apresentar um aviso."
   ],
   "metadata": {
    "collapsed": false,
    "ExecuteTime": {
     "end_time": "2024-04-04T22:30:30.289254Z",
     "start_time": "2024-04-04T22:30:30.114198Z"
    }
   },
   "id": "eef63800460ea93f",
   "execution_count": 8
  },
  {
   "cell_type": "code",
   "outputs": [],
   "source": [
    "#### Gráficos isolados (alternativa)"
   ],
   "metadata": {
    "collapsed": false,
    "ExecuteTime": {
     "end_time": "2024-04-04T22:30:30.292680Z",
     "start_time": "2024-04-04T22:30:30.290262Z"
    }
   },
   "id": "de14a521a5285728",
   "execution_count": 9
  },
  {
   "cell_type": "code",
   "outputs": [
    {
     "data": {
      "text/plain": "<Figure size 1600x500 with 2 Axes>",
      "image/png": "[encoded data removed]"
     },
     "metadata": {},
     "output_type": "display_data"
    }
   ],
   "source": [
    "fig_scatter_alt, axes_scatter_alt = plt.subplots(nrows=1, ncols=2, figsize=(16, 5))\n",
    "\n",
    "# Subplot com os dados de Portugal\n",
    "plt_pt_alt = axes_scatter_alt[0].scatter(dados_trabalho.index, dados_trabalho.Portugal, color=\"green\")\n",
    "_ = axes_scatter_alt[0].set_title(\"GDP de Portugal\")\n",
    "_ = axes_scatter_alt[0].set_xlabel(\"Ano\")\n",
    "_ = axes_scatter_alt[0].set_ylabel(\"GDP ($)\")\n",
    "\n",
    "# Subplot com os dados dda Hungria\n",
    "plt_hu_alt = axes_scatter_alt[1].scatter(dados_trabalho.index, dados_trabalho.Hungary, color=\"red\")\n",
    "_ = axes_scatter_alt[1].set_title(\"GDP da Hungria\")\n",
    "_ = axes_scatter_alt[1].set_xlabel(\"Ano\")\n",
    "_ = axes_scatter_alt[1].set_ylabel(\"GDP ($)\")\n",
    "\n",
    "# fig_scatter_alt.show()  # Em Jupyter pode apresentar um aviso."
   ],
   "metadata": {
    "collapsed": false,
    "ExecuteTime": {
     "end_time": "2024-04-04T22:30:30.590558Z",
     "start_time": "2024-04-04T22:30:30.293685Z"
    }
   },
   "id": "698eda22931a401b",
   "execution_count": 10
  },
  {
   "cell_type": "markdown",
   "source": [
    "### Cálcular a média amostral"
   ],
   "metadata": {
    "collapsed": false
   },
   "id": "336193f9e4cd4c19"
  },
  {
   "cell_type": "code",
   "outputs": [
    {
     "name": "stdout",
     "output_type": "stream",
     "text": [
      "Média amostral de Portugal: 1.154e+11\n",
      "Média amostral da Hungria: 9.219e+10\n"
     ]
    }
   ],
   "source": [
    "# Média amostral de Portugal.\n",
    "media_PT = dados_trabalho.Portugal.mean(axis=0)\n",
    "print(f\"Média amostral de Portugal: {media_PT:.3e}\")\n",
    "\n",
    "# Média amostral da Hungria.\n",
    "media_HU = dados_trabalho.Hungary.mean(axis=0)\n",
    "print(f\"Média amostral da Hungria: {media_HU:.3e}\")"
   ],
   "metadata": {
    "collapsed": false,
    "ExecuteTime": {
     "end_time": "2024-04-04T22:30:30.595423Z",
     "start_time": "2024-04-04T22:30:30.591564Z"
    }
   },
   "id": "d5bad3a67283b172",
   "execution_count": 11
  },
  {
   "cell_type": "markdown",
   "source": [
    "### Normalidade\n",
    "\n",
    "Este teste podia ser dispensado porque a amostra é de 30 valores, que é o limite para a utilização do teste *t-student*.\n",
    "Para que o teste funcione foi necessário fazer a opçao de omitir os valores ``NaN`` usando ``nan_policy=\"omit\"``."
   ],
   "metadata": {
    "collapsed": false
   },
   "id": "af90d05171b0d518"
  },
  {
   "cell_type": "code",
   "outputs": [
    {
     "name": "stdout",
     "output_type": "stream",
     "text": [
      "Portugal - pvalue: 0.00032\n",
      "Hungria - pvalue: 0.17\n"
     ]
    }
   ],
   "source": [
    "statval_PT, p_value_PT = stats.normaltest(dados_trabalho.Portugal,  nan_policy=\"omit\")\n",
    "print(f\"Portugal - pvalue: {p_value_PT:.3}\")\n",
    "\n",
    "statval_HU, p_value_HU = stats.normaltest(dados_trabalho.Hungary, nan_policy=\"omit\")\n",
    "print(f\"Hungria - pvalue: {p_value_HU:.3}\")"
   ],
   "metadata": {
    "collapsed": false,
    "ExecuteTime": {
     "end_time": "2024-04-04T22:30:30.604560Z",
     "start_time": "2024-04-04T22:30:30.596428Z"
    }
   },
   "id": "65cc8c83ff7677c9",
   "execution_count": 12
  },
  {
   "cell_type": "markdown",
   "source": [
    "Como o *p-value* de Portugal é inferior a 5% os dados não seguem distribuição normal.\n",
    "Como o *p-value* da Hungria é superior a 5% os dados seguem distribuição normal. "
   ],
   "metadata": {
    "collapsed": false
   },
   "id": "d55d641e11750afa"
  },
  {
   "cell_type": "markdown",
   "source": [
    "### Teste\n",
    "\n",
    "As amostras são emparelhadas, não havendo assim necessidade de testar a variância das mesmas.\n",
    "\n",
    "Utilizaçao de *t-student* à média, para amostras emparelhadas (dizem respeito aos mesmos anos).\n",
    "\n",
    "## Hipotese\n",
    "\n",
    "$$H_0: \\bar X_{PT} \\geq \\bar X_{HU} \\quad Vs \\quad H_0: \\bar X_{PT} < \\bar X_{HU}$$\n",
    "\n",
    "Para que o teste funcione foi necessário fazer a opçao de omitir os valores ``NaN`` usando ``nan_policy=\"omit\"``.\n",
    "Uma vez que pretendemos testar se o valor do GDP de Portugal é superior, e os respectivos dados são os primeiros dos argumentos a opção correta para a hipótese alternativa é: ``alternative=\"greater\"``.   "
   ],
   "metadata": {
    "collapsed": false
   },
   "id": "61da15788345a65d"
  },
  {
   "cell_type": "code",
   "outputs": [
    {
     "name": "stdout",
     "output_type": "stream",
     "text": [
      "O valor de pvalue é 0.0076\n"
     ]
    }
   ],
   "source": [
    "resultado = stats.ttest_rel(dados_trabalho.Portugal, dados_trabalho.Hungary, nan_policy=\"omit\", alternative=\"greater\")\n",
    "print(f\"O valor de pvalue é {resultado.pvalue:.4f}\")"
   ],
   "metadata": {
    "collapsed": false,
    "ExecuteTime": {
     "end_time": "2024-04-04T22:30:30.609442Z",
     "start_time": "2024-04-04T22:30:30.604560Z"
    }
   },
   "id": "bcb333c50499c2d6",
   "execution_count": 13
  },
  {
   "cell_type": "markdown",
   "source": [
    "Como o valor do *p-value* é inferior a 0,05 rejeitamos a hipotese de que a média do GDP de Portugal é superior à média da Hungria."
   ],
   "metadata": {
    "collapsed": false
   },
   "id": "47b269b9260798f6"
  }
 ],
 "metadata": {
  "kernelspec": {
   "display_name": "Python 3",
   "language": "python",
   "name": "python3"
  },
  "language_info": {
   "codemirror_mode": {
    "name": "ipython",
    "version": 2
   },
   "file_extension": ".py",
   "mimetype": "text/x-python",
   "name": "python",
   "nbconvert_exporter": "python",
   "pygments_lexer": "ipython2",
   "version": "2.7.6"
  }
 },
 "nbformat": 4,
 "nbformat_minor": 5
}
