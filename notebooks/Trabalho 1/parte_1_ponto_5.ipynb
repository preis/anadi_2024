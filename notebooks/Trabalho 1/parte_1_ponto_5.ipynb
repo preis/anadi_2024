{
 "cells": [
  {
   "cell_type": "markdown",
   "source": [
    "# Análise e exploração de dados\n",
    "\n",
    "Este ficheiro é para me \"ambientar\" com o que é pedido.\n",
    "O \"trabalho\" oficial está no reposítório **git** da equipa: \n",
    "https://bitbucket.org/anadi-rita/anadi/src/main/\n",
    "\n",
    "~~~bash\n",
    "git clone git@bitbucket.org:anadi-rita/anadi.git\n",
    "~~~"
   ],
   "metadata": {
    "collapsed": false
   },
   "id": "debea140d3d8975c"
  },
  {
   "cell_type": "markdown",
   "source": [
    "## Imports"
   ],
   "metadata": {
    "collapsed": false
   },
   "id": "c555bf7cf9af1ebe"
  },
  {
   "cell_type": "code",
   "execution_count": null,
   "id": "initial_id",
   "metadata": {
    "collapsed": true
   },
   "outputs": [],
   "source": [
    "from pathlib import Path\n",
    "import pandas as pd\n",
    "import numpy as np\n",
    "import matplotlib.pyplot as plt\n",
    "from matplotlib import colors as mcolors\n",
    "import utilidades as ut"
   ]
  },
  {
   "cell_type": "markdown",
   "source": [
    "## Variáveis"
   ],
   "metadata": {
    "collapsed": false
   },
   "id": "a931d3170ed35b13"
  },
  {
   "cell_type": "code",
   "outputs": [],
   "source": [
    "proj_root_dir = Path(\".\").resolve().parent.parent\n",
    "data_files_dir = \"/ficheiros/Trabalho 1/\"\n",
    "ficheiro_dados_co = f\"{proj_root_dir}{data_files_dir}CO_data.csv\"\n",
    "ficheiro_dicio_dados_co = f\"{proj_root_dir}{data_files_dir}CO_data_dicionario.xlsx\"\n",
    "\n",
    "colunas_em_estudo = [\"year\", \"country\", \"population\", \"cement_co2\", \"coal_co2\", \"flaring_co2\", \"gas_co2\", \"methane\", \"nitrous_oxide\", \"oil_co2\"]\n",
    "etiquetas_series = [\"Cimento\", \"Carvão\", \"Queima\", \"Gás\", \"Metano\", \"Óxido Nitroso\", \"Petróleo\"]\n",
    "paises = [\"United States\", \"China\", \"India\", \"European Union (27) (GCP)\", \"Russia\"]\n",
    "\n",
    "# Preparar uma lista de cores\n",
    "cores = list(mcolors.BASE_COLORS.keys())\n"
   ],
   "metadata": {
    "collapsed": false
   },
   "id": "e481f7bd387e6b91",
   "execution_count": null
  },
  {
   "cell_type": "markdown",
   "source": [
    "## Carregar os dados"
   ],
   "metadata": {
    "collapsed": false
   },
   "id": "9bab74c26ac431be"
  },
  {
   "cell_type": "code",
   "outputs": [],
   "source": [
    "dados_co = pd.read_csv(\n",
    "    ficheiro_dados_co,\n",
    "    delimiter=\",\",\n",
    "    header=0,\n",
    ")"
   ],
   "metadata": {
    "collapsed": false
   },
   "id": "995690fbc90a5e32",
   "execution_count": null
  },
  {
   "cell_type": "markdown",
   "source": [
    "### Espreitar os dados"
   ],
   "metadata": {
    "collapsed": false
   },
   "id": "af28bf018d9d344c"
  },
  {
   "cell_type": "code",
   "outputs": [],
   "source": [
    "dados_co.head()"
   ],
   "metadata": {
    "collapsed": false
   },
   "id": "f178ef52e6c32979",
   "execution_count": null
  },
  {
   "cell_type": "markdown",
   "source": [
    "## Carregar o dicionário"
   ],
   "metadata": {
    "collapsed": false
   },
   "id": "c71dc4074a6e0839"
  },
  {
   "cell_type": "code",
   "outputs": [],
   "source": [
    "dicionario_dados = pd.read_excel(ficheiro_dicio_dados_co)"
   ],
   "metadata": {
    "collapsed": false
   },
   "id": "aa52cde516e20308",
   "execution_count": null
  },
  {
   "cell_type": "markdown",
   "source": [
    "## Análise e exploração de dados\n",
    "\n",
    "Ponto 4.1 do trabalho\n",
    "\n",
    "### Ponto 5\n",
    "Construa uma tabela que indique, para cada uma das regiões: Estados Unidos, China, Índia, União\n",
    "Europeia (a 27) e a Rússia, as médias das emissões de CO2 devidas a cimento, carvão, queima\n",
    "(flaring), gas, metano, óxido nitroso e do petróleo no período 2000-2021. (formate as entradas da\n",
    "tabela de forma a terem apenas 3 casas decimais).\n",
    "\n",
    "\n",
    "#### Extrair os dados dos areas pretendidas"
   ],
   "metadata": {
    "collapsed": false
   },
   "id": "80320c1802a65672"
  },
  {
   "cell_type": "code",
   "outputs": [],
   "source": [],
   "metadata": {
    "collapsed": false
   },
   "id": "6ba09882db5d3eb3"
  },
  {
   "cell_type": "code",
   "outputs": [],
   "source": [
    "dados_co_areas = dados_co.loc[dados_co.country.isin(paises), colunas_em_estudo]"
   ],
   "metadata": {
    "collapsed": false
   },
   "id": "df55ea7407b64186"
  },
  {
   "cell_type": "markdown",
   "source": [],
   "metadata": {
    "collapsed": false
   },
   "id": "26c7538c82a6efab"
  },
  {
   "cell_type": "code",
   "outputs": [],
   "source": [],
   "metadata": {
    "collapsed": false
   },
   "id": "ad3875bff0769d7e"
  }
 ],
 "metadata": {
  "kernelspec": {
   "display_name": "Python 3",
   "language": "python",
   "name": "python3"
  },
  "language_info": {
   "codemirror_mode": {
    "name": "ipython",
    "version": 2
   },
   "file_extension": ".py",
   "mimetype": "text/x-python",
   "name": "python",
   "nbconvert_exporter": "python",
   "pygments_lexer": "ipython2",
   "version": "2.7.6"
  }
 },
 "nbformat": 4,
 "nbformat_minor": 5
}
