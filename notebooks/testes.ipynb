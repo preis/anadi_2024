{
 "cells": [
  {
   "cell_type": "code",
   "execution_count": 1,
   "id": "initial_id",
   "metadata": {
    "collapsed": true,
    "ExecuteTime": {
     "end_time": "2024-03-18T22:02:43.999098900Z",
     "start_time": "2024-03-18T22:02:43.532454500Z"
    }
   },
   "outputs": [],
   "source": [
    "import os\n",
    "import pandas as pd\n"
   ]
  },
  {
   "cell_type": "code",
   "outputs": [],
   "source": [
    "ficheiro_dados = \"G:/O meu disco/ISEP/ANADI/census-income.csv\""
   ],
   "metadata": {
    "collapsed": false,
    "ExecuteTime": {
     "end_time": "2024-03-18T22:05:19.265459300Z",
     "start_time": "2024-03-18T22:05:19.257431800Z"
    }
   },
   "id": "7d6cb210a27a38ff",
   "execution_count": 5
  },
  {
   "cell_type": "markdown",
   "source": [],
   "metadata": {
    "collapsed": false
   },
   "id": "66331b57ecaf6158"
  },
  {
   "cell_type": "code",
   "outputs": [],
   "source": [
    "if os.path.exists(ficheiro_dados):\n",
    "    dados = pd.read_csv(ficheiro_dados , delimiter=\",\" , header=None )"
   ],
   "metadata": {
    "collapsed": false,
    "ExecuteTime": {
     "end_time": "2024-03-18T22:07:14.429567500Z",
     "start_time": "2024-03-18T22:07:14.426309100Z"
    }
   },
   "id": "d1740607d325e2bf",
   "execution_count": 8
  },
  {
   "cell_type": "code",
   "outputs": [
    {
     "ename": "NameError",
     "evalue": "name 'dados' is not defined",
     "output_type": "error",
     "traceback": [
      "\u001B[1;31m---------------------------------------------------------------------------\u001B[0m",
      "\u001B[1;31mNameError\u001B[0m                                 Traceback (most recent call last)",
      "Cell \u001B[1;32mIn[7], line 1\u001B[0m\n\u001B[1;32m----> 1\u001B[0m \u001B[43mdados\u001B[49m\u001B[38;5;241m.\u001B[39mhead(n\u001B[38;5;241m=\u001B[39m\u001B[38;5;241m5\u001B[39m)\n",
      "\u001B[1;31mNameError\u001B[0m: name 'dados' is not defined"
     ]
    }
   ],
   "source": [
    "dados.head(n=5)\n"
   ],
   "metadata": {
    "collapsed": false,
    "ExecuteTime": {
     "end_time": "2024-03-18T22:07:09.453745900Z",
     "start_time": "2024-03-18T22:07:09.439681700Z"
    }
   },
   "id": "6cb2684abff41f38",
   "execution_count": 7
  },
  {
   "cell_type": "code",
   "outputs": [],
   "source": [
    "dados.tail(n=4)"
   ],
   "metadata": {
    "collapsed": false
   },
   "id": "cab1c69c1034641a",
   "execution_count": null
  },
  {
   "cell_type": "code",
   "outputs": [],
   "source": [
    "type(dados)"
   ],
   "metadata": {
    "collapsed": false
   },
   "id": "85a2d0a2afb43c69",
   "execution_count": null
  },
  {
   "cell_type": "code",
   "outputs": [],
   "source": [
    "print(dados.info())"
   ],
   "metadata": {
    "collapsed": false
   },
   "id": "56978228f9e87728",
   "execution_count": null
  },
  {
   "cell_type": "code",
   "outputs": [
    {
     "data": {
      "text/plain": "'a.s.v'"
     },
     "execution_count": 4,
     "metadata": {},
     "output_type": "execute_result"
    }
   ],
   "source": [],
   "metadata": {
    "collapsed": false,
    "ExecuteTime": {
     "end_time": "2024-03-18T22:03:16.089111Z",
     "start_time": "2024-03-18T22:03:16.082949200Z"
    }
   },
   "id": "43f3d2fa9bdc06d6",
   "execution_count": 4
  },
  {
   "cell_type": "code",
   "outputs": [],
   "source": [],
   "metadata": {
    "collapsed": false
   },
   "id": "e69893dacff70375"
  }
 ],
 "metadata": {
  "kernelspec": {
   "display_name": "Python 3",
   "language": "python",
   "name": "python3"
  },
  "language_info": {
   "codemirror_mode": {
    "name": "ipython",
    "version": 2
   },
   "file_extension": ".py",
   "mimetype": "text/x-python",
   "name": "python",
   "nbconvert_exporter": "python",
   "pygments_lexer": "ipython2",
   "version": "2.7.6"
  }
 },
 "nbformat": 4,
 "nbformat_minor": 5
}
