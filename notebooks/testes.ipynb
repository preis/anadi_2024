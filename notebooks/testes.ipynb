{
 "cells": [
  {
   "cell_type": "code",
   "execution_count": null,
   "id": "initial_id",
   "metadata": {
    "collapsed": true
   },
   "outputs": [],
   "source": [
    "import os\n",
    "import pandas as pd\n"
   ]
  },
  {
   "cell_type": "code",
   "outputs": [],
   "source": [
    "ficheiro_dados = \"G:/O meu disco/ISEP/ANADI/census-income.csv\""
   ],
   "metadata": {
    "collapsed": false
   },
   "id": "7d6cb210a27a38ff",
   "execution_count": null
  },
  {
   "cell_type": "markdown",
   "source": [],
   "metadata": {
    "collapsed": false
   },
   "id": "66331b57ecaf6158"
  },
  {
   "cell_type": "code",
   "outputs": [],
   "source": [
    "if os.path.exists(ficheiro_dados):\n",
    "    dados = pd.read_csv(ficheiro_dados , delimiter=\",\" , header=None )"
   ],
   "metadata": {
    "collapsed": false
   },
   "id": "d1740607d325e2bf",
   "execution_count": null
  },
  {
   "cell_type": "code",
   "outputs": [],
   "source": [
    "dados.head(n=5)\n"
   ],
   "metadata": {
    "collapsed": false
   },
   "id": "6cb2684abff41f38",
   "execution_count": null
  },
  {
   "cell_type": "code",
   "outputs": [],
   "source": [
    "dados.tail(n=4)"
   ],
   "metadata": {
    "collapsed": false
   },
   "id": "cab1c69c1034641a",
   "execution_count": null
  },
  {
   "cell_type": "code",
   "outputs": [],
   "source": [
    "type(dados)"
   ],
   "metadata": {
    "collapsed": false
   },
   "id": "85a2d0a2afb43c69",
   "execution_count": null
  },
  {
   "cell_type": "code",
   "outputs": [],
   "source": [
    "print(dados.info())"
   ],
   "metadata": {
    "collapsed": false
   },
   "id": "56978228f9e87728",
   "execution_count": null
  },
  {
   "cell_type": "code",
   "outputs": [],
   "source": [],
   "metadata": {
    "collapsed": false
   },
   "id": "43f3d2fa9bdc06d6"
  }
 ],
 "metadata": {
  "kernelspec": {
   "display_name": "Python 3",
   "language": "python",
   "name": "python3"
  },
  "language_info": {
   "codemirror_mode": {
    "name": "ipython",
    "version": 2
   },
   "file_extension": ".py",
   "mimetype": "text/x-python",
   "name": "python",
   "nbconvert_exporter": "python",
   "pygments_lexer": "ipython2",
   "version": "2.7.6"
  }
 },
 "nbformat": 4,
 "nbformat_minor": 5
}
