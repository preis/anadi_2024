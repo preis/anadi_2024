{
 "cells": [
  {
   "cell_type": "raw",
   "source": [],
   "metadata": {
    "collapsed": false
   },
   "id": "12c45e4e3680dcb0"
  },
  {
   "cell_type": "code",
   "execution_count": null,
   "id": "initial_id",
   "metadata": {
    "collapsed": true
   },
   "outputs": [],
   "source": [
    "import pandas as pd\n",
    "import numpy as np\n",
    "import scipy.stats as stats\n",
    "from statsmodels.stats.proportion import proportions_ztest\n",
    "from statsmodels.stats.diagnostic import lilliefors\n",
    "import matplotlib.pyplot as plt\n"
   ]
  },
  {
   "cell_type": "markdown",
   "source": [
    "# Exercicio 1\n",
    "\n",
    "N >= 30\n",
    "n x p x (1 - p) >= q            # p amostral\n",
    "\n",
    "Usa-se a binomial exata\n",
    "\n",
    "H0: p = 0.45   VS  H1: p > 0.45\n",
    "\n",
    "Tn ~ Bi(25, 0.45)\n",
    "\n",
    "Tn = 13\n",
    "p-value = P(Tn >= 13) = Sum "
   ],
   "metadata": {
    "collapsed": false
   },
   "id": "b949d2e0ce524c7d"
  },
  {
   "cell_type": "code",
   "outputs": [],
   "source": [
    "# Metodo A\n",
    "\n",
    "n = 25\n",
    "p = 0.45\n",
    "\n",
    "p_value = 1 - stats.binom(25, p).cdf(12)\n",
    "print(f\"Valor de prova: {p_value}\")"
   ],
   "metadata": {
    "collapsed": false
   },
   "id": "b191d87b7f0df2ae",
   "execution_count": null
  },
  {
   "cell_type": "markdown",
   "source": [
    "Não se rejeita a hipotese nula"
   ],
   "metadata": {
    "collapsed": false
   },
   "id": "c94b1e1b69c8f136"
  },
  {
   "cell_type": "code",
   "outputs": [],
   "source": [
    "# Metodo B\n",
    "\n",
    "res1 = stats.binomtest(13, n=25, p=0.45, alternative='greater')"
   ],
   "metadata": {
    "collapsed": false
   },
   "id": "1df91e2cba08a0a4",
   "execution_count": null
  },
  {
   "cell_type": "markdown",
   "source": [
    "# Exercicio 2\n",
    "\n",
    "H0:  Pv = Pa  VS  H1: Pv > Pa\n",
    "H0:  Pv=0.5   VS  H1:  Pv > 0.5 \n",
    "\n",
    "Binomial Exato "
   ],
   "metadata": {
    "collapsed": false
   },
   "id": "a2e1dbb31fbe4829"
  },
  {
   "cell_type": "code",
   "outputs": [],
   "source": [
    "res1_cor = stats.binomtest(15, n=19, p=0.5, alternative='greater')\n",
    "print(f\"Valor de p_value: {res1_cor}\")"
   ],
   "metadata": {
    "collapsed": false
   },
   "id": "9c5ca3066b96bf5e",
   "execution_count": null
  },
  {
   "cell_type": "markdown",
   "source": [
    "# Exercicio 3\n",
    "\n",
    "H0: p = 0.3   VS   p > 0.3\n",
    "\n",
    "\n",
    "2000 x 700/2000 x (1 - 700/2000) = 455\n",
    "\n",
    "Tem de se fazer o teste aproximado"
   ],
   "metadata": {
    "collapsed": false
   },
   "id": "29928fa7a7a3dc99"
  },
  {
   "cell_type": "code",
   "outputs": [],
   "source": [
    "res_partido = proportions_ztest(700, 2000, 0.3, prop_var=0.3, alternative='larger')\n",
    "print(f\"Valor de p_value: {res_partido[1]}\")"
   ],
   "metadata": {
    "collapsed": false
   },
   "id": "c55f65171b259b3d",
   "execution_count": null
  },
  {
   "cell_type": "markdown",
   "source": [
    "Rejeitamos a hipotese nula porque o valor de p_value é quase 0."
   ],
   "metadata": {
    "collapsed": false
   },
   "id": "95a0cc55f5989d4e"
  },
  {
   "cell_type": "markdown",
   "source": [
    "# Exercicio 4\n",
    "\n",
    "n = 150   => Amostra grande\n",
    "\n",
    "\n",
    "H0:  Pa = Pb\n",
    "H0:  Pa = 0.5    VS  H1: Pa != 0.5\n",
    "\n",
    "Teste bilateral"
   ],
   "metadata": {
    "collapsed": false
   },
   "id": "a1b58da1ca760ac3"
  },
  {
   "cell_type": "code",
   "outputs": [],
   "source": [
    "def calc_q(n, p):\n",
    "    q = n * p * (1 - p)\n",
    "    return q"
   ],
   "metadata": {
    "collapsed": false
   },
   "id": "69ae23f2e9e35d4a",
   "execution_count": null
  },
  {
   "cell_type": "markdown",
   "source": [],
   "metadata": {
    "collapsed": false
   },
   "id": "fd39b19dedc36652"
  },
  {
   "cell_type": "code",
   "outputs": [],
   "source": [
    "calc_q(150, 0.5)"
   ],
   "metadata": {
    "collapsed": false
   },
   "id": "87811b8077e24c68",
   "execution_count": null
  },
  {
   "cell_type": "code",
   "outputs": [],
   "source": [
    "res4 = proportions_ztest(71, 150, 0.5, prop_var=0.5, alternative='two-sided')"
   ],
   "metadata": {
    "collapsed": false
   },
   "id": "e0cfbc7c2c431b4",
   "execution_count": null
  },
  {
   "cell_type": "markdown",
   "source": [
    "Não se rejeita a hipotese nula. Ou seja não existe evidência estatistica, com nível de significancia de 5%, que a proporção de pessoas que prefere o produto A seja diferente da proporção de pessoas que prefere o produto B."
   ],
   "metadata": {
    "collapsed": false
   },
   "id": "1be532c0da840c5d"
  },
  {
   "cell_type": "markdown",
   "source": [
    "# Exercicio 5\n",
    "\n",
    "Qui-quadrado  => compara as probabilidades empiricas com as teoricas.\n",
    "\n",
    "\n",
    "H0: Dado equilibrado    VS    H1: Dado não equilibrado\n",
    "\n",
    "1. Conta-se a frequencia dos \"lados\"\n",
    "2. Faz-se uma lista com 6 x 10.0 que é o esperado.\n",
    "3.  usa-se chi2\n",
    "\n",
    "\n",
    "\n",
    "Não se rejeita a hipotese nula"
   ],
   "metadata": {
    "collapsed": false
   },
   "id": "babde0f6a9bceec6"
  },
  {
   "cell_type": "code",
   "outputs": [],
   "source": [
    "valor_dados = pd.read_csv(\"../ficheiros/Ex5.csv\", delimiter=\";\")"
   ],
   "metadata": {
    "collapsed": false
   },
   "id": "59bd152eca4e2ffb",
   "execution_count": null
  },
  {
   "cell_type": "code",
   "outputs": [],
   "source": [
    "valor_dados.head(n=3)"
   ],
   "metadata": {
    "collapsed": false
   },
   "id": "814ec679351782c4",
   "execution_count": null
  },
  {
   "cell_type": "code",
   "outputs": [],
   "source": [],
   "metadata": {
    "collapsed": false
   },
   "id": "a22c2b852b6c9974"
  },
  {
   "cell_type": "markdown",
   "source": [
    "# Exercicio 6\n",
    "\n",
    "Verificar a normalidade\n"
   ],
   "metadata": {
    "collapsed": false
   },
   "id": "5d4ec1a201a077f3"
  },
  {
   "cell_type": "code",
   "outputs": [],
   "source": [
    "tempos = []  # tempos medidos\n",
    "shapiro_t = stats.shapiro(tempos)\n",
    "print(f\"p-value (teste à normalidade de Shapiro: {shapiro_t.pvalue}\")"
   ],
   "metadata": {
    "collapsed": false
   },
   "id": "fce3a377b7eee557"
  },
  {
   "cell_type": "markdown",
   "source": [
    "Não há normalidade dos dados com alfa = 5%.\n",
    "Mas com 1% já seriam.\n",
    "\n",
    "Podemos fazer o teste de Lillefors\n",
    "\n"
   ],
   "metadata": {
    "collapsed": false
   },
   "id": "4ec9e8f1f0053e5c"
  },
  {
   "cell_type": "code",
   "outputs": [],
   "source": [
    "lillef_ ..."
   ],
   "metadata": {
    "collapsed": false
   },
   "id": "5339cdaadd464452"
  },
  {
   "cell_type": "code",
   "outputs": [],
   "source": [
    "# Fazer gráfico de quartis.\n",
    "sm.qqplot"
   ],
   "metadata": {
    "collapsed": false
   },
   "id": "2a108fde25994a0a",
   "execution_count": null
  },
  {
   "cell_type": "markdown",
   "source": [
    "Dados não são normais\n",
    "\n",
    "Faz-se o teste de Wilcoxon\n",
    "\n",
    "Calcular o coeficinete de assimetria    skewness\n",
    "\n",
    "\n",
    "Não se rejeita a hipotese nula."
   ],
   "metadata": {
    "collapsed": false
   },
   "id": "c6b70701edfa9666"
  },
  {
   "cell_type": "code",
   "outputs": [],
   "source": [],
   "metadata": {
    "collapsed": false
   },
   "id": "aaf9e07d733c8d5"
  },
  {
   "cell_type": "markdown",
   "source": [
    "# Exercicio 7\n",
    "\n",
    "fazer a diferença das listas/arrays\n",
    "fazer teste de shapiro\n",
    "\n",
    "a) Não é possível fazer o teste parametrico adequado, porque os dados não são normais. O teste adequado seria o Wilcoxon para amostra emparelhadas.\n",
    "\n",
    "b) calcular skewness, dá mais que 1, logo dados assimetricos, não podemos calcular em relação à média.\n",
    "\n",
    "Não se rejeita a hipotese nula.\n",
    "\n",
    "c) teste binomial às proporções de sinais + e -, mas temos de retirar os empates."
   ],
   "metadata": {
    "collapsed": false
   },
   "id": "a81b92544007d1ab"
  },
  {
   "cell_type": "code",
   "outputs": [],
   "source": [
    "tempos_antes = [14, 9, 12.5, 13, 9.5, 12.1]\n",
    "tempos_depois = [13.8, 8.9, 12.6, 12.8, 9.2, 14.2]\n",
    "\n",
    "array_ta = np.array(tempos_antes)\n",
    "array_td = np.array(tempos_depois)\n",
    "\n",
    "dif_amostra\n",
    "\n",
    "# c)\n",
    "# retirar empates\n",
    "dif_amostras2 = dif_amostra[dif_Amostras != 0]\n",
    "\n"
   ],
   "metadata": {
    "collapsed": false
   },
   "id": "d0b9ee4d3a8956e7"
  }
 ],
 "metadata": {
  "kernelspec": {
   "display_name": "Python 3",
   "language": "python",
   "name": "python3"
  },
  "language_info": {
   "codemirror_mode": {
    "name": "ipython",
    "version": 2
   },
   "file_extension": ".py",
   "mimetype": "text/x-python",
   "name": "python",
   "nbconvert_exporter": "python",
   "pygments_lexer": "ipython2",
   "version": "2.7.6"
  }
 },
 "nbformat": 4,
 "nbformat_minor": 5
}
