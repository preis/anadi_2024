{
 "cells": [
  {
   "cell_type": "code",
   "execution_count": 37,
   "id": "initial_id",
   "metadata": {
    "collapsed": true,
    "ExecuteTime": {
     "end_time": "2024-02-29T19:31:26.792782Z",
     "start_time": "2024-02-29T19:31:26.776744Z"
    }
   },
   "outputs": [],
   "source": [
    "import numpy as np\n",
    "import scipy.stats as stats\n",
    "import pandas as pd"
   ]
  },
  {
   "cell_type": "markdown",
   "source": [
    "# Exercicio 1"
   ],
   "metadata": {
    "collapsed": false
   },
   "id": "8e4342c847f9613b"
  },
  {
   "cell_type": "code",
   "outputs": [],
   "source": [
    "pc_esp = [30,30,30,30,31,32,32,32,32,33,33,34,34,34,35]\n",
    "mu = 32.5\n",
    "alfa = 0.05"
   ],
   "metadata": {
    "collapsed": false,
    "ExecuteTime": {
     "end_time": "2024-02-29T18:35:21.013542Z",
     "start_time": "2024-02-29T18:35:20.998680Z"
    }
   },
   "id": "1f17e7536a74e95d",
   "execution_count": 6
  },
  {
   "cell_type": "code",
   "outputs": [
    {
     "name": "stdout",
     "output_type": "stream",
     "text": [
      "Valor da estatistic de teste -0.843\n"
     ]
    }
   ],
   "source": [
    "# Método A\n",
    "n = len(pc_esp)  # Tamanho da amostra\n",
    "xbar = np.mean(pc_esp)  # média da anostra\n",
    "sbar = np.std(pc_esp, ddof=1)  # desvio padrão da amostra\n",
    "to = (xbar - mu) / (sbar / np.sqrt(n))\n",
    "print(f\"Valor da estatistic de teste {round(to, 4)}\")"
   ],
   "metadata": {
    "collapsed": false,
    "ExecuteTime": {
     "end_time": "2024-02-29T18:34:52.677670Z",
     "start_time": "2024-02-29T18:34:52.667547Z"
    }
   },
   "id": "9063de5886e4956b",
   "execution_count": 4
  },
  {
   "cell_type": "code",
   "outputs": [
    {
     "name": "stdout",
     "output_type": "stream",
     "text": [
      "Valor de prova: 0.41342484200195195\n"
     ]
    }
   ],
   "source": [
    "# Cálculo do valor de prova\n",
    "pv = 2*(1 - stats.t.cdf(np.abs(to), n-1))\n",
    "print(f\"Valor de prova: {pv}\")"
   ],
   "metadata": {
    "collapsed": false,
    "ExecuteTime": {
     "end_time": "2024-02-29T18:37:01.545523Z",
     "start_time": "2024-02-29T18:37:01.529541Z"
    }
   },
   "id": "805d3f17342ffc5a",
   "execution_count": 10
  },
  {
   "cell_type": "code",
   "outputs": [
    {
     "name": "stdout",
     "output_type": "stream",
     "text": [
      "TtestResult(statistic=-0.21073835522376133, pvalue=0.8361279317882495, df=14.0)\n",
      "Valor da estatistica de teste: -0.21073835522376133\n",
      "Valor de prova: 0.8361279317882495\n"
     ]
    }
   ],
   "source": [
    "# Método B  (o que efetivamente se utiliza)\n",
    "res = stats.ttest_ind(pc_esp, mu, alternative=\"two-sided\")\n",
    "print(res)\n",
    "print(f\"Valor da estatistica de teste: {res[0]}\")\n",
    "print(f\"Valor de prova: {res[1]}\")\n"
   ],
   "metadata": {
    "collapsed": false,
    "ExecuteTime": {
     "end_time": "2024-02-29T18:40:51.183519Z",
     "start_time": "2024-02-29T18:40:51.170451Z"
    }
   },
   "id": "9a03cf2bf267d9c6",
   "execution_count": 12
  },
  {
   "cell_type": "markdown",
   "source": [
    "# Exercicio 2"
   ],
   "metadata": {
    "collapsed": false
   },
   "id": "1b359684c30c3044"
  },
  {
   "cell_type": "code",
   "outputs": [],
   "source": [
    "dados = \"5 4 4 5 5 5 6 5 4 4 3 4 4 5 5 7 6 5 6 4 6 5 5 6 6 6 4 4 5 5 5 3 6 3 6 5\"\n",
    "prazo = [int(val) for val in dados.split(sep=\" \")]\n",
    "mu = 5\n",
    "n = len(prazo)"
   ],
   "metadata": {
    "collapsed": false,
    "ExecuteTime": {
     "end_time": "2024-02-29T19:02:45.821029Z",
     "start_time": "2024-02-29T19:02:45.800014Z"
    }
   },
   "id": "741ea1e3d9f6d607",
   "execution_count": 23
  },
  {
   "cell_type": "markdown",
   "source": [
    "a) A hipotese nula é que mu = 5\n",
    "A hiptese alternativa é que mu > 5"
   ],
   "metadata": {
    "collapsed": false
   },
   "id": "934f8239c4e2fbeb"
  },
  {
   "cell_type": "code",
   "outputs": [
    {
     "name": "stdout",
     "output_type": "stream",
     "text": [
      "Valor da estatistic de teste -0.6809\n"
     ]
    }
   ],
   "source": [
    "# b)\n",
    "t0 = (np.mean(prazo) - mu) / (np.std(prazo, ddof=1) / np.sqrt(n))\n",
    "print(f\"Valor da estatistic de teste {round(t0, 4)}\")"
   ],
   "metadata": {
    "collapsed": false,
    "ExecuteTime": {
     "end_time": "2024-02-29T19:02:59.955370Z",
     "start_time": "2024-02-29T19:02:59.935016Z"
    }
   },
   "id": "79ee9e1e3823da3",
   "execution_count": 25
  },
  {
   "cell_type": "code",
   "outputs": [],
   "source": [
    "# c)\n",
    "res"
   ],
   "metadata": {
    "collapsed": false
   },
   "id": "ed5039623da50988"
  },
  {
   "cell_type": "markdown",
   "source": [
    "Exercicio 3"
   ],
   "metadata": {
    "collapsed": false
   },
   "id": "a416acb19f603b1e"
  },
  {
   "cell_type": "code",
   "outputs": [],
   "source": [
    "amostra_1_o = \"2300 2000 1800 2000 2400 2200 2000 1800 1900 2100 2200 2400\"\n",
    "amostra_2_o = \"2400 2200 1800 1900 1800 1900 2100 2050 2200 2000 1900 2000\"\n",
    "\n",
    "amostra_1 = [int(val) for val in amostra_1_o.split(sep=\" \")]\n",
    "amostra_2 = [int(val) for val in amostra_2_o.split(sep=\" \")]"
   ],
   "metadata": {
    "collapsed": false,
    "ExecuteTime": {
     "end_time": "2024-02-29T19:11:44.663379Z",
     "start_time": "2024-02-29T19:11:44.656126Z"
    }
   },
   "id": "48679e9667c262b4",
   "execution_count": 27
  },
  {
   "cell_type": "code",
   "outputs": [
    {
     "name": "stdout",
     "output_type": "stream",
     "text": [
      "P_value: 0.42271\n"
     ]
    }
   ],
   "source": [
    "# Teste de Levene às variâncias\n",
    "statistic, p_value = stats.levene(amostra_1, amostra_2)\n",
    "print(f\"P_value: {round(p_value, 5)}\")\n"
   ],
   "metadata": {
    "collapsed": false,
    "ExecuteTime": {
     "end_time": "2024-02-29T19:12:40.598138Z",
     "start_time": "2024-02-29T19:12:40.582670Z"
    }
   },
   "id": "424bf862fbc0f99d",
   "execution_count": 28
  },
  {
   "cell_type": "code",
   "outputs": [],
   "source": [],
   "metadata": {
    "collapsed": false
   },
   "id": "7a5d06d2494d5233"
  },
  {
   "cell_type": "code",
   "outputs": [
    {
     "name": "stdout",
     "output_type": "stream",
     "text": [
      "P_value: 0.38597\n"
     ]
    }
   ],
   "source": [
    "statistic_1, p_value_1 = stats.ttest_ind(amostra_1, amostra_2, equal_var=True)\n",
    "print(f\"P_value: {round(p_value_1, 5)}\")\n"
   ],
   "metadata": {
    "collapsed": false,
    "ExecuteTime": {
     "end_time": "2024-02-29T19:14:32.228908Z",
     "start_time": "2024-02-29T19:14:32.210916Z"
    }
   },
   "id": "f2e51b83449c655",
   "execution_count": 30
  },
  {
   "cell_type": "markdown",
   "source": [
    "# Exercicio 4"
   ],
   "metadata": {
    "collapsed": false
   },
   "id": "328aea35c6e2c30f"
  },
  {
   "cell_type": "code",
   "outputs": [],
   "source": [
    "data_o = \"263 254 261 236 228 253 249 262 250 252 257 258\"\n",
    "t_rutura = [int(val) for val in data_o.split(sep=\" \")]"
   ],
   "metadata": {
    "collapsed": false,
    "ExecuteTime": {
     "end_time": "2024-02-29T19:19:17.340059Z",
     "start_time": "2024-02-29T19:19:17.321190Z"
    }
   },
   "id": "cbec97b1c53fb604",
   "execution_count": 32
  },
  {
   "cell_type": "code",
   "outputs": [],
   "source": [
    "# a\n",
    "v_stat, p_val = stats.ttest_1samp(t_rutura, 255, alternative=\"greater\")\n",
    "print(f\"Valor de prova: {round(v_stat, 5)}\")"
   ],
   "metadata": {
    "collapsed": false
   },
   "id": "b8459db5bea84e13"
  },
  {
   "cell_type": "code",
   "outputs": [
    {
     "name": "stdout",
     "output_type": "stream",
     "text": [
      "Valor caracterisitico da tensão de rotura: 237.7279\n"
     ]
    }
   ],
   "source": [
    "# b\n",
    "# Como não se aceitou a H0 da alinea a), podemos usar a média = 255\n",
    "media = 255\n",
    "std_amostra = np.std(t_rutura, ddof=1)\n",
    "prob = 1 - 0.95\n",
    "xr = stats.norm.ppf(prob, loc=media, scale=std_amostra)\n",
    "print(f\"Valor caracterisitico da tensão de rotura: {round(xr, 4)}\")\n"
   ],
   "metadata": {
    "collapsed": false,
    "ExecuteTime": {
     "end_time": "2024-02-29T19:28:01.407923Z",
     "start_time": "2024-02-29T19:28:01.382440Z"
    }
   },
   "id": "cfaf3837c33db743",
   "execution_count": 33
  },
  {
   "cell_type": "code",
   "outputs": [],
   "source": [
    "# Exercicio 5"
   ],
   "metadata": {
    "collapsed": false
   },
   "id": "9d84801e51149bac"
  },
  {
   "cell_type": "markdown",
   "source": [],
   "metadata": {
    "collapsed": false
   },
   "id": "82f920d78ccdcce9"
  },
  {
   "cell_type": "code",
   "outputs": [
    {
     "name": "stdout",
     "output_type": "stream",
     "text": [
      "Num linhas: 24\n"
     ]
    }
   ],
   "source": [
    "data_c = pd.read_csv(\"../ficheiros/Data_C.csv\", delimiter=\",\")\n",
    "# data_c.head(n=3)\n",
    "# Retirar 1ª coluna\n",
    "data_c.drop(data_c.columns[0], axis=1, inplace=True)\n",
    "# data_c.head(n=3)\n",
    "num_linhas, num_colunas = data_c.shape\n",
    "print(f\"Num linhas: {num_linhas}\")"
   ],
   "metadata": {
    "collapsed": false,
    "ExecuteTime": {
     "end_time": "2024-02-29T19:34:59.753219Z",
     "start_time": "2024-02-29T19:34:59.723120Z"
    }
   },
   "id": "22d71d1d5eb5db3e",
   "execution_count": 40
  },
  {
   "cell_type": "code",
   "outputs": [
    {
     "name": "stdout",
     "output_type": "stream",
     "text": [
      "Valor de prova: 0.07662\n"
     ]
    }
   ],
   "source": [
    "placebo = data_c[\"DO\"].tolist()\n",
    "new_med = data_c[\"D60\"].tolist()\n",
    "resteste = stats.ttest_ind(new_med, placebo, alternative=\"greater\")\n",
    "print(f\"Valor de prova: {round(resteste.pvalue, 5)}\")"
   ],
   "metadata": {
    "collapsed": false,
    "ExecuteTime": {
     "end_time": "2024-02-29T19:38:43.532797Z",
     "start_time": "2024-02-29T19:38:43.515595Z"
    }
   },
   "id": "10c60d0d187472e",
   "execution_count": 45
  },
  {
   "cell_type": "markdown",
   "source": [
    "# Exercicio 6"
   ],
   "metadata": {
    "collapsed": false
   },
   "id": "c2f9eab959090d67"
  },
  {
   "cell_type": "code",
   "outputs": [],
   "source": [
    "data_a = pd.read_csv(\"../ficheiros/Data_A.csv\", delimiter=\",\")\n",
    "grupo_1 = data_a[\"Grupo_1\"].tolist()\n",
    "grupo_2 = data_a[\"Grupo_2\"].tolist()\n"
   ],
   "metadata": {
    "collapsed": false,
    "ExecuteTime": {
     "end_time": "2024-02-29T19:41:58.595961Z",
     "start_time": "2024-02-29T19:41:58.572708Z"
    }
   },
   "id": "96ae29f3aae907f2",
   "execution_count": 48
  },
  {
   "cell_type": "markdown",
   "source": [
    "Primeiro temos de fazer o teste de Levene. Só depois se faz o ttest."
   ],
   "metadata": {
    "collapsed": false
   },
   "id": "1d8a8c296e2e93c7"
  },
  {
   "cell_type": "code",
   "outputs": [
    {
     "name": "stdout",
     "output_type": "stream",
     "text": [
      "P_value: 0.73943\n"
     ]
    }
   ],
   "source": [
    "statistic_g, p_value_g = stats.levene(grupo_1, grupo_2)\n",
    "print(f\"P_value: {round(p_value_g, 5)}\")"
   ],
   "metadata": {
    "collapsed": false,
    "ExecuteTime": {
     "end_time": "2024-02-29T19:43:13.911498Z",
     "start_time": "2024-02-29T19:43:13.899814Z"
    }
   },
   "id": "48efa4cb5343a923",
   "execution_count": 49
  },
  {
   "cell_type": "markdown",
   "source": [
    "Como o p_value do teste de Levene é elevado, significa que as variâncias são iguais."
   ],
   "metadata": {
    "collapsed": false
   },
   "id": "3a77041f3bbab0"
  },
  {
   "cell_type": "code",
   "outputs": [
    {
     "name": "stdout",
     "output_type": "stream",
     "text": [
      "P_value: 0.4527\n"
     ]
    }
   ],
   "source": [
    "statistic_h, p_value_2 = stats.ttest_ind(grupo_1, grupo_2, alternative=\"less\", equal_var=True)\n",
    "print(f\"P_value: {round(p_value_2, 4)}\")"
   ],
   "metadata": {
    "collapsed": false,
    "ExecuteTime": {
     "end_time": "2024-02-29T19:51:41.594435Z",
     "start_time": "2024-02-29T19:51:41.573059Z"
    }
   },
   "id": "e7ef130de085cfd1",
   "execution_count": 53
  },
  {
   "cell_type": "markdown",
   "source": [
    "# Exercicio 8"
   ],
   "metadata": {
    "collapsed": false
   },
   "id": "ac2b9165d411d332"
  },
  {
   "cell_type": "code",
   "outputs": [],
   "source": [],
   "metadata": {
    "collapsed": false
   },
   "id": "6e4c678572b0d814"
  }
 ],
 "metadata": {
  "kernelspec": {
   "display_name": "Python 3",
   "language": "python",
   "name": "python3"
  },
  "language_info": {
   "codemirror_mode": {
    "name": "ipython",
    "version": 2
   },
   "file_extension": ".py",
   "mimetype": "text/x-python",
   "name": "python",
   "nbconvert_exporter": "python",
   "pygments_lexer": "ipython2",
   "version": "2.7.6"
  }
 },
 "nbformat": 4,
 "nbformat_minor": 5
}
