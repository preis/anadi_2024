{
 "cells": [
  {
   "cell_type": "code",
   "execution_count": null,
   "id": "9df7bd68",
   "metadata": {},
   "outputs": [],
   "source": [
    "import pandas as pd\n",
    "import numpy as np"
   ]
  },
  {
   "cell_type": "code",
   "execution_count": null,
   "id": "412f72a8",
   "metadata": {},
   "outputs": [],
   "source": [
    "ficheiro = \"../ficheiros/census-income.csv\""
   ]
  },
  {
   "cell_type": "code",
   "execution_count": null,
   "id": "7b1c6243",
   "metadata": {},
   "outputs": [],
   "source": [
    "dados = pd.read_csv(ficheiro, delimiter=\",\", header=None)"
   ]
  },
  {
   "cell_type": "code",
   "execution_count": null,
   "id": "de254e01",
   "metadata": {},
   "outputs": [],
   "source": [
    "dados.head(n=5)"
   ]
  },
  {
   "cell_type": "code",
   "execution_count": null,
   "id": "a6f2f208",
   "metadata": {},
   "outputs": [],
   "source": [
    "type(dados)"
   ]
  },
  {
   "cell_type": "code",
   "execution_count": null,
   "id": "b5c964d9",
   "metadata": {},
   "outputs": [],
   "source": [
    "dados.tail(n=4)"
   ]
  },
  {
   "cell_type": "code",
   "execution_count": null,
   "id": "92468d7b",
   "metadata": {},
   "outputs": [],
   "source": [
    "print(dados.info())"
   ]
  },
  {
   "cell_type": "code",
   "execution_count": null,
   "id": "ccc2e199",
   "metadata": {},
   "outputs": [],
   "source": [
    "print(dados.describe())"
   ]
  },
  {
   "cell_type": "code",
   "execution_count": null,
   "id": "e4199664",
   "metadata": {},
   "outputs": [],
   "source": [
    "dados.columns = [\"age\",\"workclass\",\"fnlwgt\",\"education\",\n",
    "\"education_num\",\"marital_status\",\"occupation\",\"relationship\",\"race\",\"sex\",\n",
    "\"capital_gain\",\"capital_loss\",\"hours_per_week\",\"native_country\",\"X\"]"
   ]
  },
  {
   "cell_type": "code",
   "execution_count": null,
   "id": "c75b00fa",
   "metadata": {},
   "outputs": [],
   "source": [
    "dados.head(n=5)"
   ]
  },
  {
   "cell_type": "code",
   "execution_count": null,
   "id": "585589d0",
   "metadata": {},
   "outputs": [],
   "source": [
    "native_countries = dados['native_country'].unique()\n",
    "print(native_countries)"
   ]
  },
  {
   "cell_type": "code",
   "execution_count": null,
   "id": "2cf3c372",
   "metadata": {},
   "outputs": [],
   "source": [
    "dados['native_country']=dados['native_country'].str.strip()"
   ]
  },
  {
   "cell_type": "code",
   "execution_count": null,
   "id": "7dca1acd",
   "metadata": {},
   "outputs": [],
   "source": [
    "education_classes = dados['education'].unique()\n",
    "education_classes"
   ]
  },
  {
   "cell_type": "code",
   "execution_count": null,
   "id": "d2b1344d",
   "metadata": {},
   "outputs": [],
   "source": [
    "dados = dados.applymap(lambda x: x.strip() if isinstance(x, str) else x)"
   ]
  },
  {
   "cell_type": "code",
   "execution_count": null,
   "id": "1db4b3d4",
   "metadata": {},
   "outputs": [],
   "source": [
    "dados.isnull().sum()"
   ]
  },
  {
   "cell_type": "code",
   "execution_count": null,
   "id": "66b3c9b8",
   "metadata": {},
   "outputs": [],
   "source": [
    "dados['native_country']=dados['native_country'].replace('?', None)"
   ]
  },
  {
   "cell_type": "code",
   "execution_count": null,
   "id": "89c23f5f",
   "metadata": {},
   "outputs": [],
   "source": [
    "dados_new=dados.drop(['workclass','education','marital_status','race'],axis = 1)"
   ]
  },
  {
   "cell_type": "code",
   "execution_count": null,
   "id": "c082e045",
   "metadata": {},
   "outputs": [],
   "source": [
    "dados_30_35=dados[(dados['age'] >= 30) & (dados['age'] <= 35)]\n",
    "dados_30_35.head(n=5)"
   ]
  },
  {
   "cell_type": "code",
   "execution_count": null,
   "id": "8337b024",
   "metadata": {},
   "outputs": [],
   "source": [
    "dados_30_35female=dados.loc[(dados['age'] >= 30) & (dados['age'] <= 35) & (dados['sex']=='Female')]\n",
    "dados_30_35female.head(n=5)"
   ]
  },
  {
   "cell_type": "code",
   "execution_count": null,
   "id": "3718a4ff",
   "metadata": {},
   "outputs": [],
   "source": [
    "idade_media=dados[\"age\"].mean()\n",
    "print(\"idade média =\", idade_media) # ou arredondando na 2ª casa decimal\n",
    "print(\"idade média =\", round(idade_media,2))"
   ]
  },
  {
   "cell_type": "code",
   "execution_count": null,
   "id": "6730ee56",
   "metadata": {},
   "outputs": [],
   "source": [
    "dados_30_35[2:5]"
   ]
  },
  {
   "cell_type": "code",
   "execution_count": null,
   "id": "b34f5216",
   "metadata": {},
   "outputs": [],
   "source": [
    "amostra = pd.Series([1,np.NaN,2,None,3,4])\n",
    "print(\"média da amostra = \" , amostra.mean())"
   ]
  },
  {
   "cell_type": "code",
   "execution_count": null,
   "id": "daecc202",
   "metadata": {},
   "outputs": [],
   "source": [
    "dici = {'Column1': [1, 2, 3, 4],\n",
    " 'Column2': [5, 6, 7, 8],\n",
    " 'Column3': [9, 10, 11, 12]}\n",
    "df = pd.DataFrame(dici)\n",
    "media_das_colunas = df.mean()\n",
    "print(\"média das colunas =\", media_das_colunas)\n",
    "type(media_das_colunas)"
   ]
  },
  {
   "cell_type": "code",
   "execution_count": null,
   "id": "dfeaa515",
   "metadata": {},
   "outputs": [],
   "source": [
    "serie = pd.Series([1, 2, np.NaN, 4, 5, 9, 123])\n",
    "mediana = serie.median()\n",
    "print(\"Mediana = \", mediana)"
   ]
  },
  {
   "cell_type": "code",
   "execution_count": null,
   "id": "a7e7dfe9",
   "metadata": {},
   "outputs": [],
   "source": [
    "dadosq = pd.Series([1, 2, 4, 4, 5, 9, 5, 8, 9, 13 ,3 ,5 ,6])\n",
    "ordem=0.75\n",
    "dadosq.quantile(q=ordem)"
   ]
  },
  {
   "cell_type": "code",
   "execution_count": null,
   "id": "e1b3f45d",
   "metadata": {},
   "outputs": [],
   "source": [
    "def calcula_aiq(data):\n",
    "    \"\"\"\n",
    "    Calcula a amplitude interquartil (AIQ) de data\n",
    "    Parametros:\n",
    "    - data: pandas.Series, pandas.DataFrame\n",
    "    Retorna:\n",
    "    - aiq: amplitude interquartil\n",
    "\n",
    "    \"\"\"\n",
    "    Q1 = data.quantile(q=0.25)\n",
    "    Q3 = data.quantile(q=0.75)\n",
    "    aiq = Q3-Q1\n",
    "    return aiq\n",
    "\n",
    "dadosq_aiq=calcula_aiq(dadosq)\n",
    "print(\"Amplitude interquartil =\", dadosq_aiq)"
   ]
  },
  {
   "cell_type": "code",
   "execution_count": null,
   "id": "f19cf3e9",
   "metadata": {},
   "outputs": [],
   "source": [
    "dadosq.var()"
   ]
  },
  {
   "cell_type": "code",
   "execution_count": null,
   "id": "a866cb1f",
   "metadata": {},
   "outputs": [],
   "source": [
    "dadosq.std()"
   ]
  },
  {
   "cell_type": "code",
   "execution_count": null,
   "id": "554822c0",
   "metadata": {},
   "outputs": [],
   "source": [
    "def coef_assimetria(data):\n",
    "    n = len(data)\n",
    "    media=data.mean()\n",
    "    s = data.std()\n",
    "\n",
    "    a3=n/((n-1)*(n-2))*1/s**3*((data-media)**3).sum()\n",
    "\n",
    "    return a3\n",
    "\n",
    "print(coef_assimetria(dadosq))\n",
    "print(dadosq.skew())"
   ]
  },
  {
   "cell_type": "code",
   "execution_count": null,
   "id": "a1fb58b0",
   "metadata": {},
   "outputs": [],
   "source": [
    "datak=np.random.normal(size=(4,1))"
   ]
  },
  {
   "cell_type": "code",
   "execution_count": null,
   "id": "17103ca8",
   "metadata": {},
   "outputs": [],
   "source": [
    "Dframe = pd.DataFrame(datak,columns=[\"col1\"])\n",
    "print(f\"curtose :\",Dframe[\"col1\"].kurt())"
   ]
  },
  {
   "cell_type": "code",
   "execution_count": null,
   "id": "06090e4a",
   "metadata": {},
   "outputs": [],
   "source": [
    "freq_absolutas = pd.crosstab(dados['education'],'numero de pessoas')\n",
    "print(freq_absolutas)"
   ]
  },
  {
   "cell_type": "code",
   "execution_count": null,
   "id": "93ed6f16",
   "metadata": {},
   "outputs": [],
   "source": [
    "freq_relativas=pd.crosstab(dados['education'],'numero de pessoas',normalize=True)\n",
    "print(freq_relativas)"
   ]
  },
  {
   "cell_type": "code",
   "execution_count": null,
   "id": "108aa3db",
   "metadata": {},
   "outputs": [],
   "source": [
    "freq_table = pd.crosstab(dados['education'], dados['sex'])\n",
    "print(freq_table)\n",
    "type(freq_table)\n"
   ]
  },
  {
   "cell_type": "code",
   "execution_count": null,
   "id": "5c73c915",
   "metadata": {},
   "outputs": [],
   "source": [
    "freq_absolutas.plot.bar(x=None, y=None)"
   ]
  },
  {
   "cell_type": "code",
   "execution_count": null,
   "id": "26854144",
   "metadata": {},
   "outputs": [],
   "source": [
    "freq_table.plot.bar(x=None, y=None)"
   ]
  },
  {
   "cell_type": "code",
   "execution_count": null,
   "id": "18745a52",
   "metadata": {},
   "outputs": [],
   "source": [
    "dfsex=dados['sex']\n",
    "freq_bysex = pd.crosstab(dfsex,'numero')\n",
    "#freq_relbysex=freq_bysex/len(dados['sex'])\n",
    "freq_relbysex=pd.crosstab(dfsex,'numero',normalize=True)\n",
    "freq_relbysex['numero'].plot(kind='pie', y='Value')"
   ]
  },
  {
   "cell_type": "code",
   "execution_count": null,
   "id": "bc29dca1",
   "metadata": {},
   "outputs": [],
   "source": [
    "dados.boxplot(by =None, column =['age'], grid = False)\n",
    "dados.boxplot(by ='sex', column =['age'], grid = True)"
   ]
  },
  {
   "cell_type": "code",
   "execution_count": null,
   "id": "3e54617d",
   "metadata": {},
   "outputs": [],
   "source": [
    "import matplotlib.pyplot as plt\n",
    "np.random.seed(81) # seed 81\n",
    "num_aleat = np.random.normal(loc=0, scale=1,size=2000) # numpy.ndarray\n",
    "# help(np.random.normal)\n",
    "num_aleatorios = pd.DataFrame({'valores': num_aleat}) # pandas.DataFrame\n",
    "#\n",
    "num_aleatorios['valores'].plot(kind='hist', bins=30, edgecolor='black', color='skyblue')\n",
    "#\n",
    "plt.title('Histograma de números aleatórios')\n",
    "plt.xlabel('Valores')\n",
    "plt.ylabel('Frequencia')\n",
    "plt.show()"
   ]
  },
  {
   "cell_type": "code",
   "execution_count": null,
   "id": "79b58929",
   "metadata": {},
   "outputs": [],
   "source": [
    "num_aleatorios.boxplot(by =None, column =['valores'],grid = False, color='red')\n",
    "media=num_aleatorios.mean()"
   ]
  },
  {
   "cell_type": "code",
   "execution_count": null,
   "id": "091f9122",
   "metadata": {},
   "outputs": [],
   "source": []
  }
 ],
 "metadata": {
  "kernelspec": {
   "display_name": "Python 3 (ipykernel)",
   "language": "python",
   "name": "python3"
  },
  "language_info": {
   "codemirror_mode": {
    "name": "ipython",
    "version": 3
   },
   "file_extension": ".py",
   "mimetype": "text/x-python",
   "name": "python",
   "nbconvert_exporter": "python",
   "pygments_lexer": "ipython3",
   "version": "3.11.5"
  }
 },
 "nbformat": 4,
 "nbformat_minor": 5
}
