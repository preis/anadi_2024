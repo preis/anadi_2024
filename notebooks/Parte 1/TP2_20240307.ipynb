{
 "cells": [
  {
   "cell_type": "markdown",
   "source": [
    "# Exercicio 9\n",
    "\n",
    "As ammostras são independentes. \n",
    "\n",
    "Além do ANOVA é também preciso fazer o teste pos-hoc"
   ],
   "metadata": {
    "collapsed": false
   },
   "id": "16ba364b82e9d84b"
  },
  {
   "cell_type": "code",
   "execution_count": 7,
   "id": "initial_id",
   "metadata": {
    "collapsed": true,
    "ExecuteTime": {
     "end_time": "2024-03-07T18:42:26.084192Z",
     "start_time": "2024-03-07T18:42:17.759664Z"
    }
   },
   "outputs": [],
   "source": [
    "import pandas as pd\n",
    "import numpy as np\n",
    "import scipy.stats as stats\n"
   ]
  },
  {
   "cell_type": "code",
   "outputs": [],
   "source": [
    "dados_lidos = pd.read_csv(\"../ficheiros/Data_D.csv\", header=1)"
   ],
   "metadata": {
    "collapsed": false
   },
   "id": "7b23c2145b780172",
   "execution_count": null
  },
  {
   "cell_type": "code",
   "outputs": [],
   "source": [],
   "metadata": {
    "collapsed": false
   },
   "id": "35f681b949b377bc",
   "execution_count": null
  },
  {
   "cell_type": "code",
   "outputs": [],
   "source": [],
   "metadata": {
    "collapsed": false
   },
   "id": "c46e1ffba1d415a5"
  },
  {
   "cell_type": "markdown",
   "source": [
    "# Exercicio 10\n",
    "\n",
    "Vamos assumir que a normalidade é verificada.\n",
    "Testar condição de homogeneidade"
   ],
   "metadata": {
    "collapsed": false
   },
   "id": "d8c38b662b0d64da"
  },
  {
   "cell_type": "code",
   "outputs": [],
   "source": [
    "amostra_a = []\n",
    "amostra_b = []\n",
    "amostra_c = []\n",
    "amostra_d = []\n",
    "\n",
    "\n",
    "p_value = stats.f_oneway(amostra_a, amostra_b, amostra_c, amostra_d)"
   ],
   "metadata": {
    "collapsed": false
   },
   "id": "c3848fbee46beba"
  }
 ],
 "metadata": {
  "kernelspec": {
   "display_name": "Python 3",
   "language": "python",
   "name": "python3"
  },
  "language_info": {
   "codemirror_mode": {
    "name": "ipython",
    "version": 2
   },
   "file_extension": ".py",
   "mimetype": "text/x-python",
   "name": "python",
   "nbconvert_exporter": "python",
   "pygments_lexer": "ipython2",
   "version": "2.7.6"
  }
 },
 "nbformat": 4,
 "nbformat_minor": 5
}
