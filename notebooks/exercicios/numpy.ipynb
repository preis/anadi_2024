{
 "cells": [
  {
   "cell_type": "markdown",
   "source": [
    "# NumPy\n",
    "https://numpy.org/doc/stable/user/quickstart.html"
   ],
   "metadata": {
    "collapsed": false
   },
   "id": "869558483d22be27"
  },
  {
   "cell_type": "code",
   "execution_count": null,
   "id": "initial_id",
   "metadata": {
    "collapsed": true
   },
   "outputs": [],
   "source": [
    "import numpy as np\n",
    "from numpy import pi\n"
   ]
  },
  {
   "cell_type": "code",
   "outputs": [],
   "source": [
    "array = [\n",
    "    [1., 1., 0., 0.],\n",
    "    [2., 0., 1., 2.],\n",
    "    [3., 0., 1., 2.],\n",
    "    [0., 3., 1., 2.],\n",
    "    [0., 1., 3., 2.],\n",
    "]"
   ],
   "metadata": {
    "collapsed": false
   },
   "id": "4a58912c7210d809",
   "execution_count": null
  },
  {
   "cell_type": "code",
   "outputs": [],
   "source": [
    "a = np.arange(15).reshape(3, 5)\n",
    "a"
   ],
   "metadata": {
    "collapsed": false
   },
   "id": "63bb34922b8d3144",
   "execution_count": null
  },
  {
   "cell_type": "code",
   "outputs": [],
   "source": [
    "a.shape"
   ],
   "metadata": {
    "collapsed": false
   },
   "id": "aac95a41338dde1e",
   "execution_count": null
  },
  {
   "cell_type": "code",
   "outputs": [],
   "source": [
    "a.ndim"
   ],
   "metadata": {
    "collapsed": false
   },
   "id": "2bd8be999b6f9edc",
   "execution_count": null
  },
  {
   "cell_type": "code",
   "outputs": [],
   "source": [
    "a.dtype.name"
   ],
   "metadata": {
    "collapsed": false
   },
   "id": "e8c61d735628f8e0",
   "execution_count": null
  },
  {
   "cell_type": "code",
   "outputs": [],
   "source": [
    "a.itemsize"
   ],
   "metadata": {
    "collapsed": false
   },
   "id": "b32a24d1d79fa2aa",
   "execution_count": null
  },
  {
   "cell_type": "code",
   "outputs": [],
   "source": [
    "a.size"
   ],
   "metadata": {
    "collapsed": false
   },
   "id": "501a6c477503ee3c",
   "execution_count": null
  },
  {
   "cell_type": "code",
   "outputs": [],
   "source": [
    "type(a)"
   ],
   "metadata": {
    "collapsed": false
   },
   "id": "d7fea421535773ed",
   "execution_count": null
  },
  {
   "cell_type": "code",
   "outputs": [],
   "source": [
    "b = np.array([6, 7, 8])\n",
    "b"
   ],
   "metadata": {
    "collapsed": false
   },
   "id": "363ce3b048839af0",
   "execution_count": null
  },
  {
   "cell_type": "markdown",
   "source": [
    "## Criação de arrays\n",
    "\n",
    "Usando uma lista"
   ],
   "metadata": {
    "collapsed": false
   },
   "id": "8a1d3e5d7349a37d"
  },
  {
   "cell_type": "code",
   "outputs": [],
   "source": [
    "c = np.array([2, 3, 4])\n",
    "c"
   ],
   "metadata": {
    "collapsed": false
   },
   "id": "ee9b2dac041bcea4",
   "execution_count": null
  },
  {
   "cell_type": "code",
   "outputs": [],
   "source": [
    "c.dtype"
   ],
   "metadata": {
    "collapsed": false
   },
   "id": "e99c94442086df92",
   "execution_count": null
  },
  {
   "cell_type": "code",
   "outputs": [],
   "source": [
    "d = np.array([1.2, 3.5, 5.1])\n",
    "d.dtype"
   ],
   "metadata": {
    "collapsed": false
   },
   "id": "8b509d6a59d20e78",
   "execution_count": null
  },
  {
   "cell_type": "markdown",
   "source": [
    "### Array multi-dimensionais"
   ],
   "metadata": {
    "collapsed": false
   },
   "id": "28aadd72f5389c96"
  },
  {
   "cell_type": "code",
   "outputs": [],
   "source": [
    "e = np.array([(1.5, 2, 3), (4, 5, 6)])\n",
    "e"
   ],
   "metadata": {
    "collapsed": false
   },
   "id": "f6af4db92337e901",
   "execution_count": null
  },
  {
   "cell_type": "markdown",
   "source": [
    "### Especificar o tipo de dados a utilizar"
   ],
   "metadata": {
    "collapsed": false
   },
   "id": "f10f3b8110ef1bc3"
  },
  {
   "cell_type": "code",
   "outputs": [],
   "source": [
    "f = np.array([[1, 2], [3, 4]], dtype=complex)\n",
    "f"
   ],
   "metadata": {
    "collapsed": false
   },
   "id": "db8622c827492e06"
  },
  {
   "cell_type": "markdown",
   "source": [
    "### Criar array \"especiais\"\n",
    "\n",
    "É possível criar arrays preenchidos com 0 ou 1."
   ],
   "metadata": {
    "collapsed": false
   },
   "id": "88bad657b12cfa94"
  },
  {
   "cell_type": "code",
   "outputs": [],
   "source": [
    "np.zeros((3, 4))"
   ],
   "metadata": {
    "collapsed": false
   },
   "id": "eb85083377fa5517",
   "execution_count": null
  },
  {
   "cell_type": "code",
   "outputs": [],
   "source": [
    "np.ones((2, 3, 4), dtype=np.int16)"
   ],
   "metadata": {
    "collapsed": false
   },
   "id": "1ca2e391834ee93e",
   "execution_count": null
  },
  {
   "cell_type": "code",
   "outputs": [],
   "source": [
    "np.empty((2, 3))"
   ],
   "metadata": {
    "collapsed": false
   },
   "id": "b7f4e22671e1c94",
   "execution_count": null
  },
  {
   "cell_type": "markdown",
   "source": [
    "### Utilizar sequências de números"
   ],
   "metadata": {
    "collapsed": false
   },
   "id": "a0bb85c1a281f92b"
  },
  {
   "cell_type": "code",
   "outputs": [],
   "source": [
    "np.arange(10, 30, 5)"
   ],
   "metadata": {
    "collapsed": false
   },
   "id": "57d15d1a6b4c59aa"
  },
  {
   "cell_type": "code",
   "outputs": [],
   "source": [
    "np.arange(0, 2, 0.3)"
   ],
   "metadata": {
    "collapsed": false
   },
   "id": "981046f864fef948",
   "execution_count": null
  },
  {
   "cell_type": "code",
   "outputs": [],
   "source": [
    "np.linspace(0, 2, 9)"
   ],
   "metadata": {
    "collapsed": false
   },
   "id": "9c32d7e6d07c5ca9",
   "execution_count": null
  },
  {
   "cell_type": "code",
   "outputs": [],
   "source": [
    "x = np.linspace(0, 2 * pi, 100)        # useful to evaluate function at lots of points\n",
    "g = np.sin(x)\n",
    "g"
   ],
   "metadata": {
    "collapsed": false
   },
   "id": "1ff08cc36f003190",
   "execution_count": null
  },
  {
   "cell_type": "markdown",
   "source": [
    "## Imprimir Arrays"
   ],
   "metadata": {
    "collapsed": false
   },
   "id": "f65de672fddf651c"
  },
  {
   "cell_type": "code",
   "outputs": [],
   "source": [
    "h = np.arange(6)\n",
    "h"
   ],
   "metadata": {
    "collapsed": false
   },
   "id": "172341ca6d0a63e9",
   "execution_count": null
  },
  {
   "cell_type": "code",
   "outputs": [],
   "source": [
    "i = np.arange(12).reshape(4, 3)\n",
    "i"
   ],
   "metadata": {
    "collapsed": false
   },
   "id": "665556e37126847c",
   "execution_count": null
  },
  {
   "cell_type": "code",
   "outputs": [],
   "source": [
    "j = np.arange(24).reshape(2, 3, 4)\n",
    "j"
   ],
   "metadata": {
    "collapsed": false
   },
   "id": "acebac71f86b77c8",
   "execution_count": null
  },
  {
   "cell_type": "code",
   "outputs": [],
   "source": [
    "print(np.arange(10000))"
   ],
   "metadata": {
    "collapsed": false
   },
   "id": "4ce1bb240ac32a73",
   "execution_count": null
  },
  {
   "cell_type": "code",
   "outputs": [],
   "source": [
    "print(np.arange(10000).reshape(100, 100))"
   ],
   "metadata": {
    "collapsed": false
   },
   "id": "d411cdffa20b44e9",
   "execution_count": null
  },
  {
   "cell_type": "markdown",
   "source": [
    "## Operações básicas"
   ],
   "metadata": {
    "collapsed": false
   },
   "id": "89a76631647a50fa"
  },
  {
   "cell_type": "code",
   "outputs": [],
   "source": [
    "k = np.array([20, 30, 40, 50])\n",
    "k"
   ],
   "metadata": {
    "collapsed": false
   },
   "id": "826146751dd09421",
   "execution_count": null
  },
  {
   "cell_type": "code",
   "outputs": [],
   "source": [
    "l = np.arange(4)\n",
    "l"
   ],
   "metadata": {
    "collapsed": false
   },
   "id": "417e5c2665b9de27",
   "execution_count": null
  },
  {
   "cell_type": "code",
   "outputs": [],
   "source": [
    "m = k - l\n",
    "m"
   ],
   "metadata": {
    "collapsed": false
   },
   "id": "3346e0fa3f11a25d",
   "execution_count": null
  },
  {
   "cell_type": "code",
   "outputs": [],
   "source": [
    "l**2"
   ],
   "metadata": {
    "collapsed": false
   },
   "id": "84b7820a5a23fd45",
   "execution_count": null
  },
  {
   "cell_type": "code",
   "outputs": [],
   "source": [
    "10 * np.sin(k)"
   ],
   "metadata": {
    "collapsed": false
   },
   "id": "f68772e23acc1052",
   "execution_count": null
  },
  {
   "cell_type": "code",
   "outputs": [],
   "source": [
    "k < 35"
   ],
   "metadata": {
    "collapsed": false
   },
   "id": "3f52c0809ea77ca5",
   "execution_count": null
  },
  {
   "cell_type": "code",
   "outputs": [],
   "source": [
    "A = np.array([[1, 1], [0, 1]])"
   ],
   "metadata": {
    "collapsed": false
   },
   "id": "af7a976a79731cc4",
   "execution_count": null
  },
  {
   "cell_type": "code",
   "outputs": [],
   "source": [
    "B = np.array([[2, 0], [3, 4]])"
   ],
   "metadata": {
    "collapsed": false
   },
   "id": "a582dbd1a3ed208",
   "execution_count": null
  },
  {
   "cell_type": "code",
   "outputs": [],
   "source": [
    "A * B     # elementwise product"
   ],
   "metadata": {
    "collapsed": false
   },
   "id": "4c37c10258502545",
   "execution_count": null
  },
  {
   "cell_type": "code",
   "outputs": [],
   "source": [
    "A @ B     # matrix product"
   ],
   "metadata": {
    "collapsed": false
   },
   "id": "233945dbc1f280e5",
   "execution_count": null
  },
  {
   "cell_type": "code",
   "outputs": [],
   "source": [
    "A.dot(B)  # another matrix product"
   ],
   "metadata": {
    "collapsed": false
   },
   "id": "e6b2779917baf91f",
   "execution_count": null
  },
  {
   "cell_type": "code",
   "outputs": [],
   "source": [
    "rg = np.random.default_rng(1)  # create instance of default random number generator\n",
    "n = np.ones((2, 3), dtype=int)\n",
    "o = rg.random((2, 3))\n",
    "n *= 3\n",
    "n"
   ],
   "metadata": {
    "collapsed": false
   },
   "id": "dcbfc4fa7164e62e",
   "execution_count": null
  },
  {
   "cell_type": "code",
   "outputs": [],
   "source": [
    "o += n\n",
    "o"
   ],
   "metadata": {
    "collapsed": false
   },
   "id": "b029b87b3478443b",
   "execution_count": null
  },
  {
   "cell_type": "code",
   "outputs": [],
   "source": [
    "n += o\n",
    "n  # É suposto dar erro."
   ],
   "metadata": {
    "collapsed": false
   },
   "id": "340975db1a31f5c4",
   "execution_count": null
  },
  {
   "cell_type": "code",
   "outputs": [],
   "source": [
    "a = np.ones(3, dtype=np.int32)\n",
    "b = np.linspace(0, pi, 3)\n",
    "b.dtype.name"
   ],
   "metadata": {
    "collapsed": false
   },
   "id": "4ae5f865179d137"
  },
  {
   "cell_type": "code",
   "outputs": [],
   "source": [
    "c = a + b\n",
    "c"
   ],
   "metadata": {
    "collapsed": false
   },
   "id": "9a96c0422123dc99"
  },
  {
   "cell_type": "code",
   "outputs": [],
   "source": [
    "c.dtype.name"
   ],
   "metadata": {
    "collapsed": false
   },
   "id": "876a195924e99648"
  },
  {
   "cell_type": "code",
   "outputs": [],
   "source": [
    "d = np.exp(c * 1j)\n",
    "d"
   ],
   "metadata": {
    "collapsed": false
   },
   "id": "68fe89055dbd36dd"
  },
  {
   "cell_type": "code",
   "outputs": [],
   "source": [
    "d.dtype.name"
   ],
   "metadata": {
    "collapsed": false
   },
   "id": "355cddabc0621303"
  },
  {
   "cell_type": "code",
   "outputs": [],
   "source": [
    "a = rg.random((2, 3))\n",
    "a"
   ],
   "metadata": {
    "collapsed": false
   },
   "id": "3b3c1b7dc8fd527c"
  },
  {
   "cell_type": "code",
   "outputs": [],
   "source": [
    "a.sum()"
   ],
   "metadata": {
    "collapsed": false
   },
   "id": "d8c33111d48f9058",
   "execution_count": null
  },
  {
   "cell_type": "code",
   "outputs": [],
   "source": [
    "a.min()"
   ],
   "metadata": {
    "collapsed": false
   },
   "id": "247b6a7e517b366d",
   "execution_count": null
  },
  {
   "cell_type": "code",
   "outputs": [],
   "source": [
    "a.max()"
   ],
   "metadata": {
    "collapsed": false
   },
   "id": "db7d073da0957cd1",
   "execution_count": null
  },
  {
   "cell_type": "code",
   "outputs": [],
   "source": [],
   "metadata": {
    "collapsed": false
   },
   "id": "18e37e04d408ca15"
  }
 ],
 "metadata": {
  "kernelspec": {
   "display_name": "Python 3",
   "language": "python",
   "name": "python3"
  },
  "language_info": {
   "codemirror_mode": {
    "name": "ipython",
    "version": 2
   },
   "file_extension": ".py",
   "mimetype": "text/x-python",
   "name": "python",
   "nbconvert_exporter": "python",
   "pygments_lexer": "ipython2",
   "version": "2.7.6"
  }
 },
 "nbformat": 4,
 "nbformat_minor": 5
}
