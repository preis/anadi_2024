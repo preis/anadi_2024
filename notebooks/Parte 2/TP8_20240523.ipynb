{
 "cells": [
  {
   "metadata": {},
   "cell_type": "markdown",
   "source": [
    "# TP8\n",
    "Aula de 2024-05-23"
   ],
   "id": "393c2eedf7ed01eb"
  },
  {
   "cell_type": "code",
   "id": "initial_id",
   "metadata": {
    "collapsed": true,
    "ExecuteTime": {
     "end_time": "2024-05-23T18:24:27.380746Z",
     "start_time": "2024-05-23T18:24:23.544546Z"
    }
   },
   "source": [
    "import pandas as pd\n",
    "import numpy as np\n",
    "import seaborn as sns\n",
    "from sklearn.model_selection import train_test_split\n",
    "from sklearn.preprocessing import MinMaxScaler\n",
    "from sklearn.neighbors import KNeighborsRegressor, KNeighborsClassifier\n",
    "from sklearn.metrics import mean_squared_error, accuracy_score\n",
    "import matplotlib.pyplot as plt\n",
    "import warnings\n"
   ],
   "outputs": [],
   "execution_count": 10
  },
  {
   "metadata": {
    "ExecuteTime": {
     "end_time": "2024-05-23T18:24:27.395917Z",
     "start_time": "2024-05-23T18:24:27.383755Z"
    }
   },
   "cell_type": "code",
   "source": "warnings.filterwarnings(\"ignore\")",
   "id": "f948ef12b828049d",
   "outputs": [],
   "execution_count": 11
  },
  {
   "metadata": {
    "ExecuteTime": {
     "end_time": "2024-05-23T18:30:41.747338Z",
     "start_time": "2024-05-23T18:30:41.726248Z"
    }
   },
   "cell_type": "code",
   "source": [
    "abalone_data = pd.read_csv(\"../../ficheiros/Parte 2/abalone.data\")\n",
    "# abalone_data.columns = ['Sex', 'Length', 'Diameter', 'Height', 'WholeWeight', 'ShuckedWeight','VisceraWeight', 'ShellWeight', 'Rings']"
   ],
   "id": "c116003fb139f90a",
   "outputs": [],
   "execution_count": 15
  },
  {
   "metadata": {
    "ExecuteTime": {
     "end_time": "2024-05-23T18:30:45.683475Z",
     "start_time": "2024-05-23T18:30:45.666482Z"
    }
   },
   "cell_type": "code",
   "source": "abalone_data.shape",
   "id": "29b786be5a11894b",
   "outputs": [
    {
     "data": {
      "text/plain": [
       "(4177, 9)"
      ]
     },
     "execution_count": 16,
     "metadata": {},
     "output_type": "execute_result"
    }
   ],
   "execution_count": 16
  },
  {
   "metadata": {},
   "cell_type": "markdown",
   "source": [
    "Normalizar podemos usar MinMaxScaler, é para colocar os valores entre 0 e 1.\n",
    "Serve para remover os efeitos das escalas utilizadas.\n",
    "\n",
    "Para comparar ttest_test_ind"
   ],
   "id": "a3660b50a9074a38"
  },
  {
   "metadata": {
    "ExecuteTime": {
     "end_time": "2024-05-23T18:30:49.799876Z",
     "start_time": "2024-05-23T18:30:49.777850Z"
    }
   },
   "cell_type": "code",
   "source": "abalone_data = pd.get_dummies(abalone_data, dtype=float)",
   "id": "9345dad22ab17832",
   "outputs": [],
   "execution_count": 17
  },
  {
   "metadata": {
    "ExecuteTime": {
     "end_time": "2024-05-23T18:31:02.850299Z",
     "start_time": "2024-05-23T18:31:02.817204Z"
    }
   },
   "cell_type": "code",
   "source": "abalone_data.head()",
   "id": "6edb11280842c616",
   "outputs": [
    {
     "data": {
      "text/plain": [
       "   Length  Diameter  Height  WholeWeight  ShuckedWeight  VisceraWeight  \\\n",
       "0   0.455     0.365   0.095       0.5140         0.2245         0.1010   \n",
       "1   0.350     0.265   0.090       0.2255         0.0995         0.0485   \n",
       "2   0.530     0.420   0.135       0.6770         0.2565         0.1415   \n",
       "3   0.440     0.365   0.125       0.5160         0.2155         0.1140   \n",
       "4   0.330     0.255   0.080       0.2050         0.0895         0.0395   \n",
       "\n",
       "   ShellWeight  Rings  Sex_F  Sex_I  Sex_M  \n",
       "0        0.150     15    0.0    0.0    1.0  \n",
       "1        0.070      7    0.0    0.0    1.0  \n",
       "2        0.210      9    1.0    0.0    0.0  \n",
       "3        0.155     10    0.0    0.0    1.0  \n",
       "4        0.055      7    0.0    1.0    0.0  "
      ],
      "text/html": [
       "<div>\n",
       "<style scoped>\n",
       "    .dataframe tbody tr th:only-of-type {\n",
       "        vertical-align: middle;\n",
       "    }\n",
       "\n",
       "    .dataframe tbody tr th {\n",
       "        vertical-align: top;\n",
       "    }\n",
       "\n",
       "    .dataframe thead th {\n",
       "        text-align: right;\n",
       "    }\n",
       "</style>\n",
       "<table border=\"1\" class=\"dataframe\">\n",
       "  <thead>\n",
       "    <tr style=\"text-align: right;\">\n",
       "      <th></th>\n",
       "      <th>Length</th>\n",
       "      <th>Diameter</th>\n",
       "      <th>Height</th>\n",
       "      <th>WholeWeight</th>\n",
       "      <th>ShuckedWeight</th>\n",
       "      <th>VisceraWeight</th>\n",
       "      <th>ShellWeight</th>\n",
       "      <th>Rings</th>\n",
       "      <th>Sex_F</th>\n",
       "      <th>Sex_I</th>\n",
       "      <th>Sex_M</th>\n",
       "    </tr>\n",
       "  </thead>\n",
       "  <tbody>\n",
       "    <tr>\n",
       "      <th>0</th>\n",
       "      <td>0.455</td>\n",
       "      <td>0.365</td>\n",
       "      <td>0.095</td>\n",
       "      <td>0.5140</td>\n",
       "      <td>0.2245</td>\n",
       "      <td>0.1010</td>\n",
       "      <td>0.150</td>\n",
       "      <td>15</td>\n",
       "      <td>0.0</td>\n",
       "      <td>0.0</td>\n",
       "      <td>1.0</td>\n",
       "    </tr>\n",
       "    <tr>\n",
       "      <th>1</th>\n",
       "      <td>0.350</td>\n",
       "      <td>0.265</td>\n",
       "      <td>0.090</td>\n",
       "      <td>0.2255</td>\n",
       "      <td>0.0995</td>\n",
       "      <td>0.0485</td>\n",
       "      <td>0.070</td>\n",
       "      <td>7</td>\n",
       "      <td>0.0</td>\n",
       "      <td>0.0</td>\n",
       "      <td>1.0</td>\n",
       "    </tr>\n",
       "    <tr>\n",
       "      <th>2</th>\n",
       "      <td>0.530</td>\n",
       "      <td>0.420</td>\n",
       "      <td>0.135</td>\n",
       "      <td>0.6770</td>\n",
       "      <td>0.2565</td>\n",
       "      <td>0.1415</td>\n",
       "      <td>0.210</td>\n",
       "      <td>9</td>\n",
       "      <td>1.0</td>\n",
       "      <td>0.0</td>\n",
       "      <td>0.0</td>\n",
       "    </tr>\n",
       "    <tr>\n",
       "      <th>3</th>\n",
       "      <td>0.440</td>\n",
       "      <td>0.365</td>\n",
       "      <td>0.125</td>\n",
       "      <td>0.5160</td>\n",
       "      <td>0.2155</td>\n",
       "      <td>0.1140</td>\n",
       "      <td>0.155</td>\n",
       "      <td>10</td>\n",
       "      <td>0.0</td>\n",
       "      <td>0.0</td>\n",
       "      <td>1.0</td>\n",
       "    </tr>\n",
       "    <tr>\n",
       "      <th>4</th>\n",
       "      <td>0.330</td>\n",
       "      <td>0.255</td>\n",
       "      <td>0.080</td>\n",
       "      <td>0.2050</td>\n",
       "      <td>0.0895</td>\n",
       "      <td>0.0395</td>\n",
       "      <td>0.055</td>\n",
       "      <td>7</td>\n",
       "      <td>0.0</td>\n",
       "      <td>1.0</td>\n",
       "      <td>0.0</td>\n",
       "    </tr>\n",
       "  </tbody>\n",
       "</table>\n",
       "</div>"
      ]
     },
     "execution_count": 18,
     "metadata": {},
     "output_type": "execute_result"
    }
   ],
   "execution_count": 18
  },
  {
   "metadata": {
    "ExecuteTime": {
     "end_time": "2024-05-23T18:33:53.483482Z",
     "start_time": "2024-05-23T18:33:53.474656Z"
    }
   },
   "cell_type": "code",
   "source": [
    "def min_max_normalize(x, min_val, max_val):\n",
    "    data = (x - min_val) / (max_val -min_val)\n",
    "    return data"
   ],
   "id": "a4c18c65956d3f76",
   "outputs": [],
   "execution_count": 20
  },
  {
   "metadata": {},
   "cell_type": "markdown",
   "source": "Normalização feita à mão",
   "id": "4fe31de66d1a5ad2"
  },
  {
   "metadata": {
    "ExecuteTime": {
     "end_time": "2024-05-23T18:37:12.041487Z",
     "start_time": "2024-05-23T18:37:12.014880Z"
    }
   },
   "cell_type": "code",
   "source": [
    "x = abalone_data\n",
    "min_val = abalone_data.min()\n",
    "max_val = abalone_data.max()\n",
    "\n",
    "normalized_x = min_max_normalize(x, min_val, max_val)\n",
    "\n",
    "normalized_x.head()"
   ],
   "id": "68eb1cc40ce5732e",
   "outputs": [
    {
     "data": {
      "text/plain": [
       "     Length  Diameter    Height  WholeWeight  ShuckedWeight  VisceraWeight  \\\n",
       "0  0.513514  0.521008  0.084071     0.181335       0.150303       0.132324   \n",
       "1  0.371622  0.352941  0.079646     0.079157       0.066241       0.063199   \n",
       "2  0.614865  0.613445  0.119469     0.239065       0.171822       0.185648   \n",
       "3  0.493243  0.521008  0.110619     0.182044       0.144250       0.149440   \n",
       "4  0.344595  0.336134  0.070796     0.071897       0.059516       0.051350   \n",
       "\n",
       "   ShellWeight     Rings  Sex_F  Sex_I  Sex_M  \n",
       "0     0.147982  0.500000    0.0    0.0    1.0  \n",
       "1     0.068261  0.214286    0.0    0.0    1.0  \n",
       "2     0.207773  0.285714    1.0    0.0    0.0  \n",
       "3     0.152965  0.321429    0.0    0.0    1.0  \n",
       "4     0.053313  0.214286    0.0    1.0    0.0  "
      ],
      "text/html": [
       "<div>\n",
       "<style scoped>\n",
       "    .dataframe tbody tr th:only-of-type {\n",
       "        vertical-align: middle;\n",
       "    }\n",
       "\n",
       "    .dataframe tbody tr th {\n",
       "        vertical-align: top;\n",
       "    }\n",
       "\n",
       "    .dataframe thead th {\n",
       "        text-align: right;\n",
       "    }\n",
       "</style>\n",
       "<table border=\"1\" class=\"dataframe\">\n",
       "  <thead>\n",
       "    <tr style=\"text-align: right;\">\n",
       "      <th></th>\n",
       "      <th>Length</th>\n",
       "      <th>Diameter</th>\n",
       "      <th>Height</th>\n",
       "      <th>WholeWeight</th>\n",
       "      <th>ShuckedWeight</th>\n",
       "      <th>VisceraWeight</th>\n",
       "      <th>ShellWeight</th>\n",
       "      <th>Rings</th>\n",
       "      <th>Sex_F</th>\n",
       "      <th>Sex_I</th>\n",
       "      <th>Sex_M</th>\n",
       "    </tr>\n",
       "  </thead>\n",
       "  <tbody>\n",
       "    <tr>\n",
       "      <th>0</th>\n",
       "      <td>0.513514</td>\n",
       "      <td>0.521008</td>\n",
       "      <td>0.084071</td>\n",
       "      <td>0.181335</td>\n",
       "      <td>0.150303</td>\n",
       "      <td>0.132324</td>\n",
       "      <td>0.147982</td>\n",
       "      <td>0.500000</td>\n",
       "      <td>0.0</td>\n",
       "      <td>0.0</td>\n",
       "      <td>1.0</td>\n",
       "    </tr>\n",
       "    <tr>\n",
       "      <th>1</th>\n",
       "      <td>0.371622</td>\n",
       "      <td>0.352941</td>\n",
       "      <td>0.079646</td>\n",
       "      <td>0.079157</td>\n",
       "      <td>0.066241</td>\n",
       "      <td>0.063199</td>\n",
       "      <td>0.068261</td>\n",
       "      <td>0.214286</td>\n",
       "      <td>0.0</td>\n",
       "      <td>0.0</td>\n",
       "      <td>1.0</td>\n",
       "    </tr>\n",
       "    <tr>\n",
       "      <th>2</th>\n",
       "      <td>0.614865</td>\n",
       "      <td>0.613445</td>\n",
       "      <td>0.119469</td>\n",
       "      <td>0.239065</td>\n",
       "      <td>0.171822</td>\n",
       "      <td>0.185648</td>\n",
       "      <td>0.207773</td>\n",
       "      <td>0.285714</td>\n",
       "      <td>1.0</td>\n",
       "      <td>0.0</td>\n",
       "      <td>0.0</td>\n",
       "    </tr>\n",
       "    <tr>\n",
       "      <th>3</th>\n",
       "      <td>0.493243</td>\n",
       "      <td>0.521008</td>\n",
       "      <td>0.110619</td>\n",
       "      <td>0.182044</td>\n",
       "      <td>0.144250</td>\n",
       "      <td>0.149440</td>\n",
       "      <td>0.152965</td>\n",
       "      <td>0.321429</td>\n",
       "      <td>0.0</td>\n",
       "      <td>0.0</td>\n",
       "      <td>1.0</td>\n",
       "    </tr>\n",
       "    <tr>\n",
       "      <th>4</th>\n",
       "      <td>0.344595</td>\n",
       "      <td>0.336134</td>\n",
       "      <td>0.070796</td>\n",
       "      <td>0.071897</td>\n",
       "      <td>0.059516</td>\n",
       "      <td>0.051350</td>\n",
       "      <td>0.053313</td>\n",
       "      <td>0.214286</td>\n",
       "      <td>0.0</td>\n",
       "      <td>1.0</td>\n",
       "      <td>0.0</td>\n",
       "    </tr>\n",
       "  </tbody>\n",
       "</table>\n",
       "</div>"
      ]
     },
     "execution_count": 21,
     "metadata": {},
     "output_type": "execute_result"
    }
   ],
   "execution_count": 21
  },
  {
   "metadata": {
    "ExecuteTime": {
     "end_time": "2024-05-23T18:38:57.001273Z",
     "start_time": "2024-05-23T18:38:56.996271Z"
    }
   },
   "cell_type": "code",
   "source": [
    "# Holdout\n",
    "\n",
    "\n",
    "rand_State = 27\n",
    "trainsize = 0.7\n",
    "testsize = 0.3\n",
    "\n",
    "X = abalone_data.drop(\"Rings\", axis=1)\n",
    "y = abalone_data[\"Rings\"]"
   ],
   "id": "41741a20fa43a62b",
   "outputs": [],
   "execution_count": 23
  },
  {
   "metadata": {},
   "cell_type": "code",
   "outputs": [],
   "execution_count": null,
   "source": "X_train, X_test, y_train, y_test = train_test_split(X, y, train_size=trainsize, random_state=rand_State)",
   "id": "5deab6687151aed"
  },
  {
   "metadata": {},
   "cell_type": "markdown",
   "source": "Procura dos K",
   "id": "d11744000bbe6e49"
  },
  {
   "metadata": {
    "ExecuteTime": {
     "end_time": "2024-05-23T18:44:31.158792Z",
     "start_time": "2024-05-23T18:44:31.153702Z"
    }
   },
   "cell_type": "code",
   "source": [
    "kmax = 52\n",
    "kstep = 2\n",
    "rmse_val = []\n",
    "k_list = []\n",
    "k = 0"
   ],
   "id": "6d3be8a8bd616214",
   "outputs": [],
   "execution_count": 25
  },
  {
   "metadata": {
    "ExecuteTime": {
     "end_time": "2024-05-23T18:44:47.152136Z",
     "start_time": "2024-05-23T18:44:47.123136Z"
    }
   },
   "cell_type": "code",
   "source": [
    "for i in range(1, kmax, kstep):\n",
    "    model = KNeighborsRegressor(n_neighbors=i)\n",
    "    model.fit(X_train, y_train)\n",
    "    y_pred = model.predict(X_test)\n",
    "    error = np.sqrt(mean_squared_error(y_test, y_pred))\n",
    "    rmse_val.append(error)\n",
    "    k_list.append(K)\n",
    "    K = K + 1\n",
    "    "
   ],
   "id": "bd130ae5844b7d05",
   "outputs": [
    {
     "ename": "NameError",
     "evalue": "name 'X_train' is not defined",
     "output_type": "error",
     "traceback": [
      "\u001B[1;31m---------------------------------------------------------------------------\u001B[0m",
      "\u001B[1;31mNameError\u001B[0m                                 Traceback (most recent call last)",
      "Cell \u001B[1;32mIn[27], line 3\u001B[0m\n\u001B[0;32m      1\u001B[0m \u001B[38;5;28;01mfor\u001B[39;00m i \u001B[38;5;129;01min\u001B[39;00m \u001B[38;5;28mrange\u001B[39m(\u001B[38;5;241m1\u001B[39m, kmax, kstep):\n\u001B[0;32m      2\u001B[0m     model \u001B[38;5;241m=\u001B[39m KNeighborsRegressor(n_neighbors\u001B[38;5;241m=\u001B[39mi)\n\u001B[1;32m----> 3\u001B[0m     model\u001B[38;5;241m.\u001B[39mfit(\u001B[43mX_train\u001B[49m, y_train)\n\u001B[0;32m      4\u001B[0m     y_pred \u001B[38;5;241m=\u001B[39m model\u001B[38;5;241m.\u001B[39mpredict(X_test)\n\u001B[0;32m      5\u001B[0m     error \u001B[38;5;241m=\u001B[39m np\u001B[38;5;241m.\u001B[39msqrt(mean_squared_error(y_test, y_pred))\n",
      "\u001B[1;31mNameError\u001B[0m: name 'X_train' is not defined"
     ]
    }
   ],
   "execution_count": 27
  },
  {
   "metadata": {},
   "cell_type": "markdown",
   "source": [
    "Na regressão queremos o valor minimmo.\n",
    "Na classificação queremos o valor maximo."
   ],
   "id": "e7f332ebb016e433"
  },
  {
   "metadata": {},
   "cell_type": "code",
   "outputs": [],
   "execution_count": null,
   "source": "min_rmse = min(rmse_val)\n",
   "id": "41deec4344b1a6b6"
  },
  {
   "metadata": {},
   "cell_type": "code",
   "outputs": [],
   "execution_count": null,
   "source": "best_k = k_list[rmse_val.index(min_rmse)]",
   "id": "7de76ab0def919f7"
  },
  {
   "metadata": {},
   "cell_type": "code",
   "outputs": [],
   "execution_count": null,
   "source": [
    "curve = pd.DataFrame(rmse_Val)\n",
    "\n",
    "Usar line RMSE vs nr K"
   ],
   "id": "615309058a1ff6c3"
  },
  {
   "metadata": {},
   "cell_type": "code",
   "outputs": [],
   "execution_count": null,
   "source": [
    "\n",
    "from sklearn.model_selection import cross_val_score\n",
    "\n",
    "cv_scores = cross_val_score(model, X, y, cv=5)  # model vem dos K neighbours\n",
    "\n",
    "\n",
    "print(np.mean(cv_scores))\n"
   ],
   "id": "2da1f76d6c82ecfa"
  },
  {
   "metadata": {},
   "cell_type": "code",
   "outputs": [],
   "execution_count": null,
   "source": "",
   "id": "f2d19d87aa81779e"
  }
 ],
 "metadata": {
  "kernelspec": {
   "display_name": "Python 3",
   "language": "python",
   "name": "python3"
  },
  "language_info": {
   "codemirror_mode": {
    "name": "ipython",
    "version": 2
   },
   "file_extension": ".py",
   "mimetype": "text/x-python",
   "name": "python",
   "nbconvert_exporter": "python",
   "pygments_lexer": "ipython2",
   "version": "2.7.6"
  }
 },
 "nbformat": 4,
 "nbformat_minor": 5
}
