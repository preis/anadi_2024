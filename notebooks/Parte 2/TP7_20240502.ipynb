{
 "cells": [
  {
   "cell_type": "code",
   "id": "initial_id",
   "metadata": {
    "collapsed": true,
    "ExecuteTime": {
     "end_time": "2024-05-02T18:47:33.982078Z",
     "start_time": "2024-05-02T18:47:29.310983Z"
    }
   },
   "source": [
    "import numpy as np\n",
    "import pandas as pd\n",
    "import matplotlib.pyplot as plt\n",
    "from sklearn.model_selection import train_test_split\n",
    "from sklearn.linear_model import LinearRegression\n",
    "from sklearn.neural_network import MLPRegressor\n",
    "import warnings\n",
    "\n",
    "warnings.filterwarnings(\"ignore\")\n"
   ],
   "execution_count": 1,
   "outputs": []
  },
  {
   "metadata": {},
   "cell_type": "markdown",
   "source": [
    "# TP 7\n",
    "\n",
    "Os dados são numéricos, o que nos aponta para ser um problema de regressão."
   ],
   "id": "d7374a2f17907f17"
  },
  {
   "metadata": {},
   "cell_type": "markdown",
   "source": [
    "## Ler o ficheiro de dados\n",
    "\n",
    "### a)"
   ],
   "id": "b36ecf070aa2726a"
  },
  {
   "metadata": {
    "ExecuteTime": {
     "end_time": "2024-05-02T18:47:34.013387Z",
     "start_time": "2024-05-02T18:47:33.985083Z"
    }
   },
   "cell_type": "code",
   "source": "df = pd.read_csv(\"../../ficheiros/Parte 2/concrete.csv\")",
   "id": "e8c33b37795871f",
   "execution_count": 2,
   "outputs": []
  },
  {
   "metadata": {
    "ExecuteTime": {
     "end_time": "2024-05-02T18:47:34.044393Z",
     "start_time": "2024-05-02T18:47:34.015395Z"
    }
   },
   "cell_type": "code",
   "source": "df.head()",
   "id": "2293338087914433",
   "execution_count": 3,
   "outputs": []
  },
  {
   "metadata": {
    "ExecuteTime": {
     "end_time": "2024-05-02T18:47:34.059394Z",
     "start_time": "2024-05-02T18:47:34.045816Z"
    }
   },
   "cell_type": "code",
   "source": "df.shape",
   "id": "4f241ac99e86e9e1",
   "execution_count": 4,
   "outputs": []
  },
  {
   "metadata": {
    "ExecuteTime": {
     "end_time": "2024-05-02T18:47:34.091497Z",
     "start_time": "2024-05-02T18:47:34.061395Z"
    }
   },
   "cell_type": "code",
   "source": "df.describe()",
   "id": "f59968caf5d6836d",
   "execution_count": 5,
   "outputs": []
  },
  {
   "metadata": {
    "ExecuteTime": {
     "end_time": "2024-05-02T18:47:34.106790Z",
     "start_time": "2024-05-02T18:47:34.092496Z"
    }
   },
   "cell_type": "code",
   "source": "df.dtypes",
   "id": "90900d46058eec3f",
   "execution_count": 6,
   "outputs": []
  },
  {
   "metadata": {
    "ExecuteTime": {
     "end_time": "2024-05-02T18:47:34.122496Z",
     "start_time": "2024-05-02T18:47:34.108497Z"
    }
   },
   "cell_type": "code",
   "source": "df.info()",
   "id": "8a276d86cce32cd5",
   "execution_count": 7,
   "outputs": []
  },
  {
   "metadata": {},
   "cell_type": "markdown",
   "source": "### b)",
   "id": "d18fc105c27e792e"
  },
  {
   "metadata": {
    "ExecuteTime": {
     "end_time": "2024-05-02T18:47:35.426865Z",
     "start_time": "2024-05-02T18:47:34.124497Z"
    }
   },
   "cell_type": "code",
   "source": "df.hist()",
   "id": "fffd949763507ab4",
   "execution_count": 8,
   "outputs": []
  },
  {
   "metadata": {},
   "cell_type": "markdown",
   "source": "### c)",
   "id": "2baa72181d11af63"
  },
  {
   "metadata": {
    "ExecuteTime": {
     "end_time": "2024-05-02T18:47:35.441742Z",
     "start_time": "2024-05-02T18:47:35.427737Z"
    }
   },
   "cell_type": "code",
   "source": [
    "def normalize(y):\n",
    "    y_norm = ((y-np.min(y))) / (np.max(y)-np.min(y))\n",
    "    return y_norm"
   ],
   "id": "2714dcbe10039638",
   "execution_count": 9,
   "outputs": []
  },
  {
   "metadata": {
    "ExecuteTime": {
     "end_time": "2024-05-02T18:47:35.457744Z",
     "start_time": "2024-05-02T18:47:35.442895Z"
    }
   },
   "cell_type": "code",
   "source": "data_norm = df.apply(normalize)",
   "id": "2ec3c0538e65562",
   "execution_count": 10,
   "outputs": []
  },
  {
   "metadata": {
    "ExecuteTime": {
     "end_time": "2024-05-02T18:47:35.488800Z",
     "start_time": "2024-05-02T18:47:35.460859Z"
    }
   },
   "cell_type": "code",
   "source": [
    "print(data_norm[\"strength\"].describe())\n",
    "print(data_norm.describe())"
   ],
   "id": "bdd124aa79afdaef",
   "execution_count": 11,
   "outputs": []
  },
  {
   "metadata": {},
   "cell_type": "markdown",
   "source": "### d)",
   "id": "9cd36cb26342af2d"
  },
  {
   "metadata": {
    "ExecuteTime": {
     "end_time": "2024-05-02T18:48:51.161751Z",
     "start_time": "2024-05-02T18:48:51.144750Z"
    }
   },
   "cell_type": "code",
   "source": [
    "n_rows = len(data_norm)\n",
    "index = np.random.choice(n_rows, size=int(0.7 * n_rows)) \n",
    "\n",
    "data_train = data_norm.iloc[index]\n",
    "data_test = data_norm.drop(index)\n",
    "\n",
    "x_train = data_train.drop(\"strength\", axis=1)\n",
    "x_test = data_train[\"strength\"]\n",
    "\n",
    "y_train = data_test.drop(\"strength\", axis=1)\n",
    "y_test = data_test[\"strength\"]\n"
   ],
   "id": "da3d82533aa82cd3",
   "execution_count": 16,
   "outputs": []
  },
  {
   "metadata": {},
   "cell_type": "markdown",
   "source": "### e)",
   "id": "d3ce12ea1c9d2391"
  },
  {
   "metadata": {
    "ExecuteTime": {
     "end_time": "2024-05-02T18:48:53.744455Z",
     "start_time": "2024-05-02T18:48:53.726457Z"
    }
   },
   "cell_type": "code",
   "source": [
    "Nhidden = 1\n",
    "nn = MLPRegressor(hidden_layer_sizes=Nhidden, activation=\"tanh\", solver=\"lbfgs\", max_iter=1000, learning_rate_init=0.001)\n",
    "\n",
    "# ver: https://scikit-learn.org/stable/modules/generated/sklearn.neural_network.MLPRegressor.html"
   ],
   "id": "2e6e1c5b26f6e7c3",
   "execution_count": 17,
   "outputs": []
  },
  {
   "metadata": {
    "ExecuteTime": {
     "end_time": "2024-05-02T18:48:54.581803Z",
     "start_time": "2024-05-02T18:48:54.499766Z"
    }
   },
   "cell_type": "code",
   "source": [
    "from sklearn.metrics import mean_squared_error\n",
    "\n",
    "nn.fit(x_train, y_train)\n",
    "\n",
    "# Make prediction\n",
    "pred = nn.predict(x_test)\n",
    "\n",
    "# Calcular accuracy e erros de métrica\n",
    "test_set_rsquared = nn.score(x_test, y_test)\n",
    "test_set_rmse = np.sqrt(mean_squared_error(y_test, pred))\n",
    "\n",
    "print(\"R_squared value: \", test_set_rsquared)\n",
    "print(\"RMSE: \", test_set_rmse)"
   ],
   "id": "bb84bbcdec9528e4",
   "execution_count": 18,
   "outputs": []
  },
  {
   "metadata": {},
   "cell_type": "markdown",
   "source": "### f)",
   "id": "8497233a4485f901"
  },
  {
   "metadata": {},
   "cell_type": "code",
   "source": "",
   "id": "2be55cdc73ff982a",
   "execution_count": null,
   "outputs": []
  }
 ],
 "metadata": {
  "kernelspec": {
   "display_name": "Python 3",
   "language": "python",
   "name": "python3"
  },
  "language_info": {
   "codemirror_mode": {
    "name": "ipython",
    "version": 2
   },
   "file_extension": ".py",
   "mimetype": "text/x-python",
   "name": "python",
   "nbconvert_exporter": "python",
   "pygments_lexer": "ipython2",
   "version": "2.7.6"
  }
 },
 "nbformat": 4,
 "nbformat_minor": 5
}
