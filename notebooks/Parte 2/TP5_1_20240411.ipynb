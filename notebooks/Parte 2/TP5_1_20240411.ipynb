{
 "cells": [
  {
   "metadata": {},
   "cell_type": "markdown",
   "source": [
    "# TP5\n",
    "## 1\n",
    "Pretende-se avaliar o impacto que o orçamento em publicidade em três canais (youtube, facebook e newsletter) têm sobre as vendas de uma empresa. Os dados disponíveis são o orçamento em publicidade em milhares de dólares e o montante das vendas. A publicidade em cada um dos canais foi repetida 200 vezes com diferentes orçamentos e as vendas observadas foram recolhidas. O\n",
    "objetivo é prever as vendas futuras da empresa usando modelos de regressão lineares e árvores de regressão."
   ],
   "id": "236931805237d49a"
  },
  {
   "cell_type": "code",
   "id": "initial_id",
   "metadata": {
    "collapsed": true,
    "ExecuteTime": {
     "end_time": "2024-05-12T14:10:22.301222Z",
     "start_time": "2024-05-12T14:10:22.091320Z"
    }
   },
   "source": [
    "# from statistics import LinearRegression\n",
    "\n",
    "from sklearn.preprocessing import scale\n",
    "from sklearn.linear_model import LinearRegression\n",
    "\n",
    "import numpy as np\n",
    "import pandas as pd\n",
    "import matplotlib.pyplot as plt\n",
    "import seaborn as sns\n"
   ],
   "execution_count": 1,
   "outputs": []
  },
  {
   "metadata": {
    "ExecuteTime": {
     "end_time": "2024-05-12T14:10:25.596274Z",
     "start_time": "2024-05-12T14:10:25.593445Z"
    }
   },
   "cell_type": "code",
   "source": "ficheiro = \"../../ficheiros/Parte 2/Advertising.csv\"",
   "id": "c59daa6b10a97e75",
   "execution_count": 2,
   "outputs": []
  },
  {
   "metadata": {},
   "cell_type": "markdown",
   "source": [
    "### a)\n",
    "Comece por carregar o dataset “Advertising.csv”."
   ],
   "id": "34c45dbb79ff68a7"
  },
  {
   "metadata": {
    "ExecuteTime": {
     "end_time": "2024-05-12T14:10:38.709814Z",
     "start_time": "2024-05-12T14:10:38.663008Z"
    }
   },
   "cell_type": "code",
   "source": "dados_lidos = pd.read_csv(ficheiro, usecols=[1,2,3,4])",
   "id": "9cacd0e44030b8d4",
   "execution_count": 3,
   "outputs": []
  },
  {
   "metadata": {},
   "cell_type": "markdown",
   "source": [
    "### b)\n",
    "Analise os dados."
   ],
   "id": "5430f78dc0ea6fe9"
  },
  {
   "metadata": {
    "ExecuteTime": {
     "end_time": "2024-05-12T14:10:41.884524Z",
     "start_time": "2024-05-12T14:10:41.852611Z"
    }
   },
   "cell_type": "code",
   "source": "dados_lidos",
   "id": "438c49f2ce0703cd",
   "execution_count": 4,
   "outputs": []
  },
  {
   "metadata": {
    "ExecuteTime": {
     "end_time": "2024-05-12T14:10:42.785706Z",
     "start_time": "2024-05-12T14:10:42.779617Z"
    }
   },
   "cell_type": "code",
   "source": "dados_lidos.info()",
   "id": "f5c1234a00a7d81c",
   "execution_count": 5,
   "outputs": []
  },
  {
   "metadata": {
    "ExecuteTime": {
     "end_time": "2024-05-12T14:14:52.056560Z",
     "start_time": "2024-05-12T14:14:52.049563Z"
    }
   },
   "cell_type": "code",
   "source": "dados_lidos.head()",
   "id": "3763b7bcd387ed7d",
   "execution_count": 13,
   "outputs": []
  },
  {
   "metadata": {
    "ExecuteTime": {
     "end_time": "2024-05-12T14:11:57.022100Z",
     "start_time": "2024-05-12T14:11:57.013098Z"
    }
   },
   "cell_type": "code",
   "source": "dados_lidos.describe()",
   "id": "95f85055cd901c74",
   "execution_count": 6,
   "outputs": []
  },
  {
   "metadata": {},
   "cell_type": "markdown",
   "source": "# Contagem de valores nulos.",
   "id": "a468354ba2fa11c2"
  },
  {
   "metadata": {
    "ExecuteTime": {
     "end_time": "2024-05-12T14:19:51.913835Z",
     "start_time": "2024-05-12T14:19:51.909256Z"
    }
   },
   "cell_type": "code",
   "source": "dados_lidos.isnull().sum()*100/dados_lidos.shape[0]",
   "id": "1c02ff881a6e9bd0",
   "execution_count": 14,
   "outputs": []
  },
  {
   "metadata": {
    "ExecuteTime": {
     "end_time": "2024-05-12T14:12:02.175082Z",
     "start_time": "2024-05-12T14:12:01.877887Z"
    }
   },
   "cell_type": "code",
   "source": [
    "# Boxplot para ver os outliers\n",
    "fig_boxplot, axes_boxplot = plt.subplots(figsize = (10,6))\n",
    "axes_boxplot.set_title(\"Boxplot\")\n",
    "axes_boxplot.set_ylabel(\"Y\")\n",
    "\n",
    "_ = axes_boxplot.boxplot(dados_lidos, labels = dados_lidos.columns)\n"
   ],
   "id": "8655994154bbb269",
   "execution_count": 7,
   "outputs": []
  },
  {
   "metadata": {},
   "cell_type": "markdown",
   "source": "# Scatterplot",
   "id": "2720fb707d9989df"
  },
  {
   "metadata": {
    "ExecuteTime": {
     "end_time": "2024-05-12T14:25:23.358997Z",
     "start_time": "2024-05-12T14:25:23.190524Z"
    }
   },
   "cell_type": "code",
   "source": [
    "fig_box, axes_box = plt.subplots(3, figsize = (3, 3))\n",
    "plt1 = sns.boxplot(data = dados_lidos[\"TV\"], ax = axes_box[0])\n",
    "plt2 = sns.boxplot(data = dados_lidos[\"newspaper\"], ax = axes_box[1])\n",
    "plt3 = sns.boxplot(data = dados_lidos[\"radio\"], ax = axes_box[2])\n",
    "plt.tight_layout()"
   ],
   "id": "5b203394509db4ff",
   "execution_count": 19,
   "outputs": []
  },
  {
   "metadata": {},
   "cell_type": "markdown",
   "source": "#### Pair-plot",
   "id": "e407d86080d68414"
  },
  {
   "metadata": {
    "ExecuteTime": {
     "end_time": "2024-05-12T14:38:57.118888Z",
     "start_time": "2024-05-12T14:38:56.698375Z"
    }
   },
   "cell_type": "code",
   "source": "sns.pairplot(data=dados_lidos, x_vars=[\"TV\", \"radio\", \"newspaper\"], y_vars=\"sales\")",
   "id": "41121044e4c56833",
   "execution_count": 20,
   "outputs": []
  },
  {
   "metadata": {
    "ExecuteTime": {
     "end_time": "2024-05-12T14:12:55.101323Z",
     "start_time": "2024-05-12T14:12:55.096876Z"
    }
   },
   "cell_type": "code",
   "source": [
    "correlacao = dados_lidos.corr()\n",
    "print(correlacao)"
   ],
   "id": "3ee491f011611fcc",
   "execution_count": 9,
   "outputs": []
  },
  {
   "metadata": {
    "ExecuteTime": {
     "end_time": "2024-05-12T14:12:57.098247Z",
     "start_time": "2024-05-12T14:12:56.959317Z"
    }
   },
   "cell_type": "code",
   "source": "sns.heatmap(correlacao, annot=True)",
   "id": "b468e48ab1996a3b",
   "execution_count": 10,
   "outputs": []
  },
  {
   "metadata": {},
   "cell_type": "markdown",
   "source": [
    "### c)\n",
    "Separe o conjunto de dados inicial em dois subconjuntos treino e teste, segundo o critério holdout (70% treino/30% teste)."
   ],
   "id": "b4d186733cd71504"
  },
  {
   "metadata": {
    "ExecuteTime": {
     "end_time": "2024-05-12T14:13:01.653295Z",
     "start_time": "2024-05-12T14:13:01.647800Z"
    }
   },
   "cell_type": "code",
   "source": [
    "# Holdout\n",
    "X = dados_lidos[[\"TV\"]].to_numpy()\n",
    "y = dados_lidos.sales\n",
    "\n",
    "from sklearn.model_selection import train_test_split\n",
    "\n",
    "X_train, X_test, y_train, y_test = train_test_split(X, y, train_size=0.7, test_size=0.3, random_state=100)\n",
    "\n",
    "# print(... cada uma das vars)\n",
    "print(f\"Quantidade de registoa X para treino: {len(X_train)}\")\n",
    "print(f\"Quantidade de registoa X para treino: {len(y_train)}\")\n",
    "print(f\"Quantidade de registoa X para teste: {len(X_test)}\")\n",
    "print(f\"Quantidade de registoa X para teste: {len(y_test)}\")\n",
    "\n",
    "# ...\n"
   ],
   "id": "ccbb64cc5459fe55",
   "execution_count": 11,
   "outputs": []
  },
  {
   "metadata": {},
   "cell_type": "markdown",
   "source": [
    "### d)\n",
    "Obtenha um modelo de regressão linear simples usando apenas um dos canais de publicidade.\n",
    "\n",
    "#### i\n",
    "Apresente a função linear resultante."
   ],
   "id": "d61ed44464bf7c25"
  },
  {
   "metadata": {
    "ExecuteTime": {
     "end_time": "2024-05-12T14:13:04.927492Z",
     "start_time": "2024-05-12T14:13:04.048864Z"
    }
   },
   "cell_type": "code",
   "source": [
    "# Iniciar o algoritmo\n",
    "regr = LinearRegression()\n",
    "\n",
    "# fit the data\n",
    "regr.fit(X_train, y_train)\n",
    "\n",
    "print(\"Eq. da reta: y=\", regr.intercept_, \"+\", regr.coef_, \"\")\n",
    "\n",
    "### Evaluate the model\n",
    "from sklearn.metrics import r2_score, mean_absolute_error, mena_squared_error\n",
    "\n",
    "y_pred = regr.predict(X_test)\n",
    "\n",
    "MAE = np.mean(abs(y_test - y_pred))\n",
    "print(MAE)\n",
    "\n",
    "...\n"
   ],
   "id": "50880b7d99059eeb",
   "execution_count": 12,
   "outputs": []
  },
  {
   "metadata": {},
   "cell_type": "markdown",
   "source": [
    "#### ii.\n",
    "Visualize a reta correspondente ao modelo de regressão linear simples e o respetivo diagrama de dispersão."
   ],
   "id": "b1ca10fc93cebbc2"
  },
  {
   "metadata": {},
   "cell_type": "code",
   "source": "",
   "id": "80ebc2087b1caf63",
   "execution_count": null,
   "outputs": []
  },
  {
   "metadata": {},
   "cell_type": "markdown",
   "source": [
    "#### iii.\n",
    "Calcule o erro médio absoluto (MAE) e raiz quadrada do erro médio (RMSE) do modelo sobre os 30% casos de teste."
   ],
   "id": "e9031d7dd03164f9"
  },
  {
   "metadata": {},
   "cell_type": "code",
   "source": "",
   "id": "b7c85104dc8be2d1",
   "execution_count": null,
   "outputs": []
  },
  {
   "metadata": {},
   "cell_type": "code",
   "source": "",
   "id": "e25edcb5ab2ea2ef",
   "execution_count": null,
   "outputs": []
  },
  {
   "metadata": {},
   "cell_type": "markdown",
   "source": [
    "### e)\n",
    "Repita as alíneas anteriores, com um modelo de regressão linear múltipla usando os três canais."
   ],
   "id": "25fc6f26cb1b021b"
  },
  {
   "metadata": {},
   "cell_type": "code",
   "source": "X = dados_lidos",
   "id": "b89e396b2f17c66f",
   "execution_count": null,
   "outputs": []
  },
  {
   "metadata": {},
   "cell_type": "markdown",
   "source": [
    "### f)\n",
    "Simplifique o modelo."
   ],
   "id": "d0a3ccd9dcd38b82"
  },
  {
   "metadata": {},
   "cell_type": "code",
   "source": "# É aplicar o algoritmo, mas sem preditores que não sejam lienares.",
   "id": "e871983c04266100",
   "execution_count": null,
   "outputs": []
  },
  {
   "metadata": {},
   "cell_type": "markdown",
   "source": [
    "#### g)\n",
    "Obtenha a árvore de regressão usando a função DecisionTreeRegressor() da Scikit-Learn para prever as vendas futuras da empresa em função dos orçamentos em publicidade nos três canais."
   ],
   "id": "c334864f29e16922"
  },
  {
   "metadata": {},
   "cell_type": "code",
   "source": "",
   "id": "7d58994d412f9325",
   "execution_count": null,
   "outputs": []
  },
  {
   "metadata": {},
   "cell_type": "markdown",
   "source": [
    "### h)\n",
    "Visualize a árvore de decisão.\n",
    "\n",
    "Arvores de decisão\n",
    "\n",
    "Aplicam-se a problemas de classificação e de regressão.\n",
    "\n",
    "sklearn.tree.DecisionTreeRegressor\n",
    "\n",
    "\n",
    "MAE e RMSE\n"
   ],
   "id": "c1bf3de71a99e5b9"
  },
  {
   "metadata": {},
   "cell_type": "code",
   "source": "",
   "id": "2637cd048ed10d91",
   "execution_count": null,
   "outputs": []
  },
  {
   "metadata": {},
   "cell_type": "markdown",
   "source": [
    "### i)\n",
    "Calcule o erro médio absoluto (MAE) e raiz quadrada do erro médio (RMSE) da árvore de regressão sobre o conjunto de teste."
   ],
   "id": "541473287ed8af82"
  },
  {
   "metadata": {},
   "cell_type": "code",
   "source": "",
   "id": "ce48519e013bd854",
   "execution_count": null,
   "outputs": []
  },
  {
   "metadata": {},
   "cell_type": "code",
   "source": "",
   "id": "5e86e345b270c65b",
   "execution_count": null,
   "outputs": []
  },
  {
   "metadata": {},
   "cell_type": "code",
   "source": "",
   "id": "db119a657beb90b5",
   "execution_count": null,
   "outputs": []
  }
 ],
 "metadata": {
  "kernelspec": {
   "display_name": "Python 3",
   "language": "python",
   "name": "python3"
  },
  "language_info": {
   "codemirror_mode": {
    "name": "ipython",
    "version": 2
   },
   "file_extension": ".py",
   "mimetype": "text/x-python",
   "name": "python",
   "nbconvert_exporter": "python",
   "pygments_lexer": "ipython2",
   "version": "2.7.6"
  }
 },
 "nbformat": 4,
 "nbformat_minor": 5
}
