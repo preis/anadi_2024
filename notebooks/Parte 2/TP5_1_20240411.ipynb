{
 "cells": [
  {
   "metadata": {},
   "cell_type": "markdown",
   "source": [
    "# TP5\n",
    "## 1\n",
    "Pretende-se avaliar o impacto que o orçamento em publicidade em três canais (youtube, facebook e newsletter) têm sobre as vendas de uma empresa. Os dados disponíveis são o orçamento em publicidade em milhares de dólares e o montante das vendas. A publicidade em cada um dos canais foi repetida 200 vezes com diferentes orçamentos e as vendas observadas foram recolhidas. O\n",
    "objetivo é prever as vendas futuras da empresa usando modelos de regressão lineares e árvores de regressão."
   ],
   "id": "236931805237d49a"
  },
  {
   "cell_type": "code",
   "id": "initial_id",
   "metadata": {
    "collapsed": true,
    "ExecuteTime": {
     "end_time": "2024-05-12T14:10:22.301222Z",
     "start_time": "2024-05-12T14:10:22.091320Z"
    }
   },
   "source": [
    "# from statistics import LinearRegression\n",
    "\n",
    "from sklearn.preprocessing import scale\n",
    "from sklearn.linear_model import LinearRegression\n",
    "\n",
    "import numpy as np\n",
    "import pandas as pd\n",
    "import matplotlib.pyplot as plt\n",
    "import seaborn as sns\n"
   ],
   "outputs": [],
   "execution_count": 1
  },
  {
   "metadata": {
    "ExecuteTime": {
     "end_time": "2024-05-12T14:10:25.596274Z",
     "start_time": "2024-05-12T14:10:25.593445Z"
    }
   },
   "cell_type": "code",
   "source": "ficheiro = \"../../ficheiros/Parte 2/Advertising.csv\"",
   "id": "c59daa6b10a97e75",
   "outputs": [],
   "execution_count": 2
  },
  {
   "metadata": {},
   "cell_type": "markdown",
   "source": [
    "### a)\n",
    "Comece por carregar o dataset “Advertising.csv”."
   ],
   "id": "34c45dbb79ff68a7"
  },
  {
   "metadata": {
    "ExecuteTime": {
     "end_time": "2024-05-12T14:10:38.709814Z",
     "start_time": "2024-05-12T14:10:38.663008Z"
    }
   },
   "cell_type": "code",
   "source": "dados_lidos = pd.read_csv(ficheiro, usecols=[1,2,3,4])",
   "id": "9cacd0e44030b8d4",
   "outputs": [],
   "execution_count": 3
  },
  {
   "metadata": {},
   "cell_type": "markdown",
   "source": [
    "### b)\n",
    "Analise os dados."
   ],
   "id": "5430f78dc0ea6fe9"
  },
  {
   "metadata": {
    "ExecuteTime": {
     "end_time": "2024-05-12T14:10:41.884524Z",
     "start_time": "2024-05-12T14:10:41.852611Z"
    }
   },
   "cell_type": "code",
   "source": "dados_lidos",
   "id": "438c49f2ce0703cd",
   "outputs": [
    {
     "data": {
      "text/plain": [
       "        TV  radio  newspaper  sales\n",
       "0    230.1   37.8       69.2   22.1\n",
       "1     44.5   39.3       45.1   10.4\n",
       "2     17.2   45.9       69.3    9.3\n",
       "3    151.5   41.3       58.5   18.5\n",
       "4    180.8   10.8       58.4   12.9\n",
       "..     ...    ...        ...    ...\n",
       "195   38.2    3.7       13.8    7.6\n",
       "196   94.2    4.9        8.1    9.7\n",
       "197  177.0    9.3        6.4   12.8\n",
       "198  283.6   42.0       66.2   25.5\n",
       "199  232.1    8.6        8.7   13.4\n",
       "\n",
       "[200 rows x 4 columns]"
      ],
      "text/html": [
       "<div>\n",
       "<style scoped>\n",
       "    .dataframe tbody tr th:only-of-type {\n",
       "        vertical-align: middle;\n",
       "    }\n",
       "\n",
       "    .dataframe tbody tr th {\n",
       "        vertical-align: top;\n",
       "    }\n",
       "\n",
       "    .dataframe thead th {\n",
       "        text-align: right;\n",
       "    }\n",
       "</style>\n",
       "<table border=\"1\" class=\"dataframe\">\n",
       "  <thead>\n",
       "    <tr style=\"text-align: right;\">\n",
       "      <th></th>\n",
       "      <th>TV</th>\n",
       "      <th>radio</th>\n",
       "      <th>newspaper</th>\n",
       "      <th>sales</th>\n",
       "    </tr>\n",
       "  </thead>\n",
       "  <tbody>\n",
       "    <tr>\n",
       "      <th>0</th>\n",
       "      <td>230.1</td>\n",
       "      <td>37.8</td>\n",
       "      <td>69.2</td>\n",
       "      <td>22.1</td>\n",
       "    </tr>\n",
       "    <tr>\n",
       "      <th>1</th>\n",
       "      <td>44.5</td>\n",
       "      <td>39.3</td>\n",
       "      <td>45.1</td>\n",
       "      <td>10.4</td>\n",
       "    </tr>\n",
       "    <tr>\n",
       "      <th>2</th>\n",
       "      <td>17.2</td>\n",
       "      <td>45.9</td>\n",
       "      <td>69.3</td>\n",
       "      <td>9.3</td>\n",
       "    </tr>\n",
       "    <tr>\n",
       "      <th>3</th>\n",
       "      <td>151.5</td>\n",
       "      <td>41.3</td>\n",
       "      <td>58.5</td>\n",
       "      <td>18.5</td>\n",
       "    </tr>\n",
       "    <tr>\n",
       "      <th>4</th>\n",
       "      <td>180.8</td>\n",
       "      <td>10.8</td>\n",
       "      <td>58.4</td>\n",
       "      <td>12.9</td>\n",
       "    </tr>\n",
       "    <tr>\n",
       "      <th>...</th>\n",
       "      <td>...</td>\n",
       "      <td>...</td>\n",
       "      <td>...</td>\n",
       "      <td>...</td>\n",
       "    </tr>\n",
       "    <tr>\n",
       "      <th>195</th>\n",
       "      <td>38.2</td>\n",
       "      <td>3.7</td>\n",
       "      <td>13.8</td>\n",
       "      <td>7.6</td>\n",
       "    </tr>\n",
       "    <tr>\n",
       "      <th>196</th>\n",
       "      <td>94.2</td>\n",
       "      <td>4.9</td>\n",
       "      <td>8.1</td>\n",
       "      <td>9.7</td>\n",
       "    </tr>\n",
       "    <tr>\n",
       "      <th>197</th>\n",
       "      <td>177.0</td>\n",
       "      <td>9.3</td>\n",
       "      <td>6.4</td>\n",
       "      <td>12.8</td>\n",
       "    </tr>\n",
       "    <tr>\n",
       "      <th>198</th>\n",
       "      <td>283.6</td>\n",
       "      <td>42.0</td>\n",
       "      <td>66.2</td>\n",
       "      <td>25.5</td>\n",
       "    </tr>\n",
       "    <tr>\n",
       "      <th>199</th>\n",
       "      <td>232.1</td>\n",
       "      <td>8.6</td>\n",
       "      <td>8.7</td>\n",
       "      <td>13.4</td>\n",
       "    </tr>\n",
       "  </tbody>\n",
       "</table>\n",
       "<p>200 rows × 4 columns</p>\n",
       "</div>"
      ]
     },
     "execution_count": 4,
     "metadata": {},
     "output_type": "execute_result"
    }
   ],
   "execution_count": 4
  },
  {
   "metadata": {
    "ExecuteTime": {
     "end_time": "2024-05-12T14:10:42.785706Z",
     "start_time": "2024-05-12T14:10:42.779617Z"
    }
   },
   "cell_type": "code",
   "source": "dados_lidos.info()",
   "id": "f5c1234a00a7d81c",
   "outputs": [
    {
     "name": "stdout",
     "output_type": "stream",
     "text": [
      "<class 'pandas.core.frame.DataFrame'>\n",
      "RangeIndex: 200 entries, 0 to 199\n",
      "Data columns (total 4 columns):\n",
      " #   Column     Non-Null Count  Dtype  \n",
      "---  ------     --------------  -----  \n",
      " 0   TV         200 non-null    float64\n",
      " 1   radio      200 non-null    float64\n",
      " 2   newspaper  200 non-null    float64\n",
      " 3   sales      200 non-null    float64\n",
      "dtypes: float64(4)\n",
      "memory usage: 6.4 KB\n"
     ]
    }
   ],
   "execution_count": 5
  },
  {
   "metadata": {
    "ExecuteTime": {
     "end_time": "2024-05-12T14:14:52.056560Z",
     "start_time": "2024-05-12T14:14:52.049563Z"
    }
   },
   "cell_type": "code",
   "source": "dados_lidos.head()",
   "id": "3763b7bcd387ed7d",
   "outputs": [
    {
     "data": {
      "text/plain": [
       "      TV  radio  newspaper  sales\n",
       "0  230.1   37.8       69.2   22.1\n",
       "1   44.5   39.3       45.1   10.4\n",
       "2   17.2   45.9       69.3    9.3\n",
       "3  151.5   41.3       58.5   18.5\n",
       "4  180.8   10.8       58.4   12.9"
      ],
      "text/html": [
       "<div>\n",
       "<style scoped>\n",
       "    .dataframe tbody tr th:only-of-type {\n",
       "        vertical-align: middle;\n",
       "    }\n",
       "\n",
       "    .dataframe tbody tr th {\n",
       "        vertical-align: top;\n",
       "    }\n",
       "\n",
       "    .dataframe thead th {\n",
       "        text-align: right;\n",
       "    }\n",
       "</style>\n",
       "<table border=\"1\" class=\"dataframe\">\n",
       "  <thead>\n",
       "    <tr style=\"text-align: right;\">\n",
       "      <th></th>\n",
       "      <th>TV</th>\n",
       "      <th>radio</th>\n",
       "      <th>newspaper</th>\n",
       "      <th>sales</th>\n",
       "    </tr>\n",
       "  </thead>\n",
       "  <tbody>\n",
       "    <tr>\n",
       "      <th>0</th>\n",
       "      <td>230.1</td>\n",
       "      <td>37.8</td>\n",
       "      <td>69.2</td>\n",
       "      <td>22.1</td>\n",
       "    </tr>\n",
       "    <tr>\n",
       "      <th>1</th>\n",
       "      <td>44.5</td>\n",
       "      <td>39.3</td>\n",
       "      <td>45.1</td>\n",
       "      <td>10.4</td>\n",
       "    </tr>\n",
       "    <tr>\n",
       "      <th>2</th>\n",
       "      <td>17.2</td>\n",
       "      <td>45.9</td>\n",
       "      <td>69.3</td>\n",
       "      <td>9.3</td>\n",
       "    </tr>\n",
       "    <tr>\n",
       "      <th>3</th>\n",
       "      <td>151.5</td>\n",
       "      <td>41.3</td>\n",
       "      <td>58.5</td>\n",
       "      <td>18.5</td>\n",
       "    </tr>\n",
       "    <tr>\n",
       "      <th>4</th>\n",
       "      <td>180.8</td>\n",
       "      <td>10.8</td>\n",
       "      <td>58.4</td>\n",
       "      <td>12.9</td>\n",
       "    </tr>\n",
       "  </tbody>\n",
       "</table>\n",
       "</div>"
      ]
     },
     "execution_count": 13,
     "metadata": {},
     "output_type": "execute_result"
    }
   ],
   "execution_count": 13
  },
  {
   "metadata": {
    "ExecuteTime": {
     "end_time": "2024-05-12T14:11:57.022100Z",
     "start_time": "2024-05-12T14:11:57.013098Z"
    }
   },
   "cell_type": "code",
   "source": "dados_lidos.describe()",
   "id": "95f85055cd901c74",
   "outputs": [
    {
     "data": {
      "text/plain": [
       "               TV       radio   newspaper       sales\n",
       "count  200.000000  200.000000  200.000000  200.000000\n",
       "mean   147.042500   23.264000   30.554000   14.022500\n",
       "std     85.854236   14.846809   21.778621    5.217457\n",
       "min      0.700000    0.000000    0.300000    1.600000\n",
       "25%     74.375000    9.975000   12.750000   10.375000\n",
       "50%    149.750000   22.900000   25.750000   12.900000\n",
       "75%    218.825000   36.525000   45.100000   17.400000\n",
       "max    296.400000   49.600000  114.000000   27.000000"
      ],
      "text/html": [
       "<div>\n",
       "<style scoped>\n",
       "    .dataframe tbody tr th:only-of-type {\n",
       "        vertical-align: middle;\n",
       "    }\n",
       "\n",
       "    .dataframe tbody tr th {\n",
       "        vertical-align: top;\n",
       "    }\n",
       "\n",
       "    .dataframe thead th {\n",
       "        text-align: right;\n",
       "    }\n",
       "</style>\n",
       "<table border=\"1\" class=\"dataframe\">\n",
       "  <thead>\n",
       "    <tr style=\"text-align: right;\">\n",
       "      <th></th>\n",
       "      <th>TV</th>\n",
       "      <th>radio</th>\n",
       "      <th>newspaper</th>\n",
       "      <th>sales</th>\n",
       "    </tr>\n",
       "  </thead>\n",
       "  <tbody>\n",
       "    <tr>\n",
       "      <th>count</th>\n",
       "      <td>200.000000</td>\n",
       "      <td>200.000000</td>\n",
       "      <td>200.000000</td>\n",
       "      <td>200.000000</td>\n",
       "    </tr>\n",
       "    <tr>\n",
       "      <th>mean</th>\n",
       "      <td>147.042500</td>\n",
       "      <td>23.264000</td>\n",
       "      <td>30.554000</td>\n",
       "      <td>14.022500</td>\n",
       "    </tr>\n",
       "    <tr>\n",
       "      <th>std</th>\n",
       "      <td>85.854236</td>\n",
       "      <td>14.846809</td>\n",
       "      <td>21.778621</td>\n",
       "      <td>5.217457</td>\n",
       "    </tr>\n",
       "    <tr>\n",
       "      <th>min</th>\n",
       "      <td>0.700000</td>\n",
       "      <td>0.000000</td>\n",
       "      <td>0.300000</td>\n",
       "      <td>1.600000</td>\n",
       "    </tr>\n",
       "    <tr>\n",
       "      <th>25%</th>\n",
       "      <td>74.375000</td>\n",
       "      <td>9.975000</td>\n",
       "      <td>12.750000</td>\n",
       "      <td>10.375000</td>\n",
       "    </tr>\n",
       "    <tr>\n",
       "      <th>50%</th>\n",
       "      <td>149.750000</td>\n",
       "      <td>22.900000</td>\n",
       "      <td>25.750000</td>\n",
       "      <td>12.900000</td>\n",
       "    </tr>\n",
       "    <tr>\n",
       "      <th>75%</th>\n",
       "      <td>218.825000</td>\n",
       "      <td>36.525000</td>\n",
       "      <td>45.100000</td>\n",
       "      <td>17.400000</td>\n",
       "    </tr>\n",
       "    <tr>\n",
       "      <th>max</th>\n",
       "      <td>296.400000</td>\n",
       "      <td>49.600000</td>\n",
       "      <td>114.000000</td>\n",
       "      <td>27.000000</td>\n",
       "    </tr>\n",
       "  </tbody>\n",
       "</table>\n",
       "</div>"
      ]
     },
     "execution_count": 6,
     "metadata": {},
     "output_type": "execute_result"
    }
   ],
   "execution_count": 6
  },
  {
   "metadata": {},
   "cell_type": "markdown",
   "source": "# Contagem de valores nulos.",
   "id": "a468354ba2fa11c2"
  },
  {
   "metadata": {
    "ExecuteTime": {
     "end_time": "2024-05-12T14:19:51.913835Z",
     "start_time": "2024-05-12T14:19:51.909256Z"
    }
   },
   "cell_type": "code",
   "source": "dados_lidos.isnull().sum()*100/dados_lidos.shape[0]",
   "id": "1c02ff881a6e9bd0",
   "outputs": [
    {
     "data": {
      "text/plain": [
       "TV           0.0\n",
       "radio        0.0\n",
       "newspaper    0.0\n",
       "sales        0.0\n",
       "dtype: float64"
      ]
     },
     "execution_count": 14,
     "metadata": {},
     "output_type": "execute_result"
    }
   ],
   "execution_count": 14
  },
  {
   "metadata": {
    "ExecuteTime": {
     "end_time": "2024-05-12T14:12:02.175082Z",
     "start_time": "2024-05-12T14:12:01.877887Z"
    }
   },
   "cell_type": "code",
   "source": [
    "# Boxplot para ver os outliers\n",
    "fig_boxplot, axes_boxplot = plt.subplots(figsize = (10,6))\n",
    "axes_boxplot.set_title(\"Boxplot\")\n",
    "axes_boxplot.set_ylabel(\"Y\")\n",
    "\n",
    "_ = axes_boxplot.boxplot(dados_lidos, labels = dados_lidos.columns)\n"
   ],
   "id": "8655994154bbb269",
   "outputs": [
    {
     "data": {
      "text/plain": [
       "<Figure size 1000x600 with 1 Axes>"
      ],
      "image/png": "[encoded data removed]"
     },
     "metadata": {},
     "output_type": "display_data"
    }
   ],
   "execution_count": 7
  },
  {
   "metadata": {},
   "cell_type": "markdown",
   "source": "# Scatterplot",
   "id": "2720fb707d9989df"
  },
  {
   "metadata": {
    "ExecuteTime": {
     "end_time": "2024-05-12T14:25:23.358997Z",
     "start_time": "2024-05-12T14:25:23.190524Z"
    }
   },
   "cell_type": "code",
   "source": [
    "fig_box, axes_box = plt.subplots(3, figsize = (3, 3))\n",
    "plt1 = sns.boxplot(data = dados_lidos[\"TV\"], ax = axes_box[0])\n",
    "plt2 = sns.boxplot(data = dados_lidos[\"newspaper\"], ax = axes_box[1])\n",
    "plt3 = sns.boxplot(data = dados_lidos[\"radio\"], ax = axes_box[2])\n",
    "plt.tight_layout()"
   ],
   "id": "5b203394509db4ff",
   "outputs": [
    {
     "data": {
      "text/plain": [
       "<Figure size 300x300 with 3 Axes>"
      ],
      "image/png": "[encoded data removed]"
     },
     "metadata": {},
     "output_type": "display_data"
    }
   ],
   "execution_count": 19
  },
  {
   "metadata": {},
   "cell_type": "markdown",
   "source": "#### Pair-plot",
   "id": "e407d86080d68414"
  },
  {
   "metadata": {
    "ExecuteTime": {
     "end_time": "2024-05-12T14:38:57.118888Z",
     "start_time": "2024-05-12T14:38:56.698375Z"
    }
   },
   "cell_type": "code",
   "source": "sns.pairplot(data=dados_lidos, x_vars=[\"TV\", \"radio\", \"newspaper\"], y_vars=\"sales\")",
   "id": "41121044e4c56833",
   "outputs": [
    {
     "data": {
      "text/plain": [
       "<seaborn.axisgrid.PairGrid at 0x188f5304c90>"
      ]
     },
     "execution_count": 20,
     "metadata": {},
     "output_type": "execute_result"
    },
    {
     "data": {
      "text/plain": [
       "<Figure size 750x250 with 3 Axes>"
      ],
      "image/png": "[encoded data removed]"
     },
     "metadata": {},
     "output_type": "display_data"
    }
   ],
   "execution_count": 20
  },
  {
   "metadata": {
    "ExecuteTime": {
     "end_time": "2024-05-12T14:12:55.101323Z",
     "start_time": "2024-05-12T14:12:55.096876Z"
    }
   },
   "cell_type": "code",
   "source": [
    "correlacao = dados_lidos.corr()\n",
    "print(correlacao)"
   ],
   "id": "3ee491f011611fcc",
   "outputs": [
    {
     "name": "stdout",
     "output_type": "stream",
     "text": [
      "                 TV     radio  newspaper     sales\n",
      "TV         1.000000  0.054809   0.056648  0.782224\n",
      "radio      0.054809  1.000000   0.354104  0.576223\n",
      "newspaper  0.056648  0.354104   1.000000  0.228299\n",
      "sales      0.782224  0.576223   0.228299  1.000000\n"
     ]
    }
   ],
   "execution_count": 9
  },
  {
   "metadata": {
    "ExecuteTime": {
     "end_time": "2024-05-12T14:12:57.098247Z",
     "start_time": "2024-05-12T14:12:56.959317Z"
    }
   },
   "cell_type": "code",
   "source": "sns.heatmap(correlacao, annot=True)",
   "id": "b468e48ab1996a3b",
   "outputs": [
    {
     "data": {
      "text/plain": [
       "<Axes: >"
      ]
     },
     "execution_count": 10,
     "metadata": {},
     "output_type": "execute_result"
    },
    {
     "data": {
      "text/plain": [
       "<Figure size 640x480 with 2 Axes>"
      ],
      "image/png": "[encoded data removed]"
     },
     "metadata": {},
     "output_type": "display_data"
    }
   ],
   "execution_count": 10
  },
  {
   "metadata": {},
   "cell_type": "markdown",
   "source": [
    "### c)\n",
    "Separe o conjunto de dados inicial em dois subconjuntos treino e teste, segundo o critério holdout (70% treino/30% teste)."
   ],
   "id": "b4d186733cd71504"
  },
  {
   "metadata": {
    "ExecuteTime": {
     "end_time": "2024-05-12T14:13:01.653295Z",
     "start_time": "2024-05-12T14:13:01.647800Z"
    }
   },
   "cell_type": "code",
   "source": [
    "# Holdout\n",
    "X = dados_lidos[[\"TV\"]].to_numpy()\n",
    "y = dados_lidos.sales\n",
    "\n",
    "from sklearn.model_selection import train_test_split\n",
    "\n",
    "X_train, X_test, y_train, y_test = train_test_split(X, y, train_size=0.7, test_size=0.3, random_state=100)\n",
    "\n",
    "# print(... cada uma das vars)\n",
    "print(f\"Quantidade de registoa X para treino: {len(X_train)}\")\n",
    "print(f\"Quantidade de registoa X para treino: {len(y_train)}\")\n",
    "print(f\"Quantidade de registoa X para teste: {len(X_test)}\")\n",
    "print(f\"Quantidade de registoa X para teste: {len(y_test)}\")\n",
    "\n",
    "# ...\n"
   ],
   "id": "ccbb64cc5459fe55",
   "outputs": [
    {
     "name": "stdout",
     "output_type": "stream",
     "text": [
      "Quantidade de registoa X para treino: 140\n",
      "Quantidade de registoa X para treino: 140\n",
      "Quantidade de registoa X para teste: 60\n",
      "Quantidade de registoa X para teste: 60\n"
     ]
    }
   ],
   "execution_count": 11
  },
  {
   "metadata": {},
   "cell_type": "markdown",
   "source": [
    "### d)\n",
    "Obtenha um modelo de regressão linear simples usando apenas um dos canais de publicidade.\n",
    "\n",
    "#### i\n",
    "Apresente a função linear resultante."
   ],
   "id": "d61ed44464bf7c25"
  },
  {
   "metadata": {
    "ExecuteTime": {
     "end_time": "2024-05-12T14:13:04.927492Z",
     "start_time": "2024-05-12T14:13:04.048864Z"
    }
   },
   "cell_type": "code",
   "source": [
    "# Iniciar o algoritmo\n",
    "regr = LinearRegression()\n",
    "\n",
    "# fit the data\n",
    "regr.fit(X_train, y_train)\n",
    "\n",
    "print(\"Eq. da reta: y=\", regr.intercept_, \"+\", regr.coef_, \"\")\n",
    "\n",
    "### Evaluate the model\n",
    "from sklearn.metrics import r2_score, mean_absolute_error, mena_squared_error\n",
    "\n",
    "y_pred = regr.predict(X_test)\n",
    "\n",
    "MAE = np.mean(abs(y_test - y_pred))\n",
    "print(MAE)\n",
    "\n",
    "...\n"
   ],
   "id": "50880b7d99059eeb",
   "outputs": [
    {
     "name": "stdout",
     "output_type": "stream",
     "text": [
      "Eq. da reta: y= 6.98966585741168 + [0.04649736] \n"
     ]
    },
    {
     "ename": "ImportError",
     "evalue": "cannot import name 'mena_squared_error' from 'sklearn.metrics' (D:\\Desenvolvimento\\Repositorios\\pessoais\\anadi_2024\\venv\\Lib\\site-packages\\sklearn\\metrics\\__init__.py)",
     "output_type": "error",
     "traceback": [
      "\u001B[1;31m---------------------------------------------------------------------------\u001B[0m",
      "\u001B[1;31mImportError\u001B[0m                               Traceback (most recent call last)",
      "Cell \u001B[1;32mIn[12], line 10\u001B[0m\n\u001B[0;32m      7\u001B[0m \u001B[38;5;28mprint\u001B[39m(\u001B[38;5;124m\"\u001B[39m\u001B[38;5;124mEq. da reta: y=\u001B[39m\u001B[38;5;124m\"\u001B[39m, regr\u001B[38;5;241m.\u001B[39mintercept_, \u001B[38;5;124m\"\u001B[39m\u001B[38;5;124m+\u001B[39m\u001B[38;5;124m\"\u001B[39m, regr\u001B[38;5;241m.\u001B[39mcoef_, \u001B[38;5;124m\"\u001B[39m\u001B[38;5;124m\"\u001B[39m)\n\u001B[0;32m      9\u001B[0m \u001B[38;5;66;03m### Evaluate the model\u001B[39;00m\n\u001B[1;32m---> 10\u001B[0m \u001B[38;5;28;01mfrom\u001B[39;00m \u001B[38;5;21;01msklearn\u001B[39;00m\u001B[38;5;21;01m.\u001B[39;00m\u001B[38;5;21;01mmetrics\u001B[39;00m \u001B[38;5;28;01mimport\u001B[39;00m r2_score, mean_absolute_error, mena_squared_error\n\u001B[0;32m     12\u001B[0m y_pred \u001B[38;5;241m=\u001B[39m regr\u001B[38;5;241m.\u001B[39mpredict(X_test)\n\u001B[0;32m     14\u001B[0m MAE \u001B[38;5;241m=\u001B[39m np\u001B[38;5;241m.\u001B[39mmean(\u001B[38;5;28mabs\u001B[39m(y_test \u001B[38;5;241m-\u001B[39m y_pred))\n",
      "\u001B[1;31mImportError\u001B[0m: cannot import name 'mena_squared_error' from 'sklearn.metrics' (D:\\Desenvolvimento\\Repositorios\\pessoais\\anadi_2024\\venv\\Lib\\site-packages\\sklearn\\metrics\\__init__.py)"
     ]
    }
   ],
   "execution_count": 12
  },
  {
   "metadata": {},
   "cell_type": "markdown",
   "source": [
    "#### ii.\n",
    "Visualize a reta correspondente ao modelo de regressão linear simples e o respetivo diagrama de dispersão."
   ],
   "id": "b1ca10fc93cebbc2"
  },
  {
   "metadata": {},
   "cell_type": "code",
   "source": "",
   "id": "80ebc2087b1caf63",
   "outputs": [],
   "execution_count": null
  },
  {
   "metadata": {},
   "cell_type": "markdown",
   "source": [
    "#### iii.\n",
    "Calcule o erro médio absoluto (MAE) e raiz quadrada do erro médio (RMSE) do modelo sobre os 30% casos de teste."
   ],
   "id": "e9031d7dd03164f9"
  },
  {
   "metadata": {},
   "cell_type": "code",
   "source": "",
   "id": "b7c85104dc8be2d1",
   "outputs": [],
   "execution_count": null
  },
  {
   "metadata": {},
   "cell_type": "code",
   "source": "",
   "id": "e25edcb5ab2ea2ef",
   "outputs": [],
   "execution_count": null
  },
  {
   "metadata": {},
   "cell_type": "markdown",
   "source": [
    "### e)\n",
    "Repita as alíneas anteriores, com um modelo de regressão linear múltipla usando os três canais."
   ],
   "id": "25fc6f26cb1b021b"
  },
  {
   "metadata": {},
   "cell_type": "code",
   "source": "X = dados_lidos",
   "id": "b89e396b2f17c66f",
   "outputs": [],
   "execution_count": null
  },
  {
   "metadata": {},
   "cell_type": "markdown",
   "source": [
    "### f)\n",
    "Simplifique o modelo."
   ],
   "id": "d0a3ccd9dcd38b82"
  },
  {
   "metadata": {},
   "cell_type": "code",
   "source": "# É aplicar o algoritmo, mas sem preditores que não sejam lienares.",
   "id": "e871983c04266100",
   "outputs": [],
   "execution_count": null
  },
  {
   "metadata": {},
   "cell_type": "markdown",
   "source": [
    "#### g)\n",
    "Obtenha a árvore de regressão usando a função DecisionTreeRegressor() da Scikit-Learn para prever as vendas futuras da empresa em função dos orçamentos em publicidade nos três canais."
   ],
   "id": "c334864f29e16922"
  },
  {
   "metadata": {},
   "cell_type": "code",
   "source": "",
   "id": "7d58994d412f9325",
   "outputs": [],
   "execution_count": null
  },
  {
   "metadata": {},
   "cell_type": "markdown",
   "source": [
    "### h)\n",
    "Visualize a árvore de decisão.\n",
    "\n",
    "Arvores de decisão\n",
    "\n",
    "Aplicam-se a problemas de classificação e de regressão.\n",
    "\n",
    "sklearn.tree.DecisionTreeRegressor\n",
    "\n",
    "\n",
    "MAE e RMSE\n"
   ],
   "id": "c1bf3de71a99e5b9"
  },
  {
   "metadata": {},
   "cell_type": "code",
   "source": "",
   "id": "2637cd048ed10d91",
   "outputs": [],
   "execution_count": null
  },
  {
   "metadata": {},
   "cell_type": "markdown",
   "source": [
    "### i)\n",
    "Calcule o erro médio absoluto (MAE) e raiz quadrada do erro médio (RMSE) da árvore de regressão sobre o conjunto de teste."
   ],
   "id": "541473287ed8af82"
  },
  {
   "metadata": {},
   "cell_type": "code",
   "source": "",
   "id": "ce48519e013bd854",
   "outputs": [],
   "execution_count": null
  },
  {
   "metadata": {},
   "cell_type": "code",
   "source": "",
   "id": "5e86e345b270c65b",
   "outputs": [],
   "execution_count": null
  },
  {
   "metadata": {},
   "cell_type": "code",
   "source": "",
   "id": "db119a657beb90b5",
   "outputs": [],
   "execution_count": null
  }
 ],
 "metadata": {
  "kernelspec": {
   "display_name": "Python 3",
   "language": "python",
   "name": "python3"
  },
  "language_info": {
   "codemirror_mode": {
    "name": "ipython",
    "version": 2
   },
   "file_extension": ".py",
   "mimetype": "text/x-python",
   "name": "python",
   "nbconvert_exporter": "python",
   "pygments_lexer": "ipython2",
   "version": "2.7.6"
  }
 },
 "nbformat": 4,
 "nbformat_minor": 5
}
