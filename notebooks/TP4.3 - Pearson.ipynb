{
 "cells": [
  {
   "cell_type": "markdown",
   "source": [
    "# Coeficiente de correlação de Pearson\n",
    "\n",
    "## a) \n",
    "Construir diagrama de dispersão"
   ],
   "metadata": {
    "collapsed": false
   },
   "id": "2f7852b913f8a06a"
  },
  {
   "cell_type": "code",
   "execution_count": 5,
   "id": "initial_id",
   "metadata": {
    "collapsed": true,
    "ExecuteTime": {
     "end_time": "2024-03-26T17:42:56.984138Z",
     "start_time": "2024-03-26T17:42:56.551148Z"
    }
   },
   "outputs": [],
   "source": [
    "import pandas as pd\n",
    "import matplotlib.pyplot as plt\n",
    "from scipy.stats import pearsonr"
   ]
  },
  {
   "cell_type": "code",
   "outputs": [
    {
     "data": {
      "text/plain": "   Unnamed: 0  Acessos  Falhas\n0           1     2560      14\n1           2     2421       2\n2           3     2651      18\n3           4     2377       3\n4           5     2363       4",
      "text/html": "<div>\n<style scoped>\n    .dataframe tbody tr th:only-of-type {\n        vertical-align: middle;\n    }\n\n    .dataframe tbody tr th {\n        vertical-align: top;\n    }\n\n    .dataframe thead th {\n        text-align: right;\n    }\n</style>\n<table border=\"1\" class=\"dataframe\">\n  <thead>\n    <tr style=\"text-align: right;\">\n      <th></th>\n      <th>Unnamed: 0</th>\n      <th>Acessos</th>\n      <th>Falhas</th>\n    </tr>\n  </thead>\n  <tbody>\n    <tr>\n      <th>0</th>\n      <td>1</td>\n      <td>2560</td>\n      <td>14</td>\n    </tr>\n    <tr>\n      <th>1</th>\n      <td>2</td>\n      <td>2421</td>\n      <td>2</td>\n    </tr>\n    <tr>\n      <th>2</th>\n      <td>3</td>\n      <td>2651</td>\n      <td>18</td>\n    </tr>\n    <tr>\n      <th>3</th>\n      <td>4</td>\n      <td>2377</td>\n      <td>3</td>\n    </tr>\n    <tr>\n      <th>4</th>\n      <td>5</td>\n      <td>2363</td>\n      <td>4</td>\n    </tr>\n  </tbody>\n</table>\n</div>"
     },
     "execution_count": 3,
     "metadata": {},
     "output_type": "execute_result"
    }
   ],
   "source": [
    "servidor = pd.read_csv(\"../ficheiros/Servidor.csv\")\n",
    "servidor.head()"
   ],
   "metadata": {
    "collapsed": false,
    "ExecuteTime": {
     "end_time": "2024-03-26T17:39:22.223892Z",
     "start_time": "2024-03-26T17:39:22.209861Z"
    }
   },
   "id": "745f8e280cb418a5",
   "execution_count": 3
  },
  {
   "cell_type": "code",
   "outputs": [
    {
     "data": {
      "text/plain": "<Figure size 640x480 with 1 Axes>",
      "image/png": "[encoded data removed]"
     },
     "metadata": {},
     "output_type": "display_data"
    }
   ],
   "source": [
    "num_acessos = servidor['Acessos']\n",
    "num_falhas = servidor['Falhas']\n",
    "plt.scatter(num_acessos, num_falhas, color='blue')\n",
    "plt.title('Plot dos dados')\n",
    "plt.xlabel('número de acessos')\n",
    "plt.ylabel('número de falhas')\n",
    "plt.show()"
   ],
   "metadata": {
    "collapsed": false,
    "ExecuteTime": {
     "end_time": "2024-03-26T17:39:47.973874Z",
     "start_time": "2024-03-26T17:39:47.630885Z"
    }
   },
   "id": "df62ebd582832b58",
   "execution_count": 4
  },
  {
   "cell_type": "markdown",
   "source": [
    "Parece haver uma correlação linear positiva, porque os dados ajustam-se a uma reta com declive\n",
    "positivo.\n",
    "\n",
    "## b) \n",
    "Calcule um coeficiente de correlação apropriado e conclua, a um nível de 5%, se existe uma\n",
    "correlação positiva entre as duas variáveis.\n",
    "\n",
    "1. O coeficiente de Pearson é usado para avaliar correlações lineares de dados contínuos.\n",
    "2. Os coeficientes de Spearman ou de Kendall são usados para avaliar correlações de ordem.\n",
    "\n",
    "Consequentemente iremos usar o coeficiente de correlação de Pearson."
   ],
   "metadata": {
    "collapsed": false
   },
   "id": "d0e045e247540b41"
  },
  {
   "cell_type": "code",
   "outputs": [],
   "source": [
    "coef_corr_pearson , p_value = pearsonr(num_acessos, num_falhas, alternative='greater')"
   ],
   "metadata": {
    "collapsed": false,
    "ExecuteTime": {
     "end_time": "2024-03-26T17:43:09.547672Z",
     "start_time": "2024-03-26T17:43:09.543881Z"
    }
   },
   "id": "5377d246c2b39c14",
   "execution_count": 6
  },
  {
   "cell_type": "code",
   "outputs": [
    {
     "name": "stdout",
     "output_type": "stream",
     "text": [
      "Coeficiente de correlacao de Pearson: 0.9525840513759775\n",
      "Valor de prova do teste: 2.658054569258286e-16\n"
     ]
    }
   ],
   "source": [
    "print(f\"Coeficiente de correlacao de Pearson: {coef_corr_pearson}\")\n",
    "print(f\"Valor de prova do teste: {p_value}\")"
   ],
   "metadata": {
    "collapsed": false,
    "ExecuteTime": {
     "end_time": "2024-03-26T17:43:47.208399Z",
     "start_time": "2024-03-26T17:43:47.205069Z"
    }
   },
   "id": "cd5df85cc9d05df1",
   "execution_count": 8
  },
  {
   "cell_type": "markdown",
   "source": [
    "Rejeita-se a hipótese nula o coeficiente de Pearson é estatísticamente relevante. As variáveis estão fortemente positivamente relacionadas (o coeficiente de Pearson está próximo de )."
   ],
   "metadata": {
    "collapsed": false
   },
   "id": "8edc85da86a64d9f"
  }
 ],
 "metadata": {
  "kernelspec": {
   "display_name": "Python 3",
   "language": "python",
   "name": "python3"
  },
  "language_info": {
   "codemirror_mode": {
    "name": "ipython",
    "version": 2
   },
   "file_extension": ".py",
   "mimetype": "text/x-python",
   "name": "python",
   "nbconvert_exporter": "python",
   "pygments_lexer": "ipython2",
   "version": "2.7.6"
  }
 },
 "nbformat": 4,
 "nbformat_minor": 5
}
