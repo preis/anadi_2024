{
 "cells": [
  {
   "cell_type": "markdown",
   "source": [
    "# Pandas\n",
    "\n",
    "https://pandas.pydata.org/docs/user_guide/10min.html"
   ],
   "metadata": {
    "collapsed": false
   },
   "id": "9ccdd57b87bfd014"
  },
  {
   "cell_type": "code",
   "outputs": [],
   "source": [
    "import numpy as np\n",
    "import pandas as pd\n",
    "import matplotlib.pyplot as plt"
   ],
   "metadata": {
    "collapsed": true,
    "ExecuteTime": {
     "end_time": "2024-03-16T16:17:51.814051900Z",
     "start_time": "2024-03-16T16:17:47.309253100Z"
    }
   },
   "id": "initial_id",
   "execution_count": 82
  },
  {
   "cell_type": "markdown",
   "source": [
    "## Estruturas básicas de dados no *pandas*\n",
    "### Series"
   ],
   "metadata": {
    "collapsed": false
   },
   "id": "d15dcf277b792d55"
  },
  {
   "cell_type": "code",
   "outputs": [],
   "source": [
    "s = pd.Series([1, 3, 5, np.nan, 6, 8])\n",
    "s"
   ],
   "metadata": {
    "collapsed": false
   },
   "id": "48a12a4f2ab295a1",
   "execution_count": null
  },
  {
   "cell_type": "markdown",
   "source": [
    "#### indice temporal"
   ],
   "metadata": {
    "collapsed": false
   },
   "id": "fb690f96d11d3b51"
  },
  {
   "cell_type": "code",
   "outputs": [],
   "source": [
    "dates = pd.date_range(\"2020-01-01\", periods=6)\n",
    "dates"
   ],
   "metadata": {
    "collapsed": false
   },
   "id": "c9b5313c2b93a133",
   "execution_count": null
  },
  {
   "cell_type": "code",
   "outputs": [],
   "source": [
    "df = pd.DataFrame(np.random.randn(6, 4), index=dates, columns=list(\"ABCD\"))\n",
    "df"
   ],
   "metadata": {
    "collapsed": false
   },
   "id": "c967e14bbd181fc9",
   "execution_count": null
  },
  {
   "cell_type": "markdown",
   "source": [
    "### Dataframe\n",
    "\n",
    "Criar um DataFrame passando um dicionário, em que as chaves são as etiquetas das colunas."
   ],
   "metadata": {
    "collapsed": false
   },
   "id": "9af7eae63d43e412"
  },
  {
   "cell_type": "code",
   "outputs": [],
   "source": [
    "df2 = pd.DataFrame(\n",
    "    {\n",
    "        \"A\": 1.0,\n",
    "        \"B\": pd.Timestamp(\"20130102\"),\n",
    "        \"C\": pd.Series(1, index=list(range(4)), dtype=\"float32\"),\n",
    "        \"D\": np.array([3] * 4, dtype=\"int32\"),\n",
    "        \"E\": pd.Categorical([\"test\", \"train\", \"test\", \"train\"]),\n",
    "        \"F\": \"foo\",\n",
    "    }\n",
    ")\n",
    "df2"
   ],
   "metadata": {
    "collapsed": false
   },
   "id": "788bf22d73293e52",
   "execution_count": null
  },
  {
   "cell_type": "markdown",
   "source": [
    "### Tipo de dados de um DataFrame"
   ],
   "metadata": {
    "collapsed": false
   },
   "id": "b63994706a45cf5"
  },
  {
   "cell_type": "code",
   "outputs": [],
   "source": [
    "df2.dtypes"
   ],
   "metadata": {
    "collapsed": false
   },
   "id": "e7b382e423d727b0",
   "execution_count": null
  },
  {
   "cell_type": "markdown",
   "source": [
    "## Ver dados do DataFrame"
   ],
   "metadata": {
    "collapsed": false
   },
   "id": "e078739cd97a7ccf"
  },
  {
   "cell_type": "code",
   "outputs": [],
   "source": [
    "df.head(4)"
   ],
   "metadata": {
    "collapsed": false
   },
   "id": "2d3fa5f93c5d0cbf",
   "execution_count": null
  },
  {
   "cell_type": "code",
   "outputs": [],
   "source": [
    "df.tail(3)"
   ],
   "metadata": {
    "collapsed": false
   },
   "id": "246150a10388bf72",
   "execution_count": null
  },
  {
   "cell_type": "code",
   "outputs": [],
   "source": [
    "df.index"
   ],
   "metadata": {
    "collapsed": false
   },
   "id": "194d618ecdd720ad",
   "execution_count": null
  },
  {
   "cell_type": "code",
   "outputs": [],
   "source": [
    "df.columns"
   ],
   "metadata": {
    "collapsed": false
   },
   "id": "db0169c8bff99711",
   "execution_count": null
  },
  {
   "cell_type": "markdown",
   "source": [
    "Arrays de ``NumPy`` têm o mesmo tipo de dados para todo o array, enquanto os arrays de ``pandas`` podem ter um tipo por coluna.\n",
    "Ao converter de para ``NumPy`` é escolhido o tipo de dados capaz de \"receber\" todos os dados."
   ],
   "metadata": {
    "collapsed": false
   },
   "id": "31c95a414ee3f25e"
  },
  {
   "cell_type": "code",
   "outputs": [],
   "source": [
    "df.to_numpy()"
   ],
   "metadata": {
    "collapsed": false
   },
   "id": "2f2f3a287ed66a83",
   "execution_count": null
  },
  {
   "cell_type": "markdown",
   "source": [
    "### Resumo de estatisticas do Dateframe"
   ],
   "metadata": {
    "collapsed": false
   },
   "id": "38fddfc42878937d"
  },
  {
   "cell_type": "code",
   "outputs": [],
   "source": [
    "df.describe()"
   ],
   "metadata": {
    "collapsed": false
   },
   "id": "a8df4559caf5fc50",
   "execution_count": null
  },
  {
   "cell_type": "markdown",
   "source": [
    "### Transposta"
   ],
   "metadata": {
    "collapsed": false
   },
   "id": "46386f6051baf2f"
  },
  {
   "cell_type": "code",
   "outputs": [],
   "source": [
    "df.T"
   ],
   "metadata": {
    "collapsed": false
   },
   "id": "f27f9a7262db54f3",
   "execution_count": null
  },
  {
   "cell_type": "markdown",
   "source": [
    "### Ordenar por eixo"
   ],
   "metadata": {
    "collapsed": false
   },
   "id": "a3d10b12f38d8ff7"
  },
  {
   "cell_type": "code",
   "outputs": [],
   "source": [
    "df.sort_index(axis=1, ascending=False)"
   ],
   "metadata": {
    "collapsed": false
   },
   "id": "1e82db3e7cb7306f"
  },
  {
   "cell_type": "markdown",
   "source": [
    "### Ordenar por valores "
   ],
   "metadata": {
    "collapsed": false
   },
   "id": "c484118931945a92"
  },
  {
   "cell_type": "code",
   "outputs": [],
   "source": [
    "df.sort_values(by=\"B\")"
   ],
   "metadata": {
    "collapsed": false
   },
   "id": "7a543ee2e32d1c25"
  },
  {
   "cell_type": "markdown",
   "source": [
    "## Escolher itens\n",
    "\n",
    "Se passarmos a etiqueta de uma das colunas, obtemos a ``serie`` dessa coluna."
   ],
   "metadata": {
    "collapsed": false
   },
   "id": "cad8e23752e6c3d5"
  },
  {
   "cell_type": "code",
   "outputs": [],
   "source": [
    "df[\"A\"]"
   ],
   "metadata": {
    "collapsed": false
   },
   "id": "c9f0ca7364214445",
   "execution_count": null
  },
  {
   "cell_type": "markdown",
   "source": [
    "### Slicing\n",
    "\n",
    "Passando um *slice* obtemos as linhas contidas nessa \"fatia\"."
   ],
   "metadata": {
    "collapsed": false
   },
   "id": "b19933deaf82e073"
  },
  {
   "cell_type": "code",
   "outputs": [],
   "source": [
    "df[1:4]"
   ],
   "metadata": {
    "collapsed": false
   },
   "id": "80a1e0733396456f",
   "execution_count": null
  },
  {
   "cell_type": "markdown",
   "source": [
    "Também podemos passar uma lista com os valores dos indices das linhas "
   ],
   "metadata": {
    "collapsed": false
   },
   "id": "44ea8b9bb25c55a7"
  },
  {
   "cell_type": "code",
   "outputs": [],
   "source": [
    "df[\"20130102\":\"20130104\"]"
   ],
   "metadata": {
    "collapsed": false
   },
   "id": "e8c375e9747d4499"
  },
  {
   "cell_type": "markdown",
   "source": [
    "### Escolher pela etiqueta\n",
    "\n",
    "Escolher todas as linhas com uma certa etiqueta."
   ],
   "metadata": {
    "collapsed": false
   },
   "id": "c6b0a307d1c1a09b"
  },
  {
   "cell_type": "code",
   "outputs": [],
   "source": [
    "df.loc[dates[0]]"
   ],
   "metadata": {
    "collapsed": false
   },
   "id": "9f0277ec1f46d285",
   "execution_count": null
  },
  {
   "cell_type": "markdown",
   "source": [
    "Escolher todas as linhas de certas colunas"
   ],
   "metadata": {
    "collapsed": false
   },
   "id": "d5540fb4cbd97ff"
  },
  {
   "cell_type": "code",
   "outputs": [],
   "source": [
    "df.loc[:, [\"A\", \"B\"]]"
   ],
   "metadata": {
    "collapsed": false
   },
   "id": "2e735b27f194f075"
  },
  {
   "cell_type": "markdown",
   "source": [
    "Também podemos fazer a seleção por linhas e colunas em simultâneo "
   ],
   "metadata": {
    "collapsed": false
   },
   "id": "ecfc4e0aacb35b72"
  },
  {
   "cell_type": "code",
   "outputs": [],
   "source": [
    "df.loc[\"20130102\":\"20130104\", [\"A\", \"B\"]]"
   ],
   "metadata": {
    "collapsed": false
   },
   "id": "1cc8841a8da05ae6"
  },
  {
   "cell_type": "markdown",
   "source": [
    "Escolher um única célula (1 linha e 1 coluna), devolve um escalar"
   ],
   "metadata": {
    "collapsed": false
   },
   "id": "dc7eecbd815e9d4e"
  },
  {
   "cell_type": "code",
   "outputs": [],
   "source": [
    "df.loc[dates[0], \"A\"]"
   ],
   "metadata": {
    "collapsed": false
   },
   "id": "303c17dbfbe941f"
  },
  {
   "cell_type": "markdown",
   "source": [
    "Existe uma forma mais eficiente de o fazer "
   ],
   "metadata": {
    "collapsed": false
   },
   "id": "2b6fc73680c4e661"
  },
  {
   "cell_type": "code",
   "outputs": [],
   "source": [
    "df.at[dates[0], \"A\"]"
   ],
   "metadata": {
    "collapsed": false
   },
   "id": "377695b37c7216a1"
  },
  {
   "cell_type": "markdown",
   "source": [
    "## Escolher pela posição"
   ],
   "metadata": {
    "collapsed": false
   },
   "id": "b2b5debd81d5d65f"
  },
  {
   "cell_type": "code",
   "outputs": [],
   "source": [
    "df.iloc[3]"
   ],
   "metadata": {
    "collapsed": false
   },
   "id": "a4695a59c5b0cb5c"
  },
  {
   "cell_type": "code",
   "outputs": [],
   "source": [
    "df.iloc[3:5, 0:2]"
   ],
   "metadata": {
    "collapsed": false
   },
   "id": "50a5259662647f0c"
  },
  {
   "cell_type": "code",
   "outputs": [],
   "source": [
    "df.iloc[[1, 2, 4], [0, 2]]"
   ],
   "metadata": {
    "collapsed": false
   },
   "id": "de79d7b061b3721e"
  },
  {
   "cell_type": "code",
   "outputs": [],
   "source": [
    "df.iloc[1:3, :]"
   ],
   "metadata": {
    "collapsed": false
   },
   "id": "b6297eb32cb7b272"
  },
  {
   "cell_type": "code",
   "outputs": [],
   "source": [
    "df.iloc[:, 1:3]"
   ],
   "metadata": {
    "collapsed": false
   },
   "id": "94cce3a25f81d1b9"
  },
  {
   "cell_type": "code",
   "outputs": [],
   "source": [
    "df.iloc[1, 1]"
   ],
   "metadata": {
    "collapsed": false
   },
   "id": "9d6cb694962af873"
  },
  {
   "cell_type": "code",
   "outputs": [],
   "source": [
    "df.iat[1, 1]"
   ],
   "metadata": {
    "collapsed": false
   },
   "id": "a85a342ab92d31ca"
  },
  {
   "cell_type": "markdown",
   "source": [
    "## Indexação boolena\n",
    "Ou filtrar por condiçoes\n",
    "\n",
    "Começamos por filtrar as linhas onde o valor na coluna **A** é superior a 0"
   ],
   "metadata": {
    "collapsed": false
   },
   "id": "eafed46cab866360"
  },
  {
   "cell_type": "code",
   "outputs": [],
   "source": [
    "df[df[\"A\"] > 0]"
   ],
   "metadata": {
    "collapsed": false
   },
   "id": "c134c4ff431df11a"
  },
  {
   "cell_type": "markdown",
   "source": [
    "O filtro pode ser em todo o DataFrame"
   ],
   "metadata": {
    "collapsed": false
   },
   "id": "7e26b602598c3c12"
  },
  {
   "cell_type": "code",
   "outputs": [],
   "source": [
    "df[df > 0]"
   ],
   "metadata": {
    "collapsed": false
   },
   "id": "4dd63afee2be6460"
  },
  {
   "cell_type": "markdown",
   "source": [
    "A funçao ``isin()`` também permite filtrar"
   ],
   "metadata": {
    "collapsed": false
   },
   "id": "b02408648e643338"
  },
  {
   "cell_type": "code",
   "outputs": [],
   "source": [
    "df2 = df.copy()\n",
    "df2[\"E\"] = [\"one\", \"one\", \"two\", \"three\", \"four\", \"three\"]\n",
    "df2"
   ],
   "metadata": {
    "collapsed": false
   },
   "id": "c71b333945fec451"
  },
  {
   "cell_type": "code",
   "outputs": [],
   "source": [
    "df2[df2[\"E\"].isin([\"two\", \"four\"])]"
   ],
   "metadata": {
    "collapsed": false
   },
   "id": "90ea7b9a671ece00"
  },
  {
   "cell_type": "markdown",
   "source": [
    "## Alterar valores\n",
    "\n",
    "Criar uma nova coluna, alinha automáticamente pelos indexes"
   ],
   "metadata": {
    "collapsed": false
   },
   "id": "70458164bc8d4b91"
  },
  {
   "cell_type": "code",
   "outputs": [],
   "source": [
    "s1 = pd.Series([1, 2, 3, 4, 5, 6], index=pd.date_range(\"20130102\", periods=6))\n",
    "s1"
   ],
   "metadata": {
    "collapsed": false
   },
   "id": "c455e772fef646b1",
   "execution_count": null
  },
  {
   "cell_type": "markdown",
   "source": [
    "Alterar pela etiqueta "
   ],
   "metadata": {
    "collapsed": false
   },
   "id": "4ff055a4bc861282"
  },
  {
   "cell_type": "code",
   "outputs": [],
   "source": [
    "df.at[dates[0], \"A\"] = 0"
   ],
   "metadata": {
    "collapsed": false
   },
   "id": "664689cea7ccc543",
   "execution_count": null
  },
  {
   "cell_type": "markdown",
   "source": [
    "Alterar pela posição"
   ],
   "metadata": {
    "collapsed": false
   },
   "id": "4c2be51a6a006871"
  },
  {
   "cell_type": "code",
   "outputs": [],
   "source": [
    "df.iat[0, 1] = 0"
   ],
   "metadata": {
    "collapsed": false
   },
   "id": "208cec109399b82a"
  },
  {
   "cell_type": "markdown",
   "source": [
    "Alterar usando um array *Numpy* "
   ],
   "metadata": {
    "collapsed": false
   },
   "id": "76f88cc926ec60ca"
  },
  {
   "cell_type": "code",
   "outputs": [],
   "source": [
    "df.loc[:, \"D\"] = np.array([5] * len(df))"
   ],
   "metadata": {
    "collapsed": false
   },
   "id": "b33d5e1d04df62f7"
  },
  {
   "cell_type": "code",
   "outputs": [],
   "source": [
    "df"
   ],
   "metadata": {
    "collapsed": false
   },
   "id": "1044970788254428",
   "execution_count": null
  },
  {
   "cell_type": "markdown",
   "source": [
    "Usando uma operaçao ``where``"
   ],
   "metadata": {
    "collapsed": false
   },
   "id": "c4831f3c396242cf"
  },
  {
   "cell_type": "code",
   "outputs": [],
   "source": [
    "df2 = df.copy()\n",
    "df2[df2 > 0] = -df2\n",
    "df2"
   ],
   "metadata": {
    "collapsed": false
   },
   "id": "57ee9b827e0f142b"
  },
  {
   "cell_type": "markdown",
   "source": [
    "## Tratar dados em falta"
   ],
   "metadata": {
    "collapsed": false
   },
   "id": "1c44704f93b96c37"
  },
  {
   "cell_type": "code",
   "outputs": [],
   "source": [
    "df1 = df.reindex(index=dates[0:4], columns=list(df.columns) + [\"E\"])\n",
    "df1.loc[dates[0] : dates[1], \"E\"] = 1\n",
    "df1"
   ],
   "metadata": {
    "collapsed": false
   },
   "id": "1bbb9591db53e22d",
   "execution_count": null
  },
  {
   "cell_type": "markdown",
   "source": [
    "Excluir linhas com dados em falta"
   ],
   "metadata": {
    "collapsed": false
   },
   "id": "59e0b17309c74b99"
  },
  {
   "cell_type": "code",
   "outputs": [],
   "source": [
    "df1.dropna(how=\"any\")"
   ],
   "metadata": {
    "collapsed": false
   },
   "id": "b42f2bee410ab5b3",
   "execution_count": null
  },
  {
   "cell_type": "markdown",
   "source": [
    "Preencher dados em falta"
   ],
   "metadata": {
    "collapsed": false
   },
   "id": "42ef6ddd0d9463e1"
  },
  {
   "cell_type": "code",
   "outputs": [],
   "source": [
    "df1.fillna(value=5)"
   ],
   "metadata": {
    "collapsed": false
   },
   "id": "d6698e63ad35e215",
   "execution_count": null
  },
  {
   "cell_type": "markdown",
   "source": [
    "Identificar celulas com valores em falta (``nan``)"
   ],
   "metadata": {
    "collapsed": false
   },
   "id": "93a8c59b6f01835b"
  },
  {
   "cell_type": "code",
   "outputs": [],
   "source": [
    "pd.isna(df1)"
   ],
   "metadata": {
    "collapsed": false
   },
   "id": "e30e8201ed3b82bd"
  },
  {
   "cell_type": "markdown",
   "source": [
    "## Operações\n",
    "\n",
    "Média dos valores das séries"
   ],
   "metadata": {
    "collapsed": false
   },
   "id": "3180ccb65ed07ccd"
  },
  {
   "cell_type": "code",
   "outputs": [],
   "source": [
    "df.mean()"
   ],
   "metadata": {
    "collapsed": false
   },
   "id": "3f5e41e0f68fc8dd"
  },
  {
   "cell_type": "markdown",
   "source": [
    "Média por linha"
   ],
   "metadata": {
    "collapsed": false
   },
   "id": "5f4ed131687e3846"
  },
  {
   "cell_type": "code",
   "outputs": [],
   "source": [
    "df.mean(axis=1)"
   ],
   "metadata": {
    "collapsed": false
   },
   "id": "88d6a370563c268"
  },
  {
   "cell_type": "markdown",
   "source": [
    "Operações sobre ``Series`` ou ``DataFrame`` com indexes ou colunas diferentes, são realizadas sobre o resultado da *união*, alinhando pela união ddos indices ou etiquestas das colunas "
   ],
   "metadata": {
    "collapsed": false
   },
   "id": "ace9af037b05a8d1"
  },
  {
   "cell_type": "code",
   "outputs": [],
   "source": [
    "s = pd.Series([1, 3, 5, np.nan, 6, 8], index=dates).shift(2)\n",
    "s"
   ],
   "metadata": {
    "collapsed": false
   },
   "id": "bbf6bbec09463637"
  },
  {
   "cell_type": "code",
   "outputs": [],
   "source": [
    "df.sub(s, axis=\"index\")"
   ],
   "metadata": {
    "collapsed": false
   },
   "id": "e6175a2884651c0c"
  },
  {
   "cell_type": "markdown",
   "source": [
    "## Funções do utilizador"
   ],
   "metadata": {
    "collapsed": false
   },
   "id": "fc175eb232daafc9"
  },
  {
   "cell_type": "code",
   "outputs": [],
   "source": [
    "df.agg(lambda x: np.mean(x) * 5.6)"
   ],
   "metadata": {
    "collapsed": false
   },
   "id": "4cf81737798f339a"
  },
  {
   "cell_type": "code",
   "outputs": [],
   "source": [
    "df.transform(lambda x: x * 101.2)"
   ],
   "metadata": {
    "collapsed": false
   },
   "id": "3a38655255d13e2e"
  },
  {
   "cell_type": "markdown",
   "source": [
    "## Contagem de valores"
   ],
   "metadata": {
    "collapsed": false
   },
   "id": "9c9201a6fd695b34"
  },
  {
   "cell_type": "code",
   "outputs": [],
   "source": [
    "s = pd.Series(np.random.randint(0, 7, size=10))\n",
    "s"
   ],
   "metadata": {
    "collapsed": false
   },
   "id": "98e9c0f4c186a978"
  },
  {
   "cell_type": "code",
   "outputs": [],
   "source": [
    "s.value_counts()"
   ],
   "metadata": {
    "collapsed": false
   },
   "id": "49e59a4eeddde15d"
  },
  {
   "cell_type": "markdown",
   "source": [
    "## Métodos sobre strings "
   ],
   "metadata": {
    "collapsed": false
   },
   "id": "4b0c98b2a8ad8fa0"
  },
  {
   "cell_type": "code",
   "outputs": [],
   "source": [
    "s = pd.Series([\"A\", \"B\", \"C\", \"Aaba\", \"Baca\", np.nan, \"CABA\", \"dog\", \"cat\"])"
   ],
   "metadata": {
    "collapsed": false
   },
   "id": "2140b47d2fa97db2",
   "execution_count": null
  },
  {
   "cell_type": "code",
   "outputs": [],
   "source": [
    "s.str.upper()"
   ],
   "metadata": {
    "collapsed": false
   },
   "id": "c00dd70cf2eef7b1",
   "execution_count": null
  },
  {
   "cell_type": "markdown",
   "source": [
    "## Dividir e unir"
   ],
   "metadata": {
    "collapsed": false
   },
   "id": "f0cab0a610102b36"
  },
  {
   "cell_type": "code",
   "outputs": [],
   "source": [
    "df = pd.DataFrame(np.random.randn(10, 4))\n",
    "df"
   ],
   "metadata": {
    "collapsed": false
   },
   "id": "ca84ab2d01453452",
   "execution_count": null
  },
  {
   "cell_type": "code",
   "outputs": [],
   "source": [
    "df1, df2, df3 = [df[:3], df[3:7], df[7:]]"
   ],
   "metadata": {
    "collapsed": false
   },
   "id": "113b4e64b523c31d",
   "execution_count": null
  },
  {
   "cell_type": "code",
   "outputs": [],
   "source": [
    "df1"
   ],
   "metadata": {
    "collapsed": false
   },
   "id": "a03522ab4a1799e4",
   "execution_count": null
  },
  {
   "cell_type": "code",
   "outputs": [],
   "source": [
    "df2"
   ],
   "metadata": {
    "collapsed": false
   },
   "id": "41335ea34302d734",
   "execution_count": null
  },
  {
   "cell_type": "code",
   "outputs": [],
   "source": [
    "df3"
   ],
   "metadata": {
    "collapsed": false
   },
   "id": "ce33f1502e86e90",
   "execution_count": null
  },
  {
   "cell_type": "markdown",
   "source": [
    "### concat()"
   ],
   "metadata": {
    "collapsed": false
   },
   "id": "366de48037259eb"
  },
  {
   "cell_type": "code",
   "outputs": [],
   "source": [
    "df4 = pd.concat([df3, df2, df1])"
   ],
   "metadata": {
    "collapsed": false
   },
   "id": "6c35a92709457ac7",
   "execution_count": null
  },
  {
   "cell_type": "code",
   "outputs": [],
   "source": [
    "df4"
   ],
   "metadata": {
    "collapsed": false
   },
   "id": "b097d703a4a41e30",
   "execution_count": null
  },
  {
   "cell_type": "markdown",
   "source": [
    "## join\n",
    "\n",
    "A operaçao ``merge()`` realiza um *join* estilo SQL "
   ],
   "metadata": {
    "collapsed": false
   },
   "id": "82a9c92e64149d18"
  },
  {
   "cell_type": "code",
   "outputs": [],
   "source": [
    "left = pd.DataFrame({\"key\": [\"foo\", \"foo\"], \"lval\": [1, 2]})\n",
    "right = pd.DataFrame({\"key\": [\"foo\", \"foo\"], \"rval\": [4, 5]})\n",
    "both = pd.merge(left, right, on=\"key\")"
   ],
   "metadata": {
    "collapsed": false
   },
   "id": "d2c73756356ab2fe",
   "execution_count": null
  },
  {
   "cell_type": "code",
   "outputs": [],
   "source": [
    "left"
   ],
   "metadata": {
    "collapsed": false
   },
   "id": "d491290084e864e4"
  },
  {
   "cell_type": "code",
   "outputs": [],
   "source": [
    "right"
   ],
   "metadata": {
    "collapsed": false
   },
   "id": "1e31f39c933d5c97"
  },
  {
   "cell_type": "code",
   "outputs": [],
   "source": [
    "both"
   ],
   "metadata": {
    "collapsed": false
   },
   "id": "ad5a043f3ec1ab25"
  },
  {
   "cell_type": "code",
   "outputs": [],
   "source": [
    "left = pd.DataFrame({\"key\": [\"foo\", \"bar\"], \"lval\": [1, 2]})\n",
    "right = pd.DataFrame({\"key\": [\"foo\", \"bar\"], \"rval\": [4, 5]})\n",
    "both = pd.merge(left, right, on=\"key\")"
   ],
   "metadata": {
    "collapsed": false
   },
   "id": "3ef63f2f44dba627",
   "execution_count": null
  },
  {
   "cell_type": "code",
   "outputs": [],
   "source": [
    "left"
   ],
   "metadata": {
    "collapsed": false
   },
   "id": "339181f8f0efd6b4"
  },
  {
   "cell_type": "code",
   "outputs": [],
   "source": [
    "right"
   ],
   "metadata": {
    "collapsed": false
   },
   "id": "24abc934b9a6ca4f"
  },
  {
   "cell_type": "code",
   "outputs": [],
   "source": [
    "both"
   ],
   "metadata": {
    "collapsed": false
   },
   "id": "11eb8f7f24f6e2b4",
   "execution_count": null
  },
  {
   "cell_type": "markdown",
   "source": [
    "## Agrupar\n",
    "\n",
    "O processo de agrupar (*\"group by\"*) envolve os passos:\n",
    "- **Dividir** os dados em grupos de acordo com um critério \n",
    "- **Aplicar** a funçao de forma independente a cada grupo\n",
    "- **Combinar** os resultado numa estrutura de dados."
   ],
   "metadata": {
    "collapsed": false
   },
   "id": "922aca739045be24"
  },
  {
   "cell_type": "code",
   "outputs": [],
   "source": [
    "df = pd.DataFrame(\n",
    "    {\n",
    "        \"A\": [\"foo\", \"bar\", \"foo\", \"bar\", \"foo\", \"bar\", \"foo\", \"foo\"],\n",
    "        \"B\": [\"one\", \"one\", \"two\", \"three\", \"two\", \"two\", \"one\", \"three\"],\n",
    "        \"C\": np.random.randn(8),\n",
    "        \"D\": np.random.randn(8),\n",
    "    }\n",
    ")\n",
    "df"
   ],
   "metadata": {
    "collapsed": false
   },
   "id": "dc4f2d5917dc2a7c",
   "execution_count": null
  },
  {
   "cell_type": "markdown",
   "source": [
    "Agrupa pelos valores da coluna **A**, escolhe as colunas **B** e **C** e aplica a funçao ``DataFrameGroupBy.sum()`` aos grupos resultantes. "
   ],
   "metadata": {
    "collapsed": false
   },
   "id": "c6507da056bb45ab"
  },
  {
   "cell_type": "code",
   "outputs": [],
   "source": [
    "df.groupby(\"A\")[[\"C\", \"D\"]].sum()"
   ],
   "metadata": {
    "collapsed": false
   },
   "id": "1ab26b30d547cca9",
   "execution_count": null
  },
  {
   "cell_type": "markdown",
   "source": [
    "Agrupar por múltiplas colunas cria um ``MultiIndex``"
   ],
   "metadata": {
    "collapsed": false
   },
   "id": "e33e8258c7bf5c5"
  },
  {
   "cell_type": "code",
   "outputs": [],
   "source": [
    "df.groupby([\"A\", \"B\"]).sum()"
   ],
   "metadata": {
    "collapsed": false
   },
   "id": "aa789f9b6ec1cf92",
   "execution_count": null
  },
  {
   "cell_type": "markdown",
   "source": [
    "## Reshaping\n",
    "\n",
    "### Stack"
   ],
   "metadata": {
    "collapsed": false
   },
   "id": "962a80d16ad64e73"
  },
  {
   "cell_type": "code",
   "outputs": [],
   "source": [
    "arrays = [\n",
    "   [\"bar\", \"bar\", \"baz\", \"baz\", \"foo\", \"foo\", \"qux\", \"qux\"],\n",
    "   [\"one\", \"two\", \"one\", \"two\", \"one\", \"two\", \"one\", \"two\"],\n",
    "]\n",
    "index = pd.MultiIndex.from_arrays(arrays, names=[\"first\", \"second\"])\n",
    "df = pd.DataFrame(np.random.randn(8, 2), index=index, columns=[\"A\", \"B\"])\n"
   ],
   "metadata": {
    "collapsed": false
   },
   "id": "74e10bfb887e5aca",
   "execution_count": null
  },
  {
   "cell_type": "code",
   "outputs": [],
   "source": [
    "df"
   ],
   "metadata": {
    "collapsed": false
   },
   "id": "c0220326075f25b",
   "execution_count": null
  },
  {
   "cell_type": "markdown",
   "source": [
    "Cria um novo DataFrame com algumas linhas do original. "
   ],
   "metadata": {
    "collapsed": false
   },
   "id": "83c98699f82cab93"
  },
  {
   "cell_type": "code",
   "outputs": [],
   "source": [
    "df2 = df[:4]\n",
    "df2"
   ],
   "metadata": {
    "collapsed": false
   },
   "id": "f780876b107724e",
   "execution_count": null
  },
  {
   "cell_type": "markdown",
   "source": [
    "### Stack\n",
    "\n",
    "O método ``stack()`` comprime um nível nas colunas do DataFrame"
   ],
   "metadata": {
    "collapsed": false
   },
   "id": "7caa2f082ec9402"
  },
  {
   "cell_type": "code",
   "outputs": [],
   "source": [
    "stacked = df2.stack(future_stack=True)\n",
    "stacked"
   ],
   "metadata": {
    "collapsed": false
   },
   "id": "7ea7bdf6d248bb5",
   "execution_count": null
  },
  {
   "cell_type": "markdown",
   "source": [
    "É possível realizar a tarefa no sentido contrário com ``unstack()``"
   ],
   "metadata": {
    "collapsed": false
   },
   "id": "ffafe30a1dc84a3f"
  },
  {
   "cell_type": "code",
   "outputs": [],
   "source": [
    "unstacked = stacked.unstack()\n",
    "unstacked"
   ],
   "metadata": {
    "collapsed": false
   },
   "id": "46abb385993738f",
   "execution_count": null
  },
  {
   "cell_type": "code",
   "outputs": [],
   "source": [
    "unstacked_1 = stacked.unstack(1)\n",
    "unstacked_1"
   ],
   "metadata": {
    "collapsed": false
   },
   "id": "5dbc3882104ceb2",
   "execution_count": null
  },
  {
   "cell_type": "code",
   "outputs": [],
   "source": [
    "unstacked_0 = stacked.unstack(0)\n",
    "unstacked_0"
   ],
   "metadata": {
    "collapsed": false
   },
   "id": "f13aa3f56731e9b8",
   "execution_count": null
  },
  {
   "cell_type": "markdown",
   "source": [
    "## Tabelas Pivot\n"
   ],
   "metadata": {
    "collapsed": false
   },
   "id": "3e932e48153d6986"
  },
  {
   "cell_type": "code",
   "outputs": [],
   "source": [
    "df = pd.DataFrame(\n",
    "    {\n",
    "        \"A\": [\"one\", \"one\", \"two\", \"three\"] * 3,\n",
    "        \"B\": [\"A\", \"B\", \"C\"] * 4,\n",
    "        \"C\": [\"foo\", \"foo\", \"foo\", \"bar\", \"bar\", \"bar\"] * 2,\n",
    "        \"D\": np.random.randn(12),\n",
    "        \"E\": np.random.randn(12),\n",
    "    }\n",
    ")\n",
    "df"
   ],
   "metadata": {
    "collapsed": false
   },
   "id": "68ecfbe65042278e",
   "execution_count": null
  },
  {
   "cell_type": "code",
   "outputs": [],
   "source": [
    "pd.pivot_table(df, values=\"D\", index=[\"A\", \"B\"], columns=[\"C\"])"
   ],
   "metadata": {
    "collapsed": false
   },
   "id": "777e4d64560db5a8",
   "execution_count": null
  },
  {
   "cell_type": "markdown",
   "source": [
    "## Série temporal"
   ],
   "metadata": {
    "collapsed": false
   },
   "id": "3df043b3d6f9b2c2"
  },
  {
   "cell_type": "code",
   "outputs": [
    {
     "data": {
      "text/plain": "2012-01-01    24562\nFreq: 5min, dtype: int32"
     },
     "execution_count": 69,
     "metadata": {},
     "output_type": "execute_result"
    }
   ],
   "source": [
    "rng = pd.date_range(\"1/1/2012\", periods=100, freq=\"s\")\n",
    "ts = pd.Series(np.random.randint(0, 500, len(rng)), index=rng)\n",
    "ts.resample(\"5Min\").sum()"
   ],
   "metadata": {
    "collapsed": false,
    "ExecuteTime": {
     "end_time": "2024-03-16T15:59:06.636544500Z",
     "start_time": "2024-03-16T15:59:06.623585500Z"
    }
   },
   "id": "585dfceeaad501ae",
   "execution_count": 69
  },
  {
   "cell_type": "markdown",
   "source": [
    "Utilizar ``Series.tz_localize()`` permite localizar uma série temporal numa zona especifica."
   ],
   "metadata": {
    "collapsed": false
   },
   "id": "7ea26fd18d82e6dc"
  },
  {
   "cell_type": "code",
   "outputs": [
    {
     "data": {
      "text/plain": "2012-03-06   -0.669602\n2012-03-07    0.293725\n2012-03-08   -0.362240\n2012-03-09   -1.396275\n2012-03-10    0.472108\nFreq: D, dtype: float64"
     },
     "execution_count": 70,
     "metadata": {},
     "output_type": "execute_result"
    }
   ],
   "source": [
    "rng = pd.date_range(\"3/6/2012 00:00\", periods=5, freq=\"D\")\n",
    "ts = pd.Series(np.random.randn(len(rng)), rng)\n",
    "ts"
   ],
   "metadata": {
    "collapsed": false,
    "ExecuteTime": {
     "end_time": "2024-03-16T15:59:07.984395700Z",
     "start_time": "2024-03-16T15:59:07.972637600Z"
    }
   },
   "id": "41d61efe6ff8393f",
   "execution_count": 70
  },
  {
   "cell_type": "code",
   "outputs": [
    {
     "data": {
      "text/plain": "2012-03-06 00:00:00+00:00   -0.669602\n2012-03-07 00:00:00+00:00    0.293725\n2012-03-08 00:00:00+00:00   -0.362240\n2012-03-09 00:00:00+00:00   -1.396275\n2012-03-10 00:00:00+00:00    0.472108\nFreq: D, dtype: float64"
     },
     "execution_count": 71,
     "metadata": {},
     "output_type": "execute_result"
    }
   ],
   "source": [
    "ts_utc = ts.tz_localize(\"UTC\")\n",
    "ts_utc"
   ],
   "metadata": {
    "collapsed": false,
    "ExecuteTime": {
     "end_time": "2024-03-16T15:59:08.567197200Z",
     "start_time": "2024-03-16T15:59:08.543417300Z"
    }
   },
   "id": "54ec238c47f5a287",
   "execution_count": 71
  },
  {
   "cell_type": "markdown",
   "source": [
    "Já a funçao ``Series.tz_convert()`` permite mudar a time zone"
   ],
   "metadata": {
    "collapsed": false
   },
   "id": "ee28ae4b31dbf5df"
  },
  {
   "cell_type": "code",
   "outputs": [
    {
     "data": {
      "text/plain": "2012-03-05 19:00:00-05:00   -0.669602\n2012-03-06 19:00:00-05:00    0.293725\n2012-03-07 19:00:00-05:00   -0.362240\n2012-03-08 19:00:00-05:00   -1.396275\n2012-03-09 19:00:00-05:00    0.472108\nFreq: D, dtype: float64"
     },
     "execution_count": 72,
     "metadata": {},
     "output_type": "execute_result"
    }
   ],
   "source": [
    "ts_utc.tz_convert(\"US/Eastern\")"
   ],
   "metadata": {
    "collapsed": false,
    "ExecuteTime": {
     "end_time": "2024-03-16T15:59:10.205214400Z",
     "start_time": "2024-03-16T15:59:09.940777800Z"
    }
   },
   "id": "19a083116500c256",
   "execution_count": 72
  },
  {
   "cell_type": "markdown",
   "source": [
    "Podemos adicionar tipo de duração temporal *não fixa* usando ``BusinessDay``"
   ],
   "metadata": {
    "collapsed": false
   },
   "id": "5d115e2f95e0a7b9"
  },
  {
   "cell_type": "code",
   "outputs": [
    {
     "data": {
      "text/plain": "DatetimeIndex(['2012-03-06', '2012-03-07', '2012-03-08', '2012-03-09',\n               '2012-03-10'],\n              dtype='datetime64[ns]', freq='D')"
     },
     "execution_count": 73,
     "metadata": {},
     "output_type": "execute_result"
    }
   ],
   "source": [
    "rng"
   ],
   "metadata": {
    "collapsed": false,
    "ExecuteTime": {
     "end_time": "2024-03-16T16:00:46.867758800Z",
     "start_time": "2024-03-16T16:00:46.854254700Z"
    }
   },
   "id": "f59a0d9809b14228",
   "execution_count": 73
  },
  {
   "cell_type": "code",
   "outputs": [
    {
     "data": {
      "text/plain": "DatetimeIndex(['2012-03-13', '2012-03-14', '2012-03-15', '2012-03-16',\n               '2012-03-16'],\n              dtype='datetime64[ns]', freq=None)"
     },
     "execution_count": 74,
     "metadata": {},
     "output_type": "execute_result"
    }
   ],
   "source": [
    "rng + pd.offsets.BusinessDay(5)"
   ],
   "metadata": {
    "collapsed": false,
    "ExecuteTime": {
     "end_time": "2024-03-16T16:00:47.458570700Z",
     "start_time": "2024-03-16T16:00:47.391647100Z"
    }
   },
   "id": "1fd5e47a0bbb71f6",
   "execution_count": 74
  },
  {
   "cell_type": "markdown",
   "source": [
    "## Categorias (Categorical)\n",
    "\n",
    "O **pandas** pode incluir dados com categorias num ``DataFrame`` "
   ],
   "metadata": {
    "collapsed": false
   },
   "id": "52f41a66f7d28990"
  },
  {
   "cell_type": "code",
   "outputs": [
    {
     "data": {
      "text/plain": "   id raw_grade\n0   1         a\n1   2         b\n2   3         b\n3   4         a\n4   5         a\n5   6         e",
      "text/html": "<div>\n<style scoped>\n    .dataframe tbody tr th:only-of-type {\n        vertical-align: middle;\n    }\n\n    .dataframe tbody tr th {\n        vertical-align: top;\n    }\n\n    .dataframe thead th {\n        text-align: right;\n    }\n</style>\n<table border=\"1\" class=\"dataframe\">\n  <thead>\n    <tr style=\"text-align: right;\">\n      <th></th>\n      <th>id</th>\n      <th>raw_grade</th>\n    </tr>\n  </thead>\n  <tbody>\n    <tr>\n      <th>0</th>\n      <td>1</td>\n      <td>a</td>\n    </tr>\n    <tr>\n      <th>1</th>\n      <td>2</td>\n      <td>b</td>\n    </tr>\n    <tr>\n      <th>2</th>\n      <td>3</td>\n      <td>b</td>\n    </tr>\n    <tr>\n      <th>3</th>\n      <td>4</td>\n      <td>a</td>\n    </tr>\n    <tr>\n      <th>4</th>\n      <td>5</td>\n      <td>a</td>\n    </tr>\n    <tr>\n      <th>5</th>\n      <td>6</td>\n      <td>e</td>\n    </tr>\n  </tbody>\n</table>\n</div>"
     },
     "execution_count": 76,
     "metadata": {},
     "output_type": "execute_result"
    }
   ],
   "source": [
    "df = pd.DataFrame(\n",
    "    {\"id\": [1, 2, 3, 4, 5, 6], \"raw_grade\": [\"a\", \"b\", \"b\", \"a\", \"a\", \"e\"]}\n",
    ")\n",
    "df"
   ],
   "metadata": {
    "collapsed": false,
    "ExecuteTime": {
     "end_time": "2024-03-16T16:03:02.825575400Z",
     "start_time": "2024-03-16T16:03:02.811173400Z"
    }
   },
   "id": "4c090302e54a16d8",
   "execution_count": 76
  },
  {
   "cell_type": "markdown",
   "source": [
    "Converter valores em bruto para categorias "
   ],
   "metadata": {
    "collapsed": false
   },
   "id": "e4bda765e4c80755"
  },
  {
   "cell_type": "code",
   "outputs": [
    {
     "data": {
      "text/plain": "0    a\n1    b\n2    b\n3    a\n4    a\n5    e\nName: grade, dtype: category\nCategories (3, object): ['a', 'b', 'e']"
     },
     "execution_count": 77,
     "metadata": {},
     "output_type": "execute_result"
    }
   ],
   "source": [
    "df[\"grade\"] = df[\"raw_grade\"].astype(\"category\")\n",
    "df[\"grade\"]"
   ],
   "metadata": {
    "collapsed": false,
    "ExecuteTime": {
     "end_time": "2024-03-16T16:03:04.278492900Z",
     "start_time": "2024-03-16T16:03:04.244495500Z"
    }
   },
   "id": "8b30d6b1845eb567",
   "execution_count": 77
  },
  {
   "cell_type": "markdown",
   "source": [
    "Converter as categorias para nome mais significativos"
   ],
   "metadata": {
    "collapsed": false
   },
   "id": "e6f000333de50b22"
  },
  {
   "cell_type": "code",
   "outputs": [
    {
     "data": {
      "text/plain": "   id raw_grade      grade\n0   1         a  very good\n1   2         b       good\n2   3         b       good\n3   4         a  very good\n4   5         a  very good\n5   6         e   very bad",
      "text/html": "<div>\n<style scoped>\n    .dataframe tbody tr th:only-of-type {\n        vertical-align: middle;\n    }\n\n    .dataframe tbody tr th {\n        vertical-align: top;\n    }\n\n    .dataframe thead th {\n        text-align: right;\n    }\n</style>\n<table border=\"1\" class=\"dataframe\">\n  <thead>\n    <tr style=\"text-align: right;\">\n      <th></th>\n      <th>id</th>\n      <th>raw_grade</th>\n      <th>grade</th>\n    </tr>\n  </thead>\n  <tbody>\n    <tr>\n      <th>0</th>\n      <td>1</td>\n      <td>a</td>\n      <td>very good</td>\n    </tr>\n    <tr>\n      <th>1</th>\n      <td>2</td>\n      <td>b</td>\n      <td>good</td>\n    </tr>\n    <tr>\n      <th>2</th>\n      <td>3</td>\n      <td>b</td>\n      <td>good</td>\n    </tr>\n    <tr>\n      <th>3</th>\n      <td>4</td>\n      <td>a</td>\n      <td>very good</td>\n    </tr>\n    <tr>\n      <th>4</th>\n      <td>5</td>\n      <td>a</td>\n      <td>very good</td>\n    </tr>\n    <tr>\n      <th>5</th>\n      <td>6</td>\n      <td>e</td>\n      <td>very bad</td>\n    </tr>\n  </tbody>\n</table>\n</div>"
     },
     "execution_count": 79,
     "metadata": {},
     "output_type": "execute_result"
    }
   ],
   "source": [
    "new_categories = [\"very good\", \"good\", \"very bad\"]\n",
    "df[\"grade\"] = df[\"grade\"].cat.rename_categories(new_categories)\n",
    "df"
   ],
   "metadata": {
    "collapsed": false,
    "ExecuteTime": {
     "end_time": "2024-03-16T16:03:50.285271200Z",
     "start_time": "2024-03-16T16:03:50.268661800Z"
    }
   },
   "id": "33aa783c8454fa00",
   "execution_count": 79
  },
  {
   "cell_type": "markdown",
   "source": [
    "Reordenar as categorias e em simultâneo addicionar as categorias em falta.\n",
    "Métodos que estejam sobre ``Serioes.cat()`` retornam normalmente uma nova ``Series``"
   ],
   "metadata": {
    "collapsed": false
   },
   "id": "b2984fec471adad9"
  },
  {
   "cell_type": "code",
   "outputs": [
    {
     "data": {
      "text/plain": "0    very good\n1         good\n2         good\n3    very good\n4    very good\n5     very bad\nName: grade, dtype: category\nCategories (5, object): ['very bad', 'bad', 'medium', 'good', 'very good']"
     },
     "execution_count": 80,
     "metadata": {},
     "output_type": "execute_result"
    }
   ],
   "source": [
    "df[\"grade\"] = df[\"grade\"].cat.set_categories(\n",
    "    [\"very bad\", \"bad\", \"medium\", \"good\", \"very good\"]\n",
    ")\n",
    "df[\"grade\"]"
   ],
   "metadata": {
    "collapsed": false,
    "ExecuteTime": {
     "end_time": "2024-03-16T16:05:22.667991300Z",
     "start_time": "2024-03-16T16:05:22.616868Z"
    }
   },
   "id": "fefea2d21b6c7e06",
   "execution_count": 80
  },
  {
   "cell_type": "markdown",
   "source": [
    "A ordenação é por ordem nas categorias"
   ],
   "metadata": {
    "collapsed": false
   },
   "id": "383c817e913b780a"
  },
  {
   "cell_type": "code",
   "outputs": [],
   "source": [
    "df.sort_values(by=\"grade\")"
   ],
   "metadata": {
    "collapsed": false
   },
   "id": "f1f3ff5bbcd75aef"
  },
  {
   "cell_type": "markdown",
   "source": [
    "Agrupar por uma coluna de categorias com ``observed=False`` também apresenta as categorias vazias"
   ],
   "metadata": {
    "collapsed": false
   },
   "id": "adafde868cc96ffc"
  },
  {
   "cell_type": "code",
   "outputs": [],
   "source": [
    "df.groupby(\"grade\", observed=False).size()"
   ],
   "metadata": {
    "collapsed": false
   },
   "id": "497bb0581270aea1"
  },
  {
   "cell_type": "markdown",
   "source": [
    "## Gráficos\n",
    "\n",
    "O método ``close()`` é utilizado para fechar uma janela de \"imagem\".\n",
    "No jupyter, o gráfico é apresentado quando se invoca ``plot()``, noutras situações é necessário utiliar ``show()``."
   ],
   "metadata": {
    "collapsed": false
   },
   "id": "a6864cbd6dfdb813"
  },
  {
   "cell_type": "code",
   "outputs": [],
   "source": [
    "plt.close(\"all\")"
   ],
   "metadata": {
    "collapsed": false,
    "ExecuteTime": {
     "end_time": "2024-03-16T16:19:31.941641500Z",
     "start_time": "2024-03-16T16:19:31.928606600Z"
    }
   },
   "id": "da644eda3e9bbc27",
   "execution_count": 85
  },
  {
   "cell_type": "code",
   "outputs": [
    {
     "data": {
      "text/plain": "<Figure size 640x480 with 1 Axes>",
      "image/png": "[encoded data removed]"
     },
     "metadata": {},
     "output_type": "display_data"
    }
   ],
   "source": [
    "ts = pd.Series(np.random.randn(1000), index=pd.date_range(\"1/1/2000\", periods=1000))\n",
    "ts = ts.cumsum()\n",
    "ts.plot();"
   ],
   "metadata": {
    "collapsed": false,
    "ExecuteTime": {
     "end_time": "2024-03-16T16:19:28.504881800Z",
     "start_time": "2024-03-16T16:19:27.942249100Z"
    }
   },
   "id": "5be42b352e633e68",
   "execution_count": 84
  },
  {
   "cell_type": "markdown",
   "source": [
    "``plot()`` desenhas todas as colunas:"
   ],
   "metadata": {
    "collapsed": false
   },
   "id": "53b78a924ff7e141"
  },
  {
   "cell_type": "code",
   "outputs": [
    {
     "data": {
      "text/plain": "<matplotlib.legend.Legend at 0x20bb54304d0>"
     },
     "execution_count": 90,
     "metadata": {},
     "output_type": "execute_result"
    },
    {
     "data": {
      "text/plain": "<Figure size 640x480 with 0 Axes>"
     },
     "metadata": {},
     "output_type": "display_data"
    },
    {
     "data": {
      "text/plain": "<Figure size 640x480 with 1 Axes>",
      "image/png": "[encoded data removed]"
     },
     "metadata": {},
     "output_type": "display_data"
    }
   ],
   "source": [
    "df = pd.DataFrame(\n",
    "    np.random.randn(1000, 4), index=ts.index, columns=[\"A\", \"B\", \"C\", \"D\"]\n",
    ")\n",
    "df = df.cumsum()\n",
    "plt.figure();\n",
    "df.plot();\n",
    "plt.legend(loc='best');"
   ],
   "metadata": {
    "collapsed": false,
    "ExecuteTime": {
     "end_time": "2024-03-16T16:23:12.065151200Z",
     "start_time": "2024-03-16T16:23:11.848780400Z"
    }
   },
   "id": "f8501fea158863cf",
   "execution_count": 90
  },
  {
   "cell_type": "markdown",
   "source": [
    "## Importar e exportar dados\n",
    "\n",
    "### Gravar em CSV "
   ],
   "metadata": {
    "collapsed": false
   },
   "id": "4e25b322d32e5e6c"
  },
  {
   "cell_type": "code",
   "outputs": [],
   "source": [
    "f = pd.DataFrame(np.random.randint(0, 5, (10, 5)))\n",
    "df.to_csv(\"foo.csv\")"
   ],
   "metadata": {
    "collapsed": false
   },
   "id": "5c0cbdd596cb0e86"
  },
  {
   "cell_type": "markdown",
   "source": [
    "### Ler de CSV"
   ],
   "metadata": {
    "collapsed": false
   },
   "id": "ad4e417d28669e"
  },
  {
   "cell_type": "code",
   "outputs": [],
   "source": [
    "pd.read_csv(\"foo.csv\")"
   ],
   "metadata": {
    "collapsed": false
   },
   "id": "8ad474de2d35dfba"
  },
  {
   "cell_type": "markdown",
   "source": [
    "### Escrever para ficheiro *Parquet*"
   ],
   "metadata": {
    "collapsed": false
   },
   "id": "294e396ffb64ea36"
  },
  {
   "cell_type": "code",
   "outputs": [],
   "source": [
    "df.to_parquet(\"foo.parquet\")"
   ],
   "metadata": {
    "collapsed": false
   },
   "id": "90e7cea70070a628"
  },
  {
   "cell_type": "markdown",
   "source": [
    "### Ler de ficheiro *Parquet* "
   ],
   "metadata": {
    "collapsed": false
   },
   "id": "a3530ec91ff43714"
  },
  {
   "cell_type": "code",
   "outputs": [],
   "source": [
    "pd.read_parquet(\"foo.parquet\")"
   ],
   "metadata": {
    "collapsed": false
   },
   "id": "7a7243c5db3b83e8"
  },
  {
   "cell_type": "markdown",
   "source": [
    "### Escrever para Excel"
   ],
   "metadata": {
    "collapsed": false
   },
   "id": "186b60deff6cf9d2"
  },
  {
   "cell_type": "code",
   "outputs": [],
   "source": [
    "df.to_excel(\"foo.xlsx\", sheet_name=\"Sheet1\")"
   ],
   "metadata": {
    "collapsed": false
   },
   "id": "f872ab228ae179f1"
  },
  {
   "cell_type": "markdown",
   "source": [
    "### Ler de Excel"
   ],
   "metadata": {
    "collapsed": false
   },
   "id": "9e59576ffb860d8f"
  },
  {
   "cell_type": "code",
   "outputs": [],
   "source": [
    "pd.read_excel(\"foo.xlsx\", \"Sheet1\", index_col=None, na_values=[\"NA\"])"
   ],
   "metadata": {
    "collapsed": false
   },
   "id": "f8b84eabdf6f06c2"
  }
 ],
 "metadata": {
  "kernelspec": {
   "display_name": "Python 3",
   "language": "python",
   "name": "python3"
  },
  "language_info": {
   "codemirror_mode": {
    "name": "ipython",
    "version": 2
   },
   "file_extension": ".py",
   "mimetype": "text/x-python",
   "name": "python",
   "nbconvert_exporter": "python",
   "pygments_lexer": "ipython2",
   "version": "2.7.6"
  }
 },
 "nbformat": 4,
 "nbformat_minor": 5
}
