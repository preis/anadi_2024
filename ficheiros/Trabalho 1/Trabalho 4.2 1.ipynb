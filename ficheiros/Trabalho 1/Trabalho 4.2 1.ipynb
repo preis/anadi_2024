{
 "cells": [
  {
   "cell_type": "markdown",
   "source": [
    "# 4.2\n",
    "## 1.\n",
    "### Imports"
   ],
   "metadata": {
    "collapsed": false
   },
   "id": "ec06f358ace34aca"
  },
  {
   "cell_type": "code",
   "outputs": [],
   "source": [
    "import pandas as pd\n",
    "import scipy.stats as stats\n",
    "import matplotlib.pyplot as plt"
   ],
   "metadata": {
    "collapsed": false,
    "is_executing": true
   },
   "id": "d7a5fa0b43c5c699",
   "execution_count": null
  },
  {
   "cell_type": "markdown",
   "source": [
    "# Obter série de anos"
   ],
   "metadata": {
    "collapsed": false
   },
   "id": "daf9cd70211f158c"
  },
  {
   "cell_type": "code",
   "execution_count": null,
   "id": "initial_id",
   "metadata": {
    "collapsed": true,
    "is_executing": true
   },
   "outputs": [],
   "source": [
    "seed_value = 100\n",
    "years = pd.Series([i for i in range(1900, 2021)])\n",
    "sampleyears1 = years.sample(n=30, replace=False, random_state=seed_value)"
   ]
  },
  {
   "cell_type": "markdown",
   "source": [
    "# Ler os dados"
   ],
   "metadata": {
    "collapsed": false
   },
   "id": "8aa7f67b3cae872a"
  },
  {
   "cell_type": "code",
   "outputs": [],
   "source": [
    "dados_lidos = pd.read_csv(\"CO_data.csv\")"
   ],
   "metadata": {
    "collapsed": false,
    "is_executing": true
   },
   "id": "7bbd12090a1b203d",
   "execution_count": null
  },
  {
   "cell_type": "markdown",
   "source": [
    "# Obter dados dos anos pretendidos para Portugal e Hungria"
   ],
   "metadata": {
    "collapsed": false
   },
   "id": "6fa676a1815af4d9"
  },
  {
   "cell_type": "code",
   "outputs": [],
   "source": [
    "# Definição das condições de filtragem.\n",
    "condicao_anos = dados_lidos.year.isin(list(sampleyears1))\n",
    "condicao_PT = dados_lidos.country == \"Portugal\"\n",
    "condicao_HU = dados_lidos.country == \"Hungary\"\n",
    "\n",
    "# Extrair dos dados lidos, os dados de trabalho de acordo com as condições de filtro.\n",
    "dados_PT = dados_lidos.loc[condicao_PT & condicao_anos, [\"year\", \"gdp\"]]\n",
    "dados_HU = dados_lidos.loc[condicao_HU & condicao_anos, [\"year\", \"gdp\"]]"
   ],
   "metadata": {
    "collapsed": false,
    "is_executing": true
   },
   "id": "ed840876c89ed4e2",
   "execution_count": null
  },
  {
   "cell_type": "markdown",
   "source": [
    "## Tratar dos NaN\n",
    "\n",
    "Optámos por remover."
   ],
   "metadata": {
    "collapsed": false
   },
   "id": "f1aa7d13e142db36"
  },
  {
   "cell_type": "code",
   "outputs": [],
   "source": [
    "dados_PT_na = dados_PT.dropna()\n",
    "dados_HU_na = dados_HU.dropna()"
   ],
   "metadata": {
    "collapsed": false,
    "is_executing": true
   },
   "id": "8ece8abb568989cf",
   "execution_count": null
  },
  {
   "cell_type": "markdown",
   "source": [
    "# Gráficos dos dados"
   ],
   "metadata": {
    "collapsed": false
   },
   "id": "f8e20965d55c3ea0"
  },
  {
   "cell_type": "code",
   "outputs": [],
   "source": [
    "plt.scatter(dados_PT_na[\"year\"], dados_PT_na[\"gdp\"])"
   ],
   "metadata": {
    "collapsed": false,
    "is_executing": true
   },
   "id": "315a61b568336b4e",
   "execution_count": null
  },
  {
   "cell_type": "code",
   "outputs": [],
   "source": [
    "plt.scatter(dados_HU_na[\"year\"], dados_HU_na[\"gdp\"])"
   ],
   "metadata": {
    "collapsed": false,
    "is_executing": true
   },
   "id": "9ee3763b037917e",
   "execution_count": null
  },
  {
   "cell_type": "markdown",
   "source": [
    "# Cálcular a média amostral"
   ],
   "metadata": {
    "collapsed": false
   },
   "id": "336193f9e4cd4c19"
  },
  {
   "cell_type": "code",
   "outputs": [],
   "source": [
    "# Média amostral de Portugal.\n",
    "media_PT = dados_PT[\"gdp\"].mean(axis=0)\n",
    "print(f\"Média amostral de Portugal: {media_PT:.4e}\")\n",
    "\n",
    "# Média amostral da Hungria.\n",
    "media_HU = dados_HU[\"gdp\"].mean(axis=0)\n",
    "print(f\"Média amostral da Hungria: {media_HU:.4e}\")"
   ],
   "metadata": {
    "collapsed": false,
    "is_executing": true
   },
   "id": "d5bad3a67283b172",
   "execution_count": null
  },
  {
   "cell_type": "markdown",
   "source": [
    "# Calcular a variância"
   ],
   "metadata": {
    "collapsed": false
   },
   "id": "487b799295dd0907"
  },
  {
   "cell_type": "code",
   "outputs": [],
   "source": [
    "variancia_PT = dados_PT[\"gdp\"].var(axis=0)\n",
    "print(f\"Variância para os dados de Portugal: {variancia_PT:.3e}\")\n",
    "variancia_HU = dados_HU[\"gdp\"].var(axis=0)\n",
    "print(f\"Variância para os dados de Hungria: {variancia_HU:.3e}\")"
   ],
   "metadata": {
    "collapsed": false,
    "is_executing": true
   },
   "id": "99ad6c1b87651283",
   "execution_count": null
  },
  {
   "cell_type": "markdown",
   "source": [
    "# Normalidade\n",
    "\n",
    "Este teste pode ser dispensado porque a amostra é de 30 valores, que é o limite para a utilização do teste *t-student*. "
   ],
   "metadata": {
    "collapsed": false
   },
   "id": "af90d05171b0d518"
  },
  {
   "cell_type": "code",
   "outputs": [],
   "source": [
    "statval_PT, p_value_PT = stats.normaltest(dados_PT[\"gdp\"],  nan_policy=\"omit\")\n",
    "print(f\"Portugal - pvalue: {p_value_PT:.3}\")\n",
    "\n",
    "statval_HU, p_value_HU = stats.normaltest(dados_HU[\"gdp\"], nan_policy=\"omit\")\n",
    "print(f\"Hungria - pvalue: {p_value_HU:.3}\")\n"
   ],
   "metadata": {
    "collapsed": false,
    "is_executing": true
   },
   "id": "65cc8c83ff7677c9",
   "execution_count": null
  },
  {
   "cell_type": "markdown",
   "source": [
    "Como o *p-value* de Portugal é inferior a 5% os dados não seguem distribuição normal.\n",
    "Como o *p-value* da Hungria é superior a 5% os dados seguem distribuição normal. "
   ],
   "metadata": {
    "collapsed": false
   },
   "id": "d55d641e11750afa"
  },
  {
   "cell_type": "markdown",
   "source": [
    "# Teste\n",
    "Utilizaçao de *t-student* à média, para amostras emparelhadas (dizem respeito aos mesmos anos).\n",
    "\n",
    "## Hipotese\n",
    "\n",
    "$$H_0: \\bar X_{PT} \\geq \\bar X_{HU} \\quad Vs \\quad H_0: \\bar X_{PT} < \\bar X_{HU}$$"
   ],
   "metadata": {
    "collapsed": false
   },
   "id": "61da15788345a65d"
  },
  {
   "cell_type": "code",
   "outputs": [],
   "source": [
    "resultado = stats.ttest_rel(dados_PT[\"gdp\"], dados_HU[\"gdp\"], nan_policy=\"omit\", alternative=\"greater\")\n",
    "print(f\"O valor de pvalue é {resultado.pvalue:.4f}\")"
   ],
   "metadata": {
    "collapsed": false,
    "is_executing": true
   },
   "id": "bcb333c50499c2d6",
   "execution_count": null
  },
  {
   "cell_type": "markdown",
   "source": [
    "Como o valor do *p-value* é inferior a 0,05 rejeitamos a hipotese de que a média do GDP de Portugal é superior à média da Hungria."
   ],
   "metadata": {
    "collapsed": false
   },
   "id": "47b269b9260798f6"
  }
 ],
 "metadata": {
  "kernelspec": {
   "display_name": "Python 3",
   "language": "python",
   "name": "python3"
  },
  "language_info": {
   "codemirror_mode": {
    "name": "ipython",
    "version": 2
   },
   "file_extension": ".py",
   "mimetype": "text/x-python",
   "name": "python",
   "nbconvert_exporter": "python",
   "pygments_lexer": "ipython2",
   "version": "2.7.6"
  }
 },
 "nbformat": 4,
 "nbformat_minor": 5
}
