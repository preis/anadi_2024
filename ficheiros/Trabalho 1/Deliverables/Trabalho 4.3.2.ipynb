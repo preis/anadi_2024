{
 "cells": [
  {
   "cell_type": "markdown",
   "source": [
    "# 4.3\n",
    "## 1.\n",
    "### Imports"
   ],
   "metadata": {
    "collapsed": false
   },
   "id": "ec06f358ace34aca"
  },
  {
   "cell_type": "code",
   "outputs": [],
   "source": [
    "import matplotlib.pyplot as plt\n",
    "import pandas as pd\n",
    "import numpy as np\n",
    "import scipy.stats as stats\n",
    "import statsmodels.api as sm\n",
    "from statsmodels.stats.outliers_influence import variance_inflation_factor\n",
    "from statsmodels.stats.stattools import durbin_watson"
   ],
   "metadata": {
    "collapsed": false,
    "ExecuteTime": {
     "end_time": "2024-04-06T15:19:34.849767Z",
     "start_time": "2024-04-06T15:19:34.846649Z"
    }
   },
   "id": "d7a5fa0b43c5c699",
   "execution_count": 48
  },
  {
   "cell_type": "markdown",
   "source": [
    "### Ler os dados"
   ],
   "metadata": {
    "collapsed": false
   },
   "id": "8aa7f67b3cae872a"
  },
  {
   "cell_type": "code",
   "outputs": [],
   "source": [
    "dados_lidos = pd.read_csv(\"CO_data.csv\")"
   ],
   "metadata": {
    "collapsed": false,
    "ExecuteTime": {
     "end_time": "2024-04-06T15:19:34.911011Z",
     "start_time": "2024-04-06T15:19:34.886256Z"
    }
   },
   "id": "7bbd12090a1b203d",
   "execution_count": 49
  },
  {
   "cell_type": "markdown",
   "source": [
    "### Variáveis"
   ],
   "metadata": {
    "collapsed": false
   },
   "id": "e29f0d9e7d1b500e"
  },
  {
   "cell_type": "code",
   "outputs": [],
   "source": [
    "# Listas de paises e anos\n",
    "areas_geo = [\"Europe\", \"France\", \"Germany\", \"Portugal\", \"Russia\"]\n",
    "anos = list(range(2000, 2022))[::2]\n",
    "\n",
    "# Definição das condições de filtragem.\n",
    "condicao_anos = dados_lidos[\"year\"].isin(anos)"
   ],
   "metadata": {
    "collapsed": false,
    "ExecuteTime": {
     "end_time": "2024-04-06T15:19:34.915454Z",
     "start_time": "2024-04-06T15:19:34.912017Z"
    }
   },
   "id": "84aaa3cf60d30818",
   "execution_count": 50
  },
  {
   "cell_type": "markdown",
   "source": [
    "### Obter dados dos anos pretendidos para as áreas geográficas em estudo."
   ],
   "metadata": {
    "collapsed": false
   },
   "id": "6fa676a1815af4d9"
  },
  {
   "cell_type": "code",
   "outputs": [],
   "source": [
    "dados_areas_geo = {}\n",
    "\n",
    "for area_geo in areas_geo:\n",
    "    condicao_area_geo = dados_lidos.country == area_geo\n",
    "    dados_areas_geo[area_geo] = list(dados_lidos.loc[condicao_anos & condicao_area_geo, [\"co2\"]][\"co2\"])\n",
    "\n",
    "dados_trabalho = pd.DataFrame(dados_areas_geo)\n",
    "dados_trabalho.insert(0, \"year\", anos)"
   ],
   "metadata": {
    "collapsed": false,
    "ExecuteTime": {
     "end_time": "2024-04-06T15:19:34.928586Z",
     "start_time": "2024-04-06T15:19:34.916463Z"
    }
   },
   "id": "ed840876c89ed4e2",
   "execution_count": 51
  },
  {
   "cell_type": "code",
   "outputs": [
    {
     "data": {
      "text/plain": "    year    Europe   France  Germany  Portugal    Russia\n0   2000  6158.767  406.829  899.352    65.686  1478.185\n1   2002  6254.075  407.790  899.450    69.643  1505.520\n2   2004  6431.065  413.780  886.637    67.385  1541.754\n3   2006  6520.084  406.462  877.939    64.924  1618.246\n4   2008  6402.666  390.778  854.508    60.107  1646.969\n5   2010  6118.725  376.645  832.541    53.001  1626.188\n6   2012  5994.340  356.913  813.693    49.960  1694.576\n7   2014  5604.730  327.107  792.255    47.946  1631.662\n8   2016  5598.924  334.440  800.340    50.442  1624.756\n9   2018  5603.844  322.527  754.408    51.459  1700.453\n10  2020  5010.947  280.032  639.381    41.800  1624.221",
      "text/html": "<div>\n<style scoped>\n    .dataframe tbody tr th:only-of-type {\n        vertical-align: middle;\n    }\n\n    .dataframe tbody tr th {\n        vertical-align: top;\n    }\n\n    .dataframe thead th {\n        text-align: right;\n    }\n</style>\n<table border=\"1\" class=\"dataframe\">\n  <thead>\n    <tr style=\"text-align: right;\">\n      <th></th>\n      <th>year</th>\n      <th>Europe</th>\n      <th>France</th>\n      <th>Germany</th>\n      <th>Portugal</th>\n      <th>Russia</th>\n    </tr>\n  </thead>\n  <tbody>\n    <tr>\n      <th>0</th>\n      <td>2000</td>\n      <td>6158.767</td>\n      <td>406.829</td>\n      <td>899.352</td>\n      <td>65.686</td>\n      <td>1478.185</td>\n    </tr>\n    <tr>\n      <th>1</th>\n      <td>2002</td>\n      <td>6254.075</td>\n      <td>407.790</td>\n      <td>899.450</td>\n      <td>69.643</td>\n      <td>1505.520</td>\n    </tr>\n    <tr>\n      <th>2</th>\n      <td>2004</td>\n      <td>6431.065</td>\n      <td>413.780</td>\n      <td>886.637</td>\n      <td>67.385</td>\n      <td>1541.754</td>\n    </tr>\n    <tr>\n      <th>3</th>\n      <td>2006</td>\n      <td>6520.084</td>\n      <td>406.462</td>\n      <td>877.939</td>\n      <td>64.924</td>\n      <td>1618.246</td>\n    </tr>\n    <tr>\n      <th>4</th>\n      <td>2008</td>\n      <td>6402.666</td>\n      <td>390.778</td>\n      <td>854.508</td>\n      <td>60.107</td>\n      <td>1646.969</td>\n    </tr>\n    <tr>\n      <th>5</th>\n      <td>2010</td>\n      <td>6118.725</td>\n      <td>376.645</td>\n      <td>832.541</td>\n      <td>53.001</td>\n      <td>1626.188</td>\n    </tr>\n    <tr>\n      <th>6</th>\n      <td>2012</td>\n      <td>5994.340</td>\n      <td>356.913</td>\n      <td>813.693</td>\n      <td>49.960</td>\n      <td>1694.576</td>\n    </tr>\n    <tr>\n      <th>7</th>\n      <td>2014</td>\n      <td>5604.730</td>\n      <td>327.107</td>\n      <td>792.255</td>\n      <td>47.946</td>\n      <td>1631.662</td>\n    </tr>\n    <tr>\n      <th>8</th>\n      <td>2016</td>\n      <td>5598.924</td>\n      <td>334.440</td>\n      <td>800.340</td>\n      <td>50.442</td>\n      <td>1624.756</td>\n    </tr>\n    <tr>\n      <th>9</th>\n      <td>2018</td>\n      <td>5603.844</td>\n      <td>322.527</td>\n      <td>754.408</td>\n      <td>51.459</td>\n      <td>1700.453</td>\n    </tr>\n    <tr>\n      <th>10</th>\n      <td>2020</td>\n      <td>5010.947</td>\n      <td>280.032</td>\n      <td>639.381</td>\n      <td>41.800</td>\n      <td>1624.221</td>\n    </tr>\n  </tbody>\n</table>\n</div>"
     },
     "execution_count": 52,
     "metadata": {},
     "output_type": "execute_result"
    }
   ],
   "source": [
    "# Espreitar os dados filtrados\n",
    "dados_trabalho"
   ],
   "metadata": {
    "collapsed": false,
    "ExecuteTime": {
     "end_time": "2024-04-06T15:19:34.936683Z",
     "start_time": "2024-04-06T15:19:34.929591Z"
    }
   },
   "id": "14b309c2069672d8",
   "execution_count": 52
  },
  {
   "cell_type": "markdown",
   "source": [
    "### a)\n",
    "\n",
    "Em **Y** temos a variável dependente, que são os valores da Europa (\"Europe\").\n",
    "Para **X** teremos o dataset das variáveis independente.\n",
    "Depois é aplicar o algoritmo OLS. \n"
   ],
   "metadata": {
    "collapsed": false
   },
   "id": "fef22a8e9c7258f4"
  },
  {
   "cell_type": "code",
   "outputs": [
    {
     "name": "stdout",
     "output_type": "stream",
     "text": [
      "const      -1653.372466\n",
      "France        12.748025\n",
      "Germany       -0.583607\n",
      "Portugal       1.277526\n",
      "Russia         2.095967\n",
      "dtype: float64\n"
     ]
    }
   ],
   "source": [
    "X = dados_trabalho[areas_geo[1:]]\n",
    "Xc = sm.add_constant(X)\n",
    "Y = dados_trabalho[\"Europe\"]\n",
    "modelo = sm.OLS(Y, Xc)\n",
    "resultado = modelo.fit()\n",
    "parametros = resultado.params\n",
    "\n",
    "print(parametros)"
   ],
   "metadata": {
    "collapsed": false,
    "ExecuteTime": {
     "end_time": "2024-04-06T15:19:34.942739Z",
     "start_time": "2024-04-06T15:19:34.936683Z"
    }
   },
   "id": "30ded34acccd2fef",
   "execution_count": 53
  },
  {
   "cell_type": "markdown",
   "source": [
    "#### Sumário do resultado do ajustamento dos resultados "
   ],
   "metadata": {
    "collapsed": false
   },
   "id": "88f27ab7e56b08d5"
  },
  {
   "cell_type": "code",
   "outputs": [
    {
     "name": "stdout",
     "output_type": "stream",
     "text": [
      "                            OLS Regression Results                            \n",
      "==============================================================================\n",
      "Dep. Variable:                 Europe   R-squared:                       0.994\n",
      "Model:                            OLS   Adj. R-squared:                  0.990\n",
      "Method:                 Least Squares   F-statistic:                     243.1\n",
      "Date:                Sat, 06 Apr 2024   Prob (F-statistic):           9.18e-07\n",
      "Time:                        16:19:34   Log-Likelihood:                -54.638\n",
      "No. Observations:                  11   AIC:                             119.3\n",
      "Df Residuals:                       6   BIC:                             121.3\n",
      "Df Model:                           4                                         \n",
      "Covariance Type:            nonrobust                                         \n",
      "==============================================================================\n",
      "                 coef    std err          t      P>|t|      [0.025      0.975]\n",
      "------------------------------------------------------------------------------\n",
      "const      -1653.3725    596.997     -2.769      0.032   -3114.171    -192.574\n",
      "France        12.7480      1.633      7.807      0.000       8.753      16.743\n",
      "Germany       -0.5836      0.711     -0.821      0.443      -2.323       1.155\n",
      "Portugal       1.2775      5.573      0.229      0.826     -12.358      14.913\n",
      "Russia         2.0960      0.307      6.820      0.000       1.344       2.848\n",
      "==============================================================================\n",
      "Omnibus:                        0.933   Durbin-Watson:                   2.216\n",
      "Prob(Omnibus):                  0.627   Jarque-Bera (JB):                0.761\n",
      "Skew:                           0.523   Prob(JB):                        0.683\n",
      "Kurtosis:                       2.247   Cond. No.                     7.76e+04\n",
      "==============================================================================\n",
      "\n",
      "Notes:\n",
      "[1] Standard Errors assume that the covariance matrix of the errors is correctly specified.\n",
      "[2] The condition number is large, 7.76e+04. This might indicate that there are\n",
      "strong multicollinearity or other numerical problems.\n"
     ]
    },
    {
     "name": "stderr",
     "output_type": "stream",
     "text": [
      "D:\\Desenvolvimento\\Repositorios\\pessoais\\anadi_2024\\venv\\Lib\\site-packages\\scipy\\stats\\_stats_py.py:1971: UserWarning: kurtosistest only valid for n>=20 ... continuing anyway, n=11\n",
      "  k, _ = kurtosistest(a, axis)\n"
     ]
    }
   ],
   "source": [
    "print(resultado.summary())"
   ],
   "metadata": {
    "collapsed": false,
    "ExecuteTime": {
     "end_time": "2024-04-06T15:19:34.950978Z",
     "start_time": "2024-04-06T15:19:34.943745Z"
    }
   },
   "id": "38862b1704ccfd05",
   "execution_count": 54
  },
  {
   "cell_type": "markdown",
   "source": [
    "#### Formula geral\n",
    "\n",
    "$$Y = \\beta_0 + \\beta_1X_1 + \\beta_2X_2 + \\beta_3X_3 + \\beta_4X_4 + \\epsilon  $$\n",
    "\n",
    "#### Modelo\n",
    "\n",
    "$$ Y = -1653,37 - 0,58 . X_{Germany} + 2,09 . X_{Russia} + 12,74 . X_{France} + 1,27 . X_{Portugal} + \\epsilon $$\n"
   ],
   "metadata": {
    "collapsed": false
   },
   "id": "45548098c65b787e"
  },
  {
   "cell_type": "markdown",
   "source": [
    "### b)\n",
    "\n",
    "#### Cálculo dos residuos"
   ],
   "metadata": {
    "collapsed": false
   },
   "id": "cf9397d15e78956d"
  },
  {
   "cell_type": "code",
   "outputs": [
    {
     "data": {
      "text/plain": "<Figure size 1000x600 with 1 Axes>",
      "image/png": "[encoded data removed]"
     },
     "metadata": {},
     "output_type": "display_data"
    }
   ],
   "source": [
    "valores_ajustados = resultado.fittedvalues\n",
    "residuos = resultado.resid\n",
    "\n",
    "fig_residuos, axes_residuos = plt.subplots(figsize=(10, 6))\n",
    "_ = fig_residuos.suptitle(\"Verificação da Homoscedasticidade dos resíduos\")\n",
    "_ = axes_residuos.axhline(y=0, color=\"green\", linestyle=\"--\")\n",
    "_ = axes_residuos.scatter(valores_ajustados, residuos),\n",
    "_ = axes_residuos.set_xlabel(\"Valores ajustados\")\n",
    "_ = axes_residuos.set_ylabel(\"Resíduos\")\n",
    "\n",
    "# fig_residuos.show()  # Em jupyter gera aviso."
   ],
   "metadata": {
    "collapsed": false,
    "ExecuteTime": {
     "end_time": "2024-04-06T15:19:35.058171Z",
     "start_time": "2024-04-06T15:19:34.951986Z"
    }
   },
   "id": "c2879a612b5c7761",
   "execution_count": 55
  },
  {
   "cell_type": "markdown",
   "source": [
    "#### Normalidade dos resíduos"
   ],
   "metadata": {
    "collapsed": false
   },
   "id": "b8fa00563d8255c3"
  },
  {
   "cell_type": "code",
   "outputs": [
    {
     "name": "stdout",
     "output_type": "stream",
     "text": [
      "pvalue: 0.571\n"
     ]
    }
   ],
   "source": [
    "normalidade_residuos = stats.shapiro(residuos)\n",
    "print(f\"pvalue: {normalidade_residuos.pvalue:.3}\")"
   ],
   "metadata": {
    "collapsed": false,
    "ExecuteTime": {
     "end_time": "2024-04-06T15:19:35.061982Z",
     "start_time": "2024-04-06T15:19:35.059178Z"
    }
   },
   "id": "fa8d03b80cda6127",
   "execution_count": 56
  },
  {
   "cell_type": "markdown",
   "source": [
    "##### QQ-Normal-plot"
   ],
   "metadata": {
    "collapsed": false
   },
   "id": "61ca9c221362a26d"
  },
  {
   "cell_type": "code",
   "outputs": [
    {
     "data": {
      "text/plain": "<Figure size 640x480 with 1 Axes>",
      "image/png": "[encoded data removed]"
     },
     "metadata": {},
     "output_type": "display_data"
    }
   ],
   "source": [
    "sm.qqplot(residuos, line='s', markersize=5, alpha=0.5)\n",
    "plt.title('QQ-Normal-Plot')\n",
    "plt.show()"
   ],
   "metadata": {
    "collapsed": false,
    "ExecuteTime": {
     "end_time": "2024-04-06T15:19:35.138407Z",
     "start_time": "2024-04-06T15:19:35.062991Z"
    }
   },
   "id": "17c17da7301687f5",
   "execution_count": 57
  },
  {
   "cell_type": "markdown",
   "source": [
    "#### Independência dos resíduos\n"
   ],
   "metadata": {
    "collapsed": false
   },
   "id": "c4cde21ea96966f3"
  },
  {
   "cell_type": "code",
   "outputs": [
    {
     "name": "stdout",
     "output_type": "stream",
     "text": [
      "valor da estatística DW: 2.215613069914571\n"
     ]
    }
   ],
   "source": [
    "durbinWatson = durbin_watson(residuos)\n",
    "print('valor da estatística DW:', durbinWatson)"
   ],
   "metadata": {
    "collapsed": false,
    "ExecuteTime": {
     "end_time": "2024-04-06T15:19:35.142417Z",
     "start_time": "2024-04-06T15:19:35.139413Z"
    }
   },
   "id": "c04b7965a4b15538",
   "execution_count": 58
  },
  {
   "cell_type": "markdown",
   "source": [
    "### c) Estudo da Multicolinearidade: Fator de inflação de variância - VIF"
   ],
   "metadata": {
    "collapsed": false
   },
   "id": "4d4115f021b8f3e1"
  },
  {
   "cell_type": "code",
   "outputs": [
    {
     "name": "stdout",
     "output_type": "stream",
     "text": [
      "  variaveis          VIF\n",
      "0    France  1654.572968\n",
      "1   Germany  1576.176502\n",
      "2  Portugal   414.085368\n",
      "3    Russia   140.283896\n"
     ]
    }
   ],
   "source": [
    "vif_residuos = pd.DataFrame()\n",
    "vif_residuos[\"variaveis\"] = X.columns\n",
    "vif_residuos[\"VIF\"] = [variance_inflation_factor(X.values, i) for i in range(len(X.columns))]\n",
    "print(vif_residuos)"
   ],
   "metadata": {
    "collapsed": false,
    "ExecuteTime": {
     "end_time": "2024-04-06T15:19:35.149135Z",
     "start_time": "2024-04-06T15:19:35.143422Z"
    }
   },
   "id": "f579a5df15718ebf",
   "execution_count": 59
  },
  {
   "cell_type": "markdown",
   "source": [
    "#### d) Comentar\n",
    "Os cálculos já foram realizados nas alíneas anteriores, vamos apenas apresentar os valores.\n"
   ],
   "metadata": {
    "collapsed": false
   },
   "id": "c3809b86b2b69137"
  },
  {
   "cell_type": "code",
   "outputs": [
    {
     "name": "stdout",
     "output_type": "stream",
     "text": [
      "Coeficiente de determinação ajustado: 0.9898\n",
      "P-value da estatistica - F: 9.177e-07\n",
      "\n",
      "P-values para os coeficientes de regressão:\n",
      "const       0.032445\n",
      "France      0.000233\n",
      "Germany     0.442943\n",
      "Portugal    0.826289\n",
      "Russia      0.000488\n",
      "dtype: float64\n"
     ]
    }
   ],
   "source": [
    "coef_adj = resultado.rsquared_adj\n",
    "print(f\"Coeficiente de determinação ajustado: {coef_adj:.4}\")\n",
    "\n",
    "pvalue_stat = resultado.f_pvalue\n",
    "print(f\"P-value da estatistica - F: {pvalue_stat:.3e}\")\n",
    "\n",
    "p_values = resultado.pvalues\n",
    "print(\"\\nP-values para os coeficientes de regressão:\")\n",
    "print(p_values)"
   ],
   "metadata": {
    "collapsed": false,
    "ExecuteTime": {
     "end_time": "2024-04-06T15:19:35.154505Z",
     "start_time": "2024-04-06T15:19:35.150142Z"
    }
   },
   "id": "cd69f6ca4aaba176",
   "execution_count": 60
  },
  {
   "cell_type": "markdown",
   "source": [
    "#### e)\n",
    "\n",
    "Para realizar a previsão do valor para 2015 utilizamos a função ``predict()`` para 2015, sobre o modelo encontrado.\n",
    "\n",
    "TODO: perceber isto"
   ],
   "metadata": {
    "collapsed": false
   },
   "id": "baa21f9bd10ac9a0"
  },
  {
   "cell_type": "markdown",
   "source": [],
   "metadata": {
    "collapsed": false
   },
   "id": "45a57baddb29144b"
  },
  {
   "cell_type": "code",
   "outputs": [
    {
     "name": "stdout",
     "output_type": "stream",
     "text": [
      "Valores previstos: 0     6190.168418\n",
      "1     6264.710515\n",
      "2     6421.609574\n",
      "3     6490.576498\n",
      "4     6358.359615\n",
      "5     6138.377489\n",
      "6     6037.287365\n",
      "7     5535.392484\n",
      "8     5612.869236\n",
      "9     5647.765961\n",
      "10    5001.049844\n",
      "dtype: float64\n"
     ]
    }
   ],
   "source": [
    "valores_previstos = resultado.predict(Xc)\n",
    "print(f\"Valores previstos: {valores_previstos}\")"
   ],
   "metadata": {
    "collapsed": false,
    "ExecuteTime": {
     "end_time": "2024-04-06T15:19:35.158543Z",
     "start_time": "2024-04-06T15:19:35.155514Z"
    }
   },
   "id": "1aa940d5fc7b1bbf",
   "execution_count": 61
  },
  {
   "cell_type": "markdown",
   "source": [
    "#### Plot com reta de regressão"
   ],
   "metadata": {
    "collapsed": false
   },
   "id": "56422ec7d4abb4c1"
  },
  {
   "cell_type": "code",
   "outputs": [
    {
     "data": {
      "text/plain": "<Figure size 1000x600 with 1 Axes>",
      "image/png": "[encoded data removed]"
     },
     "metadata": {},
     "output_type": "display_data"
    }
   ],
   "source": [
    "reg_fig, reg_axes = plt.subplots(figsize=(10, 6))\n",
    "_ = reg_fig.suptitle(\"Plot dos dados e linha dos valores previstos\")\n",
    "_ = reg_axes.scatter(dados_trabalho.year, dados_trabalho.Europe, color='blue')\n",
    "_ = reg_axes.plot(dados_trabalho.year, valores_previstos, color='red')\n",
    "_ = reg_axes.set_xlabel(\"Ano\")\n",
    "_ = reg_axes.set_ylabel(r\"Emissões $CO_2$\")\n",
    "# reg_fig.show()  # Em jupyter gera aviso."
   ],
   "metadata": {
    "collapsed": false,
    "ExecuteTime": {
     "end_time": "2024-04-06T15:19:35.276111Z",
     "start_time": "2024-04-06T15:19:35.159550Z"
    }
   },
   "id": "30622b9f289f2064",
   "execution_count": 62
  },
  {
   "cell_type": "markdown",
   "source": [
    "#### Valor real\n",
    "\n",
    "Valores reais lidos diretamente dos dados originais."
   ],
   "metadata": {
    "collapsed": false
   },
   "id": "a7e52c271890d012"
  },
  {
   "cell_type": "code",
   "outputs": [
    {
     "name": "stdout",
     "output_type": "stream",
     "text": [
      "        country  year       co2\n",
      "9387     Europe  2015  5605.937\n",
      "10729    France  2015   331.580\n",
      "11723   Germany  2015   795.557\n",
      "24571  Portugal  2015    52.270\n",
      "25181    Russia  2015  1629.713\n"
     ]
    }
   ],
   "source": [
    "# Filtros para os dados de 2015\n",
    "filtro_europa = dados_lidos.country.isin(areas_geo)\n",
    "filtro_ano = dados_lidos.year == 2015\n",
    "\n",
    "# Filtrar os dados pretendidos \n",
    "valor_real_2015 = dados_lidos.loc[filtro_europa & filtro_ano, [\"country\", \"year\", \"co2\"]]\n",
    "\n",
    "# Preparar a lista de valores necessários para a previsão.\n",
    "valores_x_2015 = list(valor_real_2015.co2[1:])\n",
    "valores_b = list(parametros) \n",
    "\n",
    "print(valor_real_2015)"
   ],
   "metadata": {
    "collapsed": false,
    "ExecuteTime": {
     "end_time": "2024-04-06T15:19:35.283237Z",
     "start_time": "2024-04-06T15:19:35.277120Z"
    }
   },
   "id": "e9e8b208bd632e3",
   "execution_count": 63
  },
  {
   "cell_type": "markdown",
   "source": [
    "#### Previsão do valor para 2015\n",
    "A funçao *get_prediction()* tem de receber os valores das variáveis, tendo \"1\" no que pretendemos saber, neste caso seria o correspondente a \"Europe\"."
   ],
   "metadata": {
    "collapsed": false
   },
   "id": "a65b5655d8b84629"
  },
  {
   "cell_type": "code",
   "outputs": [
    {
     "data": {
      "text/plain": "          mean    mean_se  mean_ci_lower  mean_ci_upper  obs_ci_lower  \\\n0  5591.926307  31.069443    5515.902119    5667.950495    5453.96254   \n\n   obs_ci_upper  \n0   5729.890074  ",
      "text/html": "<div>\n<style scoped>\n    .dataframe tbody tr th:only-of-type {\n        vertical-align: middle;\n    }\n\n    .dataframe tbody tr th {\n        vertical-align: top;\n    }\n\n    .dataframe thead th {\n        text-align: right;\n    }\n</style>\n<table border=\"1\" class=\"dataframe\">\n  <thead>\n    <tr style=\"text-align: right;\">\n      <th></th>\n      <th>mean</th>\n      <th>mean_se</th>\n      <th>mean_ci_lower</th>\n      <th>mean_ci_upper</th>\n      <th>obs_ci_lower</th>\n      <th>obs_ci_upper</th>\n    </tr>\n  </thead>\n  <tbody>\n    <tr>\n      <th>0</th>\n      <td>5591.926307</td>\n      <td>31.069443</td>\n      <td>5515.902119</td>\n      <td>5667.950495</td>\n      <td>5453.96254</td>\n      <td>5729.890074</td>\n    </tr>\n  </tbody>\n</table>\n</div>"
     },
     "execution_count": 64,
     "metadata": {},
     "output_type": "execute_result"
    }
   ],
   "source": [
    "previsto = resultado.get_prediction([1] + valores_x_2015)\n",
    "previsto.summary_frame(alpha=0.05)"
   ],
   "metadata": {
    "collapsed": false,
    "ExecuteTime": {
     "end_time": "2024-04-06T15:19:35.290867Z",
     "start_time": "2024-04-06T15:19:35.284243Z"
    }
   },
   "id": "317ef7667cf1565a",
   "execution_count": 64
  },
  {
   "cell_type": "markdown",
   "source": [
    "Obtemos o valor de 5591.926\n",
    "\n",
    "#### Cálculo \"manual\"\n",
    "\n",
    "Se aplicarmos a formula diretamente e se fizer o cálculo manual."
   ],
   "metadata": {
    "collapsed": false
   },
   "id": "a7d1c45755f5173c"
  },
  {
   "cell_type": "code",
   "outputs": [
    {
     "name": "stdout",
     "output_type": "stream",
     "text": [
      "Cálculo realizado:\n",
      "y = -1653.3724660455464 + (12.748024611109585 x 331.58) + (-0.5836073067811742 x 795.557) + (1.277525526297552 x 52.27) + (2.0959674441775222 x 1629.713)\n",
      "\n",
      "De acordo com o modelo o valor das emissões de CO2 seria de: 5591.926\n"
     ]
    }
   ],
   "source": [
    "def prever(betas, xs):\n",
    "    \"\"\"Aplica a formula do modelo de regressão linear múltipla.\n",
    "    \n",
    "    :param betas: \n",
    "    :param xs: \n",
    "    :return: \n",
    "    \"\"\"\n",
    "    qtde_vars_ind = len(xs)\n",
    "\n",
    "    if len(betas) != qtde_vars_ind + 1:\n",
    "        print(\"Coeficientes B têm de ser superiores em 1 aos valores Xs.\")\n",
    "        return None\n",
    "\n",
    "    previsto = betas[0]\n",
    "    calculo = f\"y = {previsto}\"\n",
    "    for i in range(0, qtde_vars_ind):\n",
    "        previsto = previsto + betas[i+1] * xs[i]\n",
    "        calculo = f\"{calculo} + ({betas[i+1]} x {xs[i]})\"\n",
    "    print(f\"Cálculo realizado:\\n{calculo}\\n\")\n",
    "    return previsto\n",
    "\n",
    "previsao_2015 = prever(valores_b, valores_x_2015)\n",
    "print(f\"De acordo com o modelo o valor das emissões de CO2 seria de: {previsao_2015:.3f}\")\n",
    "\n",
    "\n",
    "# resultado.predict(valores_2015)"
   ],
   "metadata": {
    "collapsed": false,
    "ExecuteTime": {
     "end_time": "2024-04-06T15:19:35.295327Z",
     "start_time": "2024-04-06T15:19:35.291872Z"
    }
   },
   "id": "852bf0883a9ed63e",
   "execution_count": 65
  },
  {
   "cell_type": "markdown",
   "source": [
    "Como podemos ver obtemos o mesmo resultado.\n",
    "Claramente existem vantagens em utilizar as funções das bibliotecas, pois com menos trabalho, nos dão mais informação."
   ],
   "metadata": {
    "collapsed": false
   },
   "id": "d088583c4b0316f8"
  }
 ],
 "metadata": {
  "kernelspec": {
   "display_name": "Python 3",
   "language": "python",
   "name": "python3"
  },
  "language_info": {
   "codemirror_mode": {
    "name": "ipython",
    "version": 2
   },
   "file_extension": ".py",
   "mimetype": "text/x-python",
   "name": "python",
   "nbconvert_exporter": "python",
   "pygments_lexer": "ipython2",
   "version": "2.7.6"
  }
 },
 "nbformat": 4,
 "nbformat_minor": 5
}
