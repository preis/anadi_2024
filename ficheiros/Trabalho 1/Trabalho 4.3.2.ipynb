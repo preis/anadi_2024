{
 "cells": [
  {
   "cell_type": "markdown",
   "source": [
    "# 4.3\n",
    "## 1.\n",
    "### Imports"
   ],
   "metadata": {
    "collapsed": false
   },
   "id": "ec06f358ace34aca"
  },
  {
   "cell_type": "code",
   "outputs": [],
   "source": [
    "import pandas as pd\n",
    "import numpy as np\n",
    "import seaborn as sns\n",
    "import scipy.stats as stats\n",
    "import matplotlib.pyplot as plt"
   ],
   "metadata": {
    "collapsed": false,
    "ExecuteTime": {
     "end_time": "2024-04-03T21:17:14.894818Z",
     "start_time": "2024-04-03T21:17:14.892398Z"
    }
   },
   "id": "d7a5fa0b43c5c699",
   "execution_count": 8
  },
  {
   "cell_type": "markdown",
   "source": [
    "### Ler os dados"
   ],
   "metadata": {
    "collapsed": false
   },
   "id": "8aa7f67b3cae872a"
  },
  {
   "cell_type": "code",
   "outputs": [],
   "source": [
    "dados_lidos = pd.read_csv(\"CO_data.csv\")"
   ],
   "metadata": {
    "collapsed": false,
    "ExecuteTime": {
     "end_time": "2024-04-03T21:17:14.918671Z",
     "start_time": "2024-04-03T21:17:14.895827Z"
    }
   },
   "id": "7bbd12090a1b203d",
   "execution_count": 9
  },
  {
   "cell_type": "markdown",
   "source": [
    "### Variáveis"
   ],
   "metadata": {
    "collapsed": false
   },
   "id": "e29f0d9e7d1b500e"
  },
  {
   "cell_type": "code",
   "outputs": [],
   "source": [
    "# Listas de paises e anos\n",
    "areas_geo = [\"Europe\", \"Germany\", \"Russia\", \"France\", \"Portugal\"]\n",
    "anos = list(range(2000, 2022))[::2]\n",
    "\n",
    "# Definição das condições de filtragem.\n",
    "condicao_anos = dados_lidos[\"year\"].isin(anos)"
   ],
   "metadata": {
    "collapsed": false,
    "ExecuteTime": {
     "end_time": "2024-04-03T21:17:14.922999Z",
     "start_time": "2024-04-03T21:17:14.919676Z"
    }
   },
   "id": "84aaa3cf60d30818",
   "execution_count": 10
  },
  {
   "cell_type": "markdown",
   "source": [
    "### Obter dados dos anos pretendidos para as áreas geográficas em estudo."
   ],
   "metadata": {
    "collapsed": false
   },
   "id": "6fa676a1815af4d9"
  },
  {
   "cell_type": "code",
   "outputs": [],
   "source": [
    "dados_areas_geo = {}\n",
    "\n",
    "for area_geo in areas_geo:\n",
    "    condicao_area_geo = dados_lidos.country == area_geo\n",
    "    dados_areas_geo[area_geo] = list(dados_lidos.loc[condicao_anos & condicao_area_geo, [\"co2\"]][\"co2\"])\n",
    "\n",
    "dados_trabalho = pd.DataFrame(dados_areas_geo)\n",
    "# dados_trabalho.insert(0, \"year\", anos)"
   ],
   "metadata": {
    "collapsed": false,
    "ExecuteTime": {
     "end_time": "2024-04-03T21:17:14.936256Z",
     "start_time": "2024-04-03T21:17:14.924006Z"
    }
   },
   "id": "ed840876c89ed4e2",
   "execution_count": 11
  },
  {
   "cell_type": "code",
   "outputs": [
    {
     "data": {
      "text/plain": "     Europe  Germany    Russia   France  Portugal\n0  6158.767  899.352  1478.185  406.829    65.686\n1  6254.075  899.450  1505.520  407.790    69.643\n2  6431.065  886.637  1541.754  413.780    67.385\n3  6520.084  877.939  1618.246  406.462    64.924\n4  6402.666  854.508  1646.969  390.778    60.107",
      "text/html": "<div>\n<style scoped>\n    .dataframe tbody tr th:only-of-type {\n        vertical-align: middle;\n    }\n\n    .dataframe tbody tr th {\n        vertical-align: top;\n    }\n\n    .dataframe thead th {\n        text-align: right;\n    }\n</style>\n<table border=\"1\" class=\"dataframe\">\n  <thead>\n    <tr style=\"text-align: right;\">\n      <th></th>\n      <th>Europe</th>\n      <th>Germany</th>\n      <th>Russia</th>\n      <th>France</th>\n      <th>Portugal</th>\n    </tr>\n  </thead>\n  <tbody>\n    <tr>\n      <th>0</th>\n      <td>6158.767</td>\n      <td>899.352</td>\n      <td>1478.185</td>\n      <td>406.829</td>\n      <td>65.686</td>\n    </tr>\n    <tr>\n      <th>1</th>\n      <td>6254.075</td>\n      <td>899.450</td>\n      <td>1505.520</td>\n      <td>407.790</td>\n      <td>69.643</td>\n    </tr>\n    <tr>\n      <th>2</th>\n      <td>6431.065</td>\n      <td>886.637</td>\n      <td>1541.754</td>\n      <td>413.780</td>\n      <td>67.385</td>\n    </tr>\n    <tr>\n      <th>3</th>\n      <td>6520.084</td>\n      <td>877.939</td>\n      <td>1618.246</td>\n      <td>406.462</td>\n      <td>64.924</td>\n    </tr>\n    <tr>\n      <th>4</th>\n      <td>6402.666</td>\n      <td>854.508</td>\n      <td>1646.969</td>\n      <td>390.778</td>\n      <td>60.107</td>\n    </tr>\n  </tbody>\n</table>\n</div>"
     },
     "execution_count": 12,
     "metadata": {},
     "output_type": "execute_result"
    }
   ],
   "source": [
    "# Espreitar os dados filtrados\n",
    "dados_trabalho.head()"
   ],
   "metadata": {
    "collapsed": false,
    "ExecuteTime": {
     "end_time": "2024-04-03T21:17:14.943445Z",
     "start_time": "2024-04-03T21:17:14.937260Z"
    }
   },
   "id": "14b309c2069672d8",
   "execution_count": 12
  },
  {
   "cell_type": "markdown",
   "source": [
    "## a)\n",
    "\n",
    "### Normalidade dos residuos\n",
    "\n",
    "### Homocedasticidade\n",
    "\n",
    "### Autocorrelação nula\n",
    "\n",
    "### Multicolinearidade\n"
   ],
   "metadata": {
    "collapsed": false
   },
   "id": "fef22a8e9c7258f4"
  },
  {
   "cell_type": "code",
   "outputs": [],
   "source": [],
   "metadata": {
    "collapsed": false
   },
   "id": "30ded34acccd2fef"
  },
  {
   "cell_type": "markdown",
   "source": [
    "## b)"
   ],
   "metadata": {
    "collapsed": false
   },
   "id": "cf9397d15e78956d"
  },
  {
   "cell_type": "markdown",
   "source": [
    "#### Homocedasticidade (Variâncias iguais)\n",
    "\n",
    "$H_0$: As amostras têm variâncias iguais\n",
    "$H_1$: As amostras não têm variâncias iguais"
   ],
   "metadata": {
    "collapsed": false
   },
   "id": "c4cde21ea96966f3"
  },
  {
   "cell_type": "code",
   "outputs": [
    {
     "name": "stdout",
     "output_type": "stream",
     "text": [
      "Estatistica: 11.144599886373852\n",
      "p-value: 1.534967635016513e-06\n"
     ]
    }
   ],
   "source": [
    "lista_dados = list(dados_areas_geo.values())\n",
    "result_levene = stats.levene(*lista_dados)\n",
    "print(f\"Estatistica: {result_levene.statistic}\\np-value: {result_levene.pvalue}\")\n"
   ],
   "metadata": {
    "collapsed": false,
    "ExecuteTime": {
     "end_time": "2024-04-03T21:28:15.073483Z",
     "start_time": "2024-04-03T21:28:15.069526Z"
    }
   },
   "id": "c04b7965a4b15538",
   "execution_count": 16
  },
  {
   "cell_type": "markdown",
   "source": [
    "Como o valor de p-value é muito baixo (próximo de zero) rejeitamos a hipótese nula, ou seja, consideramos que as variâncias não são iguais."
   ],
   "metadata": {
    "collapsed": false
   },
   "id": "34d7972db8fad133"
  },
  {
   "cell_type": "markdown",
   "source": [
    "#### Normalidade (shapiro)"
   ],
   "metadata": {
    "collapsed": false
   },
   "id": "446f19b2c494a8aa"
  },
  {
   "cell_type": "code",
   "outputs": [
    {
     "data": {
      "text/plain": "ShapiroResult(statistic=0.7063598521682005, pvalue=3.4768901800969153e-09)"
     },
     "execution_count": 14,
     "metadata": {},
     "output_type": "execute_result"
    }
   ],
   "source": [
    "stats.shapiro(dados_trabalho)"
   ],
   "metadata": {
    "collapsed": false,
    "ExecuteTime": {
     "end_time": "2024-04-03T21:17:14.952613Z",
     "start_time": "2024-04-03T21:17:14.949013Z"
    }
   },
   "id": "7b94fc18f725f18",
   "execution_count": 14
  }
 ],
 "metadata": {
  "kernelspec": {
   "display_name": "Python 3",
   "language": "python",
   "name": "python3"
  },
  "language_info": {
   "codemirror_mode": {
    "name": "ipython",
    "version": 2
   },
   "file_extension": ".py",
   "mimetype": "text/x-python",
   "name": "python",
   "nbconvert_exporter": "python",
   "pygments_lexer": "ipython2",
   "version": "2.7.6"
  }
 },
 "nbformat": 4,
 "nbformat_minor": 5
}
