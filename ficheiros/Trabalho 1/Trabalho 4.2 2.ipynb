{
 "cells": [
  {
   "cell_type": "markdown",
   "source": [
    "# 4.2\n",
    "## 2.\n",
    "\n",
    "### Imports"
   ],
   "metadata": {
    "collapsed": false
   },
   "id": "ec06f358ace34aca"
  },
  {
   "cell_type": "code",
   "outputs": [],
   "source": [
    "import pandas as pd\n",
    "import scipy.stats as stats\n",
    "import matplotlib.pyplot as plt"
   ],
   "metadata": {
    "collapsed": false,
    "ExecuteTime": {
     "end_time": "2024-03-28T18:31:02.094102Z",
     "start_time": "2024-03-28T18:30:56.674015Z"
    }
   },
   "id": "d7a5fa0b43c5c699",
   "execution_count": 1
  },
  {
   "cell_type": "markdown",
   "source": [
    "# Obter série de anos"
   ],
   "metadata": {
    "collapsed": false
   },
   "id": "daf9cd70211f158c"
  },
  {
   "cell_type": "code",
   "execution_count": 2,
   "id": "initial_id",
   "metadata": {
    "collapsed": true,
    "ExecuteTime": {
     "end_time": "2024-03-28T18:31:02.099371Z",
     "start_time": "2024-03-28T18:31:02.095107Z"
    }
   },
   "outputs": [],
   "source": [
    "years = pd.Series([i for i in range(1900, 2021)])\n",
    "\n",
    "seed_value = 55\n",
    "sampleyears2 = years.sample(n=12, replace=False, random_state=seed_value)\n",
    "\n",
    "seed_value = 85\n",
    "sampleyears3 = years.sample(n=12, replace=False, random_state=seed_value)"
   ]
  },
  {
   "cell_type": "markdown",
   "source": [
    "# Ler os dados"
   ],
   "metadata": {
    "collapsed": false
   },
   "id": "8aa7f67b3cae872a"
  },
  {
   "cell_type": "code",
   "outputs": [],
   "source": [
    "dados_lidos = pd.read_csv(\"CO_data.csv\")"
   ],
   "metadata": {
    "collapsed": false,
    "ExecuteTime": {
     "end_time": "2024-03-28T18:31:02.124435Z",
     "start_time": "2024-03-28T18:31:02.100377Z"
    }
   },
   "id": "7bbd12090a1b203d",
   "execution_count": 3
  },
  {
   "cell_type": "markdown",
   "source": [
    "# Obter dados dos anos pretendidos para Portugal e Hungria"
   ],
   "metadata": {
    "collapsed": false
   },
   "id": "6fa676a1815af4d9"
  },
  {
   "cell_type": "code",
   "outputs": [],
   "source": [
    "# Definição das condições de filtragem.\n",
    "condicao_anos_PT = dados_lidos.year.isin(list(sampleyears2))\n",
    "condicao_anos_HU = dados_lidos.year.isin(list(sampleyears3))\n",
    "condicao_PT = dados_lidos.country == \"Portugal\"\n",
    "condicao_HU = dados_lidos.country == \"Hungary\"\n",
    "\n",
    "# Extrair dos dados lidos, os dados de trabalho de acordo com as condições de filtro.\n",
    "dados_PT = dados_lidos.loc[condicao_PT & condicao_anos_PT, [\"year\", \"gdp\"]]\n",
    "dados_HU = dados_lidos.loc[condicao_HU & condicao_anos_HU, [\"year\", \"gdp\"]]"
   ],
   "metadata": {
    "collapsed": false,
    "ExecuteTime": {
     "end_time": "2024-03-28T18:31:02.133942Z",
     "start_time": "2024-03-28T18:31:02.125441Z"
    }
   },
   "id": "ed840876c89ed4e2",
   "execution_count": 4
  },
  {
   "cell_type": "markdown",
   "source": [
    "## Tratar dos NaN\n",
    "\n",
    "Optámos por remover."
   ],
   "metadata": {
    "collapsed": false
   },
   "id": "f1aa7d13e142db36"
  },
  {
   "cell_type": "code",
   "outputs": [],
   "source": [
    "dados_PT.dropna(inplace=True)\n",
    "dados_HU.dropna(inplace=True)"
   ],
   "metadata": {
    "collapsed": false,
    "ExecuteTime": {
     "end_time": "2024-03-28T18:31:02.138482Z",
     "start_time": "2024-03-28T18:31:02.134947Z"
    }
   },
   "id": "8ece8abb568989cf",
   "execution_count": 5
  },
  {
   "cell_type": "markdown",
   "source": [
    "# Gráficos dos dados"
   ],
   "metadata": {
    "collapsed": false
   },
   "id": "f8e20965d55c3ea0"
  },
  {
   "cell_type": "code",
   "outputs": [
    {
     "data": {
      "text/plain": "<matplotlib.collections.PathCollection at 0x1eb1a63a750>"
     },
     "execution_count": 6,
     "metadata": {},
     "output_type": "execute_result"
    },
    {
     "data": {
      "text/plain": "<Figure size 640x480 with 1 Axes>",
      "image/png": "[encoded data removed]"
     },
     "metadata": {},
     "output_type": "display_data"
    }
   ],
   "source": [
    "plt.scatter(dados_PT[\"year\"], dados_PT[\"gdp\"])"
   ],
   "metadata": {
    "collapsed": false,
    "ExecuteTime": {
     "end_time": "2024-03-28T18:31:02.237716Z",
     "start_time": "2024-03-28T18:31:02.138482Z"
    }
   },
   "id": "315a61b568336b4e",
   "execution_count": 6
  },
  {
   "cell_type": "code",
   "outputs": [
    {
     "data": {
      "text/plain": "<matplotlib.collections.PathCollection at 0x1eb1bb3e050>"
     },
     "execution_count": 7,
     "metadata": {},
     "output_type": "execute_result"
    },
    {
     "data": {
      "text/plain": "<Figure size 640x480 with 1 Axes>",
      "image/png": "[encoded data removed]"
     },
     "metadata": {},
     "output_type": "display_data"
    }
   ],
   "source": [
    "plt.scatter(dados_HU[\"year\"], dados_HU[\"gdp\"])"
   ],
   "metadata": {
    "collapsed": false,
    "ExecuteTime": {
     "end_time": "2024-03-28T18:31:02.330154Z",
     "start_time": "2024-03-28T18:31:02.238721Z"
    }
   },
   "id": "9ee3763b037917e",
   "execution_count": 7
  },
  {
   "cell_type": "markdown",
   "source": [
    "# Cálcular a média amostral"
   ],
   "metadata": {
    "collapsed": false
   },
   "id": "336193f9e4cd4c19"
  },
  {
   "cell_type": "code",
   "outputs": [
    {
     "name": "stdout",
     "output_type": "stream",
     "text": [
      "Média amostral de Portugal: 1.0705e+11\n",
      "Média amostral da Hungria: 1.0413e+11\n"
     ]
    }
   ],
   "source": [
    "# Média amostral de Portugal.\n",
    "media_PT = dados_PT[\"gdp\"].mean(axis=0)\n",
    "print(f\"Média amostral de Portugal: {media_PT:.4e}\")\n",
    "\n",
    "# Média amostral da Hungria.\n",
    "media_HU = dados_HU[\"gdp\"].mean(axis=0)\n",
    "print(f\"Média amostral da Hungria: {media_HU:.4e}\")"
   ],
   "metadata": {
    "collapsed": false,
    "ExecuteTime": {
     "end_time": "2024-03-28T18:31:02.336984Z",
     "start_time": "2024-03-28T18:31:02.331160Z"
    }
   },
   "id": "d5bad3a67283b172",
   "execution_count": 8
  },
  {
   "cell_type": "markdown",
   "source": [
    "# Normalidade\n",
    "\n",
    "O teste à normalidade *stats.normaltest()* é para amostras de dimensão superior a 20.\n",
    "Temos de utilizar *stats.shapiro()* "
   ],
   "metadata": {
    "collapsed": false
   },
   "id": "af90d05171b0d518"
  },
  {
   "cell_type": "code",
   "outputs": [
    {
     "name": "stdout",
     "output_type": "stream",
     "text": [
      "Portugal - pvalue: 0.115\n",
      "Hungria - pvalue: 0.188\n"
     ]
    }
   ],
   "source": [
    "statval_PT, p_value_PT = stats.shapiro(dados_PT[\"gdp\"])\n",
    "print(f\"Portugal - pvalue: {p_value_PT:.3}\")\n",
    "\n",
    "statval_HU, p_value_HU = stats.shapiro(dados_HU[\"gdp\"])\n",
    "print(f\"Hungria - pvalue: {p_value_HU:.3}\")\n"
   ],
   "metadata": {
    "collapsed": false,
    "ExecuteTime": {
     "end_time": "2024-03-28T18:31:02.341216Z",
     "start_time": "2024-03-28T18:31:02.337990Z"
    }
   },
   "id": "65cc8c83ff7677c9",
   "execution_count": 9
  },
  {
   "cell_type": "markdown",
   "source": [
    "Como o *p-value* de Portugal é superior a 5% os dados seguem distribuição normal.\n",
    "Como o *p-value* da Hungria é superior a 5% os dados seguem distribuição normal. "
   ],
   "metadata": {
    "collapsed": false
   },
   "id": "d55d641e11750afa"
  },
  {
   "cell_type": "markdown",
   "source": [
    "# Calcular a variância"
   ],
   "metadata": {
    "collapsed": false
   },
   "id": "a71077d8d226cf28"
  },
  {
   "cell_type": "code",
   "outputs": [
    {
     "name": "stdout",
     "output_type": "stream",
     "text": [
      "Variância para os dados de Portugal: 8.133e+21\n",
      "Variância para os dados de Hungria: 5.624e+21\n"
     ]
    }
   ],
   "source": [
    "variancia_PT = dados_PT[\"gdp\"].var(axis=0)\n",
    "print(f\"Variância para os dados de Portugal: {variancia_PT:.3e}\")\n",
    "variancia_HU = dados_HU[\"gdp\"].var(axis=0)\n",
    "print(f\"Variância para os dados de Hungria: {variancia_HU:.3e}\")"
   ],
   "metadata": {
    "collapsed": false,
    "ExecuteTime": {
     "end_time": "2024-03-28T18:31:02.345426Z",
     "start_time": "2024-03-28T18:31:02.342225Z"
    }
   },
   "id": "99ad6c1b87651283",
   "execution_count": 10
  },
  {
   "cell_type": "markdown",
   "source": [
    "## Homogeneidade\n",
    "\n",
    "Precisamos de averiguar fazer um teste de **Levene** ás variâncias para verificar se são iguais para decidir qual o teste à média a realizar.\n",
    "\n",
    "$$H_0: \\mu_{PT} = \\mu_{HU} \\quad Vs \\quad H_0: \\mu_{PT} \\neq \\mu_{HU}$$ "
   ],
   "metadata": {
    "collapsed": false
   },
   "id": "382741232a8b355b"
  },
  {
   "cell_type": "code",
   "outputs": [
    {
     "name": "stdout",
     "output_type": "stream",
     "text": [
      "Valor da estatistica de teste: 0.34 \n",
      "p-value: 0.5665881035851679\n"
     ]
    }
   ],
   "source": [
    "resultado_levene = stats.levene(dados_PT[\"gdp\"], dados_HU[\"gdp\"])\n",
    "print(f\"Valor da estatistica de teste: {resultado_levene.statistic:.3} \\np-value: {resultado_levene.pvalue:-3}\")"
   ],
   "metadata": {
    "collapsed": false,
    "ExecuteTime": {
     "end_time": "2024-03-28T18:31:02.349834Z",
     "start_time": "2024-03-28T18:31:02.346435Z"
    }
   },
   "id": "8862f1f2c1058826",
   "execution_count": 11
  },
  {
   "cell_type": "markdown",
   "source": [
    "Como o *p-value* é superior a 5% não rejeitamos a hipótese nula, ou seja vamos assumir que as variâncias são iguais. "
   ],
   "metadata": {
    "collapsed": false
   },
   "id": "59a9ccfd938bbbc"
  },
  {
   "cell_type": "markdown",
   "source": [
    "# Teste à média\n",
    "\n",
    "## Hipotese\n",
    "\n",
    "$$H_0: \\mu_{PT} \\geq \\mu_{HU} \\quad Vs \\quad H_0: \\mu_{PT} < \\mu_{HU}$$\n",
    "\n",
    "Amostras não emparelhadas.\n",
    "Tamanho da amostra é reduzido.\n",
    "Distribuição normal.\n",
    "Pela análise do gráfico não parecem existir outliers significativos.\n",
    "\n",
    "Utilização de *One-Way ANova* à média.\n",
    "\n"
   ],
   "metadata": {
    "collapsed": false
   },
   "id": "61da15788345a65d"
  },
  {
   "cell_type": "code",
   "outputs": [
    {
     "name": "stdout",
     "output_type": "stream",
     "text": [
      "Valor da estatistica de teste: 0.00643 \n",
      "p-value: 0.937\n"
     ]
    }
   ],
   "source": [
    "f_stat, p_value = stats.f_oneway(dados_PT[\"gdp\"], dados_HU[\"gdp\"])\n",
    "print(f\"Valor da estatistica de teste: {f_stat:.3} \\np-value: {p_value:.3}\")"
   ],
   "metadata": {
    "collapsed": false,
    "ExecuteTime": {
     "end_time": "2024-03-28T18:31:02.354345Z",
     "start_time": "2024-03-28T18:31:02.350840Z"
    }
   },
   "id": "520e0cc7277daa2e",
   "execution_count": 12
  },
  {
   "cell_type": "markdown",
   "source": [
    "Com o *p-value* do teste de 0,937 não vamos rejeitar a hipótese nula, ou seja aceitamos que a média do **GDP** de Portugal é superior ao **GDP** da Hungria, nas amostras consideradas. "
   ],
   "metadata": {
    "collapsed": false
   },
   "id": "47b269b9260798f6"
  },
  {
   "cell_type": "markdown",
   "source": [
    "# Gráfico Boxplot"
   ],
   "metadata": {
    "collapsed": false
   },
   "id": "a7369a043d5bd94f"
  },
  {
   "cell_type": "code",
   "outputs": [
    {
     "name": "stderr",
     "output_type": "stream",
     "text": [
      "C:\\Users\\paulo\\AppData\\Local\\Temp\\ipykernel_4108\\3744961491.py:4: UserWarning: FigureCanvasAgg is non-interactive, and thus cannot be shown\n",
      "  fig_bp.show()\n"
     ]
    },
    {
     "data": {
      "text/plain": "<Figure size 640x480 with 1 Axes>",
      "image/png": "[encoded data removed]"
     },
     "metadata": {},
     "output_type": "display_data"
    }
   ],
   "source": [
    "fig_bp, ax_bp = plt.subplots()\n",
    "ax_bp.boxplot([dados_PT[\"gdp\"], dados_HU[\"gdp\"]], labels=[\"Portugal\", \"Hungria\"])\n",
    "ax_bp.set_title(\"GDP de Portugal e Hungria\")\n",
    "fig_bp.show()"
   ],
   "metadata": {
    "collapsed": false,
    "ExecuteTime": {
     "end_time": "2024-03-28T18:45:40.914313Z",
     "start_time": "2024-03-28T18:45:40.807912Z"
    }
   },
   "id": "dc5ed03e2d78afbe",
   "execution_count": 32
  },
  {
   "cell_type": "code",
   "outputs": [],
   "source": [],
   "metadata": {
    "collapsed": false
   },
   "id": "d04d0a2d7d8caf01"
  }
 ],
 "metadata": {
  "kernelspec": {
   "display_name": "Python 3",
   "language": "python",
   "name": "python3"
  },
  "language_info": {
   "codemirror_mode": {
    "name": "ipython",
    "version": 2
   },
   "file_extension": ".py",
   "mimetype": "text/x-python",
   "name": "python",
   "nbconvert_exporter": "python",
   "pygments_lexer": "ipython2",
   "version": "2.7.6"
  }
 },
 "nbformat": 4,
 "nbformat_minor": 5
}
