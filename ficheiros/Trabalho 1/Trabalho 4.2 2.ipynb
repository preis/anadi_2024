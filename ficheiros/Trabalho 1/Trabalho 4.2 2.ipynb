{
 "cells": [
  {
   "cell_type": "markdown",
   "source": [
    "# 4.2\n",
    "## 2.\n",
    "\n",
    "### Imports"
   ],
   "metadata": {
    "collapsed": false
   },
   "id": "ec06f358ace34aca"
  },
  {
   "cell_type": "code",
   "outputs": [],
   "source": [
    "import pandas as pd\n",
    "import scipy.stats as stats\n",
    "import matplotlib.pyplot as plt"
   ],
   "metadata": {
    "collapsed": false,
    "ExecuteTime": {
     "end_time": "2024-03-28T11:52:50.912192Z",
     "start_time": "2024-03-28T11:52:50.909070Z"
    }
   },
   "id": "d7a5fa0b43c5c699",
   "execution_count": 11
  },
  {
   "cell_type": "markdown",
   "source": [
    "# Obter série de anos"
   ],
   "metadata": {
    "collapsed": false
   },
   "id": "daf9cd70211f158c"
  },
  {
   "cell_type": "code",
   "execution_count": 4,
   "id": "initial_id",
   "metadata": {
    "collapsed": true,
    "ExecuteTime": {
     "end_time": "2024-03-28T11:49:26.504158Z",
     "start_time": "2024-03-28T11:49:26.500397Z"
    }
   },
   "outputs": [],
   "source": [
    "years = pd.Series([i for i in range(1900, 2021)])\n",
    "\n",
    "seed_value = 55\n",
    "sampleyears2 = years.sample(n=12, replace=False, random_state=seed_value)\n",
    "\n",
    "seed_value = 85\n",
    "sampleyears3 = years.sample(n=12, replace=False, random_state=seed_value)"
   ]
  },
  {
   "cell_type": "markdown",
   "source": [
    "# Ler os dados"
   ],
   "metadata": {
    "collapsed": false
   },
   "id": "8aa7f67b3cae872a"
  },
  {
   "cell_type": "code",
   "outputs": [],
   "source": [
    "dados_lidos = pd.read_csv(\"CO_data.csv\")"
   ],
   "metadata": {
    "collapsed": false,
    "ExecuteTime": {
     "end_time": "2024-03-28T11:49:30.147957Z",
     "start_time": "2024-03-28T11:49:30.122890Z"
    }
   },
   "id": "7bbd12090a1b203d",
   "execution_count": 5
  },
  {
   "cell_type": "markdown",
   "source": [
    "# Obter dados dos anos pretendidos para Portugal e Hungria"
   ],
   "metadata": {
    "collapsed": false
   },
   "id": "6fa676a1815af4d9"
  },
  {
   "cell_type": "code",
   "outputs": [],
   "source": [
    "# Definição das condições de filtragem.\n",
    "condicao_anos_PT = dados_lidos.year.isin(list(sampleyears2))\n",
    "condicao_anos_HU = dados_lidos.year.isin(list(sampleyears3))\n",
    "condicao_pt = dados_lidos.country == \"Portugal\"\n",
    "condicao_hu = dados_lidos.country == \"Hungary\"\n",
    "\n",
    "# Extrair dos dados lidos, os dados de trabalho de acordo com as condições de filtro.\n",
    "dados_PT = dados_lidos.loc[condicao_pt & condicao_anos_PT, \"gdp\"]\n",
    "dados_HU = dados_lidos.loc[condicao_hu & condicao_anos_HU, \"gdp\"]"
   ],
   "metadata": {
    "collapsed": false,
    "ExecuteTime": {
     "end_time": "2024-03-28T11:51:36.584172Z",
     "start_time": "2024-03-28T11:51:36.576637Z"
    }
   },
   "id": "ed840876c89ed4e2",
   "execution_count": 6
  },
  {
   "cell_type": "markdown",
   "source": [
    "## Tratar dos NaN\n",
    "\n",
    "Optámos por remover."
   ],
   "metadata": {
    "collapsed": false
   },
   "id": "f1aa7d13e142db36"
  },
  {
   "cell_type": "code",
   "outputs": [],
   "source": [
    "dados_PT.dropna(inplace=True)\n",
    "dados_HU.dropna(inplace=True)"
   ],
   "metadata": {
    "collapsed": false,
    "ExecuteTime": {
     "end_time": "2024-03-28T11:51:41.429956Z",
     "start_time": "2024-03-28T11:51:41.426702Z"
    }
   },
   "id": "8ece8abb568989cf",
   "execution_count": 7
  },
  {
   "cell_type": "markdown",
   "source": [
    "# Gráficos dos dados"
   ],
   "metadata": {
    "collapsed": false
   },
   "id": "f8e20965d55c3ea0"
  },
  {
   "cell_type": "code",
   "outputs": [
    {
     "ename": "ValueError",
     "evalue": "x and y must be the same size",
     "output_type": "error",
     "traceback": [
      "\u001B[1;31m---------------------------------------------------------------------------\u001B[0m",
      "\u001B[1;31mValueError\u001B[0m                                Traceback (most recent call last)",
      "Cell \u001B[1;32mIn[6], line 1\u001B[0m\n\u001B[1;32m----> 1\u001B[0m \u001B[43mplt\u001B[49m\u001B[38;5;241;43m.\u001B[39;49m\u001B[43mscatter\u001B[49m\u001B[43m(\u001B[49m\u001B[43msampleyears1\u001B[49m\u001B[43m,\u001B[49m\u001B[43m \u001B[49m\u001B[43mdados_HU\u001B[49m\u001B[43m)\u001B[49m\n",
      "File \u001B[1;32mD:\\Desenvolvimento\\Repositorios\\pessoais\\anadi_2024\\venv\\Lib\\site-packages\\matplotlib\\pyplot.py:3699\u001B[0m, in \u001B[0;36mscatter\u001B[1;34m(x, y, s, c, marker, cmap, norm, vmin, vmax, alpha, linewidths, edgecolors, plotnonfinite, data, **kwargs)\u001B[0m\n\u001B[0;32m   3680\u001B[0m \u001B[38;5;129m@_copy_docstring_and_deprecators\u001B[39m(Axes\u001B[38;5;241m.\u001B[39mscatter)\n\u001B[0;32m   3681\u001B[0m \u001B[38;5;28;01mdef\u001B[39;00m \u001B[38;5;21mscatter\u001B[39m(\n\u001B[0;32m   3682\u001B[0m     x: \u001B[38;5;28mfloat\u001B[39m \u001B[38;5;241m|\u001B[39m ArrayLike,\n\u001B[1;32m   (...)\u001B[0m\n\u001B[0;32m   3697\u001B[0m     \u001B[38;5;241m*\u001B[39m\u001B[38;5;241m*\u001B[39mkwargs,\n\u001B[0;32m   3698\u001B[0m ) \u001B[38;5;241m-\u001B[39m\u001B[38;5;241m>\u001B[39m PathCollection:\n\u001B[1;32m-> 3699\u001B[0m     __ret \u001B[38;5;241m=\u001B[39m \u001B[43mgca\u001B[49m\u001B[43m(\u001B[49m\u001B[43m)\u001B[49m\u001B[38;5;241;43m.\u001B[39;49m\u001B[43mscatter\u001B[49m\u001B[43m(\u001B[49m\n\u001B[0;32m   3700\u001B[0m \u001B[43m        \u001B[49m\u001B[43mx\u001B[49m\u001B[43m,\u001B[49m\n\u001B[0;32m   3701\u001B[0m \u001B[43m        \u001B[49m\u001B[43my\u001B[49m\u001B[43m,\u001B[49m\n\u001B[0;32m   3702\u001B[0m \u001B[43m        \u001B[49m\u001B[43ms\u001B[49m\u001B[38;5;241;43m=\u001B[39;49m\u001B[43ms\u001B[49m\u001B[43m,\u001B[49m\n\u001B[0;32m   3703\u001B[0m \u001B[43m        \u001B[49m\u001B[43mc\u001B[49m\u001B[38;5;241;43m=\u001B[39;49m\u001B[43mc\u001B[49m\u001B[43m,\u001B[49m\n\u001B[0;32m   3704\u001B[0m \u001B[43m        \u001B[49m\u001B[43mmarker\u001B[49m\u001B[38;5;241;43m=\u001B[39;49m\u001B[43mmarker\u001B[49m\u001B[43m,\u001B[49m\n\u001B[0;32m   3705\u001B[0m \u001B[43m        \u001B[49m\u001B[43mcmap\u001B[49m\u001B[38;5;241;43m=\u001B[39;49m\u001B[43mcmap\u001B[49m\u001B[43m,\u001B[49m\n\u001B[0;32m   3706\u001B[0m \u001B[43m        \u001B[49m\u001B[43mnorm\u001B[49m\u001B[38;5;241;43m=\u001B[39;49m\u001B[43mnorm\u001B[49m\u001B[43m,\u001B[49m\n\u001B[0;32m   3707\u001B[0m \u001B[43m        \u001B[49m\u001B[43mvmin\u001B[49m\u001B[38;5;241;43m=\u001B[39;49m\u001B[43mvmin\u001B[49m\u001B[43m,\u001B[49m\n\u001B[0;32m   3708\u001B[0m \u001B[43m        \u001B[49m\u001B[43mvmax\u001B[49m\u001B[38;5;241;43m=\u001B[39;49m\u001B[43mvmax\u001B[49m\u001B[43m,\u001B[49m\n\u001B[0;32m   3709\u001B[0m \u001B[43m        \u001B[49m\u001B[43malpha\u001B[49m\u001B[38;5;241;43m=\u001B[39;49m\u001B[43malpha\u001B[49m\u001B[43m,\u001B[49m\n\u001B[0;32m   3710\u001B[0m \u001B[43m        \u001B[49m\u001B[43mlinewidths\u001B[49m\u001B[38;5;241;43m=\u001B[39;49m\u001B[43mlinewidths\u001B[49m\u001B[43m,\u001B[49m\n\u001B[0;32m   3711\u001B[0m \u001B[43m        \u001B[49m\u001B[43medgecolors\u001B[49m\u001B[38;5;241;43m=\u001B[39;49m\u001B[43medgecolors\u001B[49m\u001B[43m,\u001B[49m\n\u001B[0;32m   3712\u001B[0m \u001B[43m        \u001B[49m\u001B[43mplotnonfinite\u001B[49m\u001B[38;5;241;43m=\u001B[39;49m\u001B[43mplotnonfinite\u001B[49m\u001B[43m,\u001B[49m\n\u001B[0;32m   3713\u001B[0m \u001B[43m        \u001B[49m\u001B[38;5;241;43m*\u001B[39;49m\u001B[38;5;241;43m*\u001B[39;49m\u001B[43m(\u001B[49m\u001B[43m{\u001B[49m\u001B[38;5;124;43m\"\u001B[39;49m\u001B[38;5;124;43mdata\u001B[39;49m\u001B[38;5;124;43m\"\u001B[39;49m\u001B[43m:\u001B[49m\u001B[43m \u001B[49m\u001B[43mdata\u001B[49m\u001B[43m}\u001B[49m\u001B[43m \u001B[49m\u001B[38;5;28;43;01mif\u001B[39;49;00m\u001B[43m \u001B[49m\u001B[43mdata\u001B[49m\u001B[43m \u001B[49m\u001B[38;5;129;43;01mis\u001B[39;49;00m\u001B[43m \u001B[49m\u001B[38;5;129;43;01mnot\u001B[39;49;00m\u001B[43m \u001B[49m\u001B[38;5;28;43;01mNone\u001B[39;49;00m\u001B[43m \u001B[49m\u001B[38;5;28;43;01melse\u001B[39;49;00m\u001B[43m \u001B[49m\u001B[43m{\u001B[49m\u001B[43m}\u001B[49m\u001B[43m)\u001B[49m\u001B[43m,\u001B[49m\n\u001B[0;32m   3714\u001B[0m \u001B[43m        \u001B[49m\u001B[38;5;241;43m*\u001B[39;49m\u001B[38;5;241;43m*\u001B[39;49m\u001B[43mkwargs\u001B[49m\u001B[43m,\u001B[49m\n\u001B[0;32m   3715\u001B[0m \u001B[43m    \u001B[49m\u001B[43m)\u001B[49m\n\u001B[0;32m   3716\u001B[0m     sci(__ret)\n\u001B[0;32m   3717\u001B[0m     \u001B[38;5;28;01mreturn\u001B[39;00m __ret\n",
      "File \u001B[1;32mD:\\Desenvolvimento\\Repositorios\\pessoais\\anadi_2024\\venv\\Lib\\site-packages\\matplotlib\\__init__.py:1478\u001B[0m, in \u001B[0;36m_preprocess_data.<locals>.inner\u001B[1;34m(ax, data, *args, **kwargs)\u001B[0m\n\u001B[0;32m   1475\u001B[0m \u001B[38;5;129m@functools\u001B[39m\u001B[38;5;241m.\u001B[39mwraps(func)\n\u001B[0;32m   1476\u001B[0m \u001B[38;5;28;01mdef\u001B[39;00m \u001B[38;5;21minner\u001B[39m(ax, \u001B[38;5;241m*\u001B[39margs, data\u001B[38;5;241m=\u001B[39m\u001B[38;5;28;01mNone\u001B[39;00m, \u001B[38;5;241m*\u001B[39m\u001B[38;5;241m*\u001B[39mkwargs):\n\u001B[0;32m   1477\u001B[0m     \u001B[38;5;28;01mif\u001B[39;00m data \u001B[38;5;129;01mis\u001B[39;00m \u001B[38;5;28;01mNone\u001B[39;00m:\n\u001B[1;32m-> 1478\u001B[0m         \u001B[38;5;28;01mreturn\u001B[39;00m \u001B[43mfunc\u001B[49m\u001B[43m(\u001B[49m\u001B[43max\u001B[49m\u001B[43m,\u001B[49m\u001B[43m \u001B[49m\u001B[38;5;241;43m*\u001B[39;49m\u001B[38;5;28;43mmap\u001B[39;49m\u001B[43m(\u001B[49m\u001B[43msanitize_sequence\u001B[49m\u001B[43m,\u001B[49m\u001B[43m \u001B[49m\u001B[43margs\u001B[49m\u001B[43m)\u001B[49m\u001B[43m,\u001B[49m\u001B[43m \u001B[49m\u001B[38;5;241;43m*\u001B[39;49m\u001B[38;5;241;43m*\u001B[39;49m\u001B[43mkwargs\u001B[49m\u001B[43m)\u001B[49m\n\u001B[0;32m   1480\u001B[0m     bound \u001B[38;5;241m=\u001B[39m new_sig\u001B[38;5;241m.\u001B[39mbind(ax, \u001B[38;5;241m*\u001B[39margs, \u001B[38;5;241m*\u001B[39m\u001B[38;5;241m*\u001B[39mkwargs)\n\u001B[0;32m   1481\u001B[0m     auto_label \u001B[38;5;241m=\u001B[39m (bound\u001B[38;5;241m.\u001B[39marguments\u001B[38;5;241m.\u001B[39mget(label_namer)\n\u001B[0;32m   1482\u001B[0m                   \u001B[38;5;129;01mor\u001B[39;00m bound\u001B[38;5;241m.\u001B[39mkwargs\u001B[38;5;241m.\u001B[39mget(label_namer))\n",
      "File \u001B[1;32mD:\\Desenvolvimento\\Repositorios\\pessoais\\anadi_2024\\venv\\Lib\\site-packages\\matplotlib\\axes\\_axes.py:4655\u001B[0m, in \u001B[0;36mAxes.scatter\u001B[1;34m(self, x, y, s, c, marker, cmap, norm, vmin, vmax, alpha, linewidths, edgecolors, plotnonfinite, **kwargs)\u001B[0m\n\u001B[0;32m   4653\u001B[0m y \u001B[38;5;241m=\u001B[39m np\u001B[38;5;241m.\u001B[39mma\u001B[38;5;241m.\u001B[39mravel(y)\n\u001B[0;32m   4654\u001B[0m \u001B[38;5;28;01mif\u001B[39;00m x\u001B[38;5;241m.\u001B[39msize \u001B[38;5;241m!=\u001B[39m y\u001B[38;5;241m.\u001B[39msize:\n\u001B[1;32m-> 4655\u001B[0m     \u001B[38;5;28;01mraise\u001B[39;00m \u001B[38;5;167;01mValueError\u001B[39;00m(\u001B[38;5;124m\"\u001B[39m\u001B[38;5;124mx and y must be the same size\u001B[39m\u001B[38;5;124m\"\u001B[39m)\n\u001B[0;32m   4657\u001B[0m \u001B[38;5;28;01mif\u001B[39;00m s \u001B[38;5;129;01mis\u001B[39;00m \u001B[38;5;28;01mNone\u001B[39;00m:\n\u001B[0;32m   4658\u001B[0m     s \u001B[38;5;241m=\u001B[39m (\u001B[38;5;241m20\u001B[39m \u001B[38;5;28;01mif\u001B[39;00m mpl\u001B[38;5;241m.\u001B[39mrcParams[\u001B[38;5;124m'\u001B[39m\u001B[38;5;124m_internal.classic_mode\u001B[39m\u001B[38;5;124m'\u001B[39m] \u001B[38;5;28;01melse\u001B[39;00m\n\u001B[0;32m   4659\u001B[0m          mpl\u001B[38;5;241m.\u001B[39mrcParams[\u001B[38;5;124m'\u001B[39m\u001B[38;5;124mlines.markersize\u001B[39m\u001B[38;5;124m'\u001B[39m] \u001B[38;5;241m*\u001B[39m\u001B[38;5;241m*\u001B[39m \u001B[38;5;241m2.0\u001B[39m)\n",
      "\u001B[1;31mValueError\u001B[0m: x and y must be the same size"
     ]
    },
    {
     "data": {
      "text/plain": "<Figure size 640x480 with 1 Axes>",
      "image/png": "[encoded data removed]"
     },
     "metadata": {},
     "output_type": "display_data"
    }
   ],
   "source": [
    "plt.scatter(sampleyears3, dados_HU)"
   ],
   "metadata": {
    "collapsed": false,
    "ExecuteTime": {
     "end_time": "2024-03-28T11:46:16.862121Z",
     "start_time": "2024-03-28T11:46:15.639317Z"
    }
   },
   "id": "315a61b568336b4e",
   "execution_count": 6
  },
  {
   "cell_type": "code",
   "outputs": [],
   "source": [
    "plt.scatter(sampleyears2, dados_PT)"
   ],
   "metadata": {
    "collapsed": false,
    "ExecuteTime": {
     "end_time": "2024-03-28T11:46:16.863129Z",
     "start_time": "2024-03-28T11:46:16.863129Z"
    }
   },
   "id": "9ee3763b037917e",
   "execution_count": null
  },
  {
   "cell_type": "markdown",
   "source": [
    "# Cálcular a média amostral"
   ],
   "metadata": {
    "collapsed": false
   },
   "id": "336193f9e4cd4c19"
  },
  {
   "cell_type": "code",
   "outputs": [
    {
     "name": "stdout",
     "output_type": "stream",
     "text": [
      "Média amostral de Portugal: 107052355677.09091\n",
      "Média amostral da Hungria: 104133201715.2\n"
     ]
    }
   ],
   "source": [
    "# Média amostral de Portugal.\n",
    "media_PT = dados_PT.mean(axis=0)\n",
    "print(f\"Média amostral de Portugal: {media_PT}\")\n",
    "\n",
    "# Média amostral da Hungria.\n",
    "media_HU = dados_HU.mean(axis=0)\n",
    "print(f\"Média amostral da Hungria: {media_HU}\")"
   ],
   "metadata": {
    "collapsed": false,
    "ExecuteTime": {
     "end_time": "2024-03-28T11:52:28.223060Z",
     "start_time": "2024-03-28T11:52:28.219605Z"
    }
   },
   "id": "d5bad3a67283b172",
   "execution_count": 8
  },
  {
   "cell_type": "markdown",
   "source": [
    "# Calcular a variância"
   ],
   "metadata": {
    "collapsed": false
   },
   "id": "487b799295dd0907"
  },
  {
   "cell_type": "code",
   "outputs": [
    {
     "name": "stdout",
     "output_type": "stream",
     "text": [
      "Variância para os dados de Portugal: 8.133054978962774e+21\n",
      "Variância para os dados de Hungria: 5.623953364238139e+21\n"
     ]
    }
   ],
   "source": [
    "variancia_PT = dados_PT.var(axis=0)\n",
    "print(f\"Variância para os dados de Portugal: {variancia_PT}\")\n",
    "variancia_HU = dados_HU.var(axis=0)\n",
    "print(f\"Variância para os dados de Hungria: {variancia_HU}\")"
   ],
   "metadata": {
    "collapsed": false,
    "ExecuteTime": {
     "end_time": "2024-03-28T11:52:32.281271Z",
     "start_time": "2024-03-28T11:52:32.277257Z"
    }
   },
   "id": "99ad6c1b87651283",
   "execution_count": 9
  },
  {
   "cell_type": "markdown",
   "source": [
    "# Normalidade\n",
    "\n",
    "O teste à normalidade *stats.normaltest()* é para amostras de dimensão superior a 20.\n",
    "Temos de utilizar *stats.shapiro()* "
   ],
   "metadata": {
    "collapsed": false
   },
   "id": "af90d05171b0d518"
  },
  {
   "cell_type": "code",
   "outputs": [
    {
     "name": "stdout",
     "output_type": "stream",
     "text": [
      "Portugal - pvalue: 0.1150248022001375\n",
      "Hungria - pvalue: 0.18750692545336695\n"
     ]
    }
   ],
   "source": [
    "statval_PT, p_value_PT = stats.shapiro(dados_PT)\n",
    "print(f\"Portugal - pvalue: {p_value_PT}\")\n",
    "\n",
    "statval_HU, p_value_HU = stats.shapiro(dados_HU)\n",
    "print(f\"Hungria - pvalue: {p_value_HU}\")\n"
   ],
   "metadata": {
    "collapsed": false,
    "ExecuteTime": {
     "end_time": "2024-03-28T11:55:20.178830Z",
     "start_time": "2024-03-28T11:55:20.174829Z"
    }
   },
   "id": "65cc8c83ff7677c9",
   "execution_count": 12
  },
  {
   "cell_type": "markdown",
   "source": [
    "Como o *p-value* de Portugal é inferior a 5% os dados seguem distribuição normal.\n",
    "Como o *p-value* da Hungria é superior a 5% os dados seguem distribuição normal. "
   ],
   "metadata": {
    "collapsed": false
   },
   "id": "d55d641e11750afa"
  },
  {
   "cell_type": "markdown",
   "source": [
    "# Teste\n",
    "Utilizaçao de *One-Way ANova* à média, para amostras não emparelhadas, de tamanho reduzido, mas com distribuição normal.\n",
    "\n",
    "## Hipotese\n",
    "\n",
    "$$H_0: \\mu_PT   \\geq     \\mu_HU$  Vs  $H_0: \\mu_PT   <     \\mu_HU$$\n",
    "\n",
    " # Levene"
   ],
   "metadata": {
    "collapsed": false
   },
   "id": "61da15788345a65d"
  },
  {
   "cell_type": "code",
   "outputs": [],
   "source": [],
   "metadata": {
    "collapsed": false
   },
   "id": "520e0cc7277daa2e"
  },
  {
   "cell_type": "code",
   "outputs": [],
   "source": [
    "...\n",
    "\n",
    "\n",
    "print(f\"O valor de pvalue é {resultado.pvalue}\")"
   ],
   "metadata": {
    "collapsed": false,
    "ExecuteTime": {
     "start_time": "2024-03-28T11:46:16.865649Z"
    }
   },
   "id": "bcb333c50499c2d6",
   "execution_count": null
  },
  {
   "cell_type": "markdown",
   "source": [],
   "metadata": {
    "collapsed": false
   },
   "id": "47b269b9260798f6"
  },
  {
   "cell_type": "code",
   "outputs": [],
   "source": [],
   "metadata": {
    "collapsed": false,
    "ExecuteTime": {
     "start_time": "2024-03-28T11:46:16.866648Z"
    }
   },
   "id": "63feb0b24cdeccc3",
   "execution_count": null
  }
 ],
 "metadata": {
  "kernelspec": {
   "display_name": "Python 3",
   "language": "python",
   "name": "python3"
  },
  "language_info": {
   "codemirror_mode": {
    "name": "ipython",
    "version": 2
   },
   "file_extension": ".py",
   "mimetype": "text/x-python",
   "name": "python",
   "nbconvert_exporter": "python",
   "pygments_lexer": "ipython2",
   "version": "2.7.6"
  }
 },
 "nbformat": 4,
 "nbformat_minor": 5
}
