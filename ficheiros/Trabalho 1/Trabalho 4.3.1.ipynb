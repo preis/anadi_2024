{
 "cells": [
  {
   "cell_type": "markdown",
   "source": [
    "# 4.3\n",
    "## 1.\n",
    "### Imports"
   ],
   "metadata": {
    "collapsed": false
   },
   "id": "ec06f358ace34aca"
  },
  {
   "cell_type": "code",
   "outputs": [],
   "source": [
    "import pandas as pd\n",
    "import numpy as np\n",
    "import scipy.stats as stats\n",
    "import matplotlib.pyplot as plt"
   ],
   "metadata": {
    "collapsed": false,
    "ExecuteTime": {
     "end_time": "2024-03-29T23:03:47.105693Z",
     "start_time": "2024-03-29T23:03:41.410042Z"
    }
   },
   "id": "d7a5fa0b43c5c699",
   "execution_count": 18
  },
  {
   "cell_type": "markdown",
   "source": [
    "### Ler os dados"
   ],
   "metadata": {
    "collapsed": false
   },
   "id": "8aa7f67b3cae872a"
  },
  {
   "cell_type": "code",
   "outputs": [],
   "source": [
    "dados_lidos = pd.read_csv(\"CO_data.csv\")"
   ],
   "metadata": {
    "collapsed": false,
    "ExecuteTime": {
     "end_time": "2024-03-29T22:24:57.767289Z",
     "start_time": "2024-03-29T22:24:57.742781Z"
    }
   },
   "id": "7bbd12090a1b203d",
   "execution_count": 2
  },
  {
   "cell_type": "markdown",
   "source": [
    "### Variáveis"
   ],
   "metadata": {
    "collapsed": false
   },
   "id": "e29f0d9e7d1b500e"
  },
  {
   "cell_type": "code",
   "outputs": [],
   "source": [
    "# Listas de paises e anos\n",
    "areas_geo = [\"Africa\", \"Asia\", \"South America\", \"North America\", \"Europe\", \"Oceania\"]\n",
    "anos = list(range(2000, 2022))\n",
    "\n",
    "# Definição das condições de filtragem.\n",
    "condicao_anos = dados_lidos[\"year\"].isin(anos)"
   ],
   "metadata": {
    "collapsed": false,
    "ExecuteTime": {
     "end_time": "2024-03-29T22:24:57.771748Z",
     "start_time": "2024-03-29T22:24:57.767289Z"
    }
   },
   "id": "84aaa3cf60d30818",
   "execution_count": 3
  },
  {
   "cell_type": "markdown",
   "source": [
    "### Obter dados dos anos pretendidos para as áreas geográficas em estudo."
   ],
   "metadata": {
    "collapsed": false
   },
   "id": "6fa676a1815af4d9"
  },
  {
   "cell_type": "code",
   "outputs": [],
   "source": [
    "dados_areas_geo = {}\n",
    "\n",
    "for area_geo in areas_geo:\n",
    "    condicao_area_geo = dados_lidos.country == area_geo\n",
    "    dados_areas_geo[area_geo] = list(dados_lidos.loc[condicao_anos & condicao_area_geo, [\"co2\"]][\"co2\"])\n",
    "\n",
    "dados_trabalho = pd.DataFrame(dados_areas_geo)\n",
    "# dados_trabalho.insert(0, \"year\", anos)"
   ],
   "metadata": {
    "collapsed": false,
    "ExecuteTime": {
     "end_time": "2024-03-29T22:59:45.951538Z",
     "start_time": "2024-03-29T22:59:45.938160Z"
    }
   },
   "id": "ed840876c89ed4e2",
   "execution_count": 12
  },
  {
   "cell_type": "markdown",
   "source": [
    "### Verificação dos pressupostos\n",
    "\n",
    "As variáveis (\"Emissão de $CO_2$ de carvão\") são contínuas.\n",
    "Não existem outliers (ver Boxplot abaixo).\n",
    "Existe relação linear, porque dizem respeito ao mesmo intervalo de tempo (anos). "
   ],
   "metadata": {
    "collapsed": false
   },
   "id": "fef22a8e9c7258f4"
  },
  {
   "cell_type": "markdown",
   "source": [
    "#### Homocedasticidade (Variâncias iguais)"
   ],
   "metadata": {
    "collapsed": false
   },
   "id": "c4cde21ea96966f3"
  },
  {
   "cell_type": "code",
   "outputs": [
    {
     "data": {
      "text/plain": "Africa           3.411273e+04\nAsia             1.674446e+07\nSouth America    1.720569e+04\nNorth America    1.656231e+05\nEurope           1.866400e+05\nOceania          4.835625e+02\ndtype: float64"
     },
     "execution_count": 13,
     "metadata": {},
     "output_type": "execute_result"
    }
   ],
   "source": [
    "dados_trabalho.var(axis=0)"
   ],
   "metadata": {
    "collapsed": false,
    "ExecuteTime": {
     "end_time": "2024-03-29T22:59:48.934289Z",
     "start_time": "2024-03-29T22:59:48.929881Z"
    }
   },
   "id": "c04b7965a4b15538",
   "execution_count": 13
  },
  {
   "cell_type": "markdown",
   "source": [
    "#### Normalidade (shapiro)"
   ],
   "metadata": {
    "collapsed": false
   },
   "id": "446f19b2c494a8aa"
  },
  {
   "cell_type": "code",
   "outputs": [
    {
     "data": {
      "text/plain": "ShapiroResult(statistic=0.7802441599602413, pvalue=8.731688749385906e-13)"
     },
     "execution_count": 19,
     "metadata": {},
     "output_type": "execute_result"
    }
   ],
   "source": [
    "stats.shapiro(dados_trabalho)"
   ],
   "metadata": {
    "collapsed": false,
    "ExecuteTime": {
     "end_time": "2024-03-29T23:03:47.110717Z",
     "start_time": "2024-03-29T23:03:47.106698Z"
    }
   },
   "id": "7b94fc18f725f18",
   "execution_count": 19
  },
  {
   "cell_type": "markdown",
   "source": [
    "#### Boxplot"
   ],
   "metadata": {
    "collapsed": false
   },
   "id": "5863b37904b36b11"
  },
  {
   "cell_type": "code",
   "outputs": [
    {
     "name": "stderr",
     "output_type": "stream",
     "text": [
      "C:\\Users\\paulo\\AppData\\Local\\Temp\\ipykernel_34764\\4192385510.py:6: UserWarning: FigureCanvasAgg is non-interactive, and thus cannot be shown\n",
      "  fig_bp.show()\n"
     ]
    },
    {
     "data": {
      "text/plain": "<Figure size 640x480 with 1 Axes>",
      "image/png": "[encoded data removed]"
     },
     "metadata": {},
     "output_type": "display_data"
    }
   ],
   "source": [
    "fig_bp, ax_bp = plt.subplots()\n",
    "emissoes_areas_geo = list(dados_areas_geo.values())\n",
    "# boxplot = ax_bp.boxplot(emissoes_areas_geo, labels=areas_geo)\n",
    "boxplot = ax_bp.boxplot(dados_trabalho, labels=areas_geo)\n",
    "ax_bp.set_title(r\"Emissão CO$_2$ (milhões de toneladas)\")\n",
    "fig_bp.show()\n"
   ],
   "metadata": {
    "collapsed": false,
    "ExecuteTime": {
     "end_time": "2024-03-29T23:00:24.317490Z",
     "start_time": "2024-03-29T23:00:24.217123Z"
    }
   },
   "id": "e1ddb0ce7659c7cf",
   "execution_count": 16
  },
  {
   "cell_type": "markdown",
   "source": [
    "### Tabela de correlação"
   ],
   "metadata": {
    "collapsed": false
   },
   "id": "f8e20965d55c3ea0"
  },
  {
   "cell_type": "code",
   "outputs": [],
   "source": [],
   "metadata": {
    "collapsed": false
   },
   "id": "aa56b1e643ec378a"
  },
  {
   "cell_type": "code",
   "outputs": [],
   "source": [],
   "metadata": {
    "collapsed": false
   },
   "id": "b52fdccbe5e16ee5"
  },
  {
   "cell_type": "code",
   "outputs": [],
   "source": [],
   "metadata": {
    "collapsed": false
   },
   "id": "7a57a701d33a2960"
  },
  {
   "cell_type": "markdown",
   "source": [],
   "metadata": {
    "collapsed": false
   },
   "id": "8b6a9914024c0e9a"
  },
  {
   "cell_type": "markdown",
   "source": [],
   "metadata": {
    "collapsed": false
   },
   "id": "8b1379d61a0b92c2"
  }
 ],
 "metadata": {
  "kernelspec": {
   "display_name": "Python 3",
   "language": "python",
   "name": "python3"
  },
  "language_info": {
   "codemirror_mode": {
    "name": "ipython",
    "version": 2
   },
   "file_extension": ".py",
   "mimetype": "text/x-python",
   "name": "python",
   "nbconvert_exporter": "python",
   "pygments_lexer": "ipython2",
   "version": "2.7.6"
  }
 },
 "nbformat": 4,
 "nbformat_minor": 5
}
